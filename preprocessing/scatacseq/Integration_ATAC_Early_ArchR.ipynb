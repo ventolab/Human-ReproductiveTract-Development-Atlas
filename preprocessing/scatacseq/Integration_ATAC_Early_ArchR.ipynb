{
 "cells": [
  {
   "cell_type": "markdown",
   "id": "amino-refund",
   "metadata": {},
   "source": [
    "## Integration of early male and female samples (<= 10 PCW)"
   ]
  },
  {
   "cell_type": "code",
   "execution_count": null,
   "id": "rubber-edwards",
   "metadata": {},
   "outputs": [],
   "source": [
    "suppressPackageStartupMessages(library(ArchR))\n",
    "library(argparse)\n",
    "library(ArchR)\n",
    "library(parallel)"
   ]
  },
  {
   "cell_type": "markdown",
   "id": "alike-spirituality",
   "metadata": {},
   "source": [
    "### 1. Create ArchR Project file from Arrow files generated with nextflow pipeline"
   ]
  },
  {
   "cell_type": "code",
   "execution_count": null,
   "id": "liked-score",
   "metadata": {},
   "outputs": [],
   "source": [
    "addArchRGenome(\"hg38\")"
   ]
  },
  {
   "cell_type": "code",
   "execution_count": null,
   "id": "horizontal-storage",
   "metadata": {},
   "outputs": [],
   "source": [
    "packageVersion(\"matrixStats\")"
   ]
  },
  {
   "cell_type": "code",
   "execution_count": null,
   "id": "representative-bloom",
   "metadata": {},
   "outputs": [],
   "source": []
  },
  {
   "cell_type": "markdown",
   "id": "binding-average",
   "metadata": {},
   "source": [
    "#### Save sample-level metadata that comes from analysing each sample independently "
   ]
  },
  {
   "cell_type": "code",
   "execution_count": null,
   "id": "supposed-benchmark",
   "metadata": {},
   "outputs": [],
   "source": [
    "data_dir <- \"/nfs/team292/vl6/FetalReproductiveTract/ATAC_QC/ArchR/\" "
   ]
  },
  {
   "cell_type": "code",
   "execution_count": null,
   "id": "front-florida",
   "metadata": {},
   "outputs": [],
   "source": [
    "HD_F_GON13254251_meta <- read.csv(paste0(data_dir, \"HD_F_GON13254251/HD_F_GON13254251_metadata.csv\"), row.names = 'X')\n",
    "dim(HD_F_GON13254251_meta)"
   ]
  },
  {
   "cell_type": "code",
   "execution_count": null,
   "id": "special-cowboy",
   "metadata": {},
   "outputs": [],
   "source": [
    "HD_F_GON13254249_meta <- read.csv(paste0(data_dir, \"HD_F_GON13254249/HD_F_GON13254249_metadata.csv\"), row.names = 'X')\n",
    "print(dim(HD_F_GON13254249_meta))"
   ]
  },
  {
   "cell_type": "code",
   "execution_count": null,
   "id": "egyptian-estate",
   "metadata": {},
   "outputs": [],
   "source": [
    "head(row.names(HD_F_GON13254249_meta))"
   ]
  },
  {
   "cell_type": "code",
   "execution_count": null,
   "id": "hollow-torture",
   "metadata": {},
   "outputs": [],
   "source": [
    "colnames(HD_F_GON13254249_meta)"
   ]
  },
  {
   "cell_type": "code",
   "execution_count": null,
   "id": "moderate-compression",
   "metadata": {},
   "outputs": [],
   "source": [
    "HD_F_GON12877981_meta <- read.csv(paste0(data_dir, \"HD_F_GON12877981/HD_F_GON12877981_metadata.csv\"), row.names = 'X')\n",
    "print(dim(HD_F_GON12877981_meta))"
   ]
  },
  {
   "cell_type": "code",
   "execution_count": null,
   "id": "postal-sleep",
   "metadata": {},
   "outputs": [],
   "source": [
    "HD_F_GON13254253_meta <- read.csv(paste0(data_dir, \"HD_F_GON13254253/HD_F_GON13254253_metadata.csv\"), row.names = 'X')\n",
    "print(dim(HD_F_GON13254253_meta))"
   ]
  },
  {
   "cell_type": "code",
   "execution_count": null,
   "id": "interracial-device",
   "metadata": {},
   "outputs": [],
   "source": [
    "HD_F_GON13654400_meta <- read.csv(paste0(data_dir, \"HD_F_GON13654400/HD_F_GON13654400_metadata.csv\"), row.names = 'X')\n",
    "print(dim(HD_F_GON13654400_meta))\n"
   ]
  },
  {
   "cell_type": "code",
   "execution_count": null,
   "id": "wicked-google",
   "metadata": {},
   "outputs": [],
   "source": [
    "HD_F_GON14609875_meta <- read.csv(paste0(data_dir, \"HD_F_GON14609875/HD_F_GON14609875_metadata.csv\"), row.names = 'X')\n",
    "print(dim(HD_F_GON14609875_meta))\n"
   ]
  },
  {
   "cell_type": "code",
   "execution_count": null,
   "id": "opposite-throw",
   "metadata": {},
   "outputs": [],
   "source": [
    "HD_F_GON14524656_meta <- read.csv(paste0(data_dir, \"HD_F_GON14524656/HD_F_GON14524656_metadata.csv\"), row.names = 'X')\n",
    "print(dim(HD_F_GON14609875_meta))"
   ]
  },
  {
   "cell_type": "code",
   "execution_count": null,
   "id": "continued-friendly",
   "metadata": {},
   "outputs": [],
   "source": [
    "data_dir"
   ]
  },
  {
   "cell_type": "code",
   "execution_count": null,
   "id": "wicked-edinburgh",
   "metadata": {},
   "outputs": [],
   "source": [
    "HD_F_GON13654401_meta <- read.csv(paste0(data_dir, \"HD_F_GON13654401/HD_F_GON13654401_metadata.csv\"), row.names = 'X')\n",
    "print(dim(HD_F_GON13654401_meta))"
   ]
  },
  {
   "cell_type": "code",
   "execution_count": null,
   "id": "wireless-humidity",
   "metadata": {},
   "outputs": [],
   "source": [
    "head(row.names(HD_F_GON13654401_meta))"
   ]
  },
  {
   "cell_type": "code",
   "execution_count": null,
   "id": "regulation-northwest",
   "metadata": {},
   "outputs": [],
   "source": [
    "colnames(HD_F_GON13654401_meta)"
   ]
  },
  {
   "cell_type": "code",
   "execution_count": null,
   "id": "alert-avenue",
   "metadata": {},
   "outputs": [],
   "source": [
    "HD_F_GON13149227_and_HD_F_GON13188002_meta <- read.csv(paste0(data_dir, \"HD_F_GON13149227_and_HD_F_GON13188002/HD_F_GON13149227_and_HD_F_GON13188002_metadata.csv\"), row.names = 'X')\n",
    "print(dim(HD_F_GON13149227_and_HD_F_GON13188002_meta))"
   ]
  },
  {
   "cell_type": "code",
   "execution_count": null,
   "id": "bronze-victim",
   "metadata": {},
   "outputs": [],
   "source": [
    "colnames(HD_F_GON13149227_and_HD_F_GON13188002_meta)"
   ]
  },
  {
   "cell_type": "code",
   "execution_count": null,
   "id": "guilty-bankruptcy",
   "metadata": {},
   "outputs": [],
   "source": [
    "HD_F_GON12296727_and_HD_F_GON12220625_meta <- read.csv(paste0(data_dir, \"HD_F_GON12296727_and_HD_F_GON12220625/HD_F_GON12296727_and_HD_F_GON12220625_metadata.csv\"),\n",
    "                                                             row.names = 'X')\n",
    "print(dim(HD_F_GON12296727_and_HD_F_GON12220625_meta))\n"
   ]
  },
  {
   "cell_type": "code",
   "execution_count": null,
   "id": "formal-communist",
   "metadata": {},
   "outputs": [],
   "source": [
    "colnames(HD_F_GON12296727_and_HD_F_GON12220625_meta)"
   ]
  },
  {
   "cell_type": "code",
   "execution_count": null,
   "id": "considered-helping",
   "metadata": {},
   "outputs": [],
   "source": [
    "metadata <- do.call(\"rbind\", list(HD_F_GON13254249_meta, HD_F_GON13254251_meta, HD_F_GON13654401_meta, \n",
    "                                  HD_F_GON14524656_meta, HD_F_GON14609875_meta, HD_F_GON13654400_meta, \n",
    "                                  HD_F_GON13254253_meta, HD_F_GON12877981_meta, \n",
    "                                 HD_F_GON13149227_and_HD_F_GON13188002_meta, HD_F_GON12296727_and_HD_F_GON12220625_meta))\n",
    "dim(metadata)"
   ]
  },
  {
   "cell_type": "code",
   "execution_count": null,
   "id": "affiliated-physiology",
   "metadata": {},
   "outputs": [],
   "source": [
    "dim(metadata)"
   ]
  },
  {
   "cell_type": "code",
   "execution_count": null,
   "id": "consistent-adaptation",
   "metadata": {},
   "outputs": [],
   "source": [
    "# Early samples   \n",
    "early <- ArchRProject(\n",
    "  ArrowFiles = c(\n",
    "                 '/nfs/team292/vl6/FetalReproductiveTract/ATAC_QC/ArchR/HD_F_GON13254249/HD_F_GON13254249.arrow', \n",
    "                 '/nfs/team292/vl6/FetalReproductiveTract/ATAC_QC/ArchR/HD_F_GON13254251/HD_F_GON13254251.arrow', \n",
    "                 '/nfs/team292/vl6/FetalReproductiveTract/ATAC_QC/ArchR/HD_F_GON13654401/HD_F_GON13654401.arrow', \n",
    "                  '/nfs/team292/vl6/FetalReproductiveTract/ATAC_QC/ArchR/HD_F_GON14524656/HD_F_GON14524656.arrow', \n",
    "      '/nfs/team292/vl6/FetalReproductiveTract/ATAC_QC/ArchR/HD_F_GON14609875/HD_F_GON14609875.arrow', \n",
    "      '/nfs/team292/vl6/FetalReproductiveTract/ATAC_QC/ArchR/HD_F_GON13654400/HD_F_GON13654400.arrow', \n",
    "      '/nfs/team292/vl6/FetalReproductiveTract/ATAC_QC/ArchR/HD_F_GON12877981/HD_F_GON12877981.arrow', \n",
    "      '/nfs/team292/vl6/FetalReproductiveTract/ATAC_QC/ArchR/HD_F_GON13254253/HD_F_GON13254253.arrow', \n",
    "                 '/nfs/team292/vl6/FetalReproductiveTract/ATAC_QC/ArchR/HD_F_GON13149227_and_HD_F_GON13188002/HD_F_GON13149227_and_HD_F_GON13188002.arrow', \n",
    "                '/nfs/team292/vl6/FetalReproductiveTract/ATAC_QC/ArchR/HD_F_GON12296727_and_HD_F_GON12220625/HD_F_GON12296727_and_HD_F_GON12220625.arrow' \n",
    "\n",
    "                ), \n",
    "\n",
    "  outputDirectory = \"/nfs/team292/vl6/FetalReproductiveTract/ATAC_QC/ArchR/early/\",\n",
    "  copyArrows = TRUE #This is recommened so that if you modify the Arrow files you have an original copy for later usage.\n",
    ")"
   ]
  },
  {
   "cell_type": "code",
   "execution_count": null,
   "id": "organic-award",
   "metadata": {},
   "outputs": [],
   "source": [
    "early"
   ]
  },
  {
   "cell_type": "code",
   "execution_count": null,
   "id": "armed-engine",
   "metadata": {},
   "outputs": [],
   "source": [
    "paste0(\"Memory Size = \", round(object.size(early) / 10^6, 3), \" MB\")"
   ]
  },
  {
   "cell_type": "code",
   "execution_count": null,
   "id": "unlimited-treasury",
   "metadata": {},
   "outputs": [],
   "source": [
    "getAvailableMatrices(early)"
   ]
  },
  {
   "cell_type": "code",
   "execution_count": null,
   "id": "classified-rough",
   "metadata": {},
   "outputs": [],
   "source": [
    "2+3"
   ]
  },
  {
   "cell_type": "markdown",
   "id": "still-nepal",
   "metadata": {},
   "source": [
    "### 2. Add sample-level information and filter cells "
   ]
  },
  {
   "cell_type": "code",
   "execution_count": null,
   "id": "fitted-rendering",
   "metadata": {},
   "outputs": [],
   "source": [
    "metadata <- DataFrame(metadata)"
   ]
  },
  {
   "cell_type": "code",
   "execution_count": null,
   "id": "bound-simpson",
   "metadata": {},
   "outputs": [],
   "source": [
    "head(row.names(metadata))"
   ]
  },
  {
   "cell_type": "code",
   "execution_count": null,
   "id": "equipped-owner",
   "metadata": {},
   "outputs": [],
   "source": [
    "early <- early[row.names(metadata)]\n",
    "early@cellColData <- metadata\n",
    "early"
   ]
  },
  {
   "cell_type": "code",
   "execution_count": null,
   "id": "latter-cover",
   "metadata": {},
   "outputs": [],
   "source": [
    "table(early$Sample)"
   ]
  },
  {
   "cell_type": "code",
   "execution_count": null,
   "id": "advisory-sapphire",
   "metadata": {},
   "outputs": [],
   "source": [
    "# Add donor and stage information --> integrate by donor for consistency with scRNA-seq \n",
    "library(dplyr)\n",
    "donor <- case_when(\n",
    "    early$Sample == \"HD_F_GON13149227_and_HD_F_GON13188002\" ~ \"C142\",\n",
    "    early$Sample == \"HD_F_GON13254251\" ~ \"C152\",\n",
    "    early$Sample == \"HD_F_GON13254249\" ~ \"C152\",\n",
    "    early$Sample == \"HD_F_GON12296727_and_HD_F_GON12220625\" ~ \"C106\", \n",
    "     early$Sample == \"HD_F_GON13654400\" ~ \"Hrv220\",\n",
    "     early$Sample == \"HD_F_GON12877981\" ~ \"C118\",\n",
    "     early$Sample == \"HD_F_GON14524656\" ~ \"Hrv243\",\n",
    "     early$Sample == \"HD_F_GON13254253\" ~ \"Hrv201\",\n",
    "     early$Sample == \"HD_F_GON13654401\" ~ \"Hrv217\",\n",
    "     early$Sample == \"HD_F_GON14609875\" ~ \"Hrv254\",\n",
    "    )\n",
    "\n",
    "stage <- case_when(\n",
    "    early$Sample == \"HD_F_GON13149227_and_HD_F_GON13188002\" ~ 6.2,\n",
    "    early$Sample == \"HD_F_GON13254251\" ~ 7.8,\n",
    "    early$Sample == \"HD_F_GON13254249\" ~ 7.8,\n",
    "    early$Sample == \"HD_F_GON12296727_and_HD_F_GON12220625\" ~ 6.6, \n",
    "    early$Sample == \"HD_F_GON13654400\" ~ 10.0,\n",
    "     early$Sample == \"HD_F_GON12877981\" ~ 10.0,\n",
    "     early$Sample == \"HD_F_GON14524656\" ~ 9.0,\n",
    "     early$Sample == \"HD_F_GON13254253\" ~ 9.0,\n",
    "     early$Sample == \"HD_F_GON13654401\" ~ 10.0,\n",
    "     early$Sample == \"HD_F_GON14609875\" ~ 10.0,\n",
    "    )\n",
    "\n",
    "sex <- case_when(\n",
    "    early$Sample == \"HD_F_GON13149227_and_HD_F_GON13188002\" ~ \"female\",\n",
    "    early$Sample == \"HD_F_GON13254251\" ~ \"female\",\n",
    "    early$Sample == \"HD_F_GON13254249\" ~ \"female\",\n",
    "    early$Sample == \"HD_F_GON12296727_and_HD_F_GON12220625\" ~ \"male\",\n",
    "    early$Sample == \"HD_F_GON13654400\" ~ \"female\",\n",
    "     early$Sample == \"HD_F_GON12877981\" ~ \"male\",\n",
    "     early$Sample == \"HD_F_GON14524656\" ~ \"female\",\n",
    "     early$Sample == \"HD_F_GON13254253\" ~ \"female\",\n",
    "     early$Sample == \"HD_F_GON13654401\" ~ \"male\",\n",
    "     early$Sample == \"HD_F_GON14609875\" ~ \"male\",\n",
    "    \n",
    "    )\n",
    "\n",
    "technology <- case_when(\n",
    "    early$Sample == \"HD_F_GON13149227_and_HD_F_GON13188002\" ~ \"MULTIOME\",\n",
    "    early$Sample == \"HD_F_GON13254251\" ~ \"ATAC\",\n",
    "    early$Sample == \"HD_F_GON13254249\" ~ \"ATAC\",\n",
    "    early$Sample == \"HD_F_GON12296727_and_HD_F_GON12220625\" ~ \"MULTIOME\",\n",
    "    early$Sample == \"HD_F_GON13654400\" ~ \"ATAC\",\n",
    "     early$Sample == \"HD_F_GON12877981\" ~ \"ATAC\",\n",
    "     early$Sample == \"HD_F_GON14524656\" ~ \"ATAC\",\n",
    "     early$Sample == \"HD_F_GON13254253\" ~ \"ATAC\",\n",
    "     early$Sample == \"HD_F_GON13654401\" ~ \"ATAC\",\n",
    "     early$Sample == \"HD_F_GON14609875\" ~ \"ATAC\",\n",
    "    )\n",
    "\n",
    "early$donor <- donor \n",
    "early$stage <- stage\n",
    "early$technology <- technology\n",
    "early$sex <- sex"
   ]
  },
  {
   "cell_type": "code",
   "execution_count": null,
   "id": "changing-sense",
   "metadata": {},
   "outputs": [],
   "source": [
    "table(early$donor)"
   ]
  },
  {
   "cell_type": "code",
   "execution_count": null,
   "id": "rational-dairy",
   "metadata": {},
   "outputs": [],
   "source": [
    "table(early$stage)"
   ]
  },
  {
   "cell_type": "code",
   "execution_count": null,
   "id": "acute-plate",
   "metadata": {},
   "outputs": [],
   "source": [
    "table(early$sex)"
   ]
  },
  {
   "cell_type": "code",
   "execution_count": null,
   "id": "tough-reality",
   "metadata": {},
   "outputs": [],
   "source": [
    "table(early$technology)"
   ]
  },
  {
   "cell_type": "markdown",
   "id": "configured-census",
   "metadata": {},
   "source": [
    "### 3. Filter cells with specific TSS enrichment score and Log10(uniqueFragments)"
   ]
  },
  {
   "cell_type": "code",
   "execution_count": null,
   "id": "lined-alabama",
   "metadata": {},
   "outputs": [],
   "source": [
    "df <- getCellColData(early, select = c(\"log10(nFrags)\", \"TSSEnrichment\"))\n",
    "df"
   ]
  },
  {
   "cell_type": "code",
   "execution_count": null,
   "id": "informed-anime",
   "metadata": {},
   "outputs": [],
   "source": [
    "p <- ggPoint(\n",
    "    x = df[,1], \n",
    "    y = df[,2], \n",
    "    colorDensity = TRUE,\n",
    "    continuousSet = \"sambaNight\",\n",
    "    xlabel = \"Log10 Unique Fragments\",\n",
    "    ylabel = \"TSS Enrichment\",\n",
    "    xlim = c(log10(500), quantile(df[,1], probs = 0.99)),\n",
    "    ylim = c(0, quantile(df[,2], probs = 0.99))\n",
    ") + geom_hline(yintercept = 8, lty = \"dashed\") + geom_vline(xintercept = 3.25, lty = \"dashed\")\n",
    "\n",
    "p"
   ]
  },
  {
   "cell_type": "code",
   "execution_count": null,
   "id": "designed-omega",
   "metadata": {},
   "outputs": [],
   "source": [
    "# plotPDF(p, name = \"TSS-vs-Frags.pdf\", \n",
    "#         ArchRProj = early, addDOC = FALSE)"
   ]
  },
  {
   "cell_type": "markdown",
   "id": "alien-illinois",
   "metadata": {},
   "source": [
    "### 4. Plotting sample-level statistics"
   ]
  },
  {
   "cell_type": "code",
   "execution_count": null,
   "id": "acute-talent",
   "metadata": {},
   "outputs": [],
   "source": [
    "p1 <- plotGroups(\n",
    "    ArchRProj = early, \n",
    "    groupBy = \"Sample\", \n",
    "    colorBy = \"cellColData\", \n",
    "    name = \"TSSEnrichment\",\n",
    "    plotAs = \"ridges\"\n",
    "   )\n",
    "p1"
   ]
  },
  {
   "cell_type": "code",
   "execution_count": null,
   "id": "sharp-freeware",
   "metadata": {},
   "outputs": [],
   "source": [
    "p2 <- plotGroups(\n",
    "    ArchRProj = early, \n",
    "    groupBy = \"Sample\", \n",
    "    colorBy = \"cellColData\", \n",
    "    name = \"TSSEnrichment\",\n",
    "    plotAs = \"violin\",\n",
    "    alpha = 0.4,\n",
    "    addBoxPlot = TRUE\n",
    "   )\n",
    "p2"
   ]
  },
  {
   "cell_type": "code",
   "execution_count": null,
   "id": "generous-capitol",
   "metadata": {},
   "outputs": [],
   "source": [
    "p3 <- plotGroups(\n",
    "    ArchRProj = early, \n",
    "    groupBy = \"Sample\", \n",
    "    colorBy = \"cellColData\", \n",
    "    name = \"log10(nFrags)\",\n",
    "    plotAs = \"ridges\"\n",
    "   )\n",
    "p3"
   ]
  },
  {
   "cell_type": "code",
   "execution_count": null,
   "id": "sapphire-field",
   "metadata": {},
   "outputs": [],
   "source": [
    "p4 <- plotGroups(\n",
    "    ArchRProj = early, \n",
    "    groupBy = \"Sample\", \n",
    "    colorBy = \"cellColData\", \n",
    "    name = \"log10(nFrags)\",\n",
    "    plotAs = \"violin\",\n",
    "    alpha = 0.4,\n",
    "    addBoxPlot = TRUE\n",
    "   )\n",
    "p4"
   ]
  },
  {
   "cell_type": "code",
   "execution_count": null,
   "id": "premium-moral",
   "metadata": {},
   "outputs": [],
   "source": [
    "# plotPDF(p1,p2,p3,p4, name = \"QC-Sample-Statistics.pdf\", ArchRProj = early, \n",
    "#         addDOC = FALSE, width = 4, height = 4)"
   ]
  },
  {
   "cell_type": "code",
   "execution_count": null,
   "id": "harmful-parallel",
   "metadata": {},
   "outputs": [],
   "source": [
    "p5 <- plotFragmentSizes(ArchRProj = early)\n",
    "p5"
   ]
  },
  {
   "cell_type": "code",
   "execution_count": null,
   "id": "reasonable-washer",
   "metadata": {},
   "outputs": [],
   "source": [
    "p6 <- plotTSSEnrichment(ArchRProj = early)\n",
    "p6"
   ]
  },
  {
   "cell_type": "code",
   "execution_count": null,
   "id": "beginning-subscriber",
   "metadata": {},
   "outputs": [],
   "source": [
    "# plotPDF(p5,p6, name = \"QC-Sample-FragSizes-TSSProfile.pdf\", ArchRProj = early, \n",
    "#         addDOC = FALSE, width = 5, height = 5)"
   ]
  },
  {
   "cell_type": "markdown",
   "id": "amino-infection",
   "metadata": {},
   "source": [
    "### 6. Filtering doublets "
   ]
  },
  {
   "cell_type": "code",
   "execution_count": null,
   "id": "limiting-glucose",
   "metadata": {},
   "outputs": [],
   "source": [
    "#early <- filterDoublets(early)\n",
    "#early"
   ]
  },
  {
   "cell_type": "markdown",
   "id": "closing-anime",
   "metadata": {},
   "source": [
    "### 7. Dimensionality reduction with iterative Latent Semantic Indexing"
   ]
  },
  {
   "cell_type": "code",
   "execution_count": null,
   "id": "cognitive-championship",
   "metadata": {},
   "outputs": [],
   "source": [
    "early <- addIterativeLSI(\n",
    "    ArchRProj = early,\n",
    "    useMatrix = \"TileMatrix\", \n",
    "    name = \"IterativeLSI\", \n",
    "    iterations = 2, \n",
    "    clusterParams = list( #See Seurat::FindClusters\n",
    "        resolution = c(0.2), \n",
    "        sampleCells = 10000, \n",
    "        n.start = 10\n",
    "    ), \n",
    "    varFeatures = 25000, \n",
    "    dimsToUse = 1:30\n",
    ")"
   ]
  },
  {
   "cell_type": "code",
   "execution_count": null,
   "id": "genuine-spread",
   "metadata": {},
   "outputs": [],
   "source": [
    "2+3"
   ]
  },
  {
   "cell_type": "code",
   "execution_count": null,
   "id": "equipped-laser",
   "metadata": {},
   "outputs": [],
   "source": [
    "3"
   ]
  },
  {
   "cell_type": "code",
   "execution_count": null,
   "id": "hungry-chester",
   "metadata": {},
   "outputs": [],
   "source": [
    "###########################\n",
    "# Extract LSI coordinates #\n",
    "###########################\n",
    "\n",
    "lsi.mtx <- getReducedDims(\n",
    "  ArchRProj = early,\n",
    "  reducedDims = \"IterativeLSI\",\n",
    "  returnMatrix = TRUE,\n",
    "  dimsToUse = 1:30,\n",
    "  scaleDims = TRUE,\n",
    "  corCutOff = 0.75\n",
    ")\n",
    "dim(lsi.mtx)"
   ]
  },
  {
   "cell_type": "code",
   "execution_count": null,
   "id": "tribal-participation",
   "metadata": {},
   "outputs": [],
   "source": [
    "head(lsi.mtx)"
   ]
  },
  {
   "cell_type": "code",
   "execution_count": null,
   "id": "bored-bench",
   "metadata": {},
   "outputs": [],
   "source": [
    "class(lsi.mtx)"
   ]
  },
  {
   "cell_type": "code",
   "execution_count": null,
   "id": "organized-battery",
   "metadata": {},
   "outputs": [],
   "source": [
    "2 + 3"
   ]
  },
  {
   "cell_type": "markdown",
   "id": "another-approach",
   "metadata": {},
   "source": [
    "### 8. Batch effects correction with Mutual Nearest Neighbors \n",
    "\n",
    "The convenience of MNN is that we can choose the order of integration of the samples to account for different degrees of variability between samples closer or further away in developmental time"
   ]
  },
  {
   "cell_type": "code",
   "execution_count": null,
   "id": "robust-donna",
   "metadata": {},
   "outputs": [],
   "source": [
    "library(uwot) # UMAP "
   ]
  },
  {
   "cell_type": "code",
   "execution_count": null,
   "id": "informed-adobe",
   "metadata": {},
   "outputs": [],
   "source": [
    "timepoints <- getCellColData(early)$stage\n",
    "samples <- getCellColData(early)$Sample\n",
    "\n",
    "lsi_list <- lapply(unique(timepoints), function(i){\n",
    "      sub_pc   <- lsi.mtx[timepoints == i, , drop = FALSE]\n",
    "      sub_samp <- samples[timepoints == i]\n",
    "      list     <- lapply(unique(sub_samp), function(j){ sub_pc[sub_samp == j, , drop = FALSE]})\n",
    "      names(list) <- unique(sub_samp)\n",
    "      return(list)\n",
    "    })\n",
    "\n",
    "names(lsi_list) <- unique(timepoints)"
   ]
  },
  {
   "cell_type": "code",
   "execution_count": null,
   "id": "restricted-bottom",
   "metadata": {},
   "outputs": [],
   "source": [
    "unique(timepoints)"
   ]
  },
  {
   "cell_type": "code",
   "execution_count": null,
   "id": "recognized-check",
   "metadata": {},
   "outputs": [],
   "source": [
    "timepoint_order <- c(6.2, 6.6, 7.8, 9.0, 10.0)"
   ]
  },
  {
   "cell_type": "code",
   "execution_count": null,
   "id": "noted-lobby",
   "metadata": {},
   "outputs": [],
   "source": [
    "sample_order <- c(\"HD_F_GON13149227_and_HD_F_GON13188002\", \"HD_F_GON12296727_and_HD_F_GON12220625\", \"HD_F_GON13254251\",\n",
    "                  \"HD_F_GON13254249\", \"HD_F_GON13254253\", \"HD_F_GON14524656\", \n",
    "                  \"HD_F_GON12877981\", \"HD_F_GON13654400\", \"HD_F_GON13654401\", \"HD_F_GON14609875\")"
   ]
  },
  {
   "cell_type": "code",
   "execution_count": null,
   "id": "funky-strategy",
   "metadata": {},
   "outputs": [],
   "source": [
    "#arrange to match timepoint order\n",
    "lsi_list <- lsi_list[order(match(names(lsi_list), timepoint_order))]\n",
    "lsi_list <- lapply(lsi_list, function(x){ x[order(match(names(x), sample_order))]})"
   ]
  },
  {
   "cell_type": "code",
   "execution_count": null,
   "id": "foster-field",
   "metadata": {},
   "outputs": [],
   "source": [
    "library(batchelor)"
   ]
  },
  {
   "cell_type": "code",
   "execution_count": null,
   "id": "acute-ensemble",
   "metadata": {},
   "outputs": [],
   "source": [
    "# remotes::install_version(\"matrixStats\", version=\"1.1.0\") # restart your session and run previous scripts"
   ]
  },
  {
   "cell_type": "code",
   "execution_count": null,
   "id": "challenging-draft",
   "metadata": {},
   "outputs": [],
   "source": [
    "packageVersion(\"matrixStats\")"
   ]
  },
  {
   "cell_type": "code",
   "execution_count": null,
   "id": "intermediate-scottish",
   "metadata": {},
   "outputs": [],
   "source": [
    "packageVersion(\"htmltools\")"
   ]
  },
  {
   "cell_type": "code",
   "execution_count": null,
   "id": "extra-element",
   "metadata": {},
   "outputs": [],
   "source": [
    "#perform corrections within stages\n",
    "correct_list <- lapply(lsi_list, function(x){\n",
    "    if(length(x) > 1){\n",
    "        return(do.call(reducedMNN, x)$corrected)\n",
    "      } else {\n",
    "        return(x[[1]])\n",
    "      }\n",
    "    })"
   ]
  },
  {
   "cell_type": "code",
   "execution_count": null,
   "id": "respected-router",
   "metadata": {},
   "outputs": [],
   "source": [
    "# perform correction over stages\n",
    "lsi.mtx <- reducedMNN(correct_list, merge.order=1:length(correct_list))$corrected \n",
    "rm(correct_list,lsi_list)"
   ]
  },
  {
   "cell_type": "code",
   "execution_count": null,
   "id": "extreme-characterization",
   "metadata": {},
   "outputs": [],
   "source": [
    "2+3"
   ]
  },
  {
   "cell_type": "markdown",
   "id": "covered-wales",
   "metadata": {},
   "source": [
    "### 9. UMAP embedding"
   ]
  },
  {
   "cell_type": "code",
   "execution_count": null,
   "id": "martial-design",
   "metadata": {},
   "outputs": [],
   "source": [
    "library(tibble)\n",
    "sample_metadata <- getCellColData(early) %>% as.data.table(keep.rownames = T)\n",
    "names(sample_metadata)[names(sample_metadata) == 'rn'] <- 'cell'\n",
    "head(sample_metadata)"
   ]
  },
  {
   "cell_type": "code",
   "execution_count": null,
   "id": "incorporate-charleston",
   "metadata": {},
   "outputs": [],
   "source": [
    "pt.size <- ifelse(nrow(lsi.mtx)>=1e4,0.8,1.2)\n",
    "n_neighbors <- 25\n",
    "min_dist <- 0.50\n",
    "dimred <- \"IterativeLSI_MNN\"\n",
    "\n",
    "for (i in n_neighbors) {\n",
    "  for (j in min_dist) {\n",
    "    \n",
    "    # Run UMAP\n",
    "    set.seed(1996)\n",
    "    umap_embedding.mtx <- umap(lsi.mtx, n_neighbors=i, min_dist=j, metric=\"cosine\", fast_sgd = TRUE) %>% round(2)\n",
    "    rownames(umap_embedding.mtx) <- rownames(lsi.mtx)\n",
    "    \n",
    "    # Fetch UMAP coordinates\n",
    "    umap.dt <- umap_embedding.mtx %>%\n",
    "    as.data.table(keep.rownames = T) %>%\n",
    "    setnames(c(\"cell\",\"umap1\",\"umap2\"))\n",
    "    \n",
    "    to.plot <- umap.dt %>% merge(sample_metadata, by=\"cell\")\n",
    "  }\n",
    "}"
   ]
  },
  {
   "cell_type": "code",
   "execution_count": null,
   "id": "nearby-brick",
   "metadata": {},
   "outputs": [],
   "source": [
    "# Set the plot size\n",
    "options(repr.plot.width = 11, repr.plot.height = 11)"
   ]
  },
  {
   "cell_type": "code",
   "execution_count": null,
   "id": "scientific-technology",
   "metadata": {},
   "outputs": [],
   "source": [
    "p <- ggplot(to.plot, aes_string(x=\"umap1\", y=\"umap2\", fill=\"Sample\")) +\n",
    "        geom_point(size=1, shape=21, stroke=0.05) +\n",
    "        # ggrastr::geom_point_rast(size=1.5, shape=21, stroke=0.05) +  # DOES NOT WORK IN THE CLUSTER\n",
    "        theme_classic() + theme(axis.text.x = element_text(angle = 90, vjust = 0.5, hjust=1), \n",
    "                                             text = element_text(size = 15), legend.position=\"bottom\")\n",
    "p"
   ]
  },
  {
   "cell_type": "code",
   "execution_count": null,
   "id": "standing-advocate",
   "metadata": {},
   "outputs": [],
   "source": [
    "pdf(\"/nfs/team292/vl6/FetalReproductiveTract/ATAC_QC/ArchR/early/umap_sample.pdf\", width=9, height=9)\n",
    "print(p)\n",
    "dev.off()"
   ]
  },
  {
   "cell_type": "code",
   "execution_count": null,
   "id": "simple-district",
   "metadata": {},
   "outputs": [],
   "source": [
    "p2 <- ggplot(to.plot, aes_string(x=\"umap1\", y=\"umap2\", fill=\"Clusters2\")) +\n",
    "        geom_point(size=1, shape=21, stroke=0.05) +\n",
    "        # ggrastr::geom_point_rast(size=1.5, shape=21, stroke=0.05) +  # DOES NOT WORK IN THE CLUSTER\n",
    "        theme_classic() + theme(axis.text.x = element_text(angle = 90, vjust = 0.5, hjust=1), \n",
    "                                             text = element_text(size = 15))\n",
    "p2"
   ]
  },
  {
   "cell_type": "code",
   "execution_count": null,
   "id": "parental-procedure",
   "metadata": {},
   "outputs": [],
   "source": [
    "pdf(\"/nfs/team292/vl6/FetalReproductiveTract/ATAC_QC/ArchR/early/umap_clusters2.pdf\", width=9, height=7)\n",
    "print(p2)\n",
    "dev.off()"
   ]
  },
  {
   "cell_type": "code",
   "execution_count": null,
   "id": "historical-adaptation",
   "metadata": {},
   "outputs": [],
   "source": [
    "p3 <- ggplot(to.plot, aes_string(x=\"umap1\", y=\"umap2\", fill=\"stage\")) +\n",
    "        geom_point(size=1, shape=21, stroke=0.05) +\n",
    "        # ggrastr::geom_point_rast(size=1.5, shape=21, stroke=0.05) +  # DOES NOT WORK IN THE CLUSTER\n",
    "        theme_classic() + theme(axis.text.x = element_text(angle = 90, vjust = 0.5, hjust=1), \n",
    "                                             text = element_text(size = 15), legend.position=\"bottom\")\n",
    "p3"
   ]
  },
  {
   "cell_type": "code",
   "execution_count": null,
   "id": "certain-sudan",
   "metadata": {},
   "outputs": [],
   "source": [
    "pdf(\"/nfs/team292/vl6/FetalReproductiveTract/ATAC_QC/ArchR/early/umap_stage.pdf\", width=9, height=9)\n",
    "print(p3)\n",
    "dev.off()"
   ]
  },
  {
   "cell_type": "code",
   "execution_count": null,
   "id": "central-senior",
   "metadata": {},
   "outputs": [],
   "source": [
    "p4 <- ggplot(to.plot, aes_string(x=\"umap1\", y=\"umap2\", fill=\"technology\")) +\n",
    "        geom_point(size=1, shape=21, stroke=0.05) +\n",
    "        # ggrastr::geom_point_rast(size=1.5, shape=21, stroke=0.05) +  # DOES NOT WORK IN THE CLUSTER\n",
    "        theme_classic() + theme(axis.text.x = element_text(angle = 90, vjust = 0.5, hjust=1), \n",
    "                                             text = element_text(size = 15), legend.position=\"bottom\")\n",
    "p4"
   ]
  },
  {
   "cell_type": "code",
   "execution_count": null,
   "id": "inside-norway",
   "metadata": {},
   "outputs": [],
   "source": [
    "pdf(\"/nfs/team292/vl6/FetalReproductiveTract/ATAC_QC/ArchR/early/umap_technology.pdf\", width=9, height=9)\n",
    "print(p4)\n",
    "dev.off()"
   ]
  },
  {
   "cell_type": "code",
   "execution_count": null,
   "id": "4cb2ae5e-b933-4923-8d98-23194840f952",
   "metadata": {},
   "outputs": [],
   "source": [
    "\n",
    "p5 <- ggplot(to.plot, aes_string(x=\"umap1\", y=\"umap2\", fill=\"sex\")) +\n",
    "        geom_point(size=1, shape=21, stroke=0.05) +\n",
    "        # ggrastr::geom_point_rast(size=1.5, shape=21, stroke=0.05) +  # DOES NOT WORK IN THE CLUSTER\n",
    "        theme_classic() + theme(axis.text.x = element_text(angle = 90, vjust = 0.5, hjust=1), \n",
    "                                             text = element_text(size = 15), legend.position=\"bottom\")\n",
    "p5"
   ]
  },
  {
   "cell_type": "code",
   "execution_count": null,
   "id": "b054b210-2cb0-4539-a1d8-8085ae3b179e",
   "metadata": {},
   "outputs": [],
   "source": [
    "pdf(\"/nfs/team292/vl6/FetalReproductiveTract/ATAC_QC/ArchR/early/umap_sex.pdf\", width=9, height=9)\n",
    "print(p5)\n",
    "dev.off()"
   ]
  },
  {
   "cell_type": "code",
   "execution_count": null,
   "id": "eastern-library",
   "metadata": {},
   "outputs": [],
   "source": [
    "write.csv(to.plot, \"/nfs/team292/vl6/FetalReproductiveTract/ATAC_QC/ArchR/early/umap_coords.csv\", row.names = FALSE)"
   ]
  },
  {
   "cell_type": "code",
   "execution_count": null,
   "id": "genuine-teddy",
   "metadata": {},
   "outputs": [],
   "source": [
    "write.csv(lsi.mtx, \"/nfs/team292/vl6/FetalReproductiveTract/ATAC_QC/ArchR/early/mnn_embedding.csv\", row.names = FALSE)"
   ]
  }
 ],
 "metadata": {
  "kernelspec": {
   "display_name": "R",
   "language": "R",
   "name": "ir"
  },
  "language_info": {
   "codemirror_mode": "r",
   "file_extension": ".r",
   "mimetype": "text/x-r-source",
   "name": "R",
   "pygments_lexer": "r",
   "version": "4.1.2"
  }
 },
 "nbformat": 4,
 "nbformat_minor": 5
}
