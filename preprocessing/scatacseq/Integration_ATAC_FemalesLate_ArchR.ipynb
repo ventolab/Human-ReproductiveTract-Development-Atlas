{
 "cells": [
  {
   "cell_type": "markdown",
   "id": "unusual-bangladesh",
   "metadata": {},
   "source": [
    "## Integration of late female samples (> 10 PCW)"
   ]
  },
  {
   "cell_type": "code",
   "execution_count": null,
   "id": "measured-caution",
   "metadata": {},
   "outputs": [],
   "source": [
    "suppressPackageStartupMessages(library(ArchR))\n",
    "library(argparse)\n",
    "library(ArchR)\n",
    "library(parallel)"
   ]
  },
  {
   "cell_type": "markdown",
   "id": "bigger-checkout",
   "metadata": {},
   "source": [
    "### 1. Create ArchR Project file from Arrow files "
   ]
  },
  {
   "cell_type": "code",
   "execution_count": null,
   "id": "collaborative-intention",
   "metadata": {},
   "outputs": [],
   "source": [
    "addArchRGenome(\"hg38\")"
   ]
  },
  {
   "cell_type": "code",
   "execution_count": null,
   "id": "edda8e6c-0f13-451f-8e73-d007ae86237a",
   "metadata": {},
   "outputs": [],
   "source": [
    "packageVersion(\"matrixStats\")"
   ]
  },
  {
   "cell_type": "markdown",
   "id": "derived-recorder",
   "metadata": {},
   "source": [
    "#### Save sample-level metadata that comes from analysing each sample independently \n"
   ]
  },
  {
   "cell_type": "code",
   "execution_count": null,
   "id": "biblical-intensity",
   "metadata": {},
   "outputs": [],
   "source": [
    "data_dir <- \"/nfs/team292/vl6/FetalReproductiveTract/ATAC_QC/ArchR/\" "
   ]
  },
  {
   "cell_type": "code",
   "execution_count": null,
   "id": "caroline-stack",
   "metadata": {},
   "outputs": [],
   "source": [
    "HD_F_GON14609874_meta <- read.csv(paste0(data_dir, \"HD_F_GON14609874/HD_F_GON14609874_metadata.csv\"), row.names = 'X')\n",
    "print(dim(HD_F_GON14609874_meta))\n",
    "\n",
    "HD_F_GON14666992_meta <- read.csv(paste0(data_dir, \"HD_F_GON14666992/HD_F_GON14666992_metadata.csv\"), row.names = 'X')\n",
    "print(dim(HD_F_GON14666992_meta))\n",
    "\n",
    "HD_F_GON11282675_meta <- read.csv(paste0(data_dir, \"HD_F_GON11282675/HD_F_GON11282675_metadata.csv\"), row.names = 'X')\n",
    "print(dim(HD_F_GON11282675_meta))\n",
    "\n",
    "HD_F_GON11282676_meta <- read.csv(paste0(data_dir, \"HD_F_GON11282676/HD_F_GON11282676_metadata.csv\"), row.names = 'X')\n",
    "print(dim(HD_F_GON11282676_meta))\n",
    "\n",
    "HD_F_GON11389960_meta <- read.csv(paste0(data_dir, \"HD_F_GON11389960/HD_F_GON11389960_metadata.csv\"), row.names = 'X')\n",
    "print(dim(HD_F_GON11389960_meta))\n",
    "\n",
    "HD_F_GON11389961_meta <- read.csv(paste0(data_dir, \"HD_F_GON11389961/HD_F_GON11389961_metadata.csv\"), row.names = 'X')\n",
    "print(dim(HD_F_GON11389961_meta))\n",
    "\n",
    "HD_F_GON12449010_meta <- read.csv(paste0(data_dir, \"HD_F_GON12449010/HD_F_GON12449010_metadata.csv\"), row.names = 'X')\n",
    "print(dim(HD_F_GON12449010_meta))\n",
    "\n",
    "HD_F_GON12449011_meta <- read.csv(paste0(data_dir, \"HD_F_GON12449011/HD_F_GON12449011_metadata.csv\"), row.names = 'X')\n",
    "print(dim(HD_F_GON12449011_meta))\n",
    "\n",
    "HD_F_GON12877982_meta <- read.csv(paste0(data_dir, \"HD_F_GON12877982/HD_F_GON12877982_metadata.csv\"), row.names = 'X')\n",
    "print(dim(HD_F_GON12877982_meta))\n",
    "\n",
    "HD_F_GON12877983_meta <- read.csv(paste0(data_dir, \"HD_F_GON12877983/HD_F_GON12877983_metadata.csv\"), row.names = 'X')\n",
    "print(dim(HD_F_GON12877983_meta))\n",
    "\n",
    "HD_F_GON12877984_meta <- read.csv(paste0(data_dir, \"HD_F_GON12877984/HD_F_GON12877984_metadata.csv\"), row.names = 'X')\n",
    "print(dim(HD_F_GON12877984_meta))\n",
    "\n",
    "HD_F_GON13941946_meta <- read.csv(paste0(data_dir, \"HD_F_GON13941946/HD_F_GON13941946_metadata.csv\"), row.names = 'X')\n",
    "print(dim(HD_F_GON13941946_meta))\n",
    "\n",
    "HD_F_GON13941947_meta <- read.csv(paste0(data_dir, \"HD_F_GON13941947/HD_F_GON13941947_metadata.csv\"), row.names = 'X')\n",
    "print(dim(HD_F_GON13941947_meta))\n",
    "\n",
    "HD_F_GON13077785_and_HD_F_GON13094224_meta <- read.csv(paste0(data_dir, \"HD_F_GON13077785_and_HD_F_GON13094224/HD_F_GON13077785_and_HD_F_GON13094224_metadata.csv\"), row.names = 'X')\n",
    "print(dim(HD_F_GON13077785_and_HD_F_GON13094224_meta))\n",
    "\n",
    "HCA_F_GON11173192_and_HCA_F_GON11212447_meta <- read.csv(paste0(data_dir, \"HCA_F_GON11173192_and_HCA_F_GON11212447/HCA_F_GON11173192_and_HCA_F_GON11212447_metadata.csv\"), row.names = 'X')\n",
    "print(dim(HCA_F_GON11173192_and_HCA_F_GON11212447_meta))\n",
    "\n",
    "HD_F_GON15261136_meta <- read.csv(paste0(data_dir, \"HD_F_GON15261136/HD_F_GON15261136_metadata.csv\"), row.names = 'X')\n",
    "print(dim(HD_F_GON15261136_meta))\n",
    "\n",
    "HD_F_GON15261137_meta <- read.csv(paste0(data_dir, \"HD_F_GON15261137/HD_F_GON15261137_metadata.csv\"), row.names = 'X')\n",
    "print(dim(HD_F_GON15261137_meta))\n",
    "\n",
    "HD_F_GON15265171_meta <- read.csv(paste0(data_dir, \"HD_F_GON15265171/HD_F_GON15265171_metadata.csv\"), row.names = 'X')\n",
    "print(dim(HD_F_GON15265171_meta))"
   ]
  },
  {
   "cell_type": "markdown",
   "id": "popular-upper",
   "metadata": {},
   "source": [
    "#### For multiome samples, import annotations from snRNA-seq to cross-compare with label transfer "
   ]
  },
  {
   "cell_type": "code",
   "execution_count": null,
   "id": "neural-sigma",
   "metadata": {},
   "outputs": [],
   "source": [
    "metadata <- do.call(\"rbind\", list(HD_F_GON14609874_meta, HD_F_GON14666992_meta, \n",
    "                                 HD_F_GON11282675_meta, HD_F_GON11282676_meta, \n",
    "                                 HD_F_GON11389960_meta, HD_F_GON11389961_meta, \n",
    "                                 HD_F_GON12449010_meta, HD_F_GON12449011_meta, \n",
    "                                 HD_F_GON12877982_meta, HD_F_GON12877983_meta, \n",
    "                                HD_F_GON12877984_meta,  HD_F_GON13941946_meta, \n",
    "                                HD_F_GON13941947_meta,  HD_F_GON13077785_and_HD_F_GON13094224_meta, \n",
    "                                HCA_F_GON11173192_and_HCA_F_GON11212447_meta, \n",
    "                                 HD_F_GON15261136_meta, HD_F_GON15261137_meta, HD_F_GON15265171_meta))\n",
    "dim(metadata)"
   ]
  },
  {
   "cell_type": "code",
   "execution_count": null,
   "id": "supposed-potential",
   "metadata": {},
   "outputs": [],
   "source": [
    "# Females late  \n",
    "females_late <- ArchRProject(\n",
    "  ArrowFiles = c(\n",
    "                  '/nfs/team292/vl6/FetalReproductiveTract/ATAC_QC/ArchR/HD_F_GON14609874/HD_F_GON14609874.arrow', \n",
    "                   '/nfs/team292/vl6/FetalReproductiveTract/ATAC_QC/ArchR/HD_F_GON14666992/HD_F_GON14666992.arrow',\n",
    "                '/nfs/team292/vl6/FetalReproductiveTract/ATAC_QC/ArchR/HD_F_GON12877982/HD_F_GON12877982.arrow', \n",
    "                '/nfs/team292/vl6/FetalReproductiveTract/ATAC_QC/ArchR/HD_F_GON13941947/HD_F_GON13941947.arrow', \n",
    "                '/nfs/team292/vl6/FetalReproductiveTract/ATAC_QC/ArchR/HD_F_GON13941946/HD_F_GON13941946.arrow', \n",
    "                '/nfs/team292/vl6/FetalReproductiveTract/ATAC_QC/ArchR/HD_F_GON12449010/HD_F_GON12449010.arrow', \n",
    "               '/nfs/team292/vl6/FetalReproductiveTract/ATAC_QC/ArchR/HD_F_GON12449011/HD_F_GON12449011.arrow', \n",
    "               '/nfs/team292/vl6/FetalReproductiveTract/ATAC_QC/ArchR/HD_F_GON11282675/HD_F_GON11282675.arrow', \n",
    "              '/nfs/team292/vl6/FetalReproductiveTract/ATAC_QC/ArchR/HD_F_GON11282676/HD_F_GON11282676.arrow', \n",
    "              '/nfs/team292/vl6/FetalReproductiveTract/ATAC_QC/ArchR/HD_F_GON12877983/HD_F_GON12877983.arrow',\n",
    "              '/nfs/team292/vl6/FetalReproductiveTract/ATAC_QC/ArchR/HD_F_GON12877984/HD_F_GON12877984.arrow',\n",
    "              '/nfs/team292/vl6/FetalReproductiveTract/ATAC_QC/ArchR/HD_F_GON11389960/HD_F_GON11389960.arrow',\n",
    "              '/nfs/team292/vl6/FetalReproductiveTract/ATAC_QC/ArchR/HD_F_GON11389961/HD_F_GON11389961.arrow',\n",
    "                 '/nfs/team292/vl6/FetalReproductiveTract/ATAC_QC/ArchR/HCA_F_GON11173192_and_HCA_F_GON11212447/HCA_F_GON11173192_and_HCA_F_GON11212447.arrow', # 12 PCW (Hrv103)\n",
    "                   '/nfs/team292/vl6/FetalReproductiveTract/ATAC_QC/ArchR/HD_F_GON13077785_and_HD_F_GON13094224/HD_F_GON13077785_and_HD_F_GON13094224.arrow', # 20 PCW (Hrv174)\n",
    "              '/nfs/team292/vl6/FetalReproductiveTract/ATAC_QC/ArchR/HD_F_GON15261136/HD_F_GON15261136.arrow',\n",
    "              '/nfs/team292/vl6/FetalReproductiveTract/ATAC_QC/ArchR/HD_F_GON15261137/HD_F_GON15261137.arrow',\n",
    "              '/nfs/team292/vl6/FetalReproductiveTract/ATAC_QC/ArchR/HD_F_GON15265171/HD_F_GON15265171.arrow'\n",
    "  ), \n",
    "\n",
    "  outputDirectory = \"/nfs/team292/vl6/FetalReproductiveTract/ATAC_QC/ArchR/females_late/\",\n",
    "  copyArrows = TRUE #This is recommened so that if you modify the Arrow files you have an original copy for later usage.\n",
    ")"
   ]
  },
  {
   "cell_type": "code",
   "execution_count": null,
   "id": "ambient-copper",
   "metadata": {},
   "outputs": [],
   "source": [
    "getAvailableMatrices(females_late)"
   ]
  },
  {
   "cell_type": "code",
   "execution_count": null,
   "id": "naval-audit",
   "metadata": {},
   "outputs": [],
   "source": [
    "metadata <- DataFrame(metadata)"
   ]
  },
  {
   "cell_type": "code",
   "execution_count": null,
   "id": "obvious-lover",
   "metadata": {},
   "outputs": [],
   "source": [
    "head(row.names(metadata))"
   ]
  },
  {
   "cell_type": "code",
   "execution_count": null,
   "id": "tested-college",
   "metadata": {},
   "outputs": [],
   "source": [
    "females_late"
   ]
  },
  {
   "cell_type": "code",
   "execution_count": null,
   "id": "dominican-mustang",
   "metadata": {},
   "outputs": [],
   "source": [
    "females_late <- females_late[row.names(metadata)]\n",
    "females_late@cellColData <- metadata\n",
    "females_late"
   ]
  },
  {
   "cell_type": "code",
   "execution_count": null,
   "id": "collaborative-excess",
   "metadata": {},
   "outputs": [],
   "source": [
    "table(females_late$Sample)"
   ]
  },
  {
   "cell_type": "code",
   "execution_count": null,
   "id": "million-polymer",
   "metadata": {},
   "outputs": [],
   "source": [
    "# Add donor and stage information --> integrate by donor for consistency with scRNA-seq \n",
    "library(dplyr)\n",
    "donor <- case_when(\n",
    "    females_late$Sample == \"HCA_F_GON11173192_and_HCA_F_GON11212447\" ~ \"Hrv103\",\n",
    "    females_late$Sample == \"HD_F_GON11282676\" ~ \"Hrv118\", \n",
    "    females_late$Sample == \"HD_F_GON11389960\" ~ \"Hrv125\",\n",
    "    females_late$Sample == \"HD_F_GON12449010\" ~ \"Hrv69\", \n",
    "    females_late$Sample == \"HD_F_GON12449011\" ~ \"Hrv69\", \n",
    "    females_late$Sample == \"HD_F_GON12877983\" ~ \"Hrv139\", \n",
    "    females_late$Sample == \"HD_F_GON11282675\" ~ \"Hrv118\",\n",
    "    females_late$Sample == \"HD_F_GON11389961\" ~ \"Hrv125\", \n",
    "    females_late$Sample == \"HD_F_GON12877982\" ~ \"C128\", \n",
    "    females_late$Sample == \"HD_F_GON12877984\" ~ \"Hrv139\",\n",
    "    females_late$Sample == \"HD_F_GON14609874\" ~ \"Hrv253\",\n",
    "    females_late$Sample == \"HD_F_GON13941946\" ~ \"Hrv245\",\n",
    "    females_late$Sample == \"HD_F_GON13941947\" ~ \"Hrv245\",\n",
    "    females_late$Sample == \"HD_F_GON14666992\" ~ \"Hrv261\",\n",
    "    females_late$Sample == \"HD_F_GON13077785_and_HD_F_GON13094224\" ~ \"Hrv174\",\n",
    "    females_late$Sample == \"HD_F_GON15261136\" ~ \"Hrv275\",\n",
    "    females_late$Sample == \"HD_F_GON15261137\" ~ \"Hrv270\",\n",
    "    females_late$Sample == \"HD_F_GON15265171\" ~ \"Hrv276\"\n",
    "    )\n",
    "\n",
    "stage <- case_when(\n",
    "    females_late$Sample == \"HCA_F_GON11173192_and_HCA_F_GON11212447\" ~ 12,\n",
    "    females_late$Sample == \"HD_F_GON11282676\" ~ 20, \n",
    "    females_late$Sample == \"HD_F_GON11389960\" ~ 21,\n",
    "    females_late$Sample == \"HD_F_GON12449010\" ~ 19, \n",
    "    females_late$Sample == \"HD_F_GON12449011\" ~ 19, \n",
    "    females_late$Sample == \"HD_F_GON12877983\" ~ 20, \n",
    "    females_late$Sample == \"HD_F_GON11282675\" ~ 20,\n",
    "    females_late$Sample == \"HD_F_GON11389961\" ~ 21, \n",
    "    females_late$Sample == \"HD_F_GON12877982\" ~ 12, \n",
    "    females_late$Sample == \"HD_F_GON12877984\" ~ 20, \n",
    "    females_late$Sample == \"HD_F_GON14609874\" ~ 16,\n",
    "    females_late$Sample == \"HD_F_GON13941946\" ~ 15,\n",
    "    females_late$Sample == \"HD_F_GON13941947\" ~ 15,\n",
    "    females_late$Sample == \"HD_F_GON14666992\" ~ 12,\n",
    "    females_late$Sample == \"HD_F_GON13077785_and_HD_F_GON13094224\" ~ 20,\n",
    "    females_late$Sample == \"HD_F_GON15261136\" ~ 14,\n",
    "    females_late$Sample == \"HD_F_GON15261137\" ~ 17,\n",
    "    females_late$Sample == \"HD_F_GON15265171\" ~ 12\n",
    "    )\n",
    "\n",
    "technology <- case_when(\n",
    "    females_late$Sample == \"HCA_F_GON11173192_and_HCA_F_GON11212447\" ~ \"MULTIOME\",\n",
    "    females_late$Sample == \"HD_F_GON11282676\" ~ \"ATAC\", \n",
    "    females_late$Sample == \"HD_F_GON11389960\" ~ \"ATAC\",\n",
    "    females_late$Sample == \"HD_F_GON12449010\" ~ \"ATAC\", \n",
    "    females_late$Sample == \"HD_F_GON12449011\" ~ \"ATAC\", \n",
    "    females_late$Sample == \"HD_F_GON12877983\" ~ \"ATAC\", \n",
    "    females_late$Sample == \"HD_F_GON11282675\" ~ \"ATAC\",\n",
    "    females_late$Sample == \"HD_F_GON11389961\" ~ \"ATAC\", \n",
    "    females_late$Sample == \"HD_F_GON12877982\" ~ \"ATAC\", \n",
    "    females_late$Sample == \"HD_F_GON12877984\" ~ \"ATAC\", \n",
    "    females_late$Sample == \"HD_F_GON14609874\" ~ \"ATAC\", \n",
    "    females_late$Sample == \"HD_F_GON13941946\" ~ \"ATAC\", \n",
    "    females_late$Sample == \"HD_F_GON13941947\" ~ \"ATAC\", \n",
    "    females_late$Sample == \"HD_F_GON14666992\" ~ \"ATAC\", \n",
    "    females_late$Sample == \"HD_F_GON13077785_and_HD_F_GON13094224\" ~ \"MULTIOME\",\n",
    "    females_late$Sample == \"HD_F_GON15261136\" ~ \"ATAC\",\n",
    "    females_late$Sample == \"HD_F_GON15261137\" ~ \"ATAC\",\n",
    "    females_late$Sample == \"HD_F_GON15265171\" ~ \"ATAC\"\n",
    "    )\n",
    "\n",
    "females_late$donor <- donor \n",
    "females_late$stage <- stage\n",
    "females_late$technology <- technology"
   ]
  },
  {
   "cell_type": "code",
   "execution_count": null,
   "id": "seven-indianapolis",
   "metadata": {},
   "outputs": [],
   "source": [
    "table(females_late$donor)"
   ]
  },
  {
   "cell_type": "code",
   "execution_count": null,
   "id": "efficient-container",
   "metadata": {},
   "outputs": [],
   "source": [
    "table(females_late$stage)"
   ]
  },
  {
   "cell_type": "code",
   "execution_count": null,
   "id": "polish-surprise",
   "metadata": {},
   "outputs": [],
   "source": [
    "table(females_late$technology)"
   ]
  },
  {
   "cell_type": "code",
   "execution_count": null,
   "id": "practical-click",
   "metadata": {},
   "outputs": [],
   "source": [
    "df <- getCellColData(females_late, select = c(\"log10(nFrags)\", \"TSSEnrichment\"))\n",
    "df"
   ]
  },
  {
   "cell_type": "code",
   "execution_count": null,
   "id": "appropriate-mills",
   "metadata": {},
   "outputs": [],
   "source": [
    "p <- ggPoint(\n",
    "    x = df[,1], \n",
    "    y = df[,2], \n",
    "    colorDensity = TRUE,\n",
    "    continuousSet = \"sambaNight\",\n",
    "    xlabel = \"Log10 Unique Fragments\",\n",
    "    ylabel = \"TSS Enrichment\",\n",
    "    xlim = c(log10(500), quantile(df[,1], probs = 0.99)),\n",
    "    ylim = c(0, quantile(df[,2], probs = 0.99))\n",
    ") + geom_hline(yintercept = 8, lty = \"dashed\") + geom_vline(xintercept = 3.25, lty = \"dashed\")\n",
    "\n",
    "p"
   ]
  },
  {
   "cell_type": "code",
   "execution_count": null,
   "id": "sophisticated-timber",
   "metadata": {},
   "outputs": [],
   "source": [
    "p1 <- plotGroups(\n",
    "    ArchRProj = females_late, \n",
    "    groupBy = \"Sample\", \n",
    "    colorBy = \"cellColData\", \n",
    "    name = \"TSSEnrichment\",\n",
    "    plotAs = \"ridges\"\n",
    "   )\n",
    "p1"
   ]
  },
  {
   "cell_type": "code",
   "execution_count": null,
   "id": "static-amber",
   "metadata": {},
   "outputs": [],
   "source": [
    "p2 <- plotGroups(\n",
    "    ArchRProj = females_late, \n",
    "    groupBy = \"Sample\", \n",
    "    colorBy = \"cellColData\", \n",
    "    name = \"TSSEnrichment\",\n",
    "    plotAs = \"violin\",\n",
    "    alpha = 0.4,\n",
    "    addBoxPlot = TRUE\n",
    "   )\n",
    "p2"
   ]
  },
  {
   "cell_type": "code",
   "execution_count": null,
   "id": "complex-attendance",
   "metadata": {},
   "outputs": [],
   "source": [
    "p3 <- plotGroups(\n",
    "    ArchRProj = females_late, \n",
    "    groupBy = \"Sample\", \n",
    "    colorBy = \"cellColData\", \n",
    "    name = \"log10(nFrags)\",\n",
    "    plotAs = \"ridges\"\n",
    "   )\n",
    "p3"
   ]
  },
  {
   "cell_type": "code",
   "execution_count": null,
   "id": "extra-helena",
   "metadata": {},
   "outputs": [],
   "source": [
    "p4 <- plotGroups(\n",
    "    ArchRProj = females_late, \n",
    "    groupBy = \"Sample\", \n",
    "    colorBy = \"cellColData\", \n",
    "    name = \"log10(nFrags)\",\n",
    "    plotAs = \"violin\",\n",
    "    alpha = 0.4,\n",
    "    addBoxPlot = TRUE\n",
    "   )\n",
    "p4"
   ]
  },
  {
   "cell_type": "code",
   "execution_count": null,
   "id": "recreational-object",
   "metadata": {},
   "outputs": [],
   "source": [
    "# plotPDF(p1,p2,p3,p4, name = \"QC-Sample-Statistics.pdf\", ArchRProj = females_late, \n",
    "#         addDOC = FALSE, width = 4, height = 4)"
   ]
  },
  {
   "cell_type": "code",
   "execution_count": null,
   "id": "loose-brooks",
   "metadata": {},
   "outputs": [],
   "source": [
    "p5 <- plotFragmentSizes(ArchRProj = females_late)\n",
    "p5"
   ]
  },
  {
   "cell_type": "code",
   "execution_count": null,
   "id": "sexual-antique",
   "metadata": {},
   "outputs": [],
   "source": [
    "p6 <- plotTSSEnrichment(ArchRProj = females_late)\n",
    "p6"
   ]
  },
  {
   "cell_type": "code",
   "execution_count": null,
   "id": "median-empty",
   "metadata": {},
   "outputs": [],
   "source": [
    "# plotPDF(p5,p6, name = \"QC-Sample-FragSizes-TSSProfile.pdf\", ArchRProj = females_late, \n",
    "#         addDOC = FALSE, width = 5, height = 5)"
   ]
  },
  {
   "cell_type": "code",
   "execution_count": null,
   "id": "widespread-dakota",
   "metadata": {},
   "outputs": [],
   "source": [
    "# females_late <- filterDoublets(females_late)\n",
    "# females_late"
   ]
  },
  {
   "cell_type": "code",
   "execution_count": null,
   "id": "psychological-spyware",
   "metadata": {},
   "outputs": [],
   "source": [
    "females_late <- addIterativeLSI(\n",
    "    ArchRProj = females_late,\n",
    "    useMatrix = \"TileMatrix\", \n",
    "    name = \"IterativeLSI\", \n",
    "    iterations = 2, \n",
    "    clusterParams = list( #See Seurat::FindClusters\n",
    "        resolution = c(0.2), \n",
    "        sampleCells = 10000, \n",
    "        n.start = 10\n",
    "    ), \n",
    "    varFeatures = 25000, \n",
    "    dimsToUse = 1:30\n",
    ")"
   ]
  },
  {
   "cell_type": "code",
   "execution_count": null,
   "id": "brown-gentleman",
   "metadata": {},
   "outputs": [],
   "source": [
    "###########################\n",
    "# Extract LSI coordinates #\n",
    "###########################\n",
    "\n",
    "lsi.mtx <- getReducedDims(\n",
    "  ArchRProj = females_late,\n",
    "  reducedDims = \"IterativeLSI\",\n",
    "  returnMatrix = TRUE,\n",
    "  dimsToUse = 1:30,\n",
    "  scaleDims = TRUE,\n",
    "  corCutOff = 0.75\n",
    ")\n",
    "dim(lsi.mtx)"
   ]
  },
  {
   "cell_type": "code",
   "execution_count": null,
   "id": "associate-world",
   "metadata": {},
   "outputs": [],
   "source": [
    "library(uwot) # UMAP "
   ]
  },
  {
   "cell_type": "code",
   "execution_count": null,
   "id": "mental-music",
   "metadata": {},
   "outputs": [],
   "source": [
    "timepoints <- getCellColData(females_late)$stage\n",
    "table(timepoints)"
   ]
  },
  {
   "cell_type": "code",
   "execution_count": null,
   "id": "random-terminal",
   "metadata": {},
   "outputs": [],
   "source": [
    "samples <- getCellColData(females_late)$Sample\n",
    "table(samples)"
   ]
  },
  {
   "cell_type": "code",
   "execution_count": null,
   "id": "meaning-installation",
   "metadata": {},
   "outputs": [],
   "source": [
    "timepoints <- getCellColData(females_late)$stage\n",
    "samples <- getCellColData(females_late)$Sample\n",
    "\n",
    "lsi_list <- lapply(unique(timepoints), function(i){\n",
    "      sub_pc   <- lsi.mtx[timepoints == i, , drop = FALSE]\n",
    "      sub_samp <- samples[timepoints == i]\n",
    "      list     <- lapply(unique(sub_samp), function(j){ sub_pc[sub_samp == j, , drop = FALSE]})\n",
    "      names(list) <- unique(sub_samp)\n",
    "      return(list)\n",
    "    })\n",
    "\n",
    "names(lsi_list) <- unique(timepoints)"
   ]
  },
  {
   "cell_type": "code",
   "execution_count": null,
   "id": "valuable-cleaner",
   "metadata": {},
   "outputs": [],
   "source": [
    "table(getCellColData(females_late)$Sample, getCellColData(females_late)$stage)"
   ]
  },
  {
   "cell_type": "code",
   "execution_count": null,
   "id": "referenced-advocacy",
   "metadata": {},
   "outputs": [],
   "source": [
    "names(lsi_list) <- unique(timepoints)\n",
    "timepoint_order <- c(12, 15, 16, 19, 20, 21) \n",
    "sample_order <- c(\"HD_F_GON14666992\", \"HCA_F_GON11173192_and_HCA_F_GON11212447\", \"HD_F_GON12877982\",\n",
    "                  \"HD_F_GON13941947\", \"HD_F_GON13941946\", \"HD_F_GON14609874\",\n",
    "                  \"HD_F_GON12449010\", \"HD_F_GON12449011\",\n",
    "                  \"HD_F_GON13077785_and_HD_F_GON13094224\", \"HD_F_GON12877984\", \"HD_F_GON12877983\", \n",
    "                 \"HD_F_GON11282675\", \"HD_F_GON11282676\", \"HD_F_GON11389960\", \"HD_F_GON11389961\")\n",
    "#arrange to match timepoint order\n",
    "lsi_list <- lsi_list[order(match(names(lsi_list), timepoint_order))]\n",
    "lsi_list <- lapply(lsi_list, function(x){ x[order(match(names(x), sample_order))]})"
   ]
  },
  {
   "cell_type": "code",
   "execution_count": null,
   "id": "physical-eclipse",
   "metadata": {},
   "outputs": [],
   "source": [
    "library(batchelor)"
   ]
  },
  {
   "cell_type": "code",
   "execution_count": null,
   "id": "liquid-trainer",
   "metadata": {},
   "outputs": [],
   "source": [
    "packageVersion(\"matrixStats\")"
   ]
  },
  {
   "cell_type": "code",
   "execution_count": null,
   "id": "diverse-average",
   "metadata": {},
   "outputs": [],
   "source": [
    "#perform corrections within stages\n",
    "correct_list <- lapply(lsi_list, function(x){\n",
    "    if(length(x) > 1){\n",
    "        return(do.call(reducedMNN, x)$corrected)\n",
    "      } else {\n",
    "        return(x[[1]])\n",
    "      }\n",
    "    })"
   ]
  },
  {
   "cell_type": "code",
   "execution_count": null,
   "id": "precise-steam",
   "metadata": {},
   "outputs": [],
   "source": [
    "# perform correction over stages\n",
    "lsi.mtx <- reducedMNN(correct_list, merge.order=1:length(correct_list))$corrected \n",
    "rm(correct_list,lsi_list)"
   ]
  },
  {
   "cell_type": "code",
   "execution_count": null,
   "id": "absolute-communications",
   "metadata": {},
   "outputs": [],
   "source": [
    "library(tibble)\n",
    "sample_metadata <- getCellColData(females_late) %>% as.data.table(keep.rownames = T)\n",
    "names(sample_metadata)[names(sample_metadata) == 'rn'] <- 'cell'\n",
    "head(sample_metadata)"
   ]
  },
  {
   "cell_type": "code",
   "execution_count": null,
   "id": "cardiovascular-aggregate",
   "metadata": {},
   "outputs": [],
   "source": [
    "pt.size <- ifelse(nrow(lsi.mtx)>=1e4,0.8,1.2)\n",
    "n_neighbors <- 25\n",
    "min_dist <- 0.50\n",
    "dimred <- \"IterativeLSI_MNN\"\n",
    "\n",
    "for (i in n_neighbors) {\n",
    "  for (j in min_dist) {\n",
    "    \n",
    "    # Run UMAP\n",
    "    set.seed(1996)\n",
    "    umap_embedding.mtx <- umap(lsi.mtx, n_neighbors=i, min_dist=j, metric=\"cosine\", fast_sgd = TRUE) %>% round(2)\n",
    "    rownames(umap_embedding.mtx) <- rownames(lsi.mtx)\n",
    "    \n",
    "    # Fetch UMAP coordinates\n",
    "    umap.dt <- umap_embedding.mtx %>%\n",
    "    as.data.table(keep.rownames = T) %>%\n",
    "    setnames(c(\"cell\",\"umap1\",\"umap2\"))\n",
    "    \n",
    "    to.plot <- umap.dt %>% merge(sample_metadata, by=\"cell\")\n",
    "  }\n",
    "}"
   ]
  },
  {
   "cell_type": "code",
   "execution_count": null,
   "id": "passing-cleanup",
   "metadata": {},
   "outputs": [],
   "source": [
    "# Set the plot size\n",
    "options(repr.plot.width = 11, repr.plot.height = 11)"
   ]
  },
  {
   "cell_type": "code",
   "execution_count": null,
   "id": "beautiful-checkout",
   "metadata": {},
   "outputs": [],
   "source": [
    "p <- ggplot(to.plot, aes_string(x=\"umap1\", y=\"umap2\", fill=\"Sample\")) +\n",
    "        geom_point(size=1, shape=21, stroke=0.05) +\n",
    "        theme_classic() + theme(axis.text.x = element_text(angle = 90, vjust = 0.5, hjust=1), \n",
    "                                             text = element_text(size = 15), legend.position=\"bottom\")\n",
    "p"
   ]
  },
  {
   "cell_type": "code",
   "execution_count": null,
   "id": "minute-lender",
   "metadata": {},
   "outputs": [],
   "source": [
    "p2 <- ggplot(to.plot, aes_string(x=\"umap1\", y=\"umap2\", fill=\"Clusters2\")) +\n",
    "        geom_point(size=1, shape=21, stroke=0.05) +\n",
    "        theme_classic() + theme(axis.text.x = element_text(angle = 90, vjust = 0.5, hjust=1), \n",
    "                                             text = element_text(size = 15), legend.position=\"bottom\")\n",
    "p2"
   ]
  },
  {
   "cell_type": "code",
   "execution_count": null,
   "id": "italic-scotland",
   "metadata": {},
   "outputs": [],
   "source": [
    "p3 <- ggplot(to.plot, aes_string(x=\"umap1\", y=\"umap2\", fill=\"stage\")) +\n",
    "        geom_point(size=1, shape=21, stroke=0.05) +\n",
    "        # ggrastr::geom_point_rast(size=1.5, shape=21, stroke=0.05) +  # DOES NOT WORK IN THE CLUSTER\n",
    "        theme_classic() + theme(axis.text.x = element_text(angle = 90, vjust = 0.5, hjust=1), \n",
    "                                             text = element_text(size = 15), legend.position=\"bottom\")\n",
    "p3"
   ]
  },
  {
   "cell_type": "code",
   "execution_count": null,
   "id": "bound-sullivan",
   "metadata": {},
   "outputs": [],
   "source": [
    "p4 <- ggplot(to.plot, aes_string(x=\"umap1\", y=\"umap2\", fill=\"donor\")) +\n",
    "        geom_point(size=1, shape=21, stroke=0.05) +\n",
    "        # ggrastr::geom_point_rast(size=1.5, shape=21, stroke=0.05) +  # DOES NOT WORK IN THE CLUSTER\n",
    "        theme_classic() + theme(axis.text.x = element_text(angle = 90, vjust = 0.5, hjust=1), \n",
    "                                             text = element_text(size = 15), legend.position=\"right\")\n",
    "p4"
   ]
  },
  {
   "cell_type": "code",
   "execution_count": null,
   "id": "southern-chapter",
   "metadata": {},
   "outputs": [],
   "source": [
    "write.csv(to.plot, \"/nfs/team292/vl6/FetalReproductiveTract/ATAC_QC/ArchR/females_late/umap_coords.csv\", row.names = FALSE)"
   ]
  },
  {
   "cell_type": "code",
   "execution_count": null,
   "id": "fleet-thunder",
   "metadata": {},
   "outputs": [],
   "source": [
    "write.csv(lsi.mtx, \"/nfs/team292/vl6/FetalReproductiveTract/ATAC_QC/ArchR/females_late/mnn_embedding.csv\", row.names = FALSE)"
   ]
  },
  {
   "cell_type": "code",
   "execution_count": null,
   "id": "numeric-trail",
   "metadata": {},
   "outputs": [],
   "source": []
  }
 ],
 "metadata": {
  "kernelspec": {
   "display_name": "R",
   "language": "R",
   "name": "ir"
  },
  "language_info": {
   "codemirror_mode": "r",
   "file_extension": ".r",
   "mimetype": "text/x-r-source",
   "name": "R",
   "pygments_lexer": "r",
   "version": "4.1.2"
  }
 },
 "nbformat": 4,
 "nbformat_minor": 5
}
