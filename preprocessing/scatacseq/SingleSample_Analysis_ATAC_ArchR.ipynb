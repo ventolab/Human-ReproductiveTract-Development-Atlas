{
 "cells": [
  {
   "cell_type": "markdown",
   "id": "8bc3a389",
   "metadata": {},
   "source": [
    "## R scripts for ArchR on a per-sample basis"
   ]
  },
  {
   "cell_type": "markdown",
   "id": "174ade5e",
   "metadata": {},
   "source": [
    "### 1. QC, dimensionality reduction with LSI (TF-IDF + SVD) and gene scores "
   ]
  },
  {
   "cell_type": "code",
   "execution_count": null,
   "id": "daf4ef27",
   "metadata": {},
   "outputs": [],
   "source": [
    "###################\n",
    "# Import packages #\n",
    "###################\n",
    "\n",
    "library(ArchR)\n",
    "library(parallel)\n",
    "library(argparse)"
   ]
  },
  {
   "cell_type": "code",
   "execution_count": null,
   "id": "6a2f9941",
   "metadata": {},
   "outputs": [],
   "source": [
    "#####################\n",
    "# Define parameters #\n",
    "#####################\n",
    "\n",
    "outdir = \"/nfs/team292/vl6/FetalReproductiveTract/ATAC_QC/ArchR/\"\n",
    "rnadir = \"/nfs/team292/vl6/FetalReproductiveTract/males_post10pcw_iss.rds\"\n",
    "annots = \"celltype\""
   ]
  },
  {
   "cell_type": "code",
   "execution_count": null,
   "id": "a53dcd94",
   "metadata": {},
   "outputs": [],
   "source": [
    "sample = \"HD_F_GON11282673\"\n",
    "print(sample)"
   ]
  },
  {
   "cell_type": "code",
   "execution_count": null,
   "id": "f838c265",
   "metadata": {},
   "outputs": [],
   "source": [
    "######################################################\n",
    "# Create ArchR project from ArrowFiles from Nextflow #\n",
    "######################################################\n",
    "\n",
    "# Select version of the genome \n",
    "addArchRGenome(\"hg38\")\n",
    "\n",
    "# Read in ArrowFile and create ArchR project\n",
    "project <- ArchRProject(\n",
    "  ArrowFiles = paste0(outdir, sample, '/', sample, '.arrow'),\n",
    "  outputDirectory = outdir,\n",
    "  copyArrows = TRUE #This is recommened so that if you modify the Arrow files you have an original copy for later usage.\n",
    ")\n",
    "\n",
    "project "
   ]
  },
  {
   "cell_type": "code",
   "execution_count": null,
   "id": "3bc5d211",
   "metadata": {},
   "outputs": [],
   "source": [
    "################\n",
    "# QC filtering #\n",
    "################\n",
    "\n",
    "df <- getCellColData(project, select = c(\"log10(nFrags)\", \"TSSEnrichment\"))\n",
    "p_raw <- ggPoint(\n",
    "    x = df[,1], \n",
    "    y = df[,2], \n",
    "    colorDensity = TRUE,\n",
    "    continuousSet = \"sambaNight\",\n",
    "    xlabel = \"Log10 Unique Fragments\",\n",
    "    ylabel = \"TSS Enrichment\",\n",
    "    xlim = c(log10(500), quantile(df[,1], probs = 0.99)),\n",
    "    ylim = c(0, quantile(df[,2], probs = 0.99))\n",
    ") + geom_hline(yintercept = 8, lty = \"dashed\") + geom_vline(xintercept = 3.25, lty = \"dashed\")\n",
    "\n",
    "p_raw"
   ]
  },
  {
   "cell_type": "code",
   "execution_count": null,
   "id": "6e42b1d5",
   "metadata": {},
   "outputs": [],
   "source": [
    "# Log10(nFrags): minimum 3.25. \n",
    "idxPass2 <- which(df[,1] >= 3.25)\n",
    "cellsPass2 <- project$cellNames[idxPass2]\n",
    "project <- project[cellsPass2, ]\n",
    "\n",
    "# TSS enrichment score: minimum 10 \n",
    "idxPass1 <- which(project$TSSEnrichment >= 8)\n",
    "cellsPass1 <- project$cellNames[idxPass1]\n",
    "project <- project[cellsPass1, ]\n",
    "\n",
    "df <- getCellColData(project, select = c(\"log10(nFrags)\", \"TSSEnrichment\"))\n",
    "p_filtered <- ggPoint(\n",
    "    x = df[,1], \n",
    "    y = df[,2], \n",
    "    colorDensity = TRUE,\n",
    "    continuousSet = \"sambaNight\",\n",
    "    xlabel = \"Log10 Unique Fragments\",\n",
    "    ylabel = \"TSS Enrichment\",\n",
    "    xlim = c(log10(500), quantile(df[,1], probs = 0.99)),\n",
    "    ylim = c(0, quantile(df[,2], probs = 0.99))\n",
    ") + geom_hline(yintercept = 8, lty = \"dashed\") + geom_vline(xintercept = 3.25, lty = \"dashed\")\n",
    "\n",
    "p_filtered"
   ]
  },
  {
   "cell_type": "code",
   "execution_count": null,
   "id": "64ece6d8-0ffb-4ae0-a4f5-9778911353c5",
   "metadata": {},
   "outputs": [],
   "source": [
    "project"
   ]
  },
  {
   "cell_type": "code",
   "execution_count": null,
   "id": "33fc5821",
   "metadata": {},
   "outputs": [],
   "source": [
    "############\n",
    "# QC plots #\n",
    "############\n",
    "\n",
    "p_tss <- plotGroups(\n",
    "    ArchRProj = project, \n",
    "    groupBy = \"Sample\", \n",
    "    colorBy = \"cellColData\", \n",
    "    name = \"TSSEnrichment\",\n",
    "    plotAs = \"ridges\"\n",
    "   )\n",
    "p_tss"
   ]
  },
  {
   "cell_type": "code",
   "execution_count": null,
   "id": "b44872e6",
   "metadata": {},
   "outputs": [],
   "source": [
    "p_tss_v <- plotGroups(\n",
    "    ArchRProj = project, \n",
    "    groupBy = \"Sample\", \n",
    "    colorBy = \"cellColData\", \n",
    "    name = \"TSSEnrichment\",\n",
    "    plotAs = \"violin\",\n",
    "    alpha = 0.4,\n",
    "    addBoxPlot = TRUE\n",
    "   )\n",
    "p_tss_v"
   ]
  },
  {
   "cell_type": "code",
   "execution_count": null,
   "id": "57b927f1",
   "metadata": {},
   "outputs": [],
   "source": [
    "p_frags <- plotGroups(\n",
    "    ArchRProj = project, \n",
    "    groupBy = \"Sample\", \n",
    "    colorBy = \"cellColData\", \n",
    "    name = \"log10(nFrags)\",\n",
    "    plotAs = \"ridges\"\n",
    "   )\n",
    "p_frags"
   ]
  },
  {
   "cell_type": "code",
   "execution_count": null,
   "id": "fd2ce400",
   "metadata": {},
   "outputs": [],
   "source": [
    "p_frags_v <- plotGroups(\n",
    "    ArchRProj = project, \n",
    "    groupBy = \"Sample\", \n",
    "    colorBy = \"cellColData\", \n",
    "    name = \"log10(nFrags)\",\n",
    "    plotAs = \"violin\",\n",
    "    alpha = 0.4,\n",
    "    addBoxPlot = TRUE\n",
    "   )\n",
    "p_frags_v"
   ]
  },
  {
   "cell_type": "code",
   "execution_count": null,
   "id": "4c424c81",
   "metadata": {},
   "outputs": [],
   "source": [
    "p_frag_2 <- plotFragmentSizes(ArchRProj = project)\n",
    "p_frag_2"
   ]
  },
  {
   "cell_type": "code",
   "execution_count": null,
   "id": "d72298fc",
   "metadata": {},
   "outputs": [],
   "source": [
    "p_tss_2 <- plotTSSEnrichment(ArchRProj = project)\n",
    "p_tss_2"
   ]
  },
  {
   "cell_type": "code",
   "execution_count": null,
   "id": "14c4c24a",
   "metadata": {},
   "outputs": [],
   "source": [
    "######################\n",
    "# Doublets filtering #\n",
    "######################\n",
    "\n",
    "project <- filterDoublets(project)"
   ]
  },
  {
   "cell_type": "code",
   "execution_count": null,
   "id": "ea8b6748",
   "metadata": {},
   "outputs": [],
   "source": [
    "#####################################\n",
    "# Dimensionality reduction with LSI #\n",
    "#####################################\n",
    "\n",
    "project <- addIterativeLSI(\n",
    "    ArchRProj = project,\n",
    "    useMatrix = \"TileMatrix\", \n",
    "    name = \"IterativeLSI\", \n",
    "    iterations = 2, \n",
    "    clusterParams = list(resolution = c(2), sampleCells = 10000, maxClusters = 6, n.start\n",
    "    = 10), \n",
    "    varFeatures = 25000, \n",
    "    dimsToUse = 1:30, \n",
    "    LSIMethod = 2\n",
    ")"
   ]
  },
  {
   "cell_type": "code",
   "execution_count": null,
   "id": "01b27c6a",
   "metadata": {},
   "outputs": [],
   "source": [
    "##############\n",
    "# Clustering #\n",
    "##############\n",
    "\n",
    "project <- addClusters(\n",
    "    input = project,\n",
    "    reducedDims = \"IterativeLSI\",\n",
    "    method = \"Seurat\",\n",
    "    name = \"Clusters\",\n",
    "    resolution = 2, \n",
    "    #maxClusters = 25, \n",
    "    knnAssign = 20, \n",
    "    force = TRUE\n",
    ")\n",
    "\n",
    "table(project$Clusters)"
   ]
  },
  {
   "cell_type": "code",
   "execution_count": null,
   "id": "9722362d",
   "metadata": {},
   "outputs": [],
   "source": [
    "##################\n",
    "# UMAP embedding #\n",
    "##################\n",
    "\n",
    "project <- addUMAP(\n",
    "    ArchRProj = project, \n",
    "    reducedDims = \"IterativeLSI\", \n",
    "    name = \"UMAP\", \n",
    "    nNeighbors = 30, \n",
    "    minDist = 0.5, \n",
    "    metric = \"cosine\"\n",
    ")"
   ]
  },
  {
   "cell_type": "code",
   "execution_count": null,
   "id": "9790d4c8",
   "metadata": {},
   "outputs": [],
   "source": [
    "p_sample <- plotEmbedding(ArchRProj = project, colorBy = \"cellColData\", name = \"Sample\", embedding = \"UMAP\")\n",
    "p_sample"
   ]
  },
  {
   "cell_type": "code",
   "execution_count": null,
   "id": "bbd5efe2",
   "metadata": {},
   "outputs": [],
   "source": [
    "p_clusters <- plotEmbedding(ArchRProj = project, colorBy = \"cellColData\", name = \"Clusters\", embedding = \"UMAP\")\n",
    "p_clusters"
   ]
  },
  {
   "cell_type": "code",
   "execution_count": null,
   "id": "f084e25f",
   "metadata": {},
   "outputs": [],
   "source": [
    "###########################\n",
    "# Compute marker features #\n",
    "###########################\n",
    "\n",
    "markersGS <- getMarkerFeatures(\n",
    "    ArchRProj = project, \n",
    "    useMatrix = \"GeneScoreMatrix\", \n",
    "    groupBy = \"Clusters\",\n",
    "    bias = c(\"TSSEnrichment\", \"log10(nFrags)\"),\n",
    "    testMethod = \"wilcoxon\"\n",
    ")"
   ]
  },
  {
   "cell_type": "code",
   "execution_count": null,
   "id": "d3278745",
   "metadata": {},
   "outputs": [],
   "source": [
    "markerList <- getMarkers(markersGS, cutOff = \"FDR <= 0.01 & Log2FC >= 1.25\")\n",
    "head(markerList)"
   ]
  },
  {
   "cell_type": "code",
   "execution_count": null,
   "id": "8329fa32",
   "metadata": {},
   "outputs": [],
   "source": [
    "markerGenes  <- c(\n",
    "    \"EPCAM\", \"PAX8\", \"PAX2\", \"GATA3\", \"TP63\", \"DPYS\", \"AMN\", \"WNT9B\",\"KLK11\", #Epithelial\n",
    "    \"GATA1\", \"ALAS2\", #Erythroid\n",
    "    \"CDH5\", #Endothelial\n",
    "    \"PTPRC\", #Immune\n",
    "    \"PDGFRA\", \"RGS5\", \"DLK1\", \"DES\",  \"PTGER3\", \"DCN\", \"EMX2\", \"HOXA7\", \"HOXA9\", \"HOXA10\", \"HOXD10\", \"HOXD11\", \"HOXA13\", \"ISL1\", #Mesenchymal\n",
    "    \"STMN2\", \"PLP1\", \"CDK1\" #Neural \n",
    "  )"
   ]
  },
  {
   "cell_type": "code",
   "execution_count": null,
   "id": "f0af61c0",
   "metadata": {},
   "outputs": [],
   "source": [
    "heatmapGS <- markerHeatmap(\n",
    "  seMarker = markersGS, \n",
    "  cutOff = \"FDR <= 0.01 & Log2FC >= 1.25\", \n",
    "  labelMarkers = markerGenes,\n",
    "  transpose = TRUE\n",
    ")\n",
    "heatmapGS"
   ]
  },
  {
   "cell_type": "code",
   "execution_count": null,
   "id": "ecc66f0f",
   "metadata": {},
   "outputs": [],
   "source": [
    "ComplexHeatmap::draw(heatmapGS, heatmap_legend_side = \"bot\", annotation_legend_side = \"bot\")"
   ]
  },
  {
   "cell_type": "code",
   "execution_count": null,
   "id": "bdff7268",
   "metadata": {},
   "outputs": [],
   "source": [
    "p_genes <- plotEmbedding(\n",
    "    ArchRProj = project, \n",
    "    colorBy = \"GeneScoreMatrix\", \n",
    "    name = markerGenes, \n",
    "    embedding = \"UMAP\",\n",
    "    quantCut = c(0.01, 0.95),\n",
    "    imputeWeights = NULL, \n",
    "    continuousSet = 'whiteBlue'\n",
    ")\n",
    "#p_genes"
   ]
  },
  {
   "cell_type": "code",
   "execution_count": null,
   "id": "6f48faad",
   "metadata": {},
   "outputs": [],
   "source": [
    "project <- addImputeWeights(project)"
   ]
  },
  {
   "cell_type": "code",
   "execution_count": null,
   "id": "48b3a171",
   "metadata": {},
   "outputs": [],
   "source": [
    "p_genes_impute <- plotEmbedding(\n",
    "    ArchRProj = project, \n",
    "    colorBy = \"GeneScoreMatrix\", \n",
    "    name = markerGenes, \n",
    "    embedding = \"UMAP\",\n",
    "    imputeWeights = getImputeWeights(project)\n",
    ")\n",
    "#p_genes_impute"
   ]
  },
  {
   "cell_type": "code",
   "execution_count": null,
   "id": "594a1458",
   "metadata": {},
   "outputs": [],
   "source": [
    "#############################################################\n",
    "# Assigning cluster identities with scRNA-seq matching data #\n",
    "#############################################################\n",
    "\n",
    "rna <- readRDS(rnadir)\n",
    "rna"
   ]
  },
  {
   "cell_type": "code",
   "execution_count": null,
   "id": "4e6afc0f",
   "metadata": {},
   "outputs": [],
   "source": [
    "print(table(colData(rna)$celltype))"
   ]
  },
  {
   "cell_type": "code",
   "execution_count": null,
   "id": "b3a49db9",
   "metadata": {},
   "outputs": [],
   "source": [
    "annots"
   ]
  },
  {
   "cell_type": "code",
   "execution_count": null,
   "id": "69eb8cf3",
   "metadata": {},
   "outputs": [],
   "source": [
    "#############################\n",
    "# Unconstrained integration #\n",
    "#############################\n",
    "\n",
    "project <- addGeneIntegrationMatrix(\n",
    "    ArchRProj = project, \n",
    "    useMatrix = \"GeneScoreMatrix\",\n",
    "    matrixName = \"GeneIntegrationMatrix\",\n",
    "    reducedDims = \"IterativeLSI\",\n",
    "    seRNA = rna,\n",
    "    addToArrow = TRUE,\n",
    "    force = TRUE,\n",
    "    groupRNA = annots,\n",
    "    nameCell = \"predictedCell_Un\",\n",
    "    nameGroup = \"predictedGroup_Un\",\n",
    "    nameScore = \"predictedScore_Un\"\n",
    ")"
   ]
  },
  {
   "cell_type": "code",
   "execution_count": null,
   "id": "b443a897",
   "metadata": {},
   "outputs": [],
   "source": [
    "cM <- as.matrix(confusionMatrix(project$Clusters, project$predictedGroup_Un))\n",
    "cM"
   ]
  },
  {
   "cell_type": "code",
   "execution_count": null,
   "id": "211a885c",
   "metadata": {},
   "outputs": [],
   "source": [
    "library(ggplot2)"
   ]
  },
  {
   "cell_type": "code",
   "execution_count": null,
   "id": "464ad4b9",
   "metadata": {},
   "outputs": [],
   "source": [
    "my_palette <- colorRampPalette(c(\"white\", \"red\"))(n = 100)\n"
   ]
  },
  {
   "cell_type": "code",
   "execution_count": null,
   "id": "9b7e08e2",
   "metadata": {},
   "outputs": [],
   "source": [
    "# Set the plot size\n",
    "options(repr.plot.width = 15, repr.plot.height = 15)"
   ]
  },
  {
   "cell_type": "code",
   "execution_count": null,
   "id": "a363c426",
   "metadata": {},
   "outputs": [],
   "source": [
    "to.plot <- melt(cM)\n",
    "#to.plot$Var1 <- factor(to.plot$Var1, levels=sort(levels(to.plot$Var1)))\n",
    "to.plot$Var1 <- factor(to.plot$Var1, levels=paste0('C', 1:25))\n",
    "p <- ggplot(to.plot, aes(x=Var2, y=Var1, fill=value)) +\n",
    "    geom_tile() +\n",
    "    geom_text(aes(label = round(value, 1))) +\n",
    "    scale_fill_gradient(low = \"white\", high = \"red\") +\n",
    "    theme_bw() +\n",
    "    theme(axis.text.x = element_text(angle = 90, vjust = 0.5, hjust=1), plot.title = element_text(size = 20),\n",
    "      axis.title = element_text(size = 14),\n",
    "      axis.text = element_text(size = 12),\n",
    "      legend.text = element_text(size = 16))\n",
    "print(p)"
   ]
  },
  {
   "cell_type": "code",
   "execution_count": null,
   "id": "ede38548-57ec-4475-8081-44f405875256",
   "metadata": {},
   "outputs": [],
   "source": [
    "# Set the plot size\n",
    "options(repr.plot.width = 10, repr.plot.height = 10)"
   ]
  },
  {
   "cell_type": "code",
   "execution_count": null,
   "id": "d714b6c0",
   "metadata": {},
   "outputs": [],
   "source": [
    "p_clusters"
   ]
  },
  {
   "cell_type": "code",
   "execution_count": null,
   "id": "4145b725",
   "metadata": {},
   "outputs": [],
   "source": [
    "head(project@cellColData)"
   ]
  },
  {
   "cell_type": "code",
   "execution_count": null,
   "id": "aeeb3e69",
   "metadata": {},
   "outputs": [],
   "source": [
    "p_tss <- plotEmbedding(ArchRProj = project, colorBy = \"cellColData\", name = \"TSSEnrichment\", embedding = \"UMAP\")\n",
    "p_tss"
   ]
  },
  {
   "cell_type": "code",
   "execution_count": null,
   "id": "25accbbf",
   "metadata": {},
   "outputs": [],
   "source": [
    "p_nfrags <- plotEmbedding(ArchRProj = project, colorBy = \"cellColData\", name = \"nFrags\", embedding = \"UMAP\")\n",
    "p_nfrags"
   ]
  },
  {
   "cell_type": "code",
   "execution_count": null,
   "id": "a4a9347c",
   "metadata": {},
   "outputs": [],
   "source": [
    "p_score <- plotEmbedding(ArchRProj = project, colorBy = \"cellColData\", name = \"predictedScore_Un\", embedding = \"UMAP\")\n",
    "p_score"
   ]
  },
  {
   "cell_type": "code",
   "execution_count": null,
   "id": "380e2c3e",
   "metadata": {},
   "outputs": [],
   "source": [
    "preClust <- colnames(cM)[apply(cM, 1 , which.max)]\n",
    "cbind(preClust, rownames(cM)) #Assignments"
   ]
  },
  {
   "cell_type": "code",
   "execution_count": null,
   "id": "031b03c2",
   "metadata": {},
   "outputs": [],
   "source": [
    "# Plot results of unconstrained integration \n",
    "\n",
    "p_unconstrained <- plotEmbedding(\n",
    "    project, \n",
    "    colorBy = \"cellColData\", \n",
    "    embedding = \"UMAP\",\n",
    "    name = \"predictedGroup_Un\"\n",
    ")\n",
    "p_unconstrained"
   ]
  },
  {
   "cell_type": "code",
   "execution_count": null,
   "id": "84cf52e0",
   "metadata": {},
   "outputs": [],
   "source": [
    "project <- addGeneIntegrationMatrix(\n",
    "    ArchRProj = project, \n",
    "    useMatrix = \"GeneScoreMatrix\",\n",
    "    matrixName = \"GeneIntegrationMatrix\",\n",
    "    reducedDims = \"IterativeLSI\",\n",
    "    seRNA = rna,\n",
    "    addToArrow = TRUE,\n",
    "    force= TRUE,\n",
    "    groupRNA = annots,\n",
    "    nameCell = \"predictedCell\",\n",
    "    nameGroup = \"predictedGroup\",\n",
    "    nameScore = \"predictedScore\", \n",
    "\n",
    ")"
   ]
  },
  {
   "cell_type": "code",
   "execution_count": null,
   "id": "59f3af7d",
   "metadata": {},
   "outputs": [],
   "source": [
    "project <- addImputeWeights(project)"
   ]
  },
  {
   "cell_type": "code",
   "execution_count": null,
   "id": "8a4c5729",
   "metadata": {},
   "outputs": [],
   "source": [
    "GeneIntegration <- getMatrixFromProject(\n",
    "  ArchRProj = project,\n",
    "  useMatrix = \"GeneIntegrationMatrix\",\n",
    ")"
   ]
  },
  {
   "cell_type": "code",
   "execution_count": null,
   "id": "810e47e0",
   "metadata": {},
   "outputs": [],
   "source": [
    "markerGenes <- intersect(markerGenes, rowData(GeneIntegration)$name)"
   ]
  },
  {
   "cell_type": "code",
   "execution_count": null,
   "id": "e67c9b5b",
   "metadata": {},
   "outputs": [],
   "source": [
    "p_integ <- plotEmbedding(\n",
    "    ArchRProj = project, \n",
    "    colorBy = \"GeneIntegrationMatrix\", \n",
    "    name = markerGenes, \n",
    "    continuousSet = \"horizonExtra\",\n",
    "    embedding = \"UMAP\",\n",
    "    imputeWeights = getImputeWeights(project)\n",
    ")\n",
    "# p_integ"
   ]
  },
  {
   "cell_type": "code",
   "execution_count": null,
   "id": "b625d92f",
   "metadata": {},
   "outputs": [],
   "source": [
    "p_integ2 <- plotEmbedding(\n",
    "    ArchRProj = project, \n",
    "    colorBy = \"GeneScoreMatrix\", \n",
    "    continuousSet = \"horizonExtra\",\n",
    "    name = markerGenes, \n",
    "    embedding = \"UMAP\",\n",
    "    imputeWeights = getImputeWeights(project)\n",
    ")\n",
    "#p_integ2"
   ]
  },
  {
   "cell_type": "code",
   "execution_count": null,
   "id": "2bc8fba6",
   "metadata": {},
   "outputs": [],
   "source": [
    "cM <- confusionMatrix(project$Clusters, project$predictedGroup)\n",
    "labelOld <- rownames(cM)\n",
    "labelNew <- colnames(cM)[apply(cM, 1, which.max)]\n",
    "project$Clusters2 <- mapLabels(project$Clusters, newLabels = labelNew, oldLabels = labelOld)"
   ]
  },
  {
   "cell_type": "code",
   "execution_count": null,
   "id": "b9578dbe",
   "metadata": {},
   "outputs": [],
   "source": [
    "table(project$Clusters, project$Clusters2)"
   ]
  },
  {
   "cell_type": "code",
   "execution_count": null,
   "id": "f93690a7",
   "metadata": {},
   "outputs": [],
   "source": [
    "confusion_matrix <- as.data.frame(table(project$Clusters, project$predictedGroup, useNA = \"ifany\"))\n",
    "ggplot(data = confusion_matrix,\n",
    "       mapping = aes(x = Var2,\n",
    "                     y = Var1)) +\n",
    "  geom_tile(aes(fill = Freq)) +\n",
    "  geom_text(aes(label = sprintf(\"%1.0f\", Freq)), vjust = 1) +\n",
    "  scale_fill_gradient(low = \"white\",\n",
    "                      high = \"coral\") + theme(axis.text.x = element_text(angle = 90, vjust = 0.5, hjust=1), \n",
    "                                             text = element_text(size = 15))"
   ]
  },
  {
   "cell_type": "code",
   "execution_count": null,
   "id": "33697d81",
   "metadata": {},
   "outputs": [],
   "source": [
    "# Plot results of unconstrained integration \n",
    "\n",
    "p_clusters2 <- plotEmbedding(\n",
    "    project, \n",
    "    colorBy = \"cellColData\", \n",
    "    embedding = \"UMAP\",\n",
    "    name = \"Clusters2\"\n",
    ")\n",
    "p_clusters2"
   ]
  },
  {
   "cell_type": "code",
   "execution_count": null,
   "id": "e9ca8f68",
   "metadata": {},
   "outputs": [],
   "source": [
    "p_unconstrained"
   ]
  },
  {
   "cell_type": "code",
   "execution_count": null,
   "id": "ed02d449",
   "metadata": {},
   "outputs": [],
   "source": [
    "table(project$predictedGroup_Un)"
   ]
  },
  {
   "cell_type": "code",
   "execution_count": null,
   "id": "912bc583",
   "metadata": {},
   "outputs": [],
   "source": [
    "# Save ArchR project \n",
    "#project <- saveArchRProject(ArchRProj = project, outputDirectory = paste0(outdir, sample, \"/\"), load = FALSE)"
   ]
  },
  {
   "cell_type": "code",
   "execution_count": null,
   "id": "071b8821",
   "metadata": {},
   "outputs": [],
   "source": [
    "outdir"
   ]
  },
  {
   "cell_type": "code",
   "execution_count": null,
   "id": "80f7fa9a",
   "metadata": {},
   "outputs": [],
   "source": [
    "sample"
   ]
  },
  {
   "cell_type": "code",
   "execution_count": null,
   "id": "17254997",
   "metadata": {},
   "outputs": [],
   "source": [
    "write.csv(project@cellColData, paste0(outdir, sample, \"/HD_F_GON11282673_metadata.csv\"), row.names = TRUE)"
   ]
  },
  {
   "cell_type": "code",
   "execution_count": null,
   "id": "a29b7430",
   "metadata": {},
   "outputs": [],
   "source": []
  },
  {
   "cell_type": "code",
   "execution_count": null,
   "id": "5acc6a9e-aed5-481d-a40d-a19aeeabce99",
   "metadata": {},
   "outputs": [],
   "source": []
  }
 ],
 "metadata": {
  "kernelspec": {
   "display_name": "R",
   "language": "R",
   "name": "ir"
  },
  "language_info": {
   "codemirror_mode": "r",
   "file_extension": ".r",
   "mimetype": "text/x-r-source",
   "name": "R",
   "pygments_lexer": "r",
   "version": "4.1.2"
  }
 },
 "nbformat": 4,
 "nbformat_minor": 5
}
