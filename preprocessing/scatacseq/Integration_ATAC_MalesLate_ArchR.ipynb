{
 "cells": [
  {
   "cell_type": "markdown",
   "id": "qualified-europe",
   "metadata": {},
   "source": [
    "## Integration of late male samples (>10 PCW)"
   ]
  },
  {
   "cell_type": "code",
   "execution_count": null,
   "id": "royal-concord",
   "metadata": {},
   "outputs": [],
   "source": [
    "suppressPackageStartupMessages(library(ArchR))\n",
    "library(argparse)\n",
    "library(ArchR)\n",
    "library(parallel)"
   ]
  },
  {
   "cell_type": "markdown",
   "id": "valued-flashing",
   "metadata": {},
   "source": [
    "### 1. Create ArchR Project file from Arrow files generated with nextflow pipeline"
   ]
  },
  {
   "cell_type": "code",
   "execution_count": null,
   "id": "embedded-sheffield",
   "metadata": {},
   "outputs": [],
   "source": [
    "addArchRGenome(\"hg38\")"
   ]
  },
  {
   "cell_type": "code",
   "execution_count": null,
   "id": "arranged-alfred",
   "metadata": {},
   "outputs": [],
   "source": [
    "packageVersion(\"htmltools\")"
   ]
  },
  {
   "cell_type": "code",
   "execution_count": null,
   "id": "80317cad-7fdc-4bf3-9dc5-53d3eda824b5",
   "metadata": {},
   "outputs": [],
   "source": [
    "packageVersion(\"matrixStats\")"
   ]
  },
  {
   "cell_type": "markdown",
   "id": "effective-objective",
   "metadata": {},
   "source": [
    "data_dir <- \"/nfs/team292/vl6/FetalReproductiveTract/ATAC_QC/ArchR/\" #### Save sample-level metadata that comes from analysing each sample independently "
   ]
  },
  {
   "cell_type": "code",
   "execution_count": null,
   "id": "provincial-potter",
   "metadata": {},
   "outputs": [],
   "source": [
    "data_dir <- \"/nfs/team292/vl6/FetalReproductiveTract/ATAC_QC/ArchR/\" "
   ]
  },
  {
   "cell_type": "code",
   "execution_count": null,
   "id": "medium-accreditation",
   "metadata": {},
   "outputs": [],
   "source": [
    "HD_F_GON14666993_meta <- read.csv(paste0(data_dir, \"HD_F_GON14666993/HD_F_GON14666993_metadata.csv\"), row.names = 'X')\n",
    "HD_F_GON11282673_meta <- read.csv(paste0(data_dir, \"HD_F_GON11282673/HD_F_GON11282673_metadata.csv\"), row.names = 'X')\n",
    "HD_F_GON11282674_meta <- read.csv(paste0(data_dir, \"HD_F_GON11282674/HD_F_GON11282674_metadata.csv\"), row.names = 'X')\n",
    "HD_F_GON13254250_meta <- read.csv(paste0(data_dir, \"HD_F_GON13254250/HD_F_GON13254250_metadata.csv\"), row.names = 'X')\n",
    "HD_F_GON13254252_meta <- read.csv(paste0(data_dir, \"HD_F_GON13254252/HD_F_GON13254252_metadata.csv\"), row.names = 'X')\n",
    "HD_F_GON15261135_meta <- read.csv(paste0(data_dir, \"HD_F_GON15261135/HD_F_GON15261135_metadata.csv\"), row.names = 'X')\n",
    "HD_F_GON15261138_meta <- read.csv(paste0(data_dir, \"HD_F_GON15261138/HD_F_GON15261138_metadata.csv\"), row.names = 'X')\n",
    "HD_F_GON15265170_meta <- read.csv(paste0(data_dir, \"HD_F_GON15265170/HD_F_GON15265170_metadata.csv\"), row.names = 'X')"
   ]
  },
  {
   "cell_type": "code",
   "execution_count": null,
   "id": "underlying-agreement",
   "metadata": {},
   "outputs": [],
   "source": [
    "HCA_F_GON11173193_and_HCA_F_GON11212448_meta <- read.csv(paste0(data_dir, \"HCA_F_GON11173193_and_HCA_F_GON11212448/HCA_F_GON11173193_and_HCA_F_GON11212448_metadata.csv\"), row.names = 'X')\n",
    "HD_F_GON12139982_and_HD_F_GON12220623_meta <- read.csv(paste0(data_dir, \"HD_F_GON12139982_and_HD_F_GON12220623/HD_F_GON12139982_and_HD_F_GON12220623_metadata.csv\"), row.names = 'X')\n",
    "HD_F_GON12139983_and_HD_F_GON12220624_meta <- read.csv(paste0(data_dir, \"HD_F_GON12139983_and_HD_F_GON12220624/HD_F_GON12139983_and_HD_F_GON12220624_metadata.csv\"), row.names = 'X')"
   ]
  },
  {
   "cell_type": "code",
   "execution_count": null,
   "id": "voluntary-slope",
   "metadata": {},
   "outputs": [],
   "source": [
    "metadata <- do.call(\"rbind\", list(\n",
    "                                  HD_F_GON14666993_meta, HD_F_GON11282673_meta, HD_F_GON11282674_meta, \n",
    "                                  HD_F_GON13254250_meta, HD_F_GON13254252_meta, HD_F_GON15261135_meta, HD_F_GON15261138_meta, HD_F_GON15265170_meta,\n",
    "                                 HCA_F_GON11173193_and_HCA_F_GON11212448_meta, HD_F_GON12139982_and_HD_F_GON12220623_meta,\n",
    "                                 HD_F_GON12139983_and_HD_F_GON12220624_meta))\n",
    "dim(metadata)"
   ]
  },
  {
   "cell_type": "code",
   "execution_count": null,
   "id": "smart-hierarchy",
   "metadata": {},
   "outputs": [],
   "source": [
    "# Late males samples  \n",
    "males_late <- ArchRProject(\n",
    "  ArrowFiles = c('/nfs/team292/vl6/FetalReproductiveTract/ATAC_QC/ArchR/HD_F_GON14666993/HD_F_GON14666993.arrow', \n",
    "                '/nfs/team292/vl6/FetalReproductiveTract/ATAC_QC/ArchR/HD_F_GON11282673/HD_F_GON11282673.arrow', \n",
    "                '/nfs/team292/vl6/FetalReproductiveTract/ATAC_QC/ArchR/HD_F_GON11282674/HD_F_GON11282674.arrow',\n",
    "                '/nfs/team292/vl6/FetalReproductiveTract/ATAC_QC/ArchR/HD_F_GON13254250/HD_F_GON13254250.arrow',\n",
    "                 '/nfs/team292/vl6/FetalReproductiveTract/ATAC_QC/ArchR/HD_F_GON13254252/HD_F_GON13254252.arrow',\n",
    "                 '/nfs/team292/vl6/FetalReproductiveTract/ATAC_QC/ArchR/HD_F_GON15261135/HD_F_GON15261135.arrow',\n",
    "                 '/nfs/team292/vl6/FetalReproductiveTract/ATAC_QC/ArchR/HD_F_GON15261138/HD_F_GON15261138.arrow',\n",
    "                 '/nfs/team292/vl6/FetalReproductiveTract/ATAC_QC/ArchR/HD_F_GON15265170/HD_F_GON15265170.arrow',\n",
    "                 '/nfs/team292/vl6/FetalReproductiveTract/ATAC_QC/ArchR/HCA_F_GON11173193_and_HCA_F_GON11212448/HCA_F_GON11173193_and_HCA_F_GON11212448.arrow',\n",
    "                 '/nfs/team292/vl6/FetalReproductiveTract/ATAC_QC/ArchR/HD_F_GON12139982_and_HD_F_GON12220623/HD_F_GON12139982_and_HD_F_GON12220623.arrow',\n",
    "                 '/nfs/team292/vl6/FetalReproductiveTract/ATAC_QC/ArchR/HD_F_GON12139983_and_HD_F_GON12220624/HD_F_GON12139983_and_HD_F_GON12220624.arrow'\n",
    "                    ), \n",
    "\n",
    "  outputDirectory = \"/nfs/team292/vl6/FetalReproductiveTract/ATAC_QC/ArchR/males_late/\",\n",
    "  copyArrows = TRUE #This is recommened so that if you modify the Arrow files you have an original copy for later usage.\n",
    ")"
   ]
  },
  {
   "cell_type": "code",
   "execution_count": null,
   "id": "chronic-migration",
   "metadata": {},
   "outputs": [],
   "source": [
    "males_late"
   ]
  },
  {
   "cell_type": "code",
   "execution_count": null,
   "id": "dressed-claim",
   "metadata": {},
   "outputs": [],
   "source": [
    "paste0(\"Memory Size = \", round(object.size(males_late) / 10^6, 3), \" MB\")"
   ]
  },
  {
   "cell_type": "code",
   "execution_count": null,
   "id": "diagnostic-raleigh",
   "metadata": {},
   "outputs": [],
   "source": [
    "getAvailableMatrices(males_late)"
   ]
  },
  {
   "cell_type": "markdown",
   "id": "little-maximum",
   "metadata": {},
   "source": [
    "### 2. Add sample-level metadata and filter cells "
   ]
  },
  {
   "cell_type": "code",
   "execution_count": null,
   "id": "frequent-disabled",
   "metadata": {},
   "outputs": [],
   "source": [
    "metadata <- DataFrame(metadata)"
   ]
  },
  {
   "cell_type": "code",
   "execution_count": null,
   "id": "opposite-chorus",
   "metadata": {},
   "outputs": [],
   "source": [
    "males_late <- males_late[row.names(males_late)]\n",
    "males_late@cellColData <- metadata\n",
    "males_late"
   ]
  },
  {
   "cell_type": "code",
   "execution_count": null,
   "id": "alike-sweet",
   "metadata": {},
   "outputs": [],
   "source": [
    "table(males_late$Sample)"
   ]
  },
  {
   "cell_type": "code",
   "execution_count": null,
   "id": "proud-perspective",
   "metadata": {},
   "outputs": [],
   "source": [
    "# Add donor and stage information --> integrate by donor for consistency with scRNA-seq \n",
    "library(dplyr)\n",
    "donor <- case_when(\n",
    "    males_late$Sample == \"HD_F_GON14666993\" ~ \"Hrv263\",\n",
    "    males_late$Sample == \"HD_F_GON11282673\" ~ \"Hrv116\", \n",
    "    males_late$Sample == \"HD_F_GON11282674\" ~ \"Hrv117\",\n",
    "    males_late$Sample == \"HD_F_GON13254250\" ~ \"Hrv184\", \n",
    "    males_late$Sample == \"HD_F_GON13254252\" ~ \"Hrv184\", \n",
    "    males_late$Sample == \"HD_F_GON15261135\" ~ \"Hrv272\", \n",
    "    males_late$Sample == \"HD_F_GON15261138\" ~ \"Hrv272\", \n",
    "    males_late$Sample == \"HD_F_GON15265170\" ~ \"Hrv273\", \n",
    "    males_late$Sample == \"HCA_F_GON11173193_and_HCA_F_GON11212448\" ~ \"Hrv104\", \n",
    "    males_late$Sample == \"HD_F_GON12139983_and_HD_F_GON12220624\" ~ \"Hrv129\", \n",
    "    males_late$Sample == \"HD_F_GON12139982_and_HD_F_GON12220623\" ~ \"Hrv129\", \n",
    "    )\n",
    "\n",
    "stage <- case_when(\n",
    "   males_late$Sample == \"HD_F_GON14666993\" ~ 14,\n",
    "     males_late$Sample == \"HD_F_GON11282673\" ~ 12, \n",
    "    males_late$Sample == \"HD_F_GON11282674\" ~ 20,\n",
    "    males_late$Sample == \"HD_F_GON13254250\" ~ 15, \n",
    "    males_late$Sample == \"HD_F_GON13254252\" ~ 15, \n",
    "    males_late$Sample == \"HD_F_GON15261135\" ~ 18, \n",
    "    males_late$Sample == \"HD_F_GON15261138\" ~ 18, \n",
    "    males_late$Sample == \"HD_F_GON15265170\" ~ 20, \n",
    "    males_late$Sample == \"HCA_F_GON11173193_and_HCA_F_GON11212448\" ~ 17, \n",
    "    males_late$Sample == \"HD_F_GON12139983_and_HD_F_GON12220624\" ~ 17, \n",
    "    males_late$Sample == \"HD_F_GON12139982_and_HD_F_GON12220623\" ~ 17, \n",
    "    )\n",
    "\n",
    "technology <- case_when(\n",
    "    males_late$Sample == \"HD_F_GON14666993\" ~ \"ATAC\",\n",
    "    males_late$Sample == \"HD_F_GON11282673\" ~ \"ATAC\", \n",
    "    males_late$Sample == \"HD_F_GON11282674\" ~ \"ATAC\",\n",
    "    males_late$Sample == \"HD_F_GON13254250\" ~ \"ATAC\", \n",
    "    males_late$Sample == \"HD_F_GON13254252\" ~ \"ATAC\", \n",
    "    males_late$Sample == \"HD_F_GON15261135\" ~ \"ATAC\", \n",
    "    males_late$Sample == \"HD_F_GON15261138\" ~ \"ATAC\", \n",
    "    males_late$Sample == \"HD_F_GON15265170\" ~ \"ATAC\", \n",
    "    males_late$Sample == \"HCA_F_GON11173193_and_HCA_F_GON11212448\" ~ \"MULTIOME\", \n",
    "    males_late$Sample == \"HD_F_GON12139983_and_HD_F_GON12220624\" ~ \"MULTIOME\", \n",
    "    males_late$Sample == \"HD_F_GON12139982_and_HD_F_GON12220623\" ~ \"MULTIOME\", \n",
    "    )\n",
    "\n",
    "males_late$donor <- donor \n",
    "males_late$stage <- stage\n",
    "males_late$technology <- technology"
   ]
  },
  {
   "cell_type": "code",
   "execution_count": null,
   "id": "considerable-usage",
   "metadata": {},
   "outputs": [],
   "source": [
    "table(males_late$donor)"
   ]
  },
  {
   "cell_type": "code",
   "execution_count": null,
   "id": "italian-facial",
   "metadata": {},
   "outputs": [],
   "source": [
    "table(males_late$stage)"
   ]
  },
  {
   "cell_type": "markdown",
   "id": "instant-protocol",
   "metadata": {},
   "source": [
    "### 3. Filter cells with specific TSS enrichment score and Log10(uniqueFragments)"
   ]
  },
  {
   "cell_type": "code",
   "execution_count": null,
   "id": "valid-prerequisite",
   "metadata": {},
   "outputs": [],
   "source": [
    "df <- getCellColData(males_late, select = c(\"log10(nFrags)\", \"TSSEnrichment\"))\n",
    "df"
   ]
  },
  {
   "cell_type": "code",
   "execution_count": null,
   "id": "northern-recovery",
   "metadata": {},
   "outputs": [],
   "source": [
    "p <- ggPoint(\n",
    "    x = df[,1], \n",
    "    y = df[,2], \n",
    "    colorDensity = TRUE,\n",
    "    continuousSet = \"sambaNight\",\n",
    "    xlabel = \"Log10 Unique Fragments\",\n",
    "    ylabel = \"TSS Enrichment\",\n",
    "    xlim = c(log10(500), quantile(df[,1], probs = 0.99)),\n",
    "    ylim = c(0, quantile(df[,2], probs = 0.99))\n",
    ") + geom_hline(yintercept = 8, lty = \"dashed\") + geom_vline(xintercept = 3.25, lty = \"dashed\")\n",
    "\n",
    "p"
   ]
  },
  {
   "cell_type": "code",
   "execution_count": null,
   "id": "harmful-pulse",
   "metadata": {},
   "outputs": [],
   "source": [
    "# plotPDF(p, name = \"TSS-vs-Frags.pdf\", \n",
    "#         ArchRProj = males_late, addDOC = FALSE)"
   ]
  },
  {
   "cell_type": "markdown",
   "id": "sufficient-intelligence",
   "metadata": {},
   "source": [
    "### 4. Plotting sample-level statistics"
   ]
  },
  {
   "cell_type": "code",
   "execution_count": null,
   "id": "funded-mileage",
   "metadata": {},
   "outputs": [],
   "source": [
    "p1 <- plotGroups(\n",
    "    ArchRProj = males_late, \n",
    "    groupBy = \"Sample\", \n",
    "    colorBy = \"cellColData\", \n",
    "    name = \"TSSEnrichment\",\n",
    "    plotAs = \"ridges\"\n",
    "   )\n",
    "p1"
   ]
  },
  {
   "cell_type": "code",
   "execution_count": null,
   "id": "rolled-space",
   "metadata": {},
   "outputs": [],
   "source": [
    "p2 <- plotGroups(\n",
    "    ArchRProj = males_late, \n",
    "    groupBy = \"Sample\", \n",
    "    colorBy = \"cellColData\", \n",
    "    name = \"TSSEnrichment\",\n",
    "    plotAs = \"violin\",\n",
    "    alpha = 0.4,\n",
    "    addBoxPlot = TRUE\n",
    "   )\n",
    "p2"
   ]
  },
  {
   "cell_type": "code",
   "execution_count": null,
   "id": "automated-architecture",
   "metadata": {},
   "outputs": [],
   "source": [
    "p3 <- plotGroups(\n",
    "    ArchRProj = males_late, \n",
    "    groupBy = \"Sample\", \n",
    "    colorBy = \"cellColData\", \n",
    "    name = \"log10(nFrags)\",\n",
    "    plotAs = \"ridges\"\n",
    "   )\n",
    "p3"
   ]
  },
  {
   "cell_type": "code",
   "execution_count": null,
   "id": "invalid-screen",
   "metadata": {},
   "outputs": [],
   "source": [
    "p4 <- plotGroups(\n",
    "    ArchRProj = males_late, \n",
    "    groupBy = \"Sample\", \n",
    "    colorBy = \"cellColData\", \n",
    "    name = \"log10(nFrags)\",\n",
    "    plotAs = \"violin\",\n",
    "    alpha = 0.4,\n",
    "    addBoxPlot = TRUE\n",
    "   )\n",
    "p4"
   ]
  },
  {
   "cell_type": "code",
   "execution_count": null,
   "id": "accurate-development",
   "metadata": {},
   "outputs": [],
   "source": [
    "# plotPDF(p1,p2,p3,p4, name = \"QC-Sample-Statistics.pdf\", ArchRProj = males_late, \n",
    "#         addDOC = FALSE, width = 4, height = 4)"
   ]
  },
  {
   "cell_type": "code",
   "execution_count": null,
   "id": "modified-milton",
   "metadata": {},
   "outputs": [],
   "source": [
    "p5 <- plotFragmentSizes(ArchRProj = males_late)\n",
    "p5"
   ]
  },
  {
   "cell_type": "code",
   "execution_count": null,
   "id": "measured-telescope",
   "metadata": {},
   "outputs": [],
   "source": [
    "p6 <- plotTSSEnrichment(ArchRProj = males_late)\n",
    "p6"
   ]
  },
  {
   "cell_type": "code",
   "execution_count": null,
   "id": "abandoned-serbia",
   "metadata": {},
   "outputs": [],
   "source": [
    "# plotPDF(p5,p6, name = \"QC-Sample-FragSizes-TSSProfile.pdf\", ArchRProj = males_late, \n",
    "#         addDOC = FALSE, width = 5, height = 5)"
   ]
  },
  {
   "cell_type": "markdown",
   "id": "processed-hostel",
   "metadata": {},
   "source": [
    "### 6. Filtering doublets "
   ]
  },
  {
   "cell_type": "code",
   "execution_count": null,
   "id": "temporal-franklin",
   "metadata": {},
   "outputs": [],
   "source": [
    "# males_late <- filterDoublets(males_late)\n",
    "# males_late"
   ]
  },
  {
   "cell_type": "markdown",
   "id": "wrong-freight",
   "metadata": {},
   "source": [
    "### 7. Dimensionality reduction with iterative Latent Semantic Indexing"
   ]
  },
  {
   "cell_type": "code",
   "execution_count": null,
   "id": "hungry-schema",
   "metadata": {},
   "outputs": [],
   "source": [
    "packageVersion(\"htmltools\")"
   ]
  },
  {
   "cell_type": "code",
   "execution_count": null,
   "id": "editorial-ownership",
   "metadata": {},
   "outputs": [],
   "source": [
    "males_late <- addIterativeLSI(\n",
    "    ArchRProj = males_late,\n",
    "    useMatrix = \"TileMatrix\", \n",
    "    name = \"IterativeLSI\", \n",
    "    iterations = 2, \n",
    "    clusterParams = list( #See Seurat::FindClusters\n",
    "        resolution = c(0.2), \n",
    "        sampleCells = 10000, \n",
    "        n.start = 10\n",
    "    ), \n",
    "    varFeatures = 25000, \n",
    "    dimsToUse = 1:30\n",
    ")"
   ]
  },
  {
   "cell_type": "code",
   "execution_count": null,
   "id": "martial-douglas",
   "metadata": {},
   "outputs": [],
   "source": [
    "###########################\n",
    "# Extract LSI coordinates #\n",
    "###########################\n",
    "\n",
    "lsi.mtx <- getReducedDims(\n",
    "  ArchRProj = males_late,\n",
    "  reducedDims = \"IterativeLSI\",\n",
    "  returnMatrix = TRUE,\n",
    "  dimsToUse = 1:30,\n",
    "  scaleDims = TRUE,\n",
    "  corCutOff = 0.75\n",
    ")\n",
    "dim(lsi.mtx)"
   ]
  },
  {
   "cell_type": "markdown",
   "id": "proof-invalid",
   "metadata": {},
   "source": [
    "### 8. Batch effects correction with Mutual Nearest Neighbors \n",
    "\n",
    "The convenience of MNN is that we can choose the order of integration of the samples to account for different degrees of variability between samples closer or further away in developmental time"
   ]
  },
  {
   "cell_type": "code",
   "execution_count": null,
   "id": "guided-peeing",
   "metadata": {},
   "outputs": [],
   "source": [
    "library(uwot) # UMAP "
   ]
  },
  {
   "cell_type": "code",
   "execution_count": null,
   "id": "standard-complaint",
   "metadata": {},
   "outputs": [],
   "source": [
    "timepoints <- getCellColData(males_late)$stage\n",
    "table(timepoints)"
   ]
  },
  {
   "cell_type": "code",
   "execution_count": null,
   "id": "physical-party",
   "metadata": {},
   "outputs": [],
   "source": [
    "samples <- getCellColData(males_late)$Sample\n",
    "table(samples)"
   ]
  },
  {
   "cell_type": "code",
   "execution_count": null,
   "id": "fifth-assist",
   "metadata": {},
   "outputs": [],
   "source": [
    "lsi_list <- lapply(unique(timepoints), function(i){\n",
    "      sub_pc   <- lsi.mtx[timepoints == i, , drop = FALSE]\n",
    "      sub_samp <- samples[timepoints == i]\n",
    "      list     <- lapply(unique(sub_samp), function(j){ sub_pc[sub_samp == j, , drop = FALSE]})\n",
    "      names(list) <- unique(sub_samp)\n",
    "      return(list)\n",
    "    })"
   ]
  },
  {
   "cell_type": "code",
   "execution_count": null,
   "id": "87af33dd-1afc-4c63-bbc6-776ccdd9a509",
   "metadata": {},
   "outputs": [],
   "source": [
    "timepoints <- getCellColData(males_late)$stage\n",
    "samples <- getCellColData(males_late)$Sample\n",
    "\n",
    "lsi_list <- lapply(unique(timepoints), function(i){\n",
    "      sub_pc   <- lsi.mtx[timepoints == i, , drop = FALSE]\n",
    "      sub_samp <- samples[timepoints == i]\n",
    "      list     <- lapply(unique(sub_samp), function(j){ sub_pc[sub_samp == j, , drop = FALSE]})\n",
    "      names(list) <- unique(sub_samp)\n",
    "      return(list)\n",
    "    })\n",
    "\n",
    "names(lsi_list) <- unique(timepoints)"
   ]
  },
  {
   "cell_type": "code",
   "execution_count": null,
   "id": "af8b32fa-1df1-4de0-9715-c26f94ecc023",
   "metadata": {},
   "outputs": [],
   "source": [
    "table(getCellColData(males_late)$Sample, getCellColData(males_late)$stage)"
   ]
  },
  {
   "cell_type": "code",
   "execution_count": null,
   "id": "southwest-lobby",
   "metadata": {},
   "outputs": [],
   "source": [
    "names(lsi_list) <- unique(timepoints)\n",
    "timepoint_order <- c(12, 14, 15, 17, 18, 20) \n",
    "sample_order <- c(\"HD_F_GON11282673\", \"HD_F_GON14666993\", \"HD_F_GON13254250\", \"HD_F_GON13254252\", \"HCA_F_GON11173193_and_HCA_F_GON11212448\", \n",
    "                 \"HD_F_GON12139982_and_HD_F_GON12220623\", \"HD_F_GON12139983_and_HD_F_GON12220624\", \"HD_F_GON15261138\", \"HD_F_GON15261135\", \"HD_F_GON15265170\", \"HD_F_GON11282674\")\n",
    "#arrange to match timepoint order\n",
    "lsi_list <- lsi_list[order(match(names(lsi_list), timepoint_order))]\n",
    "lsi_list <- lapply(lsi_list, function(x){ x[order(match(names(x), sample_order))]})"
   ]
  },
  {
   "cell_type": "code",
   "execution_count": null,
   "id": "moderate-wireless",
   "metadata": {},
   "outputs": [],
   "source": [
    "library(batchelor)"
   ]
  },
  {
   "cell_type": "code",
   "execution_count": null,
   "id": "tested-modern",
   "metadata": {},
   "outputs": [],
   "source": [
    "#perform corrections within stages\n",
    "correct_list <- lapply(lsi_list, function(x){\n",
    "    if(length(x) > 1){\n",
    "        return(do.call(reducedMNN, x)$corrected)\n",
    "      } else {\n",
    "        return(x[[1]])\n",
    "      }\n",
    "    })"
   ]
  },
  {
   "cell_type": "code",
   "execution_count": null,
   "id": "residential-moscow",
   "metadata": {},
   "outputs": [],
   "source": [
    "# perform correction over stages\n",
    "lsi.mtx <- reducedMNN(correct_list, merge.order=1:length(correct_list))$corrected \n",
    "rm(correct_list,lsi_list)"
   ]
  },
  {
   "cell_type": "markdown",
   "id": "seventh-taxation",
   "metadata": {},
   "source": [
    "### 9. UMAP embedding"
   ]
  },
  {
   "cell_type": "code",
   "execution_count": null,
   "id": "rotary-persian",
   "metadata": {},
   "outputs": [],
   "source": [
    "library(tibble)\n",
    "sample_metadata <- getCellColData(males_late) %>% as.data.table(keep.rownames = T)\n",
    "names(sample_metadata)[names(sample_metadata) == 'rn'] <- 'cell'\n",
    "head(sample_metadata)"
   ]
  },
  {
   "cell_type": "code",
   "execution_count": null,
   "id": "driving-revision",
   "metadata": {},
   "outputs": [],
   "source": [
    "pt.size <- ifelse(nrow(lsi.mtx)>=1e4,0.8,1.2)\n",
    "n_neighbors <- 25\n",
    "min_dist <- 0.50\n",
    "dimred <- \"IterativeLSI_MNN\"\n",
    "\n",
    "for (i in n_neighbors) {\n",
    "  for (j in min_dist) {\n",
    "    \n",
    "    # Run UMAP\n",
    "    set.seed(1996)\n",
    "    umap_embedding.mtx <- umap(lsi.mtx, n_neighbors=i, min_dist=j, metric=\"cosine\", fast_sgd = TRUE) %>% round(2)\n",
    "    rownames(umap_embedding.mtx) <- rownames(lsi.mtx)\n",
    "    \n",
    "    # Fetch UMAP coordinates\n",
    "    umap.dt <- umap_embedding.mtx %>%\n",
    "    as.data.table(keep.rownames = T) %>%\n",
    "    setnames(c(\"cell\",\"umap1\",\"umap2\"))\n",
    "    \n",
    "    to.plot <- umap.dt %>% merge(sample_metadata, by=\"cell\")\n",
    "  }\n",
    "}"
   ]
  },
  {
   "cell_type": "code",
   "execution_count": null,
   "id": "through-bracket",
   "metadata": {},
   "outputs": [],
   "source": [
    "p <- ggplot(to.plot, aes_string(x=\"umap1\", y=\"umap2\", fill=\"Sample\")) +\n",
    "        geom_point(size=1, shape=21, stroke=0.05) +\n",
    "        # ggrastr::geom_point_rast(size=1.5, shape=21, stroke=0.05) +  # DOES NOT WORK IN THE CLUSTER\n",
    "        theme_classic() + theme(axis.text.x = element_text(angle = 90, vjust = 0.5, hjust=1), \n",
    "                                             text = element_text(size = 15), legend.position=\"bottom\")\n",
    "p"
   ]
  },
  {
   "cell_type": "code",
   "execution_count": null,
   "id": "funded-expert",
   "metadata": {},
   "outputs": [],
   "source": [
    "pdf(\"/nfs/team292/vl6/FetalReproductiveTract/ATAC_QC/ArchR/males_late/umap_sample.pdf\", width=9, height=9)\n",
    "print(p)\n",
    "dev.off()"
   ]
  },
  {
   "cell_type": "code",
   "execution_count": null,
   "id": "weekly-aberdeen",
   "metadata": {},
   "outputs": [],
   "source": [
    "p2 <- ggplot(to.plot, aes_string(x=\"umap1\", y=\"umap2\", fill=\"Clusters2\")) +\n",
    "        geom_point(size=1, shape=21, stroke=0.05) +\n",
    "        # ggrastr::geom_point_rast(size=1.5, shape=21, stroke=0.05) +  # DOES NOT WORK IN THE CLUSTER\n",
    "        theme_classic() + theme(axis.text.x = element_text(angle = 90, vjust = 0.5, hjust=1), \n",
    "                                             text = element_text(size = 15))\n",
    "p2"
   ]
  },
  {
   "cell_type": "code",
   "execution_count": null,
   "id": "accepted-reverse",
   "metadata": {},
   "outputs": [],
   "source": [
    "pdf(\"/nfs/team292/vl6/FetalReproductiveTract/ATAC_QC/ArchR/males_late/umap_clusters2.pdf\", width=9, height=9)\n",
    "print(p2)\n",
    "dev.off()"
   ]
  },
  {
   "cell_type": "code",
   "execution_count": null,
   "id": "professional-ballot",
   "metadata": {},
   "outputs": [],
   "source": [
    "p3 <- ggplot(to.plot, aes_string(x=\"umap1\", y=\"umap2\", fill=\"stage\")) +\n",
    "        geom_point(size=1, shape=21, stroke=0.05) +\n",
    "        # ggrastr::geom_point_rast(size=1.5, shape=21, stroke=0.05) +  # DOES NOT WORK IN THE CLUSTER\n",
    "        theme_classic() + theme(axis.text.x = element_text(angle = 90, vjust = 0.5, hjust=1), \n",
    "                                             text = element_text(size = 15), legend.position=\"bottom\")\n",
    "p3"
   ]
  },
  {
   "cell_type": "code",
   "execution_count": null,
   "id": "quick-insight",
   "metadata": {},
   "outputs": [],
   "source": [
    "pdf(\"/nfs/team292/vl6/FetalReproductiveTract/ATAC_QC/ArchR/males_late/umap_stage.pdf\", width=7, height=7)\n",
    "print(p3)\n",
    "dev.off()"
   ]
  },
  {
   "cell_type": "code",
   "execution_count": null,
   "id": "radio-creativity",
   "metadata": {},
   "outputs": [],
   "source": [
    "p4 <- ggplot(to.plot, aes_string(x=\"umap1\", y=\"umap2\", fill=\"donor\")) +\n",
    "        geom_point(size=1, shape=21, stroke=0.05) +\n",
    "        # ggrastr::geom_point_rast(size=1.5, shape=21, stroke=0.05) +  # DOES NOT WORK IN THE CLUSTER\n",
    "        theme_classic() + theme(axis.text.x = element_text(angle = 90, vjust = 0.5, hjust=1), \n",
    "                                             text = element_text(size = 15), legend.position=\"bottom\")\n",
    "p4"
   ]
  },
  {
   "cell_type": "code",
   "execution_count": null,
   "id": "controlling-wrong",
   "metadata": {},
   "outputs": [],
   "source": [
    "pdf(\"/nfs/team292/vl6/FetalReproductiveTract/ATAC_QC/ArchR/males_late/umap_donor.pdf\", width=7, height=7)\n",
    "print(p4)\n",
    "dev.off()"
   ]
  },
  {
   "cell_type": "code",
   "execution_count": null,
   "id": "prerequisite-democracy",
   "metadata": {},
   "outputs": [],
   "source": [
    "p5 <- ggplot(to.plot, aes_string(x=\"umap1\", y=\"umap2\", fill=\"technology\")) +\n",
    "        geom_point(size=1, shape=21, stroke=0.05) +\n",
    "        # ggrastr::geom_point_rast(size=1.5, shape=21, stroke=0.05) +  # DOES NOT WORK IN THE CLUSTER\n",
    "        theme_classic() + theme(axis.text.x = element_text(angle = 90, vjust = 0.5, hjust=1), \n",
    "                                             text = element_text(size = 15), legend.position=\"bottom\")\n",
    "p5"
   ]
  },
  {
   "cell_type": "code",
   "execution_count": null,
   "id": "backed-disney",
   "metadata": {},
   "outputs": [],
   "source": [
    "pdf(\"/nfs/team292/vl6/FetalReproductiveTract/ATAC_QC/ArchR/males_late/umap_technology.pdf\", width=7, height=7)\n",
    "print(p5)\n",
    "dev.off()"
   ]
  },
  {
   "cell_type": "code",
   "execution_count": null,
   "id": "reliable-poverty",
   "metadata": {},
   "outputs": [],
   "source": [
    "write.csv(to.plot, \"/nfs/team292/vl6/FetalReproductiveTract/ATAC_QC/ArchR/males_late/umap_coords.csv\", row.names = FALSE)"
   ]
  },
  {
   "cell_type": "code",
   "execution_count": null,
   "id": "golden-following",
   "metadata": {},
   "outputs": [],
   "source": [
    "write.csv(lsi.mtx, \"/nfs/team292/vl6/FetalReproductiveTract/ATAC_QC/ArchR/males_late/mnn_embedding.csv\", row.names = FALSE)"
   ]
  },
  {
   "cell_type": "code",
   "execution_count": null,
   "id": "taken-montana",
   "metadata": {},
   "outputs": [],
   "source": []
  }
 ],
 "metadata": {
  "kernelspec": {
   "display_name": "R",
   "language": "R",
   "name": "ir"
  },
  "language_info": {
   "codemirror_mode": "r",
   "file_extension": ".r",
   "mimetype": "text/x-r-source",
   "name": "R",
   "pygments_lexer": "r",
   "version": "4.1.2"
  }
 },
 "nbformat": 4,
 "nbformat_minor": 5
}
