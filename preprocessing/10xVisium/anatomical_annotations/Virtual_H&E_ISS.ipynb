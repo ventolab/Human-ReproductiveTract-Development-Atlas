{
 "cells": [
  {
   "cell_type": "markdown",
   "id": "a2568790-5abb-4184-ac4b-92aca0b9dc5f",
   "metadata": {},
   "source": [
    "## Creating \"virtual H&E\" for ISS samples from gene expression"
   ]
  },
  {
   "cell_type": "code",
   "execution_count": 19,
   "id": "1160bcf8-3cdc-489a-9975-d57024c5b8af",
   "metadata": {},
   "outputs": [],
   "source": [
    "import scanpy as sc\n",
    "import pandas as pd\n",
    "import cv2\n",
    "from PIL import Image as Im\n",
    "import numpy as np\n",
    "import matplotlib.pyplot as plt"
   ]
  },
  {
   "cell_type": "code",
   "execution_count": 20,
   "id": "3ffccb43-a91b-48a9-b15f-cc2abcc101df",
   "metadata": {},
   "outputs": [],
   "source": [
    "data_dir = '/nfs/team292/vl6/FetalReproductiveTract/ISS/'\n",
    "sample = 'CM009'"
   ]
  },
  {
   "cell_type": "code",
   "execution_count": 21,
   "id": "23cbfdb6-e2e0-45c6-8a89-903868e2e2f4",
   "metadata": {},
   "outputs": [],
   "source": [
    "adata_sp = sc.read(data_dir + 'RV_RPT_CM009_n_gene_min_4.h5ad')"
   ]
  },
  {
   "cell_type": "code",
   "execution_count": 22,
   "id": "47d76e38-30d6-47f2-9348-d2e7076cdf31",
   "metadata": {},
   "outputs": [
    {
     "data": {
      "text/plain": [
       "AnnData object with n_obs × n_vars = 56627 × 171\n",
       "    obs: 'sample', 'total_counts', 'n_genes_by_counts', 'leiden'\n",
       "    var: 'total_counts', 'n_cells_by_counts'\n",
       "    uns: 'leiden', 'leiden_colors', 'neighbors', 'pca', 'umap'\n",
       "    obsm: 'X_pca', 'X_umap', 'spatial'\n",
       "    varm: 'PCs'\n",
       "    obsp: 'connectivities', 'distances'"
      ]
     },
     "execution_count": 22,
     "metadata": {},
     "output_type": "execute_result"
    }
   ],
   "source": [
    "adata_sp"
   ]
  },
  {
   "cell_type": "code",
   "execution_count": 23,
   "id": "a2246dba-a2eb-45e1-b6f1-4af57ccc8021",
   "metadata": {},
   "outputs": [],
   "source": [
    "import sys\n",
    "utils_dir = '/nfs/team292/vl6/RepTract/'\n",
    "sys.path.append(utils_dir)\n",
    "\n",
    "import reptract_utils"
   ]
  },
  {
   "cell_type": "code",
   "execution_count": 24,
   "id": "2cbe73d7-753b-429c-a803-ae96d22e7867",
   "metadata": {},
   "outputs": [],
   "source": [
    "# Normalise spatial data \n",
    "adata_sp.raw = adata_sp.copy()\n",
    "adata_sp = reptract_utils.normalize_log_transform(adata_sp) ### this is my own wrapped function for normalisation and log transformation in scanpy "
   ]
  },
  {
   "cell_type": "code",
   "execution_count": 25,
   "id": "555c4b81-a1b5-43f1-aecc-5ab3ce3dd428",
   "metadata": {},
   "outputs": [
    {
     "name": "stdout",
     "output_type": "stream",
     "text": [
      "29.311419\n"
     ]
    }
   ],
   "source": [
    "# RED\n",
    "geneind1 = np.where(adata_sp.var_names == 'EPCAM')[0]\n",
    "genedata1 = np.squeeze(np.asarray(adata_sp.X[:,geneind1]))\n",
    "norm_factor1 = 255/np.max(genedata1)\n",
    "print(norm_factor1)"
   ]
  },
  {
   "cell_type": "code",
   "execution_count": 26,
   "id": "9d88fade-ead9-42a1-9ad3-7eaabf066b33",
   "metadata": {},
   "outputs": [
    {
     "name": "stdout",
     "output_type": "stream",
     "text": [
      "27.685972\n"
     ]
    }
   ],
   "source": [
    "# GREEN\n",
    "geneind2 = np.where(adata_sp.var_names == 'PDGFRA')[0]\n",
    "genedata2 = np.squeeze(np.asarray(adata_sp.X[:,geneind2]))\n",
    "norm_factor2 = 255/np.max(genedata2)\n",
    "print(norm_factor2)"
   ]
  },
  {
   "cell_type": "code",
   "execution_count": 27,
   "id": "1ba36787-4d1d-4aa1-83df-459d8285e78e",
   "metadata": {},
   "outputs": [
    {
     "name": "stdout",
     "output_type": "stream",
     "text": [
      "28.373302\n"
     ]
    }
   ],
   "source": [
    "# BLUE\n",
    "geneind3 = np.where(adata_sp.var_names == 'MYH11')[0]\n",
    "genedata3 = np.squeeze(np.asarray(adata_sp.X[:,geneind3]))\n",
    "norm_factor3 = 255/np.max(genedata3)\n",
    "print(norm_factor3)"
   ]
  },
  {
   "cell_type": "code",
   "execution_count": 28,
   "id": "ef8f8914-547e-4706-b180-9b5e0d9715b4",
   "metadata": {},
   "outputs": [],
   "source": [
    "# Get spatial data from ISS object\n",
    "point_cloud = adata_sp.obsm['spatial']"
   ]
  },
  {
   "cell_type": "code",
   "execution_count": 29,
   "id": "c32cd099-e340-4282-94aa-9328b1ee398f",
   "metadata": {},
   "outputs": [
    {
     "name": "stdout",
     "output_type": "stream",
     "text": [
      "2323.8596388339074 1964.4552241207325 40968.72110587392 32611.580577269997\n"
     ]
    }
   ],
   "source": [
    "# Determine the XY range of the point cloud data\n",
    "x_min, y_min = np.min(point_cloud, axis=0)\n",
    "x_max, y_max = np.max(point_cloud, axis=0)\n",
    "print(x_min, y_min, x_max, y_max)"
   ]
  },
  {
   "cell_type": "code",
   "execution_count": 30,
   "id": "6902d15a-070c-4170-b960-4e4b3c369e9a",
   "metadata": {},
   "outputs": [
    {
     "name": "stdout",
     "output_type": "stream",
     "text": [
      "width: 40968, height: 32611\n"
     ]
    }
   ],
   "source": [
    "# Calculate the width and height of the image\n",
    "width = int(x_max)\n",
    "height = int(y_max)\n",
    "print('width: {}, height: {}'.format(width, height))"
   ]
  },
  {
   "cell_type": "code",
   "execution_count": 31,
   "id": "cde3a7da-ad01-47c9-8fc2-0ce04c6d6871",
   "metadata": {},
   "outputs": [
    {
     "data": {
      "text/plain": [
       "(32611, 40968, 3)"
      ]
     },
     "execution_count": 31,
     "metadata": {},
     "output_type": "execute_result"
    }
   ],
   "source": [
    "# Create an empty image of the same size\n",
    "image = np.zeros((height, width,3), dtype=np.uint8)  # RGB image\n",
    "image.shape"
   ]
  },
  {
   "cell_type": "code",
   "execution_count": 32,
   "id": "81b510ef-8f98-4f8c-bcda-2ea596dfd5ea",
   "metadata": {},
   "outputs": [],
   "source": [
    "# Map points to pixels and assign color values\n",
    "for ind,point in enumerate(point_cloud):\n",
    "    x, y = point\n",
    "    pixel_x = int(x)\n",
    "    pixel_y = int(y)\n",
    "    image[pixel_y-1, pixel_x-1] = (norm_factor1*genedata1[ind],norm_factor2*genedata2[ind],norm_factor3*genedata3[ind])  # Assign color to the pixel"
   ]
  },
  {
   "cell_type": "code",
   "execution_count": 33,
   "id": "8b28c98d-4523-4c56-8017-bfe13cb64a8e",
   "metadata": {},
   "outputs": [],
   "source": [
    "#Split the image into the B,G,R components.\n",
    "b,g,r = cv2.split(image)\n",
    "kernel = np.ones((25, 25), np.uint8)"
   ]
  },
  {
   "cell_type": "code",
   "execution_count": 34,
   "id": "e40547ff-54fe-44b4-9c44-d78c8baf1567",
   "metadata": {},
   "outputs": [],
   "source": [
    "# Perform dilation on each color channel.\n",
    "b_dilated = cv2.dilate(b, kernel, iterations = 2)\n",
    "g_dilated = cv2.dilate(g, kernel, iterations = 2)\n",
    "r_dilated = cv2.dilate(r, kernel, iterations = 2)"
   ]
  },
  {
   "cell_type": "code",
   "execution_count": 35,
   "id": "5ac2682a-da4c-4fae-9236-696408acbd1d",
   "metadata": {},
   "outputs": [],
   "source": [
    "# Merge the channels back together.\n",
    "dilated_img = np.dstack((b_dilated, g_dilated, r_dilated,np.ones((height, width), dtype=np.uint8)*255))  # RGBA image\n",
    "ImP = Im.fromarray(dilated_img)"
   ]
  },
  {
   "cell_type": "code",
   "execution_count": 37,
   "id": "3967d95c-5c85-4c71-a4aa-8d68631d4a69",
   "metadata": {},
   "outputs": [],
   "source": [
    "ImP.save('/nfs/team292/vl6/FetalReproductiveTract/ISS/CM009/CM009.png')"
   ]
  },
  {
   "cell_type": "code",
   "execution_count": null,
   "id": "9a654640-a719-47d0-b71a-27367e26822f",
   "metadata": {},
   "outputs": [],
   "source": []
  },
  {
   "cell_type": "code",
   "execution_count": null,
   "id": "5297f9af-06d2-4e5f-bd97-5109e989e960",
   "metadata": {},
   "outputs": [],
   "source": []
  }
 ],
 "metadata": {
  "kernelspec": {
   "display_name": "tissue-tag-env",
   "language": "python",
   "name": "tissue-tag-env"
  },
  "language_info": {
   "codemirror_mode": {
    "name": "ipython",
    "version": 3
   },
   "file_extension": ".py",
   "mimetype": "text/x-python",
   "name": "python",
   "nbconvert_exporter": "python",
   "pygments_lexer": "ipython3",
   "version": "3.9.21"
  }
 },
 "nbformat": 4,
 "nbformat_minor": 5
}
