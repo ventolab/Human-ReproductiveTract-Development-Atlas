{
 "cells": [
  {
   "cell_type": "code",
   "execution_count": null,
   "id": "b1229a26",
   "metadata": {},
   "outputs": [],
   "source": [
    "import numpy as np\n",
    "import pandas as pd\n",
    "import scanpy as sc\n",
    "import matplotlib.pyplot as plt\n",
    "import os\n",
    "import sys\n",
    "import scipy\n",
    "\n",
    "\n",
    "def MovePlots(plotpattern, subplotdir):\n",
    "    os.system('mkdir -p '+str(sc.settings.figdir)+'/'+subplotdir)\n",
    "    os.system('mv '+str(sc.settings.figdir)+'/*'+plotpattern+'** '+str(sc.settings.figdir)+'/'+subplotdir)\n",
    "\n",
    "\n",
    "sc.settings.verbosity = 3  # verbosity: errors (0), warnings (1), info (2), hints (3)\n",
    "sc.settings.figdir = './genital_tubercle_figures_humans/'\n",
    "sc.logging.print_versions()\n",
    "sc.settings.set_figure_params(dpi=80)  # low dpi (dots per inch) yields small inline figures\n",
    "\n",
    "sys.executable"
   ]
  },
  {
   "cell_type": "markdown",
   "id": "78670bd8",
   "metadata": {},
   "source": [
    "# 1. Load human data"
   ]
  },
  {
   "cell_type": "code",
   "execution_count": null,
   "id": "3e2614ed",
   "metadata": {},
   "outputs": [],
   "source": [
    "path_to_data = '/nfs/team292/vl6/FetalReproductiveTract/'"
   ]
  },
  {
   "cell_type": "code",
   "execution_count": null,
   "id": "138351fa",
   "metadata": {},
   "outputs": [],
   "source": [
    "human = sc.read(path_to_data + \"human_genital_tubercle_mpw_orthologs_with_embedding.h5ad\")\n",
    "human"
   ]
  },
  {
   "cell_type": "code",
   "execution_count": null,
   "id": "312d4f71",
   "metadata": {},
   "outputs": [],
   "source": [
    "sc.set_figure_params(scanpy=True, dpi=80, dpi_save=150, \n",
    "                         frameon=True, vector_friendly=True, fontsize=14, figsize=[7,7], color_map=None, \n",
    "                         format='pdf', facecolor=None, transparent=False,)"
   ]
  },
  {
   "cell_type": "markdown",
   "id": "6f118926",
   "metadata": {},
   "source": [
    "# 2. Import human neighbourhood assignment"
   ]
  },
  {
   "cell_type": "code",
   "execution_count": null,
   "id": "dd40e4e5",
   "metadata": {},
   "outputs": [],
   "source": [
    "human_nhoods = pd.read_csv(path_to_data + 'human_genital_tubercle_mpw_milo_15knn.csv', index_col = 0)\n",
    "human_nhoods.shape"
   ]
  },
  {
   "cell_type": "code",
   "execution_count": null,
   "id": "9eed69ee",
   "metadata": {},
   "outputs": [],
   "source": [
    "human_nhoods.head()"
   ]
  },
  {
   "cell_type": "code",
   "execution_count": null,
   "id": "8cbd03fb",
   "metadata": {},
   "outputs": [],
   "source": [
    "human_nhoods['celltype'] = human_nhoods.index.map(human.obs['human_celltype'].to_dict())"
   ]
  },
  {
   "cell_type": "code",
   "execution_count": null,
   "id": "6189df66",
   "metadata": {},
   "outputs": [],
   "source": [
    "human_nhoods['celltype'].value_counts()"
   ]
  },
  {
   "cell_type": "code",
   "execution_count": null,
   "id": "97472b7d",
   "metadata": {},
   "outputs": [],
   "source": [
    "# Melt the DataFrame to long format\n",
    "human_nhoods_long = pd.melt(human_nhoods, id_vars=['celltype'], var_name='neighborhood', value_name='membership')\n",
    "\n",
    "# Filter for rows where the cell belongs to the neighborhood\n",
    "human_nhoods_long = human_nhoods_long[human_nhoods_long['membership'] == 1]\n",
    "\n",
    "# Group by Neighborhood and cell type, then count the occurrences\n",
    "human_cell_counts = human_nhoods_long.groupby(['neighborhood', 'celltype']).size().reset_index(name='count')\n",
    "\n",
    "# Determine the most abundant cell type for each neighborhood\n",
    "human_most_abundant_celltype = human_cell_counts.loc[human_cell_counts.groupby('neighborhood')['count'].idxmax()]\n",
    "\n",
    "human_most_abundant_celltype = human_most_abundant_celltype[['neighborhood', 'celltype']]\n",
    "\n",
    "human_most_abundant_celltype.set_index('neighborhood', inplace=True)"
   ]
  },
  {
   "cell_type": "code",
   "execution_count": null,
   "id": "31146fc0",
   "metadata": {},
   "outputs": [],
   "source": [
    "human_most_abundant_celltype.shape"
   ]
  },
  {
   "cell_type": "code",
   "execution_count": null,
   "id": "55aa15e6",
   "metadata": {},
   "outputs": [],
   "source": [
    "human_most_abundant_celltype.head()"
   ]
  },
  {
   "cell_type": "markdown",
   "id": "aa97a572",
   "metadata": {},
   "source": [
    "# 3. Import mouse data "
   ]
  },
  {
   "cell_type": "code",
   "execution_count": null,
   "id": "fb1578f7",
   "metadata": {},
   "outputs": [],
   "source": [
    "mouse = sc.read(path_to_data + 'mouse_genital_tubercle_mpw_orthologs_with_embedding.h5ad')\n",
    "mouse"
   ]
  },
  {
   "cell_type": "markdown",
   "id": "eef10412",
   "metadata": {},
   "source": [
    "# 4. Import mouse neighbourhood assignment"
   ]
  },
  {
   "cell_type": "code",
   "execution_count": null,
   "id": "5c1f93ce",
   "metadata": {},
   "outputs": [],
   "source": [
    "nhoods_mouse = pd.read_csv(path_to_data + \"mouse_genital_tubercle_mpw_milo_15knn.csv\", index_col = 0)\n",
    "nhoods_mouse.shape"
   ]
  },
  {
   "cell_type": "code",
   "execution_count": null,
   "id": "4b88afcf",
   "metadata": {},
   "outputs": [],
   "source": [
    "nhoods_mouse.head()"
   ]
  },
  {
   "cell_type": "code",
   "execution_count": null,
   "id": "403cdc49",
   "metadata": {},
   "outputs": [],
   "source": [
    "nhoods_mouse['celltype'] = nhoods_mouse.index.map(mouse.obs['mouse_celltype'].to_dict())"
   ]
  },
  {
   "cell_type": "code",
   "execution_count": null,
   "id": "d4a86726",
   "metadata": {},
   "outputs": [],
   "source": [
    "# Melt the DataFrame to long format\n",
    "nhoods_mouse_long = pd.melt(nhoods_mouse, id_vars=['celltype'], var_name='neighborhood', value_name='membership')\n",
    "\n",
    "# Filter for rows where the cell belongs to the neighborhood\n",
    "nhoods_mouse_long = nhoods_mouse_long[nhoods_mouse_long['membership'] == 1]\n",
    "\n",
    "# Group by Neighborhood and CellType, then count the occurrences\n",
    "cell_counts_mouse = nhoods_mouse_long.groupby(['neighborhood', 'celltype']).size().reset_index(name='count')\n",
    "\n",
    "# Determine the most abundant cell type for each neighborhood\n",
    "most_abundant_celltype_mouse = cell_counts_mouse.loc[cell_counts_mouse.groupby('neighborhood')['count'].idxmax()]\n",
    "\n",
    "# Drop unnecessary columns if you want, and rename as needed\n",
    "most_abundant_celltype_mouse = most_abundant_celltype_mouse[['neighborhood', 'celltype']]\n",
    "\n",
    "# Optionally, you might want to set the Neighborhood as the index\n",
    "most_abundant_celltype_mouse.set_index('neighborhood', inplace=True)"
   ]
  },
  {
   "cell_type": "code",
   "execution_count": null,
   "id": "66153e70",
   "metadata": {},
   "outputs": [],
   "source": [
    "most_abundant_celltype_mouse.shape"
   ]
  },
  {
   "cell_type": "code",
   "execution_count": null,
   "id": "b730dc43",
   "metadata": {},
   "outputs": [],
   "source": [
    "most_abundant_celltype_mouse.head()"
   ]
  },
  {
   "cell_type": "markdown",
   "id": "09e189cf",
   "metadata": {},
   "source": [
    "# 5. Import neighbourhood matching"
   ]
  },
  {
   "cell_type": "code",
   "execution_count": null,
   "id": "210bc3e7",
   "metadata": {},
   "outputs": [],
   "source": [
    "nhood_match = pd.read_csv('/nfs/team292/vl6/Mouse_RepTract/Amato2021/MNNMatch__spearman__mouse_genital_tubercle_mpw_milo_15knn__human_genital_tubercle_mpw_milo_15knn.csv')\n",
    "nhood_match.shape"
   ]
  },
  {
   "cell_type": "code",
   "execution_count": null,
   "id": "f379ba8c",
   "metadata": {},
   "outputs": [],
   "source": [
    "nhood_match.head()"
   ]
  },
  {
   "cell_type": "code",
   "execution_count": null,
   "id": "d7ef327a",
   "metadata": {},
   "outputs": [],
   "source": [
    "nhood_match['mouse_celltype'] = nhood_match['mouse_genital_tubercle_mpw_milo_15knn'].astype(str).map(most_abundant_celltype_mouse['celltype'].to_dict())\n",
    "nhood_match['human_celltype'] = nhood_match['human_genital_tubercle_mpw_milo_15knn'].astype(str).map(human_most_abundant_celltype['celltype'].to_dict())"
   ]
  },
  {
   "cell_type": "code",
   "execution_count": null,
   "id": "ebcb4889",
   "metadata": {},
   "outputs": [],
   "source": [
    "nhood_match.head()"
   ]
  },
  {
   "cell_type": "code",
   "execution_count": null,
   "id": "2540f2e9",
   "metadata": {},
   "outputs": [],
   "source": [
    "import pandas as pd\n",
    "import plotly.graph_objects as go"
   ]
  },
  {
   "cell_type": "code",
   "execution_count": null,
   "id": "1fa7101e",
   "metadata": {},
   "outputs": [],
   "source": [
    "from plotly.offline import iplot, init_notebook_mode\n",
    "\n",
    "# Enable Plotly offline mode to display plots in the notebook\n",
    "init_notebook_mode(connected=True)"
   ]
  },
  {
   "cell_type": "code",
   "execution_count": null,
   "id": "ee45c6d0",
   "metadata": {},
   "outputs": [],
   "source": [
    "\n",
    "# Create a list of unique labels (cell types) from both annotations\n",
    "labels = pd.concat([nhood_match['mouse_celltype'], nhood_match['human_celltype']]).unique()\n",
    "\n",
    "# Map labels to integers for source/target in Sankey\n",
    "label_to_id = {label: idx for idx, label in enumerate(labels)}\n",
    "\n",
    "# Create source, target, and value lists for Sankey diagram\n",
    "sources = nhood_match['mouse_celltype'].map(label_to_id).tolist()\n",
    "targets = nhood_match['human_celltype'].map(label_to_id).tolist()\n",
    "values = [1] * len(nhood_match)  # Assuming each row (comparison) contributes a count of 1\n",
    "\n",
    "# Build the Sankey diagram\n",
    "fig = go.Figure(data=[go.Sankey(\n",
    "    node=dict(\n",
    "        pad=30,  # Padding between nodes\n",
    "        thickness=20,\n",
    "        line=dict(color=\"black\", width=1),\n",
    "        label=list(labels),\n",
    "    ),\n",
    "    link=dict(\n",
    "        source=sources,  # indices of source nodes\n",
    "        target=targets,  # indices of target nodes\n",
    "        value=values,  # magnitude of flow between nodes\n",
    "        line=dict(color=\"lightgrey\", width=0.5)\n",
    "    )\n",
    ")])\n",
    "\n",
    "fig.update_layout(title_text=\"Comparison of Cell Type Annotations\", font_size=15,\n",
    "                 width=800, height=600 )\n",
    "fig.show()\n"
   ]
  },
  {
   "cell_type": "code",
   "execution_count": null,
   "id": "3864e44f",
   "metadata": {},
   "outputs": [],
   "source": [
    "import kaleido"
   ]
  },
  {
   "cell_type": "code",
   "execution_count": null,
   "id": "a7f85cea",
   "metadata": {},
   "outputs": [],
   "source": [
    "import pandas as pd\n",
    "import plotly.graph_objects as go\n",
    "from plotly.io import write_image\n",
    "\n",
    "labels = pd.concat([nhood_match['mouse_celltype'], nhood_match['human_celltype']]).unique()\n",
    "label_to_id = {label: idx for idx, label in enumerate(labels)}\n",
    "\n",
    "# Create source, target, and value lists for Sankey diagram\n",
    "sources = nhood_match['mouse_celltype'].map(label_to_id).tolist()\n",
    "targets = nhood_match['human_celltype'].map(label_to_id).tolist()\n",
    "values = [1] * len(nhood_match)  # Assuming each row (comparison) contributes a count of 1\n",
    "\n",
    "# Define colors for the nodes\n",
    "color_map = {\n",
    "    'Epithelium' : 'mediumorchid', 'Distal Dorsal Glanular Mesenchyme' : 'navy', \n",
    "    'Ventral Glanular Mesenchyme' : 'cornflowerblue', \n",
    "    'Early Proximal Glanular Mesenchyme' : 'deepskyblue', 'Late Proximal Glanular Mesenchyme' : 'darkturquoise', \n",
    "    'Corpus Cavernsoum' : 'forestgreen', 'Preputial Mesenchyme' : 'yellowgreen',\n",
    "       'Sub-Dermal Prepuce' : 'lightseagreen','Urethral Plate Basal' : 'purple', 'Urethral Plate Uroplakins' : 'palevioletred', \n",
    "    'Genital Epidermis' : 'mediumorchid', 'Preputial Lamina' : 'pink',\n",
    "     'Glans' : 'navy', 'Corpus Spongiosum' : 'deepskyblue', \n",
    "   \n",
    "    'Corpus Cavernosum' : 'forestgreen', \n",
    "     'Prepuce' : 'yellowgreen', 'Subdermal Prepuce' : 'lightseagreen', 'Labio-Scrotal Swelling' : 'teal'\n",
    "}\n",
    "\n",
    "# Use the color map to assign colors to each label\n",
    "node_colors = [color_map.get(label, '#cccccc') for label in labels]  # Default color if not specified\n",
    "\n",
    "# Build the Sankey diagram\n",
    "fig = go.Figure(data=[go.Sankey(\n",
    "    node=dict(\n",
    "        pad=30,  # Padding between nodes\n",
    "        thickness=20,\n",
    "        line=dict(color=\"black\", width=0.5),\n",
    "        label=list(labels),\n",
    "        color=node_colors  # Apply color to nodes\n",
    "    ),\n",
    "    link=dict(\n",
    "        source=sources,  # indices of source nodes\n",
    "        target=targets,  # indices of target nodes\n",
    "        value=values,  # magnitude of flow between nodes\n",
    "        color='gainsboro'  # Color of the links\n",
    "    )\n",
    ")])\n",
    "\n",
    "fig.update_layout(font_size=15, width=800, height=600)\n",
    "\n",
    "# Save the figure as a PDF\n",
    "fig.write_image(\"sankey_diagram.pdf\")\n"
   ]
  },
  {
   "cell_type": "code",
   "execution_count": null,
   "id": "58f8ba38",
   "metadata": {},
   "outputs": [],
   "source": [
    "nhood_match.tail()"
   ]
  },
  {
   "cell_type": "code",
   "execution_count": null,
   "id": "73e3d9d1",
   "metadata": {},
   "outputs": [],
   "source": [
    "nhood_match['nhood_matched'] = range(1, len(nhood_match) + 1)"
   ]
  },
  {
   "cell_type": "code",
   "execution_count": null,
   "id": "04326cda",
   "metadata": {},
   "outputs": [],
   "source": [
    "nhood_match['nhood_matched'] = ['nhood_' + str(i) for i in nhood_match['nhood_matched']]"
   ]
  },
  {
   "cell_type": "code",
   "execution_count": null,
   "id": "bd8da1c8",
   "metadata": {},
   "outputs": [],
   "source": [
    "nhood_match.head()"
   ]
  },
  {
   "cell_type": "code",
   "execution_count": null,
   "id": "e9877e1e",
   "metadata": {},
   "outputs": [],
   "source": [
    "nhood_match['combined_celltype'] = nhood_match['mouse_celltype'] + ' --- ' + nhood_match['human_celltype']"
   ]
  },
  {
   "cell_type": "code",
   "execution_count": null,
   "id": "f2e9038a",
   "metadata": {},
   "outputs": [],
   "source": [
    "nhood_match.head()"
   ]
  },
  {
   "cell_type": "code",
   "execution_count": null,
   "id": "c51ae2f2",
   "metadata": {},
   "outputs": [],
   "source": [
    "nhood_match['combined_celltype'].value_counts()"
   ]
  },
  {
   "cell_type": "code",
   "execution_count": null,
   "id": "50e7debb",
   "metadata": {},
   "outputs": [],
   "source": [
    "nhood_match = nhood_match[nhood_match['combined_celltype'] == 'Early Proximal Glanular Mesenchyme --- Corpus Spongiosum']\n",
    "nhood_match"
   ]
  },
  {
   "cell_type": "code",
   "execution_count": null,
   "id": "96e74746",
   "metadata": {},
   "outputs": [],
   "source": [
    "mouse_nhood_match = nhood_match['mouse_genital_tubercle_mpw_milo_15knn'].to_list()"
   ]
  },
  {
   "cell_type": "code",
   "execution_count": null,
   "id": "f3ee49e5",
   "metadata": {},
   "outputs": [],
   "source": [
    "len(mouse_nhood_match)"
   ]
  },
  {
   "cell_type": "code",
   "execution_count": null,
   "id": "2e37a4e6",
   "metadata": {},
   "outputs": [],
   "source": [
    "len(np.unique(mouse_nhood_match))"
   ]
  },
  {
   "cell_type": "code",
   "execution_count": null,
   "id": "56f15b6d",
   "metadata": {},
   "outputs": [],
   "source": [
    "mouse_nhood_match = list(np.unique(mouse_nhood_match))"
   ]
  },
  {
   "cell_type": "code",
   "execution_count": null,
   "id": "7b5d5408",
   "metadata": {},
   "outputs": [],
   "source": [
    "mouse_nhood_match_str = [str(i) for i in mouse_nhood_match]"
   ]
  },
  {
   "cell_type": "code",
   "execution_count": null,
   "id": "7dce7312",
   "metadata": {},
   "outputs": [],
   "source": [
    "nhoods_mouse_filtered = nhoods_mouse[mouse_nhood_match_str]"
   ]
  },
  {
   "cell_type": "code",
   "execution_count": null,
   "id": "c462b658",
   "metadata": {},
   "outputs": [],
   "source": [
    "nhoods_mouse_filtered = nhoods_mouse_filtered[nhoods_mouse_filtered.any(axis=1)]"
   ]
  },
  {
   "cell_type": "code",
   "execution_count": null,
   "id": "c855b350",
   "metadata": {},
   "outputs": [],
   "source": [
    "nhoods_mouse_filtered"
   ]
  },
  {
   "cell_type": "code",
   "execution_count": null,
   "id": "9ed90c74",
   "metadata": {},
   "outputs": [],
   "source": []
  },
  {
   "cell_type": "code",
   "execution_count": null,
   "id": "b2a12fbe",
   "metadata": {},
   "outputs": [],
   "source": [
    "# Count the occurrences of each value in 'combined_celltype'\n",
    "value_counts = nhood_match['combined_celltype'].value_counts()\n",
    "\n",
    "# Filter the counts to find values that appear less than 10 times\n",
    "values_to_keep = value_counts[value_counts >= 100].index\n",
    "\n",
    "# Filter the DataFrame to only include rows where 'combined_celltype' value appears 10 or more times\n",
    "nhood_match_filtered = nhood_match[nhood_match['combined_celltype'].isin(values_to_keep)]"
   ]
  },
  {
   "cell_type": "code",
   "execution_count": null,
   "id": "24697b2d",
   "metadata": {},
   "outputs": [],
   "source": [
    "nhood_match.shape, nhood_match_filtered.shape"
   ]
  },
  {
   "cell_type": "code",
   "execution_count": null,
   "id": "73c8157f",
   "metadata": {},
   "outputs": [],
   "source": [
    "len(np.unique(nhood_match_filtered['combined_celltype']))"
   ]
  },
  {
   "cell_type": "code",
   "execution_count": null,
   "id": "be039c15",
   "metadata": {},
   "outputs": [],
   "source": [
    "nhood_match_filtered"
   ]
  },
  {
   "cell_type": "code",
   "execution_count": null,
   "id": "5aa4a8ee",
   "metadata": {},
   "outputs": [],
   "source": [
    "nhood_match_filtered['human_genital_tubercle_mpw_milo_15knn'] = nhood_match_filtered['human_genital_tubercle_mpw_milo_15knn'].astype(str)\n",
    "nhood_match_filtered['mouse_genital_tubercle_mpw_milo_15knn'] = nhood_match_filtered['mouse_genital_tubercle_mpw_milo_15knn'].astype(str)"
   ]
  },
  {
   "cell_type": "code",
   "execution_count": null,
   "id": "2ccac24b",
   "metadata": {},
   "outputs": [],
   "source": [
    "mapping_human = pd.Series(nhood_match_filtered['nhood_matched'].values,index=nhood_match_filtered['human_genital_tubercle_mpw_milo_15knn']).to_dict()\n",
    "mapping_mouse = pd.Series(nhood_match_filtered['nhood_matched'].values,index=nhood_match_filtered['mouse_genital_tubercle_mpw_milo_15knn']).to_dict()"
   ]
  },
  {
   "cell_type": "code",
   "execution_count": null,
   "id": "7c59c151",
   "metadata": {},
   "outputs": [],
   "source": [
    "# Rename columns based on mapping\n",
    "nhoods_mouse_renamed = nhoods_mouse.rename(columns=mapping_mouse)\n",
    "human_nhoods_renamed = human_nhoods.rename(columns=mapping_human)\n"
   ]
  },
  {
   "cell_type": "code",
   "execution_count": null,
   "id": "cd7818a5",
   "metadata": {},
   "outputs": [],
   "source": [
    "nhoods_mouse.shape"
   ]
  },
  {
   "cell_type": "code",
   "execution_count": null,
   "id": "bae6de1d",
   "metadata": {},
   "outputs": [],
   "source": [
    "for c in nhoods_mouse_renamed.columns:\n",
    "    if c.startswith('nhood'):\n",
    "        print(c)\n",
    "    else: \n",
    "        del nhoods_mouse_renamed[c]"
   ]
  },
  {
   "cell_type": "code",
   "execution_count": null,
   "id": "f4022e7e",
   "metadata": {},
   "outputs": [],
   "source": [
    "nhoods_mouse_renamed.shape"
   ]
  },
  {
   "cell_type": "code",
   "execution_count": null,
   "id": "b158564e",
   "metadata": {},
   "outputs": [],
   "source": [
    "for c in human_nhoods_renamed.columns:\n",
    "    if c.startswith('nhood'):\n",
    "        print(c)\n",
    "    else: \n",
    "        del human_nhoods_renamed[c]"
   ]
  },
  {
   "cell_type": "code",
   "execution_count": null,
   "id": "d5f1bd66",
   "metadata": {},
   "outputs": [],
   "source": [
    "human_nhoods_renamed.shape"
   ]
  },
  {
   "cell_type": "code",
   "execution_count": null,
   "id": "d39c0142",
   "metadata": {},
   "outputs": [],
   "source": [
    "# Combine DataFrames\n",
    "combined_df = pd.concat([human_nhoods_renamed, nhoods_mouse_renamed], ignore_index=False)"
   ]
  },
  {
   "cell_type": "code",
   "execution_count": null,
   "id": "62e428a5",
   "metadata": {},
   "outputs": [],
   "source": [
    "combined_df['species'] = ['human' if i.startswith('HD_F') else 'mouse' for i in combined_df.index]"
   ]
  },
  {
   "cell_type": "code",
   "execution_count": null,
   "id": "0952af99",
   "metadata": {},
   "outputs": [],
   "source": [
    "combined_df['species'].value_counts()"
   ]
  },
  {
   "cell_type": "code",
   "execution_count": null,
   "id": "cf16d42a",
   "metadata": {},
   "outputs": [],
   "source": [
    "combined_df.head()"
   ]
  },
  {
   "cell_type": "code",
   "execution_count": null,
   "id": "e39b5929",
   "metadata": {},
   "outputs": [],
   "source": [
    "# Melt the DataFrame to long format\n",
    "long_df = combined_df.melt(id_vars='species', var_name='nhood', value_name='assignment')\n",
    "\n",
    "# Filter out unassigned cells\n",
    "assigned_df = long_df[long_df['assignment'] == 1]\n",
    "\n",
    "# Count cells per neighborhood and species\n",
    "counts = assigned_df.groupby(['nhood', 'species']).size().reset_index(name='count')\n",
    "\n",
    "print(counts)"
   ]
  },
  {
   "cell_type": "code",
   "execution_count": null,
   "id": "43281faa",
   "metadata": {},
   "outputs": [],
   "source": [
    "combined_df['nhoods_counts'] = combined_df.drop(columns=['species']).sum(axis=1)\n",
    "\n",
    "print(combined_df[['species', 'nhoods_counts']])"
   ]
  },
  {
   "cell_type": "markdown",
   "id": "c3dd37a2",
   "metadata": {},
   "source": [
    "### Convert cell to neighbourhood to cell to cell type "
   ]
  },
  {
   "cell_type": "code",
   "execution_count": null,
   "id": "43350b32",
   "metadata": {},
   "outputs": [],
   "source": [
    "combined_df_save = combined_df.drop(columns=['species', 'nhoods_counts'])\n",
    "combined_df_save.shape"
   ]
  },
  {
   "cell_type": "code",
   "execution_count": null,
   "id": "e26d36a3",
   "metadata": {},
   "outputs": [],
   "source": [
    "#combined_df_save.to_csv('/nfs/team292/vl6/FetalReproductiveTract/genital_tubercle_human_mouse_nhoods_50knn.csv', index=True)"
   ]
  },
  {
   "cell_type": "code",
   "execution_count": null,
   "id": "eaf785ae",
   "metadata": {},
   "outputs": [],
   "source": [
    "neighborhood_to_cell_type = dict(zip(nhood_match['nhood_matched'], nhood_match['combined_celltype']))"
   ]
  },
  {
   "cell_type": "code",
   "execution_count": null,
   "id": "3427255b",
   "metadata": {},
   "outputs": [],
   "source": [
    "neighborhood_to_cell_type"
   ]
  },
  {
   "cell_type": "code",
   "execution_count": null,
   "id": "0b00a312",
   "metadata": {},
   "outputs": [],
   "source": [
    "# Vectorized mapping from neighborhood to cell type\n",
    "mapped_cell_types = combined_df_save.columns.map(neighborhood_to_cell_type.get)"
   ]
  },
  {
   "cell_type": "code",
   "execution_count": null,
   "id": "634fa43c",
   "metadata": {},
   "outputs": [],
   "source": [
    "# Create a new DataFrame with the same index as df_cells and columns based on unique cell types\n",
    "df_cell_type_membership = pd.DataFrame(0, index=combined_df_save.index, columns=pd.unique(mapped_cell_types))"
   ]
  },
  {
   "cell_type": "code",
   "execution_count": null,
   "id": "4f62a560",
   "metadata": {},
   "outputs": [],
   "source": [
    "df_cell_type_membership"
   ]
  },
  {
   "cell_type": "code",
   "execution_count": null,
   "id": "1dde0b74",
   "metadata": {},
   "outputs": [],
   "source": [
    "# For each cell type, aggregate neighborhood memberships into cell type memberships\n",
    "for cell_type in df_cell_type_membership.columns:\n",
    "    # Identify neighborhoods that map to the current cell type\n",
    "    neighborhoods = [k for k, v in neighborhood_to_cell_type.items() if v == cell_type]\n",
    "    # Sum the columns for these neighborhoods and check if >0 (indicating membership)\n",
    "    df_cell_type_membership[cell_type] = combined_df_save[neighborhoods].sum(axis=1) > 0\n",
    "\n",
    "# Convert boolean True/False to integers 1/0\n",
    "df_cell_type_membership = df_cell_type_membership.astype(int)"
   ]
  },
  {
   "cell_type": "code",
   "execution_count": null,
   "id": "619fab71",
   "metadata": {},
   "outputs": [],
   "source": [
    "df_cell_type_membership['species'] = ['human' if i.startswith('HD_F') else 'mouse' for i in df_cell_type_membership.index]\n",
    "df_cell_type_membership"
   ]
  },
  {
   "cell_type": "code",
   "execution_count": null,
   "id": "98910fb2",
   "metadata": {},
   "outputs": [],
   "source": []
  },
  {
   "cell_type": "code",
   "execution_count": null,
   "id": "d60a69a2",
   "metadata": {},
   "outputs": [],
   "source": [
    "# Melt the DataFrame to long format\n",
    "df_cell_type_membership['species'] = ['human' if i.startswith('HD_F') else 'mouse' for i in df_cell_type_membership.index]\n",
    "long_df_cells = df_cell_type_membership.melt(id_vars='species', var_name='celltype', value_name='assignment')\n",
    "\n",
    "# Filter out unassigned cells\n",
    "assigned_df_cells = long_df_cells[long_df_cells['assignment'] == 1]\n",
    "\n",
    "# Count cells per neighborhood and species\n",
    "counts_cells = assigned_df_cells.groupby(['celltype', 'species']).size().reset_index(name='count')\n"
   ]
  },
  {
   "cell_type": "code",
   "execution_count": null,
   "id": "10a4c901",
   "metadata": {},
   "outputs": [],
   "source": [
    "df_cell_type_membership['celltype_counts'] = df_cell_type_membership.drop(columns=['species']).sum(axis=1)\n"
   ]
  },
  {
   "cell_type": "code",
   "execution_count": null,
   "id": "e27f2133",
   "metadata": {},
   "outputs": [],
   "source": [
    "df_cell_type_membership['celltype_counts'].value_counts()"
   ]
  },
  {
   "cell_type": "code",
   "execution_count": null,
   "id": "3f2cdab1",
   "metadata": {},
   "outputs": [],
   "source": [
    "df_cell_type_membership.head()"
   ]
  },
  {
   "cell_type": "code",
   "execution_count": null,
   "id": "93657173",
   "metadata": {},
   "outputs": [],
   "source": [
    "# Add info to each dataset \n",
    "human.obs['belongs_to_matched_nhoods'] = human.obs_names.map(combined_df['nhoods_counts'].to_dict())\n",
    "human.obs['belongs_to_n_celltypes'] = human.obs_names.map(df_cell_type_membership['celltype_counts'].to_dict())"
   ]
  },
  {
   "cell_type": "code",
   "execution_count": null,
   "id": "7cbf3f45",
   "metadata": {},
   "outputs": [],
   "source": [
    "human.obs['Early Proximal Glanular Mesenchyme --- Corpus Spongiosum'] = human.obs_names.map(df_cell_type_membership['Early Proximal Glanular Mesenchyme --- Corpus Spongiosum'].to_dict())\n"
   ]
  },
  {
   "cell_type": "code",
   "execution_count": null,
   "id": "8c32f4f2",
   "metadata": {},
   "outputs": [],
   "source": [
    "human.obs['belongs_to_0_matched_nhoods'] = [1 if i == 0 else 0 for i in human.obs['belongs_to_matched_nhoods']]\n"
   ]
  },
  {
   "cell_type": "code",
   "execution_count": null,
   "id": "f94b0ac4",
   "metadata": {},
   "outputs": [],
   "source": [
    "sc.pl.umap(human, color = ['Early Proximal Glanular Mesenchyme --- Corpus Spongiosum'], color_map = 'OrRd')"
   ]
  },
  {
   "cell_type": "code",
   "execution_count": null,
   "id": "9e01d79a",
   "metadata": {},
   "outputs": [],
   "source": [
    "mouse.obs['Early Proximal Glanular Mesenchyme --- Corpus Spongiosum'] = mouse.obs_names.map(df_cell_type_membership['Early Proximal Glanular Mesenchyme --- Corpus Spongiosum'].to_dict())\n",
    "mouse.obs['Preputial Mesenchyme --- Corpus Spongiosum'] = mouse.obs_names.map(df_cell_type_membership['Preputial Mesenchyme --- Corpus Spongiosum'].to_dict())\n",
    "\n"
   ]
  },
  {
   "cell_type": "code",
   "execution_count": null,
   "id": "fcb3be5e",
   "metadata": {},
   "outputs": [],
   "source": [
    "mouse.obs['belongs_to_matched_nhoods'] = mouse.obs_names.map(combined_df['nhoods_counts'].to_dict())\n",
    "mouse.obs['belongs_to_n_celltypes'] = mouse.obs_names.map(df_cell_type_membership['celltype_counts'].to_dict())\n",
    "mouse.obs['belongs_to_0_matched_nhoods'] = [1 if i == 0 else 0 for i in mouse.obs['belongs_to_matched_nhoods']]\n"
   ]
  },
  {
   "cell_type": "code",
   "execution_count": null,
   "id": "ca9df53c",
   "metadata": {},
   "outputs": [],
   "source": [
    "color_dict = {\n",
    "    'Epithelium' : 'mediumorchid', 'Distal Dorsal Glanular Mesenchyme' : 'navy', \n",
    "    'Ventral Glanular Mesenchyme' : 'cornflowerblue', \n",
    "    'Early Proximal Glanular Mesenchyme' : 'deepskyblue', 'Late Proximal Glanular Mesenchyme' : 'darkturquoise', \n",
    "    'Corpus Cavernsoum' : 'forestgreen', 'Preputial Mesenchyme' : 'yellowgreen',\n",
    "       'Sub-Dermal Prepuce' : 'mediumseagreen',\n",
    "}"
   ]
  },
  {
   "cell_type": "code",
   "execution_count": null,
   "id": "11b9ef59",
   "metadata": {},
   "outputs": [],
   "source": [
    "## Eliminate small clusters of doublets \n",
    "sc.set_figure_params(scanpy=True, dpi=80, dpi_save=150, \n",
    "                         frameon=True, vector_friendly=True, fontsize=14, figsize=[7,7], color_map=None, \n",
    "                         format='pdf', facecolor=None, transparent=False,)"
   ]
  },
  {
   "cell_type": "code",
   "execution_count": null,
   "id": "2c1ab704",
   "metadata": {},
   "outputs": [],
   "source": [
    "import matplotlib as mpl\n",
    "mpl.rcParams['pdf.fonttype'] = 42"
   ]
  },
  {
   "cell_type": "code",
   "execution_count": null,
   "id": "69d2aec1",
   "metadata": {},
   "outputs": [],
   "source": [
    "mouse.obs['Early Proximal Glanular Mesenchyme --- Corpus Spongiosum'] = mouse.obs_names.isin(nhoods_mouse_filtered.index.to_list()).astype(int)"
   ]
  },
  {
   "cell_type": "code",
   "execution_count": null,
   "id": "12786485",
   "metadata": {},
   "outputs": [],
   "source": [
    "mouse.obs['Early Proximal Glanular Mesenchyme --- Corpus Spongiosum'].value_counts()"
   ]
  },
  {
   "cell_type": "code",
   "execution_count": null,
   "id": "2e0531d6",
   "metadata": {},
   "outputs": [],
   "source": [
    "mouse.obs['Early Proximal Glanular Mesenchyme --- Corpus Spongiosum'] = mouse.obs['Early Proximal Glanular Mesenchyme --- Corpus Spongiosum'].astype(str)"
   ]
  },
  {
   "cell_type": "code",
   "execution_count": null,
   "id": "4d916e88",
   "metadata": {},
   "outputs": [],
   "source": [
    "filter2"
   ]
  },
  {
   "cell_type": "code",
   "execution_count": null,
   "id": "ca77f427",
   "metadata": {},
   "outputs": [],
   "source": [
    "mouse.obs['Early Proximal Glanular Mesenchyme --- Corpus Spongiosum'] = mouse.obs['Early Proximal Glanular Mesenchyme --- Corpus Spongiosum'].astype(str)\n",
    "mouse.obs['Preputial Mesenchyme --- Corpus Spongiosum'] = mouse.obs['Preputial Mesenchyme --- Corpus Spongiosum'].astype(str)\n"
   ]
  },
  {
   "cell_type": "code",
   "execution_count": null,
   "id": "5fb17310",
   "metadata": {},
   "outputs": [],
   "source": [
    "sc.pl.umap(mouse, color = ['mouse_celltype',\n",
    "                          ], palette = color_dict, save = '_mouse_orthologs.pdf')"
   ]
  },
  {
   "cell_type": "code",
   "execution_count": null,
   "id": "b8d2865a",
   "metadata": {},
   "outputs": [],
   "source": [
    "sc.pl.umap(mouse, color = ['Early Proximal Glanular Mesenchyme --- Corpus Spongiosum',\n",
    "                          ], palette = {'0' : 'gainsboro', '1' : 'darkred'} , save = '_mouse_csearly.pdf')"
   ]
  },
  {
   "cell_type": "code",
   "execution_count": null,
   "id": "a9c08156",
   "metadata": {},
   "outputs": [],
   "source": [
    "sc.pl.umap(mouse, color = ['Preputial Mesenchyme --- Corpus Spongiosum',\n",
    "                          ], palette = {'0' : 'lightgrey', '1' : 'maroon'} , save = '_mouse_csearly_prep.pdf')"
   ]
  },
  {
   "cell_type": "code",
   "execution_count": null,
   "id": "78a74009",
   "metadata": {},
   "outputs": [],
   "source": [
    "sc.pl.umap(mouse, color = ['Foxf1','Sall1','Grid2', 'Foxl2' \n",
    "                          ], color_map = 'YlOrRd', use_raw = False, save = '_mouse_markers.pdf')"
   ]
  },
  {
   "cell_type": "code",
   "execution_count": null,
   "id": "5fc4694e",
   "metadata": {},
   "outputs": [],
   "source": [
    "mouse"
   ]
  },
  {
   "cell_type": "code",
   "execution_count": null,
   "id": "fbacaf78",
   "metadata": {},
   "outputs": [],
   "source": [
    "mouse.obs['Early Proximal Glanular Mesenchyme --- Corpus Spongiosum'].value_counts()"
   ]
  },
  {
   "cell_type": "markdown",
   "id": "bc0126f4",
   "metadata": {},
   "source": [
    "## Differential expression between males and females in corpus spongiosum"
   ]
  },
  {
   "cell_type": "code",
   "execution_count": null,
   "id": "15fea1c8",
   "metadata": {},
   "outputs": [],
   "source": [
    "mouse.obs['matched_celltype'] = np.where(mouse.obs['Early Proximal Glanular Mesenchyme --- Corpus Spongiosum'] == '1',\n",
    "                                        'Corpus Spongiosum', mouse.obs['celltype'])"
   ]
  },
  {
   "cell_type": "code",
   "execution_count": null,
   "id": "51b9cf95",
   "metadata": {},
   "outputs": [],
   "source": [
    "mouse.obs['matched_celltype'].value_counts(dropna = False)"
   ]
  },
  {
   "cell_type": "code",
   "execution_count": null,
   "id": "01a04f85",
   "metadata": {},
   "outputs": [],
   "source": [
    "# Load original object with full transcriptome and transfer matched cell type annotations \n",
    "mouse_full = sc.read('/nfs/team292/vl6/Mouse_RepTract/Amato2021/Amato2021_mese_epi_annotated.h5ad')\n",
    "mouse_full"
   ]
  },
  {
   "cell_type": "code",
   "execution_count": null,
   "id": "e898aca0",
   "metadata": {},
   "outputs": [],
   "source": [
    "mouse_full.obs['matched_celltype'] = mouse_full.obs_names.map(mouse.obs['matched_celltype'].to_dict())"
   ]
  },
  {
   "cell_type": "code",
   "execution_count": null,
   "id": "1e1e63ef",
   "metadata": {},
   "outputs": [],
   "source": [
    "import anndata"
   ]
  },
  {
   "cell_type": "code",
   "execution_count": null,
   "id": "f0ca35ac",
   "metadata": {},
   "outputs": [],
   "source": [
    "import rpy2.rinterface_lib.callbacks\n",
    "import logging\n",
    "# Ignore R warning messages\n",
    "#Note: this can be commented out to get more verbose R output\n",
    "rpy2.rinterface_lib.callbacks.logger.setLevel(logging.ERROR)\n",
    "import anndata2ri\n",
    "anndata2ri.activate()\n",
    "%load_ext rpy2.ipython"
   ]
  },
  {
   "cell_type": "code",
   "execution_count": null,
   "id": "7ea957e5",
   "metadata": {},
   "outputs": [],
   "source": [
    "%%R\n",
    "library(SingleCellExperiment)\n",
    "library(biomaRt)\n",
    "library(data.table)\n",
    "library(scater)\n",
    "library(BiocParallel)"
   ]
  },
  {
   "cell_type": "code",
   "execution_count": null,
   "id": "0b2d36a3",
   "metadata": {},
   "outputs": [],
   "source": [
    "mpw_raw = anndata.AnnData(X = mouse_full.raw.X, var = mouse_full.raw.var, obs = mouse_full.obs)\n",
    "mpw_raw.shape"
   ]
  },
  {
   "cell_type": "code",
   "execution_count": null,
   "id": "94c0bc43",
   "metadata": {},
   "outputs": [],
   "source": [
    "# remove mito genes\n",
    "non_mito_genes = [name for name in mpw_raw.var_names if not name.startswith('mt-')]\n",
    "mpw_raw = mpw_raw[:, non_mito_genes]\n",
    "\n",
    "# remove ribo genes\n",
    "non_ribo_genes = [name for name in mpw_raw.var_names if not name.startswith('Rp')]\n",
    "mpw_raw = mpw_raw[:, non_ribo_genes]\n",
    "\n",
    "# remove heat shock protein genes\n",
    "non_hps_genes = [name for name in mpw_raw.var_names if not name.startswith('Hsp')]\n",
    "mpw_raw = mpw_raw[:, non_hps_genes]\n",
    "sc.pp.filter_genes(mpw_raw, min_counts = 10)"
   ]
  },
  {
   "cell_type": "code",
   "execution_count": null,
   "id": "9157181a",
   "metadata": {},
   "outputs": [],
   "source": [
    "mpw_raw.shape"
   ]
  },
  {
   "cell_type": "code",
   "execution_count": null,
   "id": "85132e03",
   "metadata": {},
   "outputs": [],
   "source": [
    "import decoupler as dc"
   ]
  },
  {
   "cell_type": "code",
   "execution_count": null,
   "id": "cf798141",
   "metadata": {},
   "outputs": [],
   "source": [
    "%%R -o results\n",
    "library(biomaRt)\n",
    "# Connect to the Ensembl database, selecting the Mus musculus dataset\n",
    "mart <- useMart(biomart = \"ensembl\", dataset = \"mmusculus_gene_ensembl\")\n",
    "\n",
    "# Retrieve data for genes on the Y chromosome with the generic gene name attribute\n",
    "results <- getBM(attributes = c(\"chromosome_name\", \"external_gene_name\"),\n",
    "                 filters = \"chromosome_name\", values = \"Y\", mart = mart, verbose = TRUE)\n",
    "\n",
    "# Display the first few rows of the results\n",
    "#head(results)"
   ]
  },
  {
   "cell_type": "code",
   "execution_count": null,
   "id": "3e937c21",
   "metadata": {},
   "outputs": [],
   "source": [
    "results = results.set_index('external_gene_name')"
   ]
  },
  {
   "cell_type": "code",
   "execution_count": null,
   "id": "ec26a2ad",
   "metadata": {},
   "outputs": [],
   "source": [
    "results.head()"
   ]
  },
  {
   "cell_type": "code",
   "execution_count": null,
   "id": "d8e27e26",
   "metadata": {},
   "outputs": [],
   "source": [
    "mpw_raw.var['Y_chrom'] = mpw_raw.var_names.map(results['chromosome_name'].to_dict())"
   ]
  },
  {
   "cell_type": "code",
   "execution_count": null,
   "id": "7da79e87",
   "metadata": {},
   "outputs": [],
   "source": [
    "mpw_raw.var['Y_chrom'].value_counts(dropna = False)"
   ]
  },
  {
   "cell_type": "code",
   "execution_count": null,
   "id": "87dba29a",
   "metadata": {},
   "outputs": [],
   "source": [
    "ychrom = mpw_raw.var[mpw_raw.var['Y_chrom'] == 'Y'].index.to_list()"
   ]
  },
  {
   "cell_type": "code",
   "execution_count": null,
   "id": "fbadb5c7",
   "metadata": {},
   "outputs": [],
   "source": [
    "keep = [i for i in mpw_raw.var_names.to_list() if i not in ychrom]"
   ]
  },
  {
   "cell_type": "code",
   "execution_count": null,
   "id": "83d088f7",
   "metadata": {},
   "outputs": [],
   "source": [
    "len(keep)"
   ]
  },
  {
   "cell_type": "code",
   "execution_count": null,
   "id": "dcf431f6",
   "metadata": {},
   "outputs": [],
   "source": [
    "mpw_raw = mpw_raw[:, keep]"
   ]
  },
  {
   "cell_type": "code",
   "execution_count": null,
   "id": "286cf9f6",
   "metadata": {},
   "outputs": [],
   "source": [
    "mouse_full = mouse_full[:, keep]"
   ]
  },
  {
   "cell_type": "code",
   "execution_count": null,
   "id": "eebab45d",
   "metadata": {},
   "outputs": [],
   "source": [
    "mouse_full.shape"
   ]
  },
  {
   "cell_type": "code",
   "execution_count": null,
   "id": "3a5f23b7",
   "metadata": {},
   "outputs": [],
   "source": [
    "mouse_full.layers[\"counts\"] = mpw_raw.X.copy()"
   ]
  },
  {
   "cell_type": "code",
   "execution_count": null,
   "id": "403c2904",
   "metadata": {},
   "outputs": [],
   "source": [
    "mouse_full.layers[\"counts\"].toarray()[20:30, 20:30]"
   ]
  },
  {
   "cell_type": "code",
   "execution_count": null,
   "id": "4c2f2f0e",
   "metadata": {},
   "outputs": [],
   "source": [
    "# Get pseudo-bulk profile\n",
    "pdata = dc.get_pseudobulk(\n",
    "    mouse_full,\n",
    "    sample_col='donor',\n",
    "    groups_col='matched_celltype',\n",
    "    layer='counts',\n",
    "    mode='sum',\n",
    "    min_cells=0,\n",
    "    min_counts=0\n",
    ")"
   ]
  },
  {
   "cell_type": "code",
   "execution_count": null,
   "id": "e20cf900",
   "metadata": {},
   "outputs": [],
   "source": [
    "dc.plot_psbulk_samples(pdata, groupby=['donor', 'matched_celltype'], figsize=(12, 5))"
   ]
  },
  {
   "cell_type": "code",
   "execution_count": null,
   "id": "e16c7782",
   "metadata": {},
   "outputs": [],
   "source": [
    "# Get filtered pseudo-bulk profile\n",
    "pdata = dc.get_pseudobulk(\n",
    "    mouse_full,\n",
    "    sample_col='donor',\n",
    "    groups_col='matched_celltype',\n",
    "    layer='counts',\n",
    "    mode='sum',\n",
    "    min_cells=10,\n",
    "    min_counts=1000\n",
    ")\n",
    "pdata"
   ]
  },
  {
   "cell_type": "code",
   "execution_count": null,
   "id": "17319841",
   "metadata": {},
   "outputs": [],
   "source": [
    "# Store raw counts in layers\n",
    "pdata.layers['counts'] = pdata.X.copy()\n",
    "\n",
    "# Normalize, scale and compute pca\n",
    "sc.pp.normalize_total(pdata, target_sum=1e4)\n",
    "sc.pp.log1p(pdata)\n",
    "sc.pp.scale(pdata, max_value=10)\n",
    "sc.tl.pca(pdata)\n",
    "\n",
    "# Return raw counts to X\n",
    "dc.swap_layer(pdata, 'counts', X_layer_key=None, inplace=True)"
   ]
  },
  {
   "cell_type": "code",
   "execution_count": null,
   "id": "413c7693",
   "metadata": {},
   "outputs": [],
   "source": [
    "sc.pl.pca(pdata, color=['sex', 'matched_celltype'], ncols=1, size=300)\n",
    "sc.pl.pca_variance_ratio(pdata)"
   ]
  },
  {
   "cell_type": "code",
   "execution_count": null,
   "id": "a16a3147",
   "metadata": {},
   "outputs": [],
   "source": [
    "dc.get_metadata_associations(\n",
    "    pdata,\n",
    "    obs_keys = ['sex', 'matched_celltype', 'psbulk_n_cells', 'psbulk_counts'],  # Metadata columns to associate to PCs\n",
    "    obsm_key='X_pca',  # Where the PCs are stored\n",
    "    uns_key='pca_anova',  # Where the results are stored\n",
    "    inplace=True,\n",
    ")"
   ]
  },
  {
   "cell_type": "code",
   "execution_count": null,
   "id": "bd36a41e",
   "metadata": {},
   "outputs": [],
   "source": [
    "dc.plot_associations(\n",
    "    pdata,\n",
    "    uns_key='pca_anova',  # Summary statistics from the anova tests\n",
    "    obsm_key='X_pca',  # where the PCs are stored\n",
    "    stat_col='p_adj',  # Which summary statistic to plot\n",
    "    obs_annotation_cols = ['sex', 'matched_celltype'], # which sample annotations to plot\n",
    "    titles=['Principle component scores', 'Adjusted p-values from ANOVA'],\n",
    "    figsize=(7, 7),\n",
    "    n_factors=10,\n",
    ")"
   ]
  },
  {
   "cell_type": "code",
   "execution_count": null,
   "id": "2446066c",
   "metadata": {},
   "outputs": [],
   "source": [
    "# Select CorpusSpongiosum\n",
    "cs = pdata[pdata.obs['matched_celltype'] == 'Corpus Spongiosum'].copy()"
   ]
  },
  {
   "cell_type": "code",
   "execution_count": null,
   "id": "08e5237d",
   "metadata": {},
   "outputs": [],
   "source": [
    "dc.plot_filter_by_expr(cs, group='sex', min_count=50, min_total_count=60)"
   ]
  },
  {
   "cell_type": "code",
   "execution_count": null,
   "id": "a45bc519",
   "metadata": {},
   "outputs": [],
   "source": [
    "# Obtain genes that pass the thresholds\n",
    "genes = dc.filter_by_expr(cs, group='sex', min_count=50, min_total_count=15)\n",
    "\n",
    "# Filter by these genes\n",
    "cs = cs[:, genes].copy()\n",
    "cs"
   ]
  },
  {
   "cell_type": "code",
   "execution_count": null,
   "id": "c1c39fb3",
   "metadata": {},
   "outputs": [],
   "source": [
    "# Import DESeq2\n",
    "from pydeseq2.dds import DeseqDataSet, DefaultInference\n",
    "from pydeseq2.ds import DeseqStats"
   ]
  },
  {
   "cell_type": "code",
   "execution_count": null,
   "id": "4698b2a0",
   "metadata": {},
   "outputs": [],
   "source": [
    "# Build DESeq2 object\n",
    "inference = DefaultInference(n_cpus=8)\n",
    "dds = DeseqDataSet(\n",
    "    adata=cs,\n",
    "    design_factors='sex',\n",
    "    ref_level=['sex', 'female'],\n",
    "    refit_cooks=True,\n",
    "    inference=inference,\n",
    ")"
   ]
  },
  {
   "cell_type": "code",
   "execution_count": null,
   "id": "0cbf6627",
   "metadata": {},
   "outputs": [],
   "source": [
    "# Compute LFCs\n",
    "dds.deseq2()"
   ]
  },
  {
   "cell_type": "code",
   "execution_count": null,
   "id": "04b430db",
   "metadata": {},
   "outputs": [],
   "source": [
    "# Extract contrast between males vs females\n",
    "stat_res = DeseqStats(\n",
    "    dds,\n",
    "    contrast=[\"sex\", 'male', 'female'],\n",
    "    inference=inference,\n",
    ")"
   ]
  },
  {
   "cell_type": "code",
   "execution_count": null,
   "id": "50ed1bf7",
   "metadata": {},
   "outputs": [],
   "source": [
    "# Compute Wald test\n",
    "stat_res.summary()"
   ]
  },
  {
   "cell_type": "code",
   "execution_count": null,
   "id": "b5fdec96",
   "metadata": {},
   "outputs": [],
   "source": [
    "# Extract results\n",
    "results_df = stat_res.results_df\n",
    "results_df"
   ]
  },
  {
   "cell_type": "code",
   "execution_count": null,
   "id": "7eb15986",
   "metadata": {},
   "outputs": [],
   "source": [
    "results_df.loc['Mafb']"
   ]
  },
  {
   "cell_type": "code",
   "execution_count": null,
   "id": "9b73c713",
   "metadata": {},
   "outputs": [],
   "source": [
    "results_df.loc['Csrp2']"
   ]
  },
  {
   "cell_type": "code",
   "execution_count": null,
   "id": "52ca3931",
   "metadata": {},
   "outputs": [],
   "source": [
    "dc.plot_volcano_df(\n",
    "    results_df,\n",
    "    x='log2FoldChange',\n",
    "    y='padj',\n",
    "    lFCs_thr = 1.25,\n",
    "    sign_thr = 0.05,\n",
    "    top = 41,\n",
    "    color_pos = 'deepskyblue',\n",
    "    color_neg = 'pink',\n",
    "    color_null='lightgray',\n",
    "    lFCs_limit = 5,\n",
    "    figsize=(7, 5), \n",
    "    save = '_mouse_corpusspongiosumall_DE.pdf'\n",
    ")"
   ]
  },
  {
   "cell_type": "code",
   "execution_count": null,
   "id": "d9301e2a",
   "metadata": {},
   "outputs": [],
   "source": [
    "results_df = results_df[(results_df['log2FoldChange'] > 1.25) | (results_df['log2FoldChange'] < -1.25)]\n",
    "results_df = results_df[results_df['padj'] < 0.05]"
   ]
  },
  {
   "cell_type": "code",
   "execution_count": null,
   "id": "a6a2d0ec",
   "metadata": {},
   "outputs": [],
   "source": [
    "pd.set_option('display.max_rows', 200)"
   ]
  },
  {
   "cell_type": "code",
   "execution_count": null,
   "id": "c308ffb5",
   "metadata": {},
   "outputs": [],
   "source": [
    "results_df.sort_values('log2FoldChange')"
   ]
  },
  {
   "cell_type": "code",
   "execution_count": null,
   "id": "378d74c0",
   "metadata": {},
   "outputs": [],
   "source": [
    "results_df.to_csv('/nfs/team292/vl6/Mouse_RepTract/Amato2021/corpusspongiosum_allDEGs.csv')"
   ]
  },
  {
   "cell_type": "code",
   "execution_count": null,
   "id": "c9cb1a90",
   "metadata": {},
   "outputs": [],
   "source": []
  }
 ],
 "metadata": {
  "kernelspec": {
   "display_name": "atac_env",
   "language": "python",
   "name": "atac_env"
  },
  "language_info": {
   "codemirror_mode": {
    "name": "ipython",
    "version": 3
   },
   "file_extension": ".py",
   "mimetype": "text/x-python",
   "name": "python",
   "nbconvert_exporter": "python",
   "pygments_lexer": "ipython3",
   "version": "3.8.6"
  }
 },
 "nbformat": 4,
 "nbformat_minor": 5
}
