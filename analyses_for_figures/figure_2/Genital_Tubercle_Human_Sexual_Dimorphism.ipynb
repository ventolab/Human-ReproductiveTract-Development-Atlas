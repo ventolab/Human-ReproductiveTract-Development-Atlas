{
 "cells": [
  {
   "cell_type": "code",
   "execution_count": null,
   "id": "8e4ea947",
   "metadata": {},
   "outputs": [],
   "source": [
    "import numpy as np\n",
    "import pandas as pd\n",
    "import scanpy as sc\n",
    "import matplotlib.pyplot as plt\n",
    "import os\n",
    "import sys\n",
    "import scipy\n",
    "\n",
    "\n",
    "def MovePlots(plotpattern, subplotdir):\n",
    "    os.system('mkdir -p '+str(sc.settings.figdir)+'/'+subplotdir)\n",
    "    os.system('mv '+str(sc.settings.figdir)+'/*'+plotpattern+'** '+str(sc.settings.figdir)+'/'+subplotdir)\n",
    "\n",
    "\n",
    "sc.settings.verbosity = 3  # verbosity: errors (0), warnings (1), info (2), hints (3)\n",
    "sc.settings.figdir = './genital_tubercle_figures_humans/'\n",
    "sc.logging.print_versions()\n",
    "sc.settings.set_figure_params(dpi=80)  # low dpi (dots per inch) yields small inline figures\n",
    "\n",
    "sys.executable"
   ]
  },
  {
   "cell_type": "code",
   "execution_count": null,
   "id": "cb253df9",
   "metadata": {},
   "outputs": [],
   "source": [
    "adata = sc.read('/nfs/team292/vl6/FetalReproductiveTract/all.202401.h5ad')\n",
    "adata.shape"
   ]
  },
  {
   "cell_type": "code",
   "execution_count": null,
   "id": "b8481529",
   "metadata": {},
   "outputs": [],
   "source": [
    "## Load annotations from per-view integrations\n",
    "early_annots = pd.read_csv('/nfs/team292/vl6/FetalReproductiveTract/early_annots.csv', index_col = 0)\n",
    "males_late_annots = pd.read_csv('/nfs/team292/vl6/FetalReproductiveTract/males_post10pcw_annots.csv', index_col = 0)\n",
    "females_late_annots = pd.read_csv('/nfs/team292/vl6/FetalReproductiveTract/post_10pcw_females.csv', index_col = 0)\n",
    "print(early_annots.shape, males_late_annots.shape, females_late_annots.shape)"
   ]
  },
  {
   "cell_type": "code",
   "execution_count": null,
   "id": "d03b8a9d",
   "metadata": {},
   "outputs": [],
   "source": [
    "annots = early_annots.append(males_late_annots)\n",
    "annots = annots.append(females_late_annots)"
   ]
  },
  {
   "cell_type": "code",
   "execution_count": null,
   "id": "d54638b4",
   "metadata": {},
   "outputs": [],
   "source": [
    "annots.shape"
   ]
  },
  {
   "cell_type": "code",
   "execution_count": null,
   "id": "2c95cfeb",
   "metadata": {},
   "outputs": [],
   "source": [
    "adata.obs['celltype'] = adata.obs_names.map(annots['celltype'])\n",
    "adata.obs['phase'] = adata.obs_names.map(annots['phase'])"
   ]
  },
  {
   "cell_type": "code",
   "execution_count": null,
   "id": "2cb9f711",
   "metadata": {},
   "outputs": [],
   "source": [
    "adata.obs['phase'].value_counts()"
   ]
  },
  {
   "cell_type": "code",
   "execution_count": null,
   "id": "9641c052",
   "metadata": {},
   "outputs": [],
   "source": [
    "adata = adata[[i == 'G1' for i in adata.obs['phase']]]\n",
    "adata.shape"
   ]
  },
  {
   "cell_type": "code",
   "execution_count": null,
   "id": "29310d39",
   "metadata": {},
   "outputs": [],
   "source": [
    "adata.obs['stage_pcw'].hist()"
   ]
  },
  {
   "cell_type": "markdown",
   "id": "ff350a29",
   "metadata": {},
   "source": [
    "## 1. Select the genital tubercle / external genitalia"
   ]
  },
  {
   "cell_type": "code",
   "execution_count": null,
   "id": "3afa7b0e",
   "metadata": {},
   "outputs": [],
   "source": [
    "list(adata.obs['celltype'].unique())"
   ]
  },
  {
   "cell_type": "code",
   "execution_count": null,
   "id": "6b1938d2",
   "metadata": {},
   "outputs": [],
   "source": [
    "genital_celltypes = [\n",
    " 'ExternalGenitalia_SubdermalPrepuce', 'ExternalGenitalia_Glans',\n",
    " 'Labial_Swelling',\n",
    " 'ExternalGenitalia_Prepuce',\n",
    " 'ExternalGenitalia_CorpusCavernosum',  'ExternalGenitalia_CorpusSpongiosum',\n",
    "                     'LabioScrotal_Swelling',\n",
    " 'Genital_Epidermis',\n",
    " 'GenitalTubercle_Glans',  'Urethral_Epithelium', \n",
    "                     'Preputial_Lamina',\n",
    " 'GenitalTubercle_Prepuce',\n",
    " 'GenitalTubercle_CorpusSpongiosum',\n",
    " 'GenitalTubercle_CorpusCavernosum',  'UrethralPlate', 'Urethral_Plate'\n",
    "]"
   ]
  },
  {
   "cell_type": "code",
   "execution_count": null,
   "id": "d7e718a0",
   "metadata": {},
   "outputs": [],
   "source": [
    "adata = adata[[i in genital_celltypes for i in adata.obs['celltype']]]\n",
    "adata.obs['celltype'].value_counts()"
   ]
  },
  {
   "cell_type": "code",
   "execution_count": null,
   "id": "aec3f69a",
   "metadata": {},
   "outputs": [],
   "source": [
    "adata.shape"
   ]
  },
  {
   "cell_type": "code",
   "execution_count": null,
   "id": "09202438",
   "metadata": {},
   "outputs": [],
   "source": [
    "## Eliminate small clusters of doublets \n",
    "sc.set_figure_params(scanpy=True, dpi=80, dpi_save=150, \n",
    "                         frameon=True, vector_friendly=True, fontsize=14, figsize=[7,7], color_map=None, \n",
    "                         format='pdf', facecolor=None, transparent=False,)"
   ]
  },
  {
   "cell_type": "code",
   "execution_count": null,
   "id": "45fe81ef",
   "metadata": {},
   "outputs": [],
   "source": [
    "import matplotlib as mpl\n",
    "mpl.rcParams['pdf.fonttype'] = 42"
   ]
  },
  {
   "cell_type": "code",
   "execution_count": null,
   "id": "5ae91819",
   "metadata": {},
   "outputs": [],
   "source": [
    "adata.obs['sample'].value_counts()"
   ]
  },
  {
   "cell_type": "code",
   "execution_count": null,
   "id": "231ada23",
   "metadata": {},
   "outputs": [],
   "source": [
    "excl_samples = ['FCA_GND10375782', 'HD_F_GON11389672', 'HD_F_GON12893250', 'HD_F_GON12893251_Hrv139', \n",
    "          'HD_F_GON12944919_Hrv161', 'HD_F_GON13657891_Hrv217', \n",
    "          'HD_F_GON11389673', 'HD_F_GON13074328', 'HD_F_GON12944919_Hrv160', 'HD_F_GON13174529', \n",
    "           'HD_F_GON11282098', \n",
    "          'HD_F_GON11282100', 'HD_F_GON14449733_C167', 'HD_F_GON12944919_C132', \n",
    "          'HD_F_GON12129680', 'HD_F_GON11151634', 'HD_F_GON13174528', 'HD_F_GON12873752',\n",
    "           'HD_F_GON13247928_C152', 'HD_F_GON13447622',\n",
    "          'HD_F_GON13182001', 'HD_F_GON12302487', 'HD_F_GON12409311', 'HD_F_GON13679794_C153']"
   ]
  },
  {
   "cell_type": "code",
   "execution_count": null,
   "id": "784ce687",
   "metadata": {},
   "outputs": [],
   "source": [
    "adata = adata[[i not in excl_samples for i in adata.obs['sample']]]"
   ]
  },
  {
   "cell_type": "code",
   "execution_count": null,
   "id": "55559933",
   "metadata": {},
   "outputs": [],
   "source": [
    "adata.obs[['sex', 'stage_pcw']].value_counts()"
   ]
  },
  {
   "cell_type": "code",
   "execution_count": null,
   "id": "54e1ab2b",
   "metadata": {},
   "outputs": [],
   "source": [
    "adata.obs['sample'].value_counts()"
   ]
  },
  {
   "cell_type": "code",
   "execution_count": null,
   "id": "cb48cedf",
   "metadata": {},
   "outputs": [],
   "source": [
    "adata.obs['sex'].value_counts()"
   ]
  },
  {
   "cell_type": "code",
   "execution_count": null,
   "id": "55216485",
   "metadata": {},
   "outputs": [],
   "source": [
    "adata.X[20:30, 20:30].toarray()"
   ]
  },
  {
   "cell_type": "markdown",
   "id": "4502bac6",
   "metadata": {},
   "source": [
    "## 2. Restrict to masculinisation programming windown (8-14 PCW)"
   ]
  },
  {
   "cell_type": "code",
   "execution_count": null,
   "id": "4940da82",
   "metadata": {},
   "outputs": [],
   "source": [
    "## import reproductive tract utils functions\n",
    "cwd = '/nfs/team292/vl6/Experiments/Utils'\n",
    "sys.path.append(cwd)\n",
    "\n",
    "import reptract_utils\n",
    "import reptract_genes"
   ]
  },
  {
   "cell_type": "code",
   "execution_count": null,
   "id": "8b220e99",
   "metadata": {},
   "outputs": [],
   "source": [
    "sc.set_figure_params(scanpy=True, dpi=80, dpi_save=150, \n",
    "                         frameon=True, vector_friendly=True, fontsize=14, figsize=[7,7], color_map=None, \n",
    "                         format='pdf', facecolor=None, transparent=False)\n"
   ]
  },
  {
   "cell_type": "code",
   "execution_count": null,
   "id": "3912162f",
   "metadata": {},
   "outputs": [],
   "source": [
    "import matplotlib as mpl\n",
    "mpl.rcParams['pdf.fonttype'] = 42"
   ]
  },
  {
   "cell_type": "code",
   "execution_count": null,
   "id": "b05806ba",
   "metadata": {},
   "outputs": [],
   "source": [
    "path_to_data = '/nfs/team292/vl6/FetalReproductiveTract/'"
   ]
  },
  {
   "cell_type": "code",
   "execution_count": null,
   "id": "475b1d25",
   "metadata": {},
   "outputs": [],
   "source": [
    "import rpy2.rinterface_lib.callbacks\n",
    "import logging\n",
    "# Ignore R warning messages\n",
    "#Note: this can be commented out to get more verbose R output\n",
    "rpy2.rinterface_lib.callbacks.logger.setLevel(logging.ERROR)\n",
    "import anndata2ri\n",
    "anndata2ri.activate()\n",
    "%load_ext rpy2.ipython"
   ]
  },
  {
   "cell_type": "code",
   "execution_count": null,
   "id": "bdcf3c2e",
   "metadata": {},
   "outputs": [],
   "source": [
    "%%R\n",
    "library(SingleCellExperiment)\n",
    "library(biomaRt)\n",
    "library(data.table)\n",
    "library(scater)\n",
    "library(BiocParallel)"
   ]
  },
  {
   "cell_type": "code",
   "execution_count": null,
   "id": "af089ba1",
   "metadata": {},
   "outputs": [],
   "source": [
    "import anndata\n",
    "mpw = adata.copy()"
   ]
  },
  {
   "cell_type": "code",
   "execution_count": null,
   "id": "d822a85e",
   "metadata": {},
   "outputs": [],
   "source": [
    "mpw = mpw[[8.0 <= x <= 14.0 for x in mpw.obs['stage_pcw']]]"
   ]
  },
  {
   "cell_type": "code",
   "execution_count": null,
   "id": "77a365e8",
   "metadata": {},
   "outputs": [],
   "source": [
    "mpw.shape"
   ]
  },
  {
   "cell_type": "code",
   "execution_count": null,
   "id": "5909314a",
   "metadata": {},
   "outputs": [],
   "source": [
    "mpw.obs[['stage_pcw', 'donor']].value_counts()"
   ]
  },
  {
   "cell_type": "code",
   "execution_count": null,
   "id": "07125879",
   "metadata": {},
   "outputs": [],
   "source": [
    "mpw.obs[['sex']].value_counts()"
   ]
  },
  {
   "cell_type": "code",
   "execution_count": null,
   "id": "61012f98",
   "metadata": {},
   "outputs": [],
   "source": [
    "sc.pp.filter_genes(mpw, min_counts = 10)"
   ]
  },
  {
   "cell_type": "code",
   "execution_count": null,
   "id": "7f0ce1fa",
   "metadata": {},
   "outputs": [],
   "source": [
    "mpw.raw = mpw.copy()\n",
    "# Normalize and log-transform \n",
    "mpw = reptract_utils.normalize_log_transform(mpw)\n",
    "# HVGs, PCA, KNN & UMAP\n",
    "mpw = reptract_utils.hvgs_pca_umap(mpw)"
   ]
  },
  {
   "cell_type": "code",
   "execution_count": null,
   "id": "af9c00e1",
   "metadata": {},
   "outputs": [],
   "source": [
    "sc.pl.umap(mpw, color = ['phase', 'stage_pcw', 'sex', 'donor'], ncols = 2)\n",
    "sc.pl.umap(mpw, color = 'celltype')"
   ]
  },
  {
   "cell_type": "code",
   "execution_count": null,
   "id": "7c4c0be6",
   "metadata": {},
   "outputs": [],
   "source": [
    "# Extract PCA matrix and batch array\n",
    "n_pcs = 16 # Principal components used to perform dimensionality reduction \n",
    "pca = mpw.obsm['X_pca'][:, 0:(n_pcs)]\n",
    "batch = mpw.obs['donor'] # Batch ID, in this case stage"
   ]
  },
  {
   "cell_type": "code",
   "execution_count": null,
   "id": "5680235e",
   "metadata": {},
   "outputs": [],
   "source": [
    "%%R -i pca -i batch -o hem\n",
    "\n",
    "library(harmony)\n",
    "library(magrittr)\n",
    "set.seed(1000)\n",
    "hem <- HarmonyMatrix(pca, batch, theta=0, lambda = 6, do_pca=FALSE, verbose = FALSE)  \n",
    "hem = data.frame(hem)"
   ]
  },
  {
   "cell_type": "code",
   "execution_count": null,
   "id": "042f7942",
   "metadata": {},
   "outputs": [],
   "source": [
    "# Add harmony values to the anndata object --> overwriting PCA \n",
    "mpw.obsm['X_pca_harmony'] = hem.values "
   ]
  },
  {
   "cell_type": "code",
   "execution_count": null,
   "id": "9d23a42e",
   "metadata": {},
   "outputs": [],
   "source": [
    "sc.pp.neighbors(mpw, n_pcs = n_pcs, use_rep = 'X_pca_harmony', random_state= 123)\n",
    "sc.tl.umap(mpw, min_dist=0.6, spread = 0.8)"
   ]
  },
  {
   "cell_type": "code",
   "execution_count": null,
   "id": "54cf25bc",
   "metadata": {},
   "outputs": [],
   "source": [
    "sc.pl.umap(mpw, color = ['phase', 'stage_pcw', 'sex', 'donor'], ncols = 2)\n",
    "sc.pl.umap(mpw, color = 'celltype')"
   ]
  },
  {
   "cell_type": "code",
   "execution_count": null,
   "id": "1b1899ae",
   "metadata": {},
   "outputs": [],
   "source": [
    "# Dotplot \n",
    "sc.pl.umap(mpw, color = ['FOXA1', 'TP63', 'KRT5', 'DHRS2', 'UPK3A', 'PSCA', \n",
    "          'KRT1', 'KRTDAP', 'DSG1', 'KRT14', 'WNT3', 'WNT6','FRZB', 'MSX2', 'DLX5', 'FOXF1', 'SALL1', 'GRID2', \n",
    "          'SOX9', 'PRR16', 'ZFHX4', 'SHOX2', 'FAM162B', 'VGLL3',\n",
    "          'GRIA4', 'IRX1', 'DKK1', 'FXYD7', 'MFAP5', 'GFRA1', 'FOXL2'], use_raw = False, color_map = 'OrRd')"
   ]
  },
  {
   "cell_type": "code",
   "execution_count": null,
   "id": "5e85ecf7",
   "metadata": {},
   "outputs": [],
   "source": [
    "sc.tl.leiden(mpw, resolution = 0.7)\n",
    "sc.pl.umap(mpw, color = 'leiden')"
   ]
  },
  {
   "cell_type": "code",
   "execution_count": null,
   "id": "15c9d58d",
   "metadata": {},
   "outputs": [],
   "source": [
    "sc.pl.umap(mpw, color = 'leiden', legend_loc = 'on data')"
   ]
  },
  {
   "cell_type": "code",
   "execution_count": null,
   "id": "21b767df",
   "metadata": {},
   "outputs": [],
   "source": [
    "mpw = mpw[[i not in ['6', '16'] for i in mpw.obs['leiden']]]"
   ]
  },
  {
   "cell_type": "code",
   "execution_count": null,
   "id": "8a434b20",
   "metadata": {},
   "outputs": [],
   "source": [
    "genitaltubercle_celltype = {\n",
    "    '0' : 'Prepuce',\n",
    "    '1' : 'Corpus Cavernosum', \n",
    "    '2' : 'Urethral Plate', \n",
    "    '3' : 'Glans', \n",
    "    '4' : 'Glans', \n",
    "    '5' : 'Corpus Spongiosum',\n",
    "    '6' : 'Corpus Spongiosum', \n",
    "    '7' : 'Labio-Scrotal Swelling', \n",
    "    '8' : 'Subdermal Prepuce', \n",
    "    '9' : 'Corpus Cavernosum', \n",
    "    '10' : 'Prepuce', \n",
    "    '11' : 'Preputial Lamina',\n",
    "    '12' : 'Glans', \n",
    "    '13' : 'Genital Epidermis', \n",
    "    '14' : 'Genital Epidermis', \n",
    "    '15' : 'Urethral Plate', \n",
    "    '16' : 'Glans'\n",
    "    \n",
    "    \n",
    "}\n",
    "mpw.obs['genitaltubercle_celltype'] = mpw.obs.leiden.map(genitaltubercle_celltype)"
   ]
  },
  {
   "cell_type": "code",
   "execution_count": null,
   "id": "53a1f29b",
   "metadata": {},
   "outputs": [],
   "source": []
  },
  {
   "cell_type": "code",
   "execution_count": null,
   "id": "e4bd2d04",
   "metadata": {},
   "outputs": [],
   "source": [
    "mpw.obs['genitaltubercle_celltype'].value_counts(dropna = False)"
   ]
  },
  {
   "cell_type": "code",
   "execution_count": null,
   "id": "09951733",
   "metadata": {},
   "outputs": [],
   "source": [
    "mpw.obs['genitaltubercle_celltype'] = mpw.obs['genitaltubercle_celltype'].astype('category')"
   ]
  },
  {
   "cell_type": "code",
   "execution_count": null,
   "id": "f3919c40",
   "metadata": {},
   "outputs": [],
   "source": [
    "mpw.obs['genitaltubercle_celltype'] = mpw.obs['genitaltubercle_celltype'].astype('category')\n",
    "mpw.obs['genitaltubercle_celltype'] = mpw.obs['genitaltubercle_celltype'].cat.reorder_categories([\n",
    "    'Urethral Plate',  'Genital Epidermis', 'Preputial Lamina',\n",
    "     'Glans', 'Corpus Spongiosum', 'Corpus Cavernosum', \n",
    "    \n",
    "     'Prepuce', 'Subdermal Prepuce', 'Labio-Scrotal Swelling'\n",
    "])"
   ]
  },
  {
   "cell_type": "code",
   "execution_count": null,
   "id": "960220ef",
   "metadata": {},
   "outputs": [],
   "source": [
    "sc.set_figure_params(scanpy=True, dpi=80, dpi_save=150, \n",
    "                         frameon=True, vector_friendly=True, fontsize=14, figsize=[7,7], color_map=None, \n",
    "                         format='pdf', facecolor=None, transparent=False)"
   ]
  },
  {
   "cell_type": "code",
   "execution_count": null,
   "id": "012b2548",
   "metadata": {},
   "outputs": [],
   "source": [
    "color_dict = {\n",
    "    'Urethral Plate' : 'purple',  \n",
    "    'Genital Epidermis' : 'palevioletred', 'Preputial Lamina' : 'pink',\n",
    "     'Glans' : 'navy', 'Corpus Spongiosum' : 'deepskyblue',\n",
    "   \n",
    "    'Corpus Cavernosum' : 'forestgreen', \n",
    "     'Prepuce' : 'yellowgreen', 'Subdermal Prepuce' : 'lightseagreen', 'Labio-Scrotal Swelling' : 'teal'\n",
    "}"
   ]
  },
  {
   "cell_type": "code",
   "execution_count": null,
   "id": "f2b5e7e7",
   "metadata": {},
   "outputs": [],
   "source": [
    "sc.pl.umap(mpw, color = 'genitaltubercle_celltype', \n",
    "           palette = color_dict,\n",
    "           save = '_mpw.pdf')"
   ]
  },
  {
   "cell_type": "code",
   "execution_count": null,
   "id": "a7047f05",
   "metadata": {},
   "outputs": [],
   "source": [
    "sc.pl.umap(mpw, color = 'donor', \n",
    "           save = '_mpw_donor.pdf')"
   ]
  },
  {
   "cell_type": "code",
   "execution_count": null,
   "id": "a7c269c0",
   "metadata": {},
   "outputs": [],
   "source": [
    "sc.pl.umap(mpw, color = 'stage_pcw', \n",
    "           save = '_mpw_stage_pcw.pdf')"
   ]
  },
  {
   "cell_type": "code",
   "execution_count": null,
   "id": "43784b5b",
   "metadata": {},
   "outputs": [],
   "source": [
    "sc.pl.umap(mpw, color = 'sex', palette = ['#F74F8A', '#0286FA'], \n",
    "           save = '_mpw_sex.pdf')"
   ]
  },
  {
   "cell_type": "code",
   "execution_count": null,
   "id": "f4d4904d",
   "metadata": {},
   "outputs": [],
   "source": [
    "markers = {'Epithelial' : ['FOXA1', 'SHH','UPK3A', \n",
    "                          'PSCA',  'KRT1', 'KRTDAP', 'KRT14', 'WNT3', \n",
    "                          ], \n",
    "          'Mesenchymal' : ['DLX5', 'SP9', 'FOXF1', 'SALL1', 'GRID2', 'FOXL2', \n",
    "                          'PRR16', 'SOX9',  'SHOX2', 'SHOX', 'IRX1', 'GRIA4', \n",
    "                          'FXYD7', 'GFRA1']}\n",
    "sc.pl.dotplot(mpw, var_names = markers, groupby = 'genitaltubercle_celltype', \n",
    "             standard_scale = 'var', color_map = 'OrRd', save = '_genitaltubercle_MPW.pdf')"
   ]
  },
  {
   "cell_type": "code",
   "execution_count": null,
   "id": "36ccfd27",
   "metadata": {},
   "outputs": [],
   "source": [
    "mpw.raw.X[20:30, 20:30].toarray()"
   ]
  },
  {
   "cell_type": "code",
   "execution_count": null,
   "id": "fbb8e0f8",
   "metadata": {},
   "outputs": [],
   "source": [
    "mpw.write('/nfs/team292/vl6/FetalReproductiveTract/genital_tubercle_mpw.h5ad')"
   ]
  },
  {
   "cell_type": "code",
   "execution_count": null,
   "id": "62701222",
   "metadata": {},
   "outputs": [],
   "source": [
    "mpw = sc.read('/nfs/team292/vl6/FetalReproductiveTract/genital_tubercle_mpw.h5ad')"
   ]
  },
  {
   "cell_type": "code",
   "execution_count": null,
   "id": "e49b5ef9",
   "metadata": {},
   "outputs": [],
   "source": [
    "mpw"
   ]
  },
  {
   "cell_type": "markdown",
   "id": "b46b229b",
   "metadata": {},
   "source": [
    "## 3. Differential expression between sexes per cell type"
   ]
  },
  {
   "cell_type": "code",
   "execution_count": null,
   "id": "b37c2bff",
   "metadata": {},
   "outputs": [],
   "source": [
    "import anndata\n",
    "mpw_raw = anndata.AnnData(X = mpw.raw.X, var = mpw.raw.var, obs = mpw.obs)\n",
    "mpw_raw.shape"
   ]
  },
  {
   "cell_type": "code",
   "execution_count": null,
   "id": "2ef4e194",
   "metadata": {},
   "outputs": [],
   "source": [
    "# remove mito genes\n",
    "non_mito_genes = [name for name in mpw_raw.var_names if not name.startswith('MT-')]\n",
    "mpw_raw = mpw_raw[:, non_mito_genes]\n",
    "\n",
    "# remove ribo genes\n",
    "non_ribo_genes = [name for name in mpw_raw.var_names if not name.startswith('RP')]\n",
    "mpw_raw = mpw_raw[:, non_ribo_genes]\n",
    "\n",
    "# remove heat shock protein genes\n",
    "non_hps_genes = [name for name in mpw_raw.var_names if not name.startswith('HSP')]\n",
    "mpw_raw = mpw_raw[:, non_hps_genes]\n"
   ]
  },
  {
   "cell_type": "code",
   "execution_count": null,
   "id": "671e494f",
   "metadata": {},
   "outputs": [],
   "source": [
    "import decoupler as dc"
   ]
  },
  {
   "cell_type": "code",
   "execution_count": null,
   "id": "0f781c2b",
   "metadata": {},
   "outputs": [],
   "source": [
    "%%R -o results\n",
    "library(biomaRt)\n",
    "mart <- useMart(biomart=\"ensembl\", dataset=\"hsapiens_gene_ensembl\")\n",
    "results <- getBM(attributes = c(\"chromosome_name\", \"hgnc_symbol\"),\n",
    "            filters = \"chromosome_name\", values = \"Y\", mart = mart, verbose = TRUE)\n",
    "\n",
    "head(results)"
   ]
  },
  {
   "cell_type": "code",
   "execution_count": null,
   "id": "6ae69b35",
   "metadata": {},
   "outputs": [],
   "source": [
    "results.head()"
   ]
  },
  {
   "cell_type": "code",
   "execution_count": null,
   "id": "f0775cb2",
   "metadata": {},
   "outputs": [],
   "source": [
    "results = results.set_index('hgnc_symbol')"
   ]
  },
  {
   "cell_type": "code",
   "execution_count": null,
   "id": "ba12f284",
   "metadata": {},
   "outputs": [],
   "source": [
    "mpw_raw.var['Y_chrom'] = mpw_raw.var_names.map(results['chromosome_name'].to_dict())"
   ]
  },
  {
   "cell_type": "code",
   "execution_count": null,
   "id": "591c660c",
   "metadata": {},
   "outputs": [],
   "source": [
    "mpw_raw.var['Y_chrom'].value_counts(dropna = False)"
   ]
  },
  {
   "cell_type": "code",
   "execution_count": null,
   "id": "d6a95745",
   "metadata": {},
   "outputs": [],
   "source": [
    "ychrom = mpw_raw.var[mpw_raw.var['Y_chrom'] == 'Y'].index.to_list()"
   ]
  },
  {
   "cell_type": "code",
   "execution_count": null,
   "id": "7c0af4fb",
   "metadata": {},
   "outputs": [],
   "source": [
    "keep = [i for i in mpw_raw.var_names.to_list() if i not in ychrom]"
   ]
  },
  {
   "cell_type": "code",
   "execution_count": null,
   "id": "809d3694",
   "metadata": {},
   "outputs": [],
   "source": [
    "len(keep)"
   ]
  },
  {
   "cell_type": "code",
   "execution_count": null,
   "id": "8ee781b5",
   "metadata": {},
   "outputs": [],
   "source": [
    "mpw_raw = mpw_raw[:, keep]"
   ]
  },
  {
   "cell_type": "code",
   "execution_count": null,
   "id": "1de50c36",
   "metadata": {},
   "outputs": [],
   "source": [
    "mpw_raw.shape"
   ]
  },
  {
   "cell_type": "code",
   "execution_count": null,
   "id": "30348774",
   "metadata": {},
   "outputs": [],
   "source": [
    "mpw = mpw[:, keep]"
   ]
  },
  {
   "cell_type": "code",
   "execution_count": null,
   "id": "25dd2754",
   "metadata": {},
   "outputs": [],
   "source": [
    "mpw.layers[\"counts\"] = mpw_raw.X.copy()"
   ]
  },
  {
   "cell_type": "code",
   "execution_count": null,
   "id": "3f4330f7",
   "metadata": {},
   "outputs": [],
   "source": [
    "mpw.layers[\"counts\"].toarray()[20:30, 20:30]"
   ]
  },
  {
   "cell_type": "code",
   "execution_count": null,
   "id": "79a94457",
   "metadata": {},
   "outputs": [],
   "source": [
    "# Get pseudo-bulk profile\n",
    "pdata = dc.get_pseudobulk(\n",
    "    mpw,\n",
    "    sample_col='donor',\n",
    "    groups_col='genitaltubercle_celltype',\n",
    "    layer='counts',\n",
    "    mode='sum',\n",
    "    min_cells=0,\n",
    "    min_counts=0\n",
    ")"
   ]
  },
  {
   "cell_type": "code",
   "execution_count": null,
   "id": "d563eafd",
   "metadata": {},
   "outputs": [],
   "source": [
    "dc.plot_psbulk_samples(pdata, groupby=['donor', 'genitaltubercle_celltype'], figsize=(12, 4))"
   ]
  },
  {
   "cell_type": "code",
   "execution_count": null,
   "id": "2e21dbe2",
   "metadata": {},
   "outputs": [],
   "source": [
    "# Get filtered pseudo-bulk profile\n",
    "pdata = dc.get_pseudobulk(\n",
    "    mpw,\n",
    "    sample_col='donor',\n",
    "    groups_col='genitaltubercle_celltype',\n",
    "    layer='counts',\n",
    "    mode='sum',\n",
    "    min_cells=10,\n",
    "    min_counts=1000\n",
    ")\n",
    "pdata"
   ]
  },
  {
   "cell_type": "code",
   "execution_count": null,
   "id": "f59a14d2",
   "metadata": {},
   "outputs": [],
   "source": [
    "# Store raw counts in layers\n",
    "pdata.layers['counts'] = pdata.X.copy()\n",
    "\n",
    "# Normalize, scale and compute pca\n",
    "sc.pp.normalize_total(pdata, target_sum=1e4)\n",
    "sc.pp.log1p(pdata)\n",
    "sc.pp.scale(pdata, max_value=10)\n",
    "sc.tl.pca(pdata)\n",
    "\n",
    "# Return raw counts to X\n",
    "dc.swap_layer(pdata, 'counts', X_layer_key=None, inplace=True)"
   ]
  },
  {
   "cell_type": "code",
   "execution_count": null,
   "id": "caa10d2e",
   "metadata": {},
   "outputs": [],
   "source": [
    "sc.pl.pca(pdata, color=['sex', 'genitaltubercle_celltype'], ncols=1, size=300)\n",
    "sc.pl.pca_variance_ratio(pdata)"
   ]
  },
  {
   "cell_type": "code",
   "execution_count": null,
   "id": "21648cdb",
   "metadata": {},
   "outputs": [],
   "source": [
    "dc.get_metadata_associations(\n",
    "    pdata,\n",
    "    obs_keys = ['sex', 'genitaltubercle_celltype', 'psbulk_n_cells', 'psbulk_counts'],  # Metadata columns to associate to PCs\n",
    "    obsm_key='X_pca',  # Where the PCs are stored\n",
    "    uns_key='pca_anova',  # Where the results are stored\n",
    "    inplace=True,\n",
    ")"
   ]
  },
  {
   "cell_type": "code",
   "execution_count": null,
   "id": "062eaf09",
   "metadata": {},
   "outputs": [],
   "source": [
    "dc.plot_associations(\n",
    "    pdata,\n",
    "    uns_key='pca_anova',  # Summary statistics from the anova tests\n",
    "    obsm_key='X_pca',  # where the PCs are stored\n",
    "    stat_col='p_adj',  # Which summary statistic to plot\n",
    "    obs_annotation_cols = ['sex', 'genitaltubercle_celltype'], # which sample annotations to plot\n",
    "    titles=['Principle component scores', 'Adjusted p-values from ANOVA'],\n",
    "    figsize=(7, 5),\n",
    "    n_factors=10,\n",
    ")"
   ]
  },
  {
   "cell_type": "markdown",
   "id": "c8479d1f",
   "metadata": {},
   "source": [
    "## Sexual dimorphism in the urethral plate"
   ]
  },
  {
   "cell_type": "code",
   "execution_count": null,
   "id": "2a1106b8",
   "metadata": {},
   "outputs": [],
   "source": [
    "cs = pdata[pdata.obs['genitaltubercle_celltype'] == 'Urethral Plate'].copy()"
   ]
  },
  {
   "cell_type": "code",
   "execution_count": null,
   "id": "142ce2c3",
   "metadata": {},
   "outputs": [],
   "source": [
    "dc.plot_filter_by_expr(cs, group='sex', min_count=50, min_total_count=60)"
   ]
  },
  {
   "cell_type": "code",
   "execution_count": null,
   "id": "828166fe",
   "metadata": {},
   "outputs": [],
   "source": [
    "# Obtain genes that pass the thresholds\n",
    "genes = dc.filter_by_expr(cs, group='sex', min_count=50, min_total_count=15)\n",
    "\n",
    "# Filter by these genes\n",
    "cs = cs[:, genes].copy()\n",
    "cs"
   ]
  },
  {
   "cell_type": "code",
   "execution_count": null,
   "id": "3e484eef",
   "metadata": {},
   "outputs": [],
   "source": [
    "# Import DESeq2\n",
    "from pydeseq2.dds import DeseqDataSet, DefaultInference\n",
    "from pydeseq2.ds import DeseqStats"
   ]
  },
  {
   "cell_type": "code",
   "execution_count": null,
   "id": "753984fa",
   "metadata": {},
   "outputs": [],
   "source": [
    "# Build DESeq2 object\n",
    "inference = DefaultInference(n_cpus=8)\n",
    "dds = DeseqDataSet(\n",
    "    adata=cs,\n",
    "    design_factors='sex',\n",
    "    ref_level=['sex', 'female'],\n",
    "    refit_cooks=True,\n",
    "    inference=inference,\n",
    ")"
   ]
  },
  {
   "cell_type": "code",
   "execution_count": null,
   "id": "b0f252b4",
   "metadata": {},
   "outputs": [],
   "source": [
    "# Compute LFCs\n",
    "dds.deseq2()"
   ]
  },
  {
   "cell_type": "code",
   "execution_count": null,
   "id": "fbe9866b",
   "metadata": {},
   "outputs": [],
   "source": [
    "# Extract contrast between males vs females\n",
    "stat_res = DeseqStats(\n",
    "    dds,\n",
    "    contrast=[\"sex\", 'male', 'female'],\n",
    "    inference=inference,\n",
    ")"
   ]
  },
  {
   "cell_type": "code",
   "execution_count": null,
   "id": "5abb1ed4",
   "metadata": {},
   "outputs": [],
   "source": [
    "# Compute Wald test\n",
    "stat_res.summary()"
   ]
  },
  {
   "cell_type": "code",
   "execution_count": null,
   "id": "6a448302",
   "metadata": {},
   "outputs": [],
   "source": [
    "# Extract results\n",
    "results_df = stat_res.results_df\n",
    "results_df"
   ]
  },
  {
   "cell_type": "code",
   "execution_count": null,
   "id": "64e1f3ba",
   "metadata": {},
   "outputs": [],
   "source": [
    "dc.plot_volcano_df(\n",
    "    results_df,\n",
    "    x='log2FoldChange',\n",
    "    y='padj',\n",
    "    lFCs_thr = 1.25,\n",
    "    sign_thr = 0.05,\n",
    "    top = 51,\n",
    "    color_pos = 'deepskyblue',\n",
    "    color_neg = 'pink',\n",
    "    color_null='lightgray',\n",
    "    lFCs_limit = 5,\n",
    "    figsize=(7, 5), \n",
    "    save = '_urethralplateuroplakins_DE.pdf'\n",
    ")"
   ]
  },
  {
   "cell_type": "code",
   "execution_count": null,
   "id": "e8fa15dd",
   "metadata": {},
   "outputs": [],
   "source": [
    "results_df = results_df[(results_df['log2FoldChange'] > 0.25) | (results_df['log2FoldChange'] < -0.25)]"
   ]
  },
  {
   "cell_type": "code",
   "execution_count": null,
   "id": "f588d024",
   "metadata": {},
   "outputs": [],
   "source": [
    "results_df = results_df[results_df['padj'] < 0.05]"
   ]
  },
  {
   "cell_type": "code",
   "execution_count": null,
   "id": "326a81b1",
   "metadata": {},
   "outputs": [],
   "source": [
    "results_df.shape"
   ]
  },
  {
   "cell_type": "code",
   "execution_count": null,
   "id": "0fdc73d6",
   "metadata": {},
   "outputs": [],
   "source": [
    "pd.set_option('display.max_rows', 200)"
   ]
  },
  {
   "cell_type": "code",
   "execution_count": null,
   "id": "9b17b886",
   "metadata": {},
   "outputs": [],
   "source": [
    "results_df.sort_values('log2FoldChange')"
   ]
  },
  {
   "cell_type": "code",
   "execution_count": null,
   "id": "d8553e2d",
   "metadata": {},
   "outputs": [],
   "source": [
    "results_df.to_csv('/nfs/team292/vl6/FetalReproductiveTract/genital_tubercle_urethral_plate_DE_025LogFC.csv')"
   ]
  },
  {
   "cell_type": "markdown",
   "id": "9021dae1",
   "metadata": {},
   "source": [
    "## Sexual dimorphism in the corpus spongiosum"
   ]
  },
  {
   "cell_type": "code",
   "execution_count": null,
   "id": "0245914d",
   "metadata": {},
   "outputs": [],
   "source": [
    "cs = pdata[pdata.obs['genitaltubercle_celltype'] == 'Corpus Spongiosum'].copy()"
   ]
  },
  {
   "cell_type": "code",
   "execution_count": null,
   "id": "7d125774",
   "metadata": {},
   "outputs": [],
   "source": [
    "dc.plot_filter_by_expr(cs, group='sex', min_count=50, min_total_count=60)"
   ]
  },
  {
   "cell_type": "code",
   "execution_count": null,
   "id": "ae4204e0",
   "metadata": {},
   "outputs": [],
   "source": [
    "# Obtain genes that pass the thresholds\n",
    "genes = dc.filter_by_expr(cs, group='sex', min_count=50, min_total_count=15)\n",
    "\n",
    "# Filter by these genes\n",
    "cs = cs[:, genes].copy()\n",
    "cs"
   ]
  },
  {
   "cell_type": "code",
   "execution_count": null,
   "id": "2a8e19f7",
   "metadata": {},
   "outputs": [],
   "source": [
    "# Build DESeq2 object\n",
    "inference = DefaultInference(n_cpus=8)\n",
    "dds = DeseqDataSet(\n",
    "    adata=cs,\n",
    "    design_factors='sex',\n",
    "    ref_level=['sex', 'female'],\n",
    "    refit_cooks=True,\n",
    "    inference=inference,\n",
    ")"
   ]
  },
  {
   "cell_type": "code",
   "execution_count": null,
   "id": "28dd8c3d",
   "metadata": {},
   "outputs": [],
   "source": [
    "# Compute LFCs\n",
    "dds.deseq2()"
   ]
  },
  {
   "cell_type": "code",
   "execution_count": null,
   "id": "8d018dd5",
   "metadata": {},
   "outputs": [],
   "source": [
    "# Extract contrast between males vs females\n",
    "stat_res = DeseqStats(\n",
    "    dds,\n",
    "    contrast=[\"sex\", 'male', 'female'],\n",
    "    inference=inference,\n",
    ")"
   ]
  },
  {
   "cell_type": "code",
   "execution_count": null,
   "id": "0287194b",
   "metadata": {},
   "outputs": [],
   "source": [
    "# Compute Wald test\n",
    "stat_res.summary()\n"
   ]
  },
  {
   "cell_type": "code",
   "execution_count": null,
   "id": "d98fbc1c",
   "metadata": {},
   "outputs": [],
   "source": [
    "# Extract results\n",
    "results_df = stat_res.results_df\n",
    "results_df"
   ]
  },
  {
   "cell_type": "code",
   "execution_count": null,
   "id": "e77167ae",
   "metadata": {},
   "outputs": [],
   "source": [
    "results_df.loc['MAFB']"
   ]
  },
  {
   "cell_type": "code",
   "execution_count": null,
   "id": "68b57df6",
   "metadata": {},
   "outputs": [],
   "source": [
    "dc.plot_volcano_df(\n",
    "    results_df,\n",
    "    x='log2FoldChange',\n",
    "    y='padj',\n",
    "    lFCs_thr = 1.25,\n",
    "    sign_thr = 0.05,\n",
    "    top = 60,\n",
    "    color_pos = 'deepskyblue',\n",
    "    color_neg = 'pink',\n",
    "    color_null='lightgray',\n",
    "    lFCs_limit = 4,\n",
    "    figsize=(8, 5), \n",
    "    save = '_corpusspongiosum_DE.pdf'\n",
    ")"
   ]
  },
  {
   "cell_type": "code",
   "execution_count": null,
   "id": "00e18ab1",
   "metadata": {},
   "outputs": [],
   "source": [
    "results_df = results_df[(results_df['log2FoldChange'] > 0.25) | (results_df['log2FoldChange'] < -0.25)]"
   ]
  },
  {
   "cell_type": "code",
   "execution_count": null,
   "id": "fc1be497",
   "metadata": {},
   "outputs": [],
   "source": [
    "results_df = results_df[results_df['padj'] < 0.05]"
   ]
  },
  {
   "cell_type": "code",
   "execution_count": null,
   "id": "5c57eaf5",
   "metadata": {},
   "outputs": [],
   "source": [
    "results_df.shape"
   ]
  },
  {
   "cell_type": "code",
   "execution_count": null,
   "id": "09bde8f5",
   "metadata": {},
   "outputs": [],
   "source": [
    "results_df.sort_values('log2FoldChange')"
   ]
  },
  {
   "cell_type": "code",
   "execution_count": null,
   "id": "a5d40059",
   "metadata": {},
   "outputs": [],
   "source": [
    "results_df.to_csv('/nfs/team292/vl6/FetalReproductiveTract/genital_tubercle_corpus_spongiosum_DE_025LogFC.csv')"
   ]
  },
  {
   "cell_type": "markdown",
   "id": "fdd3c2d2",
   "metadata": {},
   "source": [
    "## DEGs for CellPhoneDB with Seurat "
   ]
  },
  {
   "cell_type": "code",
   "execution_count": null,
   "id": "d57165f2",
   "metadata": {},
   "outputs": [],
   "source": [
    "path2data = '/nfs/team292/vl6/FetalReproductiveTract/'\n",
    "adata_cpdb = sc.read(path2data + 'genital_tubercle_mpw.h5ad')\n",
    "adata_cpdb.X.shape"
   ]
  },
  {
   "cell_type": "code",
   "execution_count": null,
   "id": "1d087021",
   "metadata": {},
   "outputs": [],
   "source": [
    "adata_cpdb.obs['genitaltubercle_celltype'] = adata_cpdb.obs['genitaltubercle_celltype'].astype(str)\n",
    "adata_cpdb.obs['sex'] = adata_cpdb.obs['sex'].astype(str)\n",
    "# Separate between male and female \n",
    "adata_cpdb.obs['genitaltubercle_celltype+sex'] = adata_cpdb.obs['genitaltubercle_celltype'] + '_' + adata_cpdb.obs['sex']\n",
    "sc.pl.umap(adata_cpdb, color = 'genitaltubercle_celltype+sex')"
   ]
  },
  {
   "cell_type": "code",
   "execution_count": null,
   "id": "f7828d74",
   "metadata": {},
   "outputs": [],
   "source": [
    "celltypes_of_interest = ['Urethral Plate_female', 'Urethral Plate_male', 'Corpus Spongiosum_female', \n",
    "                        'Corpus Spongiosum_male']"
   ]
  },
  {
   "cell_type": "code",
   "execution_count": null,
   "id": "342f08ae",
   "metadata": {},
   "outputs": [],
   "source": [
    "adata_cpdb = adata_cpdb[[ i in celltypes_of_interest for i in adata_cpdb.obs['genitaltubercle_celltype+sex'] ]]\n",
    "sc.pl.umap(adata_cpdb, color=['genitaltubercle_celltype+sex'])\n",
    "print(adata_cpdb.obs['genitaltubercle_celltype+sex'].value_counts())"
   ]
  },
  {
   "cell_type": "code",
   "execution_count": null,
   "id": "9fa827e7",
   "metadata": {},
   "outputs": [],
   "source": [
    "adata_cpdb.obs['celltype'] = adata_cpdb.obs['genitaltubercle_celltype+sex'].copy()"
   ]
  },
  {
   "cell_type": "code",
   "execution_count": null,
   "id": "bfc14e1c",
   "metadata": {},
   "outputs": [],
   "source": [
    "adata_cpdb.raw.X[20:25, 40:45].toarray()"
   ]
  },
  {
   "cell_type": "code",
   "execution_count": null,
   "id": "861e71ff",
   "metadata": {},
   "outputs": [],
   "source": [
    "import anndata\n",
    "adata_cpdb = anndata.AnnData(X = adata_cpdb.raw.X, var = adata_cpdb.raw.var, obs = adata_cpdb.obs)\n",
    "adata_cpdb.shape"
   ]
  },
  {
   "cell_type": "code",
   "execution_count": null,
   "id": "c9e6e0b4",
   "metadata": {},
   "outputs": [],
   "source": [
    "### Filter genes\n",
    "# remove mito genes\n",
    "non_mito_genes = [name for name in adata_cpdb.var_names if not name.startswith('MT-')]\n",
    "adata_cpdb = adata_cpdb[:, non_mito_genes]\n",
    "\n",
    "# remove ribo genes\n",
    "non_ribo_genes = [name for name in adata_cpdb.var_names if not name.startswith('RP')]\n",
    "adata_cpdb = adata_cpdb[:, non_ribo_genes]\n",
    "\n",
    "# remove heat shock protein genes\n",
    "non_hps_genes = [name for name in adata_cpdb.var_names if not name.startswith('HSP')]\n",
    "adata_cpdb = adata_cpdb[:, non_hps_genes]\n",
    "\n",
    "# remove haemoglobin genes \n",
    "non_haemo_genes = [name for name in adata_cpdb.var_names if name not in ['HBA1', 'HBA2', 'HBB', 'HBG1', 'HBG2']]\n",
    "adata_cpdb = adata_cpdb[:, non_haemo_genes]\n",
    "\n",
    "sc.pp.filter_genes(adata_cpdb, min_cells=10)\n",
    "sc.pp.filter_genes(adata_cpdb, min_counts=1)"
   ]
  },
  {
   "cell_type": "code",
   "execution_count": null,
   "id": "d9352888",
   "metadata": {},
   "outputs": [],
   "source": [
    "adata_cpdb.shape"
   ]
  },
  {
   "cell_type": "code",
   "execution_count": null,
   "id": "d6c7d7da",
   "metadata": {},
   "outputs": [],
   "source": [
    "%%R -o results\n",
    "library(biomaRt)\n",
    "mart <- useMart(biomart=\"ensembl\", dataset=\"hsapiens_gene_ensembl\")\n",
    "results <- getBM(attributes = c(\"chromosome_name\", \"hgnc_symbol\"),\n",
    "            filters = \"chromosome_name\", values = \"Y\", mart = mart, verbose = TRUE)\n",
    "\n",
    "head(results)"
   ]
  },
  {
   "cell_type": "code",
   "execution_count": null,
   "id": "c5204947",
   "metadata": {},
   "outputs": [],
   "source": [
    "results = results.set_index('hgnc_symbol')"
   ]
  },
  {
   "cell_type": "code",
   "execution_count": null,
   "id": "1b593ec6",
   "metadata": {},
   "outputs": [],
   "source": [
    "adata_cpdb.var['Y_chrom'] = adata_cpdb.var_names.map(results['chromosome_name'].to_dict())"
   ]
  },
  {
   "cell_type": "code",
   "execution_count": null,
   "id": "fb7dd1be",
   "metadata": {},
   "outputs": [],
   "source": [
    "adata_cpdb.var['Y_chrom'].value_counts(dropna = False)"
   ]
  },
  {
   "cell_type": "code",
   "execution_count": null,
   "id": "2973f799",
   "metadata": {},
   "outputs": [],
   "source": [
    "ychrom = adata_cpdb.var[adata_cpdb.var['Y_chrom'] == 'Y'].index.to_list()\n",
    "keep = [i for i in adata_cpdb.var_names.to_list() if i not in ychrom]\n",
    "len(keep)"
   ]
  },
  {
   "cell_type": "code",
   "execution_count": null,
   "id": "641418ab",
   "metadata": {},
   "outputs": [],
   "source": [
    "adata_cpdb = adata_cpdb[:, keep]"
   ]
  },
  {
   "cell_type": "code",
   "execution_count": null,
   "id": "a360819b",
   "metadata": {},
   "outputs": [],
   "source": [
    "adata_cpdb.shape"
   ]
  },
  {
   "cell_type": "code",
   "execution_count": null,
   "id": "99decc09",
   "metadata": {},
   "outputs": [],
   "source": [
    "sc.pp.normalize_per_cell(adata_cpdb, counts_per_cell_after=1e4)\n",
    "sc.pp.log1p(adata_cpdb)"
   ]
  },
  {
   "cell_type": "code",
   "execution_count": null,
   "id": "2525b5f9",
   "metadata": {},
   "outputs": [],
   "source": [
    "del adata_cpdb.var\n",
    "del adata_cpdb.obsm\n",
    "del adata_cpdb.uns\n",
    "for i in adata_cpdb.obs.columns:\n",
    "    if i != 'celltype':\n",
    "        del adata_cpdb.obs[i]"
   ]
  },
  {
   "cell_type": "code",
   "execution_count": null,
   "id": "1ca8e84c",
   "metadata": {},
   "outputs": [],
   "source": [
    "adata_cpdb_cs = adata_cpdb[[i in ['Corpus Spongiosum_female', 'Corpus Spongiosum_male'] for i in adata_cpdb.obs['celltype']]]\n",
    "adata_cpdb_cs.obs['celltype'].value_counts(dropna = False)"
   ]
  },
  {
   "cell_type": "code",
   "execution_count": null,
   "id": "cea42ab3",
   "metadata": {},
   "outputs": [],
   "source": []
  },
  {
   "cell_type": "code",
   "execution_count": null,
   "id": "8a286bed",
   "metadata": {},
   "outputs": [],
   "source": [
    "%%R -i adata_cpdb_cs\n",
    "adata_cpdb_cs"
   ]
  },
  {
   "cell_type": "code",
   "execution_count": null,
   "id": "7d3a9a7e",
   "metadata": {},
   "outputs": [],
   "source": [
    "%%R -o DEGs_cs\n",
    "\n",
    "library(Seurat)\n",
    "so = as.Seurat(adata_cpdb_cs, counts = \"X\", data = \"X\")\n",
    "Idents(so) = so$celltype\n",
    "\n",
    "# # Normalize\n",
    "# so <- NormalizeData(so, normalization.method = \"LogNormalize\", scale.factor = 10000)\n",
    "# so <- ScaleData(so, features = rownames(so))\n",
    "\n",
    "# Extract DEGs for each cell_type\n",
    "DEGs_cs <- FindAllMarkers(so, \n",
    "                       verbose = F, \n",
    "                       only.pos = T, \n",
    "                       random.seed = 1, \n",
    "                       logfc.threshold = 0, \n",
    "                       min.pct = 0.1, \n",
    "                       return.thresh = 1)\n",
    "\n",
    "DEGs_cs$cluster = factor(DEGs_cs$cluster, levels = sort(unique(DEGs_cs$cluster)) )\n",
    "# topgenes_DEGs = subset(DEGs, qval <= 0.05) %>%\n",
    "#   group_by(cluster) %>%\n",
    "#   group_map(~ head(.x, 30L)$gene) %>%\n",
    "#   unlist(.)"
   ]
  },
  {
   "cell_type": "code",
   "execution_count": null,
   "id": "2781abae",
   "metadata": {},
   "outputs": [],
   "source": [
    "DEGs_cs"
   ]
  },
  {
   "cell_type": "code",
   "execution_count": null,
   "id": "86aeb01f",
   "metadata": {},
   "outputs": [],
   "source": [
    "DEGs_cs.to_csv('/nfs/team292/vl6/FetalReproductiveTract/genital_tubercle_cs_DEGs.csv', index=False, sep='\\t')"
   ]
  },
  {
   "cell_type": "code",
   "execution_count": null,
   "id": "5f7389d9",
   "metadata": {},
   "outputs": [],
   "source": [
    "DEGs_cs.loc['JAG1']"
   ]
  },
  {
   "cell_type": "code",
   "execution_count": null,
   "id": "0c94a379",
   "metadata": {},
   "outputs": [],
   "source": [
    "adata_cpdb_up = adata_cpdb[[i in ['Urethral Plate_female', 'Urethral Plate_male'] for i in adata_cpdb.obs['celltype']]]\n",
    "adata_cpdb_up.obs['celltype'].value_counts(dropna = False)"
   ]
  },
  {
   "cell_type": "code",
   "execution_count": null,
   "id": "6541e8c9",
   "metadata": {},
   "outputs": [],
   "source": [
    "%%R -i adata_cpdb_up\n",
    "adata_cpdb_up"
   ]
  },
  {
   "cell_type": "code",
   "execution_count": null,
   "id": "22cf7162",
   "metadata": {},
   "outputs": [],
   "source": [
    "%%R -o DEGs_up\n",
    "\n",
    "library(Seurat)\n",
    "so = as.Seurat(adata_cpdb_up, counts = \"X\", data = \"X\")\n",
    "Idents(so) = so$celltype\n",
    "\n",
    "# # Normalize\n",
    "# so <- NormalizeData(so, normalization.method = \"LogNormalize\", scale.factor = 10000)\n",
    "# so <- ScaleData(so, features = rownames(so))\n",
    "\n",
    "# Extract DEGs for each cell_type\n",
    "DEGs_up <- FindAllMarkers(so, \n",
    "                       verbose = F, \n",
    "                       only.pos = T, \n",
    "                       random.seed = 1, \n",
    "                       logfc.threshold = 0, \n",
    "                       min.pct = 0.1, \n",
    "                       return.thresh = 1)\n",
    "\n",
    "DEGs_up$cluster = factor(DEGs_up$cluster, levels = sort(unique(DEGs_up$cluster)) )\n",
    "# topgenes_DEGs = subset(DEGs, qval <= 0.05) %>%\n",
    "#   group_by(cluster) %>%\n",
    "#   group_map(~ head(.x, 30L)$gene) %>%\n",
    "#   unlist(.)"
   ]
  },
  {
   "cell_type": "code",
   "execution_count": null,
   "id": "7e0db6cf",
   "metadata": {},
   "outputs": [],
   "source": [
    "DEGs_up.loc['NOTCH2']"
   ]
  },
  {
   "cell_type": "code",
   "execution_count": null,
   "id": "76ae5383",
   "metadata": {},
   "outputs": [],
   "source": [
    "DEGs_up.loc['CD46']"
   ]
  },
  {
   "cell_type": "code",
   "execution_count": null,
   "id": "803637f9",
   "metadata": {},
   "outputs": [],
   "source": [
    "DEGs_up.to_csv('/nfs/team292/vl6/FetalReproductiveTract/genital_tubercle_up_DEGs.csv', index=False, sep='\\t')"
   ]
  },
  {
   "cell_type": "code",
   "execution_count": null,
   "id": "cca6cf0c",
   "metadata": {},
   "outputs": [],
   "source": [
    "DEGs = DEGs_cs.append(DEGs_up)"
   ]
  },
  {
   "cell_type": "code",
   "execution_count": null,
   "id": "8bb67fba",
   "metadata": {},
   "outputs": [],
   "source": [
    "DEGs.to_csv('/nfs/team292/vl6/FetalReproductiveTract/genital_tubercle_cs_up_DEGs.csv', index=False, sep='\\t')"
   ]
  },
  {
   "cell_type": "markdown",
   "id": "86014a68",
   "metadata": {},
   "source": [
    "## ATAC visualisations"
   ]
  },
  {
   "cell_type": "code",
   "execution_count": null,
   "id": "fdb944e8",
   "metadata": {},
   "outputs": [],
   "source": [
    "outDir = '/lustre/scratch126/cellgen/team292/vl6/pycistopic/male_genital_tubercle/'"
   ]
  },
  {
   "cell_type": "code",
   "execution_count": null,
   "id": "d2f5c809",
   "metadata": {},
   "outputs": [],
   "source": [
    "atac_annots = pd.read_csv(outDir + 'male_genital_tubercle_embedding.csv', index_col = 0)\n",
    "atac_annots.head()"
   ]
  },
  {
   "cell_type": "code",
   "execution_count": null,
   "id": "3a099a43",
   "metadata": {},
   "outputs": [],
   "source": [
    "# Create fake matrix \n",
    "fake_matrix = np.zeros([6258, 20000])\n",
    "fake_matrix.shape"
   ]
  },
  {
   "cell_type": "code",
   "execution_count": null,
   "id": "983bf124",
   "metadata": {},
   "outputs": [],
   "source": [
    "fake_vars = pd.DataFrame({'n_genes' : [5] * 20000})"
   ]
  },
  {
   "cell_type": "code",
   "execution_count": null,
   "id": "9136f912",
   "metadata": {},
   "outputs": [],
   "source": [
    "import anndata \n",
    "adata = anndata.AnnData(X = fake_matrix, var = fake_vars, obs = atac_annots)"
   ]
  },
  {
   "cell_type": "code",
   "execution_count": null,
   "id": "37b6e2b4",
   "metadata": {},
   "outputs": [],
   "source": [
    "adata.obsm['X_umap'] = atac_annots[['tsne1', 'tsne2']].to_numpy()"
   ]
  },
  {
   "cell_type": "code",
   "execution_count": null,
   "id": "2d5608c2",
   "metadata": {},
   "outputs": [],
   "source": [
    "sc.set_figure_params(scanpy=True, dpi=80, dpi_save=150, \n",
    "                         frameon=True, vector_friendly=True, fontsize=14, figsize=[7,7], color_map=None, \n",
    "                         format='pdf', facecolor=None, transparent=False)"
   ]
  },
  {
   "cell_type": "code",
   "execution_count": null,
   "id": "a09d53e9",
   "metadata": {},
   "outputs": [],
   "source": [
    "import matplotlib as mpl\n",
    "mpl.rcParams['pdf.fonttype'] = 42"
   ]
  },
  {
   "cell_type": "code",
   "execution_count": null,
   "id": "129fda12",
   "metadata": {},
   "outputs": [],
   "source": [
    "adata.obs.columns"
   ]
  },
  {
   "cell_type": "code",
   "execution_count": null,
   "id": "fc1bd113",
   "metadata": {},
   "outputs": [],
   "source": [
    "sc.pl.umap(adata, color = 'Stage_PCW', cmap = 'viridis', save = '_atac_male_genital_tubercle_stage')"
   ]
  },
  {
   "cell_type": "code",
   "execution_count": null,
   "id": "32396cca",
   "metadata": {},
   "outputs": [],
   "source": [
    "color_dict = {'Glans': 'navy',\n",
    " 'CorpusCavernosum': 'forestgreen',\n",
    " 'Prepuce': 'yellowgreen',\n",
    " 'CorpusSpongiosum': 'deepskyblue',\n",
    " 'SubdermalPrepuce': 'lightseagreen',\n",
    " 'LabioScrotalSwelling': 'teal',\n",
    " 'GenitalEpidermis': 'palevioletred',\n",
    " 'UrethralPlate': 'purple',\n",
    " 'PreputialLamina': 'pink'}"
   ]
  },
  {
   "cell_type": "code",
   "execution_count": null,
   "id": "4d5be0ff",
   "metadata": {},
   "outputs": [],
   "source": [
    "sc.pl.umap(adata, color = 'genital_lowres', \n",
    "           palette = color_dict, save = '_atac_male_genital_tubercle_celltype')"
   ]
  },
  {
   "cell_type": "markdown",
   "id": "3e0e26a8",
   "metadata": {},
   "source": [
    "## 4. Prepare for cross-species analysis"
   ]
  },
  {
   "cell_type": "markdown",
   "id": "de638ad0",
   "metadata": {},
   "source": [
    "## 1. Human"
   ]
  },
  {
   "cell_type": "code",
   "execution_count": null,
   "id": "a44d91b5",
   "metadata": {},
   "outputs": [],
   "source": [
    "mpw"
   ]
  },
  {
   "cell_type": "code",
   "execution_count": null,
   "id": "5d285e90",
   "metadata": {},
   "outputs": [],
   "source": [
    "import rpy2.rinterface_lib.callbacks\n",
    "import logging\n",
    "# Ignore R warning messages\n",
    "#Note: this can be commented out to get more verbose R output\n",
    "rpy2.rinterface_lib.callbacks.logger.setLevel(logging.ERROR)\n",
    "import anndata2ri\n",
    "anndata2ri.activate()\n",
    "%load_ext rpy2.ipython"
   ]
  },
  {
   "cell_type": "code",
   "execution_count": null,
   "id": "dfa794a4",
   "metadata": {},
   "outputs": [],
   "source": [
    "%%R\n",
    "library(SingleCellExperiment)\n",
    "library(biomaRt)\n",
    "library(data.table)\n",
    "library(scater)\n",
    "library(BiocParallel)"
   ]
  },
  {
   "cell_type": "code",
   "execution_count": null,
   "id": "23a7361c",
   "metadata": {},
   "outputs": [],
   "source": [
    "mpw.shape"
   ]
  },
  {
   "cell_type": "code",
   "execution_count": null,
   "id": "86875664",
   "metadata": {},
   "outputs": [],
   "source": [
    "human_gene_names = mpw.var_names.to_list()"
   ]
  },
  {
   "cell_type": "code",
   "execution_count": null,
   "id": "a42972b1",
   "metadata": {},
   "outputs": [],
   "source": [
    "len(human_gene_names)"
   ]
  },
  {
   "cell_type": "code",
   "execution_count": null,
   "id": "a4c44547",
   "metadata": {},
   "outputs": [],
   "source": [
    "%%R -i human_gene_names -o mouse_one2one\n",
    "\n",
    "human_gene_names <- unlist(human_gene_names)\n",
    "ensembl <- useEnsembl(\n",
    "  biomart = \"genes\",\n",
    "  dataset = \"hsapiens_gene_ensembl\",\n",
    "  version = 111, \n",
    "    mirror = 'www'\n",
    ")\n",
    "\n",
    "mouse_ort <- getBM(\n",
    "  attributes = c(\"ensembl_gene_id\", \"external_gene_name\", \"mmusculus_homolog_ensembl_gene\",\n",
    "                 \"mmusculus_homolog_associated_gene_name\",\n",
    "                 \"mmusculus_homolog_orthology_type\", \"mmusculus_homolog_orthology_confidence\"), \n",
    "  filters = 'external_gene_name',\n",
    "  values = human_gene_names,\n",
    "  mart = ensembl\n",
    ")\n",
    "\n",
    "mouse_ort <- as.data.table(mouse_ort)\n",
    "mouse_one2one <- mouse_ort[mmusculus_homolog_orthology_type==\"ortholog_one2one\"]\n"
   ]
  },
  {
   "cell_type": "code",
   "execution_count": null,
   "id": "c6f0bfb0",
   "metadata": {},
   "outputs": [],
   "source": [
    "# mouse_one2one = mouse_one2one[mouse_one2one['mmusculus_homolog_orthology_confidence'] == 1]"
   ]
  },
  {
   "cell_type": "code",
   "execution_count": null,
   "id": "27cdcea8",
   "metadata": {},
   "outputs": [],
   "source": [
    "mouse_one2one.shape"
   ]
  },
  {
   "cell_type": "code",
   "execution_count": null,
   "id": "a376a3c4",
   "metadata": {},
   "outputs": [],
   "source": [
    "mouse_one2one"
   ]
  },
  {
   "cell_type": "markdown",
   "id": "6c0c3918",
   "metadata": {},
   "source": [
    "## Subset the human anndata object to the common genes with mouse "
   ]
  },
  {
   "cell_type": "code",
   "execution_count": null,
   "id": "79c8b020",
   "metadata": {},
   "outputs": [],
   "source": [
    "mouse = sc.read('/nfs/team292/vl6/Mouse_RepTract/Amato2021/Amato2021_mese_epi_annotated.h5ad')\n",
    "mouse"
   ]
  },
  {
   "cell_type": "code",
   "execution_count": null,
   "id": "5ba76ab3",
   "metadata": {},
   "outputs": [],
   "source": [
    "common_genes_human_mouse = mouse_one2one[mouse_one2one['mmusculus_homolog_associated_gene_name'].isin(mouse.var_names.to_list())]"
   ]
  },
  {
   "cell_type": "code",
   "execution_count": null,
   "id": "a59f2cd9",
   "metadata": {},
   "outputs": [],
   "source": [
    "common_genes_human_mouse.shape"
   ]
  },
  {
   "cell_type": "code",
   "execution_count": null,
   "id": "995ac37a",
   "metadata": {},
   "outputs": [],
   "source": [
    "import anndata\n",
    "mpw_orthologs = anndata.AnnData(X = mpw.raw.X, var = mpw.raw.var, obs = mpw.obs)\n",
    "mpw_orthologs.shape"
   ]
  },
  {
   "cell_type": "code",
   "execution_count": null,
   "id": "ae47fef8",
   "metadata": {},
   "outputs": [],
   "source": [
    "mpw_orthologs = mpw_orthologs[:, common_genes_human_mouse['external_gene_name'].to_list()]"
   ]
  },
  {
   "cell_type": "code",
   "execution_count": null,
   "id": "98c5625e",
   "metadata": {},
   "outputs": [],
   "source": [
    "mpw_orthologs.layers[\"raw_counts\"] = mpw_orthologs.X.copy()"
   ]
  },
  {
   "cell_type": "code",
   "execution_count": null,
   "id": "068f9fcd",
   "metadata": {},
   "outputs": [],
   "source": [
    "# Normalize and log-transform \n",
    "reptract_utils.normalize_log_transform(mpw_orthologs)\n",
    "mpw_orthologs.layers[\"log_normalised_counts\"] = mpw_orthologs.X.copy()"
   ]
  },
  {
   "cell_type": "code",
   "execution_count": null,
   "id": "7afa4f5b",
   "metadata": {},
   "outputs": [],
   "source": [
    "# Find HVGs \n",
    "sc.pp.highly_variable_genes(mpw_orthologs, batch_key = 'donor', n_top_genes = 4000)"
   ]
  },
  {
   "cell_type": "code",
   "execution_count": null,
   "id": "37d9890a",
   "metadata": {},
   "outputs": [],
   "source": [
    "mpw_orthologs.var['highly_variable'].value_counts()"
   ]
  },
  {
   "cell_type": "markdown",
   "id": "a0428c72",
   "metadata": {},
   "source": [
    "### MOUSE"
   ]
  },
  {
   "cell_type": "code",
   "execution_count": null,
   "id": "9bb01294",
   "metadata": {},
   "outputs": [],
   "source": [
    "mouse_orthologs = anndata.AnnData(X = mouse.raw.X, var = mouse.raw.var, obs = mouse.obs)\n",
    "mouse_orthologs.shape"
   ]
  },
  {
   "cell_type": "code",
   "execution_count": null,
   "id": "09de54b8",
   "metadata": {},
   "outputs": [],
   "source": [
    "mouse_orthologs = mouse_orthologs[:, common_genes_human_mouse['mmusculus_homolog_associated_gene_name'].to_list()]\n",
    "mouse_orthologs.shape"
   ]
  },
  {
   "cell_type": "code",
   "execution_count": null,
   "id": "4b6b3b0b",
   "metadata": {},
   "outputs": [],
   "source": [
    "mouse_orthologs.layers[\"raw_counts\"] = mouse_orthologs.X.copy()"
   ]
  },
  {
   "cell_type": "code",
   "execution_count": null,
   "id": "d7a22969",
   "metadata": {},
   "outputs": [],
   "source": [
    "# Normalize and log-transform \n",
    "reptract_utils.normalize_log_transform(mouse_orthologs)\n",
    "mouse_orthologs.layers[\"log_normalised_counts\"] = mouse_orthologs.X.copy()"
   ]
  },
  {
   "cell_type": "code",
   "execution_count": null,
   "id": "784a4a20",
   "metadata": {},
   "outputs": [],
   "source": [
    "# Find HVGs \n",
    "sc.pp.highly_variable_genes(mouse_orthologs, batch_key = 'donor', n_top_genes = 4000)"
   ]
  },
  {
   "cell_type": "code",
   "execution_count": null,
   "id": "dc2b55eb",
   "metadata": {},
   "outputs": [],
   "source": [
    "mouse_orthologs.var['highly_variable'].value_counts()"
   ]
  },
  {
   "cell_type": "markdown",
   "id": "ec4111f4",
   "metadata": {},
   "source": [
    "## Intersect HVGs from human and mouse"
   ]
  },
  {
   "cell_type": "code",
   "execution_count": null,
   "id": "5e4f780b",
   "metadata": {},
   "outputs": [],
   "source": [
    "human_hvgs = mpw_orthologs[:, mpw_orthologs.var['highly_variable']].var_names.to_list()"
   ]
  },
  {
   "cell_type": "code",
   "execution_count": null,
   "id": "37b2f174",
   "metadata": {},
   "outputs": [],
   "source": [
    "mouse_hvgs = mouse_orthologs[:, mouse_orthologs.var['highly_variable']].var_names.to_list()"
   ]
  },
  {
   "cell_type": "code",
   "execution_count": null,
   "id": "7bd89238",
   "metadata": {},
   "outputs": [],
   "source": [
    "len(human_hvgs), len(mouse_hvgs)"
   ]
  },
  {
   "cell_type": "code",
   "execution_count": null,
   "id": "7811c503",
   "metadata": {},
   "outputs": [],
   "source": [
    "# Convert mouse genes to human \n",
    "mouse_hvgs_human = common_genes_human_mouse[common_genes_human_mouse['mmusculus_homolog_associated_gene_name'].isin(mouse_hvgs)]['external_gene_name'].to_list()"
   ]
  },
  {
   "cell_type": "code",
   "execution_count": null,
   "id": "ae6e87b7",
   "metadata": {},
   "outputs": [],
   "source": [
    "hvgs_tot = human_hvgs.copy()\n",
    "len(hvgs_tot)"
   ]
  },
  {
   "cell_type": "code",
   "execution_count": null,
   "id": "7c05b154",
   "metadata": {},
   "outputs": [],
   "source": [
    "hvgs_tot.extend(mouse_hvgs_human)"
   ]
  },
  {
   "cell_type": "code",
   "execution_count": null,
   "id": "b47f76e1",
   "metadata": {},
   "outputs": [],
   "source": [
    "len(hvgs_tot)"
   ]
  },
  {
   "cell_type": "code",
   "execution_count": null,
   "id": "5ef91acc",
   "metadata": {},
   "outputs": [],
   "source": [
    "hvgs_tot = list(np.unique(hvgs_tot))"
   ]
  },
  {
   "cell_type": "code",
   "execution_count": null,
   "id": "c9f2873d",
   "metadata": {},
   "outputs": [],
   "source": [
    "len(hvgs_tot)"
   ]
  },
  {
   "cell_type": "code",
   "execution_count": null,
   "id": "8a927935",
   "metadata": {},
   "outputs": [],
   "source": [
    "path_to_data = '/nfs/team292/vl6/FetalReproductiveTract/'"
   ]
  },
  {
   "cell_type": "code",
   "execution_count": null,
   "id": "5e82b4a0",
   "metadata": {},
   "outputs": [],
   "source": [
    "# Open a file in write mode ('w') and write each item on a new line\n",
    "with open(path_to_data + 'human_mouse_common_hvgs.txt', 'w') as f:\n",
    "    for item in hvgs_tot:\n",
    "        f.write(\"%s\\n\" % item)"
   ]
  },
  {
   "cell_type": "code",
   "execution_count": null,
   "id": "4737c9dd",
   "metadata": {},
   "outputs": [],
   "source": [
    "inters_hvgs = [i for i in human_hvgs if i in mouse_hvgs_human]"
   ]
  },
  {
   "cell_type": "code",
   "execution_count": null,
   "id": "ab1ca83d",
   "metadata": {},
   "outputs": [],
   "source": [
    "len(inters_hvgs)"
   ]
  },
  {
   "cell_type": "code",
   "execution_count": null,
   "id": "77bb99de",
   "metadata": {},
   "outputs": [],
   "source": [
    "mpw_orthologs = mpw_orthologs[:, inters_hvgs]\n",
    "mpw_orthologs.shape"
   ]
  },
  {
   "cell_type": "code",
   "execution_count": null,
   "id": "3bd782df",
   "metadata": {},
   "outputs": [],
   "source": [
    "mpw_orthologs.write(path_to_data + \"human_genital_tubercle_mpw_orthologs.h5ad\")"
   ]
  },
  {
   "cell_type": "code",
   "execution_count": null,
   "id": "170502eb",
   "metadata": {},
   "outputs": [],
   "source": [
    "path_to_data"
   ]
  },
  {
   "cell_type": "code",
   "execution_count": null,
   "id": "4de190ce",
   "metadata": {},
   "outputs": [],
   "source": [
    "mpw_orthologs"
   ]
  },
  {
   "cell_type": "code",
   "execution_count": null,
   "id": "1217bb89",
   "metadata": {},
   "outputs": [],
   "source": [
    "inters_hvgs_mouse = common_genes_human_mouse[common_genes_human_mouse['external_gene_name'].isin(inters_hvgs)]['mmusculus_homolog_associated_gene_name'].to_list()\n"
   ]
  },
  {
   "cell_type": "code",
   "execution_count": null,
   "id": "5ac31bff",
   "metadata": {},
   "outputs": [],
   "source": [
    "len(inters_hvgs_mouse)"
   ]
  },
  {
   "cell_type": "code",
   "execution_count": null,
   "id": "d416846e",
   "metadata": {},
   "outputs": [],
   "source": [
    "mouse_orthologs = mouse_orthologs[:, inters_hvgs_mouse]\n",
    "mouse_orthologs.shape"
   ]
  },
  {
   "cell_type": "code",
   "execution_count": null,
   "id": "85cca0ce",
   "metadata": {},
   "outputs": [],
   "source": [
    "mouse_orthologs.write(path_to_data + \"mouse_genital_tubercle_mpw_orthologs.h5ad\")"
   ]
  },
  {
   "cell_type": "code",
   "execution_count": null,
   "id": "dd67fe67",
   "metadata": {},
   "outputs": [],
   "source": [
    "# Save ortholog matching table \n",
    "feature_table = common_genes_human_mouse[common_genes_human_mouse['external_gene_name'].isin(inters_hvgs)]"
   ]
  },
  {
   "cell_type": "code",
   "execution_count": null,
   "id": "bc074e74",
   "metadata": {},
   "outputs": [],
   "source": [
    "feature_table = feature_table[['mmusculus_homolog_associated_gene_name', 'external_gene_name']]"
   ]
  },
  {
   "cell_type": "code",
   "execution_count": null,
   "id": "54bd8b42",
   "metadata": {},
   "outputs": [],
   "source": [
    "feature_table.head()"
   ]
  },
  {
   "cell_type": "code",
   "execution_count": null,
   "id": "2117e325",
   "metadata": {},
   "outputs": [],
   "source": [
    "feature_table.shape"
   ]
  },
  {
   "cell_type": "code",
   "execution_count": null,
   "id": "e4291e2e",
   "metadata": {},
   "outputs": [],
   "source": [
    "feature_table.to_csv('/nfs/team292/vl6/Mouse_RepTract/Amato2021/feature_table.csv', index = False, header = False)"
   ]
  },
  {
   "cell_type": "code",
   "execution_count": null,
   "id": "eebea07e",
   "metadata": {},
   "outputs": [],
   "source": []
  },
  {
   "cell_type": "code",
   "execution_count": null,
   "id": "6eb3cdbe",
   "metadata": {},
   "outputs": [],
   "source": [
    "sc.pl.umap(mpw, color = ['SCGB1A1', 'SPIB', 'PTPRD', 'sex'], color_map = 'OrRd', use_raw = False)"
   ]
  },
  {
   "cell_type": "code",
   "execution_count": null,
   "id": "ba550a9c",
   "metadata": {},
   "outputs": [],
   "source": []
  }
 ],
 "metadata": {
  "kernelspec": {
   "display_name": "atac_env",
   "language": "python",
   "name": "atac_env"
  },
  "language_info": {
   "codemirror_mode": {
    "name": "ipython",
    "version": 3
   },
   "file_extension": ".py",
   "mimetype": "text/x-python",
   "name": "python",
   "nbconvert_exporter": "python",
   "pygments_lexer": "ipython3",
   "version": "3.8.6"
  }
 },
 "nbformat": 4,
 "nbformat_minor": 5
}
