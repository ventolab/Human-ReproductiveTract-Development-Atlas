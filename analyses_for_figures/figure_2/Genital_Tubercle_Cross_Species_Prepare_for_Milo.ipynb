{
 "cells": [
  {
   "cell_type": "code",
   "execution_count": null,
   "id": "01be2404",
   "metadata": {},
   "outputs": [],
   "source": [
    "import numpy as np\n",
    "import pandas as pd\n",
    "import scanpy as sc\n",
    "import matplotlib.pyplot as plt\n",
    "import os\n",
    "import sys\n",
    "import scipy\n",
    "\n",
    "\n",
    "def MovePlots(plotpattern, subplotdir):\n",
    "    os.system('mkdir -p '+str(sc.settings.figdir)+'/'+subplotdir)\n",
    "    os.system('mv '+str(sc.settings.figdir)+'/*'+plotpattern+'** '+str(sc.settings.figdir)+'/'+subplotdir)\n",
    "\n",
    "\n",
    "sc.settings.verbosity = 3  # verbosity: errors (0), warnings (1), info (2), hints (3)\n",
    "sc.settings.figdir = './genital_tubercle_figures_humans/'\n",
    "sc.logging.print_versions()\n",
    "sc.settings.set_figure_params(dpi=80)  # low dpi (dots per inch) yields small inline figures\n",
    "\n",
    "sys.executable"
   ]
  },
  {
   "cell_type": "code",
   "execution_count": null,
   "id": "67bbcb4b",
   "metadata": {},
   "outputs": [],
   "source": [
    "sc.set_figure_params(scanpy=True, dpi=80, dpi_save=150, \n",
    "                         frameon=True, vector_friendly=True, fontsize=14, figsize=[7,7], color_map=None, \n",
    "                         format='pdf', facecolor=None, transparent=False)"
   ]
  },
  {
   "cell_type": "code",
   "execution_count": null,
   "id": "a7da72e1",
   "metadata": {},
   "outputs": [],
   "source": [
    "import matplotlib as mpl\n",
    "mpl.rcParams['pdf.fonttype'] = 42"
   ]
  },
  {
   "cell_type": "code",
   "execution_count": null,
   "id": "e69a0515",
   "metadata": {},
   "outputs": [],
   "source": [
    "path_to_data = '/nfs/team292/vl6/FetalReproductiveTract/'"
   ]
  },
  {
   "cell_type": "markdown",
   "id": "cea7ea59",
   "metadata": {},
   "source": [
    "## Human"
   ]
  },
  {
   "cell_type": "code",
   "execution_count": null,
   "id": "69433df5",
   "metadata": {},
   "outputs": [],
   "source": [
    "human = sc.read(path_to_data + \"human_genital_tubercle_mpw_orthologs.h5ad\")\n",
    "human"
   ]
  },
  {
   "cell_type": "code",
   "execution_count": null,
   "id": "133e2f6c",
   "metadata": {},
   "outputs": [],
   "source": [
    "import anndata\n",
    "human.X = human.layers['raw_counts']"
   ]
  },
  {
   "cell_type": "code",
   "execution_count": null,
   "id": "d34e8083",
   "metadata": {},
   "outputs": [],
   "source": [
    "human.X[20:30, 20:30].toarray()"
   ]
  },
  {
   "cell_type": "code",
   "execution_count": null,
   "id": "5ab98932",
   "metadata": {},
   "outputs": [],
   "source": [
    "human.raw = human.copy()"
   ]
  },
  {
   "cell_type": "code",
   "execution_count": null,
   "id": "31919b3d",
   "metadata": {},
   "outputs": [],
   "source": [
    "human = anndata.AnnData(X = human.raw.X, var = human.raw.var, obs = human.obs)"
   ]
  },
  {
   "cell_type": "code",
   "execution_count": null,
   "id": "fbee1c47",
   "metadata": {},
   "outputs": [],
   "source": [
    "human.raw = human.copy()"
   ]
  },
  {
   "cell_type": "code",
   "execution_count": null,
   "id": "f7372e26",
   "metadata": {},
   "outputs": [],
   "source": [
    "human.layers[\"raw_counts\"] = human.X.copy()"
   ]
  },
  {
   "cell_type": "code",
   "execution_count": null,
   "id": "9aaba836",
   "metadata": {},
   "outputs": [],
   "source": [
    "## import reproductive tract utils functions\n",
    "cwd = '/nfs/team292/vl6/Experiments/Utils'\n",
    "sys.path.append(cwd)\n",
    "\n",
    "import reptract_utils\n",
    "import reptract_genes"
   ]
  },
  {
   "cell_type": "code",
   "execution_count": null,
   "id": "f137889f",
   "metadata": {},
   "outputs": [],
   "source": [
    "# Normalize and log-transform \n",
    "reptract_utils.normalize_log_transform(human)\n",
    "human.layers[\"log_normalised_counts\"] = human.X.copy()"
   ]
  },
  {
   "cell_type": "code",
   "execution_count": null,
   "id": "14d8c8d4",
   "metadata": {},
   "outputs": [],
   "source": [
    "sc.tl.pca(human)"
   ]
  },
  {
   "cell_type": "code",
   "execution_count": null,
   "id": "03d93d3b",
   "metadata": {},
   "outputs": [],
   "source": [
    "sc.pl.pca_variance_ratio(human, n_pcs=50, log=True)"
   ]
  },
  {
   "cell_type": "code",
   "execution_count": null,
   "id": "b39365ae",
   "metadata": {},
   "outputs": [],
   "source": [
    "sc.pp.neighbors(human, n_pcs = 25)"
   ]
  },
  {
   "cell_type": "code",
   "execution_count": null,
   "id": "864f179a",
   "metadata": {},
   "outputs": [],
   "source": [
    "sc.tl.umap(human)"
   ]
  },
  {
   "cell_type": "code",
   "execution_count": null,
   "id": "06b6b400",
   "metadata": {},
   "outputs": [],
   "source": [
    "sc.pl.umap(human, color = ['phase', 'stage_pcw', 'sex', 'donor',\n",
    "                          'genitaltubercle_celltype'], ncols = 2)"
   ]
  },
  {
   "cell_type": "code",
   "execution_count": null,
   "id": "5c965144",
   "metadata": {},
   "outputs": [],
   "source": [
    "# Harmony integration\n",
    "import rpy2.rinterface_lib.callbacks\n",
    "import logging\n",
    "# Ignore R warning messages\n",
    "#Note: this can be commented out to get more verbose R output\n",
    "rpy2.rinterface_lib.callbacks.logger.setLevel(logging.ERROR)\n",
    "import anndata2ri\n",
    "anndata2ri.activate()\n",
    "%load_ext rpy2.ipython"
   ]
  },
  {
   "cell_type": "code",
   "execution_count": null,
   "id": "0d6a0b1f",
   "metadata": {},
   "outputs": [],
   "source": [
    "# Extract PCA matrix and batch array\n",
    "n_pcs = 25 # Principal components used to perform dimensionality reduction \n",
    "pca = human.obsm['X_pca'][:, 0:(n_pcs)]\n",
    "batch = human.obs['donor'] # Batch ID, in this case stage"
   ]
  },
  {
   "cell_type": "code",
   "execution_count": null,
   "id": "fa6411d9",
   "metadata": {},
   "outputs": [],
   "source": [
    "%%R -i pca -i batch -o hem\n",
    "\n",
    "library(harmony)\n",
    "library(magrittr)\n",
    "set.seed(1000)\n",
    "hem <- HarmonyMatrix(pca, batch, theta=0, lambda = 6, do_pca=FALSE, verbose = FALSE)  \n",
    "hem = data.frame(hem)"
   ]
  },
  {
   "cell_type": "code",
   "execution_count": null,
   "id": "440cded5",
   "metadata": {},
   "outputs": [],
   "source": [
    "# Add harmony values to the anndata object --> overwriting PCA \n",
    "human.obsm['X_pca_harmony'] = hem.values "
   ]
  },
  {
   "cell_type": "code",
   "execution_count": null,
   "id": "0a53dcff",
   "metadata": {},
   "outputs": [],
   "source": [
    "sc.pp.neighbors(human, n_pcs = n_pcs, use_rep = 'X_pca_harmony', random_state= 123)\n",
    "sc.tl.umap(human, min_dist=0.6, spread = 0.8)"
   ]
  },
  {
   "cell_type": "code",
   "execution_count": null,
   "id": "1ae455c8",
   "metadata": {},
   "outputs": [],
   "source": [
    "sc.pl.umap(human, color = ['phase', 'stage_pcw', 'sex', 'donor',\n",
    "                          'genitaltubercle_celltype'], ncols = 2)"
   ]
  },
  {
   "cell_type": "code",
   "execution_count": null,
   "id": "a660bcfa",
   "metadata": {},
   "outputs": [],
   "source": [
    "human.obs['human_celltype'] = human.obs['genitaltubercle_celltype']\n",
    "human.obs['species'] = 'human'"
   ]
  },
  {
   "cell_type": "code",
   "execution_count": null,
   "id": "7e02c3af",
   "metadata": {},
   "outputs": [],
   "source": [
    "human.write(path_to_data + \"human_genital_tubercle_mpw_orthologs_with_embedding.h5ad\")"
   ]
  },
  {
   "cell_type": "code",
   "execution_count": null,
   "id": "4096dc53",
   "metadata": {},
   "outputs": [],
   "source": [
    "del human.obsp"
   ]
  },
  {
   "cell_type": "code",
   "execution_count": null,
   "id": "8ed3a78a",
   "metadata": {},
   "outputs": [],
   "source": [
    "del human.varm"
   ]
  },
  {
   "cell_type": "code",
   "execution_count": null,
   "id": "86768930",
   "metadata": {},
   "outputs": [],
   "source": [
    "del human.uns"
   ]
  },
  {
   "cell_type": "code",
   "execution_count": null,
   "id": "89d726f7",
   "metadata": {},
   "outputs": [],
   "source": [
    "for c in human.obs.columns:\n",
    "    if c not in ['human_celltype', 'species', 'sample', 'donor', 'stage_pcw', 'sex']:\n",
    "        del human.obs[c]"
   ]
  },
  {
   "cell_type": "code",
   "execution_count": null,
   "id": "44b75418",
   "metadata": {},
   "outputs": [],
   "source": [
    "human.obs['celltype'] = human.obs['human_celltype']"
   ]
  },
  {
   "cell_type": "code",
   "execution_count": null,
   "id": "e3477c09",
   "metadata": {},
   "outputs": [],
   "source": [
    "human.obs['celltype'].value_counts()"
   ]
  },
  {
   "cell_type": "code",
   "execution_count": null,
   "id": "e20115e1",
   "metadata": {},
   "outputs": [],
   "source": [
    "%%R -i human \n",
    "human"
   ]
  },
  {
   "cell_type": "code",
   "execution_count": null,
   "id": "6b357c7a",
   "metadata": {},
   "outputs": [],
   "source": [
    "%%R -i path_to_data\n",
    "saveRDS(human, paste0(path_to_data, \"human_genital_tubercle_mpw_orthologs.rds\"))"
   ]
  },
  {
   "cell_type": "markdown",
   "id": "14b8ead8",
   "metadata": {},
   "source": [
    "## Mouse"
   ]
  },
  {
   "cell_type": "code",
   "execution_count": null,
   "id": "5e343c57",
   "metadata": {},
   "outputs": [],
   "source": [
    "mouse = sc.read(path_to_data + \"mouse_genital_tubercle_mpw_orthologs.h5ad\")\n",
    "mouse"
   ]
  },
  {
   "cell_type": "code",
   "execution_count": null,
   "id": "347dbb09",
   "metadata": {},
   "outputs": [],
   "source": [
    "import anndata\n",
    "mouse.X = mouse.layers['raw_counts']"
   ]
  },
  {
   "cell_type": "code",
   "execution_count": null,
   "id": "debe917b",
   "metadata": {},
   "outputs": [],
   "source": [
    "mouse.X[20:30, 20:30].toarray()"
   ]
  },
  {
   "cell_type": "code",
   "execution_count": null,
   "id": "877ff6da",
   "metadata": {},
   "outputs": [],
   "source": [
    "mouse.raw = mouse.copy()"
   ]
  },
  {
   "cell_type": "code",
   "execution_count": null,
   "id": "69a23e62",
   "metadata": {},
   "outputs": [],
   "source": [
    "mouse = anndata.AnnData(X = mouse.raw.X, var = mouse.raw.var, obs = mouse.obs)"
   ]
  },
  {
   "cell_type": "code",
   "execution_count": null,
   "id": "6c52b280",
   "metadata": {},
   "outputs": [],
   "source": [
    "mouse.raw = mouse.copy()"
   ]
  },
  {
   "cell_type": "code",
   "execution_count": null,
   "id": "84de56f3",
   "metadata": {},
   "outputs": [],
   "source": [
    "mouse.layers[\"raw_counts\"] = mouse.X.copy()"
   ]
  },
  {
   "cell_type": "code",
   "execution_count": null,
   "id": "0bed764d",
   "metadata": {},
   "outputs": [],
   "source": [
    "# Normalize and log-transform \n",
    "reptract_utils.normalize_log_transform(mouse)\n",
    "mouse.layers[\"log_normalised_counts\"] = mouse.X.copy()"
   ]
  },
  {
   "cell_type": "code",
   "execution_count": null,
   "id": "ab35969a",
   "metadata": {},
   "outputs": [],
   "source": [
    "sc.tl.pca(mouse)"
   ]
  },
  {
   "cell_type": "code",
   "execution_count": null,
   "id": "b736087a",
   "metadata": {},
   "outputs": [],
   "source": [
    "sc.pl.pca_variance_ratio(mouse, n_pcs=50, log=True)"
   ]
  },
  {
   "cell_type": "code",
   "execution_count": null,
   "id": "71397f5d",
   "metadata": {},
   "outputs": [],
   "source": [
    "sc.pp.neighbors(mouse, n_pcs = 25)"
   ]
  },
  {
   "cell_type": "code",
   "execution_count": null,
   "id": "a7daa498",
   "metadata": {},
   "outputs": [],
   "source": [
    "sc.tl.umap(mouse)"
   ]
  },
  {
   "cell_type": "code",
   "execution_count": null,
   "id": "d5667bc2",
   "metadata": {},
   "outputs": [],
   "source": [
    "sc.pl.umap(mouse, color = ['phase', 'age', 'donor',\n",
    "                          'harmonised_celltype'], ncols = 2)"
   ]
  },
  {
   "cell_type": "code",
   "execution_count": null,
   "id": "c85f586d",
   "metadata": {},
   "outputs": [],
   "source": [
    "sc.pl.umap(mouse, color = ['Foxa1', 'Hoxa13', 'Nr2f2', 'Krt10', 'Isl1', 'Krt14', \n",
    "                            'Foxf1', 'Foxf2', 'Sox9', 'Lgr5', \n",
    "                          'Wif1', 'Shh', 'Dlx5', 'Wnt2', 'Rdh10', 'Six1', 'Igf1', 'Irx1', \n",
    "                          'Irx5', 'Inhba', 'Gap43', 'Shox2', 'Cpa6',  'Sall1', 'Foxl2', \n",
    "                          'Tcf21', 'Cdh8', 'Krtdap', 'Wnt3', ], color_map = 'OrRd', ncols = 3, use_raw = False)"
   ]
  },
  {
   "cell_type": "code",
   "execution_count": null,
   "id": "65a7661d",
   "metadata": {},
   "outputs": [],
   "source": [
    "# Extract PCA matrix and batch array\n",
    "n_pcs = 25 # Principal components used to perform dimensionality reduction \n",
    "pca = mouse.obsm['X_pca'][:, 0:(n_pcs)]\n",
    "batch = mouse.obs['donor'] # Batch ID, in this case stage"
   ]
  },
  {
   "cell_type": "code",
   "execution_count": null,
   "id": "353d2fc6",
   "metadata": {},
   "outputs": [],
   "source": [
    "%%R -i pca -i batch -o hem\n",
    "\n",
    "library(harmony)\n",
    "library(magrittr)\n",
    "set.seed(1000)\n",
    "hem <- HarmonyMatrix(pca, batch, theta=0, lambda = 6, do_pca=FALSE, verbose = FALSE)  \n",
    "hem = data.frame(hem)"
   ]
  },
  {
   "cell_type": "code",
   "execution_count": null,
   "id": "3fbf541e",
   "metadata": {},
   "outputs": [],
   "source": [
    "# Add harmony values to the anndata object --> overwriting PCA \n",
    "mouse.obsm['X_pca_harmony'] = hem.values "
   ]
  },
  {
   "cell_type": "code",
   "execution_count": null,
   "id": "5c0f8c92",
   "metadata": {},
   "outputs": [],
   "source": [
    "sc.pp.neighbors(mouse, n_pcs = n_pcs, use_rep = 'X_pca_harmony', random_state= 123)\n",
    "sc.tl.umap(mouse, min_dist=0.6, spread = 0.8)"
   ]
  },
  {
   "cell_type": "code",
   "execution_count": null,
   "id": "945cf289",
   "metadata": {},
   "outputs": [],
   "source": [
    "sc.pl.umap(mouse, color = ['phase', 'age', 'donor',\n",
    "                          'harmonised_celltype'], ncols = 2)"
   ]
  },
  {
   "cell_type": "code",
   "execution_count": null,
   "id": "13f425aa",
   "metadata": {},
   "outputs": [],
   "source": [
    "mouse.obs['mouse_celltype'] = mouse.obs['harmonised_celltype']\n",
    "mouse.obs['species'] = 'mouse'"
   ]
  },
  {
   "cell_type": "code",
   "execution_count": null,
   "id": "802d9851",
   "metadata": {},
   "outputs": [],
   "source": [
    "mouse.write(path_to_data + \"mouse_genital_tubercle_mpw_orthologs_with_embedding.h5ad\")"
   ]
  },
  {
   "cell_type": "code",
   "execution_count": null,
   "id": "7565e06a",
   "metadata": {},
   "outputs": [],
   "source": [
    "del mouse.obsp"
   ]
  },
  {
   "cell_type": "code",
   "execution_count": null,
   "id": "09f158b5",
   "metadata": {},
   "outputs": [],
   "source": [
    "del mouse.varm\n",
    "del mouse.uns"
   ]
  },
  {
   "cell_type": "code",
   "execution_count": null,
   "id": "0021b343",
   "metadata": {},
   "outputs": [],
   "source": [
    "for c in mouse.obs.columns:\n",
    "    if c not in ['mouse_celltype', 'species', 'sample', 'donor', 'age', 'sex']:\n",
    "        del mouse.obs[c]"
   ]
  },
  {
   "cell_type": "code",
   "execution_count": null,
   "id": "cae26607",
   "metadata": {},
   "outputs": [],
   "source": [
    "mouse"
   ]
  },
  {
   "cell_type": "code",
   "execution_count": null,
   "id": "07024c18",
   "metadata": {},
   "outputs": [],
   "source": [
    "mouse.obs['celltype'] = mouse.obs['mouse_celltype']"
   ]
  },
  {
   "cell_type": "code",
   "execution_count": null,
   "id": "99308692",
   "metadata": {},
   "outputs": [],
   "source": [
    "mouse.obs['celltype'].value_counts()"
   ]
  },
  {
   "cell_type": "code",
   "execution_count": null,
   "id": "c3e9f1ff",
   "metadata": {},
   "outputs": [],
   "source": [
    "%%R -i mouse\n",
    "mouse"
   ]
  },
  {
   "cell_type": "code",
   "execution_count": null,
   "id": "fcc5a712",
   "metadata": {},
   "outputs": [],
   "source": [
    "%%R -i path_to_data\n",
    "saveRDS(mouse, paste0(path_to_data, \"mouse_genital_tubercle_mpw_orthologs.rds\"))"
   ]
  },
  {
   "cell_type": "code",
   "execution_count": null,
   "id": "349e02e3",
   "metadata": {},
   "outputs": [],
   "source": [
    "mouse = sc.read(path_to_data + \"mouse_genital_tubercle_mpw_orthologs_with_embedding.h5ad\")"
   ]
  },
  {
   "cell_type": "code",
   "execution_count": null,
   "id": "bf1195ea",
   "metadata": {},
   "outputs": [],
   "source": []
  }
 ],
 "metadata": {
  "kernelspec": {
   "display_name": "atac_env",
   "language": "python",
   "name": "atac_env"
  },
  "language_info": {
   "codemirror_mode": {
    "name": "ipython",
    "version": 3
   },
   "file_extension": ".py",
   "mimetype": "text/x-python",
   "name": "python",
   "nbconvert_exporter": "python",
   "pygments_lexer": "ipython3",
   "version": "3.8.6"
  }
 },
 "nbformat": 4,
 "nbformat_minor": 5
}
