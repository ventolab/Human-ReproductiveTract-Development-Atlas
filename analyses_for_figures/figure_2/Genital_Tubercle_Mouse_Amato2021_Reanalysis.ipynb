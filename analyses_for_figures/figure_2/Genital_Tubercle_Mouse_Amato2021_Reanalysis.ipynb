{
 "cells": [
  {
   "cell_type": "code",
   "execution_count": null,
   "id": "e15c50bd",
   "metadata": {},
   "outputs": [],
   "source": [
    "import numpy as np\n",
    "import pandas as pd\n",
    "import scanpy as sc\n",
    "import matplotlib.pyplot as plt\n",
    "import os\n",
    "import sys\n",
    "import scipy\n",
    "\n",
    "\n",
    "def MovePlots(plotpattern, subplotdir):\n",
    "    os.system('mkdir -p '+str(sc.settings.figdir)+'/'+subplotdir)\n",
    "    os.system('mv '+str(sc.settings.figdir)+'/*'+plotpattern+'** '+str(sc.settings.figdir)+'/'+subplotdir)\n",
    "\n",
    "\n",
    "sc.settings.verbosity = 3  # verbosity: errors (0), warnings (1), info (2), hints (3)\n",
    "sc.settings.figdir = './genital_tubercle_figures/'\n",
    "sc.logging.print_versions()\n",
    "sc.settings.set_figure_params(dpi=80)  # low dpi (dots per inch) yields small inline figures\n",
    "\n",
    "sys.executable"
   ]
  },
  {
   "cell_type": "code",
   "execution_count": null,
   "id": "bf27107f",
   "metadata": {},
   "outputs": [],
   "source": [
    "path_to_data = '/nfs/team292/vl6/Mouse_RepTract/Amato2021/'"
   ]
  },
  {
   "cell_type": "code",
   "execution_count": null,
   "id": "9d63203b",
   "metadata": {},
   "outputs": [],
   "source": [
    "metadata = {'sample' : ['GSM5324563', 'GSM5324564', 'GSM5324565', 'GSM5324566', \n",
    "                       'GSM5324567', 'GSM5324568', 'GSM5324569', 'GSM5324570', \n",
    "                       'GSM5324571', 'GSM5324572', 'GSM5324573', 'GSM5324574'],\n",
    "            'long_sample' : ['GSM5324563_E14.5_male_genitalia_1', 'GSM5324564_E14.5_male_genitalia_2', \n",
    "                            'GSM5324565_E14.5_female_genitalia_1', 'GSM5324566_E14.5_female_genitalia_2', \n",
    "                            'GSM5324567_E16.5_male_genitalia_1', 'GSM5324568_E16.5_male_genitalia_2', \n",
    "                            'GSM5324569_E16.5_female_genitalia_1', 'GSM5324570_E16.5_female_genitalia_2', \n",
    "                            'GSM5324571_E18.5_male_genitalia_1', 'GSM5324572_E18.5_male_genitalia_2', \n",
    "                            'GSM5324573_E18.5_female_genitalia_1', 'GSM5324574_E18.5_female_genitalia_2'],\n",
    "           'donor' : ['donor1', 'donor2', 'donor3', 'donor4', 'donor5', 'donor6', 'donor7', 'donor8', \n",
    "                     'donor9', 'donor10', 'donor11', 'donor12'], \n",
    "           'age' : [14.5, 14.5, 14.5, 14.5, 16.5, 16.5, 16.5, 16.5, 18.5, 18.5, 18.5, 18.5], \n",
    "           'sex' : ['male', 'male', 'female', 'female', 'male', 'male', 'female', 'female',\n",
    "                   'male', 'male', 'female', 'female',], \n",
    "           'genotype' : ['Sf1cre_Rosa-tdTomato_Runx1-eGFP', 'Sf1cre_Rosa-tdTomato_Runx1-eGFP', \n",
    "                        'Sf1cre_Rosa-tdTomato_Runx1-eGFP', 'Sf1cre_Rosa-tdTomato_Runx1-eGFP', \n",
    "                        'Sf1cre_Rosa-tdTomato_Runx1-eGFP', 'Sf1cre_Rosa-tdTomato_Runx1-eGFP', \n",
    "                        'Sf1cre_Rosa-tdTomato_Runx1-eGFP', 'Sf1cre_Rosa-tdTomato_Runx1-eGFP', \n",
    "                        'Sf1cre_Rosa-tdTomato_Runx1-eGFP', 'Sf1cre_Rosa-tdTomato_Runx1-eGFP', \n",
    "                        'Sf1cre_Rosa-tdTomato_Runx1-eGFP', 'Sf1cre_Rosa-tdTomato_Runx1-eGFP']}\n",
    "metadata = pd.DataFrame.from_dict(metadata)\n",
    "metadata = metadata.set_index('long_sample')\n",
    "metadata"
   ]
  },
  {
   "cell_type": "code",
   "execution_count": null,
   "id": "537863fc",
   "metadata": {},
   "outputs": [],
   "source": [
    "## import reproductive tract utils functions\n",
    "cwd = '/nfs/team292/vl6/Experiments/Utils'\n",
    "sys.path.append(cwd)\n",
    "\n",
    "import reptract_utils\n",
    "import reptract_genes"
   ]
  },
  {
   "cell_type": "code",
   "execution_count": null,
   "id": "531ee1fb",
   "metadata": {},
   "outputs": [],
   "source": [
    "holder = []\n",
    "for sample in metadata.index:\n",
    "    print(sample)\n",
    "    # Load 10x data as AnnData\n",
    "    holder.append(sc.read_10x_mtx(path_to_data + sample, prefix = sample + '_', cache=True))\n",
    "    \n",
    "    # Set names of observation as sample + _ + barcode/probe\n",
    "    holder[-1].obs_names = [sample+'_'+i.split('-')[0] for i in holder[-1].obs_names]\n",
    "    # Filer genes expressed in less than 3 cells\n",
    "    sc.pp.filter_genes(holder[-1], min_cells=3)\n",
    "    # Filer cells with less than 10 genes expressed\n",
    "    sc.pp.filter_cells(holder[-1], min_genes=500)\n",
    "    sc.pp.filter_cells(holder[-1], max_genes=10000)\n",
    "    # add in metadata\n",
    "    holder[-1].obs['sample'] = sample\n",
    "    for val in metadata.columns:\n",
    "        holder[-1].obs[val] = metadata[val][sample]\n",
    "    # Extract mitochondial genes\n",
    "    mito_genes = [name for name in holder[-1].var_names if name.startswith('mt-')]\n",
    "    #for each cell compute fraction of counts in mito genes vs. all genes\n",
    "    #the `.A1` is only necessary, as X is sparse - it transform to a dense array after summing\n",
    "    holder[-1].obs['percent_mito'] = np.sum(\n",
    "        holder[-1][:, mito_genes].X, axis=1) / np.sum(holder[-1].X, axis=1)\n",
    "    #add the total counts per cell as observations-annotation to adata\n",
    "    holder[-1].obs['n_counts'] = holder[-1].X.sum(axis=1)\n",
    "    print('Total number of cells: {:d}'.format(holder[-1].n_obs))\n",
    "    print('Total number of genes: {:d}'.format(holder[-1].n_vars))\n",
    "    # Make diagnostic plots for per-sample quality \n",
    "    reptract_utils.qc_plots_sample(holder[-1], sample, '/home/jovyan/RepTract/GENITAL TUBERCLE/genital_tubercle_figures/')"
   ]
  },
  {
   "cell_type": "markdown",
   "id": "896ce1d1",
   "metadata": {},
   "source": [
    "## Preprocessing"
   ]
  },
  {
   "cell_type": "code",
   "execution_count": null,
   "id": "a8cf009a",
   "metadata": {},
   "outputs": [],
   "source": [
    "for h5 in holder:\n",
    "    print(h5.obs['sample'][0], h5.shape)"
   ]
  },
  {
   "cell_type": "code",
   "execution_count": null,
   "id": "75cfec5a",
   "metadata": {},
   "outputs": [],
   "source": [
    "# Filtering \n",
    "holder_filtered = []\n",
    "for adata in holder:\n",
    "    sc.pp.filter_cells(adata, min_genes = 1500) \n",
    "    sc.pp.filter_genes(adata, min_cells = 3)\n",
    "    adata = adata[adata.obs['percent_mito'] < 0.1, :]\n",
    "    holder_filtered.append(adata)"
   ]
  },
  {
   "cell_type": "code",
   "execution_count": null,
   "id": "cf81ce6d",
   "metadata": {},
   "outputs": [],
   "source": [
    "# confirm N samples\n",
    "print(len(holder_filtered))\n",
    "# merge datasets\n",
    "adata = holder_filtered[0].concatenate(holder_filtered[1:],join='outer',index_unique=None, fill_value=0)\n",
    "# copy of this matrix in Compressed Sparse Row format\n",
    "import scipy\n",
    "adata.X = scipy.sparse.csr_matrix(adata.X)\n",
    "adata"
   ]
  },
  {
   "cell_type": "code",
   "execution_count": null,
   "id": "1c45e7f9",
   "metadata": {},
   "outputs": [],
   "source": [
    "adata.X.toarray()[1:10, 1:10]"
   ]
  },
  {
   "cell_type": "code",
   "execution_count": null,
   "id": "b2b1fe25",
   "metadata": {},
   "outputs": [],
   "source": [
    "adata.obs.head()"
   ]
  },
  {
   "cell_type": "code",
   "execution_count": null,
   "id": "20122475",
   "metadata": {},
   "outputs": [],
   "source": [
    "metadata"
   ]
  },
  {
   "cell_type": "code",
   "execution_count": null,
   "id": "195cecb5",
   "metadata": {},
   "outputs": [],
   "source": [
    "barcode_equivalence = {'Male1' : 'GSM5324563_E14.5_male_genitalia_1', 'Female1' : 'GSM5324565_E14.5_female_genitalia_1', \n",
    "'Male2' : 'GSM5324564_E14.5_male_genitalia_2', 'Female2' : 'GSM5324566_E14.5_female_genitalia_2', \n",
    "'Male3' : 'GSM5324567_E16.5_male_genitalia_1', 'Female3' : ' GSM5324569_E16.5_female_genitalia_1', \n",
    "'Male4' : 'GSM5324568_E16.5_male_genitalia_2', 'Female4' : 'GSM5324570_E16.5_female_genitalia_2', \n",
    "'Male5' : 'GSM5324571_E18.5_male_genitalia_1', 'Female5' : 'GSM5324573_E18.5_female_genitalia_1', \n",
    "'Male6' : 'GSM5324572_E18.5_male_genitalia_2', 'Female6' : 'GSM5324574_E18.5_female_genitalia_2'}\n"
   ]
  },
  {
   "cell_type": "code",
   "execution_count": null,
   "id": "69ab2d3b",
   "metadata": {},
   "outputs": [],
   "source": [
    "barcode_equivalence"
   ]
  },
  {
   "cell_type": "markdown",
   "id": "4007dfd1",
   "metadata": {},
   "source": [
    "### Load cell barcode to cell type correspondence shared by Ciro Amato"
   ]
  },
  {
   "cell_type": "code",
   "execution_count": null,
   "id": "c5ea242d",
   "metadata": {},
   "outputs": [],
   "source": [
    "def load_barcode_celltype_correspondence(filename, equivalence_dict):\n",
    "    barcodes = pd.read_csv('/home/jovyan/RepTract/GENITAL TUBERCLE/' + filename, index_col = 0)\n",
    "    barcodes['sample_number'] = [i.split('_')[0] for i in barcodes['cell.barcode']]\n",
    "    barcodes['cell_barcode'] =  [i.split('_')[1] for i in barcodes['cell.barcode']]\n",
    "    barcodes['cell_barcode'] = [i.split('-')[0] for i in barcodes['cell_barcode']]\n",
    "    barcodes['sample'] = barcodes['sample_number'].map(equivalence_dict)\n",
    "    barcodes['cell.barcode.new'] = barcodes['sample'] + '_' + barcodes['cell_barcode']\n",
    "    barcodes = barcodes.set_index('cell.barcode.new')\n",
    "    print(barcodes.shape)\n",
    "    return barcodes"
   ]
  },
  {
   "cell_type": "code",
   "execution_count": null,
   "id": "5b5ac682",
   "metadata": {},
   "outputs": [],
   "source": [
    "male_barcodes = load_barcode_celltype_correspondence('Amato2021_male_barcode.csv', barcode_equivalence)\n",
    "female_barcodes = load_barcode_celltype_correspondence('Amato2021_female_barcode.csv', barcode_equivalence)"
   ]
  },
  {
   "cell_type": "code",
   "execution_count": null,
   "id": "2efada26",
   "metadata": {},
   "outputs": [],
   "source": [
    "# Convert lists to sets and use the intersection method\n",
    "common_female_barcodes = list(set(female_barcodes.index.to_list()).intersection(set(adata.obs_names.to_list())))\n",
    "common_male_barcodes = list(set(male_barcodes.index.to_list()).intersection(set(adata.obs_names.to_list())))\n",
    "print(len(common_female_barcodes), len(common_male_barcodes))"
   ]
  },
  {
   "cell_type": "code",
   "execution_count": null,
   "id": "bedf3c8a",
   "metadata": {},
   "outputs": [],
   "source": [
    "tot_barcodes = male_barcodes.append(female_barcodes)"
   ]
  },
  {
   "cell_type": "code",
   "execution_count": null,
   "id": "52d198b5",
   "metadata": {},
   "outputs": [],
   "source": [
    "tot_barcodes.head()"
   ]
  },
  {
   "cell_type": "code",
   "execution_count": null,
   "id": "2b755d31",
   "metadata": {},
   "outputs": [],
   "source": [
    "adata.obs['celltype'] = adata.obs_names.map(tot_barcodes['cluster.name'].to_dict())"
   ]
  },
  {
   "cell_type": "code",
   "execution_count": null,
   "id": "7c6211b8",
   "metadata": {},
   "outputs": [],
   "source": [
    "adata.obs['celltype'].value_counts(dropna = False)"
   ]
  },
  {
   "cell_type": "code",
   "execution_count": null,
   "id": "69594cee",
   "metadata": {},
   "outputs": [],
   "source": [
    "adata.obs['celltype'] = adata.obs['celltype'].astype(str)"
   ]
  },
  {
   "cell_type": "code",
   "execution_count": null,
   "id": "65f17b85",
   "metadata": {},
   "outputs": [],
   "source": [
    "adata = adata[[i != 'nan' for i in adata.obs['celltype']]]"
   ]
  },
  {
   "cell_type": "code",
   "execution_count": null,
   "id": "55b70187",
   "metadata": {},
   "outputs": [],
   "source": [
    "adata.obs['celltype'].value_counts(dropna = False)"
   ]
  },
  {
   "cell_type": "code",
   "execution_count": null,
   "id": "d74f5fb1",
   "metadata": {},
   "outputs": [],
   "source": [
    "adata.raw = adata.copy()"
   ]
  },
  {
   "cell_type": "code",
   "execution_count": null,
   "id": "548b1ed9",
   "metadata": {},
   "outputs": [],
   "source": [
    "# Normalize and log-transform \n",
    "adata = reptract_utils.normalize_log_transform(adata)"
   ]
  },
  {
   "cell_type": "code",
   "execution_count": null,
   "id": "dbbae5c5",
   "metadata": {},
   "outputs": [],
   "source": [
    "# HVGs, PCA, KNN & UMAP\n",
    "adata = reptract_utils.hvgs_pca_umap(adata)"
   ]
  },
  {
   "cell_type": "code",
   "execution_count": null,
   "id": "fe5f1057",
   "metadata": {},
   "outputs": [],
   "source": [
    "## Eliminate small clusters of doublets \n",
    "sc.set_figure_params(scanpy=True, dpi=80, dpi_save=150, \n",
    "                         frameon=True, vector_friendly=True, fontsize=14, figsize=[7,7], color_map=None, \n",
    "                         format='pdf', facecolor=None, transparent=False,)"
   ]
  },
  {
   "cell_type": "code",
   "execution_count": null,
   "id": "88f20855",
   "metadata": {},
   "outputs": [],
   "source": [
    "sc.pl.umap(adata, color = ['donor', 'age', 'sex', 'sample', 'percent_mito', \n",
    "                          'n_genes', 'celltype'], color_map = 'OrRd', ncols = 2)"
   ]
  },
  {
   "cell_type": "code",
   "execution_count": null,
   "id": "c2eb36b0",
   "metadata": {},
   "outputs": [],
   "source": [
    "# Cell cycle scoring\n",
    "cell_cycle_genes = [x.strip() for x in open(file='/nfs/users/nfs_v/vl6/regev_lab_cell_cycle_genes.txt')]\n",
    "s_genes = cell_cycle_genes[:43]\n",
    "s_genes = [i.title() for i in s_genes]\n",
    "print(s_genes)"
   ]
  },
  {
   "cell_type": "code",
   "execution_count": null,
   "id": "2c4b270e",
   "metadata": {},
   "outputs": [],
   "source": [
    "g2m_genes = cell_cycle_genes[43:]\n",
    "g2m_genes = [i.title() for i in g2m_genes]\n",
    "s_genes = [x for x in s_genes if x in adata.var_names]\n",
    "g2m_genes = [x for x in g2m_genes if x in adata.var_names]"
   ]
  },
  {
   "cell_type": "code",
   "execution_count": null,
   "id": "173e66fd",
   "metadata": {},
   "outputs": [],
   "source": [
    "sc.tl.score_genes_cell_cycle(adata, s_genes=s_genes, g2m_genes=g2m_genes, random_state = 123)"
   ]
  },
  {
   "cell_type": "code",
   "execution_count": null,
   "id": "0fc87305",
   "metadata": {},
   "outputs": [],
   "source": [
    "sc.pl.umap(adata, color = 'phase')"
   ]
  },
  {
   "cell_type": "code",
   "execution_count": null,
   "id": "3293f897",
   "metadata": {},
   "outputs": [],
   "source": [
    "adata.obs['celltype'] = adata.obs['celltype'].astype('str')"
   ]
  },
  {
   "cell_type": "code",
   "execution_count": null,
   "id": "349cf5b8",
   "metadata": {},
   "outputs": [],
   "source": [
    "for i in np.unique(adata.obs['celltype'].to_list()):\n",
    "    print(i)\n",
    "    sc.pl.umap(adata, color = ['celltype'], groups = str(i))"
   ]
  },
  {
   "cell_type": "code",
   "execution_count": null,
   "id": "f3367b6e",
   "metadata": {},
   "outputs": [],
   "source": [
    "sc.pl.umap(adata, color = ['Foxa1', 'Hoxa13', 'Nr2f2', 'Krt10', 'Isl1', 'Krt14', \n",
    "                           'Krt5', 'Upk1a', 'Foxf1', 'Foxf2', 'Sox9', 'Lgr5', \n",
    "                          'Wif1', 'Shh', 'Dlx5', 'Wnt2', 'Rdh10', 'Six1', 'Igf1', 'Irx1', \n",
    "                          'Irx5', 'Inhba', 'Gap43', 'Shox2', 'Cpa6', 'Wt1', 'Sall1', 'Foxl2', \n",
    "                          'Tcf21', 'Cdh8', 'Krtdap', 'Wnt3', 'Dhrs2', 'Upk1a', 'Upk3a'], color_map = 'OrRd', ncols = 3, use_raw = False)"
   ]
  },
  {
   "cell_type": "code",
   "execution_count": null,
   "id": "8ba5c5a6",
   "metadata": {},
   "outputs": [],
   "source": [
    "np.unique(adata.obs['celltype'])"
   ]
  },
  {
   "cell_type": "code",
   "execution_count": null,
   "id": "b7bf9727",
   "metadata": {},
   "outputs": [],
   "source": [
    "# Keep only epithelial and mesenchymal cells in G1\n",
    "adata = adata[[i not in ['Smooth muscle', 'Smooth Muscle', 'Macrophage', 'Melanocyte', 'Endothelium', \n",
    "                        'Proliferative Mesenchyme'] for i in adata.obs['celltype']]]\n",
    "adata = adata[[i == 'G1' for i in adata.obs['phase']]]\n",
    "adata.shape"
   ]
  },
  {
   "cell_type": "code",
   "execution_count": null,
   "id": "8944e24a",
   "metadata": {},
   "outputs": [],
   "source": [
    "# Harmonise annotations where there are duplicates \n",
    "adata.obs['celltype'] = np.where(adata.obs['celltype'] == 'Sub-dermal Prepuce', 'Sub-Dermal Prepuce',\n",
    "                                adata.obs['celltype'])"
   ]
  },
  {
   "cell_type": "code",
   "execution_count": null,
   "id": "8509fa50",
   "metadata": {},
   "outputs": [],
   "source": [
    "sc.pl.umap(adata, color = 'celltype')"
   ]
  },
  {
   "cell_type": "code",
   "execution_count": null,
   "id": "09f5791a",
   "metadata": {},
   "outputs": [],
   "source": [
    "sc.pl.umap(adata, color = 'donor')"
   ]
  },
  {
   "cell_type": "markdown",
   "id": "4b116791",
   "metadata": {},
   "source": [
    "## TF-IDF markers per cell type"
   ]
  },
  {
   "cell_type": "code",
   "execution_count": null,
   "id": "dad9ea9c",
   "metadata": {},
   "outputs": [],
   "source": [
    "import anndata\n",
    "bdata = anndata.AnnData(X = adata.raw.X, var = adata.raw.var, obs = adata.obs)\n",
    "bdata.shape"
   ]
  },
  {
   "cell_type": "code",
   "execution_count": null,
   "id": "3193dbaf",
   "metadata": {},
   "outputs": [],
   "source": [
    "import rpy2.rinterface_lib.callbacks\n",
    "import logging\n",
    "# Ignore R warning messages\n",
    "#Note: this can be commented out to get more verbose R output\n",
    "rpy2.rinterface_lib.callbacks.logger.setLevel(logging.ERROR)\n",
    "import anndata2ri\n",
    "anndata2ri.activate()\n",
    "%load_ext rpy2.ipython"
   ]
  },
  {
   "cell_type": "code",
   "execution_count": null,
   "id": "180b5d76",
   "metadata": {},
   "outputs": [],
   "source": [
    "%%R -i bdata\n",
    "bdata"
   ]
  },
  {
   "cell_type": "code",
   "execution_count": null,
   "id": "8c51aa42",
   "metadata": {},
   "outputs": [],
   "source": [
    "%%R -o mrks\n",
    "\n",
    "library(SoupX)\n",
    "counts <- assay(bdata, \"X\")\n",
    "colnames(counts) <- colnames(bdata)\n",
    "rownames(counts) <- rownames(bdata)\n",
    "mrks = quickMarkers(counts, colData(bdata)$celltype, N = 50) # where clusters is the cell type assignment and 100 means I want the top 100 genes per cluster that pass the hypergeometric test"
   ]
  },
  {
   "cell_type": "code",
   "execution_count": null,
   "id": "bf7df082",
   "metadata": {},
   "outputs": [],
   "source": [
    "cluster = mrks[mrks['cluster'] == 'Preputial gland']['gene'].to_list()[0:15]\n",
    "sc.pl.umap(adata, color = cluster, color_map = 'OrRd', ncols = 3, use_raw = False)"
   ]
  },
  {
   "cell_type": "markdown",
   "id": "f4ed2f0b",
   "metadata": {},
   "source": [
    "Markers for preputial gland are clearly immune markers, so remove the cell type and discuss in Methods the rationale for this"
   ]
  },
  {
   "cell_type": "code",
   "execution_count": null,
   "id": "fcf1a0fb",
   "metadata": {},
   "outputs": [],
   "source": [
    "adata = adata[[i not in ['Preputial gland'] for i in adata.obs['celltype']]]"
   ]
  },
  {
   "cell_type": "code",
   "execution_count": null,
   "id": "ffafb5e2",
   "metadata": {},
   "outputs": [],
   "source": [
    "adata.shape"
   ]
  },
  {
   "cell_type": "code",
   "execution_count": null,
   "id": "bae83b6d",
   "metadata": {},
   "outputs": [],
   "source": [
    "np.sum(adata.var['gene_ids-0'].isna())"
   ]
  },
  {
   "cell_type": "code",
   "execution_count": null,
   "id": "62a24b6f",
   "metadata": {},
   "outputs": [],
   "source": [
    "path_to_data"
   ]
  },
  {
   "cell_type": "markdown",
   "id": "bbe09ed2",
   "metadata": {},
   "source": [
    "## Re-analyse mesenchymal and epithelial cells"
   ]
  },
  {
   "cell_type": "code",
   "execution_count": null,
   "id": "8ac96dc4",
   "metadata": {},
   "outputs": [],
   "source": [
    "import anndata\n",
    "adata = anndata.AnnData(X = adata.raw.X, var = adata.raw.var, obs = adata.obs)\n",
    "adata.shape"
   ]
  },
  {
   "cell_type": "code",
   "execution_count": null,
   "id": "e13d072f",
   "metadata": {},
   "outputs": [],
   "source": [
    "sc.pp.filter_genes(adata, min_counts = 10)"
   ]
  },
  {
   "cell_type": "code",
   "execution_count": null,
   "id": "5fe837f9",
   "metadata": {},
   "outputs": [],
   "source": [
    "adata.raw = adata.copy()"
   ]
  },
  {
   "cell_type": "code",
   "execution_count": null,
   "id": "7f6234ff",
   "metadata": {},
   "outputs": [],
   "source": [
    "adata = reptract_utils.normalize_log_transform(adata)"
   ]
  },
  {
   "cell_type": "code",
   "execution_count": null,
   "id": "f74e3b6a",
   "metadata": {},
   "outputs": [],
   "source": [
    "adata = reptract_utils.hvgs_pca_umap(adata)"
   ]
  },
  {
   "cell_type": "code",
   "execution_count": null,
   "id": "4e393828",
   "metadata": {},
   "outputs": [],
   "source": [
    "sc.pl.umap(adata, color = ['donor', 'age', 'sex', 'sample', 'percent_mito', \n",
    "                          'n_genes', 'celltype'], color_map = 'OrRd', ncols = 2)"
   ]
  },
  {
   "cell_type": "markdown",
   "id": "2b523885",
   "metadata": {},
   "source": [
    "## Harmony integration"
   ]
  },
  {
   "cell_type": "code",
   "execution_count": null,
   "id": "5b96e7f7",
   "metadata": {},
   "outputs": [],
   "source": [
    "# Extract PCA matrix and batch array\n",
    "n_pcs = 15 # Principal components used to perform dimensionality reduction \n",
    "pca = adata.obsm['X_pca'][:, 0:(n_pcs)]\n",
    "batch = adata.obs['donor'] # Batch ID, in this case stage"
   ]
  },
  {
   "cell_type": "code",
   "execution_count": null,
   "id": "b1fac35c",
   "metadata": {},
   "outputs": [],
   "source": [
    "import rpy2.rinterface_lib.callbacks\n",
    "import logging\n",
    "# Ignore R warning messages\n",
    "#Note: this can be commented out to get more verbose R output\n",
    "rpy2.rinterface_lib.callbacks.logger.setLevel(logging.ERROR)\n",
    "import anndata2ri\n",
    "anndata2ri.activate()\n",
    "%load_ext rpy2.ipython"
   ]
  },
  {
   "cell_type": "code",
   "execution_count": null,
   "id": "4aa8b5bd",
   "metadata": {},
   "outputs": [],
   "source": [
    "%%R -i pca -i batch -o hem\n",
    "\n",
    "library(harmony)\n",
    "library(magrittr)\n",
    "set.seed(1000)\n",
    "hem <- HarmonyMatrix(pca, batch, theta=0, lambda = 6, do_pca=FALSE, verbose = FALSE)  \n",
    "hem = data.frame(hem)"
   ]
  },
  {
   "cell_type": "code",
   "execution_count": null,
   "id": "d79cc167",
   "metadata": {},
   "outputs": [],
   "source": [
    "# Add harmony values to the anndata object --> overwriting PCA \n",
    "adata.obsm['X_pca_harmony'] = hem.values "
   ]
  },
  {
   "cell_type": "code",
   "execution_count": null,
   "id": "1b96d3bd",
   "metadata": {},
   "outputs": [],
   "source": [
    "sc.pp.neighbors(adata, n_pcs = n_pcs, use_rep = 'X_pca_harmony', random_state= 123)\n",
    "sc.tl.umap(adata, min_dist=0.6, spread = 0.8)"
   ]
  },
  {
   "cell_type": "code",
   "execution_count": null,
   "id": "192f9c81",
   "metadata": {},
   "outputs": [],
   "source": [
    "sc.pl.umap(adata, color = ['donor', 'age', 'sex', 'sample', 'percent_mito', \n",
    "                          'n_genes', 'celltype'], color_map = 'OrRd', ncols = 2)"
   ]
  },
  {
   "cell_type": "code",
   "execution_count": null,
   "id": "699f7fb9",
   "metadata": {},
   "outputs": [],
   "source": [
    "sc.pl.umap(adata, color = ['Foxa1', 'Hoxa13', 'Nr2f2', 'Krt10', 'Isl1', 'Krt14', \n",
    "                           'Krt5', 'Upk1a', 'Foxf1', 'Foxf2', 'Sox9', 'Lgr5', \n",
    "                          'Wif1', 'Shh', 'Dlx5', 'Wnt2', 'Rdh10', 'Six1', 'Igf1', 'Irx1', \n",
    "                          'Irx5', 'Inhba', 'Gap43', 'Shox2', 'Cpa6', 'Sall1', 'Foxl2', 'Tcf21'], color_map = 'OrRd', ncols = 3, use_raw = False)"
   ]
  },
  {
   "cell_type": "code",
   "execution_count": null,
   "id": "4a500f33",
   "metadata": {},
   "outputs": [],
   "source": [
    "sc.pl.umap(adata, color = ['Epcam', 'Cdh5', 'Lyve1', 'Cd68', 'Stmn2', 'Plp1', 'Rgs5', 'Myh11', \n",
    "                          ], color_map = 'OrRd', ncols = 3, use_raw = False)"
   ]
  },
  {
   "cell_type": "code",
   "execution_count": null,
   "id": "02e4c5b7",
   "metadata": {},
   "outputs": [],
   "source": [
    "for c in list(np.unique(adata.obs['celltype'])):\n",
    "    sc.pl.umap(adata, color = ['celltype'], groups = c)"
   ]
  },
  {
   "cell_type": "code",
   "execution_count": null,
   "id": "8a541d96",
   "metadata": {},
   "outputs": [],
   "source": [
    "sc.tl.leiden(adata, resolution = 0.5)\n",
    "sc.pl.umap(adata, color = 'leiden', legend_loc = 'on data')"
   ]
  },
  {
   "cell_type": "code",
   "execution_count": null,
   "id": "32640750",
   "metadata": {},
   "outputs": [],
   "source": [
    "sc.tl.leiden(adata, resolution = 0.2, restrict_to = ('leiden', ['0']))\n",
    "sc.pl.umap(adata, color = 'leiden_R', legend_loc = 'on data')"
   ]
  },
  {
   "cell_type": "code",
   "execution_count": null,
   "id": "da08df36",
   "metadata": {},
   "outputs": [],
   "source": [
    "sc.pl.umap(adata, color = ['leiden_R', 'celltype'], legend_loc = 'on data')"
   ]
  },
  {
   "cell_type": "code",
   "execution_count": null,
   "id": "54e12810",
   "metadata": {},
   "outputs": [],
   "source": [
    "np.unique(adata.obs['celltype'])"
   ]
  },
  {
   "cell_type": "code",
   "execution_count": null,
   "id": "7904ce26",
   "metadata": {},
   "outputs": [],
   "source": [
    "# Harmonise annotations based on clustering \n",
    "harmonised_annots = {\n",
    "    '0,0' : 'Distal Dorsal Glanular Mesenchyme',\n",
    "    '0,1' : 'Late Proximal Glanular Mesenchyme',\n",
    "    '1' : 'Preputial Mesenchyme',\n",
    "    '2' : 'Preputial Mesenchyme',\n",
    "    '3' : 'Corpus Cavernsoum', \n",
    "    '4' : 'Ventral Glanular Mesenchyme', \n",
    "    '5' : 'Late Proximal Glanular Mesenchyme', \n",
    "    '6' : 'Late Proximal Glanular Mesenchyme', \n",
    "    '7' : 'Distal Dorsal Glanular Mesenchyme', \n",
    "    '8' : 'Early Proximal Glanular Mesenchyme',\n",
    "    '9' : 'Ventral Glanular Mesenchyme', \n",
    "    '10' : 'Sub-Dermal Prepuce',\n",
    "    '11' : 'Early Proximal Glanular Mesenchyme', \n",
    "    '12' : 'Epithelium'\n",
    "}\n",
    "adata.obs['harmonised_celltype'] = adata.obs['leiden_R'].map(harmonised_annots)"
   ]
  },
  {
   "cell_type": "code",
   "execution_count": null,
   "id": "38dc7a14",
   "metadata": {},
   "outputs": [],
   "source": [
    "sc.pl.umap(adata, color = 'harmonised_celltype')"
   ]
  },
  {
   "cell_type": "code",
   "execution_count": null,
   "id": "88362f60",
   "metadata": {},
   "outputs": [],
   "source": [
    "adata.write('/nfs/team292/vl6/Mouse_RepTract/Amato2021/Amato2021_mese_epi_annotated.h5ad')"
   ]
  },
  {
   "cell_type": "code",
   "execution_count": null,
   "id": "fb005482",
   "metadata": {},
   "outputs": [],
   "source": [
    "np.unique(adata.obs['harmonised_celltype'])"
   ]
  },
  {
   "cell_type": "code",
   "execution_count": null,
   "id": "f02508f0",
   "metadata": {},
   "outputs": [],
   "source": [
    "adata.obs['harmonised_celltype'] = adata.obs['harmonised_celltype'].astype('category')\n",
    "adata.obs['harmonised_celltype'] = adata.obs['harmonised_celltype'].cat.reorder_categories([\n",
    "     'Epithelium', 'Distal Dorsal Glanular Mesenchyme', 'Ventral Glanular Mesenchyme', \n",
    "    'Early Proximal Glanular Mesenchyme', 'Late Proximal Glanular Mesenchyme', \n",
    "    'Corpus Cavernsoum', 'Preputial Mesenchyme',\n",
    "       'Sub-Dermal Prepuce',\n",
    "])"
   ]
  },
  {
   "cell_type": "code",
   "execution_count": null,
   "id": "4676249e",
   "metadata": {},
   "outputs": [],
   "source": [
    "color_dict = {\n",
    "    'Epithelium' : 'mediumorchid', 'Distal Dorsal Glanular Mesenchyme' : 'navy', \n",
    "    'Ventral Glanular Mesenchyme' : 'cornflowerblue', \n",
    "    'Early Proximal Glanular Mesenchyme' : 'deepskyblue', 'Late Proximal Glanular Mesenchyme' : 'darkturquoise', \n",
    "    'Corpus Cavernsoum' : 'mediumspringgreen', 'Preputial Mesenchyme' : 'yellowgreen',\n",
    "       'Sub-Dermal Prepuce' : 'olivedrab',\n",
    "}"
   ]
  },
  {
   "cell_type": "code",
   "execution_count": null,
   "id": "1fe699e9",
   "metadata": {},
   "outputs": [],
   "source": [
    "import matplotlib as mpl\n",
    "mpl.rcParams['pdf.fonttype'] = 42"
   ]
  },
  {
   "cell_type": "code",
   "execution_count": null,
   "id": "b6f778a8",
   "metadata": {},
   "outputs": [],
   "source": [
    "sc.pl.umap(adata, color = 'harmonised_celltype', palette = color_dict, \n",
    "          save = '_amato2021_celltype.pdf')"
   ]
  },
  {
   "cell_type": "code",
   "execution_count": null,
   "id": "87fe2ed0",
   "metadata": {},
   "outputs": [],
   "source": [
    "sc.pl.umap(adata, color = 'donor', \n",
    "          save = '_amato2021_donor.pdf')"
   ]
  },
  {
   "cell_type": "code",
   "execution_count": null,
   "id": "4f75898a",
   "metadata": {},
   "outputs": [],
   "source": [
    "sc.pl.umap(adata, color = 'age', \n",
    "          save = '_amato2021_stage.pdf')"
   ]
  },
  {
   "cell_type": "code",
   "execution_count": null,
   "id": "de4a0167",
   "metadata": {},
   "outputs": [],
   "source": []
  }
 ],
 "metadata": {
  "kernelspec": {
   "display_name": "atac_env",
   "language": "python",
   "name": "atac_env"
  },
  "language_info": {
   "codemirror_mode": {
    "name": "ipython",
    "version": 3
   },
   "file_extension": ".py",
   "mimetype": "text/x-python",
   "name": "python",
   "nbconvert_exporter": "python",
   "pygments_lexer": "ipython3",
   "version": "3.8.6"
  }
 },
 "nbformat": 4,
 "nbformat_minor": 5
}
