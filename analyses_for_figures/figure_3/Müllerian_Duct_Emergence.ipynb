{
 "cells": [
  {
   "cell_type": "markdown",
   "metadata": {},
   "source": [
    "# Müllerian duct emergence"
   ]
  },
  {
   "cell_type": "code",
   "execution_count": null,
   "metadata": {},
   "outputs": [],
   "source": [
    "import numpy as np\n",
    "import pandas as pd\n",
    "import scanpy as sc\n",
    "import scrublet as scr\n",
    "import seaborn as sns\n",
    "import scipy.stats\n",
    "import anndata\n",
    "import os\n",
    "\n",
    "import scipy as scipy\n",
    "import scipy as sp\n",
    "import pickle as pkl\n",
    "import matplotlib.pyplot as plt\n",
    "import re\n",
    "from collections import defaultdict\n",
    "from statsmodels.nonparametric.smoothers_lowess import lowess\n",
    "from numpy import asarray as ar\n",
    "from collections import Counter\n",
    "import networkx as nx\n",
    "import igraph\n",
    "import glob"
   ]
  },
  {
   "cell_type": "code",
   "execution_count": null,
   "metadata": {},
   "outputs": [],
   "source": [
    "print(anndata.__version__)"
   ]
  },
  {
   "cell_type": "code",
   "execution_count": null,
   "metadata": {},
   "outputs": [],
   "source": [
    "import matplotlib as mpl\n",
    "mpl.rcParams['pdf.fonttype'] = 42"
   ]
  },
  {
   "cell_type": "code",
   "execution_count": null,
   "metadata": {},
   "outputs": [],
   "source": [
    "adata = sc.read('/nfs/team292/vl6/FetalReproductiveTract/all.202401.h5ad')\n",
    "adata.shape"
   ]
  },
  {
   "cell_type": "code",
   "execution_count": null,
   "metadata": {},
   "outputs": [],
   "source": [
    "early_annots = pd.read_csv('/nfs/team292/vl6/FetalReproductiveTract/early_annots.csv', index_col = 0)\n",
    "males_late_annots = pd.read_csv('/nfs/team292/vl6/FetalReproductiveTract/males_post10pcw_annots.csv', index_col = 0)\n",
    "females_late_annots = pd.read_csv('/nfs/team292/vl6/FetalReproductiveTract/post_10pcw_females.csv', index_col = 0)\n",
    "print(early_annots.shape, males_late_annots.shape, females_late_annots.shape)"
   ]
  },
  {
   "cell_type": "code",
   "execution_count": null,
   "metadata": {},
   "outputs": [],
   "source": [
    "annots = early_annots.append(males_late_annots)\n",
    "annots = annots.append(females_late_annots)"
   ]
  },
  {
   "cell_type": "code",
   "execution_count": null,
   "metadata": {},
   "outputs": [],
   "source": [
    "adata.obs['celltype'] = adata.obs_names.map(annots['celltype'])"
   ]
  },
  {
   "cell_type": "code",
   "execution_count": null,
   "metadata": {},
   "outputs": [],
   "source": [
    "# Remove NaN cells \n",
    "adata.obs['celltype'] = adata.obs['celltype'].astype(str)\n",
    "adata = adata[[i != 'nan' for i in adata.obs['celltype']]]"
   ]
  },
  {
   "cell_type": "code",
   "execution_count": null,
   "metadata": {},
   "outputs": [],
   "source": [
    "adata.shape"
   ]
  },
  {
   "cell_type": "markdown",
   "metadata": {},
   "source": [
    "## Select coelomic epithelium, Müllerian duct epithelium and mesenchyme"
   ]
  },
  {
   "cell_type": "code",
   "execution_count": null,
   "metadata": {},
   "outputs": [],
   "source": [
    "adata = adata[[i in ['MüllerianDuct_Epithelium', 'Coelomic_Epithelium', \n",
    "                    'MüllerianDuct_Mesenchyme'] for i in adata.obs['celltype']]]\n",
    "adata.shape"
   ]
  },
  {
   "cell_type": "code",
   "execution_count": null,
   "metadata": {},
   "outputs": [],
   "source": [
    "adata.obs['celltype'].value_counts()"
   ]
  },
  {
   "cell_type": "code",
   "execution_count": null,
   "metadata": {},
   "outputs": [],
   "source": [
    "adata.obs['phase'] = adata.obs_names.map(annots['phase'])"
   ]
  },
  {
   "cell_type": "code",
   "execution_count": null,
   "metadata": {},
   "outputs": [],
   "source": [
    "adata = adata[[i == 'G1' for i in adata.obs['phase']]]"
   ]
  },
  {
   "cell_type": "code",
   "execution_count": null,
   "metadata": {},
   "outputs": [],
   "source": [
    "coelepi = adata[[i == 'Coelomic_Epithelium' for i in adata.obs['celltype']]]\n",
    "coelepi_remove = coelepi[[i > 8.0 for i in coelepi.obs['stage_pcw']]]\n",
    "coelepi_remove.shape"
   ]
  },
  {
   "cell_type": "code",
   "execution_count": null,
   "metadata": {},
   "outputs": [],
   "source": [
    "adata = adata[[i not in coelepi_remove.obs_names.to_list() for i in adata.obs_names.to_list()]]"
   ]
  },
  {
   "cell_type": "code",
   "execution_count": null,
   "metadata": {},
   "outputs": [],
   "source": [
    "adata.shape"
   ]
  },
  {
   "cell_type": "code",
   "execution_count": null,
   "metadata": {},
   "outputs": [],
   "source": [
    "adata.obs['stage_pcw'].value_counts()"
   ]
  },
  {
   "cell_type": "code",
   "execution_count": null,
   "metadata": {},
   "outputs": [],
   "source": [
    "adata = adata[[i < 9 for i in adata.obs['stage_pcw']]]"
   ]
  },
  {
   "cell_type": "code",
   "execution_count": null,
   "metadata": {},
   "outputs": [],
   "source": [
    "adata.shape"
   ]
  },
  {
   "cell_type": "code",
   "execution_count": null,
   "metadata": {},
   "outputs": [],
   "source": [
    "sc.pp.filter_genes(adata, min_counts = 10)"
   ]
  },
  {
   "cell_type": "code",
   "execution_count": null,
   "metadata": {},
   "outputs": [],
   "source": [
    "adata.shape"
   ]
  },
  {
   "cell_type": "code",
   "execution_count": null,
   "metadata": {},
   "outputs": [],
   "source": [
    "## import reproductive tract utils functions\n",
    "import sys\n",
    "cwd = '/nfs/team292/vl6/Experiments/Utils/'\n",
    "sys.path.append(cwd)\n",
    "\n",
    "import reptract_utils\n",
    "import reptract_genes"
   ]
  },
  {
   "cell_type": "code",
   "execution_count": null,
   "metadata": {},
   "outputs": [],
   "source": [
    "sc.set_figure_params(scanpy=True, dpi=80, dpi_save=150, frameon=True, vector_friendly=True, \n",
    "                         fontsize=14, figsize=(7, 7), color_map=None, format='pdf', facecolor=None, transparent=False)"
   ]
  },
  {
   "cell_type": "code",
   "execution_count": null,
   "metadata": {},
   "outputs": [],
   "source": [
    "adata.raw = adata.copy()"
   ]
  },
  {
   "cell_type": "code",
   "execution_count": null,
   "metadata": {},
   "outputs": [],
   "source": [
    "#adata = reptract_utils.per_gene_analysis(adata)"
   ]
  },
  {
   "cell_type": "code",
   "execution_count": null,
   "metadata": {},
   "outputs": [],
   "source": [
    "adata = reptract_utils.normalize_log_transform(adata)"
   ]
  },
  {
   "cell_type": "code",
   "execution_count": null,
   "metadata": {},
   "outputs": [],
   "source": [
    "adata = reptract_utils.hvgs_pca_umap(adata)"
   ]
  },
  {
   "cell_type": "code",
   "execution_count": null,
   "metadata": {},
   "outputs": [],
   "source": [
    "sc.tl.umap(adata, min_dist=0.6, spread = 0.8)"
   ]
  },
  {
   "cell_type": "code",
   "execution_count": null,
   "metadata": {},
   "outputs": [],
   "source": [
    "sc.pl.umap(adata, color=['stage_pcw', 'sample', \n",
    "                         'sex', 'donor', 'n_genes', 'doublet_scores',\n",
    "                        'celltype'], ncols = 2, wspace = 0.3, \n",
    "          color_map = 'OrRd')"
   ]
  },
  {
   "cell_type": "code",
   "execution_count": null,
   "metadata": {},
   "outputs": [],
   "source": [
    "markers = ['UPK3B', 'LRRN4', 'KLK11', 'HOXA10', 'HOXA11', 'EMX2', 'EMX1', 'SP7', 'MSX2', 'DLX5', 'AMHR2', 'HOXC4', 'HOXC5', 'CNTN1', 'MMP28', 'ETV4', 'LYPD1', 'TMEM163', 'RUNX2', 'PCSK2', 'RGS5', 'BCAN', 'AR', \n",
    "          'PTGES', 'EGFL6', 'TMEM176B', 'LGR5', 'CAVIN2', 'ITGBL1', 'SPOCK1', 'ANKFN1', 'ITGA4', 'SEMA3A', 'PRDM1','ESR1',\n",
    "           'HOXA10', 'HOXA11', 'HOXC10',  'DACT2', 'CLDN1', \n",
    "          ]\n",
    "\n",
    "sc.pl.umap(adata, color = markers, color_map = 'OrRd', ncols = 3, use_raw = False)"
   ]
  },
  {
   "cell_type": "code",
   "execution_count": null,
   "metadata": {},
   "outputs": [],
   "source": [
    "markers = ['WNT7A', 'FGF20', 'CALCA', 'GDNF', 'PNOC', 'LYPD1', 'RXRG', 'ERP27', 'DAPL1', 'FOXL2'\n",
    "          ]\n",
    "\n",
    "sc.pl.umap(adata, color = markers, color_map = 'OrRd', ncols = 3, use_raw = False)"
   ]
  },
  {
   "cell_type": "code",
   "execution_count": null,
   "metadata": {},
   "outputs": [],
   "source": [
    "sc.pl.umap(adata, color = [ 'MMP2', 'SP7', 'DLX5', 'DLX6', 'BCAN', 'WIF1', 'PCSK2', 'RGS5', 'BCAN', \n",
    "                          ], wspace = 0.15, use_raw = False,\n",
    "           color_map = 'OrRd', ncols = 2)"
   ]
  },
  {
   "cell_type": "code",
   "execution_count": null,
   "metadata": {},
   "outputs": [],
   "source": [
    "sc.pl.umap(adata, color = [ 'NKD1', 'NOTUM', 'ERP27', 'DAPL1', 'LAMP5', 'UCA1', 'DLX5', 'HOXA7', 'HOXC5', \n",
    "                          'HOXA9', 'HOXA10', 'HOXC10', 'HOXA13', 'GAP43', 'TNC', 'RDH10', \n",
    "                          'EMX2'], wspace = 0.15, use_raw = False,\n",
    "           color_map = 'OrRd', ncols = 3)"
   ]
  },
  {
   "cell_type": "code",
   "execution_count": null,
   "metadata": {},
   "outputs": [],
   "source": [
    "sc.tl.leiden(adata, resolution = 4)\n",
    "sc.pl.umap(adata, color = 'leiden', legend_loc = 'on data')"
   ]
  },
  {
   "cell_type": "code",
   "execution_count": null,
   "metadata": {},
   "outputs": [],
   "source": [
    "sc.pl.umap(adata, color = 'leiden', legend_loc = 'on data',\n",
    "          groups = ['60', '58', '50', '8', '0', '15',  '20', '53', '28', '2', '22'])"
   ]
  },
  {
   "cell_type": "code",
   "execution_count": null,
   "metadata": {},
   "outputs": [],
   "source": [
    "adata = adata[[i not in ['60', '58', '50', '8', '0', '15',  '20', '53', '28', '2', '22'] for i in adata.obs['leiden']]]"
   ]
  },
  {
   "cell_type": "code",
   "execution_count": null,
   "metadata": {},
   "outputs": [],
   "source": [
    "adata.shape"
   ]
  },
  {
   "cell_type": "code",
   "execution_count": null,
   "metadata": {},
   "outputs": [],
   "source": [
    "import rpy2.rinterface_lib.callbacks\n",
    "import logging\n",
    "# Ignore R warning messages\n",
    "#Note: this can be commented out to get more verbose R output\n",
    "rpy2.rinterface_lib.callbacks.logger.setLevel(logging.ERROR)\n",
    "import anndata2ri\n",
    "anndata2ri.activate()\n",
    "%load_ext rpy2.ipython"
   ]
  },
  {
   "cell_type": "code",
   "execution_count": null,
   "metadata": {},
   "outputs": [],
   "source": [
    "adata = anndata.AnnData(X = adata.raw.X, var = adata.raw.var, obs = adata.obs)"
   ]
  },
  {
   "cell_type": "code",
   "execution_count": null,
   "metadata": {},
   "outputs": [],
   "source": [
    "adata.raw = adata.copy()\n",
    "sc.pp.filter_genes(adata, min_counts=10)\n",
    "#adata = reptract_utils.per_gene_analysis(adata)\n",
    "adata = reptract_utils.normalize_log_transform(adata)\n",
    "adata = reptract_utils.hvgs_pca_umap(adata)"
   ]
  },
  {
   "cell_type": "code",
   "execution_count": null,
   "metadata": {},
   "outputs": [],
   "source": [
    "sc.pl.umap(adata, color=['stage_pcw', 'sample', \n",
    "                         'sex', 'donor', 'n_genes', 'doublet_scores',\n",
    "                        'celltype'], ncols = 2, wspace = 0.3, \n",
    "          color_map = 'OrRd')"
   ]
  },
  {
   "cell_type": "code",
   "execution_count": null,
   "metadata": {},
   "outputs": [],
   "source": [
    "sc.pl.umap(adata, color = ['MMP28', 'TMEM163', 'BCAN', 'BRINP1', 'HOXA11', 'HOXA10', 'HOXC10', 'CNTN1', \n",
    "                          'ECM1', 'WIF1', 'SP7','NOTUM'], use_raw = False, legend_loc = 'on data', color_map = 'OrRd')"
   ]
  },
  {
   "cell_type": "code",
   "execution_count": null,
   "metadata": {},
   "outputs": [],
   "source": [
    "sc.tl.leiden(adata, resolution = 4)\n",
    "sc.pl.umap(adata, color = 'leiden', legend_loc = 'on data')"
   ]
  },
  {
   "cell_type": "code",
   "execution_count": null,
   "metadata": {},
   "outputs": [],
   "source": [
    "sc.pl.umap(adata, color = 'leiden', legend_loc = 'on data',\n",
    "          groups = ['12', '52', '38', '31'])"
   ]
  },
  {
   "cell_type": "code",
   "execution_count": null,
   "metadata": {},
   "outputs": [],
   "source": [
    "adata = adata[[i not in ['12', '52', '38', '31'] for i in adata.obs['leiden']]]"
   ]
  },
  {
   "cell_type": "code",
   "execution_count": null,
   "metadata": {},
   "outputs": [],
   "source": [
    "adata = anndata.AnnData(X = adata.raw.X, var = adata.raw.var, obs = adata.obs)"
   ]
  },
  {
   "cell_type": "code",
   "execution_count": null,
   "metadata": {},
   "outputs": [],
   "source": [
    "adata.raw = adata.copy()\n",
    "sc.pp.filter_genes(adata, min_counts=10)\n",
    "#adata = reptract_utils.per_gene_analysis(adata)\n",
    "adata = reptract_utils.normalize_log_transform(adata)\n",
    "adata = reptract_utils.hvgs_pca_umap(adata)"
   ]
  },
  {
   "cell_type": "code",
   "execution_count": null,
   "metadata": {},
   "outputs": [],
   "source": [
    "sc.pl.umap(adata, color=['stage_pcw', 'sample', \n",
    "                         'sex', 'donor', 'n_genes', 'doublet_scores',\n",
    "                        'celltype'], ncols = 2, wspace = 0.3, \n",
    "          color_map = 'OrRd')"
   ]
  },
  {
   "cell_type": "markdown",
   "metadata": {},
   "source": [
    "### harmony integration"
   ]
  },
  {
   "cell_type": "code",
   "execution_count": null,
   "metadata": {},
   "outputs": [],
   "source": [
    "# Extract PCA matrix and batch array\n",
    "n_pcs = 13 # Principal components used to perform dimensionality reduction \n",
    "pca = adata.obsm['X_pca'][:, 0:(n_pcs)]\n",
    "batch = adata.obs['donor'] # Batch ID, in this case stage"
   ]
  },
  {
   "cell_type": "code",
   "execution_count": null,
   "metadata": {},
   "outputs": [],
   "source": [
    "%%R -i pca -i batch -o hem\n",
    "\n",
    "library(harmony)\n",
    "library(magrittr)\n",
    "set.seed(1000)\n",
    "hem <- HarmonyMatrix(pca, batch, theta=0, lambda = 6, do_pca=FALSE, verbose = FALSE)  \n",
    "hem = data.frame(hem)"
   ]
  },
  {
   "cell_type": "code",
   "execution_count": null,
   "metadata": {},
   "outputs": [],
   "source": [
    "# Add harmony values to the anndata object --> overwriting PCA \n",
    "adata.obsm['X_pca'] = hem.values "
   ]
  },
  {
   "cell_type": "code",
   "execution_count": null,
   "metadata": {},
   "outputs": [],
   "source": [
    "sc.pp.neighbors(adata, n_pcs = n_pcs, random_state= 123)\n",
    "sc.tl.umap(adata, min_dist=0.6, spread = 0.8)"
   ]
  },
  {
   "cell_type": "code",
   "execution_count": null,
   "metadata": {},
   "outputs": [],
   "source": [
    "sc.pl.umap(adata, color=['stage_pcw', 'sample', \n",
    "                         'sex', 'donor', 'n_genes', 'doublet_scores',\n",
    "                        'celltype'], ncols = 2, wspace = 0.3, \n",
    "          color_map = 'OrRd')"
   ]
  },
  {
   "cell_type": "code",
   "execution_count": null,
   "metadata": {},
   "outputs": [],
   "source": [
    "sc.pl.umap(adata, color = ['MMP28', 'TMEM163', 'BCAN', 'BRINP1', 'HOXA11', 'HOXA10', 'HOXC10', 'CNTN1', \n",
    "                          'ECM1', 'WIF1', 'SP7','NOTUM', 'NKD1', 'APOA1', 'CRTAC1', 'GAL', 'COX7A1', 'ADRA2A'], use_raw = False, legend_loc = 'on data', color_map = 'OrRd')"
   ]
  },
  {
   "cell_type": "code",
   "execution_count": null,
   "metadata": {},
   "outputs": [],
   "source": [
    "sc.pp.neighbors(adata, n_neighbors=8, use_rep='X_pca')"
   ]
  },
  {
   "cell_type": "code",
   "execution_count": null,
   "metadata": {},
   "outputs": [],
   "source": [
    "sc.tl.draw_graph(adata)"
   ]
  },
  {
   "cell_type": "code",
   "execution_count": null,
   "metadata": {},
   "outputs": [],
   "source": [
    "sc.tl.leiden(adata, resolution = 0.5)\n",
    "sc.pl.umap(adata, color = 'leiden', legend_loc = 'on data')"
   ]
  },
  {
   "cell_type": "code",
   "execution_count": null,
   "metadata": {},
   "outputs": [],
   "source": [
    "adata = adata[[i not in ['11'] for i in adata.obs['leiden']]]"
   ]
  },
  {
   "cell_type": "code",
   "execution_count": null,
   "metadata": {},
   "outputs": [],
   "source": [
    "sc.tl.leiden(adata, resolution = 0.4)\n",
    "sc.pl.umap(adata, color = 'leiden', legend_loc = 'on data')"
   ]
  },
  {
   "cell_type": "code",
   "execution_count": null,
   "metadata": {},
   "outputs": [],
   "source": [
    "adata = adata[[i not in ['8'] for i in adata.obs['leiden']]]"
   ]
  },
  {
   "cell_type": "code",
   "execution_count": null,
   "metadata": {},
   "outputs": [],
   "source": [
    "sc.tl.leiden(adata, resolution = 0.5)\n",
    "sc.pl.umap(adata, color = 'leiden', legend_loc = 'on data')"
   ]
  },
  {
   "cell_type": "code",
   "execution_count": null,
   "metadata": {},
   "outputs": [],
   "source": [
    "adata = adata[[i not in ['10'] for i in adata.obs['leiden']]]"
   ]
  },
  {
   "cell_type": "code",
   "execution_count": null,
   "metadata": {},
   "outputs": [],
   "source": [
    "# sc.tl.leiden(adata, resolution = 0.4)\n",
    "# sc.pl.umap(adata, color = 'leiden', legend_loc = 'on data')"
   ]
  },
  {
   "cell_type": "code",
   "execution_count": null,
   "metadata": {},
   "outputs": [],
   "source": [
    "# adata = adata[[i not in ['8'] for i in adata.obs['leiden']]]"
   ]
  },
  {
   "cell_type": "code",
   "execution_count": null,
   "metadata": {},
   "outputs": [],
   "source": [
    "sc.pl.draw_graph(adata, color='leiden', legend_loc='on data')\n"
   ]
  },
  {
   "cell_type": "code",
   "execution_count": null,
   "metadata": {},
   "outputs": [],
   "source": [
    "sc.pl.draw_graph(adata, color='leiden', legend_loc='on data')\n"
   ]
  },
  {
   "cell_type": "code",
   "execution_count": null,
   "metadata": {},
   "outputs": [],
   "source": [
    "sc.pl.draw_graph(adata, color='n_genes', color_map='OrRd')\n"
   ]
  },
  {
   "cell_type": "code",
   "execution_count": null,
   "metadata": {},
   "outputs": [],
   "source": [
    "sc.tl.paga(adata, groups='leiden')\n"
   ]
  },
  {
   "cell_type": "code",
   "execution_count": null,
   "metadata": {},
   "outputs": [],
   "source": [
    "sc.pl.paga(adata, color=['leiden', 'UPK3B', 'GDNF', 'SP7'])\n"
   ]
  },
  {
   "cell_type": "code",
   "execution_count": null,
   "metadata": {},
   "outputs": [],
   "source": [
    "sc.tl.draw_graph(adata, init_pos='paga')\n"
   ]
  },
  {
   "cell_type": "code",
   "execution_count": null,
   "metadata": {},
   "outputs": [],
   "source": [
    "sc.pl.draw_graph(adata, color='leiden')\n"
   ]
  },
  {
   "cell_type": "code",
   "execution_count": null,
   "metadata": {},
   "outputs": [],
   "source": [
    "sc.pl.draw_graph(adata, color = [ 'MMP2', 'SP7', 'DLX5', 'DLX6', 'BCAN', 'WIF1', 'PCSK2', 'RGS5', 'BCAN'], wspace = 0.15, use_raw = False,\n",
    "           color_map = 'OrRd', ncols = 2)"
   ]
  },
  {
   "cell_type": "code",
   "execution_count": null,
   "metadata": {},
   "outputs": [],
   "source": [
    "adata"
   ]
  },
  {
   "cell_type": "markdown",
   "metadata": {},
   "source": [
    "## Save as RDS object"
   ]
  },
  {
   "cell_type": "code",
   "execution_count": null,
   "metadata": {},
   "outputs": [],
   "source": [
    "mull_R = anndata.AnnData(X = adata.raw.X, obs = adata.obs, var = adata.raw.var)\n",
    "del mull_R.obsp"
   ]
  },
  {
   "cell_type": "code",
   "execution_count": null,
   "metadata": {},
   "outputs": [],
   "source": [
    "mull_R"
   ]
  },
  {
   "cell_type": "code",
   "execution_count": null,
   "metadata": {},
   "outputs": [],
   "source": [
    "mito_genes = [name for name in mull_R.var_names if name.startswith('MT-')]\n"
   ]
  },
  {
   "cell_type": "code",
   "execution_count": null,
   "metadata": {},
   "outputs": [],
   "source": [
    "# remove mito genes\n",
    "non_mito_genes = [name for name in mull_R.var_names if not name.startswith('MT-')]\n",
    "mull_R = mull_R[:, non_mito_genes]\n",
    "\n",
    "# remove ribo genes\n",
    "non_ribo_genes = [name for name in mull_R.var_names if not name.startswith('RP')]\n",
    "mull_R = mull_R[:, non_ribo_genes]\n",
    "\n",
    "# remove heat shock protein genes\n",
    "non_hps_genes = [name for name in mull_R.var_names if not name.startswith('HSP')]\n",
    "mull_R = mull_R[:, non_hps_genes]\n",
    "\n",
    "# remove haemoglobin genes \n",
    "non_haemo_genes = [name for name in mull_R.var_names if name not in ['HBA1', 'HBA2', 'HBB', 'HBG1', 'HBG2']]\n",
    "mull_R = mull_R[:, non_haemo_genes]\n",
    "\n",
    "sc.pp.filter_genes(mull_R, min_cells=10)\n",
    "sc.pp.filter_genes(mull_R, min_counts=1)"
   ]
  },
  {
   "cell_type": "code",
   "execution_count": null,
   "metadata": {},
   "outputs": [],
   "source": [
    "mull_R.obsm = adata.obsm"
   ]
  },
  {
   "cell_type": "code",
   "execution_count": null,
   "metadata": {},
   "outputs": [],
   "source": [
    "mull_R"
   ]
  },
  {
   "cell_type": "code",
   "execution_count": null,
   "metadata": {},
   "outputs": [],
   "source": [
    "sc.pl.umap(mull_R, color = 'leiden', legend_loc = 'on data')"
   ]
  },
  {
   "cell_type": "code",
   "execution_count": null,
   "metadata": {},
   "outputs": [],
   "source": [
    "mull_R.write(\"/nfs/team292/vl6/FetalReproductiveTract/mullerian_early.h5ad\")"
   ]
  },
  {
   "cell_type": "code",
   "execution_count": null,
   "metadata": {},
   "outputs": [],
   "source": [
    "mull_R = sc.read(\"/nfs/team292/vl6/FetalReproductiveTract/mullerian_early.h5ad\")\n",
    "mull_R.shape"
   ]
  },
  {
   "cell_type": "code",
   "execution_count": null,
   "metadata": {},
   "outputs": [],
   "source": [
    "%%R -i mull_R\n",
    "mull_R"
   ]
  },
  {
   "cell_type": "code",
   "execution_count": null,
   "metadata": {},
   "outputs": [],
   "source": [
    "%%R \n",
    "saveRDS(mull_R, \"/nfs/team292/vl6/FetalReproductiveTract/mullerian_early.rds\")"
   ]
  },
  {
   "cell_type": "code",
   "execution_count": null,
   "metadata": {},
   "outputs": [],
   "source": []
  },
  {
   "cell_type": "markdown",
   "metadata": {},
   "source": [
    "## Prepare data for CellPhoneDB analysis between Wolffian and Müllerian ducts"
   ]
  },
  {
   "cell_type": "markdown",
   "metadata": {},
   "source": [
    "### Import Müllerian duct object"
   ]
  },
  {
   "cell_type": "code",
   "execution_count": null,
   "metadata": {},
   "outputs": [],
   "source": [
    "mull = sc.read(\"/nfs/team292/vl6/FetalReproductiveTract/mullerian_early.h5ad\")\n",
    "mull.shape"
   ]
  },
  {
   "cell_type": "code",
   "execution_count": null,
   "metadata": {},
   "outputs": [],
   "source": [
    "mull.obs['celltype'].value_counts()"
   ]
  },
  {
   "cell_type": "code",
   "execution_count": null,
   "metadata": {},
   "outputs": [],
   "source": [
    "### Remove coelomic epithelium"
   ]
  },
  {
   "cell_type": "code",
   "execution_count": null,
   "metadata": {},
   "outputs": [],
   "source": [
    "mull = mull[[i not in ['Coelomic_Epithelium'] for i in mull.obs['celltype']]]\n",
    "mull.shape"
   ]
  },
  {
   "cell_type": "code",
   "execution_count": null,
   "metadata": {},
   "outputs": [],
   "source": [
    "### Select Wolffian duct cells < 9 PCW\n",
    "wolff = adata[[i in ['WolffianDuct_Epithelium', 'WolffianDuct_Mesenchyme'] for i in adata.obs['celltype']]]\n",
    "wolff.shape"
   ]
  },
  {
   "cell_type": "code",
   "execution_count": null,
   "metadata": {},
   "outputs": [],
   "source": [
    "wolff = wolff[[i < 9.0 for i in wolff.obs['stage_pcw']]]\n",
    "wolff.shape"
   ]
  },
  {
   "cell_type": "code",
   "execution_count": null,
   "metadata": {},
   "outputs": [],
   "source": [
    "sc.pp.filter_genes(wolff, min_counts = 10)"
   ]
  },
  {
   "cell_type": "code",
   "execution_count": null,
   "metadata": {},
   "outputs": [],
   "source": [
    "wolff.raw = wolff.copy()\n",
    "wolff = reptract_utils.normalize_log_transform(wolff)\n",
    "wolff = reptract_utils.hvgs_pca_umap(wolff)\n",
    "sc.tl.umap(wolff, min_dist=0.6, spread = 0.8)\n",
    "sc.pl.umap(wolff, color=['stage_pcw', 'sample', \n",
    "                         'sex', 'donor', 'n_genes', 'doublet_scores',\n",
    "                        'celltype'], ncols = 2, wspace = 0.3, \n",
    "          color_map = 'OrRd')"
   ]
  },
  {
   "cell_type": "code",
   "execution_count": null,
   "metadata": {},
   "outputs": [],
   "source": [
    "markers = ['UPK3B', 'LRRN4', 'KLK11', 'HOXA10', 'HOXA11', 'EMX2', 'EMX1', 'SP7', 'MSX2', 'DLX5', 'AMHR2', 'HOXC4', 'HOXC5', 'CNTN1', 'MMP28', 'ETV4', 'LYPD1', 'TMEM163', 'RUNX2', 'PCSK2', 'RGS5', 'BCAN', 'AR', \n",
    "          'PTGES', 'EGFL6', 'TMEM176B', 'LGR5', 'CAVIN2', 'ITGBL1', 'SPOCK1', 'ANKFN1', 'ITGA4', 'SEMA3A', 'PRDM1','ESR1',\n",
    "           'HOXA10', 'HOXA11', 'HOXC10',  'DACT2', 'CLDN1', 'WNT9B', 'MARCH11', 'GATA3', 'KRT17', \n",
    "           'PDZK1', 'PDZK1IP1', 'ESR1', 'GLYAT', 'SPINK2', 'PLAC1', 'HOXA7', 'HOXA9', 'ADH1B', 'ALDH1A1'\n",
    "          ]\n",
    "\n",
    "sc.pl.umap(wolff, color = markers, color_map = 'OrRd', ncols = 3, use_raw = False)"
   ]
  },
  {
   "cell_type": "code",
   "execution_count": null,
   "metadata": {},
   "outputs": [],
   "source": [
    "wolff.shape"
   ]
  },
  {
   "cell_type": "code",
   "execution_count": null,
   "metadata": {},
   "outputs": [],
   "source": [
    "wolff_raw = anndata.AnnData(X = wolff.raw.X, obs = wolff.obs, var = wolff.raw.var)\n",
    "del wolff.obsp"
   ]
  },
  {
   "cell_type": "code",
   "execution_count": null,
   "metadata": {},
   "outputs": [],
   "source": [
    "wolff_raw.shape"
   ]
  },
  {
   "cell_type": "code",
   "execution_count": null,
   "metadata": {},
   "outputs": [],
   "source": [
    "### Filter genes\n",
    "# remove mito genes\n",
    "non_mito_genes = [name for name in wolff_raw.var_names if not name.startswith('MT-')]\n",
    "wolff_raw = wolff_raw[:, non_mito_genes]\n",
    "\n",
    "# remove ribo genes\n",
    "non_ribo_genes = [name for name in wolff_raw.var_names if not name.startswith('RP')]\n",
    "wolff_raw = wolff_raw[:, non_ribo_genes]\n",
    "\n",
    "# remove heat shock protein genes\n",
    "non_hps_genes = [name for name in wolff_raw.var_names if not name.startswith('HSP')]\n",
    "wolff_raw = wolff_raw[:, non_hps_genes]\n",
    "\n",
    "# remove haemoglobin genes \n",
    "non_haemo_genes = [name for name in wolff_raw.var_names if name not in ['HBA1', 'HBA2', 'HBB', 'HBG1', 'HBG2']]\n",
    "wolff_raw = wolff_raw[:, non_haemo_genes]\n",
    "\n",
    "sc.pp.filter_genes(wolff_raw, min_cells=10)\n",
    "sc.pp.filter_genes(wolff_raw, min_counts=1)"
   ]
  },
  {
   "cell_type": "code",
   "execution_count": null,
   "metadata": {},
   "outputs": [],
   "source": [
    "wolff_raw.shape"
   ]
  },
  {
   "cell_type": "markdown",
   "metadata": {},
   "source": [
    "### Concatenate Müllerian and Wolffian objects"
   ]
  },
  {
   "cell_type": "code",
   "execution_count": null,
   "metadata": {},
   "outputs": [],
   "source": [
    "mull.X[20:25, 40:45].toarray()"
   ]
  },
  {
   "cell_type": "code",
   "execution_count": null,
   "metadata": {},
   "outputs": [],
   "source": [
    "wolff_raw.X[20:25, 40:45].toarray()"
   ]
  },
  {
   "cell_type": "code",
   "execution_count": null,
   "metadata": {},
   "outputs": [],
   "source": [
    "mull_wolff = mull.concatenate(wolff_raw, join='outer', index_unique=None)\n",
    "mull_wolff.X = mull_wolff.X.tocsr()\n",
    "mull_wolff.shape"
   ]
  },
  {
   "cell_type": "code",
   "execution_count": null,
   "metadata": {},
   "outputs": [],
   "source": [
    "mull_wolff.obs['celltype'].value_counts(dropna = False)"
   ]
  },
  {
   "cell_type": "code",
   "execution_count": null,
   "metadata": {},
   "outputs": [],
   "source": [
    "## Downsample per cell type \n",
    "import random\n",
    "from itertools import chain\n",
    "def downsample(adata, labels, n): \n",
    "    \n",
    "    myindex = adata.obs[labels].value_counts().index \n",
    "    myvalues = adata.obs[labels].value_counts().values\n",
    "    clusters = pd.Series(myvalues, index = myindex)\n",
    "    \n",
    "    # Find clusters with > n cells \n",
    "    cl2downsample = clusters.index[ clusters.values > n ]\n",
    "\n",
    "    # save all barcode ids from small clusters\n",
    "    holder = []\n",
    "    holder.append( adata.obs_names[[ i not in cl2downsample for i in adata.obs[labels] ]] ) \n",
    "\n",
    "    # randomly sample n cells in the cl2downsample\n",
    "    for cl in cl2downsample:\n",
    "        print(cl)\n",
    "        cl_sample = adata[[ i == cl for i in adata.obs[labels]]].obs_names\n",
    "        \n",
    "        cl_downsample = random.sample(set(cl_sample), n )\n",
    "        holder.append(cl_downsample)\n",
    "    \n",
    "    # samples to include\n",
    "    samples = list(chain(*holder))\n",
    "\n",
    "    # Filter adata_count\n",
    "    adata = adata[[ i in samples for i in adata.obs_names ]]\n",
    "    return adata"
   ]
  },
  {
   "cell_type": "code",
   "execution_count": null,
   "metadata": {},
   "outputs": [],
   "source": [
    "mull_wolff_downsampled = downsample(mull_wolff, 'celltype', 1713)"
   ]
  },
  {
   "cell_type": "code",
   "execution_count": null,
   "metadata": {},
   "outputs": [],
   "source": [
    "mull_wolff_downsampled.shape"
   ]
  },
  {
   "cell_type": "code",
   "execution_count": null,
   "metadata": {},
   "outputs": [],
   "source": [
    "mull_wolff_downsampled.write('/nfs/team292/vl6/FetalReproductiveTract/pre_9pcw_mullerian_wolffian_cellphoneDB.h5ad')"
   ]
  },
  {
   "cell_type": "markdown",
   "metadata": {},
   "source": [
    "### Differential expression with Seurat"
   ]
  },
  {
   "cell_type": "code",
   "execution_count": null,
   "metadata": {},
   "outputs": [],
   "source": [
    "%%R -o results\n",
    "library(biomaRt)\n",
    "mart <- useMart(biomart=\"ensembl\", dataset=\"hsapiens_gene_ensembl\")\n",
    "results <- getBM(attributes = c(\"chromosome_name\", \"hgnc_symbol\"),\n",
    "            filters = \"chromosome_name\", values = \"Y\", mart = mart, verbose = TRUE)\n",
    "\n",
    "head(results)"
   ]
  },
  {
   "cell_type": "code",
   "execution_count": null,
   "metadata": {},
   "outputs": [],
   "source": [
    "results = results.set_index('hgnc_symbol')"
   ]
  },
  {
   "cell_type": "code",
   "execution_count": null,
   "metadata": {},
   "outputs": [],
   "source": [
    "mull_wolff.var['Y_chrom'] = mull_wolff.var_names.map(results['chromosome_name'].to_dict())"
   ]
  },
  {
   "cell_type": "code",
   "execution_count": null,
   "metadata": {},
   "outputs": [],
   "source": [
    "mull_wolff.var['Y_chrom'].value_counts(dropna = False)"
   ]
  },
  {
   "cell_type": "code",
   "execution_count": null,
   "metadata": {},
   "outputs": [],
   "source": [
    "ychrom = mull_wolff.var[mull_wolff.var['Y_chrom'] == 'Y'].index.to_list()\n",
    "keep = [i for i in mull_wolff.var_names.to_list() if i not in ychrom]\n",
    "len(keep)"
   ]
  },
  {
   "cell_type": "code",
   "execution_count": null,
   "metadata": {},
   "outputs": [],
   "source": [
    "mull_wolff = mull_wolff[:, keep]"
   ]
  },
  {
   "cell_type": "code",
   "execution_count": null,
   "metadata": {},
   "outputs": [],
   "source": [
    "mull_wolff.shape"
   ]
  },
  {
   "cell_type": "code",
   "execution_count": null,
   "metadata": {},
   "outputs": [],
   "source": [
    "sc.pp.normalize_per_cell(mull_wolff, counts_per_cell_after=1e4)\n",
    "sc.pp.log1p(mull_wolff)"
   ]
  },
  {
   "cell_type": "code",
   "execution_count": null,
   "metadata": {},
   "outputs": [],
   "source": [
    "mull_wolff_degs = mull_wolff[mull_wolff_downsampled.obs_names.to_list(), :]"
   ]
  },
  {
   "cell_type": "code",
   "execution_count": null,
   "metadata": {},
   "outputs": [],
   "source": [
    "mull_wolff_degs.shape"
   ]
  },
  {
   "cell_type": "code",
   "execution_count": null,
   "metadata": {},
   "outputs": [],
   "source": [
    "del mull_wolff_degs.var\n",
    "del mull_wolff_degs.obsm\n",
    "del mull_wolff_degs.uns\n",
    "for i in mull_wolff_degs.obs.columns:\n",
    "    if i != 'celltype':\n",
    "        del mull_wolff_degs.obs[i]"
   ]
  },
  {
   "cell_type": "code",
   "execution_count": null,
   "metadata": {},
   "outputs": [],
   "source": [
    "mull_wolff_degs"
   ]
  },
  {
   "cell_type": "code",
   "execution_count": null,
   "metadata": {},
   "outputs": [],
   "source": [
    "%%R -i mull_wolff_degs\n",
    "mull_wolff_degs"
   ]
  },
  {
   "cell_type": "code",
   "execution_count": null,
   "metadata": {},
   "outputs": [],
   "source": [
    "%%R -o DEGs\n",
    "\n",
    "library(Seurat)\n",
    "so = as.Seurat(mull_wolff_degs, counts = \"X\", data = \"X\")\n",
    "Idents(so) = so$celltype\n",
    "\n",
    "# # Normalize\n",
    "# so <- NormalizeData(so, normalization.method = \"LogNormalize\", scale.factor = 10000)\n",
    "# so <- ScaleData(so, features = rownames(so))\n",
    "\n",
    "# Extract DEGs for each cell_type\n",
    "DEGs <- FindAllMarkers(so, \n",
    "                       verbose = F, \n",
    "                       only.pos = T, \n",
    "                       random.seed = 1, \n",
    "                       logfc.threshold = 0, \n",
    "                       min.pct = 0.1, \n",
    "                       return.thresh = 1)\n",
    "\n",
    "DEGs$cluster = factor(DEGs$cluster, levels = sort(unique(DEGs$cluster)) )\n",
    "# topgenes_DEGs = subset(DEGs, qval <= 0.05) %>%\n",
    "#   group_by(cluster) %>%\n",
    "#   group_map(~ head(.x, 30L)$gene) %>%\n",
    "#   unlist(.)"
   ]
  },
  {
   "cell_type": "code",
   "execution_count": null,
   "metadata": {},
   "outputs": [],
   "source": [
    "DEGs"
   ]
  },
  {
   "cell_type": "code",
   "execution_count": null,
   "metadata": {},
   "outputs": [],
   "source": [
    "DEGs.to_csv('/nfs/team292/vl6/FetalReproductiveTract/pre_9pcw_mullerian_wolffian_DEGs.csv', index=False, sep='\\t')"
   ]
  },
  {
   "cell_type": "markdown",
   "metadata": {},
   "source": [
    "### Plot cellphoneDB results"
   ]
  },
  {
   "cell_type": "code",
   "execution_count": null,
   "metadata": {},
   "outputs": [],
   "source": [
    "mull_wolff.X[20:25, 40:45].toarray()"
   ]
  },
  {
   "cell_type": "code",
   "execution_count": null,
   "metadata": {},
   "outputs": [],
   "source": [
    "sc.pl.dotplot(mull_wolff, var_names = ['ALDH1A1', 'WNT9B', 'NTN4', 'KITLG', \n",
    "                                      'CXCL12'], \n",
    "             standard_scale = 'var', groupby = 'celltype', swap_axes = True, \n",
    "             save = '_wolffian_ligands')"
   ]
  },
  {
   "cell_type": "code",
   "execution_count": null,
   "metadata": {},
   "outputs": [],
   "source": [
    "sc.pl.dotplot(mull_wolff, var_names = ['RXRG', 'RARG', 'FZD10', 'LRP5',\n",
    "                                    'UNC5B',  'KIT', \n",
    "                                      'CXCR4'], \n",
    "             standard_scale = 'var', groupby = 'celltype', swap_axes = True, \n",
    "             save = '_mullerian_ligands')"
   ]
  },
  {
   "cell_type": "code",
   "execution_count": null,
   "metadata": {},
   "outputs": [],
   "source": []
  }
 ],
 "metadata": {
  "kernelspec": {
   "display_name": "atac_env",
   "language": "python",
   "name": "atac_env"
  },
  "language_info": {
   "codemirror_mode": {
    "name": "ipython",
    "version": 3
   },
   "file_extension": ".py",
   "mimetype": "text/x-python",
   "name": "python",
   "nbconvert_exporter": "python",
   "pygments_lexer": "ipython3",
   "version": "3.8.6"
  }
 },
 "nbformat": 4,
 "nbformat_minor": 4
}
