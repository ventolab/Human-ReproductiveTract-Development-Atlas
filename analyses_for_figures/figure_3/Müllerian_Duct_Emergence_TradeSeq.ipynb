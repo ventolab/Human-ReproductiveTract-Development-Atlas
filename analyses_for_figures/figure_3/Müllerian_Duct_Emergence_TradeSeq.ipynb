{
 "cells": [
  {
   "cell_type": "markdown",
   "metadata": {},
   "source": [
    "## tradeSeq for DE along the Mullerian duct developmental trajectory"
   ]
  },
  {
   "cell_type": "code",
   "execution_count": null,
   "metadata": {},
   "outputs": [],
   "source": [
    "#if (!require(\"BiocManager\", quietly = TRUE))\n",
    "#    install.packages(\"BiocManager\")\n",
    "\n",
    "#BiocManager::install(\"tradeSeq\")"
   ]
  },
  {
   "cell_type": "code",
   "execution_count": null,
   "metadata": {},
   "outputs": [],
   "source": [
    "library(tradeSeq)\n",
    "library(SingleCellExperiment)\n",
    "library(slingshot)"
   ]
  },
  {
   "cell_type": "code",
   "execution_count": null,
   "metadata": {},
   "outputs": [],
   "source": [
    "adata <- readRDS('/nfs/team292/vl6/FetalReproductiveTract/mullerian_early.rds')"
   ]
  },
  {
   "cell_type": "code",
   "execution_count": null,
   "metadata": {},
   "outputs": [],
   "source": [
    "adata"
   ]
  },
  {
   "cell_type": "code",
   "execution_count": null,
   "metadata": {},
   "outputs": [],
   "source": [
    "adata <- slingshot(adata, clusterLabels = 'leiden', \n",
    "                   start.clus = \"6\", end.clus = c(\"1\", \"7\", \"8\"), reducedDim = 'X_draw_graph_fa', \n",
    "                  )"
   ]
  },
  {
   "cell_type": "code",
   "execution_count": null,
   "metadata": {},
   "outputs": [],
   "source": [
    "counts <- assay(adata, \"X\")\n"
   ]
  },
  {
   "cell_type": "code",
   "execution_count": null,
   "metadata": {},
   "outputs": [],
   "source": [
    "adata\n"
   ]
  },
  {
   "cell_type": "code",
   "execution_count": null,
   "metadata": {},
   "outputs": [],
   "source": [
    "head(colData(adata)$slingPseudotime_1)"
   ]
  },
  {
   "cell_type": "code",
   "execution_count": null,
   "metadata": {},
   "outputs": [],
   "source": [
    "library(grDevices)\n",
    "library(RColorBrewer)\n",
    "colors <- colorRampPalette(brewer.pal(11,'Spectral')[-6])(100)\n",
    "plotcol <- colors[cut(adata$slingPseudotime_1, breaks=100)]\n",
    "\n",
    "plot(reducedDims(adata)$X_draw_graph_fa, col = plotcol, pch=16, asp = 1)\n",
    "lines(SlingshotDataSet(adata), type = 'lineages' , lwd=2, col='black')"
   ]
  },
  {
   "cell_type": "code",
   "execution_count": null,
   "metadata": {},
   "outputs": [],
   "source": [
    "library(grDevices)\n",
    "library(RColorBrewer)\n",
    "colors <- colorRampPalette(brewer.pal(11,'Spectral')[-6])(100)\n",
    "plotcol <- colors[cut(adata$slingPseudotime_2, breaks=100)]\n",
    "\n",
    "plot(reducedDims(adata)$X_draw_graph_fa, col = plotcol, pch=16, asp = 1)\n",
    "lines(SlingshotDataSet(adata), type = 'lineages' , lwd=2, col='black')"
   ]
  },
  {
   "cell_type": "code",
   "execution_count": null,
   "metadata": {},
   "outputs": [],
   "source": [
    "library(grDevices)\n",
    "library(RColorBrewer)\n",
    "colors <- colorRampPalette(brewer.pal(11,'Spectral')[-6])(100)\n",
    "plotcol <- colors[cut(adata$slingPseudotime_3, breaks=100)]\n",
    "\n",
    "plot(reducedDims(adata)$X_draw_graph_fa, col = plotcol, pch=16, asp = 1)\n",
    "lines(SlingshotDataSet(adata), type = 'lineages' , lwd=2, col='black')"
   ]
  },
  {
   "cell_type": "code",
   "execution_count": null,
   "metadata": {},
   "outputs": [],
   "source": [
    "adata"
   ]
  },
  {
   "cell_type": "code",
   "execution_count": null,
   "metadata": {},
   "outputs": [],
   "source": [
    "slotNames(SlingshotDataSet(adata))"
   ]
  },
  {
   "cell_type": "code",
   "execution_count": null,
   "metadata": {},
   "outputs": [],
   "source": [
    "SlingshotDataSet(adata)@lineages"
   ]
  },
  {
   "cell_type": "code",
   "execution_count": null,
   "metadata": {},
   "outputs": [],
   "source": [
    " brewer.pal(9,'Set1')"
   ]
  },
  {
   "cell_type": "code",
   "execution_count": null,
   "metadata": {},
   "outputs": [],
   "source": [
    "sort(unique(adata$leiden))"
   ]
  },
  {
   "cell_type": "code",
   "execution_count": null,
   "metadata": {},
   "outputs": [],
   "source": [
    "brewer.pal(9,'Set1')"
   ]
  },
  {
   "cell_type": "code",
   "execution_count": null,
   "metadata": {},
   "outputs": [],
   "source": [
    "palette = c('#EEE8AA', '#FFD700', '#ADFF2F', '#66CDAA', '#FFFF00', '#90EE90', '#BDB76B',\n",
    "            '#008080', '#9ACD32', '#FFE4B5', '#db8b96')"
   ]
  },
  {
   "cell_type": "code",
   "execution_count": null,
   "metadata": {},
   "outputs": [],
   "source": [
    "pdf('/home/jovyan/RepTract/FA_lineages.pdf', width = 6, height = 6.5)\n",
    "plot(reducedDims(adata)$X_draw_graph_fa, col = palette[adata$leiden], pch=16, asp = 0.4)\n",
    "lines(SlingshotDataSet(adata), type = 'lineages' , lwd=1.5, col='black')\n",
    "legend(\"topright\", legend=sort(unique(adata$leiden)), title=\"leiden\", \n",
    "       col = palette, pch = 16) \n",
    "dev.off()"
   ]
  },
  {
   "cell_type": "code",
   "execution_count": null,
   "metadata": {},
   "outputs": [],
   "source": [
    "palette_stage = c('#440154', '#482878', '#3e4989', '#31688e', '#26828e', '#1f9e89', '#35b779', '#6ece58', '#b5de2b', '#fde725')"
   ]
  },
  {
   "cell_type": "code",
   "execution_count": null,
   "metadata": {},
   "outputs": [],
   "source": [
    "pdf('/home/jovyan/RepTract/FA_stages.pdf', width = 6, height = 6)\n",
    "plot(reducedDims(adata)$X_draw_graph_fa, col = adata$stage_pcw, palette = palette_stage, pch=16, asp = 0.7)\n",
    "#lines(SlingshotDataSet(adata), type = 'lineages' , lwd=2, col='black')\n",
    "#legend(\"topright\", legend=sort(unique(adata$stage)), title=\"stage\", \n",
    "#       col = palette, pch = 16) \n",
    "dev.off()"
   ]
  },
  {
   "cell_type": "code",
   "execution_count": null,
   "metadata": {},
   "outputs": [],
   "source": [
    "palette_sex = c('#FFB6C1', '#AFEEEE')"
   ]
  },
  {
   "cell_type": "code",
   "execution_count": null,
   "metadata": {},
   "outputs": [],
   "source": [
    "adata$sex <- factor(adata$sex, levels = c(\"female\", \"male\"))"
   ]
  },
  {
   "cell_type": "code",
   "execution_count": null,
   "metadata": {},
   "outputs": [],
   "source": [
    "pdf('/home/jovyan/RepTract/FA_sex.pdf', width = 6, height = 6.5)\n",
    "palette_sex_transparent <- sapply(palette_sex, adjustcolor)\n",
    "plot(reducedDims(adata)$X_draw_graph_fa, col = palette_sex_transparent[adata$sex], pch=16, asp = 0.4)\n",
    "#lines(SlingshotDataSet(adata), type = 'lineages' , lwd=2, col='black')\n",
    "legend(\"topright\", legend=sort(unique(adata$sex)), title=\"sex\", \n",
    "       col = palette_sex, pch = 16) \n",
    "dev.off()"
   ]
  },
  {
   "cell_type": "code",
   "execution_count": null,
   "metadata": {},
   "outputs": [],
   "source": [
    "adata"
   ]
  },
  {
   "cell_type": "code",
   "execution_count": null,
   "metadata": {},
   "outputs": [],
   "source": [
    "SlingshotDataSet(adata)"
   ]
  },
  {
   "cell_type": "code",
   "execution_count": null,
   "metadata": {},
   "outputs": [],
   "source": [
    "set.seed(7)\n",
    "pseudotime <- slingPseudotime(SlingshotDataSet(adata), na = FALSE)\n",
    "cellWeights <- slingCurveWeights(SlingshotDataSet(adata))"
   ]
  },
  {
   "cell_type": "code",
   "execution_count": null,
   "metadata": {},
   "outputs": [],
   "source": [
    "library(scran)"
   ]
  },
  {
   "cell_type": "code",
   "execution_count": null,
   "metadata": {},
   "outputs": [],
   "source": [
    "libsizes <- colSums(counts)\n",
    "size.factors <- libsizes/mean(libsizes)\n",
    "logcounts(adata) <- log2(t(t(counts)/size.factors) + 1)\n",
    "assayNames(adata)"
   ]
  },
  {
   "cell_type": "code",
   "execution_count": null,
   "metadata": {},
   "outputs": [],
   "source": [
    "# Filter genes with non-zero biological components\n",
    "getVariableGenes <- function(adata,fdr_thresh=NULL,var_thresh=0) {\n",
    "  gene_var <- modelGeneVar(adata)\n",
    "  genes <- getTopHVGs(gene_var, var.threshold =var_thresh ,fdr.threshold = fdr_thresh)\n",
    "  return(genes)\n",
    "}"
   ]
  },
  {
   "cell_type": "code",
   "execution_count": null,
   "metadata": {},
   "outputs": [],
   "source": [
    "genes <- getVariableGenes(adata)"
   ]
  },
  {
   "cell_type": "code",
   "execution_count": null,
   "metadata": {},
   "outputs": [],
   "source": [
    "length(genes)"
   ]
  },
  {
   "cell_type": "code",
   "execution_count": null,
   "metadata": {},
   "outputs": [],
   "source": [
    "dim(counts[genes,])"
   ]
  },
  {
   "cell_type": "code",
   "execution_count": null,
   "metadata": {},
   "outputs": [],
   "source": [
    "# icMat <- evaluateK(counts = counts, sds = SlingshotDataSet(adata), k = 5:15, \n",
    "#                    nGenes = 200, verbose = T)"
   ]
  },
  {
   "cell_type": "code",
   "execution_count": null,
   "metadata": {},
   "outputs": [],
   "source": [
    "sce <- fitGAM(counts = counts[genes,], pseudotime = pseudotime, cellWeights = cellWeights, nknots = 8,\n",
    "                verbose = TRUE, parallel = TRUE)"
   ]
  },
  {
   "cell_type": "code",
   "execution_count": null,
   "metadata": {},
   "outputs": [],
   "source": [
    "table(rowData(sce)$tradeSeq$converged)"
   ]
  },
  {
   "cell_type": "code",
   "execution_count": null,
   "metadata": {},
   "outputs": [],
   "source": [
    "adata <- adata[genes, ]"
   ]
  },
  {
   "cell_type": "code",
   "execution_count": null,
   "metadata": {},
   "outputs": [],
   "source": [
    "adata"
   ]
  },
  {
   "cell_type": "code",
   "execution_count": null,
   "metadata": {},
   "outputs": [],
   "source": [
    "saveRDS(sce, \"/nfs/team292/vl6/FetalReproductiveTract/mullerian_emergence_gam.rds\")"
   ]
  },
  {
   "cell_type": "code",
   "execution_count": null,
   "metadata": {},
   "outputs": [],
   "source": [
    "sce <- readRDS('/nfs/team292/vl6/FetalReproductiveTract/mullerian_emergence_gam.rds')"
   ]
  },
  {
   "cell_type": "code",
   "execution_count": null,
   "metadata": {},
   "outputs": [],
   "source": [
    "sce"
   ]
  },
  {
   "cell_type": "code",
   "execution_count": null,
   "metadata": {},
   "outputs": [],
   "source": [
    "assoRes <- associationTest(sce, lineages = TRUE)\n",
    "head(assoRes)"
   ]
  },
  {
   "cell_type": "code",
   "execution_count": null,
   "metadata": {},
   "outputs": [],
   "source": [
    "write.csv(assoRes, file = \"/home/jovyan/SupplementaryTable6.csv\")\n"
   ]
  },
  {
   "cell_type": "code",
   "execution_count": null,
   "metadata": {},
   "outputs": [],
   "source": [
    "dim(assoRes)"
   ]
  },
  {
   "cell_type": "code",
   "execution_count": null,
   "metadata": {},
   "outputs": [],
   "source": [
    "assoRes['PNOC',]"
   ]
  },
  {
   "cell_type": "code",
   "execution_count": null,
   "metadata": {},
   "outputs": [],
   "source": [
    "assoRes['TMEM163',]"
   ]
  },
  {
   "cell_type": "code",
   "execution_count": null,
   "metadata": {},
   "outputs": [],
   "source": [
    "assoRes['SP7',]"
   ]
  },
  {
   "cell_type": "code",
   "execution_count": null,
   "metadata": {},
   "outputs": [],
   "source": [
    "assoRes['MMP28',]"
   ]
  },
  {
   "cell_type": "code",
   "execution_count": null,
   "metadata": {},
   "outputs": [],
   "source": [
    "assoRes['RXRG',]"
   ]
  },
  {
   "cell_type": "code",
   "execution_count": null,
   "metadata": {},
   "outputs": [],
   "source": [
    "assoRes['FGF20',]"
   ]
  },
  {
   "cell_type": "code",
   "execution_count": null,
   "metadata": {},
   "outputs": [],
   "source": [
    "assoRes['LYPD1',]"
   ]
  },
  {
   "cell_type": "code",
   "execution_count": null,
   "metadata": {},
   "outputs": [],
   "source": [
    "assoRes['WIF1',]"
   ]
  },
  {
   "cell_type": "code",
   "execution_count": null,
   "metadata": {},
   "outputs": [],
   "source": [
    "assoRes['GDNF',]"
   ]
  },
  {
   "cell_type": "code",
   "execution_count": null,
   "metadata": {},
   "outputs": [],
   "source": [
    "assoRes['CALCA',]"
   ]
  },
  {
   "cell_type": "code",
   "execution_count": null,
   "metadata": {},
   "outputs": [],
   "source": [
    "assoRes['NOTUM',]"
   ]
  },
  {
   "cell_type": "code",
   "execution_count": null,
   "metadata": {},
   "outputs": [],
   "source": [
    "assoRes['NKD1',]"
   ]
  },
  {
   "cell_type": "code",
   "execution_count": null,
   "metadata": {},
   "outputs": [],
   "source": [
    "assoRes['GAL',]"
   ]
  },
  {
   "cell_type": "markdown",
   "metadata": {},
   "source": [
    "## Filtering across lineages"
   ]
  },
  {
   "cell_type": "code",
   "execution_count": null,
   "metadata": {},
   "outputs": [],
   "source": [
    "assoRes = assoRes[assoRes$pvalue < 0.001,]\n",
    "dim(assoRes)"
   ]
  },
  {
   "cell_type": "code",
   "execution_count": null,
   "metadata": {},
   "outputs": [],
   "source": [
    "assoRes = assoRes[assoRes$waldStat > 100,]\n",
    "dim(assoRes)"
   ]
  },
  {
   "cell_type": "markdown",
   "metadata": {},
   "source": [
    "## Filtering within lineages"
   ]
  },
  {
   "cell_type": "code",
   "execution_count": null,
   "metadata": {},
   "outputs": [],
   "source": [
    "library(dplyr)"
   ]
  },
  {
   "cell_type": "code",
   "execution_count": null,
   "metadata": {},
   "outputs": [],
   "source": [
    "lineage1 = assoRes %>% filter(waldStat_1 >= 150) %>% filter(pvalue_1 < 0.0001) %>% filter(waldStat_3 < 300) %>% filter(waldStat_2 < 300)"
   ]
  },
  {
   "cell_type": "code",
   "execution_count": null,
   "metadata": {},
   "outputs": [],
   "source": [
    "dim(lineage1)"
   ]
  },
  {
   "cell_type": "code",
   "execution_count": null,
   "metadata": {},
   "outputs": [],
   "source": [
    "write.csv(lineage1, \"/home/jovyan/MüllerianEmergence_TradeSeq_MeseMale.csv\", row.names = TRUE)"
   ]
  },
  {
   "cell_type": "code",
   "execution_count": null,
   "metadata": {},
   "outputs": [],
   "source": [
    "lineage2 = assoRes %>% filter(waldStat_2 >= 150) %>% filter(pvalue_2 < 0.0001) %>% filter(waldStat_3 < 150) %>% filter(waldStat_1 < 150)"
   ]
  },
  {
   "cell_type": "code",
   "execution_count": null,
   "metadata": {},
   "outputs": [],
   "source": [
    "dim(lineage2)"
   ]
  },
  {
   "cell_type": "code",
   "execution_count": null,
   "metadata": {},
   "outputs": [],
   "source": [
    "write.csv(lineage2, \"/home/jovyan/MüllerianEmergence_TradeSeq_Epi.csv\", row.names = TRUE)"
   ]
  },
  {
   "cell_type": "code",
   "execution_count": null,
   "metadata": {},
   "outputs": [],
   "source": [
    "lineage3 = assoRes %>% filter(waldStat_3 >= 150) %>% filter(pvalue_3 < 0.0001) %>% filter(waldStat_2 < 300) %>% filter(waldStat_1 < 300)"
   ]
  },
  {
   "cell_type": "code",
   "execution_count": null,
   "metadata": {},
   "outputs": [],
   "source": [
    "dim(lineage3)"
   ]
  },
  {
   "cell_type": "code",
   "execution_count": null,
   "metadata": {},
   "outputs": [],
   "source": [
    "write.csv(lineage3, \"/home/jovyan/MüllerianEmergence_TradeSeq_MeseFemale.csv\", row.names = TRUE)"
   ]
  },
  {
   "cell_type": "code",
   "execution_count": null,
   "metadata": {},
   "outputs": [],
   "source": [
    "lineage1['ADRA2A',]"
   ]
  },
  {
   "cell_type": "markdown",
   "metadata": {},
   "source": [
    "# Plot selected markers per lineage"
   ]
  },
  {
   "cell_type": "markdown",
   "metadata": {},
   "source": [
    "## Mullerian mesenchyme female"
   ]
  },
  {
   "cell_type": "code",
   "execution_count": null,
   "metadata": {},
   "outputs": [],
   "source": [
    "# PELI1 \n",
    "PELI1 <- plotSmoothers(sce, counts, gene = 'PELI1', alpha =0, \n",
    "                     xlab = \"pseudotime\",\n",
    "  ylab = \"Log(expression + 1)\", border = FALSE) + ggtitle(\"PELI1\") + theme(title = element_text(size = 20, face = 'bold'), axis.title=element_text(size=20), axis.text=element_text(size=20), legend.text = element_text(size=20),\n",
    "     legend.title = element_text(size=20, face = \"bold\"))+ theme_light()+ ylim(0, 2)\n",
    "PELI1"
   ]
  },
  {
   "cell_type": "code",
   "execution_count": null,
   "metadata": {},
   "outputs": [],
   "source": [
    "# TMEM163 \n",
    "TMEM163 <- plotSmoothers(sce, counts, gene = 'TMEM163', alpha =0, \n",
    "                     xlab = \"pseudotime\",\n",
    "  ylab = \"Log(expression + 1)\", border = FALSE) + ggtitle(\"TMEM163\") + theme(title = element_text(size = 20, face = 'bold'), axis.title=element_text(size=20), axis.text=element_text(size=20), legend.text = element_text(size=20),\n",
    "     legend.title = element_text(size=20, face = \"bold\"))+ theme_light()+ ylim(0, 1.4)\n",
    "TMEM163"
   ]
  },
  {
   "cell_type": "code",
   "execution_count": null,
   "metadata": {},
   "outputs": [],
   "source": [
    "# EVA1B \n",
    "EVA1B <- plotSmoothers(sce, counts, gene = 'ALDH1A1', alpha =0, \n",
    "                     xlab = \"pseudotime\",\n",
    "  ylab = \"Log(expression + 1)\", border = FALSE) + ggtitle(\"ALDH1A1\") + theme(title = element_text(size = 20, face = 'bold'), axis.title=element_text(size=20), axis.text=element_text(size=20), legend.text = element_text(size=20),\n",
    "     legend.title = element_text(size=20, face = \"bold\"))+ theme_light()+ ylim(0, 3)\n",
    "EVA1B"
   ]
  },
  {
   "cell_type": "code",
   "execution_count": null,
   "metadata": {},
   "outputs": [],
   "source": [
    "# PLXDC1 \n",
    "PLXDC1 <- plotSmoothers(sce, counts, gene = 'PLXDC1', alpha =0, \n",
    "                     xlab = \"pseudotime\",\n",
    "  ylab = \"Log(expression + 1)\", border = FALSE) + ggtitle(\"PLXDC1\") + theme(title = element_text(size = 20, face = 'bold'), axis.title=element_text(size=20), axis.text=element_text(size=20), legend.text = element_text(size=20),\n",
    "     legend.title = element_text(size=20, face = \"bold\"))+ theme_light()+ ylim(0, 1.5)\n",
    "PLXDC1"
   ]
  },
  {
   "cell_type": "code",
   "execution_count": null,
   "metadata": {},
   "outputs": [],
   "source": [
    "# ZAP70 \n",
    "ZAP70 <- plotSmoothers(sce, counts, gene = 'ZAP70', alpha =0, \n",
    "                     xlab = \"pseudotime\",\n",
    "  ylab = \"Log(expression + 1)\", border = FALSE) + ggtitle(\"ZAP70\") + theme(title = element_text(size = 20, face = 'bold'), axis.title=element_text(size=20), axis.text=element_text(size=20), legend.text = element_text(size=20),\n",
    "     legend.title = element_text(size=20, face = \"bold\"))+ theme_light()+ ylim(0, 1)\n",
    "ZAP70"
   ]
  },
  {
   "cell_type": "code",
   "execution_count": null,
   "metadata": {},
   "outputs": [],
   "source": []
  },
  {
   "cell_type": "code",
   "execution_count": null,
   "metadata": {},
   "outputs": [],
   "source": [
    "# EDNRA \n",
    "EDNRA <- plotSmoothers(sce, counts, gene = 'EDNRA', alpha =0, \n",
    "                     xlab = \"pseudotime\",\n",
    "  ylab = \"Log(expression + 1)\", border = FALSE) + ggtitle(\"EDNRA\") + theme(title = element_text(size = 20, face = 'bold'), axis.title=element_text(size=20), axis.text=element_text(size=20), legend.text = element_text(size=20),\n",
    "     legend.title = element_text(size=20, face = \"bold\"))+ theme_light()+ ylim(0, 3)\n",
    "EDNRA"
   ]
  },
  {
   "cell_type": "code",
   "execution_count": null,
   "metadata": {},
   "outputs": [],
   "source": [
    "# EDNRA \n",
    "ENTPD1 <- plotSmoothers(sce, counts, gene = 'ENTPD1', alpha =0, \n",
    "                     xlab = \"pseudotime\",\n",
    "  ylab = \"Log(expression + 1)\", border = FALSE) + ggtitle(\"ENTPD1\") + theme(title = element_text(size = 20, face = 'bold'), axis.title=element_text(size=20), axis.text=element_text(size=20), legend.text = element_text(size=20),\n",
    "     legend.title = element_text(size=20, face = \"bold\"))+ theme_light()+ ylim(0, 1)\n",
    "ENTPD1\n"
   ]
  },
  {
   "cell_type": "code",
   "execution_count": null,
   "metadata": {},
   "outputs": [],
   "source": [
    "# MMP28 \n",
    "THBS4 <- plotSmoothers(sce, counts, gene = 'THBS4', alpha =0, \n",
    "                     xlab = \"pseudotime\",\n",
    "  ylab = \"Log(expression + 1)\", border = FALSE) + ggtitle(\"THBS4\") + theme(title = element_text(size = 20, face = 'bold'), axis.title=element_text(size=20), axis.text=element_text(size=20), legend.text = element_text(size=20),\n",
    "     legend.title = element_text(size=20, face = \"bold\"))+ theme_light()+ ylim(0, 1.8)\n",
    "THBS4"
   ]
  },
  {
   "cell_type": "code",
   "execution_count": null,
   "metadata": {},
   "outputs": [],
   "source": [
    "# ECM1 \n",
    "ECM1 <- plotSmoothers(sce, counts, gene = 'ECM1', alpha =0, \n",
    "                     xlab = \"pseudotime\",\n",
    "  ylab = \"Log(expression + 1)\", border = FALSE) + ggtitle(\"ECM1\") + theme(title = element_text(size = 20, face = 'bold'), axis.title=element_text(size=20), axis.text=element_text(size=20), legend.text = element_text(size=20),\n",
    "     legend.title = element_text(size=20, face = \"bold\"))+ theme_light()+ ylim(0, 1)\n",
    "ECM1"
   ]
  },
  {
   "cell_type": "code",
   "execution_count": null,
   "metadata": {},
   "outputs": [],
   "source": [
    "# TNFRSF21 \n",
    "TNFRSF21 <- plotSmoothers(sce, counts, gene = 'TNFRSF21', alpha =0, \n",
    "                     xlab = \"pseudotime\",\n",
    "  ylab = \"Log(expression + 1)\", border = FALSE) + ggtitle(\"TNFRSF21\") + theme(title = element_text(size = 20, face = 'bold'), axis.title=element_text(size=20), axis.text=element_text(size=20), legend.text = element_text(size=20),\n",
    "     legend.title = element_text(size=20, face = \"bold\"))+ theme_light()+ ylim(0, 1.3)\n",
    "TNFRSF21\n"
   ]
  },
  {
   "cell_type": "code",
   "execution_count": null,
   "metadata": {},
   "outputs": [],
   "source": [
    "# CXCR4 \n",
    "CXCR4 <- plotSmoothers(sce, counts, gene = 'CXCR4', alpha =0, \n",
    "                     xlab = \"pseudotime\",\n",
    "  ylab = \"Log(expression + 1)\", border = FALSE) + ggtitle(\"CXCR4\") + theme(title = element_text(size = 20, face = 'bold'), axis.title=element_text(size=20), axis.text=element_text(size=20), legend.text = element_text(size=20),\n",
    "     legend.title = element_text(size=20, face = \"bold\"))+ theme_light()+ ylim(0, 1.4)\n",
    "CXCR4\n"
   ]
  },
  {
   "cell_type": "code",
   "execution_count": null,
   "metadata": {},
   "outputs": [],
   "source": [
    "# LAMC3 \n",
    "LAMC3 <- plotSmoothers(sce, counts, gene = 'LAMC3', alpha =0, \n",
    "                     xlab = \"pseudotime\",\n",
    "  ylab = \"Log(expression + 1)\", border = FALSE) + ggtitle(\"LAMC3\") + theme(title = element_text(size = 20, face = 'bold'), axis.title=element_text(size=20), axis.text=element_text(size=20), legend.text = element_text(size=20),\n",
    "     legend.title = element_text(size=20, face = \"bold\"))+ theme_light()+ ylim(0, 1)\n",
    "LAMC3\n"
   ]
  },
  {
   "cell_type": "code",
   "execution_count": null,
   "metadata": {},
   "outputs": [],
   "source": [
    "# IGFBP3 \n",
    "IGFBP3 <- plotSmoothers(sce, counts, gene = 'IGFBP3', alpha =0, \n",
    "                     xlab = \"pseudotime\",\n",
    "  ylab = \"Log(expression + 1)\", border = FALSE) + ggtitle(\"IGFBP3\") + theme(title = element_text(size = 20, face = 'bold'), axis.title=element_text(size=20), axis.text=element_text(size=20), legend.text = element_text(size=20),\n",
    "     legend.title = element_text(size=20, face = \"bold\"))+ theme_light()+ ylim(0, 3)\n",
    "IGFBP3\n"
   ]
  },
  {
   "cell_type": "code",
   "execution_count": null,
   "metadata": {},
   "outputs": [],
   "source": [
    "# PCLAF \n",
    "PCLAF <- plotSmoothers(sce, counts, gene = 'PCLAF', alpha =0, \n",
    "                     xlab = \"pseudotime\",\n",
    "  ylab = \"Log(expression + 1)\", border = FALSE) + ggtitle(\"PCLAF\") + theme(title = element_text(size = 20, face = 'bold'), axis.title=element_text(size=20), axis.text=element_text(size=20), legend.text = element_text(size=20),\n",
    "     legend.title = element_text(size=20, face = \"bold\"))+ theme_light()+ ylim(0, 2)\n",
    "PCLAF\n"
   ]
  },
  {
   "cell_type": "code",
   "execution_count": null,
   "metadata": {},
   "outputs": [],
   "source": [
    "# PCLAF \n",
    "CNTN1 <- plotSmoothers(sce, counts, gene = 'CNTN1', alpha =0, \n",
    "                     xlab = \"pseudotime\",\n",
    "  ylab = \"Log(expression + 1)\", border = FALSE) + ggtitle(\"CNTN1\") + theme(title = element_text(size = 20, face = 'bold'), axis.title=element_text(size=20), axis.text=element_text(size=20), legend.text = element_text(size=20),\n",
    "     legend.title = element_text(size=20, face = \"bold\"))+ theme_light()+ ylim(0, 1.7)\n",
    "CNTN1\n"
   ]
  },
  {
   "cell_type": "code",
   "execution_count": null,
   "metadata": {},
   "outputs": [],
   "source": [
    "# PCLAF \n",
    "NID1 <- plotSmoothers(sce, counts, gene = 'NID1', alpha =0, \n",
    "                     xlab = \"pseudotime\",\n",
    "  ylab = \"Log(expression + 1)\", border = FALSE) + ggtitle(\"NID1\") + theme(title = element_text(size = 20, face = 'bold'), axis.title=element_text(size=20), axis.text=element_text(size=20), legend.text = element_text(size=20),\n",
    "     legend.title = element_text(size=20, face = \"bold\"))+ theme_light()+ ylim(0, 1.2)\n",
    "NID1\n"
   ]
  },
  {
   "cell_type": "code",
   "execution_count": null,
   "metadata": {},
   "outputs": [],
   "source": [
    "# PCLAF \n",
    "CPED1 <- plotSmoothers(sce, counts, gene = 'CPED1', alpha =0, \n",
    "                     xlab = \"pseudotime\",\n",
    "  ylab = \"Log(expression + 1)\", border = FALSE) + ggtitle(\"CPED1\") + theme(title = element_text(size = 20, face = 'bold'), axis.title=element_text(size=20), axis.text=element_text(size=20), legend.text = element_text(size=20),\n",
    "     legend.title = element_text(size=20, face = \"bold\"))+ theme_light()+ ylim(0, 1.3)\n",
    "CPED1"
   ]
  },
  {
   "cell_type": "markdown",
   "metadata": {},
   "source": [
    "### Save plots"
   ]
  },
  {
   "cell_type": "code",
   "execution_count": null,
   "metadata": {},
   "outputs": [],
   "source": [
    "library(gridExtra)"
   ]
  },
  {
   "cell_type": "code",
   "execution_count": null,
   "metadata": {},
   "outputs": [],
   "source": [
    "p_mullerian_mese_female <- grid.arrange(CNTN1, PLXDC1, TMEM163, ZAP70, PELI1, THBS4,\n",
    "                                        nrow = 1, ncol = 6)"
   ]
  },
  {
   "cell_type": "code",
   "execution_count": null,
   "metadata": {},
   "outputs": [],
   "source": [
    "ggsave('/home/jovyan/RepTract/figures-epithelial/mullerian_mesenchyme_female_tradeseq.pdf',\n",
    "       plot = p_mullerian_mese_female,\n",
    "       width = 21, height = 3, dpi = 300)"
   ]
  },
  {
   "cell_type": "markdown",
   "metadata": {},
   "source": [
    "## Mullerian mesenchyme male"
   ]
  },
  {
   "cell_type": "code",
   "execution_count": null,
   "metadata": {},
   "outputs": [],
   "source": [
    "# HRC \n",
    "HRC <- plotSmoothers(sce, counts, gene = 'HRC', alpha =0, \n",
    "                     xlab = \"pseudotime\",\n",
    "  ylab = \"Log(expression + 1)\", border = FALSE) + ggtitle(\"HRC\") + theme(title = element_text(size = 20, face = 'bold'), axis.title=element_text(size=20), axis.text=element_text(size=20), legend.text = element_text(size=20),\n",
    "     legend.title = element_text(size=20, face = \"bold\"))+ theme_light()+ ylim(0, 1)\n",
    "HRC\n"
   ]
  },
  {
   "cell_type": "code",
   "execution_count": null,
   "metadata": {},
   "outputs": [],
   "source": [
    "# HRC \n",
    "LAMP5 <- plotSmoothers(sce, counts, gene = 'LAMP5', alpha =0, \n",
    "                     xlab = \"pseudotime\",\n",
    "  ylab = \"Log(expression + 1)\", border = FALSE) + ggtitle(\"LAMP5\") + theme(title = element_text(size = 20, face = 'bold'), axis.title=element_text(size=20), axis.text=element_text(size=20), legend.text = element_text(size=20),\n",
    "     legend.title = element_text(size=20, face = \"bold\"))+ theme_light()+ ylim(0, 1.2)\n",
    "LAMP5\n"
   ]
  },
  {
   "cell_type": "code",
   "execution_count": null,
   "metadata": {},
   "outputs": [],
   "source": [
    "# HRC \n",
    "DLX5 <- plotSmoothers(sce, counts, gene = 'DLX5', alpha =0, \n",
    "                     xlab = \"pseudotime\",\n",
    "  ylab = \"Log(expression + 1)\", border = FALSE) + ggtitle(\"DLX5\") + theme(title = element_text(size = 20, face = 'bold'), axis.title=element_text(size=20), axis.text=element_text(size=20), legend.text = element_text(size=20),\n",
    "     legend.title = element_text(size=20, face = \"bold\"))+ theme_light()+ ylim(0, 1.3)\n",
    "DLX5\n"
   ]
  },
  {
   "cell_type": "code",
   "execution_count": null,
   "metadata": {},
   "outputs": [],
   "source": [
    "# NOTUM \n",
    "NOTUM <- plotSmoothers(sce, counts, gene = 'NOTUM', alpha =0, \n",
    "                     xlab = \"pseudotime\",\n",
    "  ylab = \"Log(expression + 1)\", border = FALSE) + ggtitle(\"NOTUM\") + theme(title = element_text(size = 20, face = 'bold'), axis.title=element_text(size=20), axis.text=element_text(size=20), legend.text = element_text(size=20),\n",
    "     legend.title = element_text(size=20, face = \"bold\"))+ theme_light()+ ylim(0, 1.7)\n",
    "NOTUM\n"
   ]
  },
  {
   "cell_type": "code",
   "execution_count": null,
   "metadata": {},
   "outputs": [],
   "source": [
    "# WIF1 \n",
    "WIF1 <- plotSmoothers(sce, counts, gene = 'WIF1', alpha =0, \n",
    "                     xlab = \"pseudotime\",\n",
    "  ylab = \"Log(expression + 1)\", border = FALSE) + ggtitle(\"WIF1\") + theme(title = element_text(size = 20, face = 'bold'), axis.title=element_text(size=20), axis.text=element_text(size=20), legend.text = element_text(size=20),\n",
    "     legend.title = element_text(size=20, face = \"bold\"))+ theme_light()+ ylim(0, 1.3)\n",
    "WIF1\n"
   ]
  },
  {
   "cell_type": "code",
   "execution_count": null,
   "metadata": {},
   "outputs": [],
   "source": [
    "# SP7 \n",
    "SP7 <- plotSmoothers(sce, counts, gene = 'SP7', alpha =0, \n",
    "                     xlab = \"pseudotime\",\n",
    "  ylab = \"Log(expression + 1)\", border = FALSE) + ggtitle(\"SP7\") + theme(title = element_text(size = 20, face = 'bold'), axis.title=element_text(size=20), axis.text=element_text(size=20), legend.text = element_text(size=20),\n",
    "     legend.title = element_text(size=20, face = \"bold\"))+ theme_light()+ ylim(0, 1.2)\n",
    "SP7\n"
   ]
  },
  {
   "cell_type": "code",
   "execution_count": null,
   "metadata": {},
   "outputs": [],
   "source": [
    "# NKD1 \n",
    "NKD1 <- plotSmoothers(sce, counts, gene = 'NKD1', alpha =0, \n",
    "                     xlab = \"pseudotime\",\n",
    "  ylab = \"Log(expression + 1)\", border = FALSE) + ggtitle(\"NKD1\") + theme(title = element_text(size = 20, face = 'bold'), axis.title=element_text(size=20), axis.text=element_text(size=20), legend.text = element_text(size=20),\n",
    "     legend.title = element_text(size=20, face = \"bold\"))+ theme_light()+ ylim(0, 2.3)\n",
    "NKD1\n"
   ]
  },
  {
   "cell_type": "code",
   "execution_count": null,
   "metadata": {},
   "outputs": [],
   "source": [
    "# AR \n",
    "AR <- plotSmoothers(sce, counts, gene = 'AR', alpha =0, \n",
    "                     xlab = \"pseudotime\",\n",
    "  ylab = \"Log(expression + 1)\", border = FALSE) + ggtitle(\"AR\") + theme(title = element_text(size = 20, face = 'bold'), axis.title=element_text(size=20), axis.text=element_text(size=20), legend.text = element_text(size=20),\n",
    "     legend.title = element_text(size=20, face = \"bold\"))+ theme_light()+ ylim(0, 0.75)\n",
    "AR\n"
   ]
  },
  {
   "cell_type": "code",
   "execution_count": null,
   "metadata": {},
   "outputs": [],
   "source": [
    "# AR \n",
    "BCAN <- plotSmoothers(sce, counts, gene = 'BCAN', alpha =0, \n",
    "                     xlab = \"pseudotime\",\n",
    "  ylab = \"Log(expression + 1)\", border = FALSE) + ggtitle(\"BCAN\") + theme(title = element_text(size = 20, face = 'bold'), axis.title=element_text(size=20), axis.text=element_text(size=20), legend.text = element_text(size=20),\n",
    "     legend.title = element_text(size=20, face = \"bold\"))+ theme_light()+ ylim(0, 1)\n",
    "BCAN\n"
   ]
  },
  {
   "cell_type": "code",
   "execution_count": null,
   "metadata": {},
   "outputs": [],
   "source": [
    "# AR \n",
    "GAL <- plotSmoothers(sce, counts, gene = 'GAL', alpha =0, \n",
    "                     xlab = \"pseudotime\",\n",
    "  ylab = \"Log(expression + 1)\", border = FALSE) + ggtitle(\"GAL\") + theme(title = element_text(size = 20, face = 'bold'), axis.title=element_text(size=20), axis.text=element_text(size=20), legend.text = element_text(size=20),\n",
    "     legend.title = element_text(size=20, face = \"bold\"))+ theme_light()+ ylim(0, 0.65)\n",
    "GAL\n"
   ]
  },
  {
   "cell_type": "code",
   "execution_count": null,
   "metadata": {},
   "outputs": [],
   "source": [
    "# AR \n",
    "COX7A1 <- plotSmoothers(sce, counts, gene = 'COX7A1', alpha =0, \n",
    "                     xlab = \"pseudotime\",\n",
    "  ylab = \"Log(expression + 1)\", border = FALSE) + ggtitle(\"COX7A1\") + theme(title = element_text(size = 20, face = 'bold'), axis.title=element_text(size=20), axis.text=element_text(size=20), legend.text = element_text(size=20),\n",
    "     legend.title = element_text(size=20, face = \"bold\"))+ theme_light()+ ylim(0, 0.75)\n",
    "COX7A1"
   ]
  },
  {
   "cell_type": "code",
   "execution_count": null,
   "metadata": {},
   "outputs": [],
   "source": [
    "# AR \n",
    "ADRA2A <- plotSmoothers(sce, counts, gene = 'ADRA2A', alpha =0, \n",
    "                     xlab = \"pseudotime\",\n",
    "  ylab = \"Log(expression + 1)\", border = FALSE) + ggtitle(\"ADRA2A\") + theme(title = element_text(size = 20, face = 'bold'), axis.title=element_text(size=20), axis.text=element_text(size=20), legend.text = element_text(size=20),\n",
    "     legend.title = element_text(size=20, face = \"bold\"))+ theme_light()+ ylim(0, 0.9)\n",
    "ADRA2A"
   ]
  },
  {
   "cell_type": "code",
   "execution_count": null,
   "metadata": {},
   "outputs": [],
   "source": []
  },
  {
   "cell_type": "code",
   "execution_count": null,
   "metadata": {},
   "outputs": [],
   "source": []
  },
  {
   "cell_type": "code",
   "execution_count": null,
   "metadata": {},
   "outputs": [],
   "source": [
    "p_mullerian_mese_male <- grid.arrange(WIF1, SP7, NKD1, NOTUM, ADRA2A, GAL,  nrow = 1, ncol = 6)"
   ]
  },
  {
   "cell_type": "code",
   "execution_count": null,
   "metadata": {},
   "outputs": [],
   "source": [
    "ggsave('/home/jovyan/RepTract/figures-epithelial/mullerian_mesenchyme_male_tradeseq.pdf',\n",
    "       plot = p_mullerian_mese_male,\n",
    "       width = 21, height = 3, dpi = 300)\n"
   ]
  },
  {
   "cell_type": "markdown",
   "metadata": {},
   "source": [
    "## Mullerian epithelium"
   ]
  },
  {
   "cell_type": "code",
   "execution_count": null,
   "metadata": {},
   "outputs": [],
   "source": [
    "head(endRes_sig)"
   ]
  },
  {
   "cell_type": "code",
   "execution_count": null,
   "metadata": {},
   "outputs": [],
   "source": [
    "lineage2 <- endRes_sig %>% filter(logFC1_2 < -4.5 & logFC2_3 > 4.5) %>% filter(waldStat > 70) %>%\n",
    "arrange(desc(waldStat)) "
   ]
  },
  {
   "cell_type": "code",
   "execution_count": null,
   "metadata": {},
   "outputs": [],
   "source": [
    "dim(lineage2)"
   ]
  },
  {
   "cell_type": "code",
   "execution_count": null,
   "metadata": {},
   "outputs": [],
   "source": [
    "endRes_sig['FGF20', ]"
   ]
  },
  {
   "cell_type": "code",
   "execution_count": null,
   "metadata": {},
   "outputs": [],
   "source": [
    "lineage2_top <- row.names(lineage2)[1:69]"
   ]
  },
  {
   "cell_type": "code",
   "execution_count": null,
   "metadata": {},
   "outputs": [],
   "source": [
    "lineage2_top"
   ]
  },
  {
   "cell_type": "code",
   "execution_count": null,
   "metadata": {},
   "outputs": [],
   "source": [
    "# Write the character vector to a text file\n",
    "writeLines(lineage2_top, \"/nfs/team292/vl6/FetalReproductiveTract/mullerian_epi_genes.txt\")"
   ]
  },
  {
   "cell_type": "code",
   "execution_count": null,
   "metadata": {},
   "outputs": [],
   "source": [
    "for (gene in lineage2_top) {\n",
    "    print(gene)\n",
    "    print(plotSmoothers(sce, counts, gene = gene, alpha = 0) + ggtitle(gene) +\n",
    "                          theme(title = element_text(size = 20, face = 'bold'),\n",
    "                                axis.title = element_text(size = 20),\n",
    "                                axis.text = element_text(size = 20),\n",
    "                                legend.text = element_text(size = 20),\n",
    "                                legend.title = element_text(size = 20, face = \"bold\")))\n",
    "}"
   ]
  },
  {
   "cell_type": "code",
   "execution_count": null,
   "metadata": {},
   "outputs": [],
   "source": [
    "# FGF20 \n",
    "FGF20 <- plotSmoothers(sce, counts, gene = 'FGF20', alpha =0, \n",
    "                     xlab = \"pseudotime\",\n",
    "  ylab = \"Log(expression + 1)\", border = FALSE) + ggtitle(\"FGF20\") + theme(title = element_text(size = 20, face = 'bold'), axis.title=element_text(size=20), axis.text=element_text(size=20), legend.text = element_text(size=20),\n",
    "     legend.title = element_text(size=20, face = \"bold\"))+ theme_light()+ ylim(0, 1.5)\n",
    "FGF20\n"
   ]
  },
  {
   "cell_type": "code",
   "execution_count": null,
   "metadata": {},
   "outputs": [],
   "source": [
    "# RXRG \n",
    "RXRG <- plotSmoothers(sce, counts, gene = 'RXRG', alpha =0, \n",
    "                     xlab = \"pseudotime\",\n",
    "  ylab = \"Log(expression + 1)\", border = FALSE) + ggtitle(\"RXRG\") + theme(title = element_text(size = 20, face = 'bold'), axis.title=element_text(size=20), axis.text=element_text(size=20), legend.text = element_text(size=20),\n",
    "     legend.title = element_text(size=20, face = \"bold\"))+ theme_light()+ ylim(0, 1)\n",
    "RXRG\n"
   ]
  },
  {
   "cell_type": "code",
   "execution_count": null,
   "metadata": {},
   "outputs": [],
   "source": [
    "# RXRG \n",
    "PNOC <- plotSmoothers(sce, counts, gene = 'PNOC', alpha =0, \n",
    "                     xlab = \"pseudotime\",\n",
    "  ylab = \"Log(expression + 1)\", border = FALSE) + ggtitle(\"PNOC\") + theme(title = element_text(size = 20, face = 'bold'), axis.title=element_text(size=20), axis.text=element_text(size=20), legend.text = element_text(size=20),\n",
    "     legend.title = element_text(size=20, face = \"bold\"))+ theme_light()+ ylim(0, 3)\n",
    "PNOC"
   ]
  },
  {
   "cell_type": "code",
   "execution_count": null,
   "metadata": {},
   "outputs": [],
   "source": [
    "# RXRG \n",
    "LYPD1 <- plotSmoothers(sce, counts, gene = 'LYPD1', alpha =0, \n",
    "                     xlab = \"pseudotime\",\n",
    "  ylab = \"Log(expression + 1)\", border = FALSE) + ggtitle(\"LYPD1\") + theme(title = element_text(size = 20, face = 'bold'), axis.title=element_text(size=20), axis.text=element_text(size=20), legend.text = element_text(size=20),\n",
    "     legend.title = element_text(size=20, face = \"bold\"))+ theme_light()+ ylim(0, 3)\n",
    "LYPD1"
   ]
  },
  {
   "cell_type": "code",
   "execution_count": null,
   "metadata": {},
   "outputs": [],
   "source": [
    "# SSTR2 \n",
    "SSTR2 <- plotSmoothers(sce, counts, gene = 'SSTR2', alpha =0, \n",
    "                     xlab = \"pseudotime\",\n",
    "  ylab = \"Log(expression + 1)\", border = FALSE) + ggtitle(\"SSTR2\") + theme(title = element_text(size = 20, face = 'bold'), axis.title=element_text(size=20), axis.text=element_text(size=20), legend.text = element_text(size=20),\n",
    "     legend.title = element_text(size=20, face = \"bold\"))+ theme_light()+ ylim(0, 1.5)\n",
    "SSTR2\n"
   ]
  },
  {
   "cell_type": "code",
   "execution_count": null,
   "metadata": {},
   "outputs": [],
   "source": [
    "# SSTR2 \n",
    "CHL1 <- plotSmoothers(sce, counts, gene = 'CHL1', alpha =0, \n",
    "                     xlab = \"pseudotime\",\n",
    "  ylab = \"Log(expression + 1)\", border = FALSE) + ggtitle(\"CHL1\") + theme(title = element_text(size = 20, face = 'bold'), axis.title=element_text(size=20), axis.text=element_text(size=20), legend.text = element_text(size=20),\n",
    "     legend.title = element_text(size=20, face = \"bold\"))+ theme_light()+ ylim(0, 2)\n",
    "CHL1"
   ]
  },
  {
   "cell_type": "code",
   "execution_count": null,
   "metadata": {},
   "outputs": [],
   "source": [
    "# SSTR2 \n",
    "LGI1 <- plotSmoothers(sce, counts, gene = 'LGI1', alpha =0, \n",
    "                     xlab = \"pseudotime\",\n",
    "  ylab = \"Log(expression + 1)\", border = FALSE) + ggtitle(\"LGI1\") + theme(title = element_text(size = 20, face = 'bold'), axis.title=element_text(size=20), axis.text=element_text(size=20), legend.text = element_text(size=20),\n",
    "     legend.title = element_text(size=20, face = \"bold\"))+ theme_light()+ ylim(0, 1.3)\n",
    "LGI1"
   ]
  },
  {
   "cell_type": "code",
   "execution_count": null,
   "metadata": {},
   "outputs": [],
   "source": [
    "# SSTR2 \n",
    "CALCA <- plotSmoothers(sce, counts, gene = 'CALCA', alpha =0, \n",
    "                     xlab = \"pseudotime\",\n",
    "  ylab = \"Log(expression + 1)\", border = FALSE) + ggtitle(\"CALCA\") + theme(title = element_text(size = 20, face = 'bold'), axis.title=element_text(size=20), axis.text=element_text(size=20), legend.text = element_text(size=20),\n",
    "     legend.title = element_text(size=20, face = \"bold\"))+ theme_light()+ ylim(0, 0.75)\n",
    "CALCA"
   ]
  },
  {
   "cell_type": "code",
   "execution_count": null,
   "metadata": {},
   "outputs": [],
   "source": [
    "# GDNF \n",
    "GDNF <- plotSmoothers(sce, counts, gene = 'GDNF', alpha =0, \n",
    "                     xlab = \"pseudotime\",\n",
    "  ylab = \"Log(expression + 1)\", border = FALSE) + ggtitle(\"GDNF\") + theme(title = element_text(size = 20, face = 'bold'), axis.title=element_text(size=20), axis.text=element_text(size=20), legend.text = element_text(size=20),\n",
    "     legend.title = element_text(size=20, face = \"bold\"))+ theme_light()+ ylim(0, 0.7)\n",
    "GDNF"
   ]
  },
  {
   "cell_type": "code",
   "execution_count": null,
   "metadata": {},
   "outputs": [],
   "source": [
    "p_mullerian_epi <- grid.arrange(RXRG, PNOC, LYPD1, FGF20, SSTR2, GDNF, nrow = 1, ncol = 6)"
   ]
  },
  {
   "cell_type": "code",
   "execution_count": null,
   "metadata": {},
   "outputs": [],
   "source": [
    "ggsave('/home/jovyan/RepTract/figures-epithelial/mullerian_epithelium_tradeseq.pdf',\n",
    "       plot = p_mullerian_epi,\n",
    "       width = 21, height = 3, dpi = 300)\n"
   ]
  },
  {
   "cell_type": "code",
   "execution_count": null,
   "metadata": {},
   "outputs": [],
   "source": [
    "p_mullerian_supp <- grid.arrange(CALCA, SSTR2, LGI1, LAMP5, nrow = 1, ncol = 4)"
   ]
  },
  {
   "cell_type": "code",
   "execution_count": null,
   "metadata": {},
   "outputs": [],
   "source": [
    "ggsave('/home/jovyan/RepTract/figures-epithelial/mullerian_supplementary_tradeseq.pdf',\n",
    "       plot = p_mullerian_supp,\n",
    "       width = 14, height = 3, dpi = 300)\n"
   ]
  }
 ],
 "metadata": {
  "kernelspec": {
   "display_name": "R",
   "language": "R",
   "name": "ir"
  },
  "language_info": {
   "codemirror_mode": "r",
   "file_extension": ".r",
   "mimetype": "text/x-r-source",
   "name": "R",
   "pygments_lexer": "r",
   "version": "4.0.3"
  }
 },
 "nbformat": 4,
 "nbformat_minor": 4
}
