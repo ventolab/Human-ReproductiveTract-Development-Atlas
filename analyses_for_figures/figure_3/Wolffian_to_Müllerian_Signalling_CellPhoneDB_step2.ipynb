{
 "cells": [
  {
   "cell_type": "markdown",
   "metadata": {},
   "source": [
    " ![CellphoneDB Logo](https://www.cellphonedb.org/images/cellphonedb_logo_33.png) CellphoneDB"
   ]
  },
  {
   "cell_type": "markdown",
   "metadata": {},
   "source": [
    "### Check python version"
   ]
  },
  {
   "cell_type": "code",
   "execution_count": null,
   "metadata": {},
   "outputs": [],
   "source": [
    "import pandas as pd\n",
    "import numpy as np\n",
    "import sys\n",
    "import os\n",
    "\n",
    "pd.set_option('display.max_columns', 100)\n",
    "# Define our base directory for the analysis\n",
    "os.chdir('/home/jovyan/RepTract/CELLPHONEDB/')"
   ]
  },
  {
   "cell_type": "markdown",
   "metadata": {},
   "source": [
    "Checking that environment contains a Python >= 3.8 as required by CellPhoneDB."
   ]
  },
  {
   "cell_type": "code",
   "execution_count": null,
   "metadata": {},
   "outputs": [],
   "source": [
    "print(sys.version)"
   ]
  },
  {
   "cell_type": "markdown",
   "metadata": {},
   "source": [
    "___\n",
    "## Input files\n",
    "The differential expression method accepts 5 input files (4 mandatory).\n",
    "- **cpdb_file_path**: (mandatory) path to the database.\n",
    "- **meta_file_path**: (mandatory) path to the meta file linking cell barcodes to cluster labels.\n",
    "- **counts_file_path**: (mandatory) paths to normalized counts file (not z-transformed), either in text format or h5ad (recommended).\n",
    "- **degs_file_path**: (mandatory) path to the DEG file indicating the differentially expressed genes in each cluster. Only differentially expressed genes that are significant should be included.\n",
    "- **microenvs_file_path** (optional) path to microenvironment file that groups cell types/clusters by microenvironments. When providing a microenvironment file, CellphoneDB will restrict the interactions to those cells within the microenvironment.\n",
    "\n",
    "Both, `degs_file_path` and `microenvs_file_path` content will depend on the biological question that the researcher wants to answer.\n",
    "\n",
    "\n",
    "> In **this example** we are studying how cell-cell interactions change between endometrial cells as epithelia and stromal cells differentiate in response to hormones in the three endoemtrial layers (see image above). Therefore, the `degs_file_path` contains only the genes differentially expressed along the epithelials or stromal/fibroblasts to capture the genes that change along their differentiation in response to progesterone.  The `microenvs_file_path` specifies the cells present in each spaitotemporal compartment of the differentiating endometrium. The `meta_file_path` and `counts_file_path` contain all cells that we are interested in.\n",
    "\n",
    "> CellphoneDB will retrieve all the interactions occurring between epithelials or stromals and any other celltype in the meta/counts file where: (i) all the proteins are expressed in the corresponding cell type and (ii) at least one gene is differentially expressed by an epithelial/stromal subset."
   ]
  },
  {
   "cell_type": "code",
   "execution_count": null,
   "metadata": {},
   "outputs": [],
   "source": [
    "cpdb_file_path = '/nfs/team292/vl6/FetalReproductiveTract/v5.0.0/cellphonedb.zip' # this is the downloaded database\n",
    "meta_file_path = '/nfs/team292/vl6/FetalReproductiveTract/CellPhoneDB/Mullerian_and_Wolffian_early/input/meta.tsv'\n",
    "counts_file_path = '/nfs/team292/vl6/FetalReproductiveTract/CellPhoneDB/Mullerian_and_Wolffian_early/input/counts_normalised.h5ad'\n",
    "microenvs_file_path = '/nfs/team292/vl6/FetalReproductiveTract/CellPhoneDB/Mullerian_and_Wolffian_early/input/microenvironments.tsv'\n",
    "degs_file_path = '/nfs/team292/vl6/FetalReproductiveTract/CellPhoneDB/Mullerian_and_Wolffian_early/input/DEGs_upregulated_genes.tsv'\n",
    "out_path = '/nfs/team292/vl6/FetalReproductiveTract/CellPhoneDB/Mullerian_and_Wolffian_early/output/'"
   ]
  },
  {
   "cell_type": "markdown",
   "metadata": {},
   "source": [
    "### Inspect input files"
   ]
  },
  {
   "cell_type": "markdown",
   "metadata": {},
   "source": [
    "<span style=\"color:green\">**1)**</span> The **metadata** file is compossed of two columns:\n",
    "- **barcode_sample**: this column indicates the barcode of each cell in the experiment.\n",
    "- **celltype**: this column denotes the cell label assigned."
   ]
  },
  {
   "cell_type": "code",
   "execution_count": null,
   "metadata": {},
   "outputs": [],
   "source": [
    "metadata = pd.read_csv(meta_file_path, sep = '\\t')\n",
    "metadata.head(3)"
   ]
  },
  {
   "cell_type": "markdown",
   "metadata": {},
   "source": [
    "<span style=\"color:green\">**2)**</span>  The **counts** files is a h5ad object from scanpy. The dimensions and order of this object must coincide with the dimensions of the metadata file, i.e. must have the same number of cells in both files."
   ]
  },
  {
   "cell_type": "code",
   "execution_count": null,
   "metadata": {},
   "outputs": [],
   "source": [
    "import anndata\n",
    "\n",
    "adata = anndata.read_h5ad(counts_file_path)\n",
    "adata.shape"
   ]
  },
  {
   "cell_type": "markdown",
   "metadata": {},
   "source": [
    "Check barcodes in metadata and counts are the same."
   ]
  },
  {
   "cell_type": "code",
   "execution_count": null,
   "metadata": {},
   "outputs": [],
   "source": [
    "list(adata.obs.index).sort() == list(metadata['Cell']).sort()"
   ]
  },
  {
   "cell_type": "markdown",
   "metadata": {},
   "source": [
    "<span style=\"color:green\">**3)**</span> **Differentially expressed genes** file is a two columns file indicating which genes are up-regulated (or specific) in a cell type. The first column corresponds to the cluster name (these match with those in the metadata file) and the second column the up-regulated gene. The remaining columns are ignored by CellPhoneDB. All genes present in this file will be taken into account, thus the user must provide in this file only those genes considered as up-regulated or relevant for the analysis."
   ]
  },
  {
   "cell_type": "code",
   "execution_count": null,
   "metadata": {},
   "outputs": [],
   "source": [
    "degs = pd.read_csv(degs_file_path, sep = '\\t')\n",
    "degs.head(3)"
   ]
  },
  {
   "cell_type": "markdown",
   "metadata": {},
   "source": [
    "<span style=\"color:green\">**4)**</span> **Micronevironments** defines the cell types that belong to a a given microenvironemnt. CellPhoneDB will only calculate interactions between cells that belong to a given microenvironment. In this file we are defining two microenvionments."
   ]
  },
  {
   "cell_type": "code",
   "execution_count": null,
   "metadata": {},
   "outputs": [],
   "source": [
    "microenv = pd.read_csv(microenvs_file_path, sep = '\\t')\n",
    "microenv"
   ]
  },
  {
   "cell_type": "markdown",
   "metadata": {},
   "source": [
    "Displaying cells grouped per microenvironment"
   ]
  },
  {
   "cell_type": "code",
   "execution_count": null,
   "metadata": {},
   "outputs": [],
   "source": [
    "microenv.groupby('microenvironment')['celltype'].apply(lambda x : list(x.value_counts().index))"
   ]
  },
  {
   "cell_type": "markdown",
   "metadata": {},
   "source": [
    "<span style=\"color:green\">**5)**</span> **Check cell type names are the same** "
   ]
  },
  {
   "cell_type": "code",
   "execution_count": null,
   "metadata": {},
   "outputs": [],
   "source": [
    "\n",
    "# all cells in microenv are in meta\n",
    "[ item in set(metadata['cell_type']) for item in set(microenv['celltype']) ]"
   ]
  },
  {
   "cell_type": "code",
   "execution_count": null,
   "metadata": {},
   "outputs": [],
   "source": [
    "# all cells in microenv are in meta - who is not?\n",
    "list(set(microenv['celltype']) - set(metadata['cell_type']) )"
   ]
  },
  {
   "cell_type": "code",
   "execution_count": null,
   "metadata": {},
   "outputs": [],
   "source": [
    "# all cells in degs are in meta\n",
    "[ item in set(metadata['cell_type']) for item in set(degs['cluster']) ]"
   ]
  },
  {
   "cell_type": "code",
   "execution_count": null,
   "metadata": {},
   "outputs": [],
   "source": [
    "# all cells in degs are in meta - who is not?\n",
    "list(set(degs['cluster']) - set(metadata['cell_type']) )"
   ]
  },
  {
   "cell_type": "markdown",
   "metadata": {},
   "source": [
    "____\n",
    "# Run CellphoneDB with differential analysis (method 3)\n",
    "The output of this method will be saved in `out_path` and also assigned to the predefined variables."
   ]
  },
  {
   "cell_type": "code",
   "execution_count": null,
   "metadata": {},
   "outputs": [],
   "source": [
    "from cellphonedb.src.core.methods import cpdb_degs_analysis_method\n",
    "res = \\\n",
    "    cpdb_degs_analysis_method.call(\n",
    "        cpdb_file_path = cpdb_file_path, \n",
    "        meta_file_path = meta_file_path, \n",
    "        counts_file_path = counts_file_path,\n",
    "        degs_file_path = degs_file_path,\n",
    "        counts_data = 'hgnc_symbol',\n",
    "        microenvs_file_path=microenvs_file_path,\n",
    "        threshold = 0.1,\n",
    "        result_precision = 3,\n",
    "        separator = '|',\n",
    "        debug = False,\n",
    "        output_path = out_path,\n",
    "        output_suffix = None,\n",
    "        score_interactions = True,\n",
    "        threads = 4)"
   ]
  },
  {
   "cell_type": "code",
   "execution_count": null,
   "metadata": {},
   "outputs": [],
   "source": [
    "res.keys()"
   ]
  },
  {
   "cell_type": "markdown",
   "metadata": {},
   "source": [
    "___\n",
    "### Description of output files"
   ]
  },
  {
   "cell_type": "markdown",
   "metadata": {},
   "source": [
    "**Relevant interaction** fields:\n",
    "- **id_cp_interaction**: interaction identifier.\n",
    "- **interacting_pair**: Name of the interacting pairs.\n",
    "- **partner A/B**: Identifier for the first interacting partner (A) or the second (B). It could be: UniProt (prefix simple:) or complex (prefix complex:)\n",
    "- **gene A/B**: Gene identifier for the first interacting partner (A) or the second (B).\n",
    "- **secreted**: True if one of the partners is secreted.\n",
    "- **receptor A/B**: True if the first interacting partner (A) or the second (B) is annotated as a receptor in our database.\n",
    "- **annotation_strategy**: Curated if the interaction was annotated by the CellPhoneDB developers. Other value if it was added by the user.\n",
    "- **is_integrin**: True if one of the partners is integrin.\n",
    "- **cell_a|cell_b**: 1 if interaction is detected as significant, 0 if not."
   ]
  },
  {
   "cell_type": "code",
   "execution_count": null,
   "metadata": {},
   "outputs": [],
   "source": [
    "res['relevant_interactions_result']"
   ]
  },
  {
   "cell_type": "code",
   "execution_count": null,
   "metadata": {},
   "outputs": [],
   "source": [
    "res['relevant_interactions_result'].head(3)"
   ]
  },
  {
   "cell_type": "markdown",
   "metadata": {},
   "source": [
    "**Deconvoluted** fields:\n",
    "- **gene_name**: Gene identifier for one of the subunits that are participating in the interaction defined in “means.csv” file. The identifier will depend on the input of the user list.\n",
    "- **uniprot**: UniProt identifier for one of the subunits that are participating in the interaction defined in “means.csv” file.\n",
    "- **is_complex**: True if the subunit is part of a complex. Single if it is not, complex if it is.\n",
    "- **protein_name**: Protein name for one of the subunits that are participating in the interaction defined in “means.csv” file.\n",
    "- **complex_name**: Complex name if the subunit is part of a complex. Empty if not.\n",
    "- **id_cp_interaction**: Unique CellPhoneDB identifier for each of the interactions stored in the database.\n",
    "- **mean**: Mean expression of the corresponding gene in each cluster."
   ]
  },
  {
   "cell_type": "code",
   "execution_count": null,
   "metadata": {},
   "outputs": [],
   "source": [
    "res['deconvoluted_result'].head(3)"
   ]
  },
  {
   "cell_type": "markdown",
   "metadata": {},
   "source": [
    "**Means** fields:\n",
    "- **id_cp_interaction**: Unique CellPhoneDB identifier for each interaction stored in the database.\n",
    "- **interacting_pair**: Name of the interacting pairs.\n",
    "- **partner A or B**: Identifier for the first interacting partner (A) or the second (B). It could be: UniProt (prefix simple:) or complex (prefix complex:)\n",
    "- **gene A or B**: Gene identifier for the first interacting partner (A) or the second (B). The identifier will depend on the input user list.\n",
    "- **secreted**: True if one of the partners is secreted.\n",
    "- **Receptor A or B**: True if the first interacting partner (A) or the second (B) is annotated as a receptor in our database.\n",
    "- **annotation_strategy**: Curated if the interaction was annotated by the CellPhoneDB developers. Otherwise, the name of the database where the interaction has been downloaded from.\n",
    "- **is_integrin**: True if one of the partners is integrin.\n",
    "- **means**: Mean values for all the interacting partners: mean value refers to the total mean of the individual partner average expression values in the corresponding interacting pairs of cell types. If one of the mean values is 0, then the total mean is set to 0."
   ]
  },
  {
   "cell_type": "code",
   "execution_count": null,
   "metadata": {},
   "outputs": [],
   "source": [
    "res['means_result'].head(3)"
   ]
  },
  {
   "cell_type": "markdown",
   "metadata": {},
   "source": [
    "**Significant means** fields:\n",
    "- **id_cp_interaction**: Unique CellPhoneDB identifier for each interaction stored in the database.\n",
    "- **interacting_pair**: Name of the interacting pairs.\n",
    "- **partner A or B**: Identifier for the first interacting partner (A) or the second (B). It could be: UniProt (prefix simple:) or complex (prefix complex:)\n",
    "- **gene A or B**: Gene identifier for the first interacting partner (A) or the second (B). The identifier will depend on the input user list.\n",
    "- **secreted**: True if one of the partners is secreted.\n",
    "- **Receptor A or B**: True if the first interacting partner (A) or the second (B) is annotated as a receptor in our database.\n",
    "- **annotation_strategy**: Curated if the interaction was annotated by the CellPhoneDB developers. Otherwise, the name of the database where the interaction has been downloaded from.\n",
    "- **is_integrin**: True if one of the partners is integrin.\n",
    "- **significant_mean**: Significant mean calculation for all the interacting partners. If the interaction has been found relevant, the value will be the mean. Alternatively, the value is set to 0."
   ]
  },
  {
   "cell_type": "code",
   "execution_count": null,
   "metadata": {},
   "outputs": [],
   "source": [
    "res['significant_means'].head(3)"
   ]
  },
  {
   "cell_type": "code",
   "execution_count": null,
   "metadata": {},
   "outputs": [],
   "source": [
    "res['interaction_scores'].head(3)"
   ]
  },
  {
   "cell_type": "markdown",
   "metadata": {},
   "source": [
    "# Explore CellPhoneDB results\n",
    "This module allows to filter CellPhoneDB results by specifying either\n",
    "- **cell types pairs**. We can specify two list of cell types (`query_celltype_1`and `query_celltype_2`), the method will subset the interactions to those pairs of cells. Cell types within each list will not be paired.  If we are interested in filtering interactions ocurring between a given cell to all the rest of cells in the dataset we can define `query_celltype_1 = 'All'` and `query_celltype_2 = ['cellA', 'cellB', ...]`. \n",
    "- **genes** The argument `genes` allows the user to filter interactions in which a gene participates.\n",
    "- or **specific interactions** to define specific interactions based on the interaction name `query_interactions`.\n",
    "\n",
    "This method filters the rows and columns of the significant_means file; NaN value correspond to interacting pairs found not significant, non-NaN value correspond to those interacting pairs found relevant."
   ]
  },
  {
   "cell_type": "code",
   "execution_count": null,
   "metadata": {},
   "outputs": [],
   "source": [
    "from cellphonedb.utils import search_utils\n",
    "\n",
    "search_results = search_utils.search_analysis_results(\n",
    "    query_cell_types_1 = ['WolffianDuct_Epithelium'],  # List of cells 1, will be paired to cells 2 (list or 'All').\n",
    "    query_cell_types_2 = ['MüllerianDuct_Mesenchyme', 'MüllerianDuct_Epithelium'],     # List of cells 2, will be paired to cells 1 (list or 'All').\n",
    "#     query_genes = ['LRP5'],                                       # filter interactions based on the genes participating (list).\n",
    "#     query_interactions = ['CSF1_CSF1R'],                            # filter intereactions based on their name (list).\n",
    "    significant_means = res['significant_means'],                          # significant_means file generated by CellPhoneDB.\n",
    "    deconvoluted = res['deconvoluted_result'],                                    # devonvoluted file generated by CellPhoneDB.\n",
    "    separator = '|',                                                # separator (default: |) employed to split cells (cellA|cellB).\n",
    "    long_format = True                                              # converts the output into a wide table, removing non-significant interactions\n",
    ")\n",
    "\n",
    "# search_results.head(60)\n",
    "search_results = search_results[search_results['interacting_cells'].isin(['WolffianDuct_Epithelium|MüllerianDuct_Mesenchyme',\n",
    "                                                                         'WolffianDuct_Epithelium|MüllerianDuct_Epithelium'])]\n",
    "print(search_results.shape)\n",
    "\n",
    "search_results.sort_values('significant_mean', ascending=False).head(50)"
   ]
  },
  {
   "cell_type": "code",
   "execution_count": null,
   "metadata": {},
   "outputs": [],
   "source": [
    "from cellphonedb.utils import search_utils\n",
    "\n",
    "search_results = search_utils.search_analysis_results(\n",
    "    query_cell_types_1 = ['WolffianDuct_Mesenchyme'],  # List of cells 1, will be paired to cells 2 (list or 'All').\n",
    "    query_cell_types_2 = ['MüllerianDuct_Mesenchyme', 'MüllerianDuct_Epithelium'],     # List of cells 2, will be paired to cells 1 (list or 'All').\n",
    "#     query_genes = ['LRP5'],                                       # filter interactions based on the genes participating (list).\n",
    "#     query_interactions = ['CSF1_CSF1R'],                            # filter intereactions based on their name (list).\n",
    "    significant_means = res['significant_means'],                          # significant_means file generated by CellPhoneDB.\n",
    "    deconvoluted = res['deconvoluted_result'],                                    # devonvoluted file generated by CellPhoneDB.\n",
    "    separator = '|',                                                # separator (default: |) employed to split cells (cellA|cellB).\n",
    "    long_format = True                                              # converts the output into a wide table, removing non-significant interactions\n",
    ")\n",
    "\n",
    "# search_results.head(60)\n",
    "search_results = search_results[search_results['interacting_cells'].isin(['WolffianDuct_Mesenchyme|MüllerianDuct_Mesenchyme',\n",
    "                                                                         'WolffianDuct_Mesenchyme|MüllerianDuct_Epithelium'])]\n",
    "print(search_results.shape)\n",
    "search_results.sort_values('significant_mean', ascending=False).tail(50)"
   ]
  },
  {
   "cell_type": "markdown",
   "metadata": {},
   "source": [
    "### Save interactions for supplementary table"
   ]
  },
  {
   "cell_type": "code",
   "execution_count": null,
   "metadata": {},
   "outputs": [],
   "source": [
    "from cellphonedb.utils import search_utils\n",
    "\n",
    "search_results = search_utils.search_analysis_results(\n",
    "    query_cell_types_1 = ['WolffianDuct_Mesenchyme', 'WolffianDuct_Epithelium'],  # List of cells 1, will be paired to cells 2 (list or 'All').\n",
    "    query_cell_types_2 = ['MüllerianDuct_Mesenchyme', 'MüllerianDuct_Epithelium'],     # List of cells 2, will be paired to cells 1 (list or 'All').\n",
    "#     query_genes = ['LRP5'],                                       # filter interactions based on the genes participating (list).\n",
    "#     query_interactions = ['CSF1_CSF1R'],                            # filter intereactions based on their name (list).\n",
    "    significant_means = res['significant_means'],                          # significant_means file generated by CellPhoneDB.\n",
    "    deconvoluted = res['deconvoluted_result'],                                    # devonvoluted file generated by CellPhoneDB.\n",
    "    separator = '|',                                                # separator (default: |) employed to split cells (cellA|cellB).\n",
    "    long_format = True                                              # converts the output into a wide table, removing non-significant interactions\n",
    ")\n",
    "\n",
    "# search_results.head(60)\n",
    "search_results = search_results[search_results['interacting_cells'].isin(['WolffianDuct_Mesenchyme|MüllerianDuct_Mesenchyme',\n",
    "                                                                         'WolffianDuct_Mesenchyme|MüllerianDuct_Epithelium', \n",
    "                                                                         'WolffianDuct_Epithelium|MüllerianDuct_Mesenchyme', \n",
    "                                                                         'WolffianDuct_Epithelium|MüllerianDuct_Epithelium'])]\n",
    "print(search_results.shape)\n",
    "# search_results.sort_values('significant_mean', ascending=False).tail(50)"
   ]
  },
  {
   "cell_type": "code",
   "execution_count": null,
   "metadata": {},
   "outputs": [],
   "source": [
    "search_results.to_csv('/nfs/team292/vl6/FetalReproductiveTract/CellPhoneDB/Mullerian_and_Wolffian_early/output/wolffian_to_mullerian_signalling.csv')"
   ]
  },
  {
   "cell_type": "code",
   "execution_count": null,
   "metadata": {},
   "outputs": [],
   "source": []
  }
 ],
 "metadata": {
  "kernelspec": {
   "display_name": "cpdb",
   "language": "python",
   "name": "cpdb"
  },
  "language_info": {
   "codemirror_mode": {
    "name": "ipython",
    "version": 3
   },
   "file_extension": ".py",
   "mimetype": "text/x-python",
   "name": "python",
   "nbconvert_exporter": "python",
   "pygments_lexer": "ipython3",
   "version": "3.8.16"
  }
 },
 "nbformat": 4,
 "nbformat_minor": 4
}
