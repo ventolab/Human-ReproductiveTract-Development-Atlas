{
 "cells": [
  {
   "cell_type": "markdown",
   "metadata": {},
   "source": [
    "# Müllerian & Wolffian ducts analysis - prepare data for CellphoneDB"
   ]
  },
  {
   "cell_type": "code",
   "execution_count": 1,
   "metadata": {},
   "outputs": [
    {
     "data": {
      "text/plain": [
       "'/opt/conda/envs/cpdb/bin/python'"
      ]
     },
     "execution_count": 1,
     "metadata": {},
     "output_type": "execute_result"
    }
   ],
   "source": [
    "import numpy as np\n",
    "import pandas as pd\n",
    "import scanpy as sc\n",
    "import anndata\n",
    "import os\n",
    "import sys\n",
    "\n",
    "def MovePlots(plotpattern, subplotdir):\n",
    "    os.system('mkdir -p '+str(sc.settings.figdir)+'/'+subplotdir)\n",
    "    os.system('mv '+str(sc.settings.figdir)+'/*'+plotpattern+'** '+str(sc.settings.figdir)+'/'+subplotdir)\n",
    "\n",
    "sc.settings.verbosity = 1  # verbosity: errors (0), warnings (1), info (2), hints (3)\n",
    "sc.settings.figdir = './figures-cellphonedb/'\n",
    "sc.settings.set_figure_params(dpi=80)  # low dpi (dots per inch) yields small inline figures\n",
    "\n",
    "sys.executable"
   ]
  },
  {
   "cell_type": "markdown",
   "metadata": {},
   "source": [
    "# Prepare INPUT"
   ]
  },
  {
   "cell_type": "markdown",
   "metadata": {},
   "source": [
    "## Define microenvironments"
   ]
  },
  {
   "cell_type": "code",
   "execution_count": 2,
   "metadata": {},
   "outputs": [
    {
     "data": {
      "text/plain": [
       "{'Early': ['Müllerian Epi',\n",
       "  'Wolffian Epi',\n",
       "  'Müllerian Mese',\n",
       "  'Wolffian/Mesonephros Mese']}"
      ]
     },
     "execution_count": 2,
     "metadata": {},
     "output_type": "execute_result"
    }
   ],
   "source": [
    "microenvironments = {'Early': ['Müllerian Epi', 'Wolffian Epi', \n",
    "                              'Müllerian Mese', 'Wolffian/Mesonephros Mese']\n",
    "                    }\n",
    "\n",
    "microenvironments"
   ]
  },
  {
   "cell_type": "code",
   "execution_count": 3,
   "metadata": {},
   "outputs": [
    {
     "data": {
      "text/plain": [
       "{'Müllerian Epi',\n",
       " 'Müllerian Mese',\n",
       " 'Wolffian Epi',\n",
       " 'Wolffian/Mesonephros Mese'}"
      ]
     },
     "execution_count": 3,
     "metadata": {},
     "output_type": "execute_result"
    }
   ],
   "source": [
    "celltypes_of_interest = sum(microenvironments.values(), [])\n",
    "set(celltypes_of_interest)"
   ]
  },
  {
   "cell_type": "markdown",
   "metadata": {},
   "source": [
    "## Load raw counts andata"
   ]
  },
  {
   "cell_type": "code",
   "execution_count": 4,
   "metadata": {},
   "outputs": [
    {
     "data": {
      "text/plain": [
       "AnnData object with n_obs × n_vars = 6284 × 23295\n",
       "    obs: 'n_counts', 'n_genes', 'sample', 'percent_mito', 'percent_ribo', 'doublet_scores', 'barcode', 'souporcell_classification', 'souporcell_assignment', 'leiden', 'leiden_R', 'leiden_2', 'broad_annotations', 'donor', 'stage_pcw', 'stage_cs', 'sex', 'location', 'multiplexing', 'notes', 'library', 'leiden_3', 'HTO2', 'HTO3', 'HTO4', 'total_hto_counts', 'fraction_HTO2', 'fraction_HTO3', 'fraction_HTO4', 'HTO3_HTO4_ratio', 'most_likely_hypothesis', 'cluster_feature', 'negative_hypothesis_probability', 'singlet_hypothesis_probability', 'doublet_hypothesis_probability', 'Classification', 'hashsolo_assignment', 'hash+lib', 'sample+donor', 'batch', 'celltype', 'phase'\n",
       "    var: 'GeneID-0-0', 'GeneName-0-0', 'n_cells-0-0', 'GeneID-1-0', 'GeneName-1-0', 'n_cells-1-0', 'GeneID-10-0', 'GeneName-10-0', 'n_cells-10-0', 'GeneID-100-0', 'GeneName-100-0', 'n_cells-100-0', 'GeneID-101-0', 'GeneName-101-0', 'n_cells-101-0', 'GeneID-11-0', 'GeneName-11-0', 'n_cells-11-0', 'GeneID-12-0', 'GeneName-12-0', 'n_cells-12-0', 'GeneID-13-0', 'GeneName-13-0', 'n_cells-13-0', 'GeneID-14-0', 'GeneName-14-0', 'n_cells-14-0', 'GeneID-15-0', 'GeneName-15-0', 'n_cells-15-0', 'GeneID-16-0', 'GeneName-16-0', 'n_cells-16-0', 'GeneID-17-0', 'GeneName-17-0', 'n_cells-17-0', 'GeneID-18-0', 'GeneName-18-0', 'n_cells-18-0', 'GeneID-19-0', 'GeneName-19-0', 'n_cells-19-0', 'GeneID-2-0', 'GeneName-2-0', 'n_cells-2-0', 'GeneID-20-0', 'GeneName-20-0', 'n_cells-20-0', 'GeneID-21-0', 'GeneName-21-0', 'n_cells-21-0', 'GeneID-22-0', 'GeneName-22-0', 'n_cells-22-0', 'GeneID-23-0', 'GeneName-23-0', 'n_cells-23-0', 'GeneID-24-0', 'GeneName-24-0', 'n_cells-24-0', 'GeneID-25-0', 'GeneName-25-0', 'n_cells-25-0', 'GeneID-26-0', 'GeneName-26-0', 'n_cells-26-0', 'GeneID-27-0', 'GeneName-27-0', 'n_cells-27-0', 'GeneID-28-0', 'GeneName-28-0', 'n_cells-28-0', 'GeneID-29-0', 'GeneName-29-0', 'n_cells-29-0', 'GeneID-3-0', 'GeneName-3-0', 'n_cells-3-0', 'GeneID-30-0', 'GeneName-30-0', 'n_cells-30-0', 'GeneID-31-0', 'GeneName-31-0', 'n_cells-31-0', 'GeneID-32-0', 'GeneName-32-0', 'n_cells-32-0', 'GeneID-33-0', 'GeneName-33-0', 'n_cells-33-0', 'GeneID-34-0', 'GeneName-34-0', 'n_cells-34-0', 'GeneID-35-0', 'GeneName-35-0', 'n_cells-35-0', 'GeneID-36-0', 'GeneName-36-0', 'n_cells-36-0', 'GeneID-37-0', 'GeneName-37-0', 'n_cells-37-0', 'GeneID-38-0', 'GeneName-38-0', 'n_cells-38-0', 'GeneID-39-0', 'GeneName-39-0', 'n_cells-39-0', 'GeneID-4-0', 'GeneName-4-0', 'n_cells-4-0', 'GeneID-40-0', 'GeneName-40-0', 'n_cells-40-0', 'GeneID-41-0', 'GeneName-41-0', 'n_cells-41-0', 'GeneID-42-0', 'GeneName-42-0', 'n_cells-42-0', 'GeneID-43-0', 'GeneName-43-0', 'n_cells-43-0', 'GeneID-44-0', 'GeneName-44-0', 'n_cells-44-0', 'GeneID-45-0', 'GeneName-45-0', 'n_cells-45-0', 'GeneID-46-0', 'GeneName-46-0', 'n_cells-46-0', 'GeneID-47-0', 'GeneName-47-0', 'n_cells-47-0', 'GeneID-48-0', 'GeneName-48-0', 'n_cells-48-0', 'GeneID-49-0', 'GeneName-49-0', 'n_cells-49-0', 'GeneID-5-0', 'GeneName-5-0', 'n_cells-5-0', 'GeneID-50-0', 'GeneName-50-0', 'n_cells-50-0', 'GeneID-51-0', 'GeneName-51-0', 'n_cells-51-0', 'GeneID-52-0', 'GeneName-52-0', 'n_cells-52-0', 'GeneID-53-0', 'GeneName-53-0', 'n_cells-53-0', 'GeneID-54-0', 'GeneName-54-0', 'n_cells-54-0', 'GeneID-55-0', 'GeneName-55-0', 'n_cells-55-0', 'GeneID-56-0', 'GeneName-56-0', 'n_cells-56-0', 'GeneID-57-0', 'GeneName-57-0', 'n_cells-57-0', 'GeneID-58-0', 'GeneName-58-0', 'n_cells-58-0', 'GeneID-59-0', 'GeneName-59-0', 'n_cells-59-0', 'GeneID-6-0', 'GeneName-6-0', 'n_cells-6-0', 'GeneID-60-0', 'GeneName-60-0', 'n_cells-60-0', 'GeneID-61-0', 'GeneName-61-0', 'n_cells-61-0', 'GeneID-62-0', 'GeneName-62-0', 'n_cells-62-0', 'GeneID-63-0', 'GeneName-63-0', 'n_cells-63-0', 'gene_ids-64-0', 'feature_types-64-0', 'gene_ids-65-0', 'feature_types-65-0', 'gene_ids-66-0', 'feature_types-66-0', 'gene_ids-67-0', 'feature_types-67-0', 'gene_ids-68-0', 'feature_types-68-0', 'gene_ids-69-0', 'feature_types-69-0', 'GeneID-7-0', 'GeneName-7-0', 'n_cells-7-0', 'gene_ids-70-0', 'feature_types-70-0', 'gene_ids-71-0', 'feature_types-71-0', 'gene_ids-72-0', 'feature_types-72-0', 'gene_ids-73-0', 'feature_types-73-0', 'gene_ids-74-0', 'feature_types-74-0', 'GeneID-75-0', 'GeneName-75-0', 'n_cells-75-0', 'GeneID-76-0', 'GeneName-76-0', 'n_cells-76-0', 'GeneID-77-0', 'GeneName-77-0', 'n_cells-77-0', 'GeneID-78-0', 'GeneName-78-0', 'n_cells-78-0', 'GeneID-79-0', 'GeneName-79-0', 'n_cells-79-0', 'GeneID-8-0', 'GeneName-8-0', 'n_cells-8-0', 'GeneID-80-0', 'GeneName-80-0', 'n_cells-80-0', 'GeneID-81-0', 'GeneName-81-0', 'n_cells-81-0', 'GeneID-82-0', 'GeneName-82-0', 'n_cells-82-0', 'GeneID-83-0', 'GeneName-83-0', 'n_cells-83-0', 'GeneID-84-0', 'GeneName-84-0', 'n_cells-84-0', 'GeneID-85-0', 'GeneName-85-0', 'n_cells-85-0', 'GeneID-86-0', 'GeneName-86-0', 'n_cells-86-0', 'GeneID-87-0', 'GeneName-87-0', 'n_cells-87-0', 'GeneID-88-0', 'GeneName-88-0', 'n_cells-88-0', 'GeneID-89-0', 'GeneName-89-0', 'n_cells-89-0', 'GeneID-9-0', 'GeneName-9-0', 'n_cells-9-0', 'GeneID-90-0', 'GeneName-90-0', 'n_cells-90-0', 'GeneID-91-0', 'GeneName-91-0', 'n_cells-91-0', 'GeneID-92-0', 'GeneName-92-0', 'n_cells-92-0', 'GeneID-93-0', 'GeneName-93-0', 'n_cells-93-0', 'GeneID-94-0', 'GeneName-94-0', 'n_cells-94-0', 'GeneID-95-0', 'GeneName-95-0', 'n_cells-95-0', 'GeneID-96-0', 'GeneName-96-0', 'n_cells-96-0', 'GeneID-97-0', 'GeneName-97-0', 'n_cells-97-0', 'GeneID-98-0', 'GeneName-98-0', 'n_cells-98-0', 'GeneID-99-0', 'GeneName-99-0', 'n_cells-99-0', 'n_counts-0', 'n_cells-0', 'GeneID-0-1', 'GeneName-0-1', 'n_cells-0-1', 'GeneID-1-1', 'GeneName-1-1', 'n_cells-1-1', 'GeneID-10-1', 'GeneName-10-1', 'n_cells-10-1', 'GeneID-100-1', 'GeneName-100-1', 'n_cells-100-1', 'GeneID-101-1', 'GeneName-101-1', 'n_cells-101-1', 'GeneID-11-1', 'GeneName-11-1', 'n_cells-11-1', 'GeneID-12-1', 'GeneName-12-1', 'n_cells-12-1', 'GeneID-13-1', 'GeneName-13-1', 'n_cells-13-1', 'GeneID-14-1', 'GeneName-14-1', 'n_cells-14-1', 'GeneID-15-1', 'GeneName-15-1', 'n_cells-15-1', 'GeneID-16-1', 'GeneName-16-1', 'n_cells-16-1', 'GeneID-17-1', 'GeneName-17-1', 'n_cells-17-1', 'GeneID-18-1', 'GeneName-18-1', 'n_cells-18-1', 'GeneID-19-1', 'GeneName-19-1', 'n_cells-19-1', 'GeneID-2-1', 'GeneName-2-1', 'n_cells-2-1', 'GeneID-20-1', 'GeneName-20-1', 'n_cells-20-1', 'GeneID-21-1', 'GeneName-21-1', 'n_cells-21-1', 'GeneID-22-1', 'GeneName-22-1', 'n_cells-22-1', 'GeneID-23-1', 'GeneName-23-1', 'n_cells-23-1', 'GeneID-24-1', 'GeneName-24-1', 'n_cells-24-1', 'GeneID-25-1', 'GeneName-25-1', 'n_cells-25-1', 'GeneID-26-1', 'GeneName-26-1', 'n_cells-26-1', 'GeneID-27-1', 'GeneName-27-1', 'n_cells-27-1', 'GeneID-28-1', 'GeneName-28-1', 'n_cells-28-1', 'GeneID-29-1', 'GeneName-29-1', 'n_cells-29-1', 'GeneID-3-1', 'GeneName-3-1', 'n_cells-3-1', 'GeneID-30-1', 'GeneName-30-1', 'n_cells-30-1', 'GeneID-31-1', 'GeneName-31-1', 'n_cells-31-1', 'GeneID-32-1', 'GeneName-32-1', 'n_cells-32-1', 'GeneID-33-1', 'GeneName-33-1', 'n_cells-33-1', 'GeneID-34-1', 'GeneName-34-1', 'n_cells-34-1', 'GeneID-35-1', 'GeneName-35-1', 'n_cells-35-1', 'GeneID-36-1', 'GeneName-36-1', 'n_cells-36-1', 'GeneID-37-1', 'GeneName-37-1', 'n_cells-37-1', 'GeneID-38-1', 'GeneName-38-1', 'n_cells-38-1', 'GeneID-39-1', 'GeneName-39-1', 'n_cells-39-1', 'GeneID-4-1', 'GeneName-4-1', 'n_cells-4-1', 'GeneID-40-1', 'GeneName-40-1', 'n_cells-40-1', 'GeneID-41-1', 'GeneName-41-1', 'n_cells-41-1', 'GeneID-42-1', 'GeneName-42-1', 'n_cells-42-1', 'GeneID-43-1', 'GeneName-43-1', 'n_cells-43-1', 'GeneID-44-1', 'GeneName-44-1', 'n_cells-44-1', 'GeneID-45-1', 'GeneName-45-1', 'n_cells-45-1', 'GeneID-46-1', 'GeneName-46-1', 'n_cells-46-1', 'GeneID-47-1', 'GeneName-47-1', 'n_cells-47-1', 'GeneID-48-1', 'GeneName-48-1', 'n_cells-48-1', 'GeneID-49-1', 'GeneName-49-1', 'n_cells-49-1', 'GeneID-5-1', 'GeneName-5-1', 'n_cells-5-1', 'GeneID-50-1', 'GeneName-50-1', 'n_cells-50-1', 'GeneID-51-1', 'GeneName-51-1', 'n_cells-51-1', 'GeneID-52-1', 'GeneName-52-1', 'n_cells-52-1', 'GeneID-53-1', 'GeneName-53-1', 'n_cells-53-1', 'GeneID-54-1', 'GeneName-54-1', 'n_cells-54-1', 'GeneID-55-1', 'GeneName-55-1', 'n_cells-55-1', 'GeneID-56-1', 'GeneName-56-1', 'n_cells-56-1', 'GeneID-57-1', 'GeneName-57-1', 'n_cells-57-1', 'GeneID-58-1', 'GeneName-58-1', 'n_cells-58-1', 'GeneID-59-1', 'GeneName-59-1', 'n_cells-59-1', 'GeneID-6-1', 'GeneName-6-1', 'n_cells-6-1', 'GeneID-60-1', 'GeneName-60-1', 'n_cells-60-1', 'GeneID-61-1', 'GeneName-61-1', 'n_cells-61-1', 'GeneID-62-1', 'GeneName-62-1', 'n_cells-62-1', 'GeneID-63-1', 'GeneName-63-1', 'n_cells-63-1', 'gene_ids-64-1', 'feature_types-64-1', 'gene_ids-65-1', 'feature_types-65-1', 'gene_ids-66-1', 'feature_types-66-1', 'gene_ids-67-1', 'feature_types-67-1', 'gene_ids-68-1', 'feature_types-68-1', 'gene_ids-69-1', 'feature_types-69-1', 'GeneID-7-1', 'GeneName-7-1', 'n_cells-7-1', 'gene_ids-70-1', 'feature_types-70-1', 'gene_ids-71-1', 'feature_types-71-1', 'gene_ids-72-1', 'feature_types-72-1', 'gene_ids-73-1', 'feature_types-73-1', 'gene_ids-74-1', 'feature_types-74-1', 'GeneID-75-1', 'GeneName-75-1', 'n_cells-75-1', 'GeneID-76-1', 'GeneName-76-1', 'n_cells-76-1', 'GeneID-77-1', 'GeneName-77-1', 'n_cells-77-1', 'GeneID-78-1', 'GeneName-78-1', 'n_cells-78-1', 'GeneID-79-1', 'GeneName-79-1', 'n_cells-79-1', 'GeneID-8-1', 'GeneName-8-1', 'n_cells-8-1', 'GeneID-80-1', 'GeneName-80-1', 'n_cells-80-1', 'GeneID-81-1', 'GeneName-81-1', 'n_cells-81-1', 'GeneID-82-1', 'GeneName-82-1', 'n_cells-82-1', 'GeneID-83-1', 'GeneName-83-1', 'n_cells-83-1', 'GeneID-84-1', 'GeneName-84-1', 'n_cells-84-1', 'GeneID-85-1', 'GeneName-85-1', 'n_cells-85-1', 'GeneID-86-1', 'GeneName-86-1', 'n_cells-86-1', 'GeneID-87-1', 'GeneName-87-1', 'n_cells-87-1', 'GeneID-88-1', 'GeneName-88-1', 'n_cells-88-1', 'GeneID-89-1', 'GeneName-89-1', 'n_cells-89-1', 'GeneID-9-1', 'GeneName-9-1', 'n_cells-9-1', 'GeneID-90-1', 'GeneName-90-1', 'n_cells-90-1', 'GeneID-91-1', 'GeneName-91-1', 'n_cells-91-1', 'GeneID-92-1', 'GeneName-92-1', 'n_cells-92-1', 'GeneID-93-1', 'GeneName-93-1', 'n_cells-93-1', 'GeneID-94-1', 'GeneName-94-1', 'n_cells-94-1', 'GeneID-95-1', 'GeneName-95-1', 'n_cells-95-1', 'GeneID-96-1', 'GeneName-96-1', 'n_cells-96-1', 'GeneID-97-1', 'GeneName-97-1', 'n_cells-97-1', 'GeneID-98-1', 'GeneName-98-1', 'n_cells-98-1', 'GeneID-99-1', 'GeneName-99-1', 'n_cells-99-1', 'n_counts-1', 'n_cells-1'"
      ]
     },
     "execution_count": 4,
     "metadata": {},
     "output_type": "execute_result"
    }
   ],
   "source": [
    "adataDown = sc.read('/nfs/team292/vl6/FetalReproductiveTract/pre_9pcw_mullerian_wolffian_cellphoneDB.h5ad')\n",
    "adataDown"
   ]
  },
  {
   "cell_type": "code",
   "execution_count": 5,
   "metadata": {},
   "outputs": [
    {
     "data": {
      "text/plain": [
       "array([[0., 0., 1., 0., 3., 0., 0., 0., 0., 0.],\n",
       "       [0., 0., 1., 0., 1., 1., 0., 1., 0., 0.],\n",
       "       [0., 0., 1., 2., 2., 1., 0., 3., 0., 0.],\n",
       "       [4., 0., 2., 1., 2., 0., 0., 2., 0., 0.],\n",
       "       [0., 0., 2., 1., 4., 0., 0., 1., 0., 0.],\n",
       "       [0., 1., 0., 1., 0., 1., 0., 3., 0., 0.],\n",
       "       [0., 0., 0., 0., 3., 1., 0., 0., 0., 0.],\n",
       "       [0., 0., 2., 0., 0., 0., 0., 0., 0., 0.],\n",
       "       [2., 0., 2., 3., 0., 1., 0., 1., 0., 0.],\n",
       "       [0., 1., 1., 1., 3., 2., 0., 0., 0., 0.]], dtype=float32)"
      ]
     },
     "execution_count": 5,
     "metadata": {},
     "output_type": "execute_result"
    }
   ],
   "source": [
    "adataDown.X[20:30, 20:30].toarray()"
   ]
  },
  {
   "cell_type": "markdown",
   "metadata": {},
   "source": [
    "# Save normalised counts gene expression \n",
    "\n",
    "Generate the normalized counts"
   ]
  },
  {
   "cell_type": "code",
   "execution_count": 6,
   "metadata": {},
   "outputs": [
    {
     "data": {
      "text/plain": [
       "(6284, 20582)"
      ]
     },
     "execution_count": 6,
     "metadata": {},
     "output_type": "execute_result"
    }
   ],
   "source": [
    "sc.pp.filter_genes(adataDown, min_cells = 10)\n",
    "sc.pp.normalize_per_cell(adataDown, counts_per_cell_after=1e4)\n",
    "adataDown.X.shape"
   ]
  },
  {
   "cell_type": "code",
   "execution_count": 7,
   "metadata": {},
   "outputs": [
    {
     "data": {
      "text/plain": [
       "celltype\n",
       "Müllerian Epi                1571\n",
       "Müllerian Mese               1571\n",
       "Wolffian Epi                 1571\n",
       "Wolffian/Mesonephros Mese    1571\n",
       "Name: count, dtype: int64"
      ]
     },
     "execution_count": 7,
     "metadata": {},
     "output_type": "execute_result"
    }
   ],
   "source": [
    "adataDown.obs['celltype'].value_counts(dropna = False)"
   ]
  },
  {
   "cell_type": "code",
   "execution_count": 8,
   "metadata": {},
   "outputs": [
    {
     "data": {
      "text/plain": [
       "stage_pcw\n",
       "6.6    1838\n",
       "8.4    1709\n",
       "7.4     640\n",
       "7.0     512\n",
       "5.6     486\n",
       "8.8     389\n",
       "7.8     373\n",
       "8.0     170\n",
       "6.2     167\n",
       "Name: count, dtype: int64"
      ]
     },
     "execution_count": 8,
     "metadata": {},
     "output_type": "execute_result"
    }
   ],
   "source": [
    "adataDown.obs['stage_pcw'].value_counts(dropna = False)"
   ]
  },
  {
   "cell_type": "code",
   "execution_count": 9,
   "metadata": {},
   "outputs": [],
   "source": [
    "adataDown.write('/nfs/team292/vl6/FetalReproductiveTract/CellPhoneDB/Mullerian_and_Wolffian_early/input/counts_normalised.h5ad')"
   ]
  },
  {
   "cell_type": "code",
   "execution_count": 10,
   "metadata": {},
   "outputs": [],
   "source": [
    "def grouped_obs_percent(adata, group_key, layer=None, gene_symbols=None):\n",
    "    if layer is not None:\n",
    "        getX = lambda x: x.layers[layer]\n",
    "    else:\n",
    "        getX = lambda x: x.X\n",
    "    if gene_symbols is not None:\n",
    "        new_idx = adata.var[idx]\n",
    "    else:\n",
    "        new_idx = adata.var_names\n",
    "\n",
    "    grouped = adata.obs.groupby(group_key)\n",
    "    out = pd.DataFrame(\n",
    "        np.zeros((adata.shape[1], len(grouped)), dtype=np.float64),\n",
    "        columns=list(grouped.groups.keys()),\n",
    "        index=adata.var_names\n",
    "    )\n",
    "\n",
    "    for group, idx in grouped.indices.items():\n",
    "        X = getX(adata[idx])\n",
    "        X.data = X.data > 0.01\n",
    "        perc = np.asarray(np.sum(X,axis=0)/X.shape[0]).reshape(-1)\n",
    "        out[group] = [round(i, 2) for i in perc ]\n",
    "    return out\n",
    "\n",
    "\n",
    "def grouped_obs_mean(adata, group_key, layer=None, gene_symbols=None):\n",
    "    if layer is not None:\n",
    "        getX = lambda x: x.layers[layer]\n",
    "    else:\n",
    "        getX = lambda x: x.X\n",
    "    if gene_symbols is not None:\n",
    "        new_idx = adata.var[idx]\n",
    "    else:\n",
    "        new_idx = adata.var_names\n",
    "\n",
    "    grouped = adata.obs.groupby(group_key)\n",
    "    out = pd.DataFrame(\n",
    "        np.zeros((adata.shape[1], len(grouped)), dtype=np.float64),\n",
    "        columns=list(grouped.groups.keys()),\n",
    "        index=adata.var_names\n",
    "    )\n",
    "\n",
    "    for group, idx in grouped.indices.items():\n",
    "        X = getX(adata[idx])\n",
    "        out[group] = np.ravel(X.mean(axis=0, dtype=np.float64))\n",
    "    return out"
   ]
  },
  {
   "cell_type": "code",
   "execution_count": 11,
   "metadata": {},
   "outputs": [],
   "source": [
    "percent = grouped_obs_percent(adataDown, 'celltype')\n",
    "pd.DataFrame(percent).to_csv('/nfs/team292/vl6/FetalReproductiveTract/CellPhoneDB/Mullerian_and_Wolffian_early/input/counts_percent.csv')\n",
    "\n",
    "means = grouped_obs_mean(adataDown, 'celltype')\n",
    "pd.DataFrame(means).to_csv('/nfs/team292/vl6/FetalReproductiveTract/CellPhoneDB/Mullerian_and_Wolffian_early/input/counts_mean.csv')"
   ]
  },
  {
   "cell_type": "markdown",
   "metadata": {},
   "source": [
    "# Save meta"
   ]
  },
  {
   "cell_type": "code",
   "execution_count": 12,
   "metadata": {},
   "outputs": [],
   "source": [
    "df_meta = pd.DataFrame(data={'Cell':list(adataDown.obs.index),\n",
    "                             'cell_type':[ i for i in adataDown.obs['celltype']] })\n",
    "df_meta.set_index('Cell', inplace=True)\n",
    "df_meta.to_csv('/nfs/team292/vl6/FetalReproductiveTract/CellPhoneDB/Mullerian_and_Wolffian_early/input/meta.tsv', sep = '\\t')"
   ]
  },
  {
   "cell_type": "markdown",
   "metadata": {},
   "source": [
    "# Save microenvironments"
   ]
  },
  {
   "cell_type": "code",
   "execution_count": 13,
   "metadata": {},
   "outputs": [
    {
     "data": {
      "text/html": [
       "<div>\n",
       "<style scoped>\n",
       "    .dataframe tbody tr th:only-of-type {\n",
       "        vertical-align: middle;\n",
       "    }\n",
       "\n",
       "    .dataframe tbody tr th {\n",
       "        vertical-align: top;\n",
       "    }\n",
       "\n",
       "    .dataframe thead th {\n",
       "        text-align: right;\n",
       "    }\n",
       "</style>\n",
       "<table border=\"1\" class=\"dataframe\">\n",
       "  <thead>\n",
       "    <tr style=\"text-align: right;\">\n",
       "      <th></th>\n",
       "      <th>microenvironment</th>\n",
       "      <th>celltype</th>\n",
       "    </tr>\n",
       "  </thead>\n",
       "  <tbody>\n",
       "    <tr>\n",
       "      <th>0</th>\n",
       "      <td>Early</td>\n",
       "      <td>Müllerian Epi</td>\n",
       "    </tr>\n",
       "    <tr>\n",
       "      <th>1</th>\n",
       "      <td>Early</td>\n",
       "      <td>Wolffian Epi</td>\n",
       "    </tr>\n",
       "    <tr>\n",
       "      <th>2</th>\n",
       "      <td>Early</td>\n",
       "      <td>Müllerian Mese</td>\n",
       "    </tr>\n",
       "    <tr>\n",
       "      <th>3</th>\n",
       "      <td>Early</td>\n",
       "      <td>Wolffian/Mesonephros Mese</td>\n",
       "    </tr>\n",
       "  </tbody>\n",
       "</table>\n",
       "</div>"
      ],
      "text/plain": [
       "  microenvironment                   celltype\n",
       "0            Early              Müllerian Epi\n",
       "1            Early               Wolffian Epi\n",
       "2            Early             Müllerian Mese\n",
       "3            Early  Wolffian/Mesonephros Mese"
      ]
     },
     "execution_count": 13,
     "metadata": {},
     "output_type": "execute_result"
    }
   ],
   "source": [
    "mylist = [(key, x) for key,val in microenvironments.items() for x in val]\n",
    "df_microenvironments = pd.DataFrame(mylist, columns=['microenvironment', 'celltype'])\n",
    "df_microenvironments"
   ]
  },
  {
   "cell_type": "code",
   "execution_count": 14,
   "metadata": {},
   "outputs": [],
   "source": [
    "# 1st column = cluster; 2nd column = microenvironment \n",
    "df_microenvironments = df_microenvironments[[ 'celltype', 'microenvironment']]\n",
    "df_microenvironments.to_csv('/nfs/team292/vl6/FetalReproductiveTract/CellPhoneDB/Mullerian_and_Wolffian_early/input/microenvironments.tsv', index=False, sep='\\t')"
   ]
  },
  {
   "cell_type": "markdown",
   "metadata": {},
   "source": [
    "## Save pre-calculated DEGs\n",
    "\n",
    "We previously estimated DEGs for each celltype within each lineage (hierarchycal analysis). \n",
    "Here we will upload each DEGs analyssi (one per lineage) and assemble a single file with the upregulated genes in the celltypes of interests."
   ]
  },
  {
   "cell_type": "code",
   "execution_count": 15,
   "metadata": {},
   "outputs": [
    {
     "data": {
      "text/html": [
       "<div>\n",
       "<style scoped>\n",
       "    .dataframe tbody tr th:only-of-type {\n",
       "        vertical-align: middle;\n",
       "    }\n",
       "\n",
       "    .dataframe tbody tr th {\n",
       "        vertical-align: top;\n",
       "    }\n",
       "\n",
       "    .dataframe thead th {\n",
       "        text-align: right;\n",
       "    }\n",
       "</style>\n",
       "<table border=\"1\" class=\"dataframe\">\n",
       "  <thead>\n",
       "    <tr style=\"text-align: right;\">\n",
       "      <th></th>\n",
       "      <th>p_val</th>\n",
       "      <th>avg_log2FC</th>\n",
       "      <th>pct.1</th>\n",
       "      <th>pct.2</th>\n",
       "      <th>p_val_adj</th>\n",
       "      <th>cluster</th>\n",
       "      <th>gene</th>\n",
       "    </tr>\n",
       "  </thead>\n",
       "  <tbody>\n",
       "    <tr>\n",
       "      <th>0</th>\n",
       "      <td>0.0</td>\n",
       "      <td>1.292841</td>\n",
       "      <td>0.872</td>\n",
       "      <td>0.103</td>\n",
       "      <td>0.0</td>\n",
       "      <td>Müllerian Epi</td>\n",
       "      <td>PDLIM1</td>\n",
       "    </tr>\n",
       "    <tr>\n",
       "      <th>1</th>\n",
       "      <td>0.0</td>\n",
       "      <td>1.202645</td>\n",
       "      <td>0.930</td>\n",
       "      <td>0.133</td>\n",
       "      <td>0.0</td>\n",
       "      <td>Müllerian Epi</td>\n",
       "      <td>CDH2</td>\n",
       "    </tr>\n",
       "    <tr>\n",
       "      <th>2</th>\n",
       "      <td>0.0</td>\n",
       "      <td>1.139028</td>\n",
       "      <td>0.781</td>\n",
       "      <td>0.084</td>\n",
       "      <td>0.0</td>\n",
       "      <td>Müllerian Epi</td>\n",
       "      <td>PNOC</td>\n",
       "    </tr>\n",
       "    <tr>\n",
       "      <th>3</th>\n",
       "      <td>0.0</td>\n",
       "      <td>1.120034</td>\n",
       "      <td>0.854</td>\n",
       "      <td>0.303</td>\n",
       "      <td>0.0</td>\n",
       "      <td>Müllerian Epi</td>\n",
       "      <td>MAP1B</td>\n",
       "    </tr>\n",
       "    <tr>\n",
       "      <th>4</th>\n",
       "      <td>0.0</td>\n",
       "      <td>1.020191</td>\n",
       "      <td>0.596</td>\n",
       "      <td>0.067</td>\n",
       "      <td>0.0</td>\n",
       "      <td>Müllerian Epi</td>\n",
       "      <td>PCP4</td>\n",
       "    </tr>\n",
       "  </tbody>\n",
       "</table>\n",
       "</div>"
      ],
      "text/plain": [
       "   p_val  avg_log2FC  pct.1  pct.2  p_val_adj        cluster    gene\n",
       "0    0.0    1.292841  0.872  0.103        0.0  Müllerian Epi  PDLIM1\n",
       "1    0.0    1.202645  0.930  0.133        0.0  Müllerian Epi    CDH2\n",
       "2    0.0    1.139028  0.781  0.084        0.0  Müllerian Epi    PNOC\n",
       "3    0.0    1.120034  0.854  0.303        0.0  Müllerian Epi   MAP1B\n",
       "4    0.0    1.020191  0.596  0.067        0.0  Müllerian Epi    PCP4"
      ]
     },
     "execution_count": 15,
     "metadata": {},
     "output_type": "execute_result"
    }
   ],
   "source": [
    "DEGs = pd.read_csv('/nfs/team292/vl6/FetalReproductiveTract/pre_9pcw_mullerian_wolffian_DEGs.csv', sep = '\\t',header=0)\n",
    "DEGs.head()"
   ]
  },
  {
   "cell_type": "code",
   "execution_count": 16,
   "metadata": {},
   "outputs": [],
   "source": [
    "# Filter significant DEGs\n",
    "cond1 = DEGs['p_val_adj'] < 0.01 \n",
    "cond2 = DEGs['avg_log2FC'] > 0.5\n",
    "cond3 = [i in celltypes_of_interest for i in DEGs['cluster']]\n",
    "mask = [all(tup) for tup in zip(cond1, cond2, cond3)]\n",
    "fDEGs = DEGs[mask]"
   ]
  },
  {
   "cell_type": "code",
   "execution_count": 17,
   "metadata": {},
   "outputs": [
    {
     "name": "stdout",
     "output_type": "stream",
     "text": [
      "cluster\n",
      "Wolffian Epi                 183\n",
      "Wolffian/Mesonephros Mese    107\n",
      "Müllerian Epi                 91\n",
      "Müllerian Mese                72\n",
      "Name: count, dtype: int64\n"
     ]
    },
    {
     "data": {
      "text/html": [
       "<div>\n",
       "<style scoped>\n",
       "    .dataframe tbody tr th:only-of-type {\n",
       "        vertical-align: middle;\n",
       "    }\n",
       "\n",
       "    .dataframe tbody tr th {\n",
       "        vertical-align: top;\n",
       "    }\n",
       "\n",
       "    .dataframe thead th {\n",
       "        text-align: right;\n",
       "    }\n",
       "</style>\n",
       "<table border=\"1\" class=\"dataframe\">\n",
       "  <thead>\n",
       "    <tr style=\"text-align: right;\">\n",
       "      <th></th>\n",
       "      <th>p_val</th>\n",
       "      <th>avg_log2FC</th>\n",
       "      <th>pct.1</th>\n",
       "      <th>pct.2</th>\n",
       "      <th>p_val_adj</th>\n",
       "      <th>cluster</th>\n",
       "      <th>gene</th>\n",
       "    </tr>\n",
       "  </thead>\n",
       "  <tbody>\n",
       "    <tr>\n",
       "      <th>0</th>\n",
       "      <td>0.0</td>\n",
       "      <td>1.292841</td>\n",
       "      <td>0.872</td>\n",
       "      <td>0.103</td>\n",
       "      <td>0.0</td>\n",
       "      <td>Müllerian Epi</td>\n",
       "      <td>PDLIM1</td>\n",
       "    </tr>\n",
       "    <tr>\n",
       "      <th>1</th>\n",
       "      <td>0.0</td>\n",
       "      <td>1.202645</td>\n",
       "      <td>0.930</td>\n",
       "      <td>0.133</td>\n",
       "      <td>0.0</td>\n",
       "      <td>Müllerian Epi</td>\n",
       "      <td>CDH2</td>\n",
       "    </tr>\n",
       "    <tr>\n",
       "      <th>2</th>\n",
       "      <td>0.0</td>\n",
       "      <td>1.139028</td>\n",
       "      <td>0.781</td>\n",
       "      <td>0.084</td>\n",
       "      <td>0.0</td>\n",
       "      <td>Müllerian Epi</td>\n",
       "      <td>PNOC</td>\n",
       "    </tr>\n",
       "    <tr>\n",
       "      <th>3</th>\n",
       "      <td>0.0</td>\n",
       "      <td>1.120034</td>\n",
       "      <td>0.854</td>\n",
       "      <td>0.303</td>\n",
       "      <td>0.0</td>\n",
       "      <td>Müllerian Epi</td>\n",
       "      <td>MAP1B</td>\n",
       "    </tr>\n",
       "    <tr>\n",
       "      <th>4</th>\n",
       "      <td>0.0</td>\n",
       "      <td>1.020191</td>\n",
       "      <td>0.596</td>\n",
       "      <td>0.067</td>\n",
       "      <td>0.0</td>\n",
       "      <td>Müllerian Epi</td>\n",
       "      <td>PCP4</td>\n",
       "    </tr>\n",
       "  </tbody>\n",
       "</table>\n",
       "</div>"
      ],
      "text/plain": [
       "   p_val  avg_log2FC  pct.1  pct.2  p_val_adj        cluster    gene\n",
       "0    0.0    1.292841  0.872  0.103        0.0  Müllerian Epi  PDLIM1\n",
       "1    0.0    1.202645  0.930  0.133        0.0  Müllerian Epi    CDH2\n",
       "2    0.0    1.139028  0.781  0.084        0.0  Müllerian Epi    PNOC\n",
       "3    0.0    1.120034  0.854  0.303        0.0  Müllerian Epi   MAP1B\n",
       "4    0.0    1.020191  0.596  0.067        0.0  Müllerian Epi    PCP4"
      ]
     },
     "execution_count": 17,
     "metadata": {},
     "output_type": "execute_result"
    }
   ],
   "source": [
    "print(fDEGs['cluster'].value_counts())\n",
    "fDEGs.head()"
   ]
  },
  {
   "cell_type": "markdown",
   "metadata": {},
   "source": [
    "### Format table to match cellphoneDB format"
   ]
  },
  {
   "cell_type": "code",
   "execution_count": 18,
   "metadata": {},
   "outputs": [],
   "source": [
    "# 1st column = cluster; 2nd column = gene \n",
    "fDEGs = fDEGs[['cluster', 'gene', 'p_val_adj', 'p_val', 'avg_log2FC', 'pct.1', 'pct.2']] \n",
    "fDEGs.to_csv('/nfs/team292/vl6/FetalReproductiveTract/CellPhoneDB/Mullerian_and_Wolffian_early/input/DEGs_upregulated_genes.tsv', index=False, sep='\\t')"
   ]
  },
  {
   "cell_type": "code",
   "execution_count": null,
   "metadata": {},
   "outputs": [],
   "source": []
  },
  {
   "cell_type": "code",
   "execution_count": null,
   "metadata": {},
   "outputs": [],
   "source": []
  }
 ],
 "metadata": {
  "kernelspec": {
   "display_name": "cpdb",
   "language": "python",
   "name": "cpdb"
  },
  "language_info": {
   "codemirror_mode": {
    "name": "ipython",
    "version": 3
   },
   "file_extension": ".py",
   "mimetype": "text/x-python",
   "name": "python",
   "nbconvert_exporter": "python",
   "pygments_lexer": "ipython3",
   "version": "3.8.16"
  }
 },
 "nbformat": 4,
 "nbformat_minor": 4
}
