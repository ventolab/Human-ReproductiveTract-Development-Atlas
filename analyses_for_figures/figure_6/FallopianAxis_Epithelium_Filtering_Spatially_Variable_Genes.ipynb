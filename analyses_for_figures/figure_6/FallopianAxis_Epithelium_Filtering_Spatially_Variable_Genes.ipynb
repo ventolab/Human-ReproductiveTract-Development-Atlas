{
 "cells": [
  {
   "cell_type": "code",
   "execution_count": null,
   "id": "c47b9397",
   "metadata": {},
   "outputs": [],
   "source": [
    "import numpy as np\n",
    "import pandas as pd\n",
    "from scipy.cluster.hierarchy import dendrogram, linkage\n",
    "import matplotlib.pyplot as plt"
   ]
  },
  {
   "cell_type": "markdown",
   "id": "ec859119",
   "metadata": {},
   "source": [
    "## VISIUM smoothers"
   ]
  },
  {
   "cell_type": "code",
   "execution_count": null,
   "id": "bd3cde25",
   "metadata": {},
   "outputs": [],
   "source": [
    "visium_smoothers_df = pd.read_csv('/lustre/scratch126/cellgen/team292/vl6/VISIUM/fallopian_axis_visium_fitted_values_tradeseq_epithelium.csv', \n",
    "                              index_col = 0)\n",
    "print(visium_smoothers_df.shape)\n",
    "visium_smoothers_df.head()"
   ]
  },
  {
   "cell_type": "markdown",
   "id": "932562bb",
   "metadata": {},
   "source": [
    "## scRNA-seq anndata object for bona fide secretory epithelial genes"
   ]
  },
  {
   "cell_type": "code",
   "execution_count": null,
   "id": "9a70bcb9",
   "metadata": {},
   "outputs": [],
   "source": [
    "import scanpy as sc\n",
    "import anndata"
   ]
  },
  {
   "cell_type": "code",
   "execution_count": null,
   "id": "e6ae9a32",
   "metadata": {},
   "outputs": [],
   "source": [
    "scrnaseq = sc.read('/nfs/team292/vl6/FetalReproductiveTract/post_10pcw_females.20240326.h5ad')\n",
    "scrnaseq.obs['celltype'].value_counts()"
   ]
  },
  {
   "cell_type": "code",
   "execution_count": null,
   "id": "b10fee4c",
   "metadata": {},
   "outputs": [],
   "source": [
    "# Select cell types that might be contaminating the Visium signal \n",
    "scrnaseq = scrnaseq[[i in ['FallopianTube_Mesenchyme', 'Ciliated_Epithelium', 'MesonephricTubules_Epithelium', \n",
    "                          'Endothelial_Lymphatic', 'Erythroid', 'Neural', 'Immune', 'Coelomic_Epithelium', \n",
    "                          'FallopianTube_SmoothMuscle', 'Pre-Perivascular', 'SchwannCell', \n",
    "                          'FallopianTube_Epithelium', 'Endothelial', 'Perivascular', \n",
    "                          'Epoophron_Mesenchyme', 'FallopianTube_Ligament'] for i in scrnaseq.obs['celltype']]]\n",
    "scrnaseq.shape"
   ]
  },
  {
   "cell_type": "markdown",
   "id": "30336a94",
   "metadata": {},
   "source": [
    "## Compare expression of genes across cell types"
   ]
  },
  {
   "cell_type": "code",
   "execution_count": null,
   "id": "7ccdd594",
   "metadata": {},
   "outputs": [],
   "source": [
    "genes = visium_smoothers_df.index.to_list()\n",
    "len(genes)"
   ]
  },
  {
   "cell_type": "code",
   "execution_count": null,
   "id": "142fe72c",
   "metadata": {},
   "outputs": [],
   "source": [
    "genes = [i for i in genes if i in scrnaseq.var_names.to_list()]"
   ]
  },
  {
   "cell_type": "code",
   "execution_count": null,
   "id": "2ea5a590",
   "metadata": {},
   "outputs": [],
   "source": [
    "len(genes)"
   ]
  },
  {
   "cell_type": "code",
   "execution_count": null,
   "id": "6e843385",
   "metadata": {},
   "outputs": [],
   "source": [
    "cell_type_of_interest = 'FallopianTube_Epithelium'"
   ]
  },
  {
   "cell_type": "code",
   "execution_count": null,
   "id": "5c8bbe0e",
   "metadata": {},
   "outputs": [],
   "source": [
    "# Calculate average expression per cell type\n",
    "average_expression = scrnaseq.to_df().groupby(scrnaseq.obs['celltype']).mean()\n",
    "\n",
    "# Filter the average expression table to include only the genes of interest\n",
    "average_expression = average_expression.loc[:, genes]\n",
    "\n",
    "# Create a table to summarize the results\n",
    "summary_table = average_expression.reset_index()"
   ]
  },
  {
   "cell_type": "code",
   "execution_count": null,
   "id": "93830aa2",
   "metadata": {},
   "outputs": [],
   "source": [
    "# First filtering step: Filter the genes based on the criteria that their expression in cell type \"A\" is within the top 3 cell types\n",
    "filtered_genes = []\n",
    "for gene in genes:\n",
    "    # Sort the average expression of the gene across all cell types in descending order\n",
    "    sorted_expression = average_expression[gene].sort_values(ascending=False)\n",
    "    \n",
    "    # Check if the cell type of interest is within the top 4 cell types\n",
    "    if cell_type_of_interest in sorted_expression.index[:4]:\n",
    "        filtered_genes.append(gene)\n",
    "\n",
    "# Filter the summary table to retain only the filtered genes\n",
    "filtered_summary_table = summary_table[['celltype'] + filtered_genes]"
   ]
  },
  {
   "cell_type": "code",
   "execution_count": null,
   "id": "3c07d06b",
   "metadata": {},
   "outputs": [],
   "source": [
    "filtered_summary_table"
   ]
  },
  {
   "cell_type": "code",
   "execution_count": null,
   "id": "a1628eb6",
   "metadata": {},
   "outputs": [],
   "source": [
    "filtered_genes_step2 = []\n",
    "for gene in filtered_genes:\n",
    "    expression_interest = average_expression.loc[cell_type_of_interest, gene]\n",
    "    expression_comparison = average_expression.loc[\"Ciliated_Epithelium\", gene]\n",
    "    \n",
    "    # Check if the expression in the cell type of interest is greater than in the comparison cell type\n",
    "    # or if it's not more than 30% less than in the comparison cell type\n",
    "    if expression_interest > expression_comparison or expression_comparison <= 1.2 * expression_interest:\n",
    "        filtered_genes_step2.append(gene)\n",
    "\n",
    "# Filter the summary table to retain only the filtered genes from the second step\n",
    "filtered_summary_table_step2 = filtered_summary_table[['celltype'] + filtered_genes_step2]\n"
   ]
  },
  {
   "cell_type": "code",
   "execution_count": null,
   "id": "45d2589d",
   "metadata": {},
   "outputs": [],
   "source": [
    "filtered_summary_table_step2"
   ]
  },
  {
   "cell_type": "markdown",
   "id": "ca605711",
   "metadata": {},
   "source": [
    "### Save remaining genes and plot their trends in TradeSeq "
   ]
  },
  {
   "cell_type": "code",
   "execution_count": null,
   "id": "c08484f1",
   "metadata": {},
   "outputs": [],
   "source": [
    "print(filtered_summary_table_step2.columns.to_list())"
   ]
  },
  {
   "cell_type": "code",
   "execution_count": null,
   "id": "579757de",
   "metadata": {},
   "outputs": [],
   "source": []
  }
 ],
 "metadata": {
  "kernelspec": {
   "display_name": "atac_env",
   "language": "python",
   "name": "atac_env"
  },
  "language_info": {
   "codemirror_mode": {
    "name": "ipython",
    "version": 3
   },
   "file_extension": ".py",
   "mimetype": "text/x-python",
   "name": "python",
   "nbconvert_exporter": "python",
   "pygments_lexer": "ipython3",
   "version": "3.8.6"
  }
 },
 "nbformat": 4,
 "nbformat_minor": 5
}
