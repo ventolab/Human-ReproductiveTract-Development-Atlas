{
 "cells": [
  {
   "cell_type": "markdown",
   "metadata": {},
   "source": [
    "## tradeSeq for DE along fallopian tube axis (epithelial spots) in female reproductive tract"
   ]
  },
  {
   "cell_type": "code",
   "execution_count": null,
   "metadata": {},
   "outputs": [],
   "source": [
    "#if (!require(\"BiocManager\", quietly = TRUE))\n",
    "#    install.packages(\"BiocManager\")\n",
    "\n",
    "#BiocManager::install(\"tradeSeq\")"
   ]
  },
  {
   "cell_type": "code",
   "execution_count": null,
   "metadata": {},
   "outputs": [],
   "source": [
    "library(tradeSeq)\n",
    "library(SingleCellExperiment)\n",
    "library(slingshot)"
   ]
  },
  {
   "cell_type": "code",
   "execution_count": null,
   "metadata": {},
   "outputs": [],
   "source": [
    "adata <- readRDS(\"//lustre/scratch126/cellgen/team292/vl6/VISIUM/femalereproductiveaxis_epi_cytassist_downsampled_fallopiantube.rds\")\n",
    "adata\n"
   ]
  },
  {
   "cell_type": "code",
   "execution_count": null,
   "metadata": {},
   "outputs": [],
   "source": [
    "counts <- assay(adata, \"X\")"
   ]
  },
  {
   "cell_type": "code",
   "execution_count": null,
   "metadata": {},
   "outputs": [],
   "source": [
    "set.seed(7)\n",
    "pseudotime <- colData(adata)$FemaleReproductiveAxis\n",
    "cellWeights <- rep(1, 88)"
   ]
  },
  {
   "cell_type": "code",
   "execution_count": null,
   "metadata": {},
   "outputs": [],
   "source": [
    "#icMat <- evaluateK(counts = counts, sds = SlingshotDataSet(adata), k = 3:10, \n",
    "#                   nGenes = 200, verbose = T)"
   ]
  },
  {
   "cell_type": "code",
   "execution_count": null,
   "metadata": {},
   "outputs": [],
   "source": [
    "library(scran)"
   ]
  },
  {
   "cell_type": "code",
   "execution_count": null,
   "metadata": {},
   "outputs": [],
   "source": [
    "libsizes <- colSums(counts)\n",
    "size.factors <- libsizes/mean(libsizes)\n",
    "logcounts(adata) <- log2(t(t(counts)/size.factors) + 1)\n",
    "assayNames(adata)"
   ]
  },
  {
   "cell_type": "code",
   "execution_count": null,
   "metadata": {},
   "outputs": [],
   "source": [
    "# Filter genes with non-zero biological components\n",
    "getVariableGenes <- function(adata,fdr_thresh=NULL,var_thresh=0) {\n",
    "  gene_var <- modelGeneVar(adata)\n",
    "  genes <- getTopHVGs(gene_var, var.threshold =var_thresh ,fdr.threshold = fdr_thresh)\n",
    "  return(genes)\n",
    "}"
   ]
  },
  {
   "cell_type": "code",
   "execution_count": null,
   "metadata": {},
   "outputs": [],
   "source": [
    "genes <- getVariableGenes(adata)"
   ]
  },
  {
   "cell_type": "code",
   "execution_count": null,
   "metadata": {},
   "outputs": [],
   "source": [
    "length(genes)"
   ]
  },
  {
   "cell_type": "code",
   "execution_count": null,
   "metadata": {},
   "outputs": [],
   "source": [
    "dim(counts[genes,])"
   ]
  },
  {
   "cell_type": "code",
   "execution_count": null,
   "metadata": {},
   "outputs": [],
   "source": [
    "sce <- fitGAM(counts = counts[genes,], pseudotime = pseudotime, cellWeights = cellWeights, nknots = 5,\n",
    "                verbose = TRUE, parallel = TRUE)"
   ]
  },
  {
   "cell_type": "code",
   "execution_count": null,
   "metadata": {},
   "outputs": [],
   "source": [
    "table(rowData(sce)$tradeSeq$converged)"
   ]
  },
  {
   "cell_type": "code",
   "execution_count": null,
   "metadata": {},
   "outputs": [],
   "source": [
    "adata <- adata[genes, ]"
   ]
  },
  {
   "cell_type": "code",
   "execution_count": null,
   "metadata": {},
   "outputs": [],
   "source": [
    "adata"
   ]
  },
  {
   "cell_type": "markdown",
   "metadata": {},
   "source": [
    "### ASSOCIATION TEST"
   ]
  },
  {
   "cell_type": "markdown",
   "metadata": {},
   "source": [
    "A first exploration of the data analysis may consist of checking whether gene expression is associated with a particular lineage. The statistical test performed here, implemented in the associationTest function, is testing the null hypothesis that all smoother coefficients are equal to each other. This can be interpreted as testing whether the average gene expression is significantly changing along pseudotime.\n",
    "\n"
   ]
  },
  {
   "cell_type": "code",
   "execution_count": null,
   "metadata": {},
   "outputs": [],
   "source": [
    "assoRes <- associationTest(sce)\n",
    "head(assoRes)"
   ]
  },
  {
   "cell_type": "code",
   "execution_count": null,
   "metadata": {},
   "outputs": [],
   "source": [
    "write.csv(assoRes, file = '/nfs/team292/vl6/FetalReproductiveTract/manuscript_v1/supp_tables/SupplementaryTable8_fallopian_epi_cytassist.csv')\n"
   ]
  },
  {
   "cell_type": "markdown",
   "metadata": {},
   "source": [
    "In order to discover marker genes of the progenitor or differentiated cell population, researchers may be interested in assessing differential expression between the progenitor cell population (i.e., the starting point of a lineage) with the differentiated cell type population (i.e., the end point of a lineage). The function startVsEndTest uses a Wald test to assess the null hypothesis that the average expression at the starting point of the smoother (progenitor population) is equal to the average expression at the end point of the smoother (differentiated population). The test basically involves a comparison between two smoother coefficients for every lineage. The function startVsEndTest performs a global test across all lineages by default (i.e. it compares the start and end positions for all lineages simultaneously), but you can also assess all lineages separately by setting lineages=TRUE. Below, we adopt an omnibus test across the two lineages."
   ]
  },
  {
   "cell_type": "markdown",
   "metadata": {},
   "source": [
    "### Genes strongly associated with pseudotime "
   ]
  },
  {
   "cell_type": "code",
   "execution_count": null,
   "metadata": {},
   "outputs": [],
   "source": [
    "assoRes = assoRes[assoRes$pvalue < 0.001,]"
   ]
  },
  {
   "cell_type": "code",
   "execution_count": null,
   "metadata": {},
   "outputs": [],
   "source": [
    "dim(assoRes)"
   ]
  },
  {
   "cell_type": "code",
   "execution_count": null,
   "metadata": {},
   "outputs": [],
   "source": [
    "assoRes['PNOC', ]"
   ]
  },
  {
   "cell_type": "code",
   "execution_count": null,
   "metadata": {},
   "outputs": [],
   "source": [
    "assoRes['CRTAC1', ]"
   ]
  },
  {
   "cell_type": "code",
   "execution_count": null,
   "metadata": {},
   "outputs": [],
   "source": [
    "assoRes['LYPD1', ]"
   ]
  },
  {
   "cell_type": "code",
   "execution_count": null,
   "metadata": {},
   "outputs": [],
   "source": [
    "assoRes['ERP27', ]"
   ]
  },
  {
   "cell_type": "code",
   "execution_count": null,
   "metadata": {},
   "outputs": [],
   "source": [
    "assoRes['ROS1', ]"
   ]
  },
  {
   "cell_type": "code",
   "execution_count": null,
   "metadata": {},
   "outputs": [],
   "source": [
    "assoRes['MUC6', ]"
   ]
  },
  {
   "cell_type": "code",
   "execution_count": null,
   "metadata": {},
   "outputs": [],
   "source": [
    "assoRes = assoRes[assoRes$meanLogFC > 0.5, ]"
   ]
  },
  {
   "cell_type": "code",
   "execution_count": null,
   "metadata": {},
   "outputs": [],
   "source": [
    "dim(assoRes)"
   ]
  },
  {
   "cell_type": "code",
   "execution_count": null,
   "metadata": {},
   "outputs": [],
   "source": [
    "assoRes = assoRes[assoRes$waldStat > 20, ]"
   ]
  },
  {
   "cell_type": "code",
   "execution_count": null,
   "metadata": {},
   "outputs": [],
   "source": [
    "dim(assoRes)"
   ]
  },
  {
   "cell_type": "code",
   "execution_count": null,
   "metadata": {},
   "outputs": [],
   "source": [
    "write.csv(assoRes, file = \"/lustre/scratch126/cellgen/team292/vl6/VISIUM/FallopianAxis_epi_genes.csv\",\n",
    "          row.names = TRUE)"
   ]
  },
  {
   "cell_type": "code",
   "execution_count": null,
   "metadata": {},
   "outputs": [],
   "source": [
    "assoRes['PNOC', ]"
   ]
  },
  {
   "cell_type": "code",
   "execution_count": null,
   "metadata": {},
   "outputs": [],
   "source": [
    "assoRes['CRTAC1', ]"
   ]
  },
  {
   "cell_type": "code",
   "execution_count": null,
   "metadata": {},
   "outputs": [],
   "source": [
    "assoRes['LYPD1', ]"
   ]
  },
  {
   "cell_type": "code",
   "execution_count": null,
   "metadata": {},
   "outputs": [],
   "source": [
    "assoRes['ERP27', ]"
   ]
  },
  {
   "cell_type": "code",
   "execution_count": null,
   "metadata": {},
   "outputs": [],
   "source": [
    "assoRes['ROS1', ]"
   ]
  },
  {
   "cell_type": "code",
   "execution_count": null,
   "metadata": {},
   "outputs": [],
   "source": [
    "assoRes['MUC6', ]"
   ]
  },
  {
   "cell_type": "code",
   "execution_count": null,
   "metadata": {},
   "outputs": [],
   "source": [
    "assoRes = assoRes[order(assoRes$waldStat, decreasing = TRUE),]"
   ]
  },
  {
   "cell_type": "code",
   "execution_count": null,
   "metadata": {},
   "outputs": [],
   "source": [
    "# Get the index of the DataFrame\n",
    "spatially_variable = c('PNOC', 'MUC6', 'HAPLN3', 'KCNN4', 'GATA6', 'AFAP1L2', 'NOTUM', 'RSPO1', 'RNASE1', 'CRTAC1', 'WT1',\n",
    "                       'ASS1', 'DLGAP1', 'TMEM132B', 'RGL3', 'WDR72', 'ADAM28', 'EGR1', 'KCP', 'ADAMTS1', 'CHRNA4', 'CCN2', \n",
    "                       'LYPD1', 'CD109', 'DOK5', 'MLXIPL', 'ETV4', 'TTYH1', 'PPP2R2B', 'CCN1', 'MCL1', 'PELI2', 'SLC14A1', \n",
    "                       'NPR1', 'SHANK1', 'PCDH17', 'JUN', 'CLDN6', 'FGFR3', 'FGF17', 'FOSB', 'ASCL2', 'ALDH1A2', 'PADI2', \n",
    "                       'HS6ST1', 'PRSS22', 'IRGQ', 'CPXM2', 'TJAP1', 'LHX1', 'CDH22', 'IMPG2', 'BTG2', 'IQCN', 'HOXB3', 'TRIB1',\n",
    "                       'MMP28', 'SLC7A1', 'CSRNP1', 'EGR2', 'CEMIP', 'APOA1', 'AMOTL2', 'ATF3', 'SLITRK2', 'GGT7', 'NR4A1',\n",
    "                       'COX4I1', 'TRMT61A', 'EYA4', 'TSC22D1', 'NFKBIA', 'PALM3', 'MAL2', 'INPPL1', 'MROH1', 'OGT', 'AC008397.1',\n",
    "                       'ST6GALNAC5', 'MMP7', 'BHLHE40', 'GPT', 'WNT6', 'SELENOH', 'ZBED6CL', 'KDM3B', 'LGR5', 'SLC34A2', 'AFAP1L1', \n",
    "                       'RBM22', 'SLBP', 'BCAT1', 'EPS8L2', 'GALNT17', 'FRZB', 'KRT18', 'MPP7', 'RTN3', 'SV2C', 'URI1', 'SLPI',\n",
    "                       'TRAPPC3', 'NDUFA1', 'SP5', 'CARD10', 'CDK16', 'SCRIB', 'NOL4L', 'NME1', 'OBSCN', 'FBN3', 'S100A1', 'CD9', \n",
    "                       'HIC2', 'PSAT1', 'SLC39A10', 'MFAP5', 'CLIC5', 'ADAMTS6', 'PALMD', 'GTF2IRD1', 'CPLX2', 'FGFRL1', 'MAP3K21',\n",
    "                       'TM4SF1', 'MARCH7', 'NHP2', 'PM20D2', 'STOML2', 'ABCB7', 'PSME1', 'MXRA5', 'SET', 'UQCR10', 'VSTM2B', 'TBC1D24', \n",
    "                       'PRR36', 'SRSF9', 'MAGT1', 'SLC25A25', 'LCN12', 'SMARCC1', 'ZNF503', 'SYF2', 'SLC26A7', 'TMED3', 'FAM3B', 'AHCY',\n",
    "                       'KLHL12', 'HIGD2A', 'CHTF18', 'EME2', 'HNRNPL', 'NELL1', 'SERINC5', 'CMTM6', 'S100A13', 'TARBP1', 'BMPR1B', 'CDH6',\n",
    "                       'CREBZF', 'LARS', 'BICRAL', 'IL1R1', 'CHCHD3', 'ERP27', 'SENP6', 'RHOT2', 'APH1A', 'CELSR1', 'NONO', 'SLC27A1',\n",
    "                       'PPHLN1', 'ERG28', 'SMAD4', 'SMIM15', 'ADAMTS15', 'LMF1', 'FDFT1', 'KLK8', 'KLF10', 'SERBP1', 'ADGRB1', 'IMPACT',\n",
    "                       'BABAM2', 'YAP1', 'INTS14', 'OCLN', 'CREG1', 'PPP1R13L', 'RGS10', 'ETFA', 'SLC38A1', 'NCOA7', 'SCAF1', 'ATP1A1', \n",
    "                       'NCKIPSD', 'ZNF148', 'PRIM2', 'DLGAP3', 'CCNB1IP1', 'PPP1R16A', 'PGD', 'NDUFB9', 'NUCKS1', 'MAK16', 'PNRC2',\n",
    "                       'GCHFR', 'ARHGEF3', 'BLACAT1', 'EIF4A1', 'AGER', 'EXD3', 'PKHD1', 'TELO2', 'HNRNPH2',\n",
    "                       'EVPL', 'PRKDC', 'SDHB', 'ANAPC16', 'APEX1', 'TBC1D5', 'DYM', 'GUCY1B1', 'MAFF', 'FAM71A', 'MAP3K15')"
   ]
  },
  {
   "cell_type": "code",
   "execution_count": null,
   "metadata": {},
   "outputs": [],
   "source": [
    "library(ggplot2)"
   ]
  },
  {
   "cell_type": "code",
   "execution_count": null,
   "metadata": {},
   "outputs": [],
   "source": [
    "for (gene in spatially_variable) {\n",
    "    print(gene)\n",
    "    print(plotSmoothers(sce, counts, gene = gene, alpha = 0) + ggtitle(gene) +\n",
    "                          theme(title = element_text(size = 20, face = 'bold'),\n",
    "                                axis.title = element_text(size = 20),\n",
    "                                axis.text = element_text(size = 20),\n",
    "                                legend.text = element_text(size = 20),\n",
    "                                legend.title = element_text(size = 20, face = \"bold\")))\n",
    "}"
   ]
  },
  {
   "cell_type": "code",
   "execution_count": null,
   "metadata": {},
   "outputs": [],
   "source": [
    "model_vals_df <- predictSmooth(models = sce, gene=row.names(assoRes), nPoints=100) # output is 708 genes x 100 pseudospace values "
   ]
  },
  {
   "cell_type": "code",
   "execution_count": null,
   "metadata": {},
   "outputs": [],
   "source": [
    "model_vals_mtx <- predictSmooth(models = sce, gene=row.names(assoRes), nPoints=100, tidy=FALSE)"
   ]
  },
  {
   "cell_type": "code",
   "execution_count": null,
   "metadata": {},
   "outputs": [],
   "source": [
    "dim(model_vals_mtx) # 1207 genes x 100 pseudospace values "
   ]
  },
  {
   "cell_type": "code",
   "execution_count": null,
   "metadata": {},
   "outputs": [],
   "source": [
    "write.csv(model_vals_mtx, file = '/lustre/scratch126/cellgen/team292/vl6/VISIUM/fallopian_axis_visium_fitted_values_tradeseq_epithelium.csv')\n"
   ]
  },
  {
   "cell_type": "code",
   "execution_count": null,
   "metadata": {},
   "outputs": [],
   "source": []
  },
  {
   "cell_type": "code",
   "execution_count": null,
   "metadata": {},
   "outputs": [],
   "source": [
    "erp27 <- plotSmoothers(sce, counts, gene = 'ERP27', alpha=0, \n",
    "                    xlab = \"Female Reproductive Axis\",\n",
    "  ylab = \"Log(expression + 1)\", border = FALSE) + ggtitle(\"ERP27\") + theme(title = element_text(size = 20, face = 'bold'), axis.title=element_text(size=20), axis.text=element_text(size=20), legend.text = element_text(size=20),\n",
    "     legend.title = element_text(size=20, face = \"bold\"))+ theme_light()+ ylim(0, 3)\n",
    "erp27"
   ]
  },
  {
   "cell_type": "code",
   "execution_count": null,
   "metadata": {},
   "outputs": [],
   "source": [
    "pnoc <- plotSmoothers(sce, counts, gene = 'PNOC', alpha =0, \n",
    "                     xlab = \"Female Reproductive Axis\",\n",
    "  ylab = \"Log(expression + 1)\", border = FALSE) + ggtitle(\"PNOC\") + theme(title = element_text(size = 20, face = 'bold'), axis.title=element_text(size=20), axis.text=element_text(size=20), legend.text = element_text(size=20),\n",
    "     legend.title = element_text(size=20, face = \"bold\"))+ theme_light()+ ylim(0, 5)\n",
    "pnoc"
   ]
  },
  {
   "cell_type": "code",
   "execution_count": null,
   "metadata": {},
   "outputs": [],
   "source": [
    "ttyh1 <- plotSmoothers(sce, counts, gene = 'TTYH1', alpha =0, \n",
    "                     xlab = \"Female Reproductive Axis\",\n",
    "  ylab = \"Log(expression + 1)\", border = FALSE) + ggtitle(\"TTYH1\") + theme(title = element_text(size = 20, face = 'bold'), axis.title=element_text(size=20), axis.text=element_text(size=20), legend.text = element_text(size=20),\n",
    "     legend.title = element_text(size=20, face = \"bold\"))+ theme_light()+ ylim(0, 3.5)\n",
    "ttyh1"
   ]
  },
  {
   "cell_type": "code",
   "execution_count": null,
   "metadata": {},
   "outputs": [],
   "source": [
    "wt1 <- plotSmoothers(sce, counts, gene = 'WT1', alpha=0, \n",
    "                     xlab = \"Female Reproductive Axis\",\n",
    "  ylab = \"Log(expression + 1)\", border = FALSE) + ggtitle(\"WT1\") + theme(title = element_text(size = 20, face = 'bold'), axis.title=element_text(size=20), axis.text=element_text(size=20), legend.text = element_text(size=20),\n",
    "     legend.title = element_text(size=20, face = \"bold\"))+ theme_light()+ ylim(0, 5)\n",
    "wt1"
   ]
  },
  {
   "cell_type": "code",
   "execution_count": null,
   "metadata": {},
   "outputs": [],
   "source": []
  },
  {
   "cell_type": "code",
   "execution_count": null,
   "metadata": {},
   "outputs": [],
   "source": [
    "muc6 <- plotSmoothers(sce, counts, gene = 'MUC6', alpha=0, \n",
    "                     xlab = \"Female Reproductive Axis\",\n",
    "  ylab = \"Log(expression + 1)\", border = FALSE) + ggtitle(\"MUC6\") + theme(title = element_text(size = 20, face = 'bold'), axis.title=element_text(size=20), axis.text=element_text(size=20), legend.text = element_text(size=20),\n",
    "     legend.title = element_text(size=20, face = \"bold\"))+ theme_light()+ ylim(0, 7)\n",
    "muc6"
   ]
  },
  {
   "cell_type": "code",
   "execution_count": null,
   "metadata": {},
   "outputs": [],
   "source": [
    "alpk1 <- plotSmoothers(sce, counts, gene = 'PAX2', alpha=0) + ggtitle(\"PAX2\") + theme(title = element_text(size = 20, face = 'bold'), axis.title=element_text(size=20), axis.text=element_text(size=20), legend.text = element_text(size=20),\n",
    "     legend.title = element_text(size=20, face = \"bold\"))\n",
    "alpk1"
   ]
  },
  {
   "cell_type": "code",
   "execution_count": null,
   "metadata": {},
   "outputs": [],
   "source": [
    "LYPD1 <- plotSmoothers(sce, counts, gene = 'LYPD1', alpha=0) + ggtitle(\"LYPD1\") + theme(title = element_text(size = 20, face = 'bold'), axis.title=element_text(size=20), axis.text=element_text(size=20), legend.text = element_text(size=20),\n",
    "     legend.title = element_text(size=20, face = \"bold\"))\n",
    "LYPD1"
   ]
  },
  {
   "cell_type": "code",
   "execution_count": null,
   "metadata": {},
   "outputs": [],
   "source": [
    "p <- grid.arrange(pnoc, erp27, WDR72, muc6, nrow = 2, ncol = 2)"
   ]
  },
  {
   "cell_type": "code",
   "execution_count": null,
   "metadata": {},
   "outputs": [],
   "source": [
    "ggsave('/home/jovyan/RepTract/figures-epithelial/visium_fallopiantube_tradeseq.pdf',\n",
    "       plot = p,\n",
    "       width = 8, height = 8, dpi = 300)"
   ]
  },
  {
   "cell_type": "code",
   "execution_count": null,
   "metadata": {},
   "outputs": [],
   "source": []
  },
  {
   "cell_type": "code",
   "execution_count": null,
   "metadata": {},
   "outputs": [],
   "source": []
  }
 ],
 "metadata": {
  "kernelspec": {
   "display_name": "R",
   "language": "R",
   "name": "ir"
  },
  "language_info": {
   "codemirror_mode": "r",
   "file_extension": ".r",
   "mimetype": "text/x-r-source",
   "name": "R",
   "pygments_lexer": "r",
   "version": "4.0.3"
  }
 },
 "nbformat": 4,
 "nbformat_minor": 4
}
