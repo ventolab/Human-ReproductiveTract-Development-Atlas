{
 "cells": [
  {
   "cell_type": "code",
   "execution_count": null,
   "id": "20664431",
   "metadata": {},
   "outputs": [],
   "source": [
    "import scanpy as sc\n",
    "import anndata as ad\n",
    "import squidpy as sq\n",
    "import os\n",
    "\n",
    "import numpy as np\n",
    "import pandas as pd\n",
    "\n",
    "sc.logging.print_header()\n",
    "print(f\"squidpy=={sq.__version__}\")"
   ]
  },
  {
   "cell_type": "code",
   "execution_count": null,
   "id": "7abc5d83",
   "metadata": {},
   "outputs": [],
   "source": [
    "sc.settings.set_figure_params(dpi=150)\n",
    "import skimage.io as io"
   ]
  },
  {
   "cell_type": "code",
   "execution_count": null,
   "id": "975b5be5",
   "metadata": {},
   "outputs": [],
   "source": [
    "path_to_visium = '/lustre/scratch126/cellgen/team292/vl6/VISIUM/'"
   ]
  },
  {
   "cell_type": "code",
   "execution_count": null,
   "id": "4168bbf1",
   "metadata": {},
   "outputs": [],
   "source": [
    "# Add metadata \n",
    "meta_dict = {'sample' : ['HCA_F_RepTsp13147665', 'HCA_F_RepTsp13147666', 'HCA_F_RepTsp13173760', 'HCA_F_RepTsp13173761', \n",
    "                       'HCA_F_RepTsp13173762', 'HCA_F_RepTsp13173763', 'HCA_F_RepTsp13219892', 'HCA_F_RepTsp13219893', \n",
    "                        'HCA_F_RepTsp13219894', 'HCA_F_RepTsp13219895', 'HCA_F_RepTsp13447718', 'HCA_F_RepTsp13447719',\n",
    "                        'HCA_F_RepTsp13447720', 'HCA_F_RepTsp13447721',  'HCA_F_RepTsp13902013', 'HCA_F_RepTsp13902014', 'HCA_F_RepTsp13902015', \n",
    "                        'HCA_F_RepTsp13902016', 'HCA_F_RepTsp13902018', 'HCA_F_RepTsp13902017', \n",
    "                        'HCA_F_RepTsp13902019', 'HCA_F_RepTsp13902020'],\n",
    "            'sangerID' : ['Hrv58-GON-0-FO-1-s84', 'Hrv58-GON-0-FO-1-s80', 'HRV183-RPT-0-FO-1-S14_and_HRV183-RPT-0-FO-1-S12', \n",
    "                         'HRV183-RPT-0-FO-1-S9', 'HRV162-RPT-0-FO-1-S176_and_HRV183-RPT-0-FO-1-S26', 'HRV162-RPT-0-FO-1-S161_and_HRV162-RPT-0-FO-1-S162', \n",
    "                         'Hrv117-GON-0-FO-1-S109', 'HRV184-RPT-0-FO-2-S34_and_HRV184-RPT-0-FO-2-S31_and_Hrv117-GON-0-FO-1-S116', \n",
    "                         'HRV129-GON-0-FO-1-S42', 'HRV184-RPT-0-FO-1-S26', 'Hrv125-GON-0-FO-5-S65-A1', \n",
    "                         'Hrv125-GON-0-FO-5-S66-B1', 'Hrv125-GON-0-FO-5-S18-C1', 'Hrv125-GON-0-FO-5-S17-D1', 'Hrv238-RPT-0-FO-1-S39', 'Hrv238-RPT-0-FO-1-S24',\n",
    "                          'Hrv214-RPT-0-FO-1-S58', 'Hrv214-RPT-0-FO-1-S57', 'Hrv245-RPT-9-FO-1-S13', \n",
    "                         'A70-RPT-9-FO-1-S39', 'A70-RPT-9-FO-1-S40', 'A70-RPT-9-FO-1-S41'],\n",
    "            'slide' : ['V12F14-072', 'V12F14-072', 'V12F14-073', 'V12F14-073', 'V12F14-073', 'V12F14-073', \n",
    "                      'V12F14-077', 'V12F14-077', 'V12F14-077', 'V12F14-077', 'V12Y31-055', 'V12Y31-055', \n",
    "                      'V12Y31-055', 'V12Y31-055', 'V42L11-100', 'V42L11-100', 'V42L18-060', 'V42L18-060', \n",
    "                      'V42L13-373', 'V42L13-373', 'V43J19-097', 'V43J19-097'], \n",
    "            'position' : ['A1', 'D1', 'A1', 'B1', 'C1', 'D1', 'A1', 'B1', 'C1', 'D1', 'A1', 'B1', 'C1', 'D1', \n",
    "                         'A1', 'D1', 'A1', 'D1', 'A1', 'D1', 'A1', 'D1'], \n",
    "#            'image_name' : ['V12F14-072_A1.tif', 'V12F14-072_D1.tif', 'V12F14-073_A1.tif', 'V12F14-073_B1.tif', 'V12F14-073_C1.tif', 'V12F14-073_D1.tif', \n",
    "#                           'V12F14-077_A1.tif', 'V12F14-077_B1.tif', 'V12F14-077_C1.tif', 'V12F14-077_D1.tif', 'V12Y31-055_A1.tiff',\n",
    "#                           'V12Y31-055_B1.tiff', 'V12Y31-055_C1.tiff', 'V12Y31-055_D1.tiff'], \n",
    "            'donor' : ['Hrv58', 'Hrv58',  'Hrv183', 'Hrv183', 'Hrv162_and_Hrv183', 'Hrv162', 'Hrv117', 'Hrv184_and_Hrv117', 'Hrv129', 'Hrv184',\n",
    "                      'Hrv125', 'Hrv125', 'Hrv125', 'Hrv125', 'Hrv238', 'Hrv238', 'Hrv214', 'Hrv214', 'Hrv245', \n",
    "                      'A70', 'A70', 'A70'], \n",
    "            'stage(pcw)' : ['18', '18', '15', '15', '15_and_21', '21', '20', '15_and_20', '17', '15', \n",
    "                           '21','21','21','21', '17', '17', '15', '15', '15', '37YO', '37YO', '37YO'], \n",
    "            'sex' : ['female', 'female', 'female', 'female', 'female', 'female', 'male', 'male', 'male', 'male',\n",
    "                    'female', 'female', 'female', 'female',  'female', 'female', 'female', 'female', 'female', \n",
    "                    'female', 'female', 'female'], \n",
    "           'sectioning' : ['coronal', 'coronal', 'coronal', 'coronal', 'coronal_and_transverse', 'transverse', 'transverse', 'transverse_and_coronal', \n",
    "                          'transverse', 'transverse', 'coronal', 'coronal', 'sagittal', 'sagittal', \n",
    "                          'coronal', \n",
    "                          'coronal', 'sagittal', 'sagittal', 'sagittal', 'sagittal', 'sagittal', 'sagittal'], \n",
    "            'permeabilisation(min)' : [30, 30, 30, 30, 30, 30, 30, 30, 30, 30,  30, 30, 30, 30, 30, 30, 30, 30, 30,\n",
    "                                      30, 30, 30],\n",
    "           'month_processing' : ['august', 'august', 'september', 'september', 'september', 'september', 'october', 'october', 'october', 'october', \n",
    "                                'january', 'january','january','january', 'july', 'july', 'july', 'july', 'july',\n",
    "                                'july', 'july', 'july' ], \n",
    "           'spaceranger' : ['2.0.0', '2.0.0', '2.0.0', '2.0.0', '2.0.0', '2.0.0', '2.0.0', '2.0.0', \n",
    "                            '2.0.0', '2.0.0', '2.0.0', '2.0.0', '2.0.0', '2.0.0', '2.1.0', '2.1.0', '2.1.0', '2.1.0', \n",
    "                           '2.1.0', '2.1.0', '2.1.0', \n",
    "                           '2.1.0']}\n",
    "\n",
    "\n",
    "meta = pd.DataFrame.from_dict(meta_dict)\n",
    "meta = meta.set_index('sample')\n",
    "meta\n"
   ]
  },
  {
   "cell_type": "code",
   "execution_count": null,
   "id": "cfc85de2",
   "metadata": {},
   "outputs": [],
   "source": [
    "meta = pd.DataFrame.from_dict(meta_dict)\n",
    "meta = meta.set_index('sample')\n",
    "meta.head()"
   ]
  },
  {
   "cell_type": "code",
   "execution_count": null,
   "id": "2920338e",
   "metadata": {},
   "outputs": [],
   "source": [
    "import anndata"
   ]
  },
  {
   "cell_type": "code",
   "execution_count": null,
   "id": "f0af8594",
   "metadata": {},
   "outputs": [],
   "source": [
    "samples =  ['HCA_F_RepTsp13902017', 'HCA_F_RepTsp13902019', 'HCA_F_RepTsp13902020']\n",
    "holder = []\n",
    "for s in samples: \n",
    "    adata = sc.read(path_to_visium + s + '/' + s + '_annotated.h5ad')\n",
    "    adata.var_names_make_unique()\n",
    "    # Select only spots corresponding to tissue\n",
    "    adata.obs['sample'] = s\n",
    "    adata.obs[\"sample\"] = [str(i) for i in adata.obs['sample']]\n",
    "    adata.obs_names = adata.obs[\"sample\"] \\\n",
    "                          + '_' + adata.obs_names\n",
    "    adata = adata[[i == 1.0 for i in adata.obs['in_tissue']]]\n",
    "    print(adata.shape)\n",
    "    holder.append(adata)"
   ]
  },
  {
   "cell_type": "code",
   "execution_count": null,
   "id": "711ea922",
   "metadata": {},
   "outputs": [],
   "source": [
    "sc.set_figure_params(scanpy=True, dpi=80, dpi_save=150, frameon=True, vector_friendly=True, fontsize=14, \n",
    "                     figsize=[6,6], color_map=None, format='pdf', facecolor=None, transparent=False)"
   ]
  },
  {
   "cell_type": "code",
   "execution_count": null,
   "id": "1930f6f3",
   "metadata": {},
   "outputs": [],
   "source": [
    "import matplotlib as mpl\n",
    "mpl.rcParams['pdf.fonttype'] = 42"
   ]
  },
  {
   "cell_type": "code",
   "execution_count": null,
   "id": "bcf73b8b",
   "metadata": {},
   "outputs": [],
   "source": [
    "sc.pl.spatial(holder[0],\n",
    "             save = '_fimbria_h&e')"
   ]
  },
  {
   "cell_type": "code",
   "execution_count": null,
   "id": "387eb269",
   "metadata": {},
   "outputs": [],
   "source": [
    "sc.pl.spatial(holder[0], color=\"histology_annots\", palette = ['gold', 'darkorange'], \n",
    "             save = '_fimbria_hist')\n"
   ]
  },
  {
   "cell_type": "code",
   "execution_count": null,
   "id": "c9dcd2ac",
   "metadata": {},
   "outputs": [],
   "source": [
    "holder[0].raw = holder[0].copy()\n",
    "sc.pp.normalize_total(holder[0], inplace=True)\n",
    "sc.pp.log1p(holder[0])"
   ]
  },
  {
   "cell_type": "code",
   "execution_count": null,
   "id": "3ce85510",
   "metadata": {},
   "outputs": [],
   "source": [
    "sc.pl.spatial(holder[0], color=[\"CRTAC1\"], cmap = 'jet', use_raw = False, # limit color scale at 99.2% quantile of cell abundance\n",
    "                  vmin=0, vmax='p99.7', size = 1.2,\n",
    "             save = '_fimbria_CRTAC1')"
   ]
  },
  {
   "cell_type": "code",
   "execution_count": null,
   "id": "04869f42",
   "metadata": {},
   "outputs": [],
   "source": [
    "sc.pl.spatial(holder[0], color=\"PNOC\", cmap = 'jet', use_raw = False, \n",
    "              vmin=0, vmax='p99.7', size = 1.2,\n",
    "             save = '_fimbria_PNOC')"
   ]
  },
  {
   "cell_type": "code",
   "execution_count": null,
   "id": "a0aea9b6",
   "metadata": {},
   "outputs": [],
   "source": [
    "sc.pl.spatial(holder[0], color=\"MUC6\", cmap = 'jet', use_raw = False, \n",
    "              vmin=0, vmax='p99.7', size = 1.2,\n",
    "             save = '_fimbria_MUC6')"
   ]
  },
  {
   "cell_type": "code",
   "execution_count": null,
   "id": "08ecd6b4",
   "metadata": {},
   "outputs": [],
   "source": [
    "sc.pl.spatial(holder[0], color=[\"WDR72\"], cmap = 'jet', use_raw = False, # limit color scale at 99.2% quantile of cell abundance\n",
    "                  vmin=0, vmax='p99.7', size = 1.2,\n",
    "             save = '_fimbria_WDR72')"
   ]
  },
  {
   "cell_type": "code",
   "execution_count": null,
   "id": "9e913dfa",
   "metadata": {},
   "outputs": [],
   "source": [
    "sc.pl.spatial(holder[0], color=[\"KCNN4\"], cmap = 'jet', use_raw = False, # limit color scale at 99.2% quantile of cell abundance\n",
    "                  vmin=0, vmax='p99.7', size = 1.2,\n",
    "             save = '_fimbria_KCNN4')"
   ]
  },
  {
   "cell_type": "code",
   "execution_count": null,
   "id": "c739527b",
   "metadata": {},
   "outputs": [],
   "source": [
    "sc.pl.spatial(holder[0], color=[\"GRAMD2A\"], cmap = 'jet', use_raw = False, # limit color scale at 99.2% quantile of cell abundance\n",
    "                  vmin=0, vmax='p99.7', size = 1.2,\n",
    "             save = '_fimbria_GRAMD2A')"
   ]
  },
  {
   "cell_type": "code",
   "execution_count": null,
   "id": "fbd8046e",
   "metadata": {},
   "outputs": [],
   "source": []
  },
  {
   "cell_type": "code",
   "execution_count": null,
   "id": "330664bf",
   "metadata": {},
   "outputs": [],
   "source": [
    "holder[1].raw = holder[1].copy()\n",
    "sc.pp.normalize_total(holder[1], inplace=True)\n",
    "sc.pp.log1p(holder[1])"
   ]
  },
  {
   "cell_type": "code",
   "execution_count": null,
   "id": "b8ae9ed7",
   "metadata": {},
   "outputs": [],
   "source": [
    "sc.pl.spatial(holder[1], color=\"CRTAC1\", cmap = 'jet', use_raw = False,\n",
    "              vmin=0, vmax='p99.7', size = 1.2,\n",
    "             save = '_ampulla_CRTAC1')"
   ]
  },
  {
   "cell_type": "code",
   "execution_count": null,
   "id": "ad410955",
   "metadata": {},
   "outputs": [],
   "source": [
    "sc.pl.spatial(holder[1], color=\"PNOC\", cmap = 'jet', use_raw = False, \n",
    "              vmin=0, vmax='p99.7', size = 1.2,\n",
    "             save = '_ampulla_PNOC')"
   ]
  },
  {
   "cell_type": "code",
   "execution_count": null,
   "id": "17bb58bf",
   "metadata": {},
   "outputs": [],
   "source": [
    "sc.pl.spatial(holder[1], color=\"MUC6\", cmap = 'jet', use_raw = False, \n",
    "              vmin=0, vmax='p99.7', size = 1.2,\n",
    "             save = '_ampulla_MUC6')"
   ]
  },
  {
   "cell_type": "code",
   "execution_count": null,
   "id": "d69c0a57",
   "metadata": {},
   "outputs": [],
   "source": [
    "sc.pl.spatial(holder[1], color=[\"WDR72\"], cmap = 'jet', use_raw = False, # limit color scale at 99.2% quantile of cell abundance\n",
    "                  vmin=0, vmax='p99.7', size = 1.2,\n",
    "             save = '_ampulla_WDR72')"
   ]
  },
  {
   "cell_type": "code",
   "execution_count": null,
   "id": "5e9814a3",
   "metadata": {},
   "outputs": [],
   "source": [
    "sc.pl.spatial(holder[1], color=[\"KCNN4\"], cmap = 'jet', use_raw = False, # limit color scale at 99.2% quantile of cell abundance\n",
    "                  vmin=0, vmax='p99.7', size = 1.2,\n",
    "             save = '_ampulla_KCNN4')"
   ]
  },
  {
   "cell_type": "code",
   "execution_count": null,
   "id": "0a7c19e8",
   "metadata": {},
   "outputs": [],
   "source": [
    "sc.pl.spatial(holder[1], color=[\"GRAMD2A\"], cmap = 'jet', use_raw = False, # limit color scale at 99.2% quantile of cell abundance\n",
    "                  vmin=0, vmax='p99.7', size = 1.2,\n",
    "             save = '_ampulla_GRAMD2A')"
   ]
  },
  {
   "cell_type": "code",
   "execution_count": null,
   "id": "88f90b25",
   "metadata": {},
   "outputs": [],
   "source": [
    "sc.pl.spatial(holder[1],\n",
    "             save = '_ampulla_h&e')"
   ]
  },
  {
   "cell_type": "code",
   "execution_count": null,
   "id": "f3adbdb8",
   "metadata": {},
   "outputs": [],
   "source": [
    "sc.pl.spatial(holder[1], color=\"histology_annots\", palette = ['gold', 'darkorange', 'forestgreen'], \n",
    "             save = '_ampulla_hist')"
   ]
  },
  {
   "cell_type": "code",
   "execution_count": null,
   "id": "8cd10c5c",
   "metadata": {},
   "outputs": [],
   "source": [
    "holder[2].raw = holder[2].copy()\n",
    "sc.pp.normalize_total(holder[2], inplace=True)\n",
    "sc.pp.log1p(holder[2])"
   ]
  },
  {
   "cell_type": "code",
   "execution_count": null,
   "id": "7fdfc990",
   "metadata": {},
   "outputs": [],
   "source": [
    "sc.pl.spatial(holder[2], color=\"CRTAC1\", cmap = 'jet', use_raw = False, \n",
    "              vmin=0, vmax='p99.7', size = 1.2,\n",
    "             save = '_isthmus_CRTAC1')"
   ]
  },
  {
   "cell_type": "code",
   "execution_count": null,
   "id": "ec6ad184",
   "metadata": {},
   "outputs": [],
   "source": [
    "sc.pl.spatial(holder[2], color=\"PNOC\", cmap = 'jet', use_raw = False, \n",
    "              vmin=0, vmax='p99.7', size = 1.2,\n",
    "             save = '_isthmus_PNOC')"
   ]
  },
  {
   "cell_type": "code",
   "execution_count": null,
   "id": "849de53c",
   "metadata": {},
   "outputs": [],
   "source": [
    "sc.pl.spatial(holder[2], color=\"MUC6\", cmap = 'jet', use_raw = False, \n",
    "              vmin=0, vmax='p99.7', size = 1.2,\n",
    "             save = '_isthmus_MUC6')"
   ]
  },
  {
   "cell_type": "code",
   "execution_count": null,
   "id": "53f6ec10",
   "metadata": {},
   "outputs": [],
   "source": [
    "sc.pl.spatial(holder[2], color=[\"WDR72\"], cmap = 'jet', use_raw = False, # limit color scale at 99.2% quantile of cell abundance\n",
    "                  vmin=0, vmax='p99.7', size = 1.2,\n",
    "             save = '_isthmus_WDR72')"
   ]
  },
  {
   "cell_type": "code",
   "execution_count": null,
   "id": "e8fcbe44",
   "metadata": {},
   "outputs": [],
   "source": [
    "sc.pl.spatial(holder[2], color=[\"KCNN4\"], cmap = 'jet', use_raw = False, # limit color scale at 99.2% quantile of cell abundance\n",
    "                  vmin=0, vmax='p99.7', size = 1.2,\n",
    "             save = '_isthmus_KCNN4')"
   ]
  },
  {
   "cell_type": "code",
   "execution_count": null,
   "id": "82ea243c",
   "metadata": {},
   "outputs": [],
   "source": [
    "sc.pl.spatial(holder[2], color=[\"GRAMD2A\"], cmap = 'jet', use_raw = False, # limit color scale at 99.2% quantile of cell abundance\n",
    "                  vmin=0, vmax='p99.7', size = 1.2,\n",
    "             save = '_isthmus_GRAMD2A')"
   ]
  },
  {
   "cell_type": "code",
   "execution_count": null,
   "id": "8ae03eeb",
   "metadata": {},
   "outputs": [],
   "source": [
    "sc.pl.spatial(holder[2],\n",
    "             save = '_isthmus_h&e')"
   ]
  },
  {
   "cell_type": "code",
   "execution_count": null,
   "id": "ed6d32bc",
   "metadata": {},
   "outputs": [],
   "source": [
    "sc.pl.spatial(holder[2], color=\"histology_annots\", palette = ['gold', 'darkorange', 'forestgreen'], \n",
    "             save = '_isthmus_hist')"
   ]
  },
  {
   "cell_type": "code",
   "execution_count": null,
   "id": "841500cf",
   "metadata": {},
   "outputs": [],
   "source": [
    "holder[2].raw.X[20:25, 20:25].toarray()"
   ]
  },
  {
   "cell_type": "code",
   "execution_count": null,
   "id": "3135435e",
   "metadata": {},
   "outputs": [],
   "source": [
    "import anndata\n",
    "holder[0] = anndata.AnnData(X = holder[0].raw.X, var = holder[0].raw.var, obs = holder[0].obs)\n",
    "holder[1] = anndata.AnnData(X = holder[1].raw.X, var = holder[1].raw.var, obs = holder[1].obs)\n",
    "holder[2] = anndata.AnnData(X = holder[2].raw.X, var = holder[2].raw.var, obs = holder[2].obs)"
   ]
  },
  {
   "cell_type": "code",
   "execution_count": null,
   "id": "d107e06d",
   "metadata": {},
   "outputs": [],
   "source": [
    "adata_raw = holder[0].concatenate(holder[1:], join='outer', index_unique=None)\n",
    "adata_raw.X = adata_raw.X.tocsr()\n",
    "adata_raw"
   ]
  },
  {
   "cell_type": "code",
   "execution_count": null,
   "id": "55bbb032",
   "metadata": {},
   "outputs": [],
   "source": [
    "for col in meta.columns:\n",
    "    adata_raw.obs[col] = adata_raw.obs['sample'].map(meta[col].to_dict())"
   ]
  },
  {
   "cell_type": "code",
   "execution_count": null,
   "id": "b5a3f33c",
   "metadata": {},
   "outputs": [],
   "source": [
    "adata_raw.obs['histology_annots'].value_counts(dropna = False)"
   ]
  },
  {
   "cell_type": "code",
   "execution_count": null,
   "id": "79d7edf1",
   "metadata": {},
   "outputs": [],
   "source": [
    "adata_raw.obs['histology_annots'] = adata_raw.obs['histology_annots'].astype(str)"
   ]
  },
  {
   "cell_type": "code",
   "execution_count": null,
   "id": "98490de2",
   "metadata": {},
   "outputs": [],
   "source": [
    "adata_raw.obs['histology_annots'].value_counts(dropna = False)"
   ]
  },
  {
   "cell_type": "code",
   "execution_count": null,
   "id": "421ae40a",
   "metadata": {},
   "outputs": [],
   "source": [
    "adata_raw = adata_raw[[i not in ['Background', 'nan'] for i in adata_raw.obs['histology_annots']]]"
   ]
  },
  {
   "cell_type": "code",
   "execution_count": null,
   "id": "409a08be",
   "metadata": {},
   "outputs": [],
   "source": [
    "adata_raw.obs['histology_annots'].value_counts(dropna = False)"
   ]
  },
  {
   "cell_type": "code",
   "execution_count": null,
   "id": "a23ade7c",
   "metadata": {},
   "outputs": [],
   "source": [
    "adata = adata_raw.copy()"
   ]
  },
  {
   "cell_type": "code",
   "execution_count": null,
   "id": "18498e6b",
   "metadata": {},
   "outputs": [],
   "source": [
    "adata"
   ]
  },
  {
   "cell_type": "code",
   "execution_count": null,
   "id": "507c9a08",
   "metadata": {},
   "outputs": [],
   "source": [
    "adata.obs['sample'].value_counts()"
   ]
  },
  {
   "cell_type": "code",
   "execution_count": null,
   "id": "11281103",
   "metadata": {},
   "outputs": [],
   "source": [
    "adata.X[30:40,30:40].toarray()"
   ]
  },
  {
   "cell_type": "code",
   "execution_count": null,
   "id": "c6842d76",
   "metadata": {},
   "outputs": [],
   "source": [
    "sc.pp.filter_genes(adata, min_cells=10)"
   ]
  },
  {
   "cell_type": "code",
   "execution_count": null,
   "id": "d57bb060",
   "metadata": {},
   "outputs": [],
   "source": [
    "adata.shape"
   ]
  },
  {
   "cell_type": "code",
   "execution_count": null,
   "id": "d93ee6f4",
   "metadata": {},
   "outputs": [],
   "source": [
    "adata.raw = adata.copy()"
   ]
  },
  {
   "cell_type": "code",
   "execution_count": null,
   "id": "9e47c79c",
   "metadata": {},
   "outputs": [],
   "source": [
    "sc.pp.normalize_total(adata, inplace=True)\n",
    "sc.pp.log1p(adata)"
   ]
  },
  {
   "cell_type": "code",
   "execution_count": null,
   "id": "58ad3740",
   "metadata": {},
   "outputs": [],
   "source": [
    "sc.pp.highly_variable_genes(adata, flavor=\"seurat\", batch_key = \"sample\", n_top_genes=3000)"
   ]
  },
  {
   "cell_type": "code",
   "execution_count": null,
   "id": "557ed058",
   "metadata": {},
   "outputs": [],
   "source": [
    "adata.shape"
   ]
  },
  {
   "cell_type": "code",
   "execution_count": null,
   "id": "ee00f736",
   "metadata": {},
   "outputs": [],
   "source": [
    "sc.pp.pca(adata)\n",
    "sc.pp.neighbors(adata)"
   ]
  },
  {
   "cell_type": "code",
   "execution_count": null,
   "id": "76473739",
   "metadata": {},
   "outputs": [],
   "source": [
    "sc.tl.umap(adata)"
   ]
  },
  {
   "cell_type": "code",
   "execution_count": null,
   "id": "7635bf0f",
   "metadata": {},
   "outputs": [],
   "source": [
    "sc.tl.leiden(adata, resolution = 0.6)"
   ]
  },
  {
   "cell_type": "code",
   "execution_count": null,
   "id": "b8524064",
   "metadata": {},
   "outputs": [],
   "source": [
    "sc.pl.umap(adata, color = 'leiden')"
   ]
  },
  {
   "cell_type": "code",
   "execution_count": null,
   "id": "54e1c6c9",
   "metadata": {},
   "outputs": [],
   "source": [
    "sc.pl.umap(adata, color = [ 'histology_annots', 'sample','NRXN1', 'SLITRK2', \n",
    "                           'GATA6','GALNT17','PNOC',  'MMP28','NTRK3',  'DLGAP1', 'RSPO1', \n",
    "                           'ERP27','ALDH1A2',\n",
    "    'WT1', \n",
    "    'TMEM45B', 'LYPD1', 'CRTAC1',], \n",
    "          color_map = 'OrRd', use_raw = False, ncols = 2)"
   ]
  },
  {
   "cell_type": "code",
   "execution_count": null,
   "id": "09bfc8e7",
   "metadata": {},
   "outputs": [],
   "source": [
    "adata.obs['histology_annots'].value_counts()"
   ]
  },
  {
   "cell_type": "code",
   "execution_count": null,
   "id": "a01a7711",
   "metadata": {},
   "outputs": [],
   "source": [
    "sc.pl.umap(adata, color = 'leiden', legend_loc = 'on data')"
   ]
  },
  {
   "cell_type": "code",
   "execution_count": null,
   "id": "3b618ab1",
   "metadata": {},
   "outputs": [],
   "source": [
    "adata = adata[[i in ['7', '0', '1'] for i in adata.obs['leiden']]]"
   ]
  },
  {
   "cell_type": "code",
   "execution_count": null,
   "id": "a1e16312",
   "metadata": {},
   "outputs": [],
   "source": [
    "adata = adata[[i == 'Epithelium' for i in adata.obs['histology_annots']]]"
   ]
  },
  {
   "cell_type": "code",
   "execution_count": null,
   "id": "2de5f97e",
   "metadata": {},
   "outputs": [],
   "source": [
    "adata.shape"
   ]
  },
  {
   "cell_type": "code",
   "execution_count": null,
   "id": "d8a6f7e9",
   "metadata": {},
   "outputs": [],
   "source": [
    "sc.pl.umap(adata, color = 'sample')"
   ]
  },
  {
   "cell_type": "markdown",
   "id": "b86c7f2d",
   "metadata": {},
   "source": [
    "### Epithelium only"
   ]
  },
  {
   "cell_type": "code",
   "execution_count": null,
   "id": "24675910",
   "metadata": {},
   "outputs": [],
   "source": [
    "adata = anndata.AnnData(X = adata.raw.X, obs = adata.obs, var = adata.raw.var)\n",
    "adata.shape"
   ]
  },
  {
   "cell_type": "code",
   "execution_count": null,
   "id": "8cfe2109",
   "metadata": {},
   "outputs": [],
   "source": [
    "sc.pp.filter_genes(adata, min_cells=10)"
   ]
  },
  {
   "cell_type": "code",
   "execution_count": null,
   "id": "525c15e1",
   "metadata": {},
   "outputs": [],
   "source": [
    "adata.shape"
   ]
  },
  {
   "cell_type": "code",
   "execution_count": null,
   "id": "afa913fc",
   "metadata": {},
   "outputs": [],
   "source": [
    "adata.raw = adata.copy()"
   ]
  },
  {
   "cell_type": "code",
   "execution_count": null,
   "id": "cf597503",
   "metadata": {},
   "outputs": [],
   "source": [
    "sc.pp.normalize_total(adata, inplace=True)\n",
    "sc.pp.log1p(adata)"
   ]
  },
  {
   "cell_type": "code",
   "execution_count": null,
   "id": "ad5b2143",
   "metadata": {},
   "outputs": [],
   "source": [
    "sc.pp.highly_variable_genes(adata, flavor=\"seurat\", batch_key = \"sample\", n_top_genes=3000)"
   ]
  },
  {
   "cell_type": "code",
   "execution_count": null,
   "id": "9c9f92f7",
   "metadata": {},
   "outputs": [],
   "source": [
    "sc.pp.pca(adata)\n",
    "sc.pp.neighbors(adata)"
   ]
  },
  {
   "cell_type": "code",
   "execution_count": null,
   "id": "16a21358",
   "metadata": {},
   "outputs": [],
   "source": [
    "sc.tl.umap(adata)"
   ]
  },
  {
   "cell_type": "code",
   "execution_count": null,
   "id": "6e1fc07d",
   "metadata": {},
   "outputs": [],
   "source": [
    "sc.pl.umap(adata, color = 'sample')"
   ]
  },
  {
   "cell_type": "code",
   "execution_count": null,
   "id": "9eb77678",
   "metadata": {},
   "outputs": [],
   "source": []
  },
  {
   "cell_type": "code",
   "execution_count": null,
   "id": "47ae88b0",
   "metadata": {},
   "outputs": [],
   "source": [
    "anat = {'HCA_F_RepTsp13902017' : 'fimbria', 'HCA_F_RepTsp13902019' : 'ampulla', \n",
    "       'HCA_F_RepTsp13902020' : 'isthmus'}\n",
    "adata.obs['anatomy'] = adata.obs['sample'].map(anat)"
   ]
  },
  {
   "cell_type": "code",
   "execution_count": null,
   "id": "6bc67243",
   "metadata": {},
   "outputs": [],
   "source": [
    "adata.obs['anatomy'] = adata.obs['anatomy'].astype('category')\n",
    "adata.obs['anatomy'] = adata.obs['anatomy'].cat.reorder_categories(['fimbria', \n",
    "                                                                   'ampulla', 'isthmus'])"
   ]
  },
  {
   "cell_type": "code",
   "execution_count": null,
   "id": "fb52ea24",
   "metadata": {},
   "outputs": [],
   "source": [
    "sc.set_figure_params(scanpy=True, dpi=80, dpi_save=150, \n",
    "                         frameon=True, vector_friendly=True, fontsize=14, figsize=[5,5], color_map=None, \n",
    "                         format='pdf', facecolor=None, transparent=False,)\n",
    "import matplotlib as mpl\n",
    "mpl.rcParams['pdf.fonttype'] = 42"
   ]
  },
  {
   "cell_type": "code",
   "execution_count": null,
   "id": "d6b77e59",
   "metadata": {},
   "outputs": [],
   "source": [
    "sc.pl.dotplot(\n",
    "    adata,\n",
    "    var_names =[\n",
    "       'EME2', 'ETV4', 'HAPLN3', 'SP5','MUC6', 'KCNN4',  'CHRNA4',  'SHANK1', 'FGF17', 'FGFR3', 'WDR72'\n",
    "             ], groupby = 'anatomy', standard_scale = 'var',\n",
    "     use_raw = False, save = '_adult_increasing_epi_FT.pdf'\n",
    ")"
   ]
  },
  {
   "cell_type": "code",
   "execution_count": null,
   "id": "9868a2c2",
   "metadata": {},
   "outputs": [],
   "source": [
    "sc.pl.dotplot(\n",
    "    adata,\n",
    "    var_names =[\n",
    "      'PNOC','GATA6', 'RSPO1',  'CRTAC1', 'WT1', 'DLGAP1', 'LYPD1', 'CD109', 'DOK5', 'TTYH1', 'PPP2R2B',  'ALDH1A2', 'MMP28', \n",
    "        'APOA1',\n",
    "        'ERP27'\n",
    "             ], groupby = 'anatomy', standard_scale = 'var',\n",
    "     use_raw = False, save = '_adult_decreasing_epi_FT.pdf'\n",
    ")"
   ]
  },
  {
   "cell_type": "code",
   "execution_count": null,
   "id": "cf23b8be",
   "metadata": {},
   "outputs": [],
   "source": [
    "sc.pl.umap(adata, color = [\n",
    "       'NRXN1', 'SLITRK2',   'GATA6','GALNT17','PNOC',  'MMP28','NTRK3',  'DLGAP1', 'RSPO1',  'ERP27','ALDH1A2',\n",
    "    'WT1', \n",
    "    'TMEM45B', 'LYPD1', 'CRTAC1','PTPRT',    'S100A1', \n",
    "         \n",
    "        \n",
    "      'MUC6', 'KCNN4', 'PADI2', 'RNF43', 'EYA2', 'WDR72',  'GRAMD2A', 'CCDC170', 'RND3', 'TACC2', 'STK33', 'ADGB', \n",
    "    'CCN2', 'AFAP1L2', 'TTYH1', 'PTGS1', 'CD109'\n",
    "             ], use_raw = False, color_map = 'OrRd')"
   ]
  },
  {
   "cell_type": "markdown",
   "id": "37e0e810",
   "metadata": {},
   "source": [
    "## Summarise gene set with a signature score -- decreasing signature"
   ]
  },
  {
   "cell_type": "code",
   "execution_count": null,
   "id": "86c13dad",
   "metadata": {},
   "outputs": [],
   "source": [
    "adata.X[20:25, 20:25].toarray()"
   ]
  },
  {
   "cell_type": "code",
   "execution_count": null,
   "id": "ff68025e",
   "metadata": {},
   "outputs": [],
   "source": [
    "decreasing_signature = [ 'PNOC','GATA6', 'RSPO1',  'CRTAC1', 'WT1', 'DLGAP1', 'LYPD1', 'CD109', 'DOK5', 'TTYH1', 'PPP2R2B',  'ALDH1A2', 'MMP28', \n",
    "        'APOA1',\n",
    "        'ERP27'\n",
    "         ]\n",
    "len(decreasing_signature)"
   ]
  },
  {
   "cell_type": "code",
   "execution_count": null,
   "id": "e0e8398d",
   "metadata": {},
   "outputs": [],
   "source": [
    "sc.tl.score_genes(adata, gene_list = decreasing_signature, ctrl_size=50, \n",
    "                  gene_pool=None, n_bins=25, score_name='ft_decreasing_score', \n",
    "                  random_state=0, copy=False, use_raw=None)"
   ]
  },
  {
   "cell_type": "code",
   "execution_count": null,
   "id": "501a0fe7",
   "metadata": {},
   "outputs": [],
   "source": [
    "sc.pl.umap(adata, color = 'ft_decreasing_score', color_map = 'OrRd')"
   ]
  },
  {
   "cell_type": "code",
   "execution_count": null,
   "id": "a200241a",
   "metadata": {},
   "outputs": [],
   "source": [
    "adata"
   ]
  },
  {
   "cell_type": "code",
   "execution_count": null,
   "id": "fa0a0f2e",
   "metadata": {},
   "outputs": [],
   "source": [
    "sc.pl.violin(adata, keys = ['ft_decreasing_score'], groupby = 'anatomy', palette = ['#5e3c99', \n",
    "                                                                                   '#b2abd2', '#f1a1c5'],\n",
    "            save = '_ft_decreasing_score.pdf')"
   ]
  },
  {
   "cell_type": "code",
   "execution_count": null,
   "id": "010426f5",
   "metadata": {},
   "outputs": [],
   "source": [
    "increasing_signature = [ 'MUC6', 'HAPLN3', 'KCNN4', 'WDR72', 'CHRNA4', 'ETV4', 'SHANK1', 'FGF17', 'FGFR3', \n",
    "        'SP5','EME2'\n",
    "         ]\n",
    "len(increasing_signature)"
   ]
  },
  {
   "cell_type": "code",
   "execution_count": null,
   "id": "4bc9688c",
   "metadata": {},
   "outputs": [],
   "source": [
    "sc.tl.score_genes(adata, gene_list = increasing_signature, ctrl_size=50, \n",
    "                  gene_pool=None, n_bins=25, score_name='ft_increasing_score', \n",
    "                  random_state=0, copy=False, use_raw=None)"
   ]
  },
  {
   "cell_type": "code",
   "execution_count": null,
   "id": "70c68d05",
   "metadata": {},
   "outputs": [],
   "source": [
    "sc.pl.umap(adata, color = 'ft_increasing_score', color_map = 'OrRd')"
   ]
  },
  {
   "cell_type": "code",
   "execution_count": null,
   "id": "2427eb55",
   "metadata": {},
   "outputs": [],
   "source": [
    "sc.pl.violin(adata, keys = ['ft_increasing_score'], groupby = 'anatomy', palette = ['#5e3c99', \n",
    "                                                                                   '#b2abd2', '#f1a1c5'],\n",
    "            save = '_ft_increasing_score.pdf')"
   ]
  },
  {
   "cell_type": "code",
   "execution_count": null,
   "id": "94bcc201",
   "metadata": {},
   "outputs": [],
   "source": []
  },
  {
   "cell_type": "markdown",
   "id": "33ce6dee",
   "metadata": {},
   "source": [
    "## Test if the signature shows a decreasing pattern from fimbria --> ampulla --> isthmus"
   ]
  },
  {
   "cell_type": "code",
   "execution_count": null,
   "id": "bd6e983d",
   "metadata": {},
   "outputs": [],
   "source": [
    "order = {'fimbria' : '1', 'ampulla' : '2', 'isthmus' : '3'}"
   ]
  },
  {
   "cell_type": "code",
   "execution_count": null,
   "id": "c45df170",
   "metadata": {},
   "outputs": [],
   "source": [
    "adata.obs['anatomy_order'] = adata.obs['anatomy'].map(order)"
   ]
  },
  {
   "cell_type": "code",
   "execution_count": null,
   "id": "602eea7a",
   "metadata": {},
   "outputs": [],
   "source": [
    "adata.obs['anatomy_order']"
   ]
  },
  {
   "cell_type": "code",
   "execution_count": null,
   "id": "6922688a",
   "metadata": {},
   "outputs": [],
   "source": [
    "df = adata.obs[['ft_decreasing_score', 'ft_increasing_score', 'anatomy_order']]"
   ]
  },
  {
   "cell_type": "code",
   "execution_count": null,
   "id": "26f29fa6",
   "metadata": {},
   "outputs": [],
   "source": [
    "df.head()"
   ]
  },
  {
   "cell_type": "code",
   "execution_count": null,
   "id": "66c04c36",
   "metadata": {},
   "outputs": [],
   "source": [
    "import rpy2.rinterface_lib.callbacks\n",
    "import logging\n",
    "# Ignore R warning messages\n",
    "#Note: this can be commented out to get more verbose R output\n",
    "rpy2.rinterface_lib.callbacks.logger.setLevel(logging.ERROR)\n",
    "import anndata2ri\n",
    "anndata2ri.activate()\n",
    "%load_ext rpy2.ipython"
   ]
  },
  {
   "cell_type": "code",
   "execution_count": null,
   "id": "b56f8af3",
   "metadata": {},
   "outputs": [],
   "source": [
    "# %%R \n",
    "# install.packages(\"clinfun\")"
   ]
  },
  {
   "cell_type": "code",
   "execution_count": null,
   "id": "98a9087b",
   "metadata": {},
   "outputs": [],
   "source": [
    "%%R \n",
    "library(clinfun)"
   ]
  },
  {
   "cell_type": "code",
   "execution_count": null,
   "id": "5c35168a",
   "metadata": {},
   "outputs": [],
   "source": [
    "%%R -i df\n",
    "# Convert the vector to a factor\n",
    "factor_groups <- factor(df$anatomy_order, ordered = TRUE, \n",
    "                                levels = c(\"1\", \"2\", \"3\"))\n",
    "values <- df$ft_decreasing_score"
   ]
  },
  {
   "cell_type": "code",
   "execution_count": null,
   "id": "f83893be",
   "metadata": {},
   "outputs": [],
   "source": [
    "%%R \n",
    "# Perform Jonckheere's trend test\n",
    "result <- jonckheere.test(values, factor_groups, alternative = c(\"decreasing\"), nperm=2000)\n",
    "print(result)"
   ]
  },
  {
   "cell_type": "markdown",
   "id": "d0abc929",
   "metadata": {},
   "source": [
    "### Differential expression analysis with TF-IDF between samples "
   ]
  },
  {
   "cell_type": "code",
   "execution_count": null,
   "id": "7b3e3c20",
   "metadata": {},
   "outputs": [],
   "source": [
    "import anndata\n",
    "bdata = anndata.AnnData(X = adata.raw.X, var = adata.raw.var, obs = adata.obs)"
   ]
  },
  {
   "cell_type": "code",
   "execution_count": null,
   "id": "932496e8",
   "metadata": {},
   "outputs": [],
   "source": [
    "bdata"
   ]
  },
  {
   "cell_type": "code",
   "execution_count": null,
   "id": "5a263a2f",
   "metadata": {},
   "outputs": [],
   "source": [
    "import rpy2.rinterface_lib.callbacks\n",
    "import logging\n",
    "# Ignore R warning messages\n",
    "#Note: this can be commented out to get more verbose R output\n",
    "rpy2.rinterface_lib.callbacks.logger.setLevel(logging.ERROR)\n",
    "import anndata2ri\n",
    "anndata2ri.activate()\n",
    "%load_ext rpy2.ipython"
   ]
  },
  {
   "cell_type": "code",
   "execution_count": null,
   "id": "994b5787",
   "metadata": {},
   "outputs": [],
   "source": [
    "for col in bdata.obs.columns: \n",
    "    if col != 'sample':\n",
    "        del bdata.obs[col]"
   ]
  },
  {
   "cell_type": "code",
   "execution_count": null,
   "id": "cc27d893",
   "metadata": {},
   "outputs": [],
   "source": [
    "%%R -i bdata\n",
    "bdata"
   ]
  },
  {
   "cell_type": "code",
   "execution_count": null,
   "id": "f79ae96c",
   "metadata": {},
   "outputs": [],
   "source": [
    "%%R -o mrks\n",
    "\n",
    "library(SoupX)\n",
    "counts <- assay(bdata, \"X\")\n",
    "colnames(counts) <- colnames(bdata)\n",
    "rownames(counts) <- rownames(bdata)\n",
    "mrks = quickMarkers(counts, colData(bdata)$sample, N = 100) # where clusters is the cell type assignment and 100 means I want the top 100 genes per cluster that pass the hypergeometric test"
   ]
  },
  {
   "cell_type": "code",
   "execution_count": null,
   "id": "3aac3916",
   "metadata": {},
   "outputs": [],
   "source": [
    "mrks.head()"
   ]
  },
  {
   "cell_type": "code",
   "execution_count": null,
   "id": "b57e23f6",
   "metadata": {},
   "outputs": [],
   "source": [
    "cluster = mrks[mrks['cluster'] == 'HCA_F_RepTsp13902017']['gene'].to_list()[0:40]\n",
    "sc.pl.umap(adata, color = cluster, color_map = 'OrRd', ncols = 3, use_raw = False)"
   ]
  },
  {
   "cell_type": "code",
   "execution_count": null,
   "id": "ce35002e",
   "metadata": {},
   "outputs": [],
   "source": [
    "cluster = mrks[mrks['cluster'] == 'HCA_F_RepTsp13902019']['gene'].to_list()[0:20]\n",
    "sc.pl.umap(adata, color = cluster, color_map = 'OrRd', ncols = 3, use_raw = False)"
   ]
  },
  {
   "cell_type": "code",
   "execution_count": null,
   "id": "1092cb72",
   "metadata": {},
   "outputs": [],
   "source": [
    "cluster = mrks[mrks['cluster'] == 'HCA_F_RepTsp13902020']['gene'].to_list()[0:15]\n",
    "sc.pl.umap(adata, color = cluster, color_map = 'OrRd', ncols = 3, use_raw = False)"
   ]
  },
  {
   "cell_type": "code",
   "execution_count": null,
   "id": "ae849708",
   "metadata": {},
   "outputs": [],
   "source": []
  }
 ],
 "metadata": {
  "kernelspec": {
   "display_name": "atac_env",
   "language": "python",
   "name": "atac_env"
  },
  "language_info": {
   "codemirror_mode": {
    "name": "ipython",
    "version": 3
   },
   "file_extension": ".py",
   "mimetype": "text/x-python",
   "name": "python",
   "nbconvert_exporter": "python",
   "pygments_lexer": "ipython3",
   "version": "3.8.6"
  }
 },
 "nbformat": 4,
 "nbformat_minor": 5
}
