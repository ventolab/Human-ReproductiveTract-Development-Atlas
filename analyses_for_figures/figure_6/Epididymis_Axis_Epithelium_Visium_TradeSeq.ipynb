{
 "cells": [
  {
   "cell_type": "markdown",
   "metadata": {},
   "source": [
    "## tradeSeq for DE along epididymal axis (epithelial spots) in male reproductive tract"
   ]
  },
  {
   "cell_type": "code",
   "execution_count": null,
   "metadata": {},
   "outputs": [],
   "source": [
    "#if (!require(\"BiocManager\", quietly = TRUE))\n",
    "#    install.packages(\"BiocManager\")\n",
    "\n",
    "#BiocManager::install(\"tradeSeq\")"
   ]
  },
  {
   "cell_type": "code",
   "execution_count": null,
   "metadata": {},
   "outputs": [],
   "source": [
    "library(tradeSeq)\n",
    "library(SingleCellExperiment)\n",
    "library(slingshot)"
   ]
  },
  {
   "cell_type": "code",
   "execution_count": null,
   "metadata": {},
   "outputs": [],
   "source": [
    "adata <- readRDS(\"/lustre/scratch126/cellgen/team292/vl6/VISIUM/epididymalaxis_epi_downsampled_cytassist.rds\")\n",
    "adata\n"
   ]
  },
  {
   "cell_type": "code",
   "execution_count": null,
   "metadata": {},
   "outputs": [],
   "source": [
    "counts <- assay(adata, \"X\")"
   ]
  },
  {
   "cell_type": "code",
   "execution_count": null,
   "metadata": {},
   "outputs": [],
   "source": [
    "set.seed(7)\n",
    "pseudotime <- colData(adata)$Epididymal_Axis\n",
    "cellWeights <- rep(1, 158)"
   ]
  },
  {
   "cell_type": "code",
   "execution_count": null,
   "metadata": {},
   "outputs": [],
   "source": [
    "#icMat <- evaluateK(counts = counts, sds = SlingshotDataSet(adata), k = 3:10, \n",
    "#                   nGenes = 200, verbose = T)"
   ]
  },
  {
   "cell_type": "code",
   "execution_count": null,
   "metadata": {},
   "outputs": [],
   "source": [
    "library(scran)"
   ]
  },
  {
   "cell_type": "code",
   "execution_count": null,
   "metadata": {},
   "outputs": [],
   "source": [
    "libsizes <- colSums(counts)\n",
    "size.factors <- libsizes/mean(libsizes)\n",
    "logcounts(adata) <- log2(t(t(counts)/size.factors) + 1)\n",
    "assayNames(adata)"
   ]
  },
  {
   "cell_type": "code",
   "execution_count": null,
   "metadata": {},
   "outputs": [],
   "source": [
    "# Filter genes with non-zero biological components\n",
    "getVariableGenes <- function(adata,fdr_thresh=NULL,var_thresh=0) {\n",
    "  gene_var <- modelGeneVar(adata)\n",
    "  genes <- getTopHVGs(gene_var, var.threshold =var_thresh ,fdr.threshold = fdr_thresh)\n",
    "  return(genes)\n",
    "}"
   ]
  },
  {
   "cell_type": "code",
   "execution_count": null,
   "metadata": {},
   "outputs": [],
   "source": [
    "genes <- getVariableGenes(adata)"
   ]
  },
  {
   "cell_type": "code",
   "execution_count": null,
   "metadata": {},
   "outputs": [],
   "source": [
    "length(genes)"
   ]
  },
  {
   "cell_type": "code",
   "execution_count": null,
   "metadata": {},
   "outputs": [],
   "source": [
    "dim(counts[genes,])"
   ]
  },
  {
   "cell_type": "code",
   "execution_count": null,
   "metadata": {},
   "outputs": [],
   "source": [
    "sce <- fitGAM(counts = counts[genes,], pseudotime = pseudotime, cellWeights = cellWeights, nknots = 5,\n",
    "                verbose = TRUE, parallel = TRUE)"
   ]
  },
  {
   "cell_type": "code",
   "execution_count": null,
   "metadata": {},
   "outputs": [],
   "source": [
    "table(rowData(sce)$tradeSeq$converged)"
   ]
  },
  {
   "cell_type": "code",
   "execution_count": null,
   "metadata": {},
   "outputs": [],
   "source": [
    "adata <- adata[genes, ]"
   ]
  },
  {
   "cell_type": "code",
   "execution_count": null,
   "metadata": {},
   "outputs": [],
   "source": [
    "adata"
   ]
  },
  {
   "cell_type": "markdown",
   "metadata": {},
   "source": [
    "### ASSOCIATION TEST"
   ]
  },
  {
   "cell_type": "markdown",
   "metadata": {},
   "source": [
    "A first exploration of the data analysis may consist of checking whether gene expression is associated with a particular lineage. The statistical test performed here, implemented in the associationTest function, is testing the null hypothesis that all smoother coefficients are equal to each other. This can be interpreted as testing whether the average gene expression is significantly changing along pseudotime.\n",
    "\n"
   ]
  },
  {
   "cell_type": "code",
   "execution_count": null,
   "metadata": {},
   "outputs": [],
   "source": [
    "assoRes <- associationTest(sce)\n",
    "head(assoRes)"
   ]
  },
  {
   "cell_type": "code",
   "execution_count": null,
   "metadata": {},
   "outputs": [],
   "source": [
    "write.csv(assoRes, file = '/nfs/team292/vl6/FetalReproductiveTract/manuscript_v1/supp_tables/SupplementaryTable8_epididymis_epi_cytassist.csv')\n"
   ]
  },
  {
   "cell_type": "markdown",
   "metadata": {},
   "source": [
    "In order to discover marker genes of the progenitor or differentiated cell population, researchers may be interested in assessing differential expression between the progenitor cell population (i.e., the starting point of a lineage) with the differentiated cell type population (i.e., the end point of a lineage). The function startVsEndTest uses a Wald test to assess the null hypothesis that the average expression at the starting point of the smoother (progenitor population) is equal to the average expression at the end point of the smoother (differentiated population). The test basically involves a comparison between two smoother coefficients for every lineage. The function startVsEndTest performs a global test across all lineages by default (i.e. it compares the start and end positions for all lineages simultaneously), but you can also assess all lineages separately by setting lineages=TRUE. Below, we adopt an omnibus test across the two lineages."
   ]
  },
  {
   "cell_type": "code",
   "execution_count": null,
   "metadata": {},
   "outputs": [],
   "source": [
    "assoRes = assoRes[assoRes$pvalue < 0.001,]"
   ]
  },
  {
   "cell_type": "code",
   "execution_count": null,
   "metadata": {},
   "outputs": [],
   "source": [
    "dim(assoRes)"
   ]
  },
  {
   "cell_type": "code",
   "execution_count": null,
   "metadata": {},
   "outputs": [],
   "source": [
    "assoRes['VIL1', ]"
   ]
  },
  {
   "cell_type": "code",
   "execution_count": null,
   "metadata": {},
   "outputs": [],
   "source": [
    "assoRes['ESR1', ]"
   ]
  },
  {
   "cell_type": "code",
   "execution_count": null,
   "metadata": {},
   "outputs": [],
   "source": [
    "assoRes['WNT9B', ]"
   ]
  },
  {
   "cell_type": "code",
   "execution_count": null,
   "metadata": {},
   "outputs": [],
   "source": [
    "assoRes['GATA3', ]"
   ]
  },
  {
   "cell_type": "code",
   "execution_count": null,
   "metadata": {},
   "outputs": [],
   "source": [
    "assoRes = assoRes[assoRes$meanLogFC > 0.5, ]"
   ]
  },
  {
   "cell_type": "code",
   "execution_count": null,
   "metadata": {},
   "outputs": [],
   "source": [
    "dim(assoRes)"
   ]
  },
  {
   "cell_type": "code",
   "execution_count": null,
   "metadata": {},
   "outputs": [],
   "source": [
    "assoRes = assoRes[assoRes$waldStat > 50, ]"
   ]
  },
  {
   "cell_type": "code",
   "execution_count": null,
   "metadata": {},
   "outputs": [],
   "source": [
    "dim(assoRes)"
   ]
  },
  {
   "cell_type": "code",
   "execution_count": null,
   "metadata": {},
   "outputs": [],
   "source": [
    "write.csv(assoRes, file = \"/lustre/scratch126/cellgen/team292/vl6/VISIUM/EpididymalAxis_epi_genes.csv\",\n",
    "          row.names = TRUE)"
   ]
  },
  {
   "cell_type": "code",
   "execution_count": null,
   "metadata": {},
   "outputs": [],
   "source": [
    "model_vals_df <- predictSmooth(models = sce, gene=row.names(assoRes), nPoints=100) "
   ]
  },
  {
   "cell_type": "code",
   "execution_count": null,
   "metadata": {},
   "outputs": [],
   "source": [
    "model_vals_mtx <- predictSmooth(models = sce, gene=row.names(assoRes), nPoints=100, tidy=FALSE)"
   ]
  },
  {
   "cell_type": "code",
   "execution_count": null,
   "metadata": {},
   "outputs": [],
   "source": [
    "write.csv(model_vals_mtx, file = '/lustre/scratch126/cellgen/team292/vl6/VISIUM/epididymis_visium_fitted_values_tradeseq_epithelium_mesenchyme.csv')\n"
   ]
  },
  {
   "cell_type": "code",
   "execution_count": null,
   "metadata": {},
   "outputs": [],
   "source": [
    "head(assoRes, 30)"
   ]
  },
  {
   "cell_type": "code",
   "execution_count": null,
   "metadata": {},
   "outputs": [],
   "source": [
    "library(ggplot2)"
   ]
  },
  {
   "cell_type": "code",
   "execution_count": null,
   "metadata": {},
   "outputs": [],
   "source": [
    "# Get prioritised genes based on scRNA-seq \n",
    "spatially_variable = c('CLDN2', 'KRT17', 'MUC6', 'PDK4', 'ACSL5', 'EPHA7', 'CXCL14', 'CDH6', 'SLC3A1', 'POMC', 'CPM', 'PCP4', 'GATA3', \n",
    "                       'USH1C', 'MGAM', 'SALL1', 'SMIM24', 'SPP1', 'WDR72', 'TSPAN12', 'CA2', 'CPXM2', 'MME', 'PDZK1IP1', 'TFAP2A',\n",
    "                       'DPEP1', 'MSLN', 'PIK3C2G', 'ABCC3', 'SPAG11A', 'HMOX1', 'VIL1', 'NTRK2', 'NSG1', 'CDH2', 'HNF4A', 'WNT6', 'PTGDS',\n",
    "                       'BICDL1', 'RASD1', 'GALNT14', 'BHMT', 'SLC2A9', 'CPLX2', 'UGT2A3', 'SLC47A1', 'GLYAT', 'ZNF385B', 'COL4A4', \n",
    "                       'BLNK', 'MFSD2A', 'TNMD', 'OTULINL', 'GRHL2', 'SLC38A11', 'F2RL1', 'MLXIPL', 'HGD', 'RNF128', 'COL4A3', 'NAPSA',\n",
    "                       'OR51E2', 'LYPD1', 'GMNC', 'SLC39A5', 'GNAO1', 'PTPRZ1', 'CA12', 'PDZK1', 'CLDN10', 'ESR1', 'RHEX', 'NCMAP', \n",
    "                       'SPINK2', 'SYNDIG1', 'TENM1', 'PRDM16', 'BVES', 'HNF1A', 'TM4SF18', 'SLCO4C1', 'FRMD3', 'LRP2', 'AMN', 'KLK6',\n",
    "                       'HOXD1', 'SIM2', 'GIPC2', 'SERPINA1', 'ADRA2C', 'TOX3', 'ALKAL2', 'NOS1AP', 'DNAJC22', 'TUNAR', 'SLC9A4', \n",
    "                       'RIPOR2', 'LYPD6B', 'RBM20', 'SLC22A11', 'POU5F1', 'METTL7B', 'SMIM32', 'HOGA1', 'OSBPL10', 'PRSS22', 'PAQR4',\n",
    "                       'CDRT15L2', 'SLC5A9', 'KCTD8', 'CDHR5', 'IL6R', 'WNT2', 'GLYATL1', 'FMO1', 'TRPM5', 'SLC9A3', 'ACY3', 'SQOR', \n",
    "                       'CAPN12', 'CRYM', 'CFTR', 'ADM2', 'SLC30A2', 'B3GNT3', 'MARCH11', 'TM4SF4', 'MT1X', 'IFITM1', 'LGALS2', 'PRAP1',\n",
    "                       'STEAP4', 'S1PR5', 'RNF183', 'FGD3', 'PLEK2', 'TFEC', 'ASGR2', 'SSTR1', 'PDZD3', 'FZD5', 'EDAR', 'AZGP1',\n",
    "                       'SLC16A4', 'C1orf210', 'GRPR', 'IHH', 'ENPP3', 'SOWAHA', 'C3orf85', 'DDIT4L', 'SLC27A2')"
   ]
  },
  {
   "cell_type": "code",
   "execution_count": null,
   "metadata": {},
   "outputs": [],
   "source": [
    "for (gene in spatially_variable) {\n",
    "    print(gene)\n",
    "    print(plotSmoothers(sce, counts, gene = gene, alpha = 0) + ggtitle(gene) +\n",
    "                          theme(title = element_text(size = 20, face = 'bold'),\n",
    "                                axis.title = element_text(size = 20),\n",
    "                                axis.text = element_text(size = 20),\n",
    "                                legend.text = element_text(size = 20),\n",
    "                                legend.title = element_text(size = 20, face = \"bold\")))\n",
    "}"
   ]
  },
  {
   "cell_type": "code",
   "execution_count": null,
   "metadata": {},
   "outputs": [],
   "source": []
  }
 ],
 "metadata": {
  "kernelspec": {
   "display_name": "R",
   "language": "R",
   "name": "ir"
  },
  "language_info": {
   "codemirror_mode": "r",
   "file_extension": ".r",
   "mimetype": "text/x-r-source",
   "name": "R",
   "pygments_lexer": "r",
   "version": "4.0.3"
  }
 },
 "nbformat": 4,
 "nbformat_minor": 4
}
