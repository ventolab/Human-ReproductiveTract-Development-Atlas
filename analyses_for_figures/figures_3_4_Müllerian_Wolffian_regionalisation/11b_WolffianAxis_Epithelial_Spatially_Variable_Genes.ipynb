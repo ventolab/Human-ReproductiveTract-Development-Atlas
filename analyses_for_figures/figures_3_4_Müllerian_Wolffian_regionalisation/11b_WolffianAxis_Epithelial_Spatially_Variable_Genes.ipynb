{
 "cells": [
  {
   "cell_type": "code",
   "execution_count": null,
   "id": "c47b9397",
   "metadata": {},
   "outputs": [],
   "source": [
    "import numpy as np\n",
    "import pandas as pd\n",
    "from scipy.cluster.hierarchy import dendrogram, linkage\n",
    "import matplotlib.pyplot as plt"
   ]
  },
  {
   "cell_type": "markdown",
   "id": "ec859119",
   "metadata": {},
   "source": [
    "## VISIUM smoothers"
   ]
  },
  {
   "cell_type": "code",
   "execution_count": null,
   "id": "bd3cde25",
   "metadata": {},
   "outputs": [],
   "source": [
    "visium_smoothers_df = pd.read_csv('/lustre/scratch126/cellgen/team292/vl6/VISIUM/malereproductiveaxis_epi_cytassist_downsampled_fitted_values_tradeseq.csv', \n",
    "                              index_col = 0)\n",
    "print(visium_smoothers_df.shape)\n",
    "visium_smoothers_df.head()"
   ]
  },
  {
   "cell_type": "markdown",
   "id": "932562bb",
   "metadata": {},
   "source": [
    "## scRNA-seq anndata object for bona fide secretory epithelial genes"
   ]
  },
  {
   "cell_type": "code",
   "execution_count": null,
   "id": "34e4a54e",
   "metadata": {},
   "outputs": [],
   "source": [
    "import scanpy as sc\n",
    "import anndata"
   ]
  },
  {
   "cell_type": "code",
   "execution_count": null,
   "id": "e6ae9a32",
   "metadata": {},
   "outputs": [],
   "source": [
    "scrnaseq = sc.read('/nfs/team292/vl6/FetalReproductiveTract/males_post10pcw.20240326.h5ad')\n",
    "scrnaseq.obs['celltype'].value_counts()"
   ]
  },
  {
   "cell_type": "code",
   "execution_count": null,
   "id": "3181b615",
   "metadata": {},
   "outputs": [],
   "source": [
    "# Select cell types that might be contaminating the Visium signal \n",
    "scrnaseq = scrnaseq[[i in ['Corpus/CaputEpididymis_Mesenchyme', 'CaudaEpididymis_Mesenchyme', 'CaputEpididymis_Epithelium', \n",
    "                          'Endothelial_Lymphatic', 'Erythroid', 'Neural', 'Immune', 'Coelomic_Epithelium', \n",
    "                          'Epididymis_Ligament', 'Pre-Perivascular', 'SchwannCell', \n",
    "                          'Corpus/CaudaEpididymis_Epithelium', 'Endothelial', 'Perivascular', \n",
    "                          'CaputEpididymis_Ciliated_Epithelium', 'SkeletalMuscle', \n",
    "                          'VasDeferens_Ligament', 'VasDeferens_Mesenchyme', ] for i in scrnaseq.obs['celltype']]]\n",
    "scrnaseq.shape"
   ]
  },
  {
   "cell_type": "markdown",
   "id": "30336a94",
   "metadata": {},
   "source": [
    "## Compare expression of genes across cell types"
   ]
  },
  {
   "cell_type": "code",
   "execution_count": null,
   "id": "7ccdd594",
   "metadata": {},
   "outputs": [],
   "source": [
    "genes = visium_smoothers_df.index.to_list()\n",
    "len(genes)"
   ]
  },
  {
   "cell_type": "code",
   "execution_count": null,
   "id": "abb0cc5d",
   "metadata": {},
   "outputs": [],
   "source": [
    "genes = [i for i in genes if i in scrnaseq.var_names.to_list()]"
   ]
  },
  {
   "cell_type": "code",
   "execution_count": null,
   "id": "7b798f29",
   "metadata": {},
   "outputs": [],
   "source": [
    "len(genes)"
   ]
  },
  {
   "cell_type": "code",
   "execution_count": null,
   "id": "87bfb9e1",
   "metadata": {},
   "outputs": [],
   "source": [
    "cell_types_of_interest = ['Corpus/CaudaEpididymis_Epithelium', 'CaputEpididymis_Epithelium']"
   ]
  },
  {
   "cell_type": "code",
   "execution_count": null,
   "id": "f685e683",
   "metadata": {},
   "outputs": [],
   "source": [
    "# Calculate average expression per cell type\n",
    "average_expression = scrnaseq.to_df().groupby(scrnaseq.obs['celltype']).mean()\n",
    "\n",
    "# Filter the average expression table to include only the genes of interest\n",
    "average_expression = average_expression.loc[:, genes]\n",
    "\n",
    "# Create a table to summarize the results\n",
    "summary_table = average_expression.reset_index()"
   ]
  },
  {
   "cell_type": "code",
   "execution_count": null,
   "id": "3dc274e6",
   "metadata": {},
   "outputs": [],
   "source": [
    "summary_table"
   ]
  },
  {
   "cell_type": "code",
   "execution_count": null,
   "id": "c97db82c",
   "metadata": {},
   "outputs": [],
   "source": [
    "# Filtering step 1\n",
    "filtered_genes = []\n",
    "for gene in genes:\n",
    "    # Sort the average expression of the gene across all cell types in descending order\n",
    "    sorted_expression = average_expression[gene].sort_values(ascending=False)\n",
    "    \n",
    "    # Check if either cell type of interest is within the top 2 cell types\n",
    "    if any(cell_type in sorted_expression.index[:3] for cell_type in cell_types_of_interest):\n",
    "        filtered_genes.append(gene)\n",
    "\n",
    "# Filter the summary table to retain only the filtered genes\n",
    "filtered_summary_table = summary_table[['celltype'] + filtered_genes]"
   ]
  },
  {
   "cell_type": "code",
   "execution_count": null,
   "id": "38d96248",
   "metadata": {},
   "outputs": [],
   "source": [
    "filtered_summary_table"
   ]
  },
  {
   "cell_type": "code",
   "execution_count": null,
   "id": "0fa1ba54",
   "metadata": {},
   "outputs": [],
   "source": [
    "# Filtering step 2 to remove ciliated genes\n",
    "filtered_genes_step2 = []\n",
    "for gene in filtered_genes:\n",
    "    expression_ciliated = average_expression.loc['CaputEpididymis_Ciliated_Epithelium', gene]\n",
    "    \n",
    "    # Check if the expression in secretory epithelium is greater than in ciliated epithelium\n",
    "    if any(average_expression.loc[cell_type, gene] > expression_ciliated for cell_type in cell_types_of_interest):\n",
    "        filtered_genes_step2.append(gene)\n",
    "\n",
    "# Filter the summary table to retain only the filtered genes from the second step\n",
    "filtered_summary_table_step2 = filtered_summary_table[['celltype'] + filtered_genes_step2]\n"
   ]
  },
  {
   "cell_type": "code",
   "execution_count": null,
   "id": "15f94aa8",
   "metadata": {},
   "outputs": [],
   "source": [
    "filtered_summary_table_step2"
   ]
  },
  {
   "cell_type": "markdown",
   "id": "ca605711",
   "metadata": {},
   "source": [
    "### Save remaining genes and plot their trends in TradeSeq "
   ]
  },
  {
   "cell_type": "code",
   "execution_count": null,
   "id": "c08484f1",
   "metadata": {},
   "outputs": [],
   "source": [
    "print(filtered_summary_table_step2.columns.to_list())"
   ]
  },
  {
   "cell_type": "markdown",
   "id": "9bdb3826",
   "metadata": {},
   "source": [
    "## Intersect prioritised genes with human TFs"
   ]
  },
  {
   "cell_type": "code",
   "execution_count": null,
   "id": "1ea6e1f1",
   "metadata": {},
   "outputs": [],
   "source": [
    "tfs = pd.read_csv('/nfs/team292/vl6/FetalReproductiveTract/humanTFs/DatabaseExtract_v_1.01.csv')"
   ]
  },
  {
   "cell_type": "code",
   "execution_count": null,
   "id": "89f81bf1",
   "metadata": {},
   "outputs": [],
   "source": [
    "tfs = tfs[tfs['Is TF?'] == 'Yes']\n",
    "tfs = tfs[tfs['TF assessment'] == 'Known motif']\n",
    "tfs = tfs['HGNC symbol'].tolist()\n",
    "len(tfs)"
   ]
  },
  {
   "cell_type": "code",
   "execution_count": null,
   "id": "b5d22935",
   "metadata": {},
   "outputs": [],
   "source": [
    "tfs_prioritised = [i for i in filtered_summary_table_step2.columns.to_list() if i in tfs]"
   ]
  },
  {
   "cell_type": "code",
   "execution_count": null,
   "id": "0edabdb8",
   "metadata": {},
   "outputs": [],
   "source": [
    "print(len(tfs_prioritised))\n",
    "print(tfs_prioritised)"
   ]
  },
  {
   "cell_type": "code",
   "execution_count": null,
   "id": "06dc4f98",
   "metadata": {},
   "outputs": [],
   "source": [
    "tfs_prioritised = [i for i in tfs_prioritised if not i.startswith(\"HOX\")]"
   ]
  },
  {
   "cell_type": "code",
   "execution_count": null,
   "id": "d95c718c",
   "metadata": {},
   "outputs": [],
   "source": [
    "len(tfs_prioritised)"
   ]
  },
  {
   "cell_type": "code",
   "execution_count": null,
   "id": "70e62f90",
   "metadata": {},
   "outputs": [],
   "source": [
    "print(tfs_prioritised)"
   ]
  },
  {
   "cell_type": "code",
   "execution_count": null,
   "id": "ad8ca670",
   "metadata": {},
   "outputs": [],
   "source": []
  }
 ],
 "metadata": {
  "kernelspec": {
   "display_name": "atac_env",
   "language": "python",
   "name": "atac_env"
  },
  "language_info": {
   "codemirror_mode": {
    "name": "ipython",
    "version": 3
   },
   "file_extension": ".py",
   "mimetype": "text/x-python",
   "name": "python",
   "nbconvert_exporter": "python",
   "pygments_lexer": "ipython3",
   "version": "3.8.6"
  }
 },
 "nbformat": 4,
 "nbformat_minor": 5
}
