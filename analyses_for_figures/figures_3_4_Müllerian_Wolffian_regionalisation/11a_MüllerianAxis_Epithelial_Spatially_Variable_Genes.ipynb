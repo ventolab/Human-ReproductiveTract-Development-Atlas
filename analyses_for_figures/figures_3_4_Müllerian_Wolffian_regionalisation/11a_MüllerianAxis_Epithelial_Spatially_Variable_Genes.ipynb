{
 "cells": [
  {
   "cell_type": "code",
   "execution_count": null,
   "id": "c47b9397",
   "metadata": {},
   "outputs": [],
   "source": [
    "import numpy as np\n",
    "import pandas as pd\n",
    "from scipy.cluster.hierarchy import dendrogram, linkage\n",
    "import matplotlib.pyplot as plt"
   ]
  },
  {
   "cell_type": "markdown",
   "id": "ec859119",
   "metadata": {},
   "source": [
    "## VISIUM"
   ]
  },
  {
   "cell_type": "code",
   "execution_count": null,
   "id": "bd3cde25",
   "metadata": {},
   "outputs": [],
   "source": [
    "visium_smoothers_df = pd.read_csv('/lustre/scratch126/cellgen/team292/vl6/VISIUM/femalereproductiveaxis_visium_downsampled_fitted_values_tradeseq_epithelium.csv', \n",
    "                              index_col = 0)\n",
    "print(visium_smoothers_df.shape)\n",
    "visium_smoothers_df.head()"
   ]
  },
  {
   "cell_type": "markdown",
   "id": "932562bb",
   "metadata": {},
   "source": [
    "## scRNA-seq"
   ]
  },
  {
   "cell_type": "code",
   "execution_count": null,
   "id": "e6ae9a32",
   "metadata": {},
   "outputs": [],
   "source": [
    "scrnaseq_smoothers_df = pd.read_csv('/lustre/scratch126/cellgen/team292/vl6/VISIUM/epi_femalereproductiveaxis_scrnaseq_downsampled_fitted_values_tradeseq.csv', \n",
    "                               index_col = 0)\n",
    "print(scrnaseq_smoothers_df.shape)\n",
    "scrnaseq_smoothers_df.head()"
   ]
  },
  {
   "cell_type": "markdown",
   "id": "30336a94",
   "metadata": {},
   "source": [
    "## Comparison of smoothers"
   ]
  },
  {
   "cell_type": "code",
   "execution_count": null,
   "id": "7ccdd594",
   "metadata": {},
   "outputs": [],
   "source": [
    "import scipy.stats"
   ]
  },
  {
   "cell_type": "markdown",
   "id": "ca605711",
   "metadata": {},
   "source": [
    "### How many genes are in common between the two? "
   ]
  },
  {
   "cell_type": "code",
   "execution_count": null,
   "id": "c08484f1",
   "metadata": {},
   "outputs": [],
   "source": [
    "scrnaseq_genes = scrnaseq_smoothers_df.index.tolist()\n",
    "visium_genes = visium_smoothers_df.index.tolist()\n",
    "common_genes = list(set(scrnaseq_genes) & set(visium_genes))\n",
    "scrnaseq_unique = [i for i in scrnaseq_genes if i not in visium_genes]\n",
    "visium_unique = [i for i in visium_genes if i not in scrnaseq_genes]"
   ]
  },
  {
   "cell_type": "code",
   "execution_count": null,
   "id": "d5710841",
   "metadata": {},
   "outputs": [],
   "source": [
    "len(common_genes), len(scrnaseq_unique), len(visium_unique)"
   ]
  },
  {
   "cell_type": "code",
   "execution_count": null,
   "id": "7ca54991",
   "metadata": {},
   "outputs": [],
   "source": [
    "'PNOC' in visium_unique"
   ]
  },
  {
   "cell_type": "code",
   "execution_count": null,
   "id": "d65789b5",
   "metadata": {},
   "outputs": [],
   "source": [
    "'PNOC' in common_genes"
   ]
  },
  {
   "cell_type": "code",
   "execution_count": null,
   "id": "96f7ed21",
   "metadata": {},
   "outputs": [],
   "source": [
    "import matplotlib_venn"
   ]
  },
  {
   "cell_type": "code",
   "execution_count": null,
   "id": "80b1c4dc",
   "metadata": {},
   "outputs": [],
   "source": [
    "import matplotlib as mpl\n",
    "mpl.rcParams['pdf.fonttype'] = 42"
   ]
  },
  {
   "cell_type": "code",
   "execution_count": null,
   "id": "767ecb40",
   "metadata": {},
   "outputs": [],
   "source": [
    "import matplotlib.pyplot as plt\n",
    "from matplotlib_venn import venn2\n",
    "\n",
    "# Define the sets\n",
    "set_visium = 160  # Unique elements in visium\n",
    "set_scrnaseq = 237  # Unique elements in scrnaseq\n",
    "intersection = 133\n",
    "\n",
    "# Create the Venn diagram\n",
    "venn = venn2(subsets=(set_visium, set_scrnaseq, intersection), set_labels=('Visium', 'scRNA-seq'))\n",
    "\n",
    "# Customize the colors\n",
    "venn.get_patch_by_id('10').set_color('blue') # Set A color\n",
    "venn.get_patch_by_id('01').set_color('orange') # Set B color\n",
    "venn.get_patch_by_id('11').set_color('yellowgreen') # Intersection color\n",
    "\n",
    "# Adjust the transparency (alpha)\n",
    "venn.get_patch_by_id('10').set_alpha(0.5)\n",
    "venn.get_patch_by_id('01').set_alpha(0.5)\n",
    "venn.get_patch_by_id('11').set_alpha(0.7)\n",
    "\n",
    "# Save the plot as a PDF\n",
    "pdf_filename = 'venn_diagram_epithelium.pdf'\n",
    "plt.savefig(pdf_filename, format='pdf')\n",
    "\n",
    "\n",
    "# Display the plot\n",
    "plt.show()"
   ]
  },
  {
   "cell_type": "code",
   "execution_count": null,
   "id": "7d5e5553",
   "metadata": {},
   "outputs": [],
   "source": [
    "scrnaseq_smoothers_df_common = scrnaseq_smoothers_df.loc[common_genes]"
   ]
  },
  {
   "cell_type": "code",
   "execution_count": null,
   "id": "a1d2be7c",
   "metadata": {},
   "outputs": [],
   "source": [
    "visium_smoothers_df_common = visium_smoothers_df.loc[common_genes]"
   ]
  },
  {
   "cell_type": "code",
   "execution_count": null,
   "id": "83b1d4c2",
   "metadata": {},
   "outputs": [],
   "source": [
    "scrnaseq_smoothers_mtx_common = scrnaseq_smoothers_df_common.to_numpy()\n",
    "visium_smoothers_mtx_common = visium_smoothers_df_common.to_numpy()"
   ]
  },
  {
   "cell_type": "markdown",
   "id": "2ec44c7c",
   "metadata": {},
   "source": [
    "### 1. Non-parametric correlation between common genes (Spearman's rank correlation test)"
   ]
  },
  {
   "cell_type": "code",
   "execution_count": null,
   "id": "ad927487",
   "metadata": {},
   "outputs": [],
   "source": [
    "spearman_correlations = []\n",
    "for i in range(scrnaseq_smoothers_mtx_common.shape[0]):\n",
    "    corr, _ = scipy.stats.spearmanr(scrnaseq_smoothers_mtx_common[i, :], visium_smoothers_mtx_common[i, :])\n",
    "    spearman_correlations.append(corr)\n"
   ]
  },
  {
   "cell_type": "code",
   "execution_count": null,
   "id": "3f3f3495",
   "metadata": {},
   "outputs": [],
   "source": [
    "len(spearman_correlations)"
   ]
  },
  {
   "cell_type": "code",
   "execution_count": null,
   "id": "129db51e",
   "metadata": {},
   "outputs": [],
   "source": [
    "import matplotlib.pyplot as plt\n",
    "\n",
    "plt.hist(spearman_correlations, bins=30, color='skyblue', edgecolor='black')\n",
    "plt.title('Distribution of Spearman Correlation Coefficients')\n",
    "plt.xlabel('Correlation Coefficient')\n",
    "plt.ylabel('Frequency')\n",
    "plt.show()\n"
   ]
  },
  {
   "cell_type": "code",
   "execution_count": null,
   "id": "c2b660f7",
   "metadata": {},
   "outputs": [],
   "source": [
    "len(np.asarray(np.array(spearman_correlations) > 0.7).nonzero()[0].tolist())"
   ]
  },
  {
   "cell_type": "markdown",
   "id": "ab8b3dac",
   "metadata": {},
   "source": [
    "### 2. Cosine similarity "
   ]
  },
  {
   "cell_type": "code",
   "execution_count": null,
   "id": "4773618e",
   "metadata": {},
   "outputs": [],
   "source": [
    "from sklearn.metrics.pairwise import cosine_similarity"
   ]
  },
  {
   "cell_type": "code",
   "execution_count": null,
   "id": "f880e8ac",
   "metadata": {},
   "outputs": [],
   "source": [
    "# Assuming matrix1 and matrix2 are your two matrices\n",
    "# They should have the same shape: (number_of_genes, number_of_pseudotime_points)\n",
    "\n",
    "num_genes = scrnaseq_smoothers_mtx_common.shape[0]\n",
    "gene_cosine_similarities = np.zeros(num_genes)\n",
    "\n",
    "for i in range(num_genes):\n",
    "    # Reshape the rows to be 2D arrays as required by cosine_similarity\n",
    "    gene1 = scrnaseq_smoothers_mtx_common[i, :].reshape(1, -1)\n",
    "    gene2 = visium_smoothers_mtx_common[i, :].reshape(1, -1)\n",
    "\n",
    "    # Compute cosine similarity and store it\n",
    "    gene_cosine_similarities[i] = cosine_similarity(gene1, gene2)[0, 0]\n",
    "\n",
    "# 'gene_cosine_similarities' now contains the cosine similarity for each gene pair\n",
    "\n"
   ]
  },
  {
   "cell_type": "code",
   "execution_count": null,
   "id": "ca0482ba",
   "metadata": {},
   "outputs": [],
   "source": [
    "len(gene_cosine_similarities)"
   ]
  },
  {
   "cell_type": "code",
   "execution_count": null,
   "id": "37580877",
   "metadata": {},
   "outputs": [],
   "source": [
    "import matplotlib.pyplot as plt\n",
    "\n",
    "plt.figure(figsize=(5, 4))\n",
    "plt.hist(gene_cosine_similarities,bins=20, color='gainsboro', edgecolor='black')\n",
    "plt.title('Distribution of Cosine Similarities')\n",
    "plt.xlabel('Cosine similarity')\n",
    "plt.ylabel('Frequency')\n",
    "\n",
    "# Save the plot as a PDF\n",
    "histogram_pdf = 'cosine_similarities_histogram_epithelium.pdf'\n",
    "plt.savefig(histogram_pdf, format='pdf')\n",
    "\n",
    "plt.show()\n"
   ]
  },
  {
   "cell_type": "code",
   "execution_count": null,
   "id": "61b5bf13",
   "metadata": {},
   "outputs": [],
   "source": [
    "len(np.asarray(np.array(gene_cosine_similarities) > 0.9).nonzero()[0].tolist())"
   ]
  },
  {
   "cell_type": "code",
   "execution_count": null,
   "id": "e66c1257",
   "metadata": {},
   "outputs": [],
   "source": [
    "common_pattern_genes = scrnaseq_smoothers_df.iloc[np.asarray(np.array(gene_cosine_similarities) > 0.9).nonzero()[0].tolist()].index.tolist()"
   ]
  },
  {
   "cell_type": "markdown",
   "id": "14bcd67e",
   "metadata": {},
   "source": [
    "## Select common genes + scRNA-seq specific genes "
   ]
  },
  {
   "cell_type": "code",
   "execution_count": null,
   "id": "fcd7bae7",
   "metadata": {},
   "outputs": [],
   "source": [
    "tot_genes = common_genes.copy()\n",
    "tot_genes.extend(scrnaseq_unique)"
   ]
  },
  {
   "cell_type": "code",
   "execution_count": null,
   "id": "89770ac9",
   "metadata": {},
   "outputs": [],
   "source": [
    "len(tot_genes)"
   ]
  },
  {
   "cell_type": "markdown",
   "id": "4103492b",
   "metadata": {},
   "source": [
    "## Intersect prioritised genes with human TFs"
   ]
  },
  {
   "cell_type": "code",
   "execution_count": null,
   "id": "0852fef7",
   "metadata": {},
   "outputs": [],
   "source": [
    "tfs = pd.read_csv('/nfs/team292/vl6/FetalReproductiveTract/humanTFs/DatabaseExtract_v_1.01.csv')"
   ]
  },
  {
   "cell_type": "code",
   "execution_count": null,
   "id": "faa7bbda",
   "metadata": {},
   "outputs": [],
   "source": [
    "tfs['Is TF?'].value_counts()"
   ]
  },
  {
   "cell_type": "code",
   "execution_count": null,
   "id": "73c57695",
   "metadata": {},
   "outputs": [],
   "source": [
    "tfs['TF assessment'].value_counts()"
   ]
  },
  {
   "cell_type": "code",
   "execution_count": null,
   "id": "f318c250",
   "metadata": {},
   "outputs": [],
   "source": [
    "tfs = tfs[tfs['Is TF?'] == 'Yes']\n",
    "tfs = tfs[tfs['TF assessment'] == 'Known motif']"
   ]
  },
  {
   "cell_type": "code",
   "execution_count": null,
   "id": "5f153cd3",
   "metadata": {},
   "outputs": [],
   "source": [
    "tfs = tfs['HGNC symbol'].tolist()"
   ]
  },
  {
   "cell_type": "code",
   "execution_count": null,
   "id": "df1018b8",
   "metadata": {},
   "outputs": [],
   "source": [
    "len(tfs)"
   ]
  },
  {
   "cell_type": "code",
   "execution_count": null,
   "id": "83f50cd4",
   "metadata": {},
   "outputs": [],
   "source": [
    "'CD36' in tfs"
   ]
  },
  {
   "cell_type": "code",
   "execution_count": null,
   "id": "f24b1c17",
   "metadata": {},
   "outputs": [],
   "source": [
    "tfs_prioritised = [i for i in tot_genes if i in tfs]"
   ]
  },
  {
   "cell_type": "code",
   "execution_count": null,
   "id": "a14e9950",
   "metadata": {},
   "outputs": [],
   "source": [
    "len(tfs_prioritised)"
   ]
  },
  {
   "cell_type": "code",
   "execution_count": null,
   "id": "807ea246",
   "metadata": {},
   "outputs": [],
   "source": [
    "# tfs_prioritised = [i for i in tfs_prioritised if not i.startswith(\"HOX\")]"
   ]
  },
  {
   "cell_type": "code",
   "execution_count": null,
   "id": "410a6b2f",
   "metadata": {},
   "outputs": [],
   "source": [
    "len(tfs_prioritised)"
   ]
  },
  {
   "cell_type": "code",
   "execution_count": null,
   "id": "03a8ed83",
   "metadata": {},
   "outputs": [],
   "source": [
    "print(tfs_prioritised)"
   ]
  },
  {
   "cell_type": "code",
   "execution_count": null,
   "id": "5582d28a",
   "metadata": {},
   "outputs": [],
   "source": [
    "tfs_prioritised = [i for i in tfs_prioritised if i not in ['CEBPD', 'SOX4', 'ZNF770','IRF1','EGR1', 'FOSL2', \n",
    "                                                          'MAFB']]"
   ]
  },
  {
   "cell_type": "code",
   "execution_count": null,
   "id": "d61d2e4f",
   "metadata": {},
   "outputs": [],
   "source": [
    "len(tfs_prioritised)"
   ]
  },
  {
   "cell_type": "code",
   "execution_count": null,
   "id": "c3a7b88d",
   "metadata": {},
   "outputs": [],
   "source": [
    "scrnaseq_smoothers_df_tfs = scrnaseq_smoothers_df.loc[tfs_prioritised]"
   ]
  },
  {
   "cell_type": "code",
   "execution_count": null,
   "id": "d9a5bf0a",
   "metadata": {},
   "outputs": [],
   "source": [
    "scrnaseq_smoothers_mtx_tfs = scrnaseq_smoothers_df_tfs.to_numpy()"
   ]
  },
  {
   "cell_type": "code",
   "execution_count": null,
   "id": "6aa969f4",
   "metadata": {},
   "outputs": [],
   "source": [
    "tfs_prioritised"
   ]
  },
  {
   "cell_type": "markdown",
   "id": "71f4811c",
   "metadata": {},
   "source": [
    "## Cluster TFs by spatial expression pattern"
   ]
  },
  {
   "cell_type": "code",
   "execution_count": null,
   "id": "66dfb1d4",
   "metadata": {},
   "outputs": [],
   "source": [
    "from sklearn.preprocessing import StandardScaler"
   ]
  },
  {
   "cell_type": "code",
   "execution_count": null,
   "id": "2863ce38",
   "metadata": {},
   "outputs": [],
   "source": [
    "scaler = StandardScaler()\n",
    "scrnaseq_smoothers_mtx_tfs_scaled = scaler.fit_transform(scrnaseq_smoothers_mtx_tfs)"
   ]
  },
  {
   "cell_type": "code",
   "execution_count": null,
   "id": "4cd037e5",
   "metadata": {},
   "outputs": [],
   "source": [
    "scrnaseq_smoothers_mtx_tfs_scaled.shape"
   ]
  },
  {
   "cell_type": "code",
   "execution_count": null,
   "id": "c834b63c",
   "metadata": {},
   "outputs": [],
   "source": [
    "# Perform hierarchical clustering\n",
    "scrnaseq_smoothers_mtx_tfs_scaled_Z = linkage(scrnaseq_smoothers_mtx_tfs_scaled, method='ward', \n",
    "                                             optimal_ordering = True)"
   ]
  },
  {
   "cell_type": "code",
   "execution_count": null,
   "id": "4b5967e8",
   "metadata": {},
   "outputs": [],
   "source": [
    "common_tfs = [i for i in common_genes if i in tfs_prioritised]"
   ]
  },
  {
   "cell_type": "code",
   "execution_count": null,
   "id": "83fac072",
   "metadata": {},
   "outputs": [],
   "source": [
    "print(tfs_prioritised)"
   ]
  },
  {
   "cell_type": "code",
   "execution_count": null,
   "id": "cb96f5c5",
   "metadata": {},
   "outputs": [],
   "source": [
    "import matplotlib as mpl\n",
    "mpl.rcParams['pdf.fonttype'] = 42"
   ]
  },
  {
   "cell_type": "code",
   "execution_count": null,
   "id": "c4cb6465",
   "metadata": {},
   "outputs": [],
   "source": [
    "plt.figure(figsize=(6, 2.5))\n",
    "plt.title(\"Hierarchical clustering dendrogram of spatially-variable TFs\")\n",
    "\n",
    "# Create the dendrogram\n",
    "dendro = dendrogram(scrnaseq_smoothers_mtx_tfs_scaled_Z, labels=scrnaseq_smoothers_df_tfs.index.to_list(),\n",
    "           leaf_rotation=45, leaf_font_size=10)\n",
    "\n",
    "# Highlight the common TFs\n",
    "ax = plt.gca()\n",
    "x_labels = ax.get_xmajorticklabels()\n",
    "for label in x_labels:\n",
    "    if label.get_text() in common_tfs:\n",
    "        label.set_fontweight('bold')\n",
    "\n",
    "plt.xlabel(\"TFs\")\n",
    "plt.ylabel(\"Distance\")\n",
    "\n",
    "# Save the plot as a PDF\n",
    "dendrogram_pdf_path = 'hierarchical_clustering_dendrogram_epithelium.pdf'\n",
    "plt.savefig(dendrogram_pdf_path, format='pdf', bbox_inches='tight')  # bbox_inches='tight' ensures that labels are not cut off\n",
    "\n",
    "\n",
    "plt.show()"
   ]
  },
  {
   "cell_type": "code",
   "execution_count": null,
   "id": "c70ff854",
   "metadata": {},
   "outputs": [],
   "source": [
    "from scipy.cluster.hierarchy import fcluster"
   ]
  },
  {
   "cell_type": "code",
   "execution_count": null,
   "id": "643dcdee",
   "metadata": {},
   "outputs": [],
   "source": [
    "# Choosing a distance cutoff (or setting a specific number of clusters)\n",
    "distance_cutoff = 10  # example value, adjust based on your dendrogram\n",
    "clusters = fcluster(scrnaseq_smoothers_mtx_tfs_scaled_Z, distance_cutoff, criterion='distance')\n",
    "\n",
    "# clusters now contains the cluster ID for each gene"
   ]
  },
  {
   "cell_type": "code",
   "execution_count": null,
   "id": "951287f5",
   "metadata": {},
   "outputs": [],
   "source": [
    "len(np.unique(clusters))"
   ]
  },
  {
   "cell_type": "code",
   "execution_count": null,
   "id": "ead71306",
   "metadata": {},
   "outputs": [],
   "source": [
    "cluster_number = 1"
   ]
  },
  {
   "cell_type": "code",
   "execution_count": null,
   "id": "0e9ae51d",
   "metadata": {},
   "outputs": [],
   "source": [
    "gene_indices_in_cluster = np.asarray(clusters == cluster_number).nonzero()[0].tolist()"
   ]
  },
  {
   "cell_type": "code",
   "execution_count": null,
   "id": "c8c360db",
   "metadata": {},
   "outputs": [],
   "source": [
    "scrnaseq_smoothers_df_tfs.iloc[gene_indices_in_cluster]"
   ]
  },
  {
   "cell_type": "code",
   "execution_count": null,
   "id": "3f6fc428",
   "metadata": {},
   "outputs": [],
   "source": [
    "cluster_genes = scrnaseq_smoothers_df_tfs.iloc[gene_indices_in_cluster].index.to_list()"
   ]
  },
  {
   "cell_type": "code",
   "execution_count": null,
   "id": "cf148499",
   "metadata": {},
   "outputs": [],
   "source": [
    "fitted_values_cluster = scrnaseq_smoothers_mtx_tfs[gene_indices_in_cluster, :]"
   ]
  },
  {
   "cell_type": "code",
   "execution_count": null,
   "id": "35b701d4",
   "metadata": {},
   "outputs": [],
   "source": [
    "fitted_values_cluster.shape"
   ]
  },
  {
   "cell_type": "code",
   "execution_count": null,
   "id": "9e98af3a",
   "metadata": {},
   "outputs": [],
   "source": [
    "cluster_genes[0]"
   ]
  },
  {
   "cell_type": "code",
   "execution_count": null,
   "id": "afb9650f",
   "metadata": {},
   "outputs": [],
   "source": [
    "plt.figure(figsize=(8\n",
    "            , 7))\n",
    "pseudospace = np.linspace(-1, 5, 100)\n",
    "i = 0\n",
    "for gene_fitted_values in fitted_values_cluster:\n",
    "    plt.plot(pseudospace, gene_fitted_values, \n",
    "             alpha = 0.5, label=cluster_genes[i])  # Plot each gene's spline\n",
    "    i = i+1\n",
    "\n",
    "plt.title(f\"Splines for Genes in Cluster {cluster_number}\")\n",
    "plt.xlabel(\"Müllerian longitudinal axis\")\n",
    "plt.ylabel(\"Fitted Values\")\n",
    "# Display the legend\n",
    "plt.legend(loc='upper left', bbox_to_anchor=(1, 1))\n",
    "# Save the plot as a PDF\n",
    "cluster3_tfs = 'cluster11_tfs.pdf'\n",
    "plt.savefig(cluster3_tfs, format='pdf', bbox_inches='tight')  # bbox_inches='tight' ensures that labels are not cut off\n",
    "\n",
    "plt.show()\n"
   ]
  }
 ],
 "metadata": {
  "kernelspec": {
   "display_name": "atac_env",
   "language": "python",
   "name": "atac_env"
  },
  "language_info": {
   "codemirror_mode": {
    "name": "ipython",
    "version": 3
   },
   "file_extension": ".py",
   "mimetype": "text/x-python",
   "name": "python",
   "nbconvert_exporter": "python",
   "pygments_lexer": "ipython3",
   "version": "3.8.6"
  }
 },
 "nbformat": 4,
 "nbformat_minor": 5
}
