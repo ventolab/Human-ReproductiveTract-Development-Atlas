{
 "cells": [
  {
   "cell_type": "markdown",
   "id": "74b5d143",
   "metadata": {},
   "source": [
    "## Wolffian duct differentiation - epithelium + mesenchyme"
   ]
  },
  {
   "cell_type": "code",
   "execution_count": null,
   "id": "afeb6902",
   "metadata": {},
   "outputs": [],
   "source": [
    "import numpy as np\n",
    "import pandas as pd\n",
    "import scanpy as sc\n",
    "import scrublet as scr\n",
    "import seaborn as sns\n",
    "import scipy.stats\n",
    "import anndata\n",
    "import os\n",
    "\n",
    "import scipy as scipy\n",
    "import scipy as sp\n",
    "import pickle as pkl\n",
    "import matplotlib.pyplot as plt\n",
    "import re\n",
    "from collections import defaultdict\n",
    "from statsmodels.nonparametric.smoothers_lowess import lowess\n",
    "from numpy import asarray as ar\n",
    "from collections import Counter\n",
    "import networkx as nx\n",
    "import igraph\n",
    "import glob"
   ]
  },
  {
   "cell_type": "code",
   "execution_count": null,
   "id": "e2020fa0",
   "metadata": {},
   "outputs": [],
   "source": [
    "mese = sc.read('/nfs/team292/vl6/FetalReproductiveTract/wolffian_mese_late_post10pcw.h5ad')\n",
    "print(mese.shape)\n",
    "epi = sc.read('/nfs/team292/vl6/FetalReproductiveTract/wolffian_epi_late_post10pcw.h5ad')\n",
    "print(epi.shape)"
   ]
  },
  {
   "cell_type": "code",
   "execution_count": null,
   "id": "2649095b",
   "metadata": {},
   "outputs": [],
   "source": [
    "# Reset to raw \n",
    "import anndata \n",
    "mese_raw = anndata.AnnData(X = mese.raw.X, var = mese.raw.var, obs = mese.obs)\n",
    "epi_raw = anndata.AnnData(X = epi.raw.X, var = epi.raw.var, obs = epi.obs)\n",
    "print(mese_raw.shape, epi_raw.shape)"
   ]
  },
  {
   "cell_type": "code",
   "execution_count": null,
   "id": "e73ab9de",
   "metadata": {},
   "outputs": [],
   "source": [
    "adata = mese_raw.concatenate(epi_raw, join='outer',index_unique=None)\n",
    "adata.shape"
   ]
  },
  {
   "cell_type": "code",
   "execution_count": null,
   "id": "a9c2bb1e",
   "metadata": {},
   "outputs": [],
   "source": [
    "## import reproductive tract utils functions\n",
    "import sys\n",
    "cwd = '/nfs/team292/vl6/Experiments/Utils/'\n",
    "sys.path.append(cwd)\n",
    "\n",
    "import reptract_utils\n",
    "import reptract_genes"
   ]
  },
  {
   "cell_type": "code",
   "execution_count": null,
   "id": "ebaa612f",
   "metadata": {},
   "outputs": [],
   "source": [
    "adata.raw = adata.copy()\n",
    "sc.pp.filter_genes(adata, min_counts=10)\n",
    "# adata = reptract_utils.per_gene_analysis(adata)\n",
    "adata = reptract_utils.normalize_log_transform(adata)\n",
    "adata = reptract_utils.hvgs_pca_umap(adata)"
   ]
  },
  {
   "cell_type": "code",
   "execution_count": null,
   "id": "5917e706",
   "metadata": {},
   "outputs": [],
   "source": [
    "sc.pl.umap(adata, color=['stage_pcw', 'sex', \n",
    "                         'n_genes', 'donor',  'doublet_scores',\n",
    "                        'celltype'], ncols = 2, wspace = 0.3, \n",
    "          color_map = 'OrRd')"
   ]
  },
  {
   "cell_type": "code",
   "execution_count": null,
   "id": "bdb73a56",
   "metadata": {},
   "outputs": [],
   "source": [
    "sc.pl.umap(adata, color = ['PAX8', 'GATA3', 'MUC6', 'ESR1', 'VIL1', 'HOXA5', 'HOXA7', 'HOXA10', 'PTGER3', 'ACTA2', 'DES', 'MYH11',\n",
    "                          'HOXA13', 'ISL1', 'TMEM163',  'WNT4', 'GDF10', 'COMP', 'CALY', \n",
    "                          'WNT2', 'SFRP2', 'CDH7', 'RAI2',  'HMGA2', \n",
    "                          'KRT18', 'HOXA11', 'HOXC10', 'SRD5A2', 'EMX2',  \n",
    "                          'DLK1'], wspace = 0.15, use_raw = False,\n",
    "           color_map = 'OrRd', ncols = 2)"
   ]
  },
  {
   "cell_type": "markdown",
   "id": "f4176bcc",
   "metadata": {},
   "source": [
    "### Harmony integration"
   ]
  },
  {
   "cell_type": "code",
   "execution_count": null,
   "id": "850e1aaf",
   "metadata": {},
   "outputs": [],
   "source": [
    "sc.set_figure_params(scanpy=True, dpi=80, dpi_save=150, frameon=True, vector_friendly=True, \n",
    "                         fontsize=14, figsize=(6,6), color_map=None, format='pdf', facecolor=None, transparent=False)"
   ]
  },
  {
   "cell_type": "code",
   "execution_count": null,
   "id": "000b7e79",
   "metadata": {},
   "outputs": [],
   "source": [
    "import matplotlib as mpl\n",
    "mpl.rcParams['pdf.fonttype'] = 42"
   ]
  },
  {
   "cell_type": "code",
   "execution_count": null,
   "id": "cdfc1eda",
   "metadata": {},
   "outputs": [],
   "source": [
    "import rpy2.rinterface_lib.callbacks\n",
    "import logging\n",
    "# Ignore R warning messages\n",
    "#Note: this can be commented out to get more verbose R output\n",
    "rpy2.rinterface_lib.callbacks.logger.setLevel(logging.ERROR)\n",
    "import anndata2ri\n",
    "anndata2ri.activate()\n",
    "%load_ext rpy2.ipython"
   ]
  },
  {
   "cell_type": "code",
   "execution_count": null,
   "id": "b71619b0",
   "metadata": {},
   "outputs": [],
   "source": [
    "# Extract PCA matrix and batch array\n",
    "n_pcs = 25 # Principal components used to perform dimensionality reduction \n",
    "pca = adata.obsm['X_pca'][:, 0:(n_pcs)]\n",
    "batch = adata.obs['donor'] # Batch ID, in this case stage"
   ]
  },
  {
   "cell_type": "code",
   "execution_count": null,
   "id": "65fcea0d",
   "metadata": {},
   "outputs": [],
   "source": [
    "%%R -i pca -i batch -o hem\n",
    "\n",
    "library(harmony)\n",
    "library(magrittr)\n",
    "set.seed(1000)\n",
    "hem <- HarmonyMatrix(pca, batch, theta=0, lambda = 6, do_pca=FALSE, verbose = FALSE)  \n",
    "hem = data.frame(hem)"
   ]
  },
  {
   "cell_type": "code",
   "execution_count": null,
   "id": "a8ece386",
   "metadata": {},
   "outputs": [],
   "source": [
    "# Add harmony values to the anndata object --> overwriting PCA \n",
    "adata.obsm['X_pca_harmony'] = hem.values "
   ]
  },
  {
   "cell_type": "code",
   "execution_count": null,
   "id": "99e94fcf",
   "metadata": {},
   "outputs": [],
   "source": [
    "sc.pp.neighbors(adata, n_pcs = n_pcs, use_rep = 'X_pca_harmony', random_state= 123, key_added = 'harmony')\n"
   ]
  },
  {
   "cell_type": "code",
   "execution_count": null,
   "id": "82bca668",
   "metadata": {},
   "outputs": [],
   "source": [
    "sc.tl.umap(adata, min_dist=0.6, spread = 0.8, neighbors_key = 'harmony')\n"
   ]
  },
  {
   "cell_type": "code",
   "execution_count": null,
   "id": "c37c542b",
   "metadata": {},
   "outputs": [],
   "source": [
    "sc.pl.umap(adata, color = [ 'PAX8', 'GATA3', 'MUC6', 'ESR1', 'VIL1', 'HOXA5', 'HOXA7', 'HOXA10', 'PTGER3', 'ACTA2', 'DES', 'MYH11',\n",
    "                          'HOXA13', 'ISL1', 'TMEM163',  'WNT4', 'GDF10', 'COMP', 'CALY', \n",
    "                          'WNT2', 'SFRP2', 'CDH7', 'RAI2',  'HMGA2', \n",
    "                          'KRT18', 'HOXA11', 'HOXC10', 'SRD5A2', 'EMX2',  \n",
    "                          'DLK1'], wspace = 0.15, use_raw = False,\n",
    "           color_map = 'OrRd', ncols = 2)"
   ]
  },
  {
   "cell_type": "code",
   "execution_count": null,
   "id": "c53a1591",
   "metadata": {},
   "outputs": [],
   "source": [
    "sc.pl.umap(adata, color=['stage_pcw', 'sex', \n",
    "                         'n_genes', 'donor',  'doublet_scores', 'celltype'], ncols = 2, wspace = 0.3, \n",
    "          color_map = 'OrRd')"
   ]
  },
  {
   "cell_type": "code",
   "execution_count": null,
   "id": "6b98b776",
   "metadata": {},
   "outputs": [],
   "source": [
    "sc.pl.umap(adata, color = [ 'mese_wolffian_lowres', 'epi_wolffian_lowres'], wspace = 0.15, use_raw = False,\n",
    "           color_map = 'OrRd', ncols = 2)"
   ]
  },
  {
   "cell_type": "code",
   "execution_count": null,
   "id": "c09543a4",
   "metadata": {},
   "outputs": [],
   "source": [
    "adata.obs['mese_wolffian_lowres'] = adata.obs['mese_wolffian_lowres'].astype(str)"
   ]
  },
  {
   "cell_type": "code",
   "execution_count": null,
   "id": "f1489c59",
   "metadata": {},
   "outputs": [],
   "source": [
    "adata.obs['wolffian_lowres'] = np.where(adata.obs['mese_wolffian_lowres'] == 'nan',\n",
    "                                         adata.obs['epi_wolffian_lowres'], adata.obs['mese_wolffian_lowres'])"
   ]
  },
  {
   "cell_type": "code",
   "execution_count": null,
   "id": "f3c9a4dd",
   "metadata": {},
   "outputs": [],
   "source": [
    "sc.pl.umap(adata, color = [ 'wolffian_lowres'], wspace = 0.15, use_raw = False,\n",
    "           color_map = 'OrRd', ncols = 2)"
   ]
  },
  {
   "cell_type": "code",
   "execution_count": null,
   "id": "6f70f81e",
   "metadata": {},
   "outputs": [],
   "source": [
    "sc.pl.umap(adata, color = 'wolffian_lowres', \n",
    "          palette = ['lightskyblue', 'steelblue', 'mediumturquoise', 'cornflowerblue'], \n",
    "          save = '_wolffian_lowres')"
   ]
  },
  {
   "cell_type": "code",
   "execution_count": null,
   "id": "1872554b",
   "metadata": {},
   "outputs": [],
   "source": [
    "adata.write('/nfs/team292/vl6/FetalReproductiveTract/wolffian_mese_epi_late_post10pcw.h5ad')"
   ]
  },
  {
   "cell_type": "code",
   "execution_count": null,
   "id": "7266f82c",
   "metadata": {},
   "outputs": [],
   "source": [
    "adata = sc.read('/nfs/team292/vl6/FetalReproductiveTract/wolffian_mese_epi_late_post10pcw.h5ad')"
   ]
  },
  {
   "cell_type": "code",
   "execution_count": null,
   "id": "1996c905",
   "metadata": {},
   "outputs": [],
   "source": [
    "sc.pl.umap(adata, color = ['HOXC6', 'FOXC1', 'HOXC4', 'HOXA5', 'FOS', 'HOXA10', 'EGR1', 'HOXC8', 'FOSB', 'JUNB', \n",
    "                           'HOXA9', 'HOXA7', 'HOXA11', 'HOXC5', 'SOX4', 'RORB', 'EGR3', 'JUN', 'HOXA6', 'OSR2', \n",
    "                           'TRPS1', 'MAFB', 'FOXO4', \n",
    "                           'CUX2', 'HOXA13', 'NFE2L2', 'TEAD3', 'ARX', 'HOXD11'], color_map = 'OrRd', \n",
    "          ncols = 2, use_raw = False)"
   ]
  },
  {
   "cell_type": "code",
   "execution_count": null,
   "id": "de9518db",
   "metadata": {},
   "outputs": [],
   "source": [
    "sc.pl.umap(adata, color = ['IGFBP3', 'TMEM219', 'CDH3', 'CDH7', 'COL13A1', 'ITGB1', 'ITGA1', \n",
    "                          'ITGA2', 'ITGA10', 'ITGA11', 'PPARA', 'PPARD', 'PPARG', 'SULT1E1', \n",
    "                          'EDN3', 'EDNRA', 'EDNRB', 'NTN1', 'DCC', 'UNC5B', 'UNC5C', \n",
    "                          'NLGN1', 'NRXN1', 'NRXN3', 'NRXN2', 'DKK2', 'KREMEN2', 'LRP6', \n",
    "                          'GDNF', 'RET', 'GFRA1', 'TNC', 'NELL2', 'ROBO3', 'RSPO2', 'LGR4', 'LGR5', 'GDF7', 'ANGPT1', 'TEK'], color_map = 'OrRd', \n",
    "          ncols = 2, use_raw = False)"
   ]
  },
  {
   "cell_type": "code",
   "execution_count": null,
   "id": "28a5d8e6",
   "metadata": {},
   "outputs": [],
   "source": [
    "sc.pl.umap(adata, color = ['SFRP1', 'WIF1',  'WNT6', 'WNT4', 'WNT3', 'WNT5A', 'WNT11', \n",
    "                           'WNT9A', 'WNT9B', 'WNT2', 'WNT2B', 'SLC1A1', 'GLS', 'SLC1A3', \n",
    "                           'SLC1A6',  'GRM7', 'ADRA2A', 'PNMT', 'SCARA5', 'FTH1', 'FTL', \n",
    "                          'GABBR2', 'SLC6A12', 'GAD1', 'ALDH1A1', 'RORB', 'AR', 'ESR1', 'HNF1A', 'PITX2', 'MLXIPL'], color_map = 'OrRd', \n",
    "          ncols = 2, use_raw = False)"
   ]
  },
  {
   "cell_type": "markdown",
   "id": "affa5c8d",
   "metadata": {},
   "source": [
    "## ATAC visualisations - MESENCHYME"
   ]
  },
  {
   "cell_type": "code",
   "execution_count": null,
   "id": "7e06fbf5",
   "metadata": {},
   "outputs": [],
   "source": [
    "outDir = '/lustre/scratch126/cellgen/team292/vl6/pycistopic/wolffian_mese_post9pcw/'"
   ]
  },
  {
   "cell_type": "code",
   "execution_count": null,
   "id": "9b5ea924",
   "metadata": {},
   "outputs": [],
   "source": [
    "atac_annots = pd.read_csv(outDir + 'wolff_mese_embedding.csv', index_col = 0)\n",
    "atac_annots.head()"
   ]
  },
  {
   "cell_type": "code",
   "execution_count": null,
   "id": "8030e843",
   "metadata": {},
   "outputs": [],
   "source": [
    "atac_annots.shape"
   ]
  },
  {
   "cell_type": "code",
   "execution_count": null,
   "id": "5dd378c7",
   "metadata": {},
   "outputs": [],
   "source": [
    "# Create fake matrix \n",
    "fake_matrix = np.zeros([2434, 20000])\n",
    "fake_matrix.shape"
   ]
  },
  {
   "cell_type": "code",
   "execution_count": null,
   "id": "88e7791d",
   "metadata": {},
   "outputs": [],
   "source": [
    "fake_vars = pd.DataFrame({'n_genes' : [5] * 20000})"
   ]
  },
  {
   "cell_type": "code",
   "execution_count": null,
   "id": "3babfacb",
   "metadata": {},
   "outputs": [],
   "source": [
    "import anndata \n",
    "adata = anndata.AnnData(X = fake_matrix, var = fake_vars, obs = atac_annots)"
   ]
  },
  {
   "cell_type": "code",
   "execution_count": null,
   "id": "e0154cbe",
   "metadata": {},
   "outputs": [],
   "source": [
    "adata.obsm['X_umap'] = atac_annots[['tsne1', 'tsne2']].to_numpy()"
   ]
  },
  {
   "cell_type": "code",
   "execution_count": null,
   "id": "be947686",
   "metadata": {},
   "outputs": [],
   "source": [
    "sc.pl.umap(adata, color = 'stage', cmap = 'viridis', save = '_atac_wolff_mese_stage')"
   ]
  },
  {
   "cell_type": "code",
   "execution_count": null,
   "id": "ed28c2d8",
   "metadata": {},
   "outputs": [],
   "source": [
    "color_dict = {'EpididymisMese': 'orange', 'VasDeferensMese': 'orangered'}"
   ]
  },
  {
   "cell_type": "code",
   "execution_count": null,
   "id": "e2582388",
   "metadata": {},
   "outputs": [],
   "source": [
    "sc.pl.umap(adata, color = 'mese_wolffian_lowres', \n",
    "           palette = color_dict, save = '_atac_wolff_mese_celltype')"
   ]
  },
  {
   "cell_type": "markdown",
   "id": "c4737c5d",
   "metadata": {},
   "source": [
    "## ATAC visualisations - EPITHELIUM"
   ]
  },
  {
   "cell_type": "code",
   "execution_count": null,
   "id": "64fde71c",
   "metadata": {},
   "outputs": [],
   "source": [
    "outDir2 = '/lustre/scratch126/cellgen/team292/vl6/pycistopic/wolffian_epi_post9pcw/'\n"
   ]
  },
  {
   "cell_type": "code",
   "execution_count": null,
   "id": "a50532c5",
   "metadata": {},
   "outputs": [],
   "source": [
    "atac_annots = pd.read_csv(outDir2 + 'wolff_epi_embedding.csv', index_col = 0)\n",
    "atac_annots.head()"
   ]
  },
  {
   "cell_type": "code",
   "execution_count": null,
   "id": "24ee9733",
   "metadata": {},
   "outputs": [],
   "source": [
    "atac_annots.shape"
   ]
  },
  {
   "cell_type": "code",
   "execution_count": null,
   "id": "f3620d8a",
   "metadata": {},
   "outputs": [],
   "source": [
    "# Create fake matrix \n",
    "fake_matrix = np.zeros([1213, 20000])\n",
    "fake_matrix.shape"
   ]
  },
  {
   "cell_type": "code",
   "execution_count": null,
   "id": "60406860",
   "metadata": {},
   "outputs": [],
   "source": [
    "fake_vars = pd.DataFrame({'n_genes' : [5] * 20000})"
   ]
  },
  {
   "cell_type": "code",
   "execution_count": null,
   "id": "34824d3d",
   "metadata": {},
   "outputs": [],
   "source": [
    "import anndata \n",
    "adata = anndata.AnnData(X = fake_matrix, var = fake_vars, obs = atac_annots)"
   ]
  },
  {
   "cell_type": "code",
   "execution_count": null,
   "id": "a12aeb62",
   "metadata": {},
   "outputs": [],
   "source": [
    "adata.obsm['X_umap'] = atac_annots[['tsne1', 'tsne2']].to_numpy()"
   ]
  },
  {
   "cell_type": "code",
   "execution_count": null,
   "id": "264a0a8e",
   "metadata": {},
   "outputs": [],
   "source": [
    "sc.set_figure_params(scanpy=True, dpi=80, dpi_save=150, \n",
    "                         frameon=True, vector_friendly=True, fontsize=14, figsize=[7,7], color_map=None, \n",
    "                         format='pdf', facecolor=None, transparent=False)"
   ]
  },
  {
   "cell_type": "code",
   "execution_count": null,
   "id": "5d4b3f45",
   "metadata": {},
   "outputs": [],
   "source": [
    "import matplotlib as mpl\n",
    "mpl.rcParams['pdf.fonttype'] = 42"
   ]
  },
  {
   "cell_type": "code",
   "execution_count": null,
   "id": "d9ea3d5d",
   "metadata": {},
   "outputs": [],
   "source": [
    "sc.pl.umap(adata, color = 'stage', cmap = 'viridis', save = '_atac_wolff_epi_stage')"
   ]
  },
  {
   "cell_type": "code",
   "execution_count": null,
   "id": "1543f5af",
   "metadata": {},
   "outputs": [],
   "source": [
    "color_dict = {'EpididymisEpi': 'goldenrod',\n",
    " 'VasDeferensEpi': 'indianred',\n",
    " 'UpperVaginaEpi': 'mediumorchid'}"
   ]
  },
  {
   "cell_type": "code",
   "execution_count": null,
   "id": "d2b5ad0a",
   "metadata": {},
   "outputs": [],
   "source": [
    "sc.pl.umap(adata, color = 'epi_wolffian_lowres', \n",
    "           palette = color_dict, save = '_atac_wolff_epi_celltype')"
   ]
  },
  {
   "cell_type": "code",
   "execution_count": null,
   "id": "bf035859",
   "metadata": {},
   "outputs": [],
   "source": []
  }
 ],
 "metadata": {
  "kernelspec": {
   "display_name": "atac_env",
   "language": "python",
   "name": "atac_env"
  },
  "language_info": {
   "codemirror_mode": {
    "name": "ipython",
    "version": 3
   },
   "file_extension": ".py",
   "mimetype": "text/x-python",
   "name": "python",
   "nbconvert_exporter": "python",
   "pygments_lexer": "ipython3",
   "version": "3.8.6"
  }
 },
 "nbformat": 4,
 "nbformat_minor": 5
}
