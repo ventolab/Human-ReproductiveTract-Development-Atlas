{
 "cells": [
  {
   "cell_type": "code",
   "execution_count": null,
   "id": "8e4c4c8a",
   "metadata": {},
   "outputs": [],
   "source": [
    "import scanpy as sc\n",
    "import celltypist\n",
    "import time\n",
    "import numpy as np"
   ]
  },
  {
   "cell_type": "code",
   "execution_count": null,
   "id": "906d5c86",
   "metadata": {},
   "outputs": [],
   "source": [
    "sc.set_figure_params(scanpy=True, dpi=80, dpi_save=150, \n",
    "                         frameon=True, vector_friendly=True, fontsize=14, figsize=[7,7], color_map=None, \n",
    "                         format='pdf', facecolor=None, transparent=False,)"
   ]
  },
  {
   "cell_type": "code",
   "execution_count": null,
   "id": "3d0396df",
   "metadata": {},
   "outputs": [],
   "source": [
    "import matplotlib as mpl\n",
    "mpl.rcParams['pdf.fonttype'] = 42"
   ]
  },
  {
   "cell_type": "markdown",
   "id": "cc25a035",
   "metadata": {},
   "source": [
    "## Read in vivo and in vitro datasets\n",
    "\n",
    "Data must be normalised and log-transformed "
   ]
  },
  {
   "cell_type": "code",
   "execution_count": null,
   "id": "9eed5f37",
   "metadata": {},
   "outputs": [],
   "source": [
    "# FETAL \n",
    "females_post10pcw = sc.read('/nfs/team292/vl6/FetalReproductiveTract/post_10pcw_females.20240326.h5ad')\n",
    "females_post10pcw.shape"
   ]
  },
  {
   "cell_type": "code",
   "execution_count": null,
   "id": "5b4604cf",
   "metadata": {},
   "outputs": [],
   "source": [
    "sc.pl.umap(females_post10pcw, color=\"celltype\")"
   ]
  },
  {
   "cell_type": "code",
   "execution_count": null,
   "id": "2e02799d",
   "metadata": {},
   "outputs": [],
   "source": [
    "females_post10pcw = females_post10pcw[[i in ['HD_F_GON12873752'] for i in females_post10pcw.obs['sample']]]\n",
    "females_post10pcw.shape"
   ]
  },
  {
   "cell_type": "code",
   "execution_count": null,
   "id": "3a848e8b",
   "metadata": {},
   "outputs": [],
   "source": [
    "sc.pl.umap(females_post10pcw, color=\"celltype\")"
   ]
  },
  {
   "cell_type": "code",
   "execution_count": null,
   "id": "be549d1d",
   "metadata": {},
   "outputs": [],
   "source": [
    "females_post10pcw = females_post10pcw[[i in ['Uterus/Cervix_Epithelium', \n",
    "                                            'MüllerianVagina_Epithelium', \n",
    "                                            'VaginalPlate_Epithelium'] for i in females_post10pcw.obs['celltype']]]"
   ]
  },
  {
   "cell_type": "code",
   "execution_count": null,
   "id": "87ab7aaa",
   "metadata": {},
   "outputs": [],
   "source": [
    "sc.pl.umap(females_post10pcw, color=\"celltype\")"
   ]
  },
  {
   "cell_type": "code",
   "execution_count": null,
   "id": "30f956ed",
   "metadata": {},
   "outputs": [],
   "source": [
    "import anndata"
   ]
  },
  {
   "cell_type": "code",
   "execution_count": null,
   "id": "ad50cece",
   "metadata": {},
   "outputs": [],
   "source": [
    "invivo = anndata.AnnData(X = females_post10pcw.raw.X, var = females_post10pcw.raw.var, obs = females_post10pcw.obs)\n",
    "invivo.shape"
   ]
  },
  {
   "cell_type": "code",
   "execution_count": null,
   "id": "48dfd7de",
   "metadata": {},
   "outputs": [],
   "source": [
    "sc.pp.filter_genes(invivo, min_cells = 50)"
   ]
  },
  {
   "cell_type": "code",
   "execution_count": null,
   "id": "b1f9b78b",
   "metadata": {},
   "outputs": [],
   "source": [
    "invivo.raw = invivo.copy()"
   ]
  },
  {
   "cell_type": "code",
   "execution_count": null,
   "id": "c95c2316",
   "metadata": {},
   "outputs": [],
   "source": [
    "sc.pp.normalize_total(invivo, target_sum = 1e4, inplace=True)\n",
    "sc.pp.log1p(invivo)"
   ]
  },
  {
   "cell_type": "code",
   "execution_count": null,
   "id": "4b355886",
   "metadata": {},
   "outputs": [],
   "source": [
    "invivo.shape"
   ]
  },
  {
   "cell_type": "code",
   "execution_count": null,
   "id": "48c6c616",
   "metadata": {},
   "outputs": [],
   "source": []
  },
  {
   "cell_type": "code",
   "execution_count": null,
   "id": "cf632818",
   "metadata": {},
   "outputs": [],
   "source": [
    "# Select sample used for deriving organoids\n",
    "organoids = sc.read('/nfs/team292/vl6/FetalReproductiveTract/fetal_organoids_18PCW.h5ad')\n",
    "organoids"
   ]
  },
  {
   "cell_type": "code",
   "execution_count": null,
   "id": "92cd0b82",
   "metadata": {},
   "outputs": [],
   "source": [
    "organoids = anndata.AnnData(X = organoids.raw.X, var = organoids.raw.var, obs = organoids.obs)\n",
    "organoids.shape"
   ]
  },
  {
   "cell_type": "code",
   "execution_count": null,
   "id": "2c671d27",
   "metadata": {},
   "outputs": [],
   "source": [
    "sc.pp.filter_genes(organoids, min_cells = 50)"
   ]
  },
  {
   "cell_type": "code",
   "execution_count": null,
   "id": "410bab7f",
   "metadata": {},
   "outputs": [],
   "source": [
    "organoids.raw = organoids.copy()"
   ]
  },
  {
   "cell_type": "code",
   "execution_count": null,
   "id": "f1371b91",
   "metadata": {},
   "outputs": [],
   "source": [
    "sc.pp.normalize_total(organoids, target_sum = 1e4, inplace=True)\n",
    "sc.pp.log1p(organoids)"
   ]
  },
  {
   "cell_type": "code",
   "execution_count": null,
   "id": "8ebe7fed",
   "metadata": {},
   "outputs": [],
   "source": [
    "organoids.shape"
   ]
  },
  {
   "cell_type": "markdown",
   "id": "bd0a642b",
   "metadata": {},
   "source": [
    "## Downsample cells from each cell type to a given number"
   ]
  },
  {
   "cell_type": "code",
   "execution_count": null,
   "id": "5af3e3af",
   "metadata": {},
   "outputs": [],
   "source": [
    "invivo.obs['celltype'].value_counts()"
   ]
  },
  {
   "cell_type": "code",
   "execution_count": null,
   "id": "56f42c0e",
   "metadata": {},
   "outputs": [],
   "source": [
    "# sampled_cell_index = celltypist.samples.downsample_adata(adata_uterus, \n",
    "#                                                          mode = 'each', n_cells = 7000, by = 'final_annotations_level_2',\n",
    "#                                                          return_index = True)"
   ]
  },
  {
   "cell_type": "code",
   "execution_count": null,
   "id": "4144093d",
   "metadata": {},
   "outputs": [],
   "source": [
    "# print(f\"Number of downsampled cells for training: {len(sampled_cell_index)}\")"
   ]
  },
  {
   "cell_type": "markdown",
   "id": "1350e12a",
   "metadata": {},
   "source": [
    "A feature selection step will restrict the number of genes during training, and can improve both training efficiency and prediction accuracy. It is recommended in most cases (though CellTypist models are proved to be robust when all genes are used).\n",
    "\n",
    "One example of feature selection is using the scanpy.pp.highly_variable_genes. Depending on the datasets, you may need to take into account batch effects (e.g. by specifying batch_key), add/remove a specific list of genes (e.g. VDJ genes for immune cells), combine high-confidence features across zoomed-in compartments, or any other approaches tailored to your data."
   ]
  },
  {
   "cell_type": "code",
   "execution_count": null,
   "id": "1db73285",
   "metadata": {},
   "outputs": [],
   "source": [
    "# Use `celltypist.train` to quickly train a rough CellTypist model.\n",
    "# You can also set `mini_batch = True` to enable mini-batch training.\n",
    "t_start = time.time()\n",
    "model_fs = celltypist.train(invivo, 'celltype', n_jobs = 10, max_iter = 5, use_SGD = True)\n",
    "t_end = time.time()\n",
    "print(f\"Time elapsed: {t_end - t_start} seconds\")"
   ]
  },
  {
   "cell_type": "markdown",
   "id": "09ba7a33",
   "metadata": {},
   "source": [
    "This model is trained from all genes with only five epochs, and thus is not accurate enough for cell type prediction. But the information about genes can be utilised. Here, we drew top 100 important genes from each cell type as ranked by their absolute regression coefficients associated with the given cell type. For datasets with only several cell types, you may want to increase the top gene number from 100 to for example 300 in order to get a sufficient number of genes for final use."
   ]
  },
  {
   "cell_type": "code",
   "execution_count": null,
   "id": "adc049f3",
   "metadata": {},
   "outputs": [],
   "source": [
    "gene_index = np.argpartition(np.abs(model_fs.classifier.coef_), -200, axis = 1)[:, -200:]"
   ]
  },
  {
   "cell_type": "code",
   "execution_count": null,
   "id": "80f83813",
   "metadata": {},
   "outputs": [],
   "source": [
    "gene_index = np.unique(gene_index)"
   ]
  },
  {
   "cell_type": "code",
   "execution_count": null,
   "id": "ac725a4e",
   "metadata": {},
   "outputs": [],
   "source": [
    "len(gene_index)"
   ]
  },
  {
   "cell_type": "code",
   "execution_count": null,
   "id": "7dc5e1ea",
   "metadata": {},
   "outputs": [],
   "source": [
    "print(f\"Number of genes selected: {len(gene_index)}\")"
   ]
  },
  {
   "cell_type": "code",
   "execution_count": null,
   "id": "d403411f",
   "metadata": {},
   "outputs": [],
   "source": [
    "# Add `check_expression = False` to bypass expression check with only a subset of genes.\n",
    "t_start = time.time()\n",
    "model = celltypist.train(invivo[:, gene_index], 'celltype', check_expression = False, n_jobs = 10, max_iter = 300)\n",
    "t_end = time.time()\n",
    "print(f\"Time elapsed: {(t_end - t_start)/60} minutes\")"
   ]
  },
  {
   "cell_type": "code",
   "execution_count": null,
   "id": "b64cc509",
   "metadata": {},
   "outputs": [],
   "source": [
    "# Save the model.\n",
    "model.write('/nfs/team292/vl6/FetalReproductiveTract/celltypist_invivo_organoids_18pcw.pkl')"
   ]
  },
  {
   "cell_type": "code",
   "execution_count": null,
   "id": "ef11cb71",
   "metadata": {},
   "outputs": [],
   "source": [
    "# CellTypist prediction with over-clustering and majority-voting.\n",
    "t_start = time.time()\n",
    "predictions = celltypist.annotate(organoids, model = '/nfs/team292/vl6/FetalReproductiveTract/celltypist_invivo_organoids_18pcw.pkl',\n",
    "                                  majority_voting = True)\n",
    "t_end = time.time()\n",
    "print(f\"Time elapsed: {t_end - t_start} seconds\")"
   ]
  },
  {
   "cell_type": "markdown",
   "id": "529800bf",
   "metadata": {},
   "source": [
    "The results include both predicted cell type labels (predicted_labels), over-clustering result (over_clustering), and predicted labels after majority voting in local subclusters (majority_voting). Note in the predicted_labels, each query cell gets its inferred label by choosing the most probable cell type among all possible cell types in the given model."
   ]
  },
  {
   "cell_type": "code",
   "execution_count": null,
   "id": "1e371ee0",
   "metadata": {},
   "outputs": [],
   "source": [
    "predictions.predicted_labels"
   ]
  },
  {
   "cell_type": "code",
   "execution_count": null,
   "id": "4174c513",
   "metadata": {},
   "outputs": [],
   "source": [
    "predictions.adata.obs['sample'].value_counts()"
   ]
  },
  {
   "cell_type": "code",
   "execution_count": null,
   "id": "914c5b8e",
   "metadata": {},
   "outputs": [],
   "source": [
    "# You can also change the value of `use_as_prediction` to `predicted_labels` to compare the raw prediction result with the pre-defined cell types.\n",
    "celltypist.dotplot(predictions, use_as_reference = 'sample', use_as_prediction = 'majority_voting')"
   ]
  },
  {
   "cell_type": "code",
   "execution_count": null,
   "id": "4682cceb",
   "metadata": {},
   "outputs": [],
   "source": [
    "predictions.predicted_labels['predicted_labels'] = predictions.predicted_labels['predicted_labels'].astype('category')"
   ]
  },
  {
   "cell_type": "code",
   "execution_count": null,
   "id": "48575743",
   "metadata": {},
   "outputs": [],
   "source": [
    "predictions.predicted_labels['predicted_labels'] = predictions.predicted_labels['predicted_labels'].cat.reorder_categories([\n",
    "    'Uterus/Cervix_Epithelium', 'MüllerianVagina_Epithelium', 'VaginalPlate_Epithelium'\n",
    "])"
   ]
  },
  {
   "cell_type": "code",
   "execution_count": null,
   "id": "ca253132",
   "metadata": {},
   "outputs": [],
   "source": [
    "predictions.adata.obs['sample'] = predictions.adata.obs['sample'].astype('category')\n",
    "predictions.adata.obs['sample'] = predictions.adata.obs['sample'].cat.reorder_categories([\n",
    "    'HD_F_GON14896471', 'HD_F_GON14896472'\n",
    "])"
   ]
  },
  {
   "cell_type": "code",
   "execution_count": null,
   "id": "97ba5b30",
   "metadata": {},
   "outputs": [],
   "source": [
    "# You can also change the value of `use_as_prediction` to `predicted_labels` to compare the raw prediction result with the pre-defined cell types.\n",
    "celltypist.dotplot(predictions, use_as_reference = 'sample', use_as_prediction = 'predicted_labels', \n",
    "                   cmap = 'OrRd',\n",
    "                  save = '_invivo_organoids_18pcw.pdf')"
   ]
  },
  {
   "cell_type": "code",
   "execution_count": null,
   "id": "4029d68b",
   "metadata": {},
   "outputs": [],
   "source": [
    "organoids.obs['treated'].value_counts()"
   ]
  },
  {
   "cell_type": "code",
   "execution_count": null,
   "id": "7d1e3cff",
   "metadata": {},
   "outputs": [],
   "source": [
    "577 / (1161 + 577)"
   ]
  },
  {
   "cell_type": "code",
   "execution_count": null,
   "id": "01b687ec",
   "metadata": {},
   "outputs": [],
   "source": []
  }
 ],
 "metadata": {
  "kernelspec": {
   "display_name": "atac_env",
   "language": "python",
   "name": "atac_env"
  },
  "language_info": {
   "codemirror_mode": {
    "name": "ipython",
    "version": 3
   },
   "file_extension": ".py",
   "mimetype": "text/x-python",
   "name": "python",
   "nbconvert_exporter": "python",
   "pygments_lexer": "ipython3",
   "version": "3.8.6"
  }
 },
 "nbformat": 4,
 "nbformat_minor": 5
}
