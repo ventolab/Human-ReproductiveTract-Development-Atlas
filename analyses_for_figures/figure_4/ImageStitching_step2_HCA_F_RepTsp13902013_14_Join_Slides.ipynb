{
 "cells": [
  {
   "cell_type": "markdown",
   "id": "cd63c42e",
   "metadata": {},
   "source": [
    "## Stitch HCA_F_RepTsp13902013 & HCA_F_RepTsp13902014 (Uterovaginal canal)"
   ]
  },
  {
   "cell_type": "code",
   "execution_count": null,
   "id": "d5ddbf96",
   "metadata": {},
   "outputs": [],
   "source": [
    "import scanpy as sc"
   ]
  },
  {
   "cell_type": "markdown",
   "id": "0c1ff7d5",
   "metadata": {},
   "source": [
    "Nadav did a cool thing and stitched together a human limb of three separate Visium slides. He did all the image lifting:\n",
    "- put together the three images into one\n",
    "- the size factors were exactly the same (likely as the result of the same exact zoom being used when taking the slide pictures), so there was no need to mess with the source images on that axis\n",
    "- once the images were put together, he corrected the underlying spot coordinates so they're all compatible\n",
    "\n",
    "The files exist in three separate Visium mapping folders, with an extra `spatial_0` folder with the new stuff. And now we need to join them somehow!\n",
    "\n",
    "We can't exactly just `sc.read_visium()` the thing as that specifically requires `.h5` formatted matrices. However, we can emulate the final outcome of `sc.read_visium()` by importing the three count matrices separately, merging them, and then adding the stitched together limb into the necessary spatial slots of the object. Start with the count matrices!"
   ]
  },
  {
   "cell_type": "markdown",
   "id": "5dcdf761",
   "metadata": {},
   "source": [
    "### 1. Import annotated h5ad files per sample"
   ]
  },
  {
   "cell_type": "code",
   "execution_count": null,
   "id": "87e02f66",
   "metadata": {},
   "outputs": [],
   "source": [
    "HCA_F_RepTsp13902013 = sc.read_10x_h5(\"/nfs/team292/vl6/FetalReproductiveTract/VISIUM/data/HCA_F_RepTsp13902013/raw_feature_bc_matrix.h5\")\n",
    "HCA_F_RepTsp13902013.var_names_make_unique()\n",
    "HCA_F_RepTsp13902014 = sc.read_10x_h5(\"/nfs/team292/vl6/FetalReproductiveTract/VISIUM/data/HCA_F_RepTsp13902014/raw_feature_bc_matrix.h5\")\n",
    "HCA_F_RepTsp13902014.var_names_make_unique()"
   ]
  },
  {
   "cell_type": "code",
   "execution_count": null,
   "id": "bac990a2",
   "metadata": {},
   "outputs": [],
   "source": [
    "HCA_F_RepTsp13902013.obs_names = [\"HCA_F_RepTsp13902013_\"+i for i in HCA_F_RepTsp13902013.obs_names]\n",
    "HCA_F_RepTsp13902013.obs[\"sample\"] = \"HCA_F_RepTsp13902013\"\n",
    "HCA_F_RepTsp13902014.obs_names = [\"HCA_F_RepTsp13902014_\"+i for i in HCA_F_RepTsp13902014.obs_names]\n",
    "HCA_F_RepTsp13902014.obs[\"sample\"] = \"HCA_F_RepTsp13902014\""
   ]
  },
  {
   "cell_type": "markdown",
   "id": "32de9ac5",
   "metadata": {},
   "source": [
    "### 2. Concatenate anndata objects"
   ]
  },
  {
   "cell_type": "code",
   "execution_count": null,
   "id": "864d904b",
   "metadata": {},
   "outputs": [],
   "source": [
    "adata = HCA_F_RepTsp13902013.concatenate(HCA_F_RepTsp13902014, index_unique=None)\n",
    "adata"
   ]
  },
  {
   "cell_type": "markdown",
   "id": "93b7f779",
   "metadata": {},
   "source": [
    "Start preparing the spatial stuff in the object, mirroring `sc.read_spatial()` source code in terms of import and storage and whatnot.\n",
    "\n",
    "Create the base slots for the thing. The chosen library ID doesn't really matter."
   ]
  },
  {
   "cell_type": "code",
   "execution_count": null,
   "id": "a441ff94",
   "metadata": {},
   "outputs": [],
   "source": [
    "adata.uns[\"spatial\"] = dict()\n",
    "library_id = \"joint\"\n",
    "adata.uns[\"spatial\"][library_id] = dict()"
   ]
  },
  {
   "cell_type": "markdown",
   "id": "f6a50d1d",
   "metadata": {},
   "source": [
    "The image is imported like so. Use the stitched together one Nadav provided."
   ]
  },
  {
   "cell_type": "code",
   "execution_count": null,
   "id": "3acadeaf",
   "metadata": {},
   "outputs": [],
   "source": [
    "from matplotlib.image import imread\n",
    "\n",
    "adata.uns[\"spatial\"][library_id]['images'] = dict()\n",
    "adata.uns[\"spatial\"][library_id]['images'][\"hires\"] = imread(\"HCA_F_RepTsp13902013_14_tissue_hires_image.png\")"
   ]
  },
  {
   "cell_type": "markdown",
   "id": "e2d40393",
   "metadata": {},
   "source": [
    "Import the scale factor JSON. This is technically marginally different syntax than the scanpy code but it gets the job done.\n",
    "\n",
    "As a reminder, this is consistent across all three images, so use whichever one and it's ok."
   ]
  },
  {
   "cell_type": "code",
   "execution_count": null,
   "id": "6b3d0d0e",
   "metadata": {},
   "outputs": [],
   "source": [
    "import json\n",
    "\n",
    "with open(\"/nfs/team292/vl6/FetalReproductiveTract/VISIUM/data/HCA_F_RepTsp13902013/spatial/scalefactors_json.json\", \"r\") as fid:\n",
    "    adata.uns[\"spatial\"][library_id]['scalefactors'] = json.load(fid)"
   ]
  },
  {
   "cell_type": "markdown",
   "id": "97812f75",
   "metadata": {},
   "source": [
    "And now for the fun part - the spatial coordinates, which are present in three separate files. Import the three separate files."
   ]
  },
  {
   "cell_type": "code",
   "execution_count": null,
   "id": "05c5ec77",
   "metadata": {},
   "outputs": [],
   "source": [
    "import pandas as pd\n",
    "\n",
    "p1 = pd.read_csv(\"HCA_F_RepTsp13902013_tissue_positions_list.csv\", header=None)\n",
    "p2 = pd.read_csv(\"HCA_F_RepTsp13902014_tissue_positions_list.csv\", header=None)"
   ]
  },
  {
   "cell_type": "markdown",
   "id": "80aeb5f0",
   "metadata": {},
   "source": [
    "Name the columns appropriately and set the index. In the process also add the sample ID as a prefix to the barcodes so it matches the object."
   ]
  },
  {
   "cell_type": "code",
   "execution_count": null,
   "id": "7e2929ff",
   "metadata": {},
   "outputs": [],
   "source": [
    "p1.columns = [\n",
    "    'barcode',\n",
    "    'in_tissue',\n",
    "    'array_row',\n",
    "    'array_col',\n",
    "    'pxl_col_in_fullres',\n",
    "    'pxl_row_in_fullres',\n",
    "]\n",
    "\n",
    "p1.index = p1['barcode']\n",
    "\n",
    "p2.columns = [\n",
    "    'barcode',\n",
    "    'in_tissue',\n",
    "    'array_row',\n",
    "    'array_col',\n",
    "    'pxl_col_in_fullres',\n",
    "    'pxl_row_in_fullres',\n",
    "]\n",
    "\n",
    "p2.index = p2['barcode']\n"
   ]
  },
  {
   "cell_type": "code",
   "execution_count": null,
   "id": "766f5e2f",
   "metadata": {},
   "outputs": [],
   "source": [
    "p1.head()"
   ]
  },
  {
   "cell_type": "code",
   "execution_count": null,
   "id": "9cf8d93f",
   "metadata": {},
   "outputs": [],
   "source": [
    "p1.shape"
   ]
  },
  {
   "cell_type": "markdown",
   "id": "52bcf958",
   "metadata": {},
   "source": [
    "### 3. Read the overlapping barcodes and add as metadata"
   ]
  },
  {
   "cell_type": "code",
   "execution_count": null,
   "id": "9c15b8df",
   "metadata": {},
   "outputs": [],
   "source": [
    "with open(\"HCA_F_RepTsp13902013_14_overlapping_barcodes.json\", \"r\") as f:\n",
    "    overlapping_barcodes = json.load(f)"
   ]
  },
  {
   "cell_type": "code",
   "execution_count": null,
   "id": "8b9d2c75",
   "metadata": {},
   "outputs": [],
   "source": [
    "len(list(overlapping_barcodes.keys()))"
   ]
  },
  {
   "cell_type": "code",
   "execution_count": null,
   "id": "e54117d3",
   "metadata": {},
   "outputs": [],
   "source": [
    "p1['overlaps_with'] = None"
   ]
  },
  {
   "cell_type": "code",
   "execution_count": null,
   "id": "4514c789",
   "metadata": {},
   "outputs": [],
   "source": [
    "for i in p1.index:\n",
    "    if i in list(overlapping_barcodes.keys()):\n",
    "        p1.loc[i, 'overlaps_with'] = overlapping_barcodes[i]"
   ]
  },
  {
   "cell_type": "code",
   "execution_count": null,
   "id": "7f880242",
   "metadata": {},
   "outputs": [],
   "source": [
    "overlapping_barcodes_reverse = {v: k for k, v in overlapping_barcodes.items()}"
   ]
  },
  {
   "cell_type": "code",
   "execution_count": null,
   "id": "8900c7c3",
   "metadata": {},
   "outputs": [],
   "source": [
    "p2['overlaps_with'] = None"
   ]
  },
  {
   "cell_type": "code",
   "execution_count": null,
   "id": "215cbce5",
   "metadata": {},
   "outputs": [],
   "source": [
    "for i in p2.index:\n",
    "    if i in list(overlapping_barcodes_reverse.keys()):\n",
    "        p2.loc[i, 'overlaps_with'] = overlapping_barcodes_reverse[i]"
   ]
  },
  {
   "cell_type": "markdown",
   "id": "a0115072",
   "metadata": {},
   "source": [
    "Concatenate the positions files"
   ]
  },
  {
   "cell_type": "code",
   "execution_count": null,
   "id": "75e8f088",
   "metadata": {},
   "outputs": [],
   "source": [
    "positions = pd.concat([p1, p2])"
   ]
  },
  {
   "cell_type": "code",
   "execution_count": null,
   "id": "c4042ce1",
   "metadata": {},
   "outputs": [],
   "source": [
    "import numpy as np"
   ]
  },
  {
   "cell_type": "code",
   "execution_count": null,
   "id": "1523466e",
   "metadata": {},
   "outputs": [],
   "source": [
    "positions['is_overlap'] = np.where(positions['overlaps_with'].isna() == True, 0, 1)"
   ]
  },
  {
   "cell_type": "code",
   "execution_count": null,
   "id": "b74209a1",
   "metadata": {},
   "outputs": [],
   "source": [
    "positions['is_overlap'].value_counts(dropna = False)"
   ]
  },
  {
   "cell_type": "markdown",
   "id": "cb711c24",
   "metadata": {},
   "source": [
    "Absorb into the object."
   ]
  },
  {
   "cell_type": "code",
   "execution_count": null,
   "id": "256938b9",
   "metadata": {},
   "outputs": [],
   "source": [
    "adata.obs = adata.obs.join(positions, how=\"left\")\n",
    "\n",
    "adata.obsm['spatial'] = adata.obs[\n",
    "    ['pxl_row_in_fullres', 'pxl_col_in_fullres']\n",
    "].to_numpy()\n",
    "adata.obs.drop(\n",
    "    columns=['barcode', 'pxl_row_in_fullres', 'pxl_col_in_fullres'],\n",
    "    inplace=True,\n",
    ")"
   ]
  },
  {
   "cell_type": "markdown",
   "id": "847af7c4",
   "metadata": {},
   "source": [
    "Plot the sample..."
   ]
  },
  {
   "cell_type": "code",
   "execution_count": null,
   "id": "04d98d90",
   "metadata": {},
   "outputs": [],
   "source": [
    "spatial = adata.obsm['spatial'].copy()\n",
    "adata.obsm['spatial'][:,0] = spatial[:,1]\n",
    "adata.obsm['spatial'][:,1] = spatial[:,0]"
   ]
  },
  {
   "cell_type": "code",
   "execution_count": null,
   "id": "e0971c1a",
   "metadata": {},
   "outputs": [],
   "source": [
    "sc.pl.spatial(adata, color=\"sample\")"
   ]
  },
  {
   "cell_type": "code",
   "execution_count": null,
   "id": "5f7f8ef8",
   "metadata": {},
   "outputs": [],
   "source": [
    "sc.pl.spatial(adata, color=\"is_overlap\")"
   ]
  },
  {
   "cell_type": "code",
   "execution_count": null,
   "id": "dcfeb64a",
   "metadata": {},
   "outputs": [],
   "source": [
    "sc.pl.spatial(adata, color=\"in_tissue\")"
   ]
  },
  {
   "cell_type": "code",
   "execution_count": null,
   "id": "7e284bc6",
   "metadata": {},
   "outputs": [],
   "source": [
    "adata.obs['in_tissue_and_is_overlap'] = np.where((adata.obs['is_overlap'] == 1) & (adata.obs['in_tissue'] == 1), 1, 0)"
   ]
  },
  {
   "cell_type": "code",
   "execution_count": null,
   "id": "02de501d",
   "metadata": {},
   "outputs": [],
   "source": [
    "sc.pl.spatial(adata, color=\"in_tissue_and_is_overlap\")"
   ]
  },
  {
   "cell_type": "markdown",
   "id": "e9556c7a",
   "metadata": {},
   "source": [
    "### 4. Save joint anndata object"
   ]
  },
  {
   "cell_type": "code",
   "execution_count": null,
   "id": "b86080f8",
   "metadata": {},
   "outputs": [],
   "source": [
    "adata.write('HCA_F_RepTsp13902013_14_joint.h5ad')"
   ]
  },
  {
   "cell_type": "code",
   "execution_count": null,
   "id": "3f465a9c",
   "metadata": {},
   "outputs": [],
   "source": []
  }
 ],
 "metadata": {
  "kernelspec": {
   "display_name": "imagespot",
   "language": "python",
   "name": "imagespot"
  },
  "language_info": {
   "codemirror_mode": {
    "name": "ipython",
    "version": 3
   },
   "file_extension": ".py",
   "mimetype": "text/x-python",
   "name": "python",
   "nbconvert_exporter": "python",
   "pygments_lexer": "ipython3",
   "version": "3.9.13"
  }
 },
 "nbformat": 4,
 "nbformat_minor": 5
}
