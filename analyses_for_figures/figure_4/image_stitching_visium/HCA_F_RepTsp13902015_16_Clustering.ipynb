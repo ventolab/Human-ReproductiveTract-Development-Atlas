{
 "cells": [
  {
   "cell_type": "markdown",
   "id": "fa4b5cb6",
   "metadata": {},
   "source": [
    "## Stitch HCA_F_RepTsp13902015 & HCA_F_RepTsp13902016 (Uterovaginal canal)"
   ]
  },
  {
   "cell_type": "code",
   "execution_count": null,
   "id": "29fa57c9",
   "metadata": {},
   "outputs": [],
   "source": [
    "import scanpy as sc\n",
    "\n",
    "sc.settings.set_figure_params(figsize=(10,10))\n"
   ]
  },
  {
   "cell_type": "code",
   "execution_count": null,
   "id": "b7e8ffc9",
   "metadata": {},
   "outputs": [],
   "source": [
    "import matplotlib as mpl\n",
    "mpl.rcParams['pdf.fonttype'] = 42"
   ]
  },
  {
   "cell_type": "markdown",
   "id": "6962576a",
   "metadata": {},
   "source": [
    "### 1. Read in concatenated anndata object and select spots covered by tissue"
   ]
  },
  {
   "cell_type": "code",
   "execution_count": null,
   "id": "79acb36e",
   "metadata": {},
   "outputs": [],
   "source": [
    "adata = sc.read('HCA_F_RepTsp13902015_16_joint.h5ad')\n",
    "adata = adata[adata.obs['in_tissue'] == 1]\n",
    "sc.pl.spatial(adata, color=\"in_tissue\")\n",
    "sc.pl.spatial(adata, color=\"is_overlap\")\n"
   ]
  },
  {
   "cell_type": "markdown",
   "id": "a0f065b6",
   "metadata": {},
   "source": [
    "### 2. Use the overlapping spots to assess differences in sequencing depth "
   ]
  },
  {
   "cell_type": "code",
   "execution_count": null,
   "id": "241ff845",
   "metadata": {},
   "outputs": [],
   "source": [
    "adata.var['SYMBOL'] = adata.var_names\n",
    "adata.var.rename(columns={'gene_ids': 'ENSEMBL'}, inplace=True)\n",
    "adata.var_names = adata.var['ENSEMBL']\n",
    "adata.var.drop(columns='ENSEMBL', inplace=True)"
   ]
  },
  {
   "cell_type": "code",
   "execution_count": null,
   "id": "1a8d49cf",
   "metadata": {},
   "outputs": [],
   "source": [
    "overlap = adata[[i == 1 for i in adata.obs['is_overlap']]]\n",
    "overlap"
   ]
  },
  {
   "cell_type": "code",
   "execution_count": null,
   "id": "2d01e0c8",
   "metadata": {},
   "outputs": [],
   "source": [
    "sc.pp.filter_genes(overlap, min_cells=5) "
   ]
  },
  {
   "cell_type": "code",
   "execution_count": null,
   "id": "209a7b7b",
   "metadata": {},
   "outputs": [],
   "source": [
    "# Calculate QC metrics\n",
    "sc.pp.calculate_qc_metrics(overlap, inplace=True)"
   ]
  },
  {
   "cell_type": "code",
   "execution_count": null,
   "id": "07a5ac0c",
   "metadata": {},
   "outputs": [],
   "source": [
    "import seaborn as sns\n",
    "import matplotlib.pyplot as plt"
   ]
  },
  {
   "cell_type": "code",
   "execution_count": null,
   "id": "273d801a",
   "metadata": {},
   "outputs": [],
   "source": [
    "fig, axs = plt.subplots(1, 2, figsize=(15, 6.5))\n",
    "sns.histplot(overlap.obs, x = overlap.obs[\"total_counts\"], hue = overlap.obs[\"sample\"], kde=False, ax=axs[0])\n",
    "sns.histplot(overlap.obs, x = overlap.obs[\"n_genes_by_counts\"], hue = overlap.obs[\"sample\"], kde=False, bins=60, ax=axs[1])\n"
   ]
  },
  {
   "cell_type": "code",
   "execution_count": null,
   "id": "1ae5b531",
   "metadata": {},
   "outputs": [],
   "source": [
    "sc.set_figure_params(scanpy=True, dpi=80, dpi_save=150, \n",
    "                         frameon=True, vector_friendly=True, fontsize=14, figsize=[6,6], color_map=None, \n",
    "                         format='pdf', facecolor=None, transparent=False)"
   ]
  },
  {
   "cell_type": "code",
   "execution_count": null,
   "id": "40d3acf3",
   "metadata": {},
   "outputs": [],
   "source": [
    "sc.pl.violin(overlap, ['total_counts', 'n_genes_by_counts'], groupby = 'sample', multi_panel = True)"
   ]
  },
  {
   "cell_type": "markdown",
   "id": "b6d23d64",
   "metadata": {},
   "source": [
    "### What are scale factors?\n",
    "\n",
    "In single-cell RNA sequencing (scRNA-seq), **scale factors are normalization factors used to adjust for differences in sequencing depth across cells**.\n",
    "\n",
    "When performing scRNA-seq, the number of transcripts captured can vary across cells due to technical factors such as variation in *cell lysis efficiency*, *cDNA synthesis efficiency*, and *sequencing depth*. This can result in differences in the number of sequencing reads obtained for each cell, which can confound downstream analyses. To address this issue, scale factors are used to adjust the read counts for each cell by a constant factor so that the total number of reads across all cells is equal.\n",
    "\n",
    "Scanpy uses the **total-count normalization** method to compute scale factors. The total-count normalization method *assumes that the majority of genes are not differentially expressed between cells and adjusts for differences in sequencing depth by scaling the count data to a common library size*. The **scaling factor for each cell is the total count divided by the median count across all cells**.\n",
    "\n",
    "The rationale for using the median instead of the mean to compute the normalization factor is to avoid bias from highly expressed genes that may be present in only a few cells.\n",
    "\n",
    "### 3. Derive scale factors from overlapping spots \n",
    "\n",
    "Since we have a dataset where some cells/spots have \"duplicated\" measurements from two experiments, we can use the duplicated measurements to derive scale factors that can be applied to the other cells in the dataset. The basic idea is to use the duplicated measurements to estimate the technical variation between the two experiments and use this estimate to normalize the data.\n",
    "\n",
    "One approach would be to use the duplicated measurements to **fit a linear regression model that relates the log-expression values of the *duplicated* cells/spots from the two experiments**. The **exp(slope) of the regression line provides an estimate of the technical variation between the two experiments**, which can be used as a scale factor to normalize the other cells.\n",
    "\n",
    "The reason for exponentiating the slopes is that the slope in the log space is equivalent to the fold change between the two conditions. Exponentiating the slope yields the ratio of expression levels between the two conditions on a linear scale. Therefore, by exponentiating the slopes, we obtain a factor that can be directly used to rescale the data to the same scale, making it comparable between samples.\n",
    "\n",
    "Basically, exponentiating the slopes is a convenient way to convert the fold change between conditions, which is measured on a logarithmic scale, to a linear scale that can be directly used as a normalization factor for the data."
   ]
  },
  {
   "cell_type": "code",
   "execution_count": null,
   "id": "365cf8ef",
   "metadata": {},
   "outputs": [],
   "source": [
    "import numpy as np"
   ]
  },
  {
   "cell_type": "code",
   "execution_count": null,
   "id": "a1daa1d3",
   "metadata": {},
   "outputs": [],
   "source": [
    "import json\n",
    "with open(\"HCA_F_RepTsp13902015_16_overlapping_barcodes.json\", \"r\") as f:\n",
    "    overlapping_barcodes = json.load(f)"
   ]
  },
  {
   "cell_type": "code",
   "execution_count": null,
   "id": "fe56fddf",
   "metadata": {},
   "outputs": [],
   "source": [
    "overlap"
   ]
  },
  {
   "cell_type": "markdown",
   "id": "b9f1c09d",
   "metadata": {},
   "source": [
    "Record the pairs of overlapping spots "
   ]
  },
  {
   "cell_type": "code",
   "execution_count": null,
   "id": "2ced923b",
   "metadata": {},
   "outputs": [],
   "source": [
    "import numpy as np"
   ]
  },
  {
   "cell_type": "code",
   "execution_count": null,
   "id": "0734c669",
   "metadata": {},
   "outputs": [],
   "source": [
    "spot_pairs = {}\n",
    "for k, v in overlapping_barcodes.items():\n",
    "    if (k in overlap.obs_names.to_list()) & (v in overlap.obs_names.to_list()):\n",
    "        barcode1_idx = np.where(overlap.obs_names == k)[0][0]\n",
    "        barcode2_idx = np.where(overlap.obs_names == v)[0][0]\n",
    "        \n",
    "        spot_pairs[barcode1_idx] = barcode2_idx"
   ]
  },
  {
   "cell_type": "markdown",
   "id": "d0cee638",
   "metadata": {},
   "source": [
    "Log transform the raw counts"
   ]
  },
  {
   "cell_type": "code",
   "execution_count": null,
   "id": "c8652eec",
   "metadata": {},
   "outputs": [],
   "source": [
    "log_counts = sc.pp.log1p(overlap, copy = True)"
   ]
  },
  {
   "cell_type": "code",
   "execution_count": null,
   "id": "1d29246f",
   "metadata": {},
   "outputs": [],
   "source": [
    "log_counts.X[list(spot_pairs.keys())].toarray().shape"
   ]
  },
  {
   "cell_type": "code",
   "execution_count": null,
   "id": "60d4508e",
   "metadata": {},
   "outputs": [],
   "source": [
    "log_counts.X[list(spot_pairs.values())].toarray().shape"
   ]
  },
  {
   "cell_type": "code",
   "execution_count": null,
   "id": "08582708",
   "metadata": {},
   "outputs": [],
   "source": [
    "from scipy.stats import linregress"
   ]
  },
  {
   "cell_type": "markdown",
   "id": "b3aba6c6",
   "metadata": {},
   "source": [
    "Compute the slope of the regression line for each gene and record genes for which we can compute the slope (i.e. non-zero expression in duplicated spots)"
   ]
  },
  {
   "cell_type": "code",
   "execution_count": null,
   "id": "2fb21b10",
   "metadata": {},
   "outputs": [],
   "source": [
    "slopes = []\n",
    "genes = []\n",
    "i = 0\n",
    "for gene_counts in log_counts.X.toarray().T:\n",
    "    x = gene_counts[list(spot_pairs.keys())]\n",
    "    y = gene_counts[list(spot_pairs.values())]\n",
    "    if (np.sum(x) != 0) & (np.sum(y) != 0):\n",
    "        slope, _, _, _, _ = linregress(x, y)\n",
    "        slopes.append(slope)\n",
    "        genes.append(i)\n",
    "        i += 1\n"
   ]
  },
  {
   "cell_type": "code",
   "execution_count": null,
   "id": "232aac1b",
   "metadata": {},
   "outputs": [],
   "source": [
    "len(slopes)"
   ]
  },
  {
   "cell_type": "code",
   "execution_count": null,
   "id": "8bbf09d7",
   "metadata": {},
   "outputs": [],
   "source": [
    "len(genes)"
   ]
  },
  {
   "cell_type": "markdown",
   "id": "ca58ae4c",
   "metadata": {},
   "source": [
    "Exponentiate the slopes (which were calculated in log-transformed space) to obtain the scale factors"
   ]
  },
  {
   "cell_type": "code",
   "execution_count": null,
   "id": "9dda3970",
   "metadata": {},
   "outputs": [],
   "source": [
    "scale_factors = np.exp(slopes)"
   ]
  },
  {
   "cell_type": "code",
   "execution_count": null,
   "id": "428c823e",
   "metadata": {},
   "outputs": [],
   "source": [
    "# Plot scale factors \n",
    "plt.hist(scale_factors, bins=100)\n",
    "plt.xlabel('Scale Factor')\n",
    "plt.ylabel('Frequency')\n",
    "plt.title('Distribution of Scale Factors')\n",
    "plt.show()"
   ]
  },
  {
   "cell_type": "markdown",
   "id": "0d8be971",
   "metadata": {},
   "source": [
    "Good to see that the majority of genes have scale factor of 1, meaning perfect correspondence between the gene expression in overlapping spots"
   ]
  },
  {
   "cell_type": "code",
   "execution_count": null,
   "id": "281014ac",
   "metadata": {},
   "outputs": [],
   "source": [
    "# Record the genes that were used to compute scale factors \n",
    "genes_scale_factors = overlap[:, genes].var_names"
   ]
  },
  {
   "cell_type": "code",
   "execution_count": null,
   "id": "76cf874e",
   "metadata": {},
   "outputs": [],
   "source": [
    "# Record the overlapping spots \n",
    "spots_overlap = overlap[list(spot_pairs.keys()) + (list(spot_pairs.values())), :].obs_names"
   ]
  },
  {
   "cell_type": "code",
   "execution_count": null,
   "id": "5b471a77",
   "metadata": {},
   "outputs": [],
   "source": [
    "spots_overlap_15 = overlap[list(spot_pairs.keys())].obs_names"
   ]
  },
  {
   "cell_type": "code",
   "execution_count": null,
   "id": "9d61f7d5",
   "metadata": {},
   "outputs": [],
   "source": [
    "spots_overlap_16 = overlap[list(spot_pairs.values())].obs_names"
   ]
  },
  {
   "cell_type": "markdown",
   "id": "4d207319",
   "metadata": {},
   "source": [
    "### Plot average expression of genes vs scale factors "
   ]
  },
  {
   "cell_type": "code",
   "execution_count": null,
   "id": "6f8494a5",
   "metadata": {},
   "outputs": [],
   "source": [
    "# Calculate average expression of each gene across all cells\n",
    "import pandas as pd\n",
    "overlap_plot = overlap[:, genes_scale_factors]\n",
    "avg_exp = overlap_plot.X.mean(axis=0)"
   ]
  },
  {
   "cell_type": "code",
   "execution_count": null,
   "id": "6567cc1d",
   "metadata": {},
   "outputs": [],
   "source": [
    "# Convert the average expression to a pandas dataframe\n",
    "df_avg_exp = pd.DataFrame(data=avg_exp.A1, index=overlap_plot.var_names, columns=['avg_expression'])\n",
    "df_avg_exp.head()"
   ]
  },
  {
   "cell_type": "code",
   "execution_count": null,
   "id": "2f64b160",
   "metadata": {},
   "outputs": [],
   "source": [
    "# Add scale factors \n",
    "df_avg_exp['scale_factors'] = scale_factors"
   ]
  },
  {
   "cell_type": "code",
   "execution_count": null,
   "id": "ffed2449",
   "metadata": {},
   "outputs": [],
   "source": [
    "df_avg_exp.head()"
   ]
  },
  {
   "cell_type": "code",
   "execution_count": null,
   "id": "fffa5f04",
   "metadata": {},
   "outputs": [],
   "source": [
    "# Sort the dataframe by average expression in ascending order\n",
    "df_avg_exp_sorted = df_avg_exp.sort_values(by='avg_expression', ascending=True)\n",
    "df_avg_exp_sorted.head()"
   ]
  },
  {
   "cell_type": "code",
   "execution_count": null,
   "id": "90666aa7",
   "metadata": {},
   "outputs": [],
   "source": [
    "# Create scatterplot of mean expression versus scale factors for sorted genes\n",
    "plt.scatter(df_avg_exp_sorted['avg_expression'], df_avg_exp_sorted['scale_factors'])\n",
    "plt.xlabel('Average Expression')\n",
    "plt.ylabel('Scale Factors')\n",
    "plt.title('Average Gene Expression vs Scale Factors')\n",
    "plt.show()"
   ]
  },
  {
   "cell_type": "code",
   "execution_count": null,
   "id": "fb04f53b",
   "metadata": {},
   "outputs": [],
   "source": [
    "from scipy.stats import trim_mean\n",
    "\n",
    "# Calculate the 10% trimmed median\n",
    "trimmed_mean = trim_mean(scale_factors, 0.1)\n",
    "trimmed_mean"
   ]
  },
  {
   "cell_type": "code",
   "execution_count": null,
   "id": "71a557ce",
   "metadata": {},
   "outputs": [],
   "source": [
    "median = np.median(scale_factors)\n",
    "median"
   ]
  },
  {
   "cell_type": "code",
   "execution_count": null,
   "id": "b2d3d227",
   "metadata": {},
   "outputs": [],
   "source": [
    "# Normalise overlapping spots from slide 19 and plot distribution of counts again for comparison \n",
    "\n",
    "# Create a mask for the barcodes to normalise\n",
    "normalise_mask = np.isin(overlap_plot.obs.index, spots_overlap_16)\n",
    "\n",
    "# Copy the original count matrix to a new matrix\n",
    "normalised_counts = overlap_plot.X.copy()\n",
    "\n",
    "# Normalise the counts for the selected barcodes\n",
    "normalised_counts[normalise_mask] /= trimmed_mean\n",
    "\n",
    "# Create a new anndata object with the normalised counts\n",
    "import anndata\n",
    "normalised_overlap = anndata.AnnData(X=normalised_counts, obs=overlap_plot.obs, var=overlap_plot.var)\n"
   ]
  },
  {
   "cell_type": "code",
   "execution_count": null,
   "id": "6112d3e4",
   "metadata": {},
   "outputs": [],
   "source": [
    "for col in [ 'n_genes_by_counts', 'log1p_n_genes_by_counts', 'total_counts', 'log1p_total_counts', 'pct_counts_in_top_50_genes', 'pct_counts_in_top_100_genes', 'pct_counts_in_top_200_genes', 'pct_counts_in_top_500_genes']:\n",
    "    del normalised_overlap.obs[col]"
   ]
  },
  {
   "cell_type": "code",
   "execution_count": null,
   "id": "800b8767",
   "metadata": {},
   "outputs": [],
   "source": [
    "# Calculate QC metrics\n",
    "sc.pp.calculate_qc_metrics(normalised_overlap, inplace=True)"
   ]
  },
  {
   "cell_type": "code",
   "execution_count": null,
   "id": "1d6b0dcd",
   "metadata": {},
   "outputs": [],
   "source": [
    "fig, axs = plt.subplots(1, 2, figsize=(15, 6.5))\n",
    "sns.histplot(normalised_overlap.obs, x = normalised_overlap.obs[\"total_counts\"], hue = normalised_overlap.obs[\"sample\"], kde=False, ax=axs[0])\n",
    "sns.histplot(normalised_overlap.obs, x = normalised_overlap.obs[\"n_genes_by_counts\"], hue = normalised_overlap.obs[\"sample\"], kde=False, bins=60, ax=axs[1])"
   ]
  },
  {
   "cell_type": "code",
   "execution_count": null,
   "id": "55b2e62b",
   "metadata": {},
   "outputs": [],
   "source": [
    "sc.pl.violin(normalised_overlap, ['total_counts', 'n_genes_by_counts'], groupby = 'sample', multi_panel = True)"
   ]
  },
  {
   "cell_type": "markdown",
   "id": "0d321028",
   "metadata": {},
   "source": [
    "### 4. Normalise all spots from slide 14 based on the scale factors computed from overlapping spots"
   ]
  },
  {
   "cell_type": "code",
   "execution_count": null,
   "id": "36c349f0",
   "metadata": {},
   "outputs": [],
   "source": [
    "spots_non_overlap = adata[[i not in spots_overlap.tolist() for i in adata.obs_names]].obs_names.to_list()\n",
    "spots_non_overlap_15 = [i for i in spots_non_overlap if i.startswith('HCA_F_RepTsp13902015_')]\n",
    "print('Non-overlapping spots from slide HCA_F_RepTsp13902015: {}'.format(len(spots_non_overlap_15)))\n",
    "spots_non_overlap_16 = [i for i in spots_non_overlap if i.startswith('HCA_F_RepTsp13902016_')]\n",
    "print('Non-overlapping spots from slide HCA_F_RepTsp13902016: {}'.format(len(spots_non_overlap_16)))\n"
   ]
  },
  {
   "cell_type": "code",
   "execution_count": null,
   "id": "6bd2921a",
   "metadata": {},
   "outputs": [],
   "source": [
    "all_spots_16 = spots_overlap_16.to_list() + spots_non_overlap_16"
   ]
  },
  {
   "cell_type": "code",
   "execution_count": null,
   "id": "b78f2669",
   "metadata": {},
   "outputs": [],
   "source": [
    "len(all_spots_16)"
   ]
  },
  {
   "cell_type": "code",
   "execution_count": null,
   "id": "924e912d",
   "metadata": {},
   "outputs": [],
   "source": [
    "# Subset genes \n",
    "slide_16 = adata[:, genes_scale_factors]\n",
    "slide_16 = slide_16[[i in all_spots_16 for i in slide_16.obs_names]]"
   ]
  },
  {
   "cell_type": "code",
   "execution_count": null,
   "id": "674ac962",
   "metadata": {},
   "outputs": [],
   "source": [
    "slide_16"
   ]
  },
  {
   "cell_type": "code",
   "execution_count": null,
   "id": "8926c52b",
   "metadata": {},
   "outputs": [],
   "source": [
    "# Normalize count data by scale factors\n",
    "slide_16.X = slide_16.X / trimmed_mean"
   ]
  },
  {
   "cell_type": "code",
   "execution_count": null,
   "id": "82410825",
   "metadata": {},
   "outputs": [],
   "source": [
    "slide_16.X.toarray()[20:30, 20:30]"
   ]
  },
  {
   "cell_type": "markdown",
   "id": "ff8a36bb",
   "metadata": {},
   "source": [
    "### 5. Concatenate normalised slide 16 with non-overlapping spots of slide 15"
   ]
  },
  {
   "cell_type": "code",
   "execution_count": null,
   "id": "038393fc",
   "metadata": {},
   "outputs": [],
   "source": [
    "slide_15 = adata[:, genes_scale_factors]\n",
    "slide_15 = slide_15[[i in spots_non_overlap_15 for i in slide_15.obs_names]]\n",
    "slide_15"
   ]
  },
  {
   "cell_type": "code",
   "execution_count": null,
   "id": "e0a26526",
   "metadata": {},
   "outputs": [],
   "source": [
    "slide_15.X.toarray()[20:30, 20:30]"
   ]
  },
  {
   "cell_type": "code",
   "execution_count": null,
   "id": "ef2b8b9d",
   "metadata": {},
   "outputs": [],
   "source": [
    "res = slide_15.concatenate(slide_16, index_unique=None)\n",
    "res"
   ]
  },
  {
   "cell_type": "code",
   "execution_count": null,
   "id": "83c9b0fe",
   "metadata": {},
   "outputs": [],
   "source": [
    "# Calculate QC metrics\n",
    "sc.pp.calculate_qc_metrics(res, inplace=True)"
   ]
  },
  {
   "cell_type": "code",
   "execution_count": null,
   "id": "f0e053ab",
   "metadata": {},
   "outputs": [],
   "source": [
    "fig, axs = plt.subplots(1, 2, figsize=(15, 6.5))\n",
    "sns.histplot(res.obs, x = res.obs[\"total_counts\"], hue = res.obs[\"sample\"], kde=False, ax=axs[0])\n",
    "sns.histplot(res.obs, x = res.obs[\"n_genes_by_counts\"], hue = res.obs[\"sample\"], kde=False, bins=60, ax=axs[1])"
   ]
  },
  {
   "cell_type": "code",
   "execution_count": null,
   "id": "1062ae03",
   "metadata": {},
   "outputs": [],
   "source": [
    "res.raw = res.copy()"
   ]
  },
  {
   "cell_type": "code",
   "execution_count": null,
   "id": "5563612c",
   "metadata": {},
   "outputs": [],
   "source": [
    "sc.pp.normalize_total(res, target_sum=1e4, exclude_highly_expressed = True)\n",
    "\n",
    "sc.pp.log1p(res)\n",
    "sc.pp.highly_variable_genes(res, min_mean=0.0125, max_mean=3, min_disp=0.5)\n",
    "res"
   ]
  },
  {
   "cell_type": "code",
   "execution_count": null,
   "id": "cfc841b5",
   "metadata": {},
   "outputs": [],
   "source": [
    "np.max(res.X.toarray())"
   ]
  },
  {
   "cell_type": "code",
   "execution_count": null,
   "id": "184385e7",
   "metadata": {},
   "outputs": [],
   "source": [
    "sc.pp.scale(res, max_value=10)\n",
    "sc.tl.pca(res, svd_solver='arpack')\n",
    "sc.pl.pca_variance_ratio(res, log=True)"
   ]
  },
  {
   "cell_type": "code",
   "execution_count": null,
   "id": "f94b749a",
   "metadata": {},
   "outputs": [],
   "source": [
    "np.max(res.X)"
   ]
  },
  {
   "cell_type": "code",
   "execution_count": null,
   "id": "aedd879d",
   "metadata": {},
   "outputs": [],
   "source": [
    "# Re-add spatial info \n",
    "res.uns[\"spatial\"] = dict()\n",
    "library_id = \"joint\"\n",
    "res.uns[\"spatial\"][library_id] = dict()"
   ]
  },
  {
   "cell_type": "code",
   "execution_count": null,
   "id": "3f74203b",
   "metadata": {},
   "outputs": [],
   "source": [
    "from matplotlib.image import imread\n",
    "\n",
    "res.uns[\"spatial\"][library_id]['images'] = dict()\n",
    "res.uns[\"spatial\"][library_id]['images'][\"hires\"] = imread(\"HCA_F_RepTsp13902015_16_tissue_hires_image.png\")"
   ]
  },
  {
   "cell_type": "code",
   "execution_count": null,
   "id": "f46277c2",
   "metadata": {},
   "outputs": [],
   "source": [
    "import json\n",
    "\n",
    "with open(\"/nfs/team292/vl6/FetalReproductiveTract/VISIUM/data/HCA_F_RepTsp13902015/spatial/scalefactors_json.json\", \"r\") as fid:\n",
    "    res.uns[\"spatial\"][library_id]['scalefactors'] = json.load(fid)"
   ]
  },
  {
   "cell_type": "code",
   "execution_count": null,
   "id": "57205729",
   "metadata": {},
   "outputs": [],
   "source": [
    "import pandas as pd\n",
    "\n",
    "p1 = pd.read_csv(\"HCA_F_RepTsp13902015_tissue_positions_list.csv\", header=None)\n",
    "p2 = pd.read_csv(\"HCA_F_RepTsp13902016_tissue_positions_list.csv\", header=None)"
   ]
  },
  {
   "cell_type": "code",
   "execution_count": null,
   "id": "ec0d3d62",
   "metadata": {},
   "outputs": [],
   "source": [
    "p1.columns = [\n",
    "    'barcode',\n",
    "    'in_tissue',\n",
    "    'array_row',\n",
    "    'array_col',\n",
    "    'pxl_col_in_fullres',\n",
    "    'pxl_row_in_fullres',\n",
    "]\n",
    "\n",
    "p1.index = p1['barcode']\n",
    "\n",
    "p2.columns = [\n",
    "    'barcode',\n",
    "    'in_tissue',\n",
    "    'array_row',\n",
    "    'array_col',\n",
    "    'pxl_col_in_fullres',\n",
    "    'pxl_row_in_fullres',\n",
    "]\n",
    "\n",
    "p2.index = p2['barcode']\n"
   ]
  },
  {
   "cell_type": "code",
   "execution_count": null,
   "id": "31fb4746",
   "metadata": {},
   "outputs": [],
   "source": [
    "positions = pd.concat([p1, p2])\n",
    "positions.drop(columns=['in_tissue', 'array_row', 'array_col'],\n",
    "    inplace=True)\n",
    "res.obs['barcode'] = res.obs_names\n",
    "res.obs = res.obs.join(positions, how=\"inner\", on = 'barcode', lsuffix = 'L')\n",
    "res.obsm['spatial'] = res.obs[\n",
    "    ['pxl_row_in_fullres', 'pxl_col_in_fullres']\n",
    "].to_numpy()\n",
    "spatial = res.obsm['spatial'].copy()\n",
    "res.obsm['spatial'][:,0] = spatial[:,1]\n",
    "res.obsm['spatial'][:,1] = spatial[:,0]"
   ]
  },
  {
   "cell_type": "code",
   "execution_count": null,
   "id": "6779da00",
   "metadata": {},
   "outputs": [],
   "source": [
    "res"
   ]
  },
  {
   "cell_type": "code",
   "execution_count": null,
   "id": "8829bd21",
   "metadata": {},
   "outputs": [],
   "source": [
    "sc.pp.neighbors(res, n_pcs=12)\n",
    "sc.tl.leiden(res, resolution = 0.2)\n",
    "sc.pl.spatial(res, color=\"leiden\")"
   ]
  },
  {
   "cell_type": "code",
   "execution_count": null,
   "id": "ce346b0f",
   "metadata": {},
   "outputs": [],
   "source": [
    "sc.tl.leiden(res, resolution=0.4)\n",
    "sc.pl.spatial(res, color=\"leiden\")"
   ]
  },
  {
   "cell_type": "code",
   "execution_count": null,
   "id": "695507b4",
   "metadata": {},
   "outputs": [],
   "source": [
    "sc.pl.spatial(res, color=['PAX8', 'LGR5', 'WNT7A', 'ITGA4','TP63'], gene_symbols = 'SYMBOL', ncols = 2, \n",
    "             cmap = 'jet', use_raw = False)"
   ]
  },
  {
   "cell_type": "code",
   "execution_count": null,
   "id": "71c77767",
   "metadata": {},
   "outputs": [],
   "source": [
    "plt.rcParams[\"figure.figsize\"] = (6, 6)\n"
   ]
  },
  {
   "cell_type": "code",
   "execution_count": null,
   "id": "61905a1f",
   "metadata": {},
   "outputs": [],
   "source": [
    "sc.pl.spatial(res, color=['SRD5A2', 'EMX2', 'WIF1', 'PAX8', 'WNT7A', 'TP63'], gene_symbols = 'SYMBOL', ncols = 3, \n",
    "             cmap = 'jet', use_raw = False)"
   ]
  },
  {
   "cell_type": "code",
   "execution_count": null,
   "id": "5a2b6999",
   "metadata": {},
   "outputs": [],
   "source": [
    "sc.pl.spatial(res, color=['HOXC4', 'HOXC5', 'HOXC6', 'HOXA7', 'HOXC8', 'HOXA9', 'HOXA10', 'HOXA11', 'HOXA13'], gene_symbols = 'SYMBOL', ncols = 3, \n",
    "             cmap = 'jet', use_raw = False)"
   ]
  },
  {
   "cell_type": "code",
   "execution_count": null,
   "id": "774d55f8",
   "metadata": {},
   "outputs": [],
   "source": [
    "sc.pl.spatial(res, color=['TP63', 'KRT5', 'KRT14'], gene_symbols = 'SYMBOL', ncols = 3, \n",
    "             cmap = 'jet', use_raw = False)"
   ]
  },
  {
   "cell_type": "code",
   "execution_count": null,
   "id": "d9b36b2c",
   "metadata": {},
   "outputs": [],
   "source": [
    "sc.pl.pca(res, color = 'sample')"
   ]
  },
  {
   "cell_type": "code",
   "execution_count": null,
   "id": "84de7e4d",
   "metadata": {},
   "outputs": [],
   "source": [
    "sc.pl.pca(res, color = 'leiden')"
   ]
  },
  {
   "cell_type": "code",
   "execution_count": null,
   "id": "3bd37045",
   "metadata": {},
   "outputs": [],
   "source": [
    "res.write('/lustre/scratch126/cellgen/team292/vl6/VISIUM/HCA_F_RepTsp13902015_HCA_F_RepTsp13902016/HCA_F_RepTsp13902015_HCA_F_RepTsp13902016_visium.h5ad')\n"
   ]
  },
  {
   "cell_type": "code",
   "execution_count": null,
   "id": "b3c59b51",
   "metadata": {},
   "outputs": [],
   "source": [
    "res = sc.read('/lustre/scratch126/cellgen/team292/vl6/VISIUM/HCA_F_RepTsp13902015_HCA_F_RepTsp13902016/HCA_F_RepTsp13902015_HCA_F_RepTsp13902016_visium.h5ad')\n",
    "res"
   ]
  },
  {
   "cell_type": "code",
   "execution_count": null,
   "id": "48a49e3f",
   "metadata": {},
   "outputs": [],
   "source": [
    "import pandas as pd"
   ]
  },
  {
   "cell_type": "code",
   "execution_count": null,
   "id": "bc2ebe95",
   "metadata": {},
   "outputs": [],
   "source": [
    "axis = pd.read_csv('/lustre/scratch126/cellgen/team292/vl6/VISIUM/HCA_F_RepTsp13902015_HCA_F_RepTsp13902016/UteroVaginalAxis_Mullerian.csv',\n",
    "                  index_col = 0)\n",
    "axis.head()"
   ]
  },
  {
   "cell_type": "code",
   "execution_count": null,
   "id": "fa539aa4",
   "metadata": {},
   "outputs": [],
   "source": [
    "res.obs['UteroVaginalAxis'] = res.obs_names.map(axis.UteroVaginal_Axis_forPlotting.to_dict())"
   ]
  },
  {
   "cell_type": "code",
   "execution_count": null,
   "id": "f532fb5d",
   "metadata": {},
   "outputs": [],
   "source": [
    "sc.set_figure_params(scanpy=True, dpi=80, dpi_save=200, frameon=True, vector_friendly=True, \n",
    "                         fontsize=14, figsize=(10, 10), color_map=None, format='pdf', facecolor=None, transparent=False)"
   ]
  },
  {
   "cell_type": "code",
   "execution_count": null,
   "id": "a1ec79a3",
   "metadata": {
    "scrolled": true
   },
   "outputs": [],
   "source": [
    "sc.pl.spatial(res, color=\"UteroVaginalAxis\", cmap = 'jet', spot_size = 25,\n",
    "             save = '_uterovaginalaxis')"
   ]
  },
  {
   "cell_type": "code",
   "execution_count": null,
   "id": "c4fd2207",
   "metadata": {},
   "outputs": [],
   "source": [
    "from matplotlib.colors import LinearSegmentedColormap\n",
    "\n",
    "\n",
    "# Define the colors and their corresponding positions\n",
    "colors = [\"#f46d43\", \"#fee08b\", \"#b7d297\", \"#\"]  \n",
    "\n",
    "# Create the colormap\n",
    "cmap_uterovaginal = LinearSegmentedColormap.from_list('custom_cmap', colors, N=256)"
   ]
  },
  {
   "cell_type": "code",
   "execution_count": null,
   "id": "0545b7e4",
   "metadata": {},
   "outputs": [],
   "source": [
    "sc.pl.spatial(res, color=\"UteroVaginalAxis\", cmap = cmap_uterovaginal, spot_size = 25,\n",
    "             save = '_uterovaginalaxis')"
   ]
  },
  {
   "cell_type": "code",
   "execution_count": null,
   "id": "ff1d7218",
   "metadata": {},
   "outputs": [],
   "source": [
    "sc.pl.spatial(res, \n",
    "             save = '_15_16_h&e')"
   ]
  },
  {
   "cell_type": "code",
   "execution_count": null,
   "id": "89afda19",
   "metadata": {},
   "outputs": [],
   "source": []
  },
  {
   "cell_type": "code",
   "execution_count": null,
   "id": "3bc99865",
   "metadata": {},
   "outputs": [],
   "source": []
  }
 ],
 "metadata": {
  "kernelspec": {
   "display_name": "imagespot",
   "language": "python",
   "name": "imagespot"
  },
  "language_info": {
   "codemirror_mode": {
    "name": "ipython",
    "version": 3
   },
   "file_extension": ".py",
   "mimetype": "text/x-python",
   "name": "python",
   "nbconvert_exporter": "python",
   "pygments_lexer": "ipython3",
   "version": "3.9.13"
  }
 },
 "nbformat": 4,
 "nbformat_minor": 5
}
