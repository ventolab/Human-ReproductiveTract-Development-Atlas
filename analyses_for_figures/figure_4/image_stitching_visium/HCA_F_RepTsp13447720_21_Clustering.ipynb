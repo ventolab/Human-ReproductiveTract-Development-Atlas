{
 "cells": [
  {
   "cell_type": "markdown",
   "id": "718854cd",
   "metadata": {},
   "source": [
    "## Stitch HCA_F_RepTsp13447720 & HCA_F_RepTsp13447721 (Uterus)"
   ]
  },
  {
   "cell_type": "code",
   "execution_count": null,
   "id": "cac21274",
   "metadata": {
    "scrolled": true
   },
   "outputs": [],
   "source": [
    "import scanpy as sc\n",
    "\n",
    "sc.settings.set_figure_params(figsize=(8,8))"
   ]
  },
  {
   "cell_type": "code",
   "execution_count": null,
   "id": "044b6b70",
   "metadata": {
    "scrolled": true
   },
   "outputs": [],
   "source": [
    "import matplotlib as mpl\n",
    "mpl.rcParams['pdf.fonttype'] = 42"
   ]
  },
  {
   "cell_type": "markdown",
   "id": "5e6e7980",
   "metadata": {},
   "source": [
    "Do a quick basic scanpy analysis of the limb to plot some clusters on it."
   ]
  },
  {
   "cell_type": "code",
   "execution_count": null,
   "id": "e0ff4ce3",
   "metadata": {
    "scrolled": true
   },
   "outputs": [],
   "source": [
    "adata = sc.read('20_21_joint.h5ad')\n",
    "adata = adata[adata.obs['in_tissue'] == 1]\n",
    "sc.pl.spatial(adata, color=\"in_tissue\")\n",
    "sc.pl.spatial(adata, color=\"is_overlap\")\n"
   ]
  },
  {
   "cell_type": "markdown",
   "id": "7b1f6dcd",
   "metadata": {},
   "source": [
    "### 2. Use the overlapping spots to assess differences in sequencing depth "
   ]
  },
  {
   "cell_type": "code",
   "execution_count": null,
   "id": "ae55fec7",
   "metadata": {
    "scrolled": true
   },
   "outputs": [],
   "source": [
    "adata.var['SYMBOL'] = adata.var_names\n",
    "adata.var.rename(columns={'gene_ids': 'ENSEMBL'}, inplace=True)\n",
    "adata.var_names = adata.var['ENSEMBL']\n",
    "adata.var.drop(columns='ENSEMBL', inplace=True)"
   ]
  },
  {
   "cell_type": "code",
   "execution_count": null,
   "id": "01a44dbf",
   "metadata": {
    "scrolled": true
   },
   "outputs": [],
   "source": [
    "overlap = adata[[i == 1 for i in adata.obs['is_overlap']]]\n",
    "overlap"
   ]
  },
  {
   "cell_type": "code",
   "execution_count": null,
   "id": "2e30fe85",
   "metadata": {
    "scrolled": true
   },
   "outputs": [],
   "source": [
    "sc.pp.filter_genes(overlap, min_cells=5) "
   ]
  },
  {
   "cell_type": "code",
   "execution_count": null,
   "id": "59cc88a3",
   "metadata": {
    "scrolled": true
   },
   "outputs": [],
   "source": [
    "# Calculate QC metrics\n",
    "sc.pp.calculate_qc_metrics(overlap, inplace=True)"
   ]
  },
  {
   "cell_type": "code",
   "execution_count": null,
   "id": "288c35e0",
   "metadata": {
    "scrolled": true
   },
   "outputs": [],
   "source": [
    "import seaborn as sns\n",
    "import matplotlib.pyplot as plt"
   ]
  },
  {
   "cell_type": "code",
   "execution_count": null,
   "id": "18470716",
   "metadata": {
    "scrolled": true
   },
   "outputs": [],
   "source": [
    "fig, axs = plt.subplots(1, 2, figsize=(15, 6.5))\n",
    "sns.histplot(overlap.obs, x = overlap.obs[\"total_counts\"], hue = overlap.obs[\"sample\"], kde=False, ax=axs[0])\n",
    "sns.histplot(overlap.obs, x = overlap.obs[\"n_genes_by_counts\"], hue = overlap.obs[\"sample\"], kde=False, bins=60, ax=axs[1])\n"
   ]
  },
  {
   "cell_type": "code",
   "execution_count": null,
   "id": "a10db70f",
   "metadata": {
    "scrolled": true
   },
   "outputs": [],
   "source": [
    "sc.set_figure_params(scanpy=True, dpi=80, dpi_save=150, \n",
    "                         frameon=True, vector_friendly=True, fontsize=14, figsize=[6,6], color_map=None, \n",
    "                         format='pdf', facecolor=None, transparent=False)"
   ]
  },
  {
   "cell_type": "code",
   "execution_count": null,
   "id": "0dab5782",
   "metadata": {
    "scrolled": true
   },
   "outputs": [],
   "source": [
    "sc.pl.violin(overlap, ['total_counts', 'n_genes_by_counts'], groupby = 'sample', multi_panel = True)"
   ]
  },
  {
   "cell_type": "markdown",
   "id": "a7a1bd0d",
   "metadata": {},
   "source": [
    "### What are scale factors?\n",
    "\n",
    "In single-cell RNA sequencing (scRNA-seq), **scale factors are normalization factors used to adjust for differences in sequencing depth across cells**.\n",
    "\n",
    "When performing scRNA-seq, the number of transcripts captured can vary across cells due to technical factors such as variation in *cell lysis efficiency*, *cDNA synthesis efficiency*, and *sequencing depth*. This can result in differences in the number of sequencing reads obtained for each cell, which can confound downstream analyses. To address this issue, scale factors are used to adjust the read counts for each cell by a constant factor so that the total number of reads across all cells is equal.\n",
    "\n",
    "Scanpy uses the **total-count normalization** method to compute scale factors. The total-count normalization method *assumes that the majority of genes are not differentially expressed between cells and adjusts for differences in sequencing depth by scaling the count data to a common library size*. The **scaling factor for each cell is the total count divided by the median count across all cells**.\n",
    "\n",
    "The rationale for using the median instead of the mean to compute the normalization factor is to avoid bias from highly expressed genes that may be present in only a few cells.\n",
    "\n",
    "### 3. Derive scale factors from overlapping spots \n",
    "\n",
    "Since we have a dataset where some cells/spots have \"duplicated\" measurements from two experiments, we can use the duplicated measurements to derive scale factors that can be applied to the other cells in the dataset. The basic idea is to use the duplicated measurements to estimate the technical variation between the two experiments and use this estimate to normalize the data.\n",
    "\n",
    "One approach would be to use the duplicated measurements to **fit a linear regression model that relates the log-expression values of the *duplicated* cells/spots from the two experiments**. The **exp(slope) of the regression line provides an estimate of the technical variation between the two experiments**, which can be used as a scale factor to normalize the other cells.\n",
    "\n",
    "The reason for exponentiating the slopes is that the slope in the log space is equivalent to the fold change between the two conditions. Exponentiating the slope yields the ratio of expression levels between the two conditions on a linear scale. Therefore, by exponentiating the slopes, we obtain a factor that can be directly used to rescale the data to the same scale, making it comparable between samples.\n",
    "\n",
    "Basically, exponentiating the slopes is a convenient way to convert the fold change between conditions, which is measured on a logarithmic scale, to a linear scale that can be directly used as a normalization factor for the data."
   ]
  },
  {
   "cell_type": "code",
   "execution_count": null,
   "id": "b84866b8",
   "metadata": {
    "scrolled": true
   },
   "outputs": [],
   "source": [
    "import numpy as np"
   ]
  },
  {
   "cell_type": "code",
   "execution_count": null,
   "id": "51446b25",
   "metadata": {
    "scrolled": true
   },
   "outputs": [],
   "source": [
    "import json\n",
    "with open(\"20_21_overlapping_barcodes.json\", \"r\") as f:\n",
    "    overlapping_barcodes = json.load(f)"
   ]
  },
  {
   "cell_type": "code",
   "execution_count": null,
   "id": "66620cbc",
   "metadata": {
    "scrolled": true
   },
   "outputs": [],
   "source": [
    "overlap"
   ]
  },
  {
   "cell_type": "markdown",
   "id": "3229824f",
   "metadata": {},
   "source": [
    "Record the pairs of overlapping spots "
   ]
  },
  {
   "cell_type": "code",
   "execution_count": null,
   "id": "ab197ad2",
   "metadata": {
    "scrolled": true
   },
   "outputs": [],
   "source": [
    "spot_pairs = {}\n",
    "for k, v in overlapping_barcodes.items():\n",
    "    if (k in overlap.obs_names.to_list()) & (v in overlap.obs_names.to_list()):\n",
    "        barcode1_idx = np.where(overlap.obs_names == k)[0][0]\n",
    "        barcode2_idx = np.where(overlap.obs_names == v)[0][0]\n",
    "        \n",
    "        spot_pairs[barcode1_idx] = barcode2_idx"
   ]
  },
  {
   "cell_type": "markdown",
   "id": "dd61aefa",
   "metadata": {},
   "source": [
    "Log transform the raw counts"
   ]
  },
  {
   "cell_type": "code",
   "execution_count": null,
   "id": "ac410873",
   "metadata": {
    "scrolled": true
   },
   "outputs": [],
   "source": [
    "log_counts = sc.pp.log1p(overlap, copy = True)"
   ]
  },
  {
   "cell_type": "code",
   "execution_count": null,
   "id": "d718b874",
   "metadata": {
    "scrolled": true
   },
   "outputs": [],
   "source": [
    "log_counts.X[list(spot_pairs.keys())].toarray().shape"
   ]
  },
  {
   "cell_type": "code",
   "execution_count": null,
   "id": "14f4699e",
   "metadata": {
    "scrolled": true
   },
   "outputs": [],
   "source": [
    "log_counts.X[list(spot_pairs.values())].toarray().shape"
   ]
  },
  {
   "cell_type": "code",
   "execution_count": null,
   "id": "e718b4ff",
   "metadata": {
    "scrolled": true
   },
   "outputs": [],
   "source": [
    "from scipy.stats import linregress"
   ]
  },
  {
   "cell_type": "code",
   "execution_count": null,
   "id": "edb1e3ba",
   "metadata": {
    "scrolled": true
   },
   "outputs": [],
   "source": [
    "slopes = []\n",
    "genes = []\n",
    "i = 0\n",
    "for gene_counts in log_counts.X.toarray().T:\n",
    "    x = gene_counts[list(spot_pairs.keys())]\n",
    "    y = gene_counts[list(spot_pairs.values())]\n",
    "    if (np.sum(x) != 0) & (np.sum(y) != 0):\n",
    "        slope, _, _, _, _ = linregress(x, y)\n",
    "        slopes.append(slope)\n",
    "        genes.append(i)\n",
    "        i += 1\n"
   ]
  },
  {
   "cell_type": "markdown",
   "id": "b75535fe",
   "metadata": {},
   "source": [
    "Exponentiate the slopes (which were calculated in log-transformed space) to obtain the scale factors"
   ]
  },
  {
   "cell_type": "code",
   "execution_count": null,
   "id": "3c4bb3cb",
   "metadata": {
    "scrolled": true
   },
   "outputs": [],
   "source": [
    "scale_factors = np.exp(slopes)"
   ]
  },
  {
   "cell_type": "code",
   "execution_count": null,
   "id": "c0c4c3b7",
   "metadata": {
    "scrolled": true
   },
   "outputs": [],
   "source": [
    "# Plot scale factors \n",
    "plt.hist(scale_factors, bins=100)\n",
    "plt.xlabel('Scale Factor')\n",
    "plt.ylabel('Frequency')\n",
    "plt.title('Distribution of Scale Factors')\n",
    "plt.show()"
   ]
  },
  {
   "cell_type": "code",
   "execution_count": null,
   "id": "5cd59a51",
   "metadata": {
    "scrolled": true
   },
   "outputs": [],
   "source": [
    "# Record the genes that were used to compute scale factors \n",
    "genes_scale_factors = overlap[:, genes].var_names"
   ]
  },
  {
   "cell_type": "code",
   "execution_count": null,
   "id": "03cc9f32",
   "metadata": {
    "scrolled": true
   },
   "outputs": [],
   "source": [
    "# Record the overlapping spots \n",
    "spots_overlap = overlap[list(spot_pairs.keys()) + (list(spot_pairs.values())), :].obs_names"
   ]
  },
  {
   "cell_type": "code",
   "execution_count": null,
   "id": "566aa0b1",
   "metadata": {
    "scrolled": true
   },
   "outputs": [],
   "source": [
    "spots_overlap_20 = overlap[list(spot_pairs.keys())].obs_names"
   ]
  },
  {
   "cell_type": "code",
   "execution_count": null,
   "id": "c6a7ea3f",
   "metadata": {
    "scrolled": true
   },
   "outputs": [],
   "source": [
    "spots_overlap_21 = overlap[list(spot_pairs.values())].obs_names"
   ]
  },
  {
   "cell_type": "markdown",
   "id": "e03695fc",
   "metadata": {},
   "source": [
    "### Plot average expression of genes vs scale factors "
   ]
  },
  {
   "cell_type": "code",
   "execution_count": null,
   "id": "291f504e",
   "metadata": {
    "scrolled": true
   },
   "outputs": [],
   "source": [
    "# Calculate average expression of each gene across all cells\n",
    "import pandas as pd\n",
    "overlap_plot = overlap[:, genes_scale_factors]\n",
    "avg_exp = overlap_plot.X.mean(axis=0)\n",
    "# Convert the average expression to a pandas dataframe\n",
    "df_avg_exp = pd.DataFrame(data=avg_exp.A1, index=overlap_plot.var_names, columns=['avg_expression'])\n",
    "df_avg_exp.head()"
   ]
  },
  {
   "cell_type": "code",
   "execution_count": null,
   "id": "fc760676",
   "metadata": {
    "scrolled": true
   },
   "outputs": [],
   "source": [
    "# Add scale factors \n",
    "df_avg_exp['scale_factors'] = scale_factors\n",
    "# Sort the dataframe by average expression in ascending order\n",
    "df_avg_exp_sorted = df_avg_exp.sort_values(by='avg_expression', ascending=True)\n",
    "df_avg_exp_sorted.head()"
   ]
  },
  {
   "cell_type": "code",
   "execution_count": null,
   "id": "1f0193a6",
   "metadata": {
    "scrolled": true
   },
   "outputs": [],
   "source": [
    "# Create scatterplot of mean expression versus scale factors for sorted genes\n",
    "plt.scatter(df_avg_exp_sorted['avg_expression'], df_avg_exp_sorted['scale_factors'])\n",
    "plt.xlabel('Average Expression')\n",
    "plt.ylabel('Scale Factors')\n",
    "plt.title('Average Gene Expression vs Scale Factors')\n",
    "plt.show()"
   ]
  },
  {
   "cell_type": "code",
   "execution_count": null,
   "id": "2c51c14d",
   "metadata": {
    "scrolled": true
   },
   "outputs": [],
   "source": [
    "from scipy.stats import trim_mean\n",
    "\n",
    "# Calculate the 10% trimmed median\n",
    "trimmed_mean = trim_mean(scale_factors, 0.1)\n",
    "trimmed_mean"
   ]
  },
  {
   "cell_type": "code",
   "execution_count": null,
   "id": "b512fbbe",
   "metadata": {
    "scrolled": true
   },
   "outputs": [],
   "source": [
    "median = np.median(scale_factors)\n",
    "median"
   ]
  },
  {
   "cell_type": "code",
   "execution_count": null,
   "id": "253f385d",
   "metadata": {
    "scrolled": true
   },
   "outputs": [],
   "source": [
    "# Normalise overlapping spots from slide 21 and plot distribution of counts again for comparison \n",
    "\n",
    "# Create a mask for the barcodes to normalise\n",
    "normalise_mask = np.isin(overlap_plot.obs.index, spots_overlap_21)\n",
    "\n",
    "# Copy the original count matrix to a new matrix\n",
    "normalised_counts = overlap_plot.X.copy()\n",
    "\n",
    "# Normalise the counts for the selected barcodes\n",
    "normalised_counts[normalise_mask] /= trimmed_mean\n",
    "\n",
    "# Create a new anndata object with the normalised counts\n",
    "import anndata\n",
    "normalised_overlap = anndata.AnnData(X=normalised_counts, obs=overlap_plot.obs, var=overlap_plot.var)\n"
   ]
  },
  {
   "cell_type": "code",
   "execution_count": null,
   "id": "cb529d35",
   "metadata": {
    "scrolled": true
   },
   "outputs": [],
   "source": [
    "for col in [ 'n_genes_by_counts', 'log1p_n_genes_by_counts', 'total_counts', 'log1p_total_counts', 'pct_counts_in_top_50_genes', 'pct_counts_in_top_100_genes', 'pct_counts_in_top_200_genes', 'pct_counts_in_top_500_genes']:\n",
    "    del normalised_overlap.obs[col]\n",
    "\n",
    "# Calculate QC metrics\n",
    "sc.pp.calculate_qc_metrics(normalised_overlap, inplace=True)"
   ]
  },
  {
   "cell_type": "code",
   "execution_count": null,
   "id": "a181f617",
   "metadata": {
    "scrolled": true
   },
   "outputs": [],
   "source": [
    "fig, axs = plt.subplots(1, 2, figsize=(15, 6.5))\n",
    "sns.histplot(normalised_overlap.obs, x = normalised_overlap.obs[\"total_counts\"], hue = normalised_overlap.obs[\"sample\"], kde=False, ax=axs[0])\n",
    "sns.histplot(normalised_overlap.obs, x = normalised_overlap.obs[\"n_genes_by_counts\"], hue = normalised_overlap.obs[\"sample\"], kde=False, bins=60, ax=axs[1])"
   ]
  },
  {
   "cell_type": "code",
   "execution_count": null,
   "id": "1c13ba40",
   "metadata": {
    "scrolled": true
   },
   "outputs": [],
   "source": [
    "sc.pl.violin(normalised_overlap, ['total_counts', 'n_genes_by_counts'], groupby = 'sample', multi_panel = True)"
   ]
  },
  {
   "cell_type": "markdown",
   "id": "aa9f2e56",
   "metadata": {},
   "source": [
    "### 4. Normalise all spots from slide 21 based on the scale factors computed from overlapping spots"
   ]
  },
  {
   "cell_type": "code",
   "execution_count": null,
   "id": "28ae3596",
   "metadata": {
    "scrolled": true
   },
   "outputs": [],
   "source": [
    "spots_non_overlap = adata[[i not in spots_overlap.tolist() for i in adata.obs_names]].obs_names.to_list()\n",
    "spots_non_overlap_20 = [i for i in spots_non_overlap if i.startswith('HCA_F_RepTsp13447720_')]\n",
    "print('Non-overlapping spots from slide 20: {}'.format(len(spots_non_overlap_20)))\n",
    "spots_non_overlap_21 = [i for i in spots_non_overlap if i.startswith('HCA_F_RepTsp13447721_')]\n",
    "print('Non-overlapping spots from slide 21: {}'.format(len(spots_non_overlap_21)))\n"
   ]
  },
  {
   "cell_type": "code",
   "execution_count": null,
   "id": "af94f26b",
   "metadata": {
    "scrolled": true
   },
   "outputs": [],
   "source": [
    "all_spots_21 = spots_overlap_21.to_list() + spots_non_overlap_21"
   ]
  },
  {
   "cell_type": "code",
   "execution_count": null,
   "id": "8fcf0777",
   "metadata": {
    "scrolled": true
   },
   "outputs": [],
   "source": [
    "len(all_spots_21)"
   ]
  },
  {
   "cell_type": "code",
   "execution_count": null,
   "id": "1af38264",
   "metadata": {
    "scrolled": true
   },
   "outputs": [],
   "source": [
    "# Subset genes \n",
    "slide_21 = adata[:, genes_scale_factors]\n",
    "slide_21 = slide_21[[i in all_spots_21 for i in slide_21.obs_names]]"
   ]
  },
  {
   "cell_type": "code",
   "execution_count": null,
   "id": "af61a8da",
   "metadata": {
    "scrolled": true
   },
   "outputs": [],
   "source": [
    "slide_21"
   ]
  },
  {
   "cell_type": "code",
   "execution_count": null,
   "id": "962bcc31",
   "metadata": {
    "scrolled": true
   },
   "outputs": [],
   "source": [
    "# Normalize count data by scale factors\n",
    "slide_21.X = slide_21.X / trimmed_mean"
   ]
  },
  {
   "cell_type": "code",
   "execution_count": null,
   "id": "98ab4d06",
   "metadata": {
    "scrolled": true
   },
   "outputs": [],
   "source": [
    "slide_21.X.toarray()[20:30, 20:30]"
   ]
  },
  {
   "cell_type": "markdown",
   "id": "ff901e59",
   "metadata": {},
   "source": [
    "### 5. Concatenate normalised slide 21 with non-overlapping spots of slide 20"
   ]
  },
  {
   "cell_type": "code",
   "execution_count": null,
   "id": "07e8e557",
   "metadata": {
    "scrolled": true
   },
   "outputs": [],
   "source": [
    "slide_20 = adata[:, genes_scale_factors]\n",
    "slide_20 = slide_20[[i in spots_non_overlap_20 for i in slide_20.obs_names]]\n",
    "slide_20"
   ]
  },
  {
   "cell_type": "code",
   "execution_count": null,
   "id": "d26b3970",
   "metadata": {
    "scrolled": true
   },
   "outputs": [],
   "source": [
    "slide_20.X.toarray()[20:30, 20:30]"
   ]
  },
  {
   "cell_type": "code",
   "execution_count": null,
   "id": "c4098d69",
   "metadata": {
    "scrolled": true
   },
   "outputs": [],
   "source": [
    "res = slide_20.concatenate(slide_21, index_unique=None)\n",
    "res"
   ]
  },
  {
   "cell_type": "code",
   "execution_count": null,
   "id": "00902933",
   "metadata": {
    "scrolled": true
   },
   "outputs": [],
   "source": [
    "res.raw = res.copy()"
   ]
  },
  {
   "cell_type": "code",
   "execution_count": null,
   "id": "30015ecc",
   "metadata": {
    "scrolled": true
   },
   "outputs": [],
   "source": [
    "# Calculate QC metrics\n",
    "sc.pp.calculate_qc_metrics(res, inplace=True)"
   ]
  },
  {
   "cell_type": "code",
   "execution_count": null,
   "id": "0f5020f8",
   "metadata": {
    "scrolled": true
   },
   "outputs": [],
   "source": [
    "fig, axs = plt.subplots(1, 2, figsize=(15, 6.5))\n",
    "sns.histplot(res.obs, x = res.obs[\"total_counts\"], hue = res.obs[\"sample\"], kde=False, ax=axs[0])\n",
    "sns.histplot(res.obs, x = res.obs[\"n_genes_by_counts\"], hue = res.obs[\"sample\"], kde=False, bins=60, ax=axs[1])"
   ]
  },
  {
   "cell_type": "code",
   "execution_count": null,
   "id": "d5190a44",
   "metadata": {
    "scrolled": true
   },
   "outputs": [],
   "source": [
    "sc.pp.normalize_total(res, target_sum=1e4, exclude_highly_expressed = True)\n",
    "\n",
    "sc.pp.log1p(res)\n",
    "sc.pp.highly_variable_genes(res, min_mean=0.0125, max_mean=3, min_disp=0.5)\n",
    "res"
   ]
  },
  {
   "cell_type": "code",
   "execution_count": null,
   "id": "47cb7799",
   "metadata": {
    "scrolled": true
   },
   "outputs": [],
   "source": [
    "np.max(res.X.toarray())"
   ]
  },
  {
   "cell_type": "code",
   "execution_count": null,
   "id": "e8893cad",
   "metadata": {
    "scrolled": true
   },
   "outputs": [],
   "source": [
    "sc.pp.scale(res, max_value=10)\n",
    "sc.tl.pca(res, svd_solver='arpack')\n",
    "sc.pl.pca_variance_ratio(res, log=True)"
   ]
  },
  {
   "cell_type": "code",
   "execution_count": null,
   "id": "420b12bb",
   "metadata": {
    "scrolled": true
   },
   "outputs": [],
   "source": [
    "np.max(res.X)"
   ]
  },
  {
   "cell_type": "code",
   "execution_count": null,
   "id": "53758707",
   "metadata": {
    "scrolled": true
   },
   "outputs": [],
   "source": [
    "# Re-add spatial info \n",
    "res.uns[\"spatial\"] = dict()\n",
    "library_id = \"joint\"\n",
    "res.uns[\"spatial\"][library_id] = dict()"
   ]
  },
  {
   "cell_type": "code",
   "execution_count": null,
   "id": "9dd91350",
   "metadata": {
    "scrolled": true
   },
   "outputs": [],
   "source": [
    "from matplotlib.image import imread\n",
    "\n",
    "res.uns[\"spatial\"][library_id]['images'] = dict()\n",
    "res.uns[\"spatial\"][library_id]['images'][\"hires\"] = imread(\"20_21_tissue_hires_image.png\")"
   ]
  },
  {
   "cell_type": "code",
   "execution_count": null,
   "id": "a8a7ba7a",
   "metadata": {
    "scrolled": true
   },
   "outputs": [],
   "source": [
    "import json\n",
    "\n",
    "with open(\"/nfs/team292/vl6/FetalReproductiveTract/VISIUM/data/HCA_F_RepTsp13447720/spatial/scalefactors_json.json\", \"r\") as fid:\n",
    "    res.uns[\"spatial\"][library_id]['scalefactors'] = json.load(fid)"
   ]
  },
  {
   "cell_type": "code",
   "execution_count": null,
   "id": "5731d45e",
   "metadata": {
    "scrolled": true
   },
   "outputs": [],
   "source": [
    "import pandas as pd\n",
    "\n",
    "p1 = pd.read_csv(\"20_tissue_positions_list.csv\", header=None)\n",
    "p2 = pd.read_csv(\"21_tissue_positions_list.csv\", header=None)"
   ]
  },
  {
   "cell_type": "code",
   "execution_count": null,
   "id": "6cf371ed",
   "metadata": {
    "scrolled": true
   },
   "outputs": [],
   "source": [
    "p1.columns = [\n",
    "    'barcode',\n",
    "    'in_tissue',\n",
    "    'array_row',\n",
    "    'array_col',\n",
    "    'pxl_col_in_fullres',\n",
    "    'pxl_row_in_fullres',\n",
    "]\n",
    "\n",
    "p1.index = p1['barcode']\n",
    "\n",
    "p2.columns = [\n",
    "    'barcode',\n",
    "    'in_tissue',\n",
    "    'array_row',\n",
    "    'array_col',\n",
    "    'pxl_col_in_fullres',\n",
    "    'pxl_row_in_fullres',\n",
    "]\n",
    "\n",
    "p2.index = p2['barcode']\n"
   ]
  },
  {
   "cell_type": "code",
   "execution_count": null,
   "id": "7438e45a",
   "metadata": {
    "scrolled": true
   },
   "outputs": [],
   "source": [
    "positions = pd.concat([p1, p2])\n",
    "positions.drop(columns=['in_tissue', 'array_row', 'array_col'],\n",
    "    inplace=True)\n",
    "res.obs['barcode'] = res.obs_names\n",
    "res.obs = res.obs.join(positions, how=\"inner\", on = 'barcode', lsuffix = 'L')\n",
    "res.obsm['spatial'] = res.obs[\n",
    "    ['pxl_row_in_fullres', 'pxl_col_in_fullres']\n",
    "].to_numpy()\n",
    "spatial = res.obsm['spatial'].copy()\n",
    "res.obsm['spatial'][:,0] = spatial[:,1]\n",
    "res.obsm['spatial'][:,1] = spatial[:,0]"
   ]
  },
  {
   "cell_type": "code",
   "execution_count": null,
   "id": "332b8451",
   "metadata": {
    "scrolled": true
   },
   "outputs": [],
   "source": [
    "res"
   ]
  },
  {
   "cell_type": "code",
   "execution_count": null,
   "id": "fc58f492",
   "metadata": {
    "scrolled": true
   },
   "outputs": [],
   "source": [
    "sc.pp.neighbors(res, n_pcs=10)\n",
    "sc.tl.leiden(res)\n",
    "sc.pl.spatial(res, color=\"leiden\")"
   ]
  },
  {
   "cell_type": "markdown",
   "id": "0f026e64",
   "metadata": {},
   "source": [
    "Hey that doesn't look half bad. Turn the resolution down for a clearer overview."
   ]
  },
  {
   "cell_type": "code",
   "execution_count": null,
   "id": "5b08d6d3",
   "metadata": {
    "scrolled": true
   },
   "outputs": [],
   "source": [
    "sc.tl.leiden(res, resolution=0.4)\n",
    "sc.pl.spatial(res, color=\"leiden\", save = '_leiden_clustering')"
   ]
  },
  {
   "cell_type": "code",
   "execution_count": null,
   "id": "cde09b04",
   "metadata": {
    "scrolled": false
   },
   "outputs": [],
   "source": [
    "sc.pl.spatial(res, color=['PAX8', 'DLX5', 'UCA1', 'LGR5', 'MSX1', 'ITGA4', 'MYH11', 'DLK1', \n",
    "                            'C7', 'PTGER3', 'ALAS2', 'LYVE1', 'PLP1', 'SRD5A2' ], gene_symbols = 'SYMBOL', ncols = 2, \n",
    "             cmap = 'jet', use_raw = False)"
   ]
  },
  {
   "cell_type": "code",
   "execution_count": null,
   "id": "0a940402",
   "metadata": {
    "scrolled": true
   },
   "outputs": [],
   "source": [
    "sc.pl.pca(res, color = 'sample')"
   ]
  },
  {
   "cell_type": "code",
   "execution_count": null,
   "id": "dc991aae",
   "metadata": {
    "scrolled": true
   },
   "outputs": [],
   "source": [
    "sc.pl.pca(res, color = 'leiden')"
   ]
  },
  {
   "cell_type": "code",
   "execution_count": null,
   "id": "f4a636b9",
   "metadata": {
    "scrolled": true
   },
   "outputs": [],
   "source": [
    "res.write('/lustre/scratch126/cellgen/team292/vl6/VISIUM/HCA_F_RepTsp13447720_HCA_F_RepTsp13447721/HCA_F_RepTsp13447720_HCA_F_RepTsp13447721_visium.h5ad')"
   ]
  },
  {
   "cell_type": "code",
   "execution_count": null,
   "id": "222119a0",
   "metadata": {
    "scrolled": true
   },
   "outputs": [],
   "source": [
    "res = sc.read('/lustre/scratch126/cellgen/team292/vl6/VISIUM/HCA_F_RepTsp13447720_HCA_F_RepTsp13447721/HCA_F_RepTsp13447720_HCA_F_RepTsp13447721_visium.h5ad')"
   ]
  },
  {
   "cell_type": "code",
   "execution_count": null,
   "id": "d930affc",
   "metadata": {
    "scrolled": true
   },
   "outputs": [],
   "source": [
    "import pandas as pd"
   ]
  },
  {
   "cell_type": "code",
   "execution_count": null,
   "id": "49075b67",
   "metadata": {
    "scrolled": true
   },
   "outputs": [],
   "source": [
    "axis = pd.read_csv('/lustre/scratch126/cellgen/team292/vl6/VISIUM/HCA_F_RepTsp13447720_HCA_F_RepTsp13447721/UterineVaginalAxis.csv', index_col = 0)\n",
    "axis.head()"
   ]
  },
  {
   "cell_type": "code",
   "execution_count": null,
   "id": "62d49e88",
   "metadata": {
    "scrolled": true
   },
   "outputs": [],
   "source": [
    "res.obs['UteroCervical Axis'] = res.obs_names.map(axis['UteroVaginal_Axis'].to_dict())"
   ]
  },
  {
   "cell_type": "code",
   "execution_count": null,
   "id": "a92629c7",
   "metadata": {
    "scrolled": true
   },
   "outputs": [],
   "source": [
    "sc.pl.spatial(res, color=\"UteroCervical Axis\", cmap = 'jet', save = '_axis')"
   ]
  },
  {
   "cell_type": "code",
   "execution_count": null,
   "id": "c58b9e37",
   "metadata": {
    "scrolled": false
   },
   "outputs": [],
   "source": [
    "sc.pl.spatial(res, color=['CFAP157', 'CCDC114', 'VPS13D', 'CFAP70', 'SPAG17', 'VWA3A', 'BMP7', 'PIFO', 'CFAP45', 'NOTUM', 'CTNNA2', 'ID3', 'MRM3', 'RAMP2', 'CDK17', \n",
    "                         'TMEM183A', 'RHEX', 'SIX1', 'DLX5',  'MSX2', 'SLC14A1', 'SUSD2', 'NKD1', 'HS3ST3A1', 'CDH2', 'WIF1', \n",
    "                         'MUC5B', 'TFF3', 'EPAS1', 'CASTOR1', 'GPC3', 'MMP7', 'CLCN5', 'IGF1', 'TMX2'], gene_symbols = 'SYMBOL', ncols = 3, \n",
    "             cmap = 'jet', use_raw = False)"
   ]
  },
  {
   "cell_type": "code",
   "execution_count": null,
   "id": "c3873de3",
   "metadata": {
    "scrolled": true
   },
   "outputs": [],
   "source": [
    "adata = sc.read('/lustre/scratch126/cellgen/team292/vl6/VISIUM/cell2location_v0.1_merged/female_axis/predmodel/sp.h5ad')\n",
    "adata"
   ]
  },
  {
   "cell_type": "code",
   "execution_count": null,
   "id": "3ca804f4",
   "metadata": {
    "scrolled": true
   },
   "outputs": [],
   "source": [
    "adata.obs[adata.uns['mod']['factor_names']] = adata.obsm['q05_cell_abundance_w_sf']"
   ]
  },
  {
   "cell_type": "code",
   "execution_count": null,
   "id": "c56994bd",
   "metadata": {
    "scrolled": true
   },
   "outputs": [],
   "source": [
    "for col in adata.obs[['CoelomicEpithelial',\n",
    "       'Epithelial_FallopianTube', 'Epithelial_Uterus', 'Epithelial_Ciliated',\n",
    "       'Epithelial_LowerTract_1_SNX31', 'Epithelial_LowerTract_2_HOXB13',\n",
    "       'Epithelial_LowerTract_3', 'Epithelial_LowerTract_4',\n",
    "       'Mesenchymal_FallopianTube', 'Mesenchymal_Uterus',\n",
    "       'Mesenchymal_LowerTract_1_SRD5A2', 'Mesenchymal_LowerTract_2_PGR',\n",
    "       'Mesenchymal_LowerTract_3', 'SmoothMuscle_FallopianTube',\n",
    "       'SmoothMuscle_Uterus', 'SmoothMuscle_LowerTract',\n",
    "       'Ligament_FallopianTube', 'Ligament_Uterus',\n",
    "       'Ligament_LowerTract_1_PRDM8', 'Ligament_LowerTract_2_TBX18',\n",
    "       'Epoophron', 'PV', 'Pre_PV', 'Endothelial', 'Endothelial_lymphatic',\n",
    "       'Immune', 'Neural_1_PLP1', 'Neural_2_STMN2']]:\n",
    "    res.obs[col] = adata.obs[col].to_dict()"
   ]
  },
  {
   "cell_type": "code",
   "execution_count": null,
   "id": "33f86b27",
   "metadata": {
    "scrolled": false
   },
   "outputs": [],
   "source": [
    "sc.pl.spatial(res, cmap='jet',\n",
    "                  # show first 8 cell types\n",
    "                  color=['CoelomicEpithelial', 'Epithelial_FallopianTube', 'Epithelial_Uterus', 'Epithelial_Ciliated', 'Epithelial_LowerTract_1_SNX31', \n",
    "                         'Epithelial_LowerTract_2_HOXB13', 'Epithelial_LowerTract_3', 'Epithelial_LowerTract_4', 'Mesenchymal_FallopianTube', \n",
    "                         'Mesenchymal_Uterus', 'Mesenchymal_LowerTract_1_SRD5A2', 'Mesenchymal_LowerTract_2_PGR', 'Mesenchymal_LowerTract_3', \n",
    "                         'SmoothMuscle_FallopianTube', 'SmoothMuscle_Uterus', 'SmoothMuscle_LowerTract', 'Ligament_FallopianTube', 'Ligament_Uterus', \n",
    "                         'Ligament_LowerTract_1_PRDM8', 'Ligament_LowerTract_2_TBX18', 'Epoophron', 'PV', 'Pre_PV', 'Endothelial', 'Endothelial_lymphatic', \n",
    "                         'Immune', 'Neural_1_PLP1', 'Neural_2_STMN2'],\n",
    "                  ncols=3, size=1.3,\n",
    "                  #img_key='hires5K',\n",
    "                  # limit color scale at 99.2% quantile of cell abundance\n",
    "                  vmin=0, vmax='p99.2'\n",
    "                 )"
   ]
  },
  {
   "cell_type": "code",
   "execution_count": null,
   "id": "abad8a37",
   "metadata": {
    "scrolled": true
   },
   "outputs": [],
   "source": []
  }
 ],
 "metadata": {
  "kernelspec": {
   "display_name": "imagespot",
   "language": "python",
   "name": "imagespot"
  },
  "language_info": {
   "codemirror_mode": {
    "name": "ipython",
    "version": 3
   },
   "file_extension": ".py",
   "mimetype": "text/x-python",
   "name": "python",
   "nbconvert_exporter": "python",
   "pygments_lexer": "ipython3",
   "version": "3.9.13"
  }
 },
 "nbformat": 4,
 "nbformat_minor": 5
}
