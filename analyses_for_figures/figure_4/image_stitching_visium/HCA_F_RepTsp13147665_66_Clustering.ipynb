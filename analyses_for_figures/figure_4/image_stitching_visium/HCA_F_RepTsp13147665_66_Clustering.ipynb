{
 "cells": [
  {
   "cell_type": "markdown",
   "id": "d196ed51",
   "metadata": {},
   "source": [
    "## Stitch HCA_F_RepTsp13147665 & HCA_F_RepTsp13147666"
   ]
  },
  {
   "cell_type": "code",
   "execution_count": null,
   "id": "c28ac50c",
   "metadata": {},
   "outputs": [],
   "source": [
    "import scanpy as sc\n",
    "\n",
    "sc.settings.set_figure_params(figsize=(10,10))"
   ]
  },
  {
   "cell_type": "markdown",
   "id": "e18b5ed3",
   "metadata": {},
   "source": [
    "Do a quick basic scanpy analysis of the limb to plot some clusters on it."
   ]
  },
  {
   "cell_type": "code",
   "execution_count": null,
   "id": "26403910",
   "metadata": {},
   "outputs": [],
   "source": [
    "adata = sc.read('65_66_joint.h5ad')\n",
    "adata = adata[adata.obs['in_tissue'] == 1]\n",
    "sc.pl.spatial(adata, color=\"in_tissue\")\n",
    "sc.pl.spatial(adata, color=\"is_overlap\")\n"
   ]
  },
  {
   "cell_type": "markdown",
   "id": "7509a0e2",
   "metadata": {},
   "source": [
    "### 2. Use the overlapping spots to assess differences in sequencing depth "
   ]
  },
  {
   "cell_type": "code",
   "execution_count": null,
   "id": "c6dc1fe8",
   "metadata": {},
   "outputs": [],
   "source": [
    "adata.var['SYMBOL'] = adata.var_names\n",
    "adata.var.rename(columns={'gene_ids': 'ENSEMBL'}, inplace=True)\n",
    "adata.var_names = adata.var['ENSEMBL']\n",
    "adata.var.drop(columns='ENSEMBL', inplace=True)"
   ]
  },
  {
   "cell_type": "code",
   "execution_count": null,
   "id": "e7fcebba",
   "metadata": {},
   "outputs": [],
   "source": [
    "overlap = adata[[i == 1 for i in adata.obs['is_overlap']]]\n",
    "overlap"
   ]
  },
  {
   "cell_type": "code",
   "execution_count": null,
   "id": "4a2d0d77",
   "metadata": {},
   "outputs": [],
   "source": [
    "sc.pp.filter_genes(overlap, min_cells=5) "
   ]
  },
  {
   "cell_type": "code",
   "execution_count": null,
   "id": "a8757406",
   "metadata": {},
   "outputs": [],
   "source": [
    "# Calculate QC metrics\n",
    "sc.pp.calculate_qc_metrics(overlap, inplace=True)"
   ]
  },
  {
   "cell_type": "code",
   "execution_count": null,
   "id": "6f661f58",
   "metadata": {},
   "outputs": [],
   "source": [
    "import seaborn as sns\n",
    "import matplotlib.pyplot as plt"
   ]
  },
  {
   "cell_type": "code",
   "execution_count": null,
   "id": "ae300bbb",
   "metadata": {},
   "outputs": [],
   "source": [
    "fig, axs = plt.subplots(1, 2, figsize=(15, 6.5))\n",
    "sns.histplot(overlap.obs, x = overlap.obs[\"total_counts\"], hue = overlap.obs[\"sample\"], kde=False, ax=axs[0])\n",
    "sns.histplot(overlap.obs, x = overlap.obs[\"n_genes_by_counts\"], hue = overlap.obs[\"sample\"], kde=False, bins=60, ax=axs[1])\n"
   ]
  },
  {
   "cell_type": "code",
   "execution_count": null,
   "id": "0d4a4495",
   "metadata": {},
   "outputs": [],
   "source": [
    "sc.set_figure_params(scanpy=True, dpi=80, dpi_save=150, \n",
    "                         frameon=True, vector_friendly=True, fontsize=14, figsize=[6,6], color_map=None, \n",
    "                         format='pdf', facecolor=None, transparent=False)"
   ]
  },
  {
   "cell_type": "code",
   "execution_count": null,
   "id": "44292a18",
   "metadata": {},
   "outputs": [],
   "source": [
    "sc.pl.violin(overlap, ['total_counts', 'n_genes_by_counts'], groupby = 'sample', multi_panel = True)"
   ]
  },
  {
   "cell_type": "markdown",
   "id": "24a2b7db",
   "metadata": {},
   "source": [
    "### What are scale factors?\n",
    "\n",
    "In single-cell RNA sequencing (scRNA-seq), **scale factors are normalization factors used to adjust for differences in sequencing depth across cells**.\n",
    "\n",
    "When performing scRNA-seq, the number of transcripts captured can vary across cells due to technical factors such as variation in *cell lysis efficiency*, *cDNA synthesis efficiency*, and *sequencing depth*. This can result in differences in the number of sequencing reads obtained for each cell, which can confound downstream analyses. To address this issue, scale factors are used to adjust the read counts for each cell by a constant factor so that the total number of reads across all cells is equal.\n",
    "\n",
    "Scanpy uses the **total-count normalization** method to compute scale factors. The total-count normalization method *assumes that the majority of genes are not differentially expressed between cells and adjusts for differences in sequencing depth by scaling the count data to a common library size*. The **scaling factor for each cell is the total count divided by the median count across all cells**.\n",
    "\n",
    "The rationale for using the median instead of the mean to compute the normalization factor is to avoid bias from highly expressed genes that may be present in only a few cells.\n",
    "\n",
    "### 3. Derive scale factors from overlapping spots \n",
    "\n",
    "Since we have a dataset where some cells/spots have \"duplicated\" measurements from two experiments, we can use the duplicated measurements to derive scale factors that can be applied to the other cells in the dataset. The basic idea is to use the duplicated measurements to estimate the technical variation between the two experiments and use this estimate to normalize the data.\n",
    "\n",
    "One approach would be to use the duplicated measurements to **fit a linear regression model that relates the log-expression values of the *duplicated* cells/spots from the two experiments**. The **exp(slope) of the regression line provides an estimate of the technical variation between the two experiments**, which can be used as a scale factor to normalize the other cells.\n",
    "\n",
    "The reason for exponentiating the slopes is that the slope in the log space is equivalent to the fold change between the two conditions. Exponentiating the slope yields the ratio of expression levels between the two conditions on a linear scale. Therefore, by exponentiating the slopes, we obtain a factor that can be directly used to rescale the data to the same scale, making it comparable between samples.\n",
    "\n",
    "Basically, exponentiating the slopes is a convenient way to convert the fold change between conditions, which is measured on a logarithmic scale, to a linear scale that can be directly used as a normalization factor for the data."
   ]
  },
  {
   "cell_type": "code",
   "execution_count": null,
   "id": "58589c46",
   "metadata": {},
   "outputs": [],
   "source": [
    "import numpy as np"
   ]
  },
  {
   "cell_type": "code",
   "execution_count": null,
   "id": "f4b160eb",
   "metadata": {},
   "outputs": [],
   "source": [
    "import json\n",
    "with open(\"65_66_overlapping_barcodes.json\", \"r\") as f:\n",
    "    overlapping_barcodes = json.load(f)"
   ]
  },
  {
   "cell_type": "markdown",
   "id": "95d787f1",
   "metadata": {},
   "source": [
    "Record the pairs of overlapping spots "
   ]
  },
  {
   "cell_type": "code",
   "execution_count": null,
   "id": "c160ee80",
   "metadata": {},
   "outputs": [],
   "source": [
    "spot_pairs = {}\n",
    "for k, v in overlapping_barcodes.items():\n",
    "    if (k in overlap.obs_names.to_list()) & (v in overlap.obs_names.to_list()):\n",
    "        barcode1_idx = np.where(overlap.obs_names == k)[0][0]\n",
    "        barcode2_idx = np.where(overlap.obs_names == v)[0][0]\n",
    "        \n",
    "        spot_pairs[barcode1_idx] = barcode2_idx"
   ]
  },
  {
   "cell_type": "markdown",
   "id": "27479263",
   "metadata": {},
   "source": [
    "Log transform the raw counts"
   ]
  },
  {
   "cell_type": "code",
   "execution_count": null,
   "id": "d971c519",
   "metadata": {},
   "outputs": [],
   "source": [
    "log_counts = sc.pp.log1p(overlap, copy = True)\n",
    "print(log_counts.X[list(spot_pairs.keys())].toarray().shape)\n",
    "print(log_counts.X[list(spot_pairs.values())].toarray().shape)"
   ]
  },
  {
   "cell_type": "code",
   "execution_count": null,
   "id": "f0039bbe",
   "metadata": {},
   "outputs": [],
   "source": [
    "from scipy.stats import linregress"
   ]
  },
  {
   "cell_type": "code",
   "execution_count": null,
   "id": "8f6f033d",
   "metadata": {},
   "outputs": [],
   "source": [
    "slopes = []\n",
    "genes = []\n",
    "i = 0\n",
    "for gene_counts in log_counts.X.toarray().T:\n",
    "    x = gene_counts[list(spot_pairs.keys())]\n",
    "    y = gene_counts[list(spot_pairs.values())]\n",
    "    if (np.sum(x) != 0) & (np.sum(y) != 0):\n",
    "        slope, _, _, _, _ = linregress(x, y)\n",
    "        slopes.append(slope)\n",
    "        genes.append(i)\n",
    "        i += 1\n"
   ]
  },
  {
   "cell_type": "markdown",
   "id": "04683049",
   "metadata": {},
   "source": [
    "Exponentiate the slopes (which were calculated in log-transformed space) to obtain the scale factors"
   ]
  },
  {
   "cell_type": "code",
   "execution_count": null,
   "id": "f0c038a8",
   "metadata": {},
   "outputs": [],
   "source": [
    "scale_factors = np.exp(slopes)"
   ]
  },
  {
   "cell_type": "code",
   "execution_count": null,
   "id": "fecab291",
   "metadata": {},
   "outputs": [],
   "source": [
    "# Plot scale factors \n",
    "plt.hist(scale_factors, bins=100)\n",
    "plt.xlabel('Scale Factor')\n",
    "plt.ylabel('Frequency')\n",
    "plt.title('Distribution of Scale Factors')\n",
    "plt.show()"
   ]
  },
  {
   "cell_type": "code",
   "execution_count": null,
   "id": "2772a1e3",
   "metadata": {},
   "outputs": [],
   "source": [
    "# Record the genes that were used to compute scale factors \n",
    "genes_scale_factors = overlap[:, genes].var_names"
   ]
  },
  {
   "cell_type": "code",
   "execution_count": null,
   "id": "4ecb5f67",
   "metadata": {},
   "outputs": [],
   "source": [
    "# Record the overlapping spots \n",
    "spots_overlap = overlap[list(spot_pairs.keys()) + (list(spot_pairs.values())), :].obs_names"
   ]
  },
  {
   "cell_type": "code",
   "execution_count": null,
   "id": "880891ad",
   "metadata": {},
   "outputs": [],
   "source": [
    "spots_overlap_65 = overlap[list(spot_pairs.keys())].obs_names\n",
    "spots_overlap_66 = overlap[list(spot_pairs.values())].obs_names"
   ]
  },
  {
   "cell_type": "markdown",
   "id": "182ca159",
   "metadata": {},
   "source": [
    "### Plot average expression of genes vs scale factors "
   ]
  },
  {
   "cell_type": "code",
   "execution_count": null,
   "id": "61bbb42a",
   "metadata": {},
   "outputs": [],
   "source": [
    "# Calculate average expression of each gene across all cells\n",
    "import pandas as pd\n",
    "overlap_plot = overlap[:, genes_scale_factors]\n",
    "avg_exp = overlap_plot.X.mean(axis=0)\n",
    "# Convert the average expression to a pandas dataframe\n",
    "df_avg_exp = pd.DataFrame(data=avg_exp.A1, index=overlap_plot.var_names, columns=['avg_expression'])\n",
    "df_avg_exp.head()"
   ]
  },
  {
   "cell_type": "code",
   "execution_count": null,
   "id": "4c7a4477",
   "metadata": {},
   "outputs": [],
   "source": [
    "# Add scale factors \n",
    "df_avg_exp['scale_factors'] = scale_factors\n",
    "# Sort the dataframe by average expression in ascending order\n",
    "df_avg_exp_sorted = df_avg_exp.sort_values(by='avg_expression', ascending=True)\n",
    "df_avg_exp_sorted.head()"
   ]
  },
  {
   "cell_type": "code",
   "execution_count": null,
   "id": "d105b2f2",
   "metadata": {},
   "outputs": [],
   "source": [
    "# Create scatterplot of mean expression versus scale factors for sorted genes\n",
    "plt.scatter(df_avg_exp_sorted['avg_expression'], df_avg_exp_sorted['scale_factors'])\n",
    "plt.xlabel('Average Expression')\n",
    "plt.ylabel('Scale Factors')\n",
    "plt.title('Average Gene Expression vs Scale Factors')\n",
    "plt.show()"
   ]
  },
  {
   "cell_type": "code",
   "execution_count": null,
   "id": "701493d3",
   "metadata": {},
   "outputs": [],
   "source": [
    "from scipy.stats import trim_mean\n",
    "\n",
    "# Calculate the 10% trimmed median\n",
    "trimmed_mean = trim_mean(scale_factors, 0.1)\n",
    "trimmed_mean"
   ]
  },
  {
   "cell_type": "code",
   "execution_count": null,
   "id": "a216d97e",
   "metadata": {},
   "outputs": [],
   "source": [
    "median = np.median(scale_factors)\n",
    "median"
   ]
  },
  {
   "cell_type": "code",
   "execution_count": null,
   "id": "61b8f2d6",
   "metadata": {},
   "outputs": [],
   "source": [
    "# Normalise overlapping spots from slide 66 and plot distribution of counts again for comparison \n",
    "\n",
    "# Create a mask for the barcodes to normalise\n",
    "normalise_mask = np.isin(overlap_plot.obs.index, spots_overlap_66)\n",
    "\n",
    "# Copy the original count matrix to a new matrix\n",
    "normalised_counts = overlap_plot.X.copy()\n",
    "\n",
    "# Normalise the counts for the selected barcodes\n",
    "normalised_counts[normalise_mask] /= trimmed_mean\n",
    "\n",
    "# Create a new anndata object with the normalised counts\n",
    "import anndata\n",
    "normalised_overlap = anndata.AnnData(X=normalised_counts, obs=overlap_plot.obs, var=overlap_plot.var)\n"
   ]
  },
  {
   "cell_type": "code",
   "execution_count": null,
   "id": "970c0998",
   "metadata": {},
   "outputs": [],
   "source": [
    "for col in [ 'n_genes_by_counts', 'log1p_n_genes_by_counts', 'total_counts', 'log1p_total_counts', 'pct_counts_in_top_50_genes', 'pct_counts_in_top_100_genes', 'pct_counts_in_top_200_genes', 'pct_counts_in_top_500_genes']:\n",
    "    del normalised_overlap.obs[col]\n",
    "\n",
    "# Calculate QC metrics\n",
    "sc.pp.calculate_qc_metrics(normalised_overlap, inplace=True)"
   ]
  },
  {
   "cell_type": "code",
   "execution_count": null,
   "id": "e9d00e4e",
   "metadata": {},
   "outputs": [],
   "source": [
    "fig, axs = plt.subplots(1, 2, figsize=(15, 6.5))\n",
    "sns.histplot(normalised_overlap.obs, x = normalised_overlap.obs[\"total_counts\"], hue = normalised_overlap.obs[\"sample\"], kde=False, ax=axs[0])\n",
    "sns.histplot(normalised_overlap.obs, x = normalised_overlap.obs[\"n_genes_by_counts\"], hue = normalised_overlap.obs[\"sample\"], kde=False, bins=60, ax=axs[1])"
   ]
  },
  {
   "cell_type": "code",
   "execution_count": null,
   "id": "cfcf2a39",
   "metadata": {},
   "outputs": [],
   "source": [
    "sc.pl.violin(normalised_overlap, ['total_counts', 'n_genes_by_counts'], groupby = 'sample', multi_panel = True)"
   ]
  },
  {
   "cell_type": "markdown",
   "id": "c607c8d4",
   "metadata": {},
   "source": [
    "### 4. Normalise all spots from slide 66 based on the scale factors computed from overlapping spots"
   ]
  },
  {
   "cell_type": "code",
   "execution_count": null,
   "id": "952c33fa",
   "metadata": {},
   "outputs": [],
   "source": [
    "spots_non_overlap = adata[[i not in spots_overlap.tolist() for i in adata.obs_names]].obs_names.to_list()\n",
    "spots_non_overlap_65 = [i for i in spots_non_overlap if i.startswith('HCA_F_RepTsp13147665_')]\n",
    "print('Non-overlapping spots from slide 65: {}'.format(len(spots_non_overlap_65)))\n",
    "spots_non_overlap_66 = [i for i in spots_non_overlap if i.startswith('HCA_F_RepTsp13147666_')]\n",
    "print('Non-overlapping spots from slide 66: {}'.format(len(spots_non_overlap_66)))\n"
   ]
  },
  {
   "cell_type": "code",
   "execution_count": null,
   "id": "0970d940",
   "metadata": {},
   "outputs": [],
   "source": [
    "all_spots_66 = spots_overlap_66.to_list() + spots_non_overlap_66"
   ]
  },
  {
   "cell_type": "code",
   "execution_count": null,
   "id": "be29c412",
   "metadata": {},
   "outputs": [],
   "source": [
    "len(all_spots_66)"
   ]
  },
  {
   "cell_type": "code",
   "execution_count": null,
   "id": "f87f784d",
   "metadata": {},
   "outputs": [],
   "source": [
    "# Subset genes \n",
    "slide_66 = adata[:, genes_scale_factors]\n",
    "slide_66 = slide_66[[i in all_spots_66 for i in slide_66.obs_names]]"
   ]
  },
  {
   "cell_type": "code",
   "execution_count": null,
   "id": "069a002e",
   "metadata": {},
   "outputs": [],
   "source": [
    "# Normalize count data by scale factors\n",
    "slide_66.X = slide_66.X / trimmed_mean"
   ]
  },
  {
   "cell_type": "code",
   "execution_count": null,
   "id": "1c43db9d",
   "metadata": {},
   "outputs": [],
   "source": [
    "slide_66.X.toarray()[20:30, 20:30]"
   ]
  },
  {
   "cell_type": "markdown",
   "id": "4e131941",
   "metadata": {},
   "source": [
    "### 5. Concatenate normalised slide 66 with non-overlapping spots of slide 65"
   ]
  },
  {
   "cell_type": "code",
   "execution_count": null,
   "id": "58253bb2",
   "metadata": {},
   "outputs": [],
   "source": [
    "slide_65 = adata[:, genes_scale_factors]\n",
    "slide_65 = slide_65[[i in spots_non_overlap_65 for i in slide_65.obs_names]]\n",
    "slide_65"
   ]
  },
  {
   "cell_type": "code",
   "execution_count": null,
   "id": "8c4ff58f",
   "metadata": {},
   "outputs": [],
   "source": [
    "slide_65.X.toarray()[20:30, 20:30]"
   ]
  },
  {
   "cell_type": "code",
   "execution_count": null,
   "id": "60027901",
   "metadata": {},
   "outputs": [],
   "source": [
    "res = slide_65.concatenate(slide_66, index_unique=None)\n",
    "res"
   ]
  },
  {
   "cell_type": "code",
   "execution_count": null,
   "id": "502226f1",
   "metadata": {},
   "outputs": [],
   "source": [
    "# Calculate QC metrics\n",
    "sc.pp.calculate_qc_metrics(res, inplace=True)"
   ]
  },
  {
   "cell_type": "code",
   "execution_count": null,
   "id": "1937c6bc",
   "metadata": {},
   "outputs": [],
   "source": [
    "fig, axs = plt.subplots(1, 2, figsize=(15, 6.5))\n",
    "sns.histplot(res.obs, x = res.obs[\"total_counts\"], hue = res.obs[\"sample\"], kde=False, ax=axs[0])\n",
    "sns.histplot(res.obs, x = res.obs[\"n_genes_by_counts\"], hue = res.obs[\"sample\"], kde=False, bins=60, ax=axs[1])"
   ]
  },
  {
   "cell_type": "code",
   "execution_count": null,
   "id": "7258719a",
   "metadata": {},
   "outputs": [],
   "source": [
    "res.raw = res.copy()"
   ]
  },
  {
   "cell_type": "code",
   "execution_count": null,
   "id": "d6ef9d70",
   "metadata": {},
   "outputs": [],
   "source": [
    "sc.pp.normalize_total(res, target_sum=1e4, exclude_highly_expressed = True)\n",
    "\n",
    "sc.pp.log1p(res)\n",
    "sc.pp.highly_variable_genes(res, min_mean=0.0125, max_mean=3, min_disp=0.5)\n",
    "res"
   ]
  },
  {
   "cell_type": "code",
   "execution_count": null,
   "id": "42b1fc24",
   "metadata": {},
   "outputs": [],
   "source": [
    "np.max(res.X.toarray())"
   ]
  },
  {
   "cell_type": "code",
   "execution_count": null,
   "id": "94d86fdc",
   "metadata": {},
   "outputs": [],
   "source": [
    "sc.pp.scale(res, max_value=10)\n",
    "sc.tl.pca(res, svd_solver='arpack')\n",
    "sc.pl.pca_variance_ratio(res, log=True)"
   ]
  },
  {
   "cell_type": "code",
   "execution_count": null,
   "id": "fd62d8a4",
   "metadata": {},
   "outputs": [],
   "source": [
    "np.max(res.X)"
   ]
  },
  {
   "cell_type": "code",
   "execution_count": null,
   "id": "81f6ad32",
   "metadata": {},
   "outputs": [],
   "source": [
    "# Re-add spatial info \n",
    "res.uns[\"spatial\"] = dict()\n",
    "library_id = \"joint\"\n",
    "res.uns[\"spatial\"][library_id] = dict()\n",
    "from matplotlib.image import imread\n",
    "\n",
    "res.uns[\"spatial\"][library_id]['images'] = dict()\n",
    "res.uns[\"spatial\"][library_id]['images'][\"hires\"] = imread(\"65_66_tissue_hires_image.png\")\n",
    "import json\n",
    "\n",
    "with open(\"/nfs/team292/vl6/FetalReproductiveTract/VISIUM/data/HCA_F_RepTsp13147665/spatial/scalefactors_json.json\", \"r\") as fid:\n",
    "    res.uns[\"spatial\"][library_id]['scalefactors'] = json.load(fid)\n",
    "\n",
    "import pandas as pd\n",
    "\n",
    "p1 = pd.read_csv(\"65_tissue_positions_list.csv\", header=None)\n",
    "p2 = pd.read_csv(\"66_tissue_positions_list.csv\", header=None)\n",
    "p1.columns = [\n",
    "    'barcode',\n",
    "    'in_tissue',\n",
    "    'array_row',\n",
    "    'array_col',\n",
    "    'pxl_col_in_fullres',\n",
    "    'pxl_row_in_fullres',\n",
    "]\n",
    "\n",
    "p1.index = p1['barcode']\n",
    "\n",
    "p2.columns = [\n",
    "    'barcode',\n",
    "    'in_tissue',\n",
    "    'array_row',\n",
    "    'array_col',\n",
    "    'pxl_col_in_fullres',\n",
    "    'pxl_row_in_fullres',\n",
    "]\n",
    "\n",
    "p2.index = p2['barcode']\n",
    "\n",
    "\n",
    "positions = pd.concat([p1, p2])\n",
    "positions.drop(columns=['in_tissue', 'array_row', 'array_col'],\n",
    "    inplace=True)\n",
    "res.obs['barcode'] = res.obs_names\n",
    "res.obs = res.obs.join(positions, how=\"inner\", on = 'barcode', lsuffix = 'L')\n",
    "res.obsm['spatial'] = res.obs[\n",
    "    ['pxl_row_in_fullres', 'pxl_col_in_fullres']\n",
    "].to_numpy()\n",
    "spatial = res.obsm['spatial'].copy()\n",
    "res.obsm['spatial'][:,0] = spatial[:,1]\n",
    "res.obsm['spatial'][:,1] = spatial[:,0]"
   ]
  },
  {
   "cell_type": "code",
   "execution_count": null,
   "id": "96e16f78",
   "metadata": {},
   "outputs": [],
   "source": [
    "res"
   ]
  },
  {
   "cell_type": "code",
   "execution_count": null,
   "id": "21a40cb7",
   "metadata": {},
   "outputs": [],
   "source": [
    "sc.pp.neighbors(res, n_pcs=12)\n",
    "sc.tl.leiden(res)\n",
    "sc.pl.spatial(res, color=\"leiden\")"
   ]
  },
  {
   "cell_type": "code",
   "execution_count": null,
   "id": "e9098fb8",
   "metadata": {},
   "outputs": [],
   "source": [
    "sc.tl.leiden(res, resolution=0.4)\n",
    "sc.pl.spatial(res, color=\"leiden\")"
   ]
  },
  {
   "cell_type": "code",
   "execution_count": null,
   "id": "73713c4c",
   "metadata": {},
   "outputs": [],
   "source": [
    "sc.pl.spatial(res, color=['PAX8', 'DAPL1', 'DLX5', 'UCA1', 'LGR5', 'MSX1', 'ITGA4', 'MYH11', 'DLK1', \n",
    "                            'C7', 'PTGER3', 'ALAS2', 'LYVE1', 'SRD5A2', 'KRT5', 'TP63',\n",
    "                         'SIX1', 'WIF1', 'IGF1', 'PDE5A', 'NELL2', 'GLI1', 'PTCH1', 'BMP7', 'CD24', 'CXCL14', 'HES4', 'HES1', 'IGFBP5'], gene_symbols = 'SYMBOL', ncols = 2, use_raw = False,\n",
    "             cmap = 'jet')"
   ]
  },
  {
   "cell_type": "code",
   "execution_count": null,
   "id": "bb73f2a9",
   "metadata": {},
   "outputs": [],
   "source": [
    "sc.pl.pca(res, color = 'sample')"
   ]
  },
  {
   "cell_type": "code",
   "execution_count": null,
   "id": "20ed9833",
   "metadata": {},
   "outputs": [],
   "source": [
    "sc.pl.pca(res, color = 'leiden')"
   ]
  },
  {
   "cell_type": "code",
   "execution_count": null,
   "id": "7b73490d",
   "metadata": {},
   "outputs": [],
   "source": [
    "res.write('/lustre/scratch126/cellgen/team292/vl6/VISIUM/HCA_F_RepTsp13147665_HCA_F_RepTsp13147666/HCA_F_RepTsp13147665_HCA_F_RepTsp13147666_visium.h5ad')"
   ]
  },
  {
   "cell_type": "code",
   "execution_count": null,
   "id": "3a2f0d01",
   "metadata": {},
   "outputs": [],
   "source": [
    "sc.pl.spatial(res, color=['KRT5', 'GATA3', 'TP63', 'KRT14','SNX31', 'SPINK1', 'UCA1', 'LGR5', 'PITX2','ZG16B', 'GJB2', \n",
    "                            'TP63', 'HOXB13', 'ISL1', 'SRD5A2', 'SFRP5',\n",
    "                         'GAP43', 'WIF1', 'GNG4', 'GNG3', 'NT5E', 'CRYM', 'LY6G6D', 'HCAR2', 'CPA6', 'KRT19', 'ISL1', 'HOXA13', 'AR', \n",
    "                         'FGF7', 'FGF10', 'SFRP1', 'CRABP1', 'DKK2', 'BMP4', 'CXCL16', 'RSPO1', \n",
    "                         'RSPO3', 'AXIN2', 'HES1', 'DLL3', 'MFNG', 'PSEN1',\n",
    "                         'NOTCH1', 'NOTCH2', 'NOTCH3'], gene_symbols = 'SYMBOL', ncols = 2, use_raw = False,\n",
    "             cmap = 'jet')"
   ]
  },
  {
   "cell_type": "code",
   "execution_count": null,
   "id": "679dbdd8",
   "metadata": {},
   "outputs": [],
   "source": []
  },
  {
   "cell_type": "code",
   "execution_count": null,
   "id": "e61366a4",
   "metadata": {},
   "outputs": [],
   "source": []
  }
 ],
 "metadata": {
  "kernelspec": {
   "display_name": "imagespot",
   "language": "python",
   "name": "imagespot"
  },
  "language_info": {
   "codemirror_mode": {
    "name": "ipython",
    "version": 3
   },
   "file_extension": ".py",
   "mimetype": "text/x-python",
   "name": "python",
   "nbconvert_exporter": "python",
   "pygments_lexer": "ipython3",
   "version": "3.9.13"
  }
 },
 "nbformat": 4,
 "nbformat_minor": 5
}
