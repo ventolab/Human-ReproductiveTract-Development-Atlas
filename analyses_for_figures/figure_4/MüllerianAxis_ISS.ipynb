{
 "cells": [
  {
   "cell_type": "code",
   "execution_count": null,
   "id": "448c393b",
   "metadata": {},
   "outputs": [],
   "source": [
    "import scanpy as sc\n",
    "import anndata as ad\n",
    "import numpy as np\n",
    "import pandas as pd\n",
    "import matplotlib.pyplot as plt2\n",
    "import seaborn as sns\n",
    "import matplotlib as mpl\n",
    "# import warnings\n",
    "# warnings.filterwarnings(\"ignore\")\n",
    "import os\n",
    "import skimage\n",
    "from skimage import data, segmentation, feature, future\n",
    "from sklearn.ensemble import RandomForestClassifier\n",
    "from functools import partial\n",
    "import squidpy as sq\n",
    "from PIL import Image\n",
    "from PIL.TiffTags import TAGS\n",
    "from skimage import io\n",
    "import tifffile as tf\n",
    "import scipy\n",
    "print(skimage.__version__) # make sure version is 0.19.2\n",
    "# from cellpose import plot\n",
    "# from cellpose import models # my modfied code \n",
    "# from cellpose import io\n",
    "#import cv2\n",
    "import matplotlib.pyplot as plt"
   ]
  },
  {
   "cell_type": "markdown",
   "id": "a3d2df01",
   "metadata": {},
   "source": [
    "## 1. Load relevant ISS samples with deconvoluted cell types"
   ]
  },
  {
   "cell_type": "code",
   "execution_count": null,
   "id": "a92a0ab2",
   "metadata": {},
   "outputs": [],
   "source": [
    "CM008 = sc.read('/nfs/team292/vl6/FetalReproductiveTract/ISS/CM008_annotated.h5ad')\n",
    "CM008"
   ]
  },
  {
   "cell_type": "code",
   "execution_count": null,
   "id": "53b50a2b",
   "metadata": {},
   "outputs": [],
   "source": [
    "CM008.obs.head()"
   ]
  },
  {
   "cell_type": "code",
   "execution_count": null,
   "id": "8c7458a6",
   "metadata": {},
   "outputs": [],
   "source": [
    "CM015 = sc.read('/nfs/team292/vl6/FetalReproductiveTract/ISS/CM015_annotated.h5ad')\n",
    "CM015"
   ]
  },
  {
   "cell_type": "code",
   "execution_count": null,
   "id": "f8fef02d",
   "metadata": {},
   "outputs": [],
   "source": [
    "CM015.obs.head()"
   ]
  },
  {
   "cell_type": "code",
   "execution_count": null,
   "id": "2d301cb2",
   "metadata": {},
   "outputs": [],
   "source": [
    "CM016 = sc.read('/nfs/team292/vl6/FetalReproductiveTract/ISS/CM016_annotated.h5ad')\n",
    "CM016"
   ]
  },
  {
   "cell_type": "code",
   "execution_count": null,
   "id": "a5abe37d",
   "metadata": {},
   "outputs": [],
   "source": [
    "CM016.obs.head()"
   ]
  },
  {
   "cell_type": "code",
   "execution_count": null,
   "id": "addafa01",
   "metadata": {},
   "outputs": [],
   "source": [
    "CM013 = sc.read('/nfs/team292/vl6/FetalReproductiveTract/ISS/CM013_annotated.h5ad')\n",
    "CM013"
   ]
  },
  {
   "cell_type": "code",
   "execution_count": null,
   "id": "a31dc4c3",
   "metadata": {},
   "outputs": [],
   "source": [
    "CM013.obs.head()"
   ]
  },
  {
   "cell_type": "code",
   "execution_count": null,
   "id": "afd114d1",
   "metadata": {},
   "outputs": [],
   "source": [
    "## Import annotations \n",
    "\n",
    "annots = pd.read_csv('/nfs/team292/vl6/FetalReproductiveTract/ISS/female_post10pcw_ISS_deconvolution.csv', index_col = 0)\n",
    "annots.head()"
   ]
  },
  {
   "cell_type": "code",
   "execution_count": null,
   "id": "62a9328e",
   "metadata": {},
   "outputs": [],
   "source": [
    "def add_celltype(adata_iss, rename, sample_name, annots):\n",
    "    if rename:\n",
    "        adata_iss.obs_names = [sample_name + '_' + i for i in adata_iss.obs_names.to_list()]\n",
    "    adata_iss.obs['celltype'] = adata_iss.obs_names.map(annots['celltype'].to_dict())\n",
    "    adata_iss.obs['celltype_fraction'] = adata_iss.obs_names.map(annots['celltype_fraction'].to_dict())\n",
    "    return adata_iss"
   ]
  },
  {
   "cell_type": "code",
   "execution_count": null,
   "id": "5a926443",
   "metadata": {},
   "outputs": [],
   "source": [
    "CM008 = add_celltype(CM008, rename = True, sample_name = 'CM008', annots = annots)"
   ]
  },
  {
   "cell_type": "code",
   "execution_count": null,
   "id": "e1799c07",
   "metadata": {},
   "outputs": [],
   "source": [
    "CM008.obs.head()"
   ]
  },
  {
   "cell_type": "code",
   "execution_count": null,
   "id": "1d1f151e",
   "metadata": {},
   "outputs": [],
   "source": [
    "sq.pl.spatial_scatter(\n",
    "    CM008,\n",
    "    spatial_key=\"spatial\",\n",
    "    color=['celltype'],\n",
    "    shape=None,\n",
    "    use_raw = False,\n",
    "    size=20,\n",
    "    cmap = 'jet',\n",
    "    figsize=(10,10),\n",
    ")"
   ]
  },
  {
   "cell_type": "code",
   "execution_count": null,
   "id": "0f3afa36",
   "metadata": {},
   "outputs": [],
   "source": [
    "sq.pl.spatial_scatter(\n",
    "    CM008,\n",
    "    spatial_key=\"spatial\",\n",
    "    color=['celltype_fraction'],\n",
    "    shape=None,\n",
    "    use_raw = False,\n",
    "    size=20,\n",
    "    cmap = 'jet',\n",
    "    figsize=(10,10),\n",
    ")"
   ]
  },
  {
   "cell_type": "code",
   "execution_count": null,
   "id": "f91f9607",
   "metadata": {},
   "outputs": [],
   "source": [
    "CM015 = add_celltype(CM015, rename = True, sample_name = 'CM015', annots = annots)"
   ]
  },
  {
   "cell_type": "code",
   "execution_count": null,
   "id": "a23bb888",
   "metadata": {},
   "outputs": [],
   "source": [
    "sq.pl.spatial_scatter(\n",
    "    CM015,\n",
    "    spatial_key=\"spatial\",\n",
    "    color=['celltype_fraction'],\n",
    "    shape=None,\n",
    "    use_raw = False,\n",
    "    size=20,\n",
    "    cmap = 'jet',\n",
    "    figsize=(10,10),\n",
    ")"
   ]
  },
  {
   "cell_type": "code",
   "execution_count": null,
   "id": "e53423c3",
   "metadata": {},
   "outputs": [],
   "source": [
    "CM016 = add_celltype(CM016, rename = True, sample_name = 'CM016', annots = annots)"
   ]
  },
  {
   "cell_type": "code",
   "execution_count": null,
   "id": "32e9bf9d",
   "metadata": {},
   "outputs": [],
   "source": [
    "sq.pl.spatial_scatter(\n",
    "    CM016,\n",
    "    spatial_key=\"spatial\",\n",
    "    color=['celltype_fraction'],\n",
    "    shape=None,\n",
    "    use_raw = False,\n",
    "    size=20,\n",
    "    cmap = 'jet',\n",
    "    figsize=(10,10),\n",
    ")"
   ]
  },
  {
   "cell_type": "code",
   "execution_count": null,
   "id": "1ff2b1bf",
   "metadata": {},
   "outputs": [],
   "source": [
    "CM013 = add_celltype(CM013, rename = True, sample_name = 'CM013', annots = annots)"
   ]
  },
  {
   "cell_type": "code",
   "execution_count": null,
   "id": "cf929813",
   "metadata": {},
   "outputs": [],
   "source": [
    "sq.pl.spatial_scatter(\n",
    "    CM013,\n",
    "    spatial_key=\"spatial\",\n",
    "    color=['celltype_fraction'],\n",
    "    shape=None,\n",
    "    use_raw = False,\n",
    "    size=20,\n",
    "    cmap = 'jet',\n",
    "    figsize=(10,10),\n",
    ")"
   ]
  },
  {
   "cell_type": "code",
   "execution_count": null,
   "id": "5d99cd09",
   "metadata": {},
   "outputs": [],
   "source": [
    "def transpose_axis(orig_axis, new_start, new_end):\n",
    "\n",
    "    # Apply linear transformation\n",
    "    dest_axis = ((orig_axis - (-1)) / (1 - (-1))) * (new_end - new_start) + new_start\n",
    "    \n",
    "    return dest_axis\n"
   ]
  },
  {
   "cell_type": "markdown",
   "id": "3db83c32",
   "metadata": {},
   "source": [
    "## 2. Compute uterovaginal axis"
   ]
  },
  {
   "cell_type": "code",
   "execution_count": null,
   "id": "76b2a201",
   "metadata": {},
   "outputs": [],
   "source": [
    "def build_uterovaginal_axis(adata, sample, min_fract, which_axis,\n",
    "                            start_feature_segment1, end_feature_segment1, \n",
    "                            start_feature_segment2 = None, end_feature_segment2 = None, \n",
    "                            start_weight_segment1 = 1, end_weight_segment1 = 1,\n",
    "                            start_weight_segment2 = 1, end_weight_segment2 = 1,\n",
    "                            excluded_regions = ['UterusTransverse', 'Ovary', 'Epoophron', 'VaginalPlate',\n",
    "                                                'Unassigned', 'FallopianTube', 'LowerTract', \n",
    "                                               'Unassigned', 'Background'], is_stitched = False, sample1 = None, sample2 = None):\n",
    "    \n",
    "    print('Is the sample stitched? {}'.format(is_stitched))\n",
    "    \n",
    "    if not is_stitched:\n",
    "        \n",
    "        # Select slide from spatial anndata object\n",
    "        #adata_sample = select_slide(adata, sample, batch_key = 'sample')\n",
    "        adata_sample = adata.copy()\n",
    "        \n",
    "        # Remove excluded regions \n",
    "        adata_sample = adata_sample[[i not in excluded_regions for i in adata_sample.obs['broad_anatomy']]]\n",
    "        print(adata_sample.shape)\n",
    "        adata_sample = adata_sample[[i > min_fract for i in adata_sample.obs['celltype_fraction']]]\n",
    "        print(adata_sample.shape)\n",
    "        \n",
    "        if which_axis == 'uterocervical':\n",
    "            print('Building uterocervical axis for sample {} from {} to {}'.format(sample, start_feature_segment1, \n",
    "                             end_feature_segment1))\n",
    "        \n",
    "            # Build uterocervical axis (first segment from uterine fundus to uterine bottom)\n",
    "            df1 = adata_sample.obs[['L2_dist_longitudinal_anatomy_annots_' + start_feature_segment1, 'L2_dist_longitudinal_anatomy_annots_' + end_feature_segment1, \n",
    "               'broad_anatomy_annots', 'histology_annots']]\n",
    "            print(df1.head())\n",
    "            df1.dropna(inplace=True)\n",
    "            uterovaginal_axis_segment1 = [( start_weight_segment1*int(s) - end_weight_segment1*int(e) ) / ( start_weight_segment1*int(s) + end_weight_segment1*int(e) ) for s,e in zip(df1['L2_dist_longitudinal_anatomy_annots_' + start_feature_segment1], df1['L2_dist_longitudinal_anatomy_annots_' + end_feature_segment1])]\n",
    "        \n",
    "            df1['UteroCervical_Axis'] = uterovaginal_axis_segment1\n",
    "            print(df1['UteroCervical_Axis'].hist(bins=20))\n",
    "        \n",
    "            # Add uterocervical axis to slide \n",
    "            adata_sample.obs['UteroCervical_Axis'] = adata_sample.obs_names.map(df1['UteroCervical_Axis'].to_dict())\n",
    "            sc.pl.spatial(adata_sample[[i in ['Epithelium', 'Mesenchyme', \n",
    "                                          'SmoothMuscle', 'Ligament'] for i in adata_sample.obs['histology_annots']]],\n",
    "                                      color=\"UteroCervical_Axis\", title = 'UteroCervical Axis', cmap = 'jet')\n",
    "            \n",
    "        elif which_axis == 'uterovaginal':\n",
    "            print('Building uterovaginal axis for sample {} from {} to {}'.format(sample, start_feature_segment1, \n",
    "                            end_feature_segment1))\n",
    "            \n",
    "            # Build uterocervical axis (first segment from uterine fundus to uterine bottom)\n",
    "            df1 = adata_sample.obs[['L2_dist_longitudinal_anatomy_' + start_feature_segment1, 'L2_dist_longitudinal_anatomy_' + end_feature_segment1, \n",
    "               'broad_anatomy']]\n",
    "            df1.dropna(inplace=True)\n",
    "            uterovaginal_axis_segment1 = [( start_weight_segment1*int(s) - end_weight_segment1*int(e) ) / ( start_weight_segment1*int(s) + end_weight_segment1*int(e) ) for s,e in zip(df1['L2_dist_longitudinal_anatomy_' + start_feature_segment1], df1['L2_dist_longitudinal_anatomy_' + end_feature_segment1])]\n",
    "        \n",
    "            df1['UteroVaginal_Axis'] = uterovaginal_axis_segment1\n",
    "            print(df1['UteroVaginal_Axis'].hist(bins=20))\n",
    "            df1['UteroVaginal_Axis_forPlotting'] = transpose_axis(df1['UteroVaginal_Axis'], 0, 4)\n",
    "        \n",
    "            # Add uterocervical axis to slide \n",
    "            adata_sample.obs['UteroVaginal_Axis'] = adata_sample.obs_names.map(df1['UteroVaginal_Axis'].to_dict())\n",
    "            adata_sample.obs['UteroVaginal_Axis_forPlotting'] = adata_sample.obs_names.map(df1['UteroVaginal_Axis_forPlotting'].to_dict())\n",
    "            sq.pl.spatial_scatter(adata_sample, \n",
    "                          spatial_key=\"spatial\",\n",
    "                    color=['UteroVaginal_Axis_forPlotting'],\n",
    "                    shape=None,\n",
    "                    use_raw = False,\n",
    "                    size=20,\n",
    "                        cmap = 'jet',\n",
    "                    figsize=(10,10),)\n",
    "\n",
    "        \n",
    "        \n",
    "        return adata_sample \n",
    "    \n",
    "    else: \n",
    "        \n",
    "        \n",
    "        # Read stitched sample directly \n",
    "        adata_stitched = sc.read(path_to_reptract + sample1 + '_' + sample2 + '/' + sample1 + '_' + sample2 + '_annotated.h5ad')\n",
    "        \n",
    "        # Add a prefix to the distances computed on the joint object \n",
    "        for col in adata_stitched.obs.columns:\n",
    "            if start_feature_segment2 != None:\n",
    "                if col in [ 'L2_dist_longitudinal_anatomy_' + start_feature_segment1, \n",
    "                       'L2_dist_longitudinal_anatomy_' + end_feature_segment1, \n",
    "                       'L2_dist_longitudinal_anatomy_' + start_feature_segment2,\n",
    "                       'L2_dist_longitudinal_anatomy_' + end_feature_segment2,\n",
    "                       'broad_anatomy_annots', 'longitudinal_anatomy']:\n",
    "                    adata_stitched.obs.rename(columns={col : 'joint_' + col}, inplace = True)\n",
    "            else:\n",
    "                if col in [ 'L2_dist_longitudinal_anatomy_' + start_feature_segment1, \n",
    "                       'L2_dist_longitudinal_anatomy_' + end_feature_segment1, \n",
    "                       'broad_anatomy_annots', 'longitudinal_anatomy']:\n",
    "                    adata_stitched.obs.rename(columns={col : 'joint_' + col}, inplace = True)\n",
    "                \n",
    "        # Concatenate \n",
    "        adata_separate = select_slide(adata, sample1, batch_key = 'sample').concatenate(select_slide(adata, sample2, batch_key = 'sample'), index_unique = None)\n",
    "        adata_separate = adata_separate[[i > min_cells for i in adata_separate.obs['tot_cell_abundance']]]\n",
    "        \n",
    "        # Import distances \n",
    "        for col in adata_stitched.obs.columns:\n",
    "            if col.startswith('joint') or col == 'overlaps_with':\n",
    "                adata_separate.obs[col] = adata_separate.obs_names.map(adata_stitched.obs[col].to_dict())\n",
    "            \n",
    "        # Create a dictionary mapping the index of the missing value to the index of the replacement value\n",
    "        replacement_dict = adata_separate.obs['overlaps_with'].dropna().to_dict()\n",
    "        replacement_dict = {v:k for k,v in replacement_dict.items()}\n",
    "        \n",
    "        to_remove = []\n",
    "        for col in adata_separate.obs.columns:\n",
    "            if col.startswith('joint'):\n",
    "                for spot_id in adata_separate.obs_names:\n",
    "                    value = adata_separate.obs.at[spot_id, col]\n",
    "                    if isinstance(value, (float, np.float64)) and np.isnan(value):\n",
    "                        if spot_id in list(replacement_dict.keys()):\n",
    "                            overlapping_spot = replacement_dict[spot_id]\n",
    "                            if overlapping_spot in adata_separate.obs_names:\n",
    "                                adata_separate.obs.at[spot_id, col] = adata_separate.obs.at[overlapping_spot, col]\n",
    "                        elif spot_id not in list(replacement_dict.keys()):\n",
    "                            to_remove.append(spot_id)\n",
    "        remove = list(np.unique(to_remove))\n",
    "        \n",
    "        # create a boolean mask of the observations to keep\n",
    "        mask = ~adata_separate.obs_names.isin(remove)\n",
    "\n",
    "        # select only the rows that match the mask\n",
    "        adata_separate = adata_separate[mask] \n",
    "        \n",
    "        adata_separate = adata_separate[[i not in excluded_regions for i in adata_separate.obs['broad_anatomy_annots']]]\n",
    "\n",
    "        \n",
    "        if which_axis == 'uterocervical':\n",
    "            print('Building uterocervical axis for samples {} and {} from {} to {}'.format(sample1, sample2, start_feature_segment1, \n",
    "                             end_feature_segment1))\n",
    "            \n",
    "\n",
    "        \n",
    "            # Build uterocervical axis (first segment from uterine fundus to uterine bottom)\n",
    "            df1 = adata_separate.obs[['joint_L2_dist_longitudinal_anatomy_' + start_feature_segment1, 'joint_L2_dist_longitudinal_anatomy_' + end_feature_segment1, \n",
    "               'broad_anatomy_annots', 'histology_annots', 'joint_longitudinal_anatomy']]\n",
    "            df1.dropna(inplace=True)\n",
    "            uterovaginal_axis_segment1 = [( start_weight_segment1*int(s) - end_weight_segment1*int(e) ) / ( start_weight_segment1*int(s) + end_weight_segment1*int(e) ) for s,e in zip(df1['joint_L2_dist_longitudinal_anatomy_' + start_feature_segment1], df1['joint_L2_dist_longitudinal_anatomy_' + end_feature_segment1])]\n",
    "        \n",
    "            df1['UteroCervical_Axis'] = uterovaginal_axis_segment1\n",
    "            print(df1['UteroCervical_Axis'].hist(bins=20, color = 'navy'))\n",
    "        \n",
    "            # Add uterocervical axis to slide \n",
    "            adata_separate.obs['UteroCervical_Axis'] = adata_separate.obs_names.map(df1['UteroCervical_Axis'].to_dict())\n",
    "            \n",
    "        elif which_axis == 'uterovaginal':\n",
    "            print('Building uterovaginal axis for samples {} and {} from {} to {}'.format(sample1, sample2, start_feature_segment1, \n",
    "                            end_feature_segment2))\n",
    "        \n",
    "            # Build cervicovaginal axis (second segment from uterine fundus to lower tract)\n",
    "            df2 = adata_separate.obs[['joint_L2_dist_longitudinal_anatomy_' + start_feature_segment1, 'joint_L2_dist_longitudinal_anatomy_' + end_feature_segment2, \n",
    "                   'broad_anatomy_annots', 'histology_annots', 'joint_longitudinal_anatomy']]\n",
    "            print(df2.head())\n",
    "            df2.dropna(inplace=True)\n",
    "            uterovaginal_axis = [( start_weight_segment1*int(s) - end_weight_segment2*int(e) ) / ( start_weight_segment1*int(s) + end_weight_segment2*int(e) ) for s,e in zip(df2['joint_L2_dist_longitudinal_anatomy_' + start_feature_segment1], df2['joint_L2_dist_longitudinal_anatomy_' + end_feature_segment2])]\n",
    "\n",
    "            df2['UteroVaginal_Axis'] = uterovaginal_axis\n",
    "            plt.figure(figsize=(10, 5))  # Set the figure size\n",
    "            plt.subplot(1, 2, 1)\n",
    "            plt.hist(df2['UteroVaginal_Axis'], bins=20, alpha=0.7, color='blue', label='UteroVaginal_Axis')\n",
    "            adata_separate.obs['UteroVaginal_Axis'] = adata_separate.obs_names.map(df2['UteroVaginal_Axis'].to_dict())\n",
    "\n",
    "            # Recode uterovaginal axis so that 'UterineBottom' is found at position +1\n",
    "            # Find the mean coordinate along the uterovaginal axis where the longitudinal anatomical annotation is uterine bottom \n",
    "            mean_coordinate_uterinebottom = df2.loc[df2['joint_longitudinal_anatomy'] == 'UterineBottom', 'UteroVaginal_Axis'].mean()\n",
    "            print(mean_coordinate_uterinebottom)\n",
    "            \n",
    "            b = (1-mean_coordinate_uterinebottom)/(1+mean_coordinate_uterinebottom)\n",
    "            a = b+1\n",
    "            df2['UteroVaginal_Axis_Recoded'] = a * df2['UteroVaginal_Axis'] + b\n",
    "            plt.subplot(1, 2, 2)\n",
    "            plt.hist(df2['UteroVaginal_Axis_Recoded'], bins=20, alpha=0.7, color='blue', label='UteroVaginal_Axis_Recoded')\n",
    "            plt.tight_layout()  # Adjust layout to prevent overlapping\n",
    "            plt.show()\n",
    "            # Add cervicovaginal axis to slide \n",
    "            adata_separate.obs['UteroVaginal_Axis_Recoded'] = adata_separate.obs_names.map(df2['UteroVaginal_Axis_Recoded'].to_dict())\n",
    "            \n",
    "#             df2['UteroVaginal_Axis_Recoded'] = transpose_axis(df2['UteroVaginal_Axis'], -1, 1)\n",
    "#             adata_separate.obs['UteroVaginal_Axis_Recoded'] = adata_separate.obs_names.map(df2['UteroVaginal_Axis_Recoded'].to_dict())\n",
    "            \n",
    "        \n",
    "#         df = adata_separate.obs[['joint_L2_dist_longitudinal_anatomy_annots_' + start_feature, 'joint_L2_dist_longitudinal_anatomy_annots_' + end_feature, \n",
    "#                'joint_broad_anatomy_annots']]\n",
    "        #print(df.head())\n",
    "#         uterovaginal_axis = [( start_weight*int(s) - end_weight*int(e) ) / ( start_weight*int(s) + end_weight*int(e) ) for s,e in zip(df['joint_L2_dist_longitudinal_anatomy_annots_' + start_feature], df['joint_L2_dist_longitudinal_anatomy_annots_' + end_feature])]\n",
    "#         df['UteroVaginal_Axis'] = uterovaginal_axis\n",
    "        \n",
    "#         print(df['UteroVaginal_Axis'].hist(bins=20))\n",
    "        \n",
    "        # Add axis to slide \n",
    "#         adata_separate.obs['UteroVaginal_Axis'] = adata_separate.obs_names.map(df['UteroVaginal_Axis'].to_dict())\n",
    "        return adata_separate.obs\n",
    "        \n"
   ]
  },
  {
   "cell_type": "code",
   "execution_count": null,
   "id": "781e5c34",
   "metadata": {},
   "outputs": [],
   "source": [
    "sc.set_figure_params(scanpy=True, dpi=80, dpi_save=150, frameon=True, vector_friendly=True, \n",
    "                         fontsize=14, figsize=(10, 10), color_map=None, format='pdf', facecolor=None, transparent=False)"
   ]
  },
  {
   "cell_type": "code",
   "execution_count": null,
   "id": "6a829e1f",
   "metadata": {
    "scrolled": true
   },
   "outputs": [],
   "source": [
    "CM008_axis = build_uterovaginal_axis(CM008, sample = 'CM008', min_fract = 0.4, which_axis = 'uterovaginal',\n",
    "                                                 start_feature_segment1 = 'UterineFundus', end_feature_segment1 = 'EndodermalVaginalStart', \n",
    "                                                 )"
   ]
  },
  {
   "cell_type": "code",
   "execution_count": null,
   "id": "cbf56cf6",
   "metadata": {},
   "outputs": [],
   "source": [
    "CM016_axis = build_uterovaginal_axis(CM016, sample = 'CM016', min_fract = 0.4, which_axis = 'uterovaginal',\n",
    "                                                 start_feature_segment1 = 'UterineFundus', end_feature_segment1 = 'EndodermalVaginalStart', \n",
    "                                                 )"
   ]
  },
  {
   "cell_type": "code",
   "execution_count": null,
   "id": "b98e0828",
   "metadata": {},
   "outputs": [],
   "source": [
    "CM013_axis_uv = build_uterovaginal_axis(CM013, sample = 'CM016', min_fract = 0.4, which_axis = 'uterovaginal',\n",
    "                                                 start_feature_segment1 = 'UterineFundus', end_feature_segment1 = 'EndodermalVaginalStart', \n",
    "                                                 )"
   ]
  },
  {
   "cell_type": "code",
   "execution_count": null,
   "id": "a6c937d7",
   "metadata": {},
   "outputs": [],
   "source": [
    "for sample in [CM016_axis, CM008_axis, CM013_axis_uv]:\n",
    "    sample.obs['FemaleReproductiveAxis'] = sample.obs['UteroVaginal_Axis_forPlotting']"
   ]
  },
  {
   "cell_type": "code",
   "execution_count": null,
   "id": "d6830887",
   "metadata": {},
   "outputs": [],
   "source": [
    "#CM016_axis.obs_names = ['CM016_' + i for i in CM016_axis.obs_names.to_list()]\n",
    "CM016_axis.obs.head()"
   ]
  },
  {
   "cell_type": "code",
   "execution_count": null,
   "id": "f3295d5e",
   "metadata": {},
   "outputs": [],
   "source": [
    "#CM008_axis.obs_names = ['CM008_' + i for i in CM008_axis.obs_names.to_list()]\n",
    "CM008_axis.obs.head()"
   ]
  },
  {
   "cell_type": "code",
   "execution_count": null,
   "id": "f338a78f",
   "metadata": {},
   "outputs": [],
   "source": [
    "CM013_axis_uv.obs.head()"
   ]
  },
  {
   "cell_type": "code",
   "execution_count": null,
   "id": "57ca7b78",
   "metadata": {},
   "outputs": [],
   "source": [
    "def combine_axis(samples, axis_name, return_adata = False):\n",
    "    \n",
    "    # Merge anndata objects\n",
    "    adata_all = samples[0].concatenate(samples[1:], index_unique = None)\n",
    "    \n",
    "    # Remove spots that don't have a value for the axis \n",
    "    adata_all_obs = adata_all.obs\n",
    "    adata_all_obs = adata_all_obs[adata_all_obs[axis_name].notna()]\n",
    "    adata_all = adata_all[adata_all_obs.index.to_list(), :]\n",
    "    \n",
    "    if return_adata:\n",
    "        return adata_all\n",
    "    else:\n",
    "        return adata_all_obs"
   ]
  },
  {
   "cell_type": "code",
   "execution_count": null,
   "id": "fd6627b9",
   "metadata": {},
   "outputs": [],
   "source": [
    "uterovaginal_axis = combine_axis(samples = [\n",
    "                                           CM016_axis, CM008_axis, CM013_axis_uv\n",
    "                                           ], \n",
    "                                axis_name = 'FemaleReproductiveAxis', return_adata = True)"
   ]
  },
  {
   "cell_type": "code",
   "execution_count": null,
   "id": "395c4f4c",
   "metadata": {},
   "outputs": [],
   "source": [
    "uterovaginal_axis.obs.head()"
   ]
  },
  {
   "cell_type": "markdown",
   "id": "d600a4a3",
   "metadata": {},
   "source": [
    "## 3. Compute fallopian axis"
   ]
  },
  {
   "cell_type": "code",
   "execution_count": null,
   "id": "428adc50",
   "metadata": {},
   "outputs": [],
   "source": [
    "def build_fallopian_axis(adata, sample, min_fract, start_feature, end_feature, start_weight = 1, end_weight = 1,\n",
    "                         excluded_regions = ['TransverseUterus', 'VaginalPlate', 'Unassigned', 'Uterus', 'Ovary', \n",
    "                                            'Epoophron', 'Background', \n",
    "                                            'UpperVagina', 'Cervix', 'LowerTract'], is_stitched = False, sample1 = None, sample2 = None):\n",
    "    \n",
    "    print('Is the sample stitched? {}'.format(is_stitched))\n",
    "    \n",
    "    if not is_stitched:\n",
    "        \n",
    "        print('Building uterovaginal axis for sample {} from {} (weight: {}) to {} (weight: {})'.format(sample, start_feature, \n",
    "                            start_weight, end_feature, end_weight))\n",
    "        \n",
    "        # Select slide from spatial anndata object\n",
    "        #adata_sample = select_slide(adata, sample, batch_key = 'sample')\n",
    "        adata_sample = adata.copy()\n",
    "        \n",
    "        # Remove excluded regions \n",
    "        adata_sample = adata_sample[[i not in excluded_regions for i in adata_sample.obs['broad_anatomy']]]\n",
    "        adata_sample = adata_sample[[i > min_fract for i in adata_sample.obs['celltype_fraction']]]\n",
    "            \n",
    "        # Build axis \n",
    "        df = adata_sample.obs[['L2_dist_longitudinal_anatomy_' + start_feature, 'L2_dist_longitudinal_anatomy_' + end_feature, \n",
    "               'broad_anatomy']]\n",
    "        print(df.head())\n",
    "        print(df['L2_dist_longitudinal_anatomy_' + start_feature].isna().value_counts())\n",
    "        fallopian_axis = [( start_weight*int(s) - end_weight*int(e) ) / ( start_weight*int(s) + end_weight*int(e) ) for s,e in zip(df['L2_dist_longitudinal_anatomy_' + start_feature], df['L2_dist_longitudinal_anatomy_' + end_feature])]\n",
    "        df['Fallopian_Axis'] = fallopian_axis\n",
    "        print(df['Fallopian_Axis'].hist(bins=20))\n",
    "        df['Fallopian_Axis_forPlotting'] = transpose_axis(df['Fallopian_Axis'], -2, 0)\n",
    "        \n",
    "        # Add fallopian axis to slide \n",
    "        adata_sample.obs['Fallopian_Axis'] = adata_sample.obs_names.map(df['Fallopian_Axis'].to_dict())\n",
    "        adata_sample.obs['Fallopian_Axis_forPlotting'] = adata_sample.obs_names.map(df['Fallopian_Axis_forPlotting'].to_dict())\n",
    "        \n",
    "        sq.pl.spatial_scatter(adata_sample, \n",
    "                          spatial_key=\"spatial\",\n",
    "                    color=['Fallopian_Axis_forPlotting'],\n",
    "                    shape=None,\n",
    "                    use_raw = False,\n",
    "                    size=20,\n",
    "                        cmap = 'jet',\n",
    "                    figsize=(10,10),)\n",
    "        \n",
    "        return adata_sample \n",
    "    \n",
    "    else: \n",
    "        \n",
    "        print('Building uterovaginal axis for samples {} and {} from {} (weight: {}) to {} (weight: {})'.format(sample1, sample2, start_feature, \n",
    "                            start_weight, end_feature, end_weight))\n",
    "        \n",
    "        # Read stitched sample directly \n",
    "        adata_stitched = sc.read(path_to_reptract + sample1 + '_' + sample2 + '/' + sample1 + '_' + sample2 + '_annotated.h5ad')\n",
    "        \n",
    "        # Add a prefix to the distances computed on the joint object \n",
    "        for col in adata_stitched.obs.columns:\n",
    "            if col in [ 'L2_dist_longitudinal_anatomy_annots_' + start_feature, 'L2_dist_longitudinal_anatomy_annots_' + end_feature, 'broad_anatomy_annots']:\n",
    "                adata_stitched.obs.rename(columns={col : 'joint_' + col}, inplace = True)\n",
    "                \n",
    "        # Concatenate \n",
    "        adata_separate = select_slide(adata, sample1, batch_key = 'sample').concatenate(select_slide(adata, sample2, batch_key = 'sample'), index_unique = None)\n",
    "        adata_separate = adata_separate[[i > min_cells for i in adata_separate.obs['tot_cell_abundance']]]\n",
    "        \n",
    "        # Import distances \n",
    "        for col in adata_stitched.obs.columns:\n",
    "            if col.startswith('joint') or col == 'overlaps_with':\n",
    "                adata_separate.obs[col] = adata_separate.obs_names.map(adata_stitched.obs[col].to_dict())\n",
    "            \n",
    "        # Create a dictionary mapping the index of the missing value to the index of the replacement value\n",
    "        replacement_dict = adata_separate.obs['overlaps_with'].dropna().to_dict()\n",
    "        replacement_dict = {v:k for k,v in replacement_dict.items()}\n",
    "        \n",
    "        to_remove = []\n",
    "        for col in adata_separate.obs.columns:\n",
    "            if col.startswith('joint'):\n",
    "                for spot_id in adata_separate.obs_names:\n",
    "                    value = adata_separate.obs.at[spot_id, col]\n",
    "                    if isinstance(value, (float, np.float64)) and np.isnan(value):\n",
    "                        if spot_id in list(replacement_dict.keys()):\n",
    "                            overlapping_spot = replacement_dict[spot_id]\n",
    "                            if overlapping_spot in adata_separate.obs_names:\n",
    "                                adata_separate.obs.at[spot_id, col] = adata_separate.obs.at[overlapping_spot, col]\n",
    "                        elif spot_id not in list(replacement_dict.keys()):\n",
    "                            to_remove.append(spot_id)\n",
    "        remove = list(np.unique(to_remove))\n",
    "        \n",
    "        # create a boolean mask of the observations to keep\n",
    "        mask = ~adata_separate.obs_names.isin(remove)\n",
    "\n",
    "        # select only the rows that match the mask\n",
    "        adata_separate = adata_separate[mask]\n",
    "        \n",
    "        adata_separate = adata_separate[[i not in excluded_regions for i in adata_separate.obs['broad_anatomy_annots']]]\n",
    "        \n",
    "        df = adata_separate.obs[['joint_L2_dist_longitudinal_anatomy_' + start_feature, 'joint_L2_dist_longitudinal_anatomy_' + end_feature, \n",
    "               'joint_broad_anatomy_annots']]\n",
    "        fallopian_axis = [( start_weight*int(s) - end_weight*int(e) ) / ( start_weight*int(s) + end_weight*int(e) ) for s,e in zip(df['joint_L2_dist_longitudinal_anatomy_' + start_feature], df['joint_L2_dist_longitudinal_anatomy_' + end_feature])]\n",
    "        df['Fallopian_Axis'] = fallopian_axis\n",
    "        \n",
    "        print(df['Fallopian_Axis'].hist(bins=20))\n",
    "        \n",
    "        # Add axis to slide \n",
    "        adata_separate.obs['Fallopian_Axis'] = adata_separate.obs_names.map(df['Fallopian_Axis'].to_dict())\n",
    "        return adata_separate\n",
    "        \n"
   ]
  },
  {
   "cell_type": "code",
   "execution_count": null,
   "id": "8f75df49",
   "metadata": {
    "scrolled": false
   },
   "outputs": [],
   "source": [
    "CM015_axis = build_fallopian_axis(CM015, sample = 'CM015', min_fract = 0.4, \n",
    "                                                 start_feature = 'FallopianFimbriae', end_feature = 'FallopianUterineJunction', \n",
    "                                                 )"
   ]
  },
  {
   "cell_type": "code",
   "execution_count": null,
   "id": "c0fef41a",
   "metadata": {},
   "outputs": [],
   "source": [
    "CM016_axis_f = build_fallopian_axis(CM016, sample = 'CM016', min_fract = 0.4, \n",
    "                                                 start_feature = 'FallopianFimbriae', end_feature = 'FallopianUterineJunction', \n",
    "                                                 )"
   ]
  },
  {
   "cell_type": "code",
   "execution_count": null,
   "id": "0e3523fe",
   "metadata": {},
   "outputs": [],
   "source": [
    "CM013_axis_f = build_fallopian_axis(CM013, sample = 'CM013', min_fract = 0.4, \n",
    "                                                 start_feature = 'FallopianFimbriae', end_feature = 'FallopianUterineJunction', \n",
    "                                                 )"
   ]
  },
  {
   "cell_type": "code",
   "execution_count": null,
   "id": "6128a3aa",
   "metadata": {},
   "outputs": [],
   "source": [
    "for sample in [CM015_axis, CM016_axis_f, CM013_axis_f]:\n",
    "    sample.obs['FemaleReproductiveAxis'] = sample.obs['Fallopian_Axis_forPlotting']"
   ]
  },
  {
   "cell_type": "code",
   "execution_count": null,
   "id": "df53f512",
   "metadata": {},
   "outputs": [],
   "source": [
    "#CM015_axis.obs_names = ['CM015_' + i for i in CM015_axis.obs_names.to_list()]\n",
    "CM015_axis.obs.head()"
   ]
  },
  {
   "cell_type": "code",
   "execution_count": null,
   "id": "85d752d5",
   "metadata": {},
   "outputs": [],
   "source": [
    "#CM016_axis_f.obs_names = ['CM016_' + i for i in CM016_axis_f.obs_names.to_list()]\n",
    "CM016_axis_f.obs.head()"
   ]
  },
  {
   "cell_type": "code",
   "execution_count": null,
   "id": "7fcb7c3e",
   "metadata": {},
   "outputs": [],
   "source": [
    "CM013_axis_f.obs.head()"
   ]
  },
  {
   "cell_type": "code",
   "execution_count": null,
   "id": "ab05d7ce",
   "metadata": {},
   "outputs": [],
   "source": [
    "fallopian_axis = combine_axis(samples = [\n",
    "                                           CM015_axis, CM016_axis_f, CM013_axis_f\n",
    "                                           ], \n",
    "                                axis_name = 'FemaleReproductiveAxis', return_adata = True)"
   ]
  },
  {
   "cell_type": "code",
   "execution_count": null,
   "id": "adc33403",
   "metadata": {},
   "outputs": [],
   "source": [
    "fallopian_axis"
   ]
  },
  {
   "cell_type": "markdown",
   "id": "dc3698fa",
   "metadata": {},
   "source": [
    "## 4. Concatenate fallopian and uterovaginal axis"
   ]
  },
  {
   "cell_type": "code",
   "execution_count": null,
   "id": "483008ec",
   "metadata": {},
   "outputs": [],
   "source": [
    "fallopian_axis = fallopian_axis.obs.copy()"
   ]
  },
  {
   "cell_type": "code",
   "execution_count": null,
   "id": "69174aac",
   "metadata": {},
   "outputs": [],
   "source": [
    "fallopian_axis['FemaleReproductiveAxis'].hist(bins = 10)"
   ]
  },
  {
   "cell_type": "code",
   "execution_count": null,
   "id": "bc651ed7",
   "metadata": {},
   "outputs": [],
   "source": [
    "uterovaginal_axis = uterovaginal_axis.obs.copy()"
   ]
  },
  {
   "cell_type": "code",
   "execution_count": null,
   "id": "4881b486",
   "metadata": {},
   "outputs": [],
   "source": [
    "uterovaginal_axis['FemaleReproductiveAxis'].hist(bins = 10)"
   ]
  },
  {
   "cell_type": "code",
   "execution_count": null,
   "id": "ce2e73af",
   "metadata": {},
   "outputs": [],
   "source": [
    "axis = fallopian_axis.append(uterovaginal_axis)"
   ]
  },
  {
   "cell_type": "code",
   "execution_count": null,
   "id": "7bc73e1b",
   "metadata": {},
   "outputs": [],
   "source": [
    "axis['FemaleReproductiveAxis'].hist(bins = 10)"
   ]
  },
  {
   "cell_type": "markdown",
   "id": "cc122c37",
   "metadata": {},
   "source": [
    "## 5. Transfer axis values to anndata objects "
   ]
  },
  {
   "cell_type": "code",
   "execution_count": null,
   "id": "7feb013f",
   "metadata": {},
   "outputs": [],
   "source": [
    "axis"
   ]
  },
  {
   "cell_type": "code",
   "execution_count": null,
   "id": "fcc713be",
   "metadata": {},
   "outputs": [],
   "source": [
    "CM008_axis.shape, CM008.shape "
   ]
  },
  {
   "cell_type": "code",
   "execution_count": null,
   "id": "60e63d2a",
   "metadata": {},
   "outputs": [],
   "source": [
    "CM015_axis.shape, CM015.shape "
   ]
  },
  {
   "cell_type": "code",
   "execution_count": null,
   "id": "d65e3b29",
   "metadata": {},
   "outputs": [],
   "source": [
    "CM016_axis.shape, CM016.shape "
   ]
  },
  {
   "cell_type": "code",
   "execution_count": null,
   "id": "cbf5f063",
   "metadata": {},
   "outputs": [],
   "source": [
    "CM016_axis_f.shape, CM016.shape "
   ]
  },
  {
   "cell_type": "code",
   "execution_count": null,
   "id": "28078030",
   "metadata": {},
   "outputs": [],
   "source": [
    "for sample in [CM008_axis, CM015_axis, CM016_axis, CM016_axis_f, CM013_axis_uv, CM013_axis_f]:\n",
    "    sample.obs['FemaleReproductiveAxis'] = sample.obs_names.map(axis['FemaleReproductiveAxis'].to_dict())"
   ]
  },
  {
   "cell_type": "code",
   "execution_count": null,
   "id": "07039723",
   "metadata": {},
   "outputs": [],
   "source": [
    "import matplotlib as mpl\n",
    "mpl.rcParams['pdf.fonttype'] = 42"
   ]
  },
  {
   "cell_type": "code",
   "execution_count": null,
   "id": "1be00ad8",
   "metadata": {},
   "outputs": [],
   "source": [
    "sq.pl.spatial_scatter(CM008_axis, color=\"FemaleReproductiveAxis\", \n",
    "                spatial_key=\"spatial\",\n",
    "                shape=None,\n",
    "                use_raw = False,\n",
    "                size=0.6,\n",
    "                figsize=(8,8), cmap = 'jet', \n",
    "                     save = 'CM008_femalereproductiveaxis.pdf')"
   ]
  },
  {
   "cell_type": "code",
   "execution_count": null,
   "id": "bb77360f",
   "metadata": {},
   "outputs": [],
   "source": [
    "sq.pl.spatial_scatter(CM015_axis, color=\"FemaleReproductiveAxis\", \n",
    "                spatial_key=\"spatial\",\n",
    "                shape=None,\n",
    "                use_raw = False,\n",
    "                size=0.6,\n",
    "                figsize=(8,8), cmap = 'jet', \n",
    "                     save = 'CM015_femalereproductiveaxis.pdf')"
   ]
  },
  {
   "cell_type": "code",
   "execution_count": null,
   "id": "d0c03f8b",
   "metadata": {},
   "outputs": [],
   "source": [
    "sq.pl.spatial_scatter(CM016_axis, color=\"FemaleReproductiveAxis\", \n",
    "                spatial_key=\"spatial\",\n",
    "                shape=None,\n",
    "                use_raw = False,\n",
    "                size=0.2,\n",
    "                figsize=(8,8), cmap = 'jet', \n",
    "                     save = 'CM016_uterovaginal.pdf')"
   ]
  },
  {
   "cell_type": "code",
   "execution_count": null,
   "id": "e7dc2670",
   "metadata": {},
   "outputs": [],
   "source": [
    "sq.pl.spatial_scatter(CM016_axis_f, color=\"FemaleReproductiveAxis\", \n",
    "                spatial_key=\"spatial\",\n",
    "                shape=None,\n",
    "                use_raw = False,\n",
    "                size=0.2,\n",
    "                figsize=(8,8), cmap = 'jet', \n",
    "                     save = 'CM016_fallopian.pdf')"
   ]
  },
  {
   "cell_type": "code",
   "execution_count": null,
   "id": "298cd208",
   "metadata": {},
   "outputs": [],
   "source": [
    "sq.pl.spatial_scatter(CM013_axis_f, color=\"FemaleReproductiveAxis\", \n",
    "                spatial_key=\"spatial\",\n",
    "                shape=None,\n",
    "                use_raw = False,\n",
    "                size=0.2,\n",
    "                figsize=(8,8), cmap = 'jet', \n",
    "                     save = 'CM013_fallopian.pdf')"
   ]
  },
  {
   "cell_type": "code",
   "execution_count": null,
   "id": "bd44f037",
   "metadata": {},
   "outputs": [],
   "source": [
    "sq.pl.spatial_scatter(CM013_axis_uv, color=\"FemaleReproductiveAxis\", \n",
    "                spatial_key=\"spatial\",\n",
    "                shape=None,\n",
    "                use_raw = False,\n",
    "                size=0.2,\n",
    "                figsize=(8,8), cmap = 'jet', \n",
    "                     save = 'CM013_uterovaginal.pdf')"
   ]
  },
  {
   "cell_type": "code",
   "execution_count": null,
   "id": "74fc66d8",
   "metadata": {},
   "outputs": [],
   "source": [
    "total_axis_CM016 = CM016_axis.obs['FemaleReproductiveAxis'].append(CM016_axis_f.obs['FemaleReproductiveAxis'])"
   ]
  },
  {
   "cell_type": "code",
   "execution_count": null,
   "id": "e9448116",
   "metadata": {},
   "outputs": [],
   "source": [
    "CM016.obs['FemaleReproductiveAxis'] = CM016.obs_names.map(total_axis_CM016.to_dict())"
   ]
  },
  {
   "cell_type": "code",
   "execution_count": null,
   "id": "332aeb43",
   "metadata": {},
   "outputs": [],
   "source": [
    "sq.pl.spatial_scatter(CM016, color=\"FemaleReproductiveAxis\", \n",
    "                spatial_key=\"spatial\",\n",
    "                shape=None,\n",
    "                use_raw = False,\n",
    "                size=0.2,\n",
    "                figsize=(8,8), cmap = 'jet', \n",
    "                     save = 'CM016_femalereproductiveaxis.pdf')"
   ]
  },
  {
   "cell_type": "code",
   "execution_count": null,
   "id": "571dc950",
   "metadata": {},
   "outputs": [],
   "source": [
    "total_axis_CM013 = CM013_axis_uv.obs['FemaleReproductiveAxis'].append(CM013_axis_f.obs['FemaleReproductiveAxis'])"
   ]
  },
  {
   "cell_type": "code",
   "execution_count": null,
   "id": "8e6c9ac8",
   "metadata": {},
   "outputs": [],
   "source": [
    "CM013.obs['FemaleReproductiveAxis'] = CM013.obs_names.map(total_axis_CM013.to_dict())"
   ]
  },
  {
   "cell_type": "code",
   "execution_count": null,
   "id": "b2fb14a4",
   "metadata": {},
   "outputs": [],
   "source": [
    "sq.pl.spatial_scatter(CM013, color=\"FemaleReproductiveAxis\", \n",
    "                spatial_key=\"spatial\",\n",
    "                shape=None,\n",
    "                use_raw = False,\n",
    "                size=0.2,\n",
    "                figsize=(8,8), cmap = 'jet', \n",
    "                     save = 'CM013_femalereproductiveaxis.pdf')"
   ]
  },
  {
   "cell_type": "markdown",
   "id": "2f71e190",
   "metadata": {},
   "source": [
    "## 6. Merge ISS samples together "
   ]
  },
  {
   "cell_type": "code",
   "execution_count": null,
   "id": "9aaaa074",
   "metadata": {},
   "outputs": [],
   "source": [
    "CM016_cells = CM016_axis.obs_names.to_list()"
   ]
  },
  {
   "cell_type": "code",
   "execution_count": null,
   "id": "52acb317",
   "metadata": {},
   "outputs": [],
   "source": [
    "CM016_axis.shape"
   ]
  },
  {
   "cell_type": "code",
   "execution_count": null,
   "id": "d7676940",
   "metadata": {},
   "outputs": [],
   "source": [
    "CM016_axis_f.shape"
   ]
  },
  {
   "cell_type": "code",
   "execution_count": null,
   "id": "cbd6e72d",
   "metadata": {},
   "outputs": [],
   "source": [
    "CM016_cells.extend(CM016_axis_f.obs_names.to_list())"
   ]
  },
  {
   "cell_type": "code",
   "execution_count": null,
   "id": "2c583393",
   "metadata": {},
   "outputs": [],
   "source": [
    "len(CM016_cells)"
   ]
  },
  {
   "cell_type": "code",
   "execution_count": null,
   "id": "d5813608",
   "metadata": {},
   "outputs": [],
   "source": [
    "CM016 = CM016[[i in CM016_cells for i in CM016.obs_names.to_list()]]"
   ]
  },
  {
   "cell_type": "code",
   "execution_count": null,
   "id": "e27b810e",
   "metadata": {},
   "outputs": [],
   "source": [
    "CM016"
   ]
  },
  {
   "cell_type": "code",
   "execution_count": null,
   "id": "02821ca7",
   "metadata": {},
   "outputs": [],
   "source": [
    "CM013_cells = CM013_axis_uv.obs_names.to_list()\n",
    "print(CM013_axis_uv.shape)\n",
    "CM013_cells.extend(CM013_axis_f.obs_names.to_list())\n",
    "print(len(CM013_cells))"
   ]
  },
  {
   "cell_type": "code",
   "execution_count": null,
   "id": "456bc55d",
   "metadata": {},
   "outputs": [],
   "source": [
    "CM013 = CM013[[i in CM013_cells for i in CM013.obs_names.to_list()]]"
   ]
  },
  {
   "cell_type": "code",
   "execution_count": null,
   "id": "5a618050",
   "metadata": {},
   "outputs": [],
   "source": [
    "CM013"
   ]
  },
  {
   "cell_type": "code",
   "execution_count": null,
   "id": "5006206c",
   "metadata": {},
   "outputs": [],
   "source": [
    "adata_iss = sc.concat(\n",
    "    [CM008_axis, CM015_axis, CM016, CM013],\n",
    "    join = \"outer\",\n",
    "    uns_merge=\"unique\",\n",
    "\n",
    "    index_unique=None,\n",
    ")\n",
    "adata_iss.var_names_make_unique()"
   ]
  },
  {
   "cell_type": "code",
   "execution_count": null,
   "id": "d3dc449e",
   "metadata": {},
   "outputs": [],
   "source": [
    "adata_iss.X[40:50, 60:70]"
   ]
  },
  {
   "cell_type": "code",
   "execution_count": null,
   "id": "75511f9c",
   "metadata": {},
   "outputs": [],
   "source": [
    "adata_iss.obs['FemaleReproductiveAxis'].hist()"
   ]
  },
  {
   "cell_type": "code",
   "execution_count": null,
   "id": "c2780d6c",
   "metadata": {},
   "outputs": [],
   "source": [
    "np.sum(np.isnan(adata_iss.obs['FemaleReproductiveAxis']))"
   ]
  },
  {
   "cell_type": "code",
   "execution_count": null,
   "id": "9a997347",
   "metadata": {},
   "outputs": [],
   "source": [
    "adata_iss.write('/nfs/team292/vl6/FetalReproductiveTract/ISS/CM008_CM015_CM016_CM013_with_axis.h5ad')"
   ]
  },
  {
   "cell_type": "code",
   "execution_count": null,
   "id": "3f1dfcdb",
   "metadata": {},
   "outputs": [],
   "source": [
    "adata_iss"
   ]
  },
  {
   "cell_type": "markdown",
   "id": "341505a9",
   "metadata": {},
   "source": [
    "### *Notebook for imputing Müllerian longitudinal axis scRNA-seq* "
   ]
  },
  {
   "cell_type": "markdown",
   "id": "ad059818",
   "metadata": {},
   "source": [
    "## 7. Convert scRNA-seq with ISS axis to RDS"
   ]
  },
  {
   "cell_type": "code",
   "execution_count": null,
   "id": "1d264c6e",
   "metadata": {},
   "outputs": [],
   "source": [
    "mese_raw = sc.read('/nfs/team292/vl6/FetalReproductiveTract/mese_mullerian_withpseudospace.h5ad')"
   ]
  },
  {
   "cell_type": "code",
   "execution_count": null,
   "id": "7dfa676b",
   "metadata": {},
   "outputs": [],
   "source": [
    "mese_raw.var.head()"
   ]
  },
  {
   "cell_type": "code",
   "execution_count": null,
   "id": "22bf9800",
   "metadata": {},
   "outputs": [],
   "source": [
    "mese_raw.obs['FemaleReproductiveAxis'].hist()"
   ]
  },
  {
   "cell_type": "code",
   "execution_count": null,
   "id": "42c3d6c6",
   "metadata": {},
   "outputs": [],
   "source": [
    "mese_raw.shape"
   ]
  },
  {
   "cell_type": "code",
   "execution_count": null,
   "id": "42a4bffb",
   "metadata": {},
   "outputs": [],
   "source": [
    "def bin_axis(df, n_bins = 10, axis_name = 'FemaleReproductiveAxis'):\n",
    "    max_val = np.nanquantile(df[axis_name],0.9999)\n",
    "    min_val = np.nanquantile(df[axis_name],0.0001)\n",
    "\n",
    "    incr_uva = (max_val-min_val)/n_bins\n",
    "    uva_bins = []\n",
    "    for i in range(0,n_bins+1):\n",
    "        uva_bins.append(min_val+(i*incr_uva))\n",
    "\n",
    "    df['binned_' + axis_name + '_' + str(n_bins) + '_bins'] = pd.cut(df[axis_name], bins = uva_bins, labels=uva_bins[:-1])\n",
    "    return df"
   ]
  },
  {
   "cell_type": "code",
   "execution_count": null,
   "id": "b5a71981",
   "metadata": {},
   "outputs": [],
   "source": [
    "axis = bin_axis(mese_raw.obs, n_bins = 10, axis_name = 'FemaleReproductiveAxis')"
   ]
  },
  {
   "cell_type": "code",
   "execution_count": null,
   "id": "bf0aa415",
   "metadata": {},
   "outputs": [],
   "source": [
    "axis['binned_FemaleReproductiveAxis_10_bins'] = axis['binned_FemaleReproductiveAxis_10_bins'].astype(float)"
   ]
  },
  {
   "cell_type": "code",
   "execution_count": null,
   "id": "96f1f697",
   "metadata": {},
   "outputs": [],
   "source": [
    "axis['binned_FemaleReproductiveAxis_10_bins'] = np.round(axis['binned_FemaleReproductiveAxis_10_bins'], 2)"
   ]
  },
  {
   "cell_type": "code",
   "execution_count": null,
   "id": "f2d183a6",
   "metadata": {},
   "outputs": [],
   "source": [
    "axis['binned_FemaleReproductiveAxis_10_bins'].value_counts()"
   ]
  },
  {
   "cell_type": "markdown",
   "id": "636b6e72",
   "metadata": {},
   "source": [
    "### Downsample per axis bin "
   ]
  },
  {
   "cell_type": "code",
   "execution_count": null,
   "id": "7eea618a",
   "metadata": {},
   "outputs": [],
   "source": [
    "mese_raw.obs['binned_FemaleReproductiveAxis_10_bins'] = mese_raw.obs_names.map(axis['binned_FemaleReproductiveAxis_10_bins'].to_dict())"
   ]
  },
  {
   "cell_type": "code",
   "execution_count": null,
   "id": "1eaa378e",
   "metadata": {},
   "outputs": [],
   "source": [
    "# Random downsampling per cell type \n",
    "import random\n",
    "from itertools import chain\n",
    "def downsample(adata, labels, n): \n",
    "    \n",
    "    myindex = adata.obs[labels].value_counts().index \n",
    "    myvalues = adata.obs[labels].value_counts().values\n",
    "    clusters = pd.Series(myvalues, index = myindex)\n",
    "    \n",
    "    # Find clusters with > n cells \n",
    "    cl2downsample = clusters.index[ clusters.values > n ]\n",
    "\n",
    "    # save all barcode ids from small clusters\n",
    "    holder = []\n",
    "    holder.append( adata.obs_names[[ i not in cl2downsample for i in adata.obs[labels] ]] ) \n",
    "\n",
    "    # randomly sample n cells in the cl2downsample\n",
    "    for cl in cl2downsample:\n",
    "        print(cl)\n",
    "        cl_sample = adata[[ i == cl for i in adata.obs[labels]]].obs_names\n",
    "        \n",
    "        cl_downsample = random.sample(set(cl_sample), n )\n",
    "        holder.append(cl_downsample)\n",
    "    \n",
    "    # samples to include\n",
    "    samples = list(chain(*holder))\n",
    "\n",
    "    # Filter adata_count\n",
    "    adata = adata[[ i in samples for i in adata.obs_names ]]\n",
    "    return adata"
   ]
  },
  {
   "cell_type": "code",
   "execution_count": null,
   "id": "b03db2eb",
   "metadata": {},
   "outputs": [],
   "source": [
    "mese_raw = downsample(mese_raw, 'binned_FemaleReproductiveAxis_10_bins', 1742)"
   ]
  },
  {
   "cell_type": "code",
   "execution_count": null,
   "id": "5e516207",
   "metadata": {},
   "outputs": [],
   "source": [
    "mese_raw.shape"
   ]
  },
  {
   "cell_type": "code",
   "execution_count": null,
   "id": "74c29c75",
   "metadata": {},
   "outputs": [],
   "source": [
    "mese_raw"
   ]
  },
  {
   "cell_type": "code",
   "execution_count": null,
   "id": "3c3adb92",
   "metadata": {},
   "outputs": [],
   "source": [
    "mese_raw.X.toarray()[30:40, 30:40]"
   ]
  },
  {
   "cell_type": "code",
   "execution_count": null,
   "id": "49904a4a",
   "metadata": {},
   "outputs": [],
   "source": [
    "mese_raw_forR = mese_raw.copy()"
   ]
  },
  {
   "cell_type": "code",
   "execution_count": null,
   "id": "e897d952",
   "metadata": {},
   "outputs": [],
   "source": [
    "mito_genes = [name for name in mese_raw_forR.var_names if name.startswith('MT-')]\n"
   ]
  },
  {
   "cell_type": "code",
   "execution_count": null,
   "id": "83b8b34c",
   "metadata": {},
   "outputs": [],
   "source": [
    "# remove mito genes\n",
    "non_mito_genes = [name for name in mese_raw_forR.var_names if not name.startswith('MT')]\n",
    "mese_raw_forR = mese_raw_forR[:, non_mito_genes]\n",
    "\n",
    "# remove ribo genes\n",
    "non_ribo_genes = [name for name in mese_raw_forR.var_names if not name.startswith('RP')]\n",
    "mese_raw_forR = mese_raw_forR[:, non_ribo_genes]\n",
    "\n",
    "# remove heat shock protein genes\n",
    "non_hps_genes = [name for name in mese_raw_forR.var_names if not name.startswith('HSP')]\n",
    "mese_raw_forR = mese_raw_forR[:, non_hps_genes]\n",
    "\n",
    "# remove haemoglobin genes \n",
    "non_haemo_genes = [name for name in mese_raw_forR.var_names if name not in ['HBA1', 'HBA2', 'HBB', 'HBG1', 'HBG2']]\n",
    "mese_raw_forR = mese_raw_forR[:, non_haemo_genes]\n",
    "\n",
    "sc.pp.filter_genes(mese_raw_forR, min_cells=10)\n",
    "sc.pp.filter_genes(mese_raw_forR, min_counts=1)"
   ]
  },
  {
   "cell_type": "code",
   "execution_count": null,
   "id": "6c8b1777",
   "metadata": {},
   "outputs": [],
   "source": [
    "'HSP1' in mese_raw_forR.var_names.to_list()"
   ]
  },
  {
   "cell_type": "code",
   "execution_count": null,
   "id": "8890aca3",
   "metadata": {},
   "outputs": [],
   "source": [
    "mese_raw_forR.shape"
   ]
  },
  {
   "cell_type": "code",
   "execution_count": null,
   "id": "b63dd3ee",
   "metadata": {},
   "outputs": [],
   "source": [
    "for col in mese_raw_forR.obs.columns:\n",
    "    if col not in [ 'FemaleReproductiveAxis', 'sample']:\n",
    "        del mese_raw_forR.obs[col]"
   ]
  },
  {
   "cell_type": "code",
   "execution_count": null,
   "id": "2491de7b",
   "metadata": {},
   "outputs": [],
   "source": [
    "del mese_raw_forR.obsm"
   ]
  },
  {
   "cell_type": "code",
   "execution_count": null,
   "id": "39387a5d",
   "metadata": {},
   "outputs": [],
   "source": [
    "import rpy2.rinterface_lib.callbacks\n",
    "import logging\n",
    "# Ignore R warning messages\n",
    "#Note: this can be commented out to get more verbose R output\n",
    "rpy2.rinterface_lib.callbacks.logger.setLevel(logging.ERROR)\n",
    "import anndata2ri\n",
    "anndata2ri.activate()\n",
    "%load_ext rpy2.ipython"
   ]
  },
  {
   "cell_type": "code",
   "execution_count": null,
   "id": "0df12c37",
   "metadata": {},
   "outputs": [],
   "source": [
    "%%R -i mese_raw_forR\n",
    "mese_raw_forR"
   ]
  },
  {
   "cell_type": "code",
   "execution_count": null,
   "id": "820bb1f0",
   "metadata": {},
   "outputs": [],
   "source": [
    "%%R \n",
    "saveRDS(mese_raw_forR, '/lustre/scratch126/cellgen/team292/vl6/mese_mullerian_withpseudospace.rds')"
   ]
  },
  {
   "cell_type": "code",
   "execution_count": null,
   "id": "14fc4dd6",
   "metadata": {},
   "outputs": [],
   "source": [
    "mese_raw_forR.obs['FemaleReproductiveAxis'].hist()"
   ]
  },
  {
   "cell_type": "code",
   "execution_count": null,
   "id": "a9c518f1",
   "metadata": {},
   "outputs": [],
   "source": [
    "mese_raw.obs['binned_FemaleReproductiveAxis_10_bins'].value_counts()"
   ]
  },
  {
   "cell_type": "code",
   "execution_count": null,
   "id": "25351701",
   "metadata": {},
   "outputs": [],
   "source": [
    "mese_raw.write('/nfs/team292/vl6/FetalReproductiveTract/mese_mullerian_withpseudospace_downsampled.h5ad')"
   ]
  },
  {
   "cell_type": "code",
   "execution_count": null,
   "id": "39feb4fb",
   "metadata": {},
   "outputs": [],
   "source": []
  },
  {
   "cell_type": "code",
   "execution_count": null,
   "id": "dac1f1c4",
   "metadata": {},
   "outputs": [],
   "source": [
    "epi_raw = sc.read('/nfs/team292/vl6/FetalReproductiveTract/epi_mullerian_withpseudospace.h5ad')"
   ]
  },
  {
   "cell_type": "code",
   "execution_count": null,
   "id": "e43907e2",
   "metadata": {},
   "outputs": [],
   "source": [
    "epi_raw.shape"
   ]
  },
  {
   "cell_type": "code",
   "execution_count": null,
   "id": "c4e0eb58",
   "metadata": {},
   "outputs": [],
   "source": [
    "epi_raw.obs['FemaleReproductiveAxis'].hist()"
   ]
  },
  {
   "cell_type": "code",
   "execution_count": null,
   "id": "390dea96",
   "metadata": {},
   "outputs": [],
   "source": [
    "axis = bin_axis(epi_raw.obs, n_bins = 10, axis_name = 'FemaleReproductiveAxis')"
   ]
  },
  {
   "cell_type": "code",
   "execution_count": null,
   "id": "15f953ae",
   "metadata": {},
   "outputs": [],
   "source": [
    "axis['binned_FemaleReproductiveAxis_10_bins'] = axis['binned_FemaleReproductiveAxis_10_bins'].astype(float)"
   ]
  },
  {
   "cell_type": "code",
   "execution_count": null,
   "id": "416c0c7a",
   "metadata": {},
   "outputs": [],
   "source": [
    "axis['binned_FemaleReproductiveAxis_10_bins'] = np.round(axis['binned_FemaleReproductiveAxis_10_bins'], 2)"
   ]
  },
  {
   "cell_type": "code",
   "execution_count": null,
   "id": "0a04ac7e",
   "metadata": {},
   "outputs": [],
   "source": [
    "axis['binned_FemaleReproductiveAxis_10_bins'].value_counts()"
   ]
  },
  {
   "cell_type": "code",
   "execution_count": null,
   "id": "f054633f",
   "metadata": {},
   "outputs": [],
   "source": [
    "epi_raw.obs['binned_FemaleReproductiveAxis_10_bins'] = epi_raw.obs_names.map(axis['binned_FemaleReproductiveAxis_10_bins'].to_dict())\n"
   ]
  },
  {
   "cell_type": "code",
   "execution_count": null,
   "id": "d8b7d78d",
   "metadata": {},
   "outputs": [],
   "source": [
    "epi_raw = downsample(epi_raw, 'binned_FemaleReproductiveAxis_10_bins', 500)"
   ]
  },
  {
   "cell_type": "code",
   "execution_count": null,
   "id": "bb1f997a",
   "metadata": {},
   "outputs": [],
   "source": [
    "epi_raw.shape"
   ]
  },
  {
   "cell_type": "code",
   "execution_count": null,
   "id": "ac5e6f6d",
   "metadata": {},
   "outputs": [],
   "source": [
    "epi_raw.obs['FemaleReproductiveAxis'].hist()"
   ]
  },
  {
   "cell_type": "code",
   "execution_count": null,
   "id": "1abb5358",
   "metadata": {},
   "outputs": [],
   "source": [
    "epi_raw.X.toarray()[30:40, 30:40]"
   ]
  },
  {
   "cell_type": "code",
   "execution_count": null,
   "id": "00f2fd3f",
   "metadata": {},
   "outputs": [],
   "source": [
    "epi_raw_forR = epi_raw.copy()"
   ]
  },
  {
   "cell_type": "code",
   "execution_count": null,
   "id": "4aab4cda",
   "metadata": {},
   "outputs": [],
   "source": [
    "# remove mito genes\n",
    "non_mito_genes = [name for name in epi_raw_forR.var_names if not name.startswith('MT-')]\n",
    "epi_raw_forR = epi_raw_forR[:, non_mito_genes]\n",
    "\n",
    "# remove ribo genes\n",
    "non_ribo_genes = [name for name in epi_raw_forR.var_names if not name.startswith('RP')]\n",
    "epi_raw_forR = epi_raw_forR[:, non_ribo_genes]\n",
    "\n",
    "# remove heat shock protein genes\n",
    "non_hps_genes = [name for name in epi_raw_forR.var_names if not name.startswith('HSP')]\n",
    "epi_raw_forR = epi_raw_forR[:, non_hps_genes]\n",
    "\n",
    "# remove haemoglobin genes \n",
    "non_haemo_genes = [name for name in epi_raw_forR.var_names if name not in ['HBA1', 'HBA2', 'HBB', 'HBG1', 'HBG2']]\n",
    "epi_raw_forR = epi_raw_forR[:, non_haemo_genes]\n",
    "\n",
    "sc.pp.filter_genes(epi_raw_forR, min_cells=10)\n",
    "sc.pp.filter_genes(epi_raw_forR, min_counts=1)"
   ]
  },
  {
   "cell_type": "code",
   "execution_count": null,
   "id": "daad37ba",
   "metadata": {},
   "outputs": [],
   "source": [
    "epi_raw_forR.shape"
   ]
  },
  {
   "cell_type": "code",
   "execution_count": null,
   "id": "85661fb8",
   "metadata": {},
   "outputs": [],
   "source": [
    "for col in epi_raw_forR.obs.columns:\n",
    "    if col not in [ 'FemaleReproductiveAxis', 'sample']:\n",
    "        del epi_raw_forR.obs[col]"
   ]
  },
  {
   "cell_type": "code",
   "execution_count": null,
   "id": "c6f226f5",
   "metadata": {},
   "outputs": [],
   "source": [
    "del epi_raw_forR.obsm"
   ]
  },
  {
   "cell_type": "code",
   "execution_count": null,
   "id": "11bd6354",
   "metadata": {},
   "outputs": [],
   "source": [
    "%%R -i epi_raw_forR\n",
    "epi_raw_forR"
   ]
  },
  {
   "cell_type": "code",
   "execution_count": null,
   "id": "f3cb86b8",
   "metadata": {},
   "outputs": [],
   "source": [
    "%%R \n",
    "saveRDS(epi_raw_forR, '/lustre/scratch126/cellgen/team292/vl6/epi_mullerian_withpseudospace.rds')"
   ]
  },
  {
   "cell_type": "code",
   "execution_count": null,
   "id": "654805fc",
   "metadata": {},
   "outputs": [],
   "source": [
    "epi_raw.write('/nfs/team292/vl6/FetalReproductiveTract/epi_mullerian_withpseudospace_downsampled.h5ad')"
   ]
  },
  {
   "cell_type": "markdown",
   "id": "2f767591",
   "metadata": {},
   "source": [
    "## Fallopian axis"
   ]
  },
  {
   "cell_type": "code",
   "execution_count": null,
   "id": "3ade809e",
   "metadata": {},
   "outputs": [],
   "source": [
    "epi_raw = sc.read('/nfs/team292/vl6/FetalReproductiveTract/epi_mullerian_withpseudospace.h5ad')"
   ]
  },
  {
   "cell_type": "code",
   "execution_count": null,
   "id": "0f3d5ca5",
   "metadata": {},
   "outputs": [],
   "source": [
    "epi_raw.obs['FemaleReproductiveAxis'].hist()"
   ]
  },
  {
   "cell_type": "code",
   "execution_count": null,
   "id": "1000194b",
   "metadata": {},
   "outputs": [],
   "source": [
    "epi_raw = epi_raw[[i <= 1 for i in epi_raw.obs['FemaleReproductiveAxis']]]"
   ]
  },
  {
   "cell_type": "code",
   "execution_count": null,
   "id": "fec713ac",
   "metadata": {},
   "outputs": [],
   "source": [
    "epi_raw.obs['FemaleReproductiveAxis'].hist()"
   ]
  },
  {
   "cell_type": "code",
   "execution_count": null,
   "id": "c8872acc",
   "metadata": {},
   "outputs": [],
   "source": [
    "epi_raw.shape"
   ]
  },
  {
   "cell_type": "code",
   "execution_count": null,
   "id": "4b7442cb",
   "metadata": {},
   "outputs": [],
   "source": [
    "epi_raw.X.toarray()[30:40, 30:40]"
   ]
  },
  {
   "cell_type": "code",
   "execution_count": null,
   "id": "09fadf99",
   "metadata": {},
   "outputs": [],
   "source": [
    "epi_raw_forR = epi_raw.copy()"
   ]
  },
  {
   "cell_type": "code",
   "execution_count": null,
   "id": "869a06df",
   "metadata": {},
   "outputs": [],
   "source": [
    "# remove mito genes\n",
    "non_mito_genes = [name for name in epi_raw_forR.var_names if not name.startswith('MT-')]\n",
    "epi_raw_forR = epi_raw_forR[:, non_mito_genes]\n",
    "\n",
    "# remove ribo genes\n",
    "non_ribo_genes = [name for name in epi_raw_forR.var_names if not name.startswith('RP')]\n",
    "epi_raw_forR = epi_raw_forR[:, non_ribo_genes]\n",
    "\n",
    "# remove heat shock protein genes\n",
    "non_hps_genes = [name for name in epi_raw_forR.var_names if not name.startswith('HSP')]\n",
    "epi_raw_forR = epi_raw_forR[:, non_hps_genes]\n",
    "\n",
    "# remove haemoglobin genes \n",
    "non_haemo_genes = [name for name in epi_raw_forR.var_names if name not in ['HBA1', 'HBA2', 'HBB', 'HBG1', 'HBG2']]\n",
    "epi_raw_forR = epi_raw_forR[:, non_haemo_genes]\n",
    "\n",
    "sc.pp.filter_genes(epi_raw_forR, min_cells=10)\n",
    "sc.pp.filter_genes(epi_raw_forR, min_counts=1)"
   ]
  },
  {
   "cell_type": "code",
   "execution_count": null,
   "id": "cafb5e92",
   "metadata": {},
   "outputs": [],
   "source": [
    "for col in epi_raw_forR.obs.columns:\n",
    "    if col not in [ 'FemaleReproductiveAxis', 'sample']:\n",
    "        del epi_raw_forR.obs[col]"
   ]
  },
  {
   "cell_type": "code",
   "execution_count": null,
   "id": "c70dbd0e",
   "metadata": {},
   "outputs": [],
   "source": [
    "del epi_raw_forR.obsm"
   ]
  },
  {
   "cell_type": "code",
   "execution_count": null,
   "id": "967aab8c",
   "metadata": {},
   "outputs": [],
   "source": [
    "%%R -i epi_raw_forR\n",
    "epi_raw_forR"
   ]
  },
  {
   "cell_type": "code",
   "execution_count": null,
   "id": "7bbc3a2d",
   "metadata": {},
   "outputs": [],
   "source": [
    "%%R \n",
    "saveRDS(epi_raw_forR, '/lustre/scratch126/cellgen/team292/vl6/epi_fallopian_withpseudospace.rds')"
   ]
  },
  {
   "cell_type": "code",
   "execution_count": null,
   "id": "bcf0e08f",
   "metadata": {},
   "outputs": [],
   "source": []
  }
 ],
 "metadata": {
  "kernelspec": {
   "display_name": "atac_env",
   "language": "python",
   "name": "atac_env"
  },
  "language_info": {
   "codemirror_mode": {
    "name": "ipython",
    "version": 3
   },
   "file_extension": ".py",
   "mimetype": "text/x-python",
   "name": "python",
   "nbconvert_exporter": "python",
   "pygments_lexer": "ipython3",
   "version": "3.8.6"
  }
 },
 "nbformat": 4,
 "nbformat_minor": 5
}
