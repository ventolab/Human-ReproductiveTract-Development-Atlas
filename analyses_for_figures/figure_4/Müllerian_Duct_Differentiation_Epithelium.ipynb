{
 "cells": [
  {
   "cell_type": "markdown",
   "metadata": {},
   "source": [
    "## Müllerian duct differentiation - epithelium"
   ]
  },
  {
   "cell_type": "code",
   "execution_count": null,
   "metadata": {},
   "outputs": [],
   "source": [
    "import numpy as np\n",
    "import pandas as pd\n",
    "import scanpy as sc\n",
    "import scrublet as scr\n",
    "import seaborn as sns\n",
    "import scipy.stats\n",
    "import anndata\n",
    "import os\n",
    "\n",
    "import scipy as scipy\n",
    "import scipy as sp\n",
    "import pickle as pkl\n",
    "import matplotlib.pyplot as plt\n",
    "import re\n",
    "from collections import defaultdict\n",
    "from statsmodels.nonparametric.smoothers_lowess import lowess\n",
    "from numpy import asarray as ar\n",
    "from collections import Counter\n",
    "import networkx as nx\n",
    "import igraph\n",
    "import glob"
   ]
  },
  {
   "cell_type": "code",
   "execution_count": null,
   "metadata": {},
   "outputs": [],
   "source": [
    "print(anndata.__version__)"
   ]
  },
  {
   "cell_type": "code",
   "execution_count": null,
   "metadata": {},
   "outputs": [],
   "source": [
    "females_post9pcw = sc.read('/nfs/team292/vl6/FetalReproductiveTract/post_10pcw_females.20240326.h5ad')\n",
    "females_post9pcw.shape"
   ]
  },
  {
   "cell_type": "code",
   "execution_count": null,
   "metadata": {},
   "outputs": [],
   "source": [
    "sc.set_figure_params(scanpy=True, dpi=80, dpi_save=150, frameon=True, vector_friendly=True, \n",
    "                         fontsize=14, figsize=(6,6), color_map=None, format='pdf', facecolor=None, transparent=False)"
   ]
  },
  {
   "cell_type": "code",
   "execution_count": null,
   "metadata": {},
   "outputs": [],
   "source": [
    "import matplotlib as mpl\n",
    "mpl.rcParams['pdf.fonttype'] = 42"
   ]
  },
  {
   "cell_type": "code",
   "execution_count": null,
   "metadata": {},
   "outputs": [],
   "source": [
    "sc.pl.umap(females_post9pcw, color=\"celltype\")"
   ]
  },
  {
   "cell_type": "code",
   "execution_count": null,
   "metadata": {},
   "outputs": [],
   "source": [
    "sc.pl.umap(females_post9pcw, color=\"celltype\", groups = ['FallopianTube_Epithelium', \n",
    "                'Uterus/Cervix_Epithelium', 'MüllerianVagina_Epithelium'\n",
    "                                                                         ])"
   ]
  },
  {
   "cell_type": "code",
   "execution_count": null,
   "metadata": {},
   "outputs": [],
   "source": [
    "females_post9pcw = females_post9pcw[[i in ['FallopianTube_Epithelium', \n",
    "                'Uterus/Cervix_Epithelium', 'MüllerianVagina_Epithelium']\n",
    "                                    for i in females_post9pcw.obs['celltype']]]"
   ]
  },
  {
   "cell_type": "code",
   "execution_count": null,
   "metadata": {},
   "outputs": [],
   "source": [
    "sc.pl.umap(females_post9pcw, color=\"celltype\")"
   ]
  },
  {
   "cell_type": "code",
   "execution_count": null,
   "metadata": {},
   "outputs": [],
   "source": [
    "import anndata\n",
    "adata = anndata.AnnData(X = females_post9pcw.raw.X, obs = females_post9pcw.obs, var = females_post9pcw.raw.var)\n",
    "adata"
   ]
  },
  {
   "cell_type": "code",
   "execution_count": null,
   "metadata": {},
   "outputs": [],
   "source": [
    "adata = adata[[i == 'G1' for i in adata.obs['phase']]]"
   ]
  },
  {
   "cell_type": "code",
   "execution_count": null,
   "metadata": {},
   "outputs": [],
   "source": [
    "adata.obs['stage_pcw'].value_counts(dropna = False)"
   ]
  },
  {
   "cell_type": "code",
   "execution_count": null,
   "metadata": {},
   "outputs": [],
   "source": [
    "# Random downsampling per cell type \n",
    "import random\n",
    "from itertools import chain\n",
    "def downsample(adata, labels, n): \n",
    "    \n",
    "    myindex = adata.obs[labels].value_counts().index \n",
    "    myvalues = adata.obs[labels].value_counts().values\n",
    "    clusters = pd.Series(myvalues, index = myindex)\n",
    "    \n",
    "    # Find clusters with > n cells \n",
    "    cl2downsample = clusters.index[ clusters.values > n ]\n",
    "\n",
    "    # save all barcode ids from small clusters\n",
    "    holder = []\n",
    "    holder.append( adata.obs_names[[ i not in cl2downsample for i in adata.obs[labels] ]] ) \n",
    "\n",
    "    # randomly sample n cells in the cl2downsample\n",
    "    for cl in cl2downsample:\n",
    "        print(cl)\n",
    "        cl_sample = adata[[ i == cl for i in adata.obs[labels]]].obs_names\n",
    "        \n",
    "        cl_downsample = random.sample(set(cl_sample), n )\n",
    "        holder.append(cl_downsample)\n",
    "    \n",
    "    # samples to include\n",
    "    samples = list(chain(*holder))\n",
    "\n",
    "    # Filter adata_count\n",
    "    adata = adata[[ i in samples for i in adata.obs_names ]]\n",
    "    return adata"
   ]
  },
  {
   "cell_type": "code",
   "execution_count": null,
   "metadata": {},
   "outputs": [],
   "source": [
    "## import reproductive tract utils functions\n",
    "import sys\n",
    "cwd = '/nfs/team292/vl6/Experiments/Utils/'\n",
    "sys.path.append(cwd)\n",
    "\n",
    "import reptract_utils\n",
    "import reptract_genes"
   ]
  },
  {
   "cell_type": "code",
   "execution_count": null,
   "metadata": {},
   "outputs": [],
   "source": [
    "adata.shape"
   ]
  },
  {
   "cell_type": "code",
   "execution_count": null,
   "metadata": {},
   "outputs": [],
   "source": [
    "adata.raw = adata.copy()"
   ]
  },
  {
   "cell_type": "code",
   "execution_count": null,
   "metadata": {},
   "outputs": [],
   "source": [
    "sc.pp.filter_genes(adata, min_counts=10)"
   ]
  },
  {
   "cell_type": "code",
   "execution_count": null,
   "metadata": {},
   "outputs": [],
   "source": [
    "#adata = reptract_utils.per_gene_analysis(adata)"
   ]
  },
  {
   "cell_type": "code",
   "execution_count": null,
   "metadata": {},
   "outputs": [],
   "source": [
    "adata = reptract_utils.normalize_log_transform(adata)"
   ]
  },
  {
   "cell_type": "code",
   "execution_count": null,
   "metadata": {},
   "outputs": [],
   "source": [
    "adata = reptract_utils.hvgs_pca_umap(adata)"
   ]
  },
  {
   "cell_type": "code",
   "execution_count": null,
   "metadata": {},
   "outputs": [],
   "source": [
    "sc.pl.umap(adata, color=['stage_pcw', 'sample', \n",
    "                         'n_genes', 'percent_mito', 'percent_ribo', 'donor',  'doublet_scores',\n",
    "                        'celltype', 'phase'], ncols = 2, wspace = 0.3, \n",
    "          color_map = 'OrRd')"
   ]
  },
  {
   "cell_type": "code",
   "execution_count": null,
   "metadata": {},
   "outputs": [],
   "source": [
    "sc.pl.umap(adata, color = [ 'FOXL2','ITGA4', 'LGR5', 'TMEM176B', 'HOXC10', 'HOXA10', 'PTGER3', 'ACTA2', 'DES', 'MYH11',\n",
    "                          'HOXA13', 'ISL1', 'TMEM163', 'MMP28', 'CTNNB1',  'WNT4', 'EPCAM', \n",
    "                          'CDH5', 'PTPRC', 'DLX5', 'TP63', 'DNAH12', 'DAPL1', 'ERP27', \n",
    "                          'PAX8', 'PAX8', 'FGF20', 'FOXA1', 'RUNX3', 'DCN', 'PDGFRA', 'RHEX', 'C3', 'LMO3', \n",
    "                          'HOXC6', 'HOXA7', 'HOXB6', 'HOXB8', 'HOXC8', 'HOXC4', 'ATF3', 'NR4A1', \n",
    "                          'LYPD1', 'PNOC', 'IFI6', 'IFI27', 'UPK3B', 'KLK11'], wspace = 0.15, use_raw = False,\n",
    "           color_map = 'OrRd', ncols = 2)"
   ]
  },
  {
   "cell_type": "code",
   "execution_count": null,
   "metadata": {},
   "outputs": [],
   "source": [
    "sc.tl.leiden(adata, resolution = 5)\n",
    "sc.pl.umap(adata, color = ['leiden', 'doublet_scores', 'n_genes'], legend_loc = 'on data', color_map = 'OrRd')"
   ]
  },
  {
   "cell_type": "code",
   "execution_count": null,
   "metadata": {},
   "outputs": [],
   "source": [
    "sc.pl.umap(adata, color = 'leiden', \n",
    "          groups = ['46', '58', '35', '33', '47', '56'])"
   ]
  },
  {
   "cell_type": "code",
   "execution_count": null,
   "metadata": {},
   "outputs": [],
   "source": [
    "adata = adata[[i not in ['46', '58', '35', '33', '47', '56'] for i in adata.obs['leiden']]]"
   ]
  },
  {
   "cell_type": "code",
   "execution_count": null,
   "metadata": {},
   "outputs": [],
   "source": [
    "adata.obs['stage_pcw'].value_counts()"
   ]
  },
  {
   "cell_type": "code",
   "execution_count": null,
   "metadata": {},
   "outputs": [],
   "source": [
    "# adata = downsample(adata, 'stage_pcw', 1000)"
   ]
  },
  {
   "cell_type": "code",
   "execution_count": null,
   "metadata": {},
   "outputs": [],
   "source": [
    "adata = anndata.AnnData(X = adata.raw.X, var = adata.raw.var, obs = adata.obs)"
   ]
  },
  {
   "cell_type": "code",
   "execution_count": null,
   "metadata": {},
   "outputs": [],
   "source": [
    "adata.raw = adata.copy()\n",
    "sc.pp.filter_genes(adata, min_counts=10)\n",
    "#adata = reptract_utils.per_gene_analysis(adata)\n",
    "adata = reptract_utils.normalize_log_transform(adata)\n",
    "adata = reptract_utils.hvgs_pca_umap(adata)"
   ]
  },
  {
   "cell_type": "code",
   "execution_count": null,
   "metadata": {},
   "outputs": [],
   "source": [
    "sc.pl.umap(adata, color=['stage_pcw', 'sample', \n",
    "                         'n_genes', 'donor',  'doublet_scores',\n",
    "                        'celltype'], ncols = 2, wspace = 0.3, \n",
    "          color_map = 'viridis')"
   ]
  },
  {
   "cell_type": "code",
   "execution_count": null,
   "metadata": {},
   "outputs": [],
   "source": [
    "sc.pl.umap(adata, color=['stage_pcw', 'donor'], ncols = 2, wspace = 0.3, \n",
    "          color_map = 'viridis')"
   ]
  },
  {
   "cell_type": "code",
   "execution_count": null,
   "metadata": {},
   "outputs": [],
   "source": [
    "sc.pl.umap(adata, color = ['DLX5', 'WNT7A', 'ERP27', 'SIX1', 'RHEX', 'C3', 'C1S', 'MUC5B', \n",
    "                            'PTGS2', 'STRA6', 'LTF', 'BPIFB1', 'KRT5', 'PLAT', 'LMO3', 'SIX1', 'ATF3', 'NR4A1', \n",
    "                           'PDGFRA'\n",
    "                          ], wspace = 0.15, use_raw = False,\n",
    "           color_map = 'OrRd', ncols = 4)"
   ]
  },
  {
   "cell_type": "code",
   "execution_count": null,
   "metadata": {},
   "outputs": [],
   "source": [
    "# adata = anndata.AnnData(X = adata.raw.X, var = adata.raw.var, obs = adata.obs)"
   ]
  },
  {
   "cell_type": "code",
   "execution_count": null,
   "metadata": {},
   "outputs": [],
   "source": [
    "# adata.raw = adata.copy()\n",
    "# sc.pp.filter_genes(adata, min_counts=5)\n",
    "# #adata = reptract_utils.per_gene_analysis(adata)\n",
    "# adata = reptract_utils.normalize_log_transform(adata)\n",
    "# adata = reptract_utils.hvgs_pca_umap(adata)"
   ]
  },
  {
   "cell_type": "code",
   "execution_count": null,
   "metadata": {},
   "outputs": [],
   "source": [
    "# sc.pl.umap(adata, color=['stage', 'donor'], ncols = 2, wspace = 0.3, \n",
    "#           color_map = 'viridis')"
   ]
  },
  {
   "cell_type": "code",
   "execution_count": null,
   "metadata": {},
   "outputs": [],
   "source": [
    "import rpy2.rinterface_lib.callbacks\n",
    "import logging\n",
    "# Ignore R warning messages\n",
    "#Note: this can be commented out to get more verbose R output\n",
    "rpy2.rinterface_lib.callbacks.logger.setLevel(logging.ERROR)\n",
    "import anndata2ri\n",
    "anndata2ri.activate()\n",
    "%load_ext rpy2.ipython"
   ]
  },
  {
   "cell_type": "code",
   "execution_count": null,
   "metadata": {},
   "outputs": [],
   "source": [
    "# Extract PCA matrix and batch array\n",
    "n_pcs = 16 # Principal components used to perform dimensionality reduction \n",
    "pca = adata.obsm['X_pca'][:, 0:(n_pcs)]\n",
    "batch = adata.obs['donor'] # Batch ID, in this case stage"
   ]
  },
  {
   "cell_type": "code",
   "execution_count": null,
   "metadata": {},
   "outputs": [],
   "source": [
    "%%R -i pca -i batch -o hem\n",
    "\n",
    "library(harmony)\n",
    "library(magrittr)\n",
    "set.seed(1000)\n",
    "hem <- HarmonyMatrix(pca, batch, theta=0, lambda = 6, do_pca=FALSE, verbose = FALSE)  \n",
    "hem = data.frame(hem)"
   ]
  },
  {
   "cell_type": "code",
   "execution_count": null,
   "metadata": {},
   "outputs": [],
   "source": [
    "# Add harmony values to the anndata object --> overwriting PCA \n",
    "adata.obsm['X_pca'] = hem.values "
   ]
  },
  {
   "cell_type": "code",
   "execution_count": null,
   "metadata": {},
   "outputs": [],
   "source": [
    "sc.pp.neighbors(adata, n_pcs = n_pcs, random_state= 123)\n",
    "sc.tl.umap(adata, min_dist=0.6, spread = 0.8)"
   ]
  },
  {
   "cell_type": "code",
   "execution_count": null,
   "metadata": {},
   "outputs": [],
   "source": [
    "sc.pl.umap(adata, color = ['FOXL2','ITGA4', 'LGR5', 'TMEM176B', 'HOXA10', 'PTGER3', 'ACTA2', 'DES', 'MYH11',\n",
    "                          'HOXA13', 'ISL1', 'TMEM163', 'MMP28', 'CTNNB1',  'WNT4', 'EPCAM', \n",
    "                          'CDH5', 'DLX5', 'TP63', 'DNAH12', 'DAPL1', 'ERP27', \n",
    "                          'PAX8', 'PAX8', 'FGF20', 'FOXA1', 'RUNX3', 'DCN', 'PDGFRA', 'CALCA', 'RXRG', 'UPK3B', 'CHL1', 'MUC5B'], wspace = 0.15, use_raw = False,\n",
    "           color_map = 'OrRd', ncols = 2)"
   ]
  },
  {
   "cell_type": "code",
   "execution_count": null,
   "metadata": {},
   "outputs": [],
   "source": [
    "sc.pl.umap(adata, color=['stage_pcw', 'sample', \n",
    "                         'n_genes', 'donor',  'doublet_scores', 'percent_mito',\n",
    "                        'celltype', 'percent_mito'], ncols = 2, wspace = 0.3, \n",
    "          color_map = 'viridis')"
   ]
  },
  {
   "cell_type": "code",
   "execution_count": null,
   "metadata": {},
   "outputs": [],
   "source": [
    "sc.tl.leiden(adata, resolution = 0.2)\n",
    "sc.pl.umap(adata, color = 'leiden', legend_loc = 'on data')"
   ]
  },
  {
   "cell_type": "code",
   "execution_count": null,
   "metadata": {},
   "outputs": [],
   "source": [
    "sc.tl.draw_graph(adata)"
   ]
  },
  {
   "cell_type": "code",
   "execution_count": null,
   "metadata": {},
   "outputs": [],
   "source": [
    "sc.pl.draw_graph(adata, color='leiden', legend_loc='on data')\n"
   ]
  },
  {
   "cell_type": "code",
   "execution_count": null,
   "metadata": {},
   "outputs": [],
   "source": [
    "sc.pl.draw_graph(adata, color='n_genes', color_map='OrRd')\n"
   ]
  },
  {
   "cell_type": "code",
   "execution_count": null,
   "metadata": {},
   "outputs": [],
   "source": [
    "sc.tl.paga(adata, groups='leiden')\n"
   ]
  },
  {
   "cell_type": "code",
   "execution_count": null,
   "metadata": {},
   "outputs": [],
   "source": [
    "sc.pl.paga(adata, color=['leiden', 'TMEM163', 'LGR5', 'ITGA4'])\n"
   ]
  },
  {
   "cell_type": "code",
   "execution_count": null,
   "metadata": {},
   "outputs": [],
   "source": [
    "sc.tl.draw_graph(adata, init_pos='paga')\n"
   ]
  },
  {
   "cell_type": "code",
   "execution_count": null,
   "metadata": {},
   "outputs": [],
   "source": [
    "sc.pl.draw_graph(adata, color='leiden', legend_loc='on data')\n"
   ]
  },
  {
   "cell_type": "code",
   "execution_count": null,
   "metadata": {},
   "outputs": [],
   "source": [
    "import anndata\n",
    "bdata = anndata.AnnData(X = adata.raw.X, var = adata.raw.var, obs = adata.obs)"
   ]
  },
  {
   "cell_type": "code",
   "execution_count": null,
   "metadata": {},
   "outputs": [],
   "source": [
    "import rpy2.rinterface_lib.callbacks\n",
    "import logging\n",
    "# Ignore R warning messages\n",
    "#Note: this can be commented out to get more verbose R output\n",
    "rpy2.rinterface_lib.callbacks.logger.setLevel(logging.ERROR)\n",
    "import anndata2ri\n",
    "anndata2ri.activate()\n",
    "%load_ext rpy2.ipython"
   ]
  },
  {
   "cell_type": "code",
   "execution_count": null,
   "metadata": {},
   "outputs": [],
   "source": [
    "for col in bdata.obs.columns: \n",
    "    if col != 'leiden':\n",
    "        del bdata.obs[col]"
   ]
  },
  {
   "cell_type": "code",
   "execution_count": null,
   "metadata": {},
   "outputs": [],
   "source": [
    "%%R -i bdata\n",
    "bdata"
   ]
  },
  {
   "cell_type": "code",
   "execution_count": null,
   "metadata": {},
   "outputs": [],
   "source": [
    "%%R -o mrks\n",
    "\n",
    "library(SoupX)\n",
    "counts <- assay(bdata, \"X\")\n",
    "colnames(counts) <- colnames(bdata)\n",
    "rownames(counts) <- rownames(bdata)\n",
    "mrks = quickMarkers(counts, colData(bdata)$leiden, N = 100) # where clusters is the cell type assignment and 100 means I want the top 100 genes per cluster that pass the hypergeometric test"
   ]
  },
  {
   "cell_type": "code",
   "execution_count": null,
   "metadata": {},
   "outputs": [],
   "source": [
    "sc.pl.umap(adata, color = ['stage_pcw','leiden', 'donor'],  ncols = 2)"
   ]
  },
  {
   "cell_type": "code",
   "execution_count": null,
   "metadata": {},
   "outputs": [],
   "source": [
    "cluster = mrks[mrks['cluster'] == '0']['gene'].to_list()[0:15]\n",
    "sc.pl.umap(adata, color = cluster, color_map = 'OrRd', ncols = 3, use_raw = False)"
   ]
  },
  {
   "cell_type": "code",
   "execution_count": null,
   "metadata": {},
   "outputs": [],
   "source": [
    "sc.pl.umap(adata, color = ['MMP7', 'NDUFA4L2', 'NXPH4', 'OPRK1', 'DLX5', 'UCA1', 'MSX1', 'PAX8', 'RUNX3', 'RHEX', 'MUC5B', 'KRT5', 'FOXA1', 'TP63', 'WNT7A', 'LGR5', 'WNT11', 'FGF9', \n",
    "                          'SIX1', 'UNC5D', 'ATF3', 'NR4A1', 'KLF6', 'CREB5', 'KLF10', 'KLF4', 'NFKBIA', 'FGF20', 'PNOC', 'LYPD1', \n",
    "                          'LYPD1', 'PNOC', 'DMBT1', 'KLK8', 'TGM1',  'BCAT1',\n",
    "                         'LTF', 'SCGB2A1', 'THSD4', 'RASD1', 'MUC6', 'DNAI1', 'NOTUM', 'CTNNA2',\n",
    "                         'ST3GAL2', 'LGR5', 'OPRL1', 'TSPAN8'], color_map = 'OrRd', use_raw = False)"
   ]
  },
  {
   "cell_type": "code",
   "execution_count": null,
   "metadata": {},
   "outputs": [],
   "source": [
    "sc.pl.umap(adata, color = ['n_genes', 'n_counts', 'percent_mito'], color_map = 'OrRd')"
   ]
  },
  {
   "cell_type": "code",
   "execution_count": null,
   "metadata": {},
   "outputs": [],
   "source": [
    "sc.pl.umap(adata, color = [i for i in ['CALCA', 'GDNF', 'CHL1', 'JAG1', 'JAG2', 'WNT6', 'NCAM1', 'RARRES', 'CDH3', 'CDH2', 'BMP7', 'MDK', 'EFNA5', 'CMKLR1', \n",
    "             'CADM1', 'ACVR', 'GATA6', 'WT1', 'BNC2', 'HOXD8', 'HOXC4', 'STAT1', 'LCORL', 'KLF8', 'FOSL2', 'MAFB'] if i in adata.raw.var_names], ncols = 4, color_map = 'OrRd', \n",
    "          use_raw = False)"
   ]
  },
  {
   "cell_type": "code",
   "execution_count": null,
   "metadata": {},
   "outputs": [],
   "source": [
    "sc.pl.umap(adata, color = [i for i in ['GAS6', 'AR', 'CD47', 'NTF3', 'SOSTDC1', 'CD47', 'APOA1', 'NTF3', 'NR3C1', 'NOTCH2', 'FGF2', 'EFNB2', \n",
    "           'DHCR24'] if i in adata.raw.var_names], ncols = 4, color_map = 'OrRd', \n",
    "          use_raw = False)"
   ]
  },
  {
   "cell_type": "code",
   "execution_count": null,
   "metadata": {},
   "outputs": [],
   "source": [
    "sc.pl.umap(adata, color = [i for i in ['YES1', 'TIAM1', 'SRC', 'ROCK1', 'VAV2', 'VAV3', 'CDC42', 'CRK', 'DNM1', 'GRB2', 'GRB7'] if i in adata.raw.var_names], ncols = 4, color_map = 'OrRd', \n",
    "          use_raw = False)"
   ]
  },
  {
   "cell_type": "code",
   "execution_count": null,
   "metadata": {},
   "outputs": [],
   "source": [
    "sc.pl.umap(adata, color = [i for i in ['ROR2', 'NTN4', 'FGFR2', 'ALDH1A3', 'VEGFA', 'SEMA3C', 'PTPRK', 'CD44', 'IGF1R', 'CD44', 'WNT7A', \n",
    "          'WNT11', 'FGF9', 'TCN', 'SLIT2', 'LGALS9', 'LAMP1', 'LAMC1', 'HLA-C', 'LRP5', 'EGFR', 'CD74', \n",
    "          'CD46', 'CD44', 'ACKR3', 'FZD10', 'ALDH1A1', 'ALDH1A2', 'ALDH1A3', 'HOXB5', 'HOXB6', 'HOXB7', 'HOXB8',\n",
    "                                      'HOXB9', 'ATF2', 'ATF6', 'CUX2', 'BACH2', 'GATA6', 'WT1', 'ROR1', 'NRP1', 'NRP2', 'FGF7', \n",
    "                                      'FGF2', 'EFNB2', 'EPHB4', 'EPGB3', 'EPHB1', 'EPHA4', 'IGF1', 'IGFR1', 'CDH2', 'BMP2', 'BMP4', 'BMP7'] if i in adata.raw.var_names], ncols = 4, color_map = 'OrRd', \n",
    "          use_raw = False)"
   ]
  },
  {
   "cell_type": "code",
   "execution_count": null,
   "metadata": {},
   "outputs": [],
   "source": [
    "sc.pl.umap(adata, color = 'leiden', legend_loc = 'on data')"
   ]
  },
  {
   "cell_type": "code",
   "execution_count": null,
   "metadata": {},
   "outputs": [],
   "source": [
    "anno1 = {'0' : 'Uterus/Cervix_Epithelium_early', '1' : 'FallopianTube_Epithelium_early', '2' : 'Uterus/Cervix_Epithelium_late', \n",
    "        '3' : 'FallopianTube_Epithelium_late', '4' : 'MüllerianVagina_Epithelium', \n",
    "        '5' : 'Uterus/Cervix_Epithelium_late'}\n",
    "\n",
    "anno2 = {'0' : 'Uterus/Cervix_Epithelium', '1' : 'FallopianTube_Epithelium', '2' : 'Uterus/Cervix_Epithelium', \n",
    "        '3' : 'FallopianTube_Epithelium', '4' : 'MüllerianVagina_Epithelium', \n",
    "        '5' : 'Uterus/Cervix_Epithelium',}\n"
   ]
  },
  {
   "cell_type": "code",
   "execution_count": null,
   "metadata": {},
   "outputs": [],
   "source": [
    "adata.obs['epi_mullerian_lowres'] = adata.obs.leiden.map(anno2)\n",
    "adata.obs['epi_mullerian_highres'] = adata.obs.leiden.map(anno1)"
   ]
  },
  {
   "cell_type": "code",
   "execution_count": null,
   "metadata": {},
   "outputs": [],
   "source": [
    "sc.pl.umap(adata, color = ['stage_pcw', 'donor', 'epi_mullerian_lowres', 'epi_mullerian_highres'], \n",
    "          ncols = 2, save = '_epi_mullerian')"
   ]
  },
  {
   "cell_type": "code",
   "execution_count": null,
   "metadata": {},
   "outputs": [],
   "source": [
    "sc.pl.umap(adata, color = ['epi_mullerian_lowres'], \n",
    "         )"
   ]
  },
  {
   "cell_type": "code",
   "execution_count": null,
   "metadata": {},
   "outputs": [],
   "source": [
    "adata.write('/nfs/team292/vl6/FetalReproductiveTract/mullerian_epi_late_post10pcw.h5ad')"
   ]
  },
  {
   "cell_type": "code",
   "execution_count": null,
   "metadata": {},
   "outputs": [],
   "source": [
    "adata.obs['epi_mullerian_highres'] = adata.obs['epi_mullerian_highres'].astype('category')\n",
    "adata.obs['epi_mullerian_highres'] = adata.obs['epi_mullerian_highres'].cat.reorder_categories([\n",
    "    'Epithelial_MüllerianDuct', 'Epithelial_FallopianTube_early', 'Epithelial_FallopianTube_late',\n",
    "    'Epithelial_Uterus_early', 'Epithelial_Uterus_late'\n",
    "])"
   ]
  },
  {
   "cell_type": "code",
   "execution_count": null,
   "metadata": {},
   "outputs": [],
   "source": [
    "sc.pl.umap(adata, color = ['epi_mullerian_highres'], save = '_epi_mull_highres'\n",
    "         )"
   ]
  },
  {
   "cell_type": "code",
   "execution_count": null,
   "metadata": {},
   "outputs": [],
   "source": [
    "adata.obs['epi_mullerian_lowres'] = adata.obs['epi_mullerian_lowres'].astype('category')\n",
    "adata.obs['epi_mullerian_lowres'] = adata.obs['epi_mullerian_lowres'].cat.reorder_categories([\n",
    "    'Epithelial_MüllerianDuct', 'Epithelial_FallopianTube', 'Epithelial_Uterus'\n",
    "])"
   ]
  },
  {
   "cell_type": "code",
   "execution_count": null,
   "metadata": {},
   "outputs": [],
   "source": [
    "sc.pl.umap(adata, color = ['epi_mullerian_lowres'], save = '_epi_mull_lowres'\n",
    "         )"
   ]
  },
  {
   "cell_type": "code",
   "execution_count": null,
   "metadata": {},
   "outputs": [],
   "source": []
  }
 ],
 "metadata": {
  "kernelspec": {
   "display_name": "atac_env",
   "language": "python",
   "name": "atac_env"
  },
  "language_info": {
   "codemirror_mode": {
    "name": "ipython",
    "version": 3
   },
   "file_extension": ".py",
   "mimetype": "text/x-python",
   "name": "python",
   "nbconvert_exporter": "python",
   "pygments_lexer": "ipython3",
   "version": "3.8.6"
  }
 },
 "nbformat": 4,
 "nbformat_minor": 4
}
