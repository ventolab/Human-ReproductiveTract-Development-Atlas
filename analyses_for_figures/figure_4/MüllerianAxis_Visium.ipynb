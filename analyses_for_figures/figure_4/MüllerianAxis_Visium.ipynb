{
 "cells": [
  {
   "cell_type": "markdown",
   "metadata": {},
   "source": [
    "## Derivation of the Müllerian longitudinal axis in Visium samples "
   ]
  },
  {
   "cell_type": "code",
   "execution_count": null,
   "metadata": {},
   "outputs": [],
   "source": [
    "import scanpy as sc\n",
    "import anndata as ad\n",
    "import numpy as np\n",
    "import pandas as pd\n",
    "import matplotlib.pyplot as plt2\n",
    "import seaborn as sns\n",
    "import matplotlib as mpl\n",
    "# import warnings\n",
    "# warnings.filterwarnings(\"ignore\")\n",
    "import os\n",
    "import skimage\n",
    "from skimage import data, segmentation, feature, future\n",
    "from sklearn.ensemble import RandomForestClassifier\n",
    "from functools import partial\n",
    "import squidpy as sq\n",
    "from PIL import Image\n",
    "from PIL.TiffTags import TAGS\n",
    "from skimage import io\n",
    "import tifffile as tf\n",
    "import scipy\n",
    "print(skimage.__version__) # make sure version is 0.19.2\n",
    "# from cellpose import plot\n",
    "# from cellpose import models # my modfied code \n",
    "# from cellpose import io\n",
    "#import cv2\n",
    "import matplotlib.pyplot as plt"
   ]
  },
  {
   "cell_type": "code",
   "execution_count": null,
   "metadata": {},
   "outputs": [],
   "source": [
    "path_to_reptract = '/lustre/scratch126/cellgen/team292/vl6/VISIUM/'"
   ]
  },
  {
   "cell_type": "code",
   "execution_count": null,
   "metadata": {},
   "outputs": [],
   "source": [
    "# Add metadata \n",
    "meta_dict = {'sample' : ['HCA_F_RepTsp13147665', 'HCA_F_RepTsp13147666', 'HCA_F_RepTsp13173760', 'HCA_F_RepTsp13173761', \n",
    "                       'HCA_F_RepTsp13173762', 'HCA_F_RepTsp13173763', 'HCA_F_RepTsp13219892', 'HCA_F_RepTsp13219893', \n",
    "                        'HCA_F_RepTsp13219894', 'HCA_F_RepTsp13219895', 'HCA_F_RepTsp13447718', 'HCA_F_RepTsp13447719',\n",
    "                        'HCA_F_RepTsp13447720', 'HCA_F_RepTsp13447721',  'HCA_F_RepTsp13902013', 'HCA_F_RepTsp13902014', 'HCA_F_RepTsp13902015', \n",
    "                        'HCA_F_RepTsp13902016', 'HCA_F_RepTsp13902018', 'HCA_F_RepTsp14645816'],\n",
    "            'sangerID' : ['Hrv58-GON-0-FO-1-s84', 'Hrv58-GON-0-FO-1-s80', 'HRV183-RPT-0-FO-1-S14_and_HRV183-RPT-0-FO-1-S12', \n",
    "                         'HRV183-RPT-0-FO-1-S9', 'HRV162-RPT-0-FO-1-S176_and_HRV183-RPT-0-FO-1-S26', 'HRV162-RPT-0-FO-1-S161_and_HRV162-RPT-0-FO-1-S162', \n",
    "                         'Hrv117-GON-0-FO-1-S109', 'HRV184-RPT-0-FO-2-S34_and_HRV184-RPT-0-FO-2-S31_and_Hrv117-GON-0-FO-1-S116', \n",
    "                         'HRV129-GON-0-FO-1-S42', 'HRV184-RPT-0-FO-1-S26', 'Hrv125-GON-0-FO-5-S65-A1', \n",
    "                         'Hrv125-GON-0-FO-5-S66-B1', 'Hrv125-GON-0-FO-5-S18-C1', 'Hrv125-GON-0-FO-5-S17-D1', 'Hrv238-RPT-0-FO-1-S39', 'Hrv238-RPT-0-FO-1-S24',\n",
    "                          'Hrv214-RPT-0-FO-1-S58', 'Hrv214-RPT-0-FO-1-S57', 'Hrv245-RPT-9-FO-1-S13', \n",
    "                         'Hrv259-RPT-9-FO-1-S10/S11-i/ii'],\n",
    "            'slide' : ['V12F14-072', 'V12F14-072', 'V12F14-073', 'V12F14-073', 'V12F14-073', 'V12F14-073', \n",
    "                      'V12F14-077', 'V12F14-077', 'V12F14-077', 'V12F14-077', 'V12Y31-055', 'V12Y31-055', \n",
    "                      'V12Y31-055', 'V12Y31-055', 'V42L11-100', 'V42L11-100', 'V42L18-060', 'V42L18-060', \n",
    "                      'V42L13-373', 'V42L06-066'], \n",
    "            'position' : ['A1', 'D1', 'A1', 'B1', 'C1', 'D1', 'A1', 'B1', 'C1', 'D1', 'A1', 'B1', 'C1', 'D1', \n",
    "                         'A1', 'D1', 'A1', 'D1', 'A1', 'A1'], \n",
    "#            'image_name' : ['V12F14-072_A1.tif', 'V12F14-072_D1.tif', 'V12F14-073_A1.tif', 'V12F14-073_B1.tif', 'V12F14-073_C1.tif', 'V12F14-073_D1.tif', \n",
    "#                           'V12F14-077_A1.tif', 'V12F14-077_B1.tif', 'V12F14-077_C1.tif', 'V12F14-077_D1.tif', 'V12Y31-055_A1.tiff',\n",
    "#                           'V12Y31-055_B1.tiff', 'V12Y31-055_C1.tiff', 'V12Y31-055_D1.tiff'], \n",
    "            'donor' : ['Hrv58', 'Hrv58',  'Hrv183', 'Hrv183', 'Hrv162_and_Hrv183', 'Hrv162', 'Hrv117', 'Hrv184_and_Hrv117', 'Hrv129', 'Hrv184',\n",
    "                      'Hrv125', 'Hrv125', 'Hrv125', 'Hrv125', 'Hrv238', 'Hrv238', 'Hrv214', 'Hrv214', 'Hrv245', \n",
    "                      'Hrv259'], \n",
    "            'stage(pcw)' : ['18', '18', '15', '15', '15_and_21', '21', '20', '15_and_20', '17', '15', \n",
    "                           '21','21','21','21', '17', '17', '15', '15', '15', '17'], \n",
    "            'sex' : ['female', 'female', 'female', 'female', 'female', 'female', 'male', 'male', 'male', 'male',\n",
    "                    'female', 'female', 'female', 'female',  'female', 'female', 'female', 'female', 'female', 'female'], \n",
    "           'sectioning' : ['coronal', 'coronal', 'coronal', 'coronal', 'coronal_and_transverse', 'transverse', 'transverse', 'transverse_and_coronal', \n",
    "                          'transverse', 'transverse', 'coronal', 'coronal', 'sagittal', 'sagittal', \n",
    "                          'coronal', \n",
    "                          'coronal', 'sagittal', 'sagittal', 'sagittal', 'sagittal'], \n",
    "            'permeabilisation(min)' : [30, 30, 30, 30, 30, 30, 30, 30, 30, 30,  30, 30, 30, 30, 30, 30, 30, 30, 30, 30],\n",
    "           'month_processing' : ['august_2022', 'august_2022', 'september_2022', 'september_2022', 'september_2022', 'september_2022', \n",
    "                                 'october_2022', 'october_2022', 'october_2022', 'october_2022', \n",
    "                                'january_2023', 'january_2023','january_2023','january_2023', 'july_2023', 'july_2023', 'july_2023', 'july_2023', 'july_2023',\n",
    "                                'march_2024'], \n",
    "           'spaceranger' : ['2.0.0', '2.0.0', '2.0.0', '2.0.0', '2.0.0', '2.0.0', '2.0.0', '2.0.0', \n",
    "                            '2.0.0', '2.0.0', '2.0.0', '2.0.0', '2.0.0', '2.0.0', '2.1.0', '2.1.0', '2.1.0', '2.1.0', \n",
    "                           '2.1.0', '2.1.0']}\n",
    "meta = pd.DataFrame.from_dict(meta_dict)\n",
    "meta = meta.set_index('sample')\n",
    "meta.head()"
   ]
  },
  {
   "cell_type": "markdown",
   "metadata": {},
   "source": [
    "## 1. Import deconvoluted merged object with cell2location"
   ]
  },
  {
   "cell_type": "code",
   "execution_count": null,
   "metadata": {},
   "outputs": [],
   "source": [
    "adata = sc.read('/lustre/scratch126/cellgen/team292/vl6/VISIUM/cell2location_v0.1_cytassist_visium/female_axis/predmodel/sp.h5ad')\n",
    "adata"
   ]
  },
  {
   "cell_type": "code",
   "execution_count": null,
   "metadata": {},
   "outputs": [],
   "source": [
    "adata.obs[adata.uns['mod']['factor_names']] = adata.obsm['q05_cell_abundance_w_sf']"
   ]
  },
  {
   "cell_type": "code",
   "execution_count": null,
   "metadata": {},
   "outputs": [],
   "source": [
    "adata.obs['tot_cell_abundance'] = adata.uns[\"mod\"][\"post_sample_means\"][\"w_sf\"].sum(1).flatten()\n",
    "adata.obs['detection_sensit']  = adata.uns[\"mod\"][\"post_sample_q05\"][\"detection_y_s\"]"
   ]
  },
  {
   "cell_type": "code",
   "execution_count": null,
   "metadata": {},
   "outputs": [],
   "source": [
    "np.mean(adata.obs['tot_cell_abundance']>=5)"
   ]
  },
  {
   "cell_type": "code",
   "execution_count": null,
   "metadata": {},
   "outputs": [],
   "source": [
    "adata.obs['broad_anatomy_annots'].value_counts(dropna = False)"
   ]
  },
  {
   "cell_type": "code",
   "execution_count": null,
   "metadata": {},
   "outputs": [],
   "source": [
    "adata.obs['histology_annots'].value_counts(dropna = False)"
   ]
  },
  {
   "cell_type": "code",
   "execution_count": null,
   "metadata": {},
   "outputs": [],
   "source": [
    "adata.obs['histology_annots'] = adata.obs['histology_annots'].astype(str)\n",
    "adata = adata[[i not in ['nan'] for i in adata.obs['histology_annots']]]"
   ]
  },
  {
   "cell_type": "code",
   "execution_count": null,
   "metadata": {},
   "outputs": [],
   "source": [
    "cell2loc_metadata = adata.copy()"
   ]
  },
  {
   "cell_type": "code",
   "execution_count": null,
   "metadata": {},
   "outputs": [],
   "source": [
    "cell2loc_metadata"
   ]
  },
  {
   "cell_type": "markdown",
   "metadata": {},
   "source": [
    "## 2. Import Visium Cytassist samples with annotated anatomy and histology"
   ]
  },
  {
   "cell_type": "code",
   "execution_count": null,
   "metadata": {},
   "outputs": [],
   "source": [
    "sample_IDs = ['HCA_F_RepTsp13902013', 'HCA_F_RepTsp13902014', 'HCA_F_RepTsp13902015', \n",
    "                        'HCA_F_RepTsp13902016', 'HCA_F_RepTsp13902018', 'HCA_F_RepTsp14645816']"
   ]
  },
  {
   "cell_type": "code",
   "execution_count": null,
   "metadata": {},
   "outputs": [],
   "source": [
    "path = '/lustre/scratch126/cellgen/team292/vl6/VISIUM/'"
   ]
  },
  {
   "cell_type": "code",
   "execution_count": null,
   "metadata": {},
   "outputs": [],
   "source": [
    "adatas = []\n",
    "for sample in sample_IDs:\n",
    "    print(sample)\n",
    "    adata = sc.read(path+sample+'/'+sample+'_annotated.h5ad')\n",
    "    adata.var_names_make_unique()\n",
    "    adata.obs['sample'] = sample\n",
    "    adata.var['SYMBOL'] = adata.var_names\n",
    "    #adata.var.rename(columns={'gene_ids': 'ENSEMBL'}, inplace=True)\n",
    "    #adata.var_names = adata.var['ENSEMBL']\n",
    "    #adata.var.drop(columns='ENSEMBL', inplace=True)\n",
    "\n",
    "    # Calculate QC metrics\n",
    "    sc.pp.calculate_qc_metrics(adata, inplace=True)\n",
    "    adata.var['mt'] = [gene.startswith('MT-') for gene in adata.var['SYMBOL']]\n",
    "    adata.obs['mt_frac'] = adata[:, adata.var['mt'].tolist()].X.sum(1).A.squeeze()/adata.obs['total_counts']\n",
    "\n",
    "    # mitochondria-encoded (MT) genes should be removed for spatial mapping\n",
    "    adata.obsm['mt'] = adata[:, adata.var['mt'].values].X.toarray()\n",
    "    adata = adata[:, ~adata.var['mt'].values]\n",
    "\n",
    "    # add sample name to obs names\n",
    "    adata.obs[\"sample\"] = [str(i) for i in adata.obs['sample']]\n",
    "    adata.obs_names = adata.obs[\"sample\"] \\\n",
    "                          + '_' + adata.obs_names\n",
    "    adata.obs.index.name = 'spot_id'\n",
    "    adata = adata[[i == 1.0 for i in adata.obs['in_tissue']]]\n",
    "    print(adata.shape)\n",
    "    adatas.append(adata)"
   ]
  },
  {
   "cell_type": "code",
   "execution_count": null,
   "metadata": {},
   "outputs": [],
   "source": [
    "keys=[\n",
    "        k\n",
    "        for d in [\n",
    "            adatas[0].uns[\"spatial\"],\n",
    "            adatas[1].uns[\"spatial\"],\n",
    "            adatas[2].uns[\"spatial\"],\n",
    "            adatas[3].uns[\"spatial\"],\n",
    "            adatas[4].uns[\"spatial\"],\n",
    "            adatas[5].uns[\"spatial\"], \n",
    "        ]\n",
    "        for k, v in d.items()]"
   ]
  },
  {
   "cell_type": "code",
   "execution_count": null,
   "metadata": {},
   "outputs": [],
   "source": [
    "for adata in adatas:\n",
    "    if 'x' in adata.obs.columns.to_list():\n",
    "        del adata.obs['x']"
   ]
  },
  {
   "cell_type": "code",
   "execution_count": null,
   "metadata": {},
   "outputs": [],
   "source": [
    "for adata in adatas:\n",
    "    if 'y' in adata.obs.columns.to_list():\n",
    "        del adata.obs['y']"
   ]
  },
  {
   "cell_type": "code",
   "execution_count": null,
   "metadata": {},
   "outputs": [],
   "source": [
    "adatas_cytassist = adatas[0:6]"
   ]
  },
  {
   "cell_type": "markdown",
   "metadata": {},
   "source": [
    "## 3. Concatenate into one object and add cell type deconvolution metadata"
   ]
  },
  {
   "cell_type": "code",
   "execution_count": null,
   "metadata": {},
   "outputs": [],
   "source": [
    "adata_cytassist = sc.concat(\n",
    "    adatas_cytassist,\n",
    "    join = \"outer\",\n",
    "    uns_merge=\"unique\",\n",
    "    keys=[\n",
    "        k\n",
    "        for d in [\n",
    "            adatas_cytassist[0].uns[\"spatial\"],\n",
    "            adatas_cytassist[1].uns[\"spatial\"],\n",
    "            adatas_cytassist[2].uns[\"spatial\"],\n",
    "            adatas_cytassist[3].uns[\"spatial\"],\n",
    "            adatas_cytassist[4].uns[\"spatial\"],\n",
    "            adatas_cytassist[5].uns[\"spatial\"],\n",
    "        ]\n",
    "        for k, v in d.items()\n",
    "    ],\n",
    "    index_unique=None,\n",
    ")\n",
    "adata_cytassist.var_names_make_unique()"
   ]
  },
  {
   "cell_type": "code",
   "execution_count": null,
   "metadata": {},
   "outputs": [],
   "source": [
    "adata_cytassist.obs['sample'].value_counts()"
   ]
  },
  {
   "cell_type": "code",
   "execution_count": null,
   "metadata": {},
   "outputs": [],
   "source": [
    "adata_cytassist.shape"
   ]
  },
  {
   "cell_type": "code",
   "execution_count": null,
   "metadata": {},
   "outputs": [],
   "source": [
    "adata_cytassist.var.head()"
   ]
  },
  {
   "cell_type": "code",
   "execution_count": null,
   "metadata": {},
   "outputs": [],
   "source": [
    "'TPT1' in adata_cytassist.var_names.to_list()"
   ]
  },
  {
   "cell_type": "code",
   "execution_count": null,
   "metadata": {},
   "outputs": [],
   "source": [
    "'EEF1A1' in adata_cytassist.var_names.to_list()"
   ]
  },
  {
   "cell_type": "code",
   "execution_count": null,
   "metadata": {},
   "outputs": [],
   "source": [
    "'HOXC8' in adata_cytassist.var_names.to_list()"
   ]
  },
  {
   "cell_type": "code",
   "execution_count": null,
   "metadata": {},
   "outputs": [],
   "source": [
    "'HOXC8' in adata_cytassist.var_names.to_list()"
   ]
  },
  {
   "cell_type": "code",
   "execution_count": null,
   "metadata": {},
   "outputs": [],
   "source": [
    "adata_cytassist"
   ]
  },
  {
   "cell_type": "code",
   "execution_count": null,
   "metadata": {},
   "outputs": [],
   "source": [
    "for c in cell2loc_metadata.obs.columns.to_list():\n",
    "    if c not in adata_cytassist.obs.columns.to_list():\n",
    "        print(c)\n",
    "        adata_cytassist.obs[c] = adata_cytassist.obs_names.map(cell2loc_metadata.obs[c].to_dict())"
   ]
  },
  {
   "cell_type": "code",
   "execution_count": null,
   "metadata": {},
   "outputs": [],
   "source": [
    "adata_cytassist"
   ]
  },
  {
   "cell_type": "markdown",
   "metadata": {},
   "source": [
    "## 4. Handy functions"
   ]
  },
  {
   "cell_type": "markdown",
   "metadata": {},
   "source": [
    "### 4.1 Function to select slide from spatial anndata object"
   ]
  },
  {
   "cell_type": "code",
   "execution_count": null,
   "metadata": {},
   "outputs": [],
   "source": [
    "def select_slide(adata, s, batch_key=\"sample\"):\n",
    "    r\"\"\"This function selects the data for one slide from the spatial anndata object.\n",
    "\n",
    "    :param adata: Anndata object with multiple spatial experiments\n",
    "    :param s: name of selected experiment\n",
    "    :param batch_key: column in adata.obs listing experiment name for each location\n",
    "    \"\"\"\n",
    "\n",
    "    slide = adata[adata.obs[batch_key].isin([s]), :].copy()\n",
    "    s_keys = list(slide.uns[\"spatial\"].keys())\n",
    "    s_spatial = np.array(s_keys)[[s in k for k in s_keys]][0]\n",
    "\n",
    "    slide.uns[\"spatial\"] = {s_spatial: slide.uns[\"spatial\"][s_spatial]}\n",
    "\n",
    "    return slide"
   ]
  },
  {
   "cell_type": "markdown",
   "metadata": {},
   "source": [
    "### 4.2 Function to build the uterovaginal axis"
   ]
  },
  {
   "cell_type": "code",
   "execution_count": null,
   "metadata": {},
   "outputs": [],
   "source": [
    "def transpose_axis(orig_axis, new_min, new_max):\n",
    "    min_val = min(orig_axis)\n",
    "    max_val = max(orig_axis)\n",
    "    # Apply linear transformation\n",
    "    dest_axis = [(x - min_val) / (max_val - min_val) * (new_max - new_min) + new_min for x in orig_axis]\n",
    "    \n",
    "    return dest_axis\n"
   ]
  },
  {
   "cell_type": "code",
   "execution_count": null,
   "metadata": {},
   "outputs": [],
   "source": [
    "def build_uterovaginal_axis(adata, sample, min_cells, which_axis,\n",
    "                            start_feature_segment1, end_feature_segment1, \n",
    "                            start_feature_segment2 = None, end_feature_segment2 = None, \n",
    "                            start_weight_segment1 = 1, end_weight_segment1 = 1,\n",
    "                            start_weight_segment2 = 1, end_weight_segment2 = 1,\n",
    "                            excluded_regions = ['UterusTransverse', 'Ovary', 'Epoophron', 'Unassigned', 'FallopianTube', 'LowerTract'], is_stitched = False, sample1 = None, sample2 = None):\n",
    "    \n",
    "    print('Is the sample stitched? {}'.format(is_stitched))\n",
    "    \n",
    "    if not is_stitched:\n",
    "        \n",
    "        # Select slide from spatial anndata object\n",
    "        adata_sample = select_slide(adata, sample, batch_key = 'sample')\n",
    "        \n",
    "        # Remove excluded regions \n",
    "        adata_sample = adata_sample[[i not in excluded_regions for i in adata_sample.obs['broad_anatomy_annots']]]\n",
    "        adata_sample = adata_sample[[i > min_cells for i in adata_sample.obs['tot_cell_abundance']]]\n",
    "        \n",
    "        if which_axis == 'uterocervical':\n",
    "            print('Building uterocervical axis for sample {} from {} to {}'.format(sample, start_feature_segment1, \n",
    "                             end_feature_segment1))\n",
    "        \n",
    "            # Build uterocervical axis (first segment from uterine fundus to uterine bottom)\n",
    "            df1 = adata_sample.obs[['L2_dist_longitudinal_anatomy_annots_' + start_feature_segment1, 'L2_dist_longitudinal_anatomy_annots_' + end_feature_segment1, \n",
    "               'broad_anatomy_annots', 'histology_annots']]\n",
    "            print(df1.head())\n",
    "            df1.dropna(inplace=True)\n",
    "            uterovaginal_axis_segment1 = [( start_weight_segment1*int(s) - end_weight_segment1*int(e) ) / ( start_weight_segment1*int(s) + end_weight_segment1*int(e) ) for s,e in zip(df1['L2_dist_longitudinal_anatomy_annots_' + start_feature_segment1], df1['L2_dist_longitudinal_anatomy_annots_' + end_feature_segment1])]\n",
    "        \n",
    "            df1['UteroCervical_Axis'] = uterovaginal_axis_segment1\n",
    "            print(df1['UteroCervical_Axis'].hist(bins=20))\n",
    "        \n",
    "            # Add uterocervical axis to slide \n",
    "            adata_sample.obs['UteroCervical_Axis'] = adata_sample.obs_names.map(df1['UteroCervical_Axis'].to_dict())\n",
    "            sc.pl.spatial(adata_sample[[i in ['Epithelium', 'Mesenchyme', \n",
    "                                          'SmoothMuscle', 'Ligament'] for i in adata_sample.obs['histology_annots']]],\n",
    "                                      color=\"UteroCervical_Axis\", title = 'UteroCervical Axis', cmap = 'jet')\n",
    "            \n",
    "        elif which_axis == 'uterovaginal':\n",
    "            print('Building uterovaginal axis for sample {} from {} to {}'.format(sample, start_feature_segment1, \n",
    "                            end_feature_segment2))\n",
    "            \n",
    "            # Build uterocervical axis (first segment from uterine fundus to uterine bottom)\n",
    "            df1 = adata_sample.obs[['L2_dist_longitudinal_anatomy_annots_' + start_feature_segment1, 'L2_dist_longitudinal_anatomy_annots_' + end_feature_segment1, \n",
    "               'broad_anatomy_annots', 'histology_annots']]\n",
    "            df1.dropna(inplace=True)\n",
    "            uterovaginal_axis_segment1 = [( start_weight_segment1*int(s) - end_weight_segment1*int(e) ) / ( start_weight_segment1*int(s) + end_weight_segment1*int(e) ) for s,e in zip(df1['L2_dist_longitudinal_anatomy_annots_' + start_feature_segment1], df1['L2_dist_longitudinal_anatomy_annots_' + end_feature_segment1])]\n",
    "        \n",
    "            df1['UteroCervical_Axis'] = uterovaginal_axis_segment1\n",
    "            print(df1['UteroCervical_Axis'].hist(bins=20))\n",
    "        \n",
    "            # Add uterocervical axis to slide \n",
    "            adata_sample.obs['UteroCervical_Axis'] = adata_sample.obs_names.map(df1['UteroCervical_Axis'].to_dict())\n",
    "            sc.pl.spatial(adata_sample[[i in ['Epithelium', 'Mesenchyme', \n",
    "                                          'SmoothMuscle', 'Ligament'] for i in adata_sample.obs['histology_annots']]],\n",
    "                                      color=\"UteroCervical_Axis\", title = 'UteroCervical Axis', cmap = 'jet')\n",
    "\n",
    "        \n",
    "            # Build cervicovaginal axis (second segment from uterine fundus to lower tract)\n",
    "            df2 = adata_sample.obs[['L2_dist_longitudinal_anatomy_annots_' + start_feature_segment2, 'L2_dist_longitudinal_anatomy_annots_' + end_feature_segment2, \n",
    "                   'broad_anatomy_annots', 'histology_annots']]\n",
    "            df2.dropna(inplace=True)\n",
    "            uterovaginal_axis_segment2 = [( start_weight_segment2*int(s) - end_weight_segment2*int(e) ) / ( start_weight_segment2*int(s) + end_weight_segment2*int(e) ) for s,e in zip(df2['L2_dist_longitudinal_anatomy_annots_' + start_feature_segment2], df2['L2_dist_longitudinal_anatomy_annots_' + end_feature_segment2])]\n",
    "\n",
    "            df2['CervicoVaginal_Axis'] = uterovaginal_axis_segment2\n",
    "            print(df2['CervicoVaginal_Axis'].hist(bins=20))\n",
    "\n",
    "            # Add cervicovaginal axis to slide \n",
    "            adata_sample.obs['CervicoVaginal_Axis'] = adata_sample.obs_names.map(df2['CervicoVaginal_Axis'].to_dict())\n",
    "            sc.pl.spatial(adata_sample[[i in ['Epithelium', 'Mesenchyme', \n",
    "                                              'SmoothMuscle', 'Ligament'] for i in adata_sample.obs['histology_annots']]],\n",
    "                          color=\"CervicoVaginal_Axis\", title = 'CervicoVaginal Axis', cmap = 'jet')\n",
    "            \n",
    "            # Build uterovaginal axis (combination of uterocervical and cervicovaginal)\n",
    "            uterovaginal_axis_segment2_transpose = transpose_axis(df2['CervicoVaginal_Axis'], 1, 3)\n",
    "            df2['CervicoVaginal_Axis_transpose'] = uterovaginal_axis_segment2_transpose\n",
    "            print(df2['CervicoVaginal_Axis_transpose'].hist(bins=20))\n",
    "            \n",
    "            uterovaginal_axis = df1['UteroCervical_Axis'].append(df2['CervicoVaginal_Axis'])\n",
    "            uterovaginal_axis['UteroVaginal_Axis'] = uterovaginal_axis['UteroCervical_Axis'].fillna(uterovaginal_axis['CervicoVaginal_Axis_transpose'])\n",
    "        \n",
    "            \n",
    "        \n",
    "        \n",
    "        return adata_sample \n",
    "    \n",
    "    else: \n",
    "        \n",
    "        \n",
    "        # Read stitched sample directly \n",
    "        adata_stitched = sc.read(path_to_reptract + sample1 + '_' + sample2 + '/' + sample1 + '_' + sample2 + '_annotated.h5ad')\n",
    "        \n",
    "        # Add a prefix to the distances computed on the joint object \n",
    "        for col in adata_stitched.obs.columns:\n",
    "            if start_feature_segment2 != None:\n",
    "                if col in [ 'L2_dist_longitudinal_anatomy_' + start_feature_segment1, \n",
    "                       'L2_dist_longitudinal_anatomy_' + end_feature_segment1, \n",
    "                       'L2_dist_longitudinal_anatomy_' + start_feature_segment2,\n",
    "                       'L2_dist_longitudinal_anatomy_' + end_feature_segment2,\n",
    "                       'broad_anatomy_annots', 'longitudinal_anatomy']:\n",
    "                    adata_stitched.obs.rename(columns={col : 'joint_' + col}, inplace = True)\n",
    "            else:\n",
    "                if col in [ 'L2_dist_longitudinal_anatomy_' + start_feature_segment1, \n",
    "                       'L2_dist_longitudinal_anatomy_' + end_feature_segment1, \n",
    "                       'broad_anatomy_annots', 'longitudinal_anatomy']:\n",
    "                    adata_stitched.obs.rename(columns={col : 'joint_' + col}, inplace = True)\n",
    "                \n",
    "        # Concatenate \n",
    "        adata_separate = select_slide(adata, sample1, batch_key = 'sample').concatenate(select_slide(adata, sample2, batch_key = 'sample'), index_unique = None)\n",
    "        adata_separate = adata_separate[[i > min_cells for i in adata_separate.obs['tot_cell_abundance']]]\n",
    "        \n",
    "        # Import distances \n",
    "        for col in adata_stitched.obs.columns:\n",
    "            if col.startswith('joint') or col == 'overlaps_with':\n",
    "                adata_separate.obs[col] = adata_separate.obs_names.map(adata_stitched.obs[col].to_dict())\n",
    "            \n",
    "        # Create a dictionary mapping the index of the missing value to the index of the replacement value\n",
    "        replacement_dict = adata_separate.obs['overlaps_with'].dropna().to_dict()\n",
    "        replacement_dict = {v:k for k,v in replacement_dict.items()}\n",
    "        \n",
    "        to_remove = []\n",
    "        for col in adata_separate.obs.columns:\n",
    "            if col.startswith('joint'):\n",
    "                for spot_id in adata_separate.obs_names:\n",
    "                    value = adata_separate.obs.at[spot_id, col]\n",
    "                    if isinstance(value, (float, np.float64)) and np.isnan(value):\n",
    "                        if spot_id in list(replacement_dict.keys()):\n",
    "                            overlapping_spot = replacement_dict[spot_id]\n",
    "                            if overlapping_spot in adata_separate.obs_names:\n",
    "                                adata_separate.obs.at[spot_id, col] = adata_separate.obs.at[overlapping_spot, col]\n",
    "                        elif spot_id not in list(replacement_dict.keys()):\n",
    "                            to_remove.append(spot_id)\n",
    "        remove = list(np.unique(to_remove))\n",
    "        \n",
    "        # create a boolean mask of the observations to keep\n",
    "        mask = ~adata_separate.obs_names.isin(remove)\n",
    "\n",
    "        # select only the rows that match the mask\n",
    "        adata_separate = adata_separate[mask] \n",
    "        \n",
    "        adata_separate = adata_separate[[i not in excluded_regions for i in adata_separate.obs['broad_anatomy_annots']]]\n",
    "\n",
    "        \n",
    "        if which_axis == 'uterocervical':\n",
    "            print('Building uterocervical axis for samples {} and {} from {} to {}'.format(sample1, sample2, start_feature_segment1, \n",
    "                             end_feature_segment1))\n",
    "            \n",
    "\n",
    "        \n",
    "            # Build uterocervical axis (first segment from uterine fundus to uterine bottom)\n",
    "            df1 = adata_separate.obs[['joint_L2_dist_longitudinal_anatomy_' + start_feature_segment1, 'joint_L2_dist_longitudinal_anatomy_' + end_feature_segment1, \n",
    "               'broad_anatomy_annots', 'histology_annots', 'joint_longitudinal_anatomy']]\n",
    "            df1.dropna(inplace=True)\n",
    "            uterovaginal_axis_segment1 = [( start_weight_segment1*int(s) - end_weight_segment1*int(e) ) / ( start_weight_segment1*int(s) + end_weight_segment1*int(e) ) for s,e in zip(df1['joint_L2_dist_longitudinal_anatomy_' + start_feature_segment1], df1['joint_L2_dist_longitudinal_anatomy_' + end_feature_segment1])]\n",
    "        \n",
    "            df1['UteroCervical_Axis'] = uterovaginal_axis_segment1\n",
    "            print(df1['UteroCervical_Axis'].hist(bins=20, color = 'navy'))\n",
    "        \n",
    "            # Add uterocervical axis to slide \n",
    "            adata_separate.obs['UteroCervical_Axis'] = adata_separate.obs_names.map(df1['UteroCervical_Axis'].to_dict())\n",
    "            \n",
    "        elif which_axis == 'uterovaginal':\n",
    "            print('Building uterovaginal axis for samples {} and {} from {} to {}'.format(sample1, sample2, start_feature_segment1, \n",
    "                            end_feature_segment2))\n",
    "        \n",
    "            # Build cervicovaginal axis (second segment from uterine fundus to lower tract)\n",
    "            df2 = adata_separate.obs[['joint_L2_dist_longitudinal_anatomy_' + start_feature_segment1, 'joint_L2_dist_longitudinal_anatomy_' + end_feature_segment2, \n",
    "                   'broad_anatomy_annots', 'histology_annots', 'joint_longitudinal_anatomy']]\n",
    "            print(df2.head())\n",
    "            df2.dropna(inplace=True)\n",
    "            uterovaginal_axis = [( start_weight_segment1*int(s) - end_weight_segment2*int(e) ) / ( start_weight_segment1*int(s) + end_weight_segment2*int(e) ) for s,e in zip(df2['joint_L2_dist_longitudinal_anatomy_' + start_feature_segment1], df2['joint_L2_dist_longitudinal_anatomy_' + end_feature_segment2])]\n",
    "\n",
    "            df2['UteroVaginal_Axis'] = uterovaginal_axis\n",
    "            plt.figure(figsize=(10, 5))  # Set the figure size\n",
    "            plt.subplot(1, 2, 1)\n",
    "            plt.hist(df2['UteroVaginal_Axis'], bins=20, alpha=0.7, color='blue', label='UteroVaginal_Axis')\n",
    "            adata_separate.obs['UteroVaginal_Axis'] = adata_separate.obs_names.map(df2['UteroVaginal_Axis'].to_dict())\n",
    "\n",
    "            # Recode uterovaginal axis so that 'UterineBottom' is found at position +1\n",
    "            # Find the mean coordinate along the uterovaginal axis where the longitudinal anatomical annotation is uterine bottom \n",
    "            mean_coordinate_uterinebottom = df2.loc[df2['joint_longitudinal_anatomy'] == 'UterineBottom', 'UteroVaginal_Axis'].mean()\n",
    "            print(mean_coordinate_uterinebottom)\n",
    "            \n",
    "            b = (1-mean_coordinate_uterinebottom)/(1+mean_coordinate_uterinebottom)\n",
    "            a = b+1\n",
    "            df2['UteroVaginal_Axis_Recoded'] = a * df2['UteroVaginal_Axis'] + b\n",
    "            plt.subplot(1, 2, 2)\n",
    "            plt.hist(df2['UteroVaginal_Axis_Recoded'], bins=20, alpha=0.7, color='blue', label='UteroVaginal_Axis_Recoded')\n",
    "            plt.tight_layout()  # Adjust layout to prevent overlapping\n",
    "            plt.show()\n",
    "            # Add cervicovaginal axis to slide \n",
    "            adata_separate.obs['UteroVaginal_Axis_Recoded'] = adata_separate.obs_names.map(df2['UteroVaginal_Axis_Recoded'].to_dict())\n",
    "            df2['UteroVaginal_Axis_forPlotting'] = transpose_axis(df2['UteroVaginal_Axis_Recoded'], 0, 4)\n",
    "            plt.hist(df2['UteroVaginal_Axis_forPlotting'], bins=20, alpha=0.7, color='blue', label='UteroVaginal_Axis_forPlotting')\n",
    "            plt.tight_layout()  # Adjust layout to prevent overlapping\n",
    "            plt.show()\n",
    "            adata_separate.obs['UteroVaginal_Axis_forPlotting'] = adata_separate.obs_names.map(df2['UteroVaginal_Axis_forPlotting'].to_dict())\n",
    "             \n",
    "\n",
    "        return adata_separate.obs\n",
    "        \n"
   ]
  },
  {
   "cell_type": "code",
   "execution_count": null,
   "metadata": {},
   "outputs": [],
   "source": [
    "sc.set_figure_params(scanpy=True, dpi=80, dpi_save=150, frameon=True, vector_friendly=True, \n",
    "                         fontsize=14, figsize=(10, 10), color_map=None, format='pdf', facecolor=None, transparent=False)"
   ]
  },
  {
   "cell_type": "code",
   "execution_count": null,
   "metadata": {},
   "outputs": [],
   "source": [
    "adata_cytassist.obs['broad_anatomy_annots'].value_counts(dropna = False)"
   ]
  },
  {
   "cell_type": "code",
   "execution_count": null,
   "metadata": {},
   "outputs": [],
   "source": [
    "adata_cytassist"
   ]
  },
  {
   "cell_type": "code",
   "execution_count": null,
   "metadata": {},
   "outputs": [],
   "source": [
    "adata_cytassist.obs['longitudinal_anatomy'].value_counts(dropna = False)"
   ]
  },
  {
   "cell_type": "markdown",
   "metadata": {},
   "source": [
    "## 5. Compute uterovaginal axis"
   ]
  },
  {
   "cell_type": "code",
   "execution_count": null,
   "metadata": {},
   "outputs": [],
   "source": [
    "sample1 = 'HCA_F_RepTsp13902013'\n",
    "sample2 = 'HCA_F_RepTsp13902014'"
   ]
  },
  {
   "cell_type": "code",
   "execution_count": null,
   "metadata": {},
   "outputs": [],
   "source": [
    "HCA_F_RepTsp13902013_HCA_F_RepTsp13902014_axis = build_uterovaginal_axis(adata_cytassist, None, 10, 'uterovaginal',\n",
    "                    'UterineFundus', 'UterineBottom', start_feature_segment2 = 'UterineBottom', end_feature_segment2 = 'EndodermalVaginalStart', start_weight_segment1 = 0.5, end_weight_segment1 = 0.5,\n",
    "                     start_weight_segment2 = 0.5, end_weight_segment2 = 0.5, is_stitched = True,\n",
    "                       sample1 = 'HCA_F_RepTsp13902013', sample2 = 'HCA_F_RepTsp13902014', \n",
    "                        excluded_regions = ['UterusTransverse', 'VaginalPlate', 'Ovary', 'Epoophron', 'Unassigned', 'FallopianTube', 'ExternalGenitalia', 'LowerTract'])\n"
   ]
  },
  {
   "cell_type": "code",
   "execution_count": null,
   "metadata": {},
   "outputs": [],
   "source": [
    "HCA_F_RepTsp13902013_HCA_F_RepTsp13902014_axis"
   ]
  },
  {
   "cell_type": "code",
   "execution_count": null,
   "metadata": {},
   "outputs": [],
   "source": [
    "HCA_F_RepTsp13902013 = select_slide(adata_cytassist, 'HCA_F_RepTsp13902013', batch_key  = 'sample')\n",
    "HCA_F_RepTsp13902013.obs['UteroVaginal_Axis_Recoded'] = HCA_F_RepTsp13902013.obs_names.map(HCA_F_RepTsp13902013_HCA_F_RepTsp13902014_axis['UteroVaginal_Axis_Recoded'].to_dict())\n",
    "HCA_F_RepTsp13902013.obs['UteroVaginal_Axis_forPlotting'] = HCA_F_RepTsp13902013.obs_names.map(HCA_F_RepTsp13902013_HCA_F_RepTsp13902014_axis['UteroVaginal_Axis_forPlotting'].to_dict())\n",
    "\n",
    "sc.pl.spatial(HCA_F_RepTsp13902013, color=\"UteroVaginal_Axis_Recoded\", cmap = 'jet')\n",
    "sc.pl.spatial(HCA_F_RepTsp13902013, color=\"UteroVaginal_Axis_forPlotting\", cmap = 'jet')"
   ]
  },
  {
   "cell_type": "code",
   "execution_count": null,
   "metadata": {},
   "outputs": [],
   "source": [
    "HCA_F_RepTsp13902013"
   ]
  },
  {
   "cell_type": "code",
   "execution_count": null,
   "metadata": {},
   "outputs": [],
   "source": [
    "HCA_F_RepTsp13902014 = select_slide(adata_cytassist, 'HCA_F_RepTsp13902014', batch_key  = 'sample')\n",
    "HCA_F_RepTsp13902014.obs['UteroVaginal_Axis_Recoded'] = HCA_F_RepTsp13902014.obs_names.map(HCA_F_RepTsp13902013_HCA_F_RepTsp13902014_axis['UteroVaginal_Axis_Recoded'].to_dict())\n",
    "HCA_F_RepTsp13902014.obs['UteroVaginal_Axis_forPlotting'] = HCA_F_RepTsp13902014.obs_names.map(HCA_F_RepTsp13902013_HCA_F_RepTsp13902014_axis['UteroVaginal_Axis_forPlotting'].to_dict())\n",
    "\n",
    "sc.pl.spatial(HCA_F_RepTsp13902014, color=\"UteroVaginal_Axis_Recoded\", cmap = 'jet')\n",
    "sc.pl.spatial(HCA_F_RepTsp13902014, color=\"UteroVaginal_Axis_forPlotting\", cmap = 'jet')"
   ]
  },
  {
   "cell_type": "code",
   "execution_count": null,
   "metadata": {},
   "outputs": [],
   "source": [
    "HCA_F_RepTsp13902013_HCA_F_RepTsp13902014_axis.to_csv('/lustre/scratch126/cellgen/team292/vl6/VISIUM/HCA_F_RepTsp13902013_HCA_F_RepTsp13902014/UterinoVaginalAxis_Mullerian.csv')"
   ]
  },
  {
   "cell_type": "code",
   "execution_count": null,
   "metadata": {},
   "outputs": [],
   "source": [
    "HCA_F_RepTsp13902015_HCA_F_RepTsp13902016_axis = build_uterovaginal_axis(adata_cytassist, None, 10, 'uterovaginal',\n",
    "                    'UterineFundus', 'UterineBottom', start_feature_segment2 = 'UterineBottom', end_feature_segment2 = 'EndodermalVaginalStart', start_weight_segment1 = 0.5, end_weight_segment1 = 0.5,\n",
    "                     start_weight_segment2 = 0.5, end_weight_segment2 = 0.5, is_stitched = True,\n",
    "                       sample1 = 'HCA_F_RepTsp13902015', sample2 = 'HCA_F_RepTsp13902016', \n",
    "                        excluded_regions = ['UterusTransverse', 'VaginalPlate', 'Ovary', 'Epoophron', 'Unassigned', 'FallopianTube', \n",
    "                                           'LowerTract', 'ExternalGenitalia'])\n"
   ]
  },
  {
   "cell_type": "code",
   "execution_count": null,
   "metadata": {},
   "outputs": [],
   "source": [
    "HCA_F_RepTsp13902015 = select_slide(adata_cytassist, 'HCA_F_RepTsp13902015', batch_key  = 'sample')\n",
    "HCA_F_RepTsp13902015.obs['UteroVaginal_Axis_Recoded'] = HCA_F_RepTsp13902015.obs_names.map(HCA_F_RepTsp13902015_HCA_F_RepTsp13902016_axis['UteroVaginal_Axis_Recoded'].to_dict())\n",
    "HCA_F_RepTsp13902015.obs['UteroVaginal_Axis_forPlotting'] = HCA_F_RepTsp13902015.obs_names.map(HCA_F_RepTsp13902015_HCA_F_RepTsp13902016_axis['UteroVaginal_Axis_forPlotting'].to_dict())\n",
    "\n",
    "sc.pl.spatial(HCA_F_RepTsp13902015, color=\"UteroVaginal_Axis_Recoded\", cmap = 'jet')\n",
    "sc.pl.spatial(HCA_F_RepTsp13902015, color=\"UteroVaginal_Axis_forPlotting\", cmap = 'jet')"
   ]
  },
  {
   "cell_type": "code",
   "execution_count": null,
   "metadata": {},
   "outputs": [],
   "source": [
    "HCA_F_RepTsp13902016 = select_slide(adata_cytassist, 'HCA_F_RepTsp13902016', batch_key  = 'sample')\n",
    "HCA_F_RepTsp13902016.obs['UteroVaginal_Axis_Recoded'] = HCA_F_RepTsp13902016.obs_names.map(HCA_F_RepTsp13902015_HCA_F_RepTsp13902016_axis['UteroVaginal_Axis_Recoded'].to_dict())\n",
    "HCA_F_RepTsp13902016.obs['UteroVaginal_Axis_forPlotting'] = HCA_F_RepTsp13902016.obs_names.map(HCA_F_RepTsp13902015_HCA_F_RepTsp13902016_axis['UteroVaginal_Axis_forPlotting'].to_dict())\n",
    "\n",
    "sc.pl.spatial(HCA_F_RepTsp13902016, color=\"UteroVaginal_Axis_Recoded\", cmap = 'jet')\n",
    "sc.pl.spatial(HCA_F_RepTsp13902016, color=\"UteroVaginal_Axis_forPlotting\", cmap = 'jet')"
   ]
  },
  {
   "cell_type": "code",
   "execution_count": null,
   "metadata": {},
   "outputs": [],
   "source": [
    "HCA_F_RepTsp13902015_HCA_F_RepTsp13902016_axis.to_csv('/lustre/scratch126/cellgen/team292/vl6/VISIUM/HCA_F_RepTsp13902015_HCA_F_RepTsp13902016/UteroVaginalAxis_Mullerian.csv')\n"
   ]
  },
  {
   "cell_type": "markdown",
   "metadata": {},
   "source": [
    "## 6. Combine the uterovaginal axis from multiple samples "
   ]
  },
  {
   "cell_type": "code",
   "execution_count": null,
   "metadata": {},
   "outputs": [],
   "source": [
    "def combine_axis(samples, axis_name, return_adata = False):\n",
    "    \n",
    "    # Merge anndata objects\n",
    "    adata_all = samples[0].concatenate(samples[1:], index_unique = None)\n",
    "    \n",
    "    # Remove spots that don't have a value for the axis \n",
    "    adata_all_obs = adata_all.obs\n",
    "    adata_all_obs = adata_all_obs[adata_all_obs[axis_name].notna()]\n",
    "    adata_all = adata_all[adata_all_obs.index.to_list(), :]\n",
    "    \n",
    "    if return_adata:\n",
    "        return adata_all\n",
    "    else:\n",
    "        return adata_all_obs"
   ]
  },
  {
   "cell_type": "code",
   "execution_count": null,
   "metadata": {},
   "outputs": [],
   "source": [
    "uterovaginal_axis = combine_axis(samples = [ \n",
    "                                            HCA_F_RepTsp13902013, HCA_F_RepTsp13902014, HCA_F_RepTsp13902015, HCA_F_RepTsp13902016\n",
    "                                           ], \n",
    "                                axis_name = 'UteroVaginal_Axis_forPlotting', return_adata = True)"
   ]
  },
  {
   "cell_type": "code",
   "execution_count": null,
   "metadata": {},
   "outputs": [],
   "source": [
    "uterovaginal_axis.shape"
   ]
  },
  {
   "cell_type": "code",
   "execution_count": null,
   "metadata": {},
   "outputs": [],
   "source": [
    "uterovaginal_axis.var.head()"
   ]
  },
  {
   "cell_type": "code",
   "execution_count": null,
   "metadata": {},
   "outputs": [],
   "source": [
    "uterovaginal_axis.obs['histology_annots'].value_counts(dropna = False)"
   ]
  },
  {
   "cell_type": "code",
   "execution_count": null,
   "metadata": {},
   "outputs": [],
   "source": [
    "uterovaginal_axis.obs['broad_anatomy_annots'].value_counts(dropna = False)"
   ]
  },
  {
   "cell_type": "code",
   "execution_count": null,
   "metadata": {},
   "outputs": [],
   "source": [
    "uterovaginal_axis.obs.to_csv('/lustre/scratch126/cellgen/team292/vl6/VISIUM/uterovaginal_axis_mullerian.csv')"
   ]
  },
  {
   "cell_type": "code",
   "execution_count": null,
   "metadata": {},
   "outputs": [],
   "source": [
    "uterovaginal_axis"
   ]
  },
  {
   "cell_type": "code",
   "execution_count": null,
   "metadata": {},
   "outputs": [],
   "source": [
    "# Selecting relevant columns for computation\n",
    "relevant_columns = ['Coelomic_Epithelium', 'FallopianTube_Epithelium', 'Ciliated_Epithelium', 'FallopianTube_Mesenchyme', 'FallopianTube_Ligament', 'FallopianTube_SmoothMuscle', 'Uterus/Cervix_Epithelium', 'Uterus_Mesenchyme', 'Uterus_Ligament', 'Uterus_SmoothMuscle', 'Cervix_Mesenchyme', 'Cervix/MüllerianVagina_Ligament', 'Cervix/MüllerianVagina_SmoothMuscle', 'MüllerianVagina_Epithelium', 'MüllerianVagina_Mesenchyme', 'VaginalPlate_Epithelium', 'VaginalPlate_Mesenchyme', 'VaginalPlate_SmoothMuscle', 'VaginalPlate_Ligament', 'MesonephricTubules_Epithelium', 'Epoophron_Mesenchyme', 'Pre-Perivascular', 'Perivascular', 'SkeletalMuscle', 'Endothelial', 'Endothelial_Lymphatic', 'Immune', 'Erythroid', 'SchwannCell', 'Neural']\n",
    "\n",
    "# Calculating the percentage of cells that are of the most abundant cell type for each spot\n",
    "uterovaginal_axis.obs['Most_Abundant_Cell_Type'] = uterovaginal_axis.obs[relevant_columns].idxmax(axis=1)\n"
   ]
  },
  {
   "cell_type": "code",
   "execution_count": null,
   "metadata": {},
   "outputs": [],
   "source": [
    "uterovaginal_axis.obs['Most_Abundant_Cell_Type'].value_counts()"
   ]
  },
  {
   "cell_type": "code",
   "execution_count": null,
   "metadata": {},
   "outputs": [],
   "source": [
    "uterovaginal_axis.obs[relevant_columns].sum(axis=1).values"
   ]
  },
  {
   "cell_type": "code",
   "execution_count": null,
   "metadata": {},
   "outputs": [],
   "source": [
    "for s in uterovaginal_axis.obs_names:\n",
    "    ct = uterovaginal_axis.obs.loc[s, 'Most_Abundant_Cell_Type']\n",
    "    n_ct = uterovaginal_axis.obs.loc[s, ct]\n",
    "    n_tot = uterovaginal_axis.obs.loc[s, relevant_columns].sum()\n",
    "    uterovaginal_axis.obs.loc[s, 'Percentage_Most_Abundant_Cell_Type'] = (n_ct / n_tot) "
   ]
  },
  {
   "cell_type": "code",
   "execution_count": null,
   "metadata": {},
   "outputs": [],
   "source": [
    "uterovaginal_axis.obs['Percentage_Most_Abundant_Cell_Type']"
   ]
  },
  {
   "cell_type": "markdown",
   "metadata": {},
   "source": [
    "## 7. Uterovaginal axis in mesenchymal spots -- prepare for TradeSeq"
   ]
  },
  {
   "cell_type": "code",
   "execution_count": null,
   "metadata": {},
   "outputs": [],
   "source": [
    "uterus_mese = uterovaginal_axis[[i in ['Uterus_Mesenchyme', 'Cervix_Mesenchyme',\n",
    "                'MüllerianVagina_Mesenchyme'] for i in uterovaginal_axis.obs['Most_Abundant_Cell_Type']]]\n",
    "uterus_mese"
   ]
  },
  {
   "cell_type": "code",
   "execution_count": null,
   "metadata": {},
   "outputs": [],
   "source": [
    "uterus_mese.obs['Percentage_Most_Abundant_Cell_Type'].hist(bins=20)"
   ]
  },
  {
   "cell_type": "code",
   "execution_count": null,
   "metadata": {},
   "outputs": [],
   "source": [
    "uterus_mese = uterus_mese[[i > 0.6 for i in uterus_mese.obs['Percentage_Most_Abundant_Cell_Type']]]"
   ]
  },
  {
   "cell_type": "code",
   "execution_count": null,
   "metadata": {},
   "outputs": [],
   "source": [
    "\n",
    "HCA_F_RepTsp13902013.obs['Percentage_Most_Abundant_Cell_Type'] = HCA_F_RepTsp13902013.obs_names.map(uterus_mese.obs['Percentage_Most_Abundant_Cell_Type'].to_dict())\n",
    "sc.pl.spatial(HCA_F_RepTsp13902013, color=\"Percentage_Most_Abundant_Cell_Type\")\n",
    "HCA_F_RepTsp13902013.obs['Most_Abundant_Cell_Type'] = HCA_F_RepTsp13902013.obs_names.map(uterus_mese.obs['Most_Abundant_Cell_Type'].to_dict())\n",
    "sc.pl.spatial(HCA_F_RepTsp13902013, color=\"Most_Abundant_Cell_Type\")\n",
    "\n",
    "HCA_F_RepTsp13902014.obs['Percentage_Most_Abundant_Cell_Type'] = HCA_F_RepTsp13902014.obs_names.map(uterus_mese.obs['Percentage_Most_Abundant_Cell_Type'].to_dict())\n",
    "sc.pl.spatial(HCA_F_RepTsp13902014, color=\"Percentage_Most_Abundant_Cell_Type\")\n",
    "HCA_F_RepTsp13902014.obs['Most_Abundant_Cell_Type'] = HCA_F_RepTsp13902014.obs_names.map(uterus_mese.obs['Most_Abundant_Cell_Type'].to_dict())\n",
    "sc.pl.spatial(HCA_F_RepTsp13902014, color=\"Most_Abundant_Cell_Type\")\n",
    "\n",
    "HCA_F_RepTsp13902015.obs['Percentage_Most_Abundant_Cell_Type'] = HCA_F_RepTsp13902015.obs_names.map(uterus_mese.obs['Percentage_Most_Abundant_Cell_Type'].to_dict())\n",
    "sc.pl.spatial(HCA_F_RepTsp13902015, color=\"Percentage_Most_Abundant_Cell_Type\")\n",
    "HCA_F_RepTsp13902015.obs['Most_Abundant_Cell_Type'] = HCA_F_RepTsp13902015.obs_names.map(uterus_mese.obs['Most_Abundant_Cell_Type'].to_dict())\n",
    "sc.pl.spatial(HCA_F_RepTsp13902015, color=\"Most_Abundant_Cell_Type\")\n",
    "\n",
    "HCA_F_RepTsp13902016.obs['Percentage_Most_Abundant_Cell_Type'] = HCA_F_RepTsp13902016.obs_names.map(uterus_mese.obs['Percentage_Most_Abundant_Cell_Type'].to_dict())\n",
    "sc.pl.spatial(HCA_F_RepTsp13902016, color=\"Percentage_Most_Abundant_Cell_Type\")\n",
    "HCA_F_RepTsp13902016.obs['Most_Abundant_Cell_Type'] = HCA_F_RepTsp13902016.obs_names.map(uterus_mese.obs['Most_Abundant_Cell_Type'].to_dict())\n",
    "sc.pl.spatial(HCA_F_RepTsp13902016, color=\"Most_Abundant_Cell_Type\")\n",
    "\n"
   ]
  },
  {
   "cell_type": "code",
   "execution_count": null,
   "metadata": {},
   "outputs": [],
   "source": [
    "import anndata"
   ]
  },
  {
   "cell_type": "code",
   "execution_count": null,
   "metadata": {},
   "outputs": [],
   "source": [
    "uterus_mese.X.toarray()"
   ]
  },
  {
   "cell_type": "code",
   "execution_count": null,
   "metadata": {},
   "outputs": [],
   "source": [
    "uterus_mese_forR = uterus_mese.copy()"
   ]
  },
  {
   "cell_type": "code",
   "execution_count": null,
   "metadata": {},
   "outputs": [],
   "source": [
    "# remove mito genes\n",
    "non_mito_genes = [name for name in uterus_mese_forR.var_names if not name.startswith('MT-')]\n",
    "uterus_mese_forR = uterus_mese_forR[:, non_mito_genes]\n",
    "\n",
    "# remove ribo genes\n",
    "non_ribo_genes = [name for name in uterus_mese_forR.var_names if not name.startswith('RP')]\n",
    "uterus_mese_forR = uterus_mese_forR[:, non_ribo_genes]\n",
    "\n",
    "# remove haemoglobin genes \n",
    "non_haemo_genes = [name for name in uterus_mese_forR.var_names if name not in ['HBA1', 'HBA2', 'HBB', 'HBG1', 'HBG2']]\n",
    "uterus_mese_forR = uterus_mese_forR[:, non_haemo_genes]\n",
    "\n",
    "sc.pp.filter_genes(uterus_mese_forR, min_cells=10)\n",
    "sc.pp.filter_genes(uterus_mese_forR, min_counts=1)\n"
   ]
  },
  {
   "cell_type": "code",
   "execution_count": null,
   "metadata": {},
   "outputs": [],
   "source": [
    "'HLA-B' in uterus_mese_forR.var_names"
   ]
  },
  {
   "cell_type": "code",
   "execution_count": null,
   "metadata": {},
   "outputs": [],
   "source": [
    "uterus_mese_forR.shape"
   ]
  },
  {
   "cell_type": "code",
   "execution_count": null,
   "metadata": {},
   "outputs": [],
   "source": []
  },
  {
   "cell_type": "code",
   "execution_count": null,
   "metadata": {},
   "outputs": [],
   "source": [
    "uterus_mese_forR.obs['UteroVaginal_Axis_forPlotting'].hist(bins = 10)"
   ]
  },
  {
   "cell_type": "code",
   "execution_count": null,
   "metadata": {},
   "outputs": [],
   "source": [
    "for col in uterus_mese_forR.obs.columns:\n",
    "    if col not in [ 'UteroVaginal_Axis_forPlotting', 'sample']:\n",
    "        del uterus_mese_forR.obs[col]"
   ]
  },
  {
   "cell_type": "code",
   "execution_count": null,
   "metadata": {},
   "outputs": [],
   "source": [
    "del uterus_mese_forR.obsm"
   ]
  },
  {
   "cell_type": "code",
   "execution_count": null,
   "metadata": {},
   "outputs": [],
   "source": [
    "uterus_mese_forR.obs.head()"
   ]
  },
  {
   "cell_type": "code",
   "execution_count": null,
   "metadata": {},
   "outputs": [],
   "source": [
    "uterus_mese_forR.obs.to_csv('/lustre/scratch126/cellgen/team292/vl6/VISIUM/UterovaginalAxis_mese_spots_mullerian_uterovaginal_cytassist.csv')\n"
   ]
  },
  {
   "cell_type": "code",
   "execution_count": null,
   "metadata": {},
   "outputs": [],
   "source": [
    "import rpy2.rinterface_lib.callbacks\n",
    "import logging\n",
    "# Ignore R warning messages\n",
    "#Note: this can be commented out to get more verbose R output\n",
    "rpy2.rinterface_lib.callbacks.logger.setLevel(logging.ERROR)\n",
    "import anndata2ri\n",
    "anndata2ri.activate()\n",
    "%load_ext rpy2.ipython"
   ]
  },
  {
   "cell_type": "code",
   "execution_count": null,
   "metadata": {},
   "outputs": [],
   "source": [
    "%%R -i uterus_mese_forR\n",
    "uterus_mese_forR"
   ]
  },
  {
   "cell_type": "code",
   "execution_count": null,
   "metadata": {},
   "outputs": [],
   "source": [
    "%%R \n",
    "saveRDS(uterus_mese_forR, '/lustre/scratch126/cellgen/team292/vl6/VISIUM/UterovaginalAxis_mese_mullerian_uterovaginal_cytassist.rds')"
   ]
  },
  {
   "cell_type": "code",
   "execution_count": null,
   "metadata": {},
   "outputs": [],
   "source": [
    "uterovaginal_axis.obs['Most_Abundant_Cell_Type'].value_counts()"
   ]
  },
  {
   "cell_type": "markdown",
   "metadata": {},
   "source": [
    "## 8. Uterovaginal axis in epithelial spots -- prepare for TradeSeq"
   ]
  },
  {
   "cell_type": "code",
   "execution_count": null,
   "metadata": {},
   "outputs": [],
   "source": [
    "# uterus_epi = uterovaginal_axis[[i in ['Epithelial_UCA1_Uterus', \n",
    "#                                       'Epithelial_UCA1+TP63'] for i in uterovaginal_axis.obs['Most_Abundant_Cell_Type']]]\n",
    "# uterus_epi"
   ]
  },
  {
   "cell_type": "code",
   "execution_count": null,
   "metadata": {},
   "outputs": [],
   "source": [
    "uterus_epi = uterovaginal_axis[[i in ['Epithelium'] for i in uterovaginal_axis.obs['histology_annots']]]\n",
    "uterus_epi"
   ]
  },
  {
   "cell_type": "code",
   "execution_count": null,
   "metadata": {},
   "outputs": [],
   "source": [
    "uterus_epi.obs['Percentage_Most_Abundant_Cell_Type'].hist(bins=50)"
   ]
  },
  {
   "cell_type": "code",
   "execution_count": null,
   "metadata": {},
   "outputs": [],
   "source": [
    "uterus_epi.obs['Most_Abundant_Cell_Type'].value_counts()"
   ]
  },
  {
   "cell_type": "code",
   "execution_count": null,
   "metadata": {},
   "outputs": [],
   "source": [
    "#uterus_epi = uterus_epi[[i > 0.5 for i in uterus_epi.obs['Percentage_Most_Abundant_Cell_Type']]]"
   ]
  },
  {
   "cell_type": "code",
   "execution_count": null,
   "metadata": {},
   "outputs": [],
   "source": [
    "uterus_epi.shape"
   ]
  },
  {
   "cell_type": "code",
   "execution_count": null,
   "metadata": {},
   "outputs": [],
   "source": [
    "uterus_epi.shape"
   ]
  },
  {
   "cell_type": "code",
   "execution_count": null,
   "metadata": {},
   "outputs": [],
   "source": [
    "\n",
    "\n",
    "HCA_F_RepTsp13902013.obs['Percentage_Most_Abundant_Cell_Type'] = HCA_F_RepTsp13902013.obs_names.map(uterus_epi.obs['Percentage_Most_Abundant_Cell_Type'].to_dict())\n",
    "sc.pl.spatial(HCA_F_RepTsp13902013, color=\"Percentage_Most_Abundant_Cell_Type\")\n",
    "HCA_F_RepTsp13902013.obs['Most_Abundant_Cell_Type'] = HCA_F_RepTsp13902013.obs_names.map(uterus_epi.obs['Most_Abundant_Cell_Type'].to_dict())\n",
    "sc.pl.spatial(HCA_F_RepTsp13902013, color=\"Most_Abundant_Cell_Type\")\n",
    "\n",
    "HCA_F_RepTsp13902014.obs['Percentage_Most_Abundant_Cell_Type'] = HCA_F_RepTsp13902014.obs_names.map(uterus_epi.obs['Percentage_Most_Abundant_Cell_Type'].to_dict())\n",
    "sc.pl.spatial(HCA_F_RepTsp13902014, color=\"Percentage_Most_Abundant_Cell_Type\")\n",
    "HCA_F_RepTsp13902014.obs['Most_Abundant_Cell_Type'] = HCA_F_RepTsp13902014.obs_names.map(uterus_epi.obs['Most_Abundant_Cell_Type'].to_dict())\n",
    "sc.pl.spatial(HCA_F_RepTsp13902014, color=\"Most_Abundant_Cell_Type\")\n",
    "\n",
    "HCA_F_RepTsp13902015.obs['Percentage_Most_Abundant_Cell_Type'] = HCA_F_RepTsp13902015.obs_names.map(uterus_epi.obs['Percentage_Most_Abundant_Cell_Type'].to_dict())\n",
    "sc.pl.spatial(HCA_F_RepTsp13902015, color=\"Percentage_Most_Abundant_Cell_Type\")\n",
    "HCA_F_RepTsp13902015.obs['Most_Abundant_Cell_Type'] = HCA_F_RepTsp13902015.obs_names.map(uterus_epi.obs['Most_Abundant_Cell_Type'].to_dict())\n",
    "sc.pl.spatial(HCA_F_RepTsp13902015, color=\"Most_Abundant_Cell_Type\")\n",
    "\n",
    "HCA_F_RepTsp13902016.obs['Percentage_Most_Abundant_Cell_Type'] = HCA_F_RepTsp13902016.obs_names.map(uterus_epi.obs['Percentage_Most_Abundant_Cell_Type'].to_dict())\n",
    "sc.pl.spatial(HCA_F_RepTsp13902016, color=\"Percentage_Most_Abundant_Cell_Type\")\n",
    "HCA_F_RepTsp13902016.obs['Most_Abundant_Cell_Type'] = HCA_F_RepTsp13902016.obs_names.map(uterus_epi.obs['Most_Abundant_Cell_Type'].to_dict())\n",
    "sc.pl.spatial(HCA_F_RepTsp13902016, color=\"Most_Abundant_Cell_Type\")\n"
   ]
  },
  {
   "cell_type": "code",
   "execution_count": null,
   "metadata": {},
   "outputs": [],
   "source": []
  },
  {
   "cell_type": "code",
   "execution_count": null,
   "metadata": {},
   "outputs": [],
   "source": [
    "uterus_epi.shape"
   ]
  },
  {
   "cell_type": "code",
   "execution_count": null,
   "metadata": {},
   "outputs": [],
   "source": [
    "uterus_epi_forR = uterus_epi.copy()"
   ]
  },
  {
   "cell_type": "code",
   "execution_count": null,
   "metadata": {},
   "outputs": [],
   "source": [
    "# remove mito genes\n",
    "non_mito_genes = [name for name in uterus_epi_forR.var_names if not name.startswith('MT-')]\n",
    "uterus_epi_forR = uterus_epi_forR[:, non_mito_genes]\n",
    "\n",
    "# remove ribo genes\n",
    "non_ribo_genes = [name for name in uterus_epi_forR.var_names if not name.startswith('RP')]\n",
    "uterus_epi_forR = uterus_epi_forR[:, non_ribo_genes]\n",
    "\n",
    "# remove haemoglobin genes \n",
    "non_haemo_genes = [name for name in uterus_epi_forR.var_names if name not in ['HBA1', 'HBA2', 'HBB', 'HBG1', 'HBG2']]\n",
    "uterus_epi_forR = uterus_epi_forR[:, non_haemo_genes]\n",
    "\n",
    "sc.pp.filter_genes(uterus_epi_forR, min_cells = 10)\n",
    "sc.pp.filter_genes(uterus_epi_forR, min_counts = 1)"
   ]
  },
  {
   "cell_type": "code",
   "execution_count": null,
   "metadata": {},
   "outputs": [],
   "source": [
    "for col in uterus_epi_forR.obs.columns:\n",
    "    if col not in [ 'UteroVaginal_Axis_forPlotting', 'sample']:\n",
    "        del uterus_epi_forR.obs[col]"
   ]
  },
  {
   "cell_type": "code",
   "execution_count": null,
   "metadata": {},
   "outputs": [],
   "source": [
    "del uterus_epi_forR.obsm"
   ]
  },
  {
   "cell_type": "code",
   "execution_count": null,
   "metadata": {},
   "outputs": [],
   "source": [
    "uterus_epi_forR.obs.head()"
   ]
  },
  {
   "cell_type": "code",
   "execution_count": null,
   "metadata": {},
   "outputs": [],
   "source": [
    "uterus_epi_forR.obs['UteroVaginal_Axis_forPlotting'].hist(bins =10)"
   ]
  },
  {
   "cell_type": "code",
   "execution_count": null,
   "metadata": {},
   "outputs": [],
   "source": [
    "uterus_epi_forR.obs.to_csv('/lustre/scratch126/cellgen/team292/vl6/VISIUM/UterovaginalAxis_epi_spots_mullerian_uterovaginal_cytassist.csv')\n"
   ]
  },
  {
   "cell_type": "code",
   "execution_count": null,
   "metadata": {},
   "outputs": [],
   "source": [
    "%%R -i uterus_epi_forR\n",
    "uterus_epi_forR"
   ]
  },
  {
   "cell_type": "code",
   "execution_count": null,
   "metadata": {},
   "outputs": [],
   "source": [
    "%%R \n",
    "saveRDS(uterus_epi_forR, '/lustre/scratch126/cellgen/team292/vl6/VISIUM/UterovaginalAxis_epi_mullerian_uterovaginal_cytassist.rds')"
   ]
  },
  {
   "cell_type": "code",
   "execution_count": null,
   "metadata": {},
   "outputs": [],
   "source": [
    "uterus_epi_forR.shape"
   ]
  },
  {
   "cell_type": "code",
   "execution_count": null,
   "metadata": {},
   "outputs": [],
   "source": [
    "uterovaginal_axis.shape"
   ]
  },
  {
   "cell_type": "code",
   "execution_count": null,
   "metadata": {},
   "outputs": [],
   "source": [
    "uterovaginal_axis = uterovaginal_axis.obs"
   ]
  },
  {
   "cell_type": "markdown",
   "metadata": {},
   "source": [
    "## 9. Fallopian tube axis "
   ]
  },
  {
   "cell_type": "code",
   "execution_count": null,
   "metadata": {},
   "outputs": [],
   "source": [
    "fallopian_HCA_F_RepTsp13902018 = sc.read('/lustre/scratch126/cellgen/team292/vl6/VISIUM/HCA_F_RepTsp13902018/HCA_F_RepTsp13902018_annotated.h5ad')\n",
    "fallopian_HCA_F_RepTsp13902018"
   ]
  },
  {
   "cell_type": "code",
   "execution_count": null,
   "metadata": {},
   "outputs": [],
   "source": [
    "import matplotlib as mpl\n",
    "mpl.rcParams['pdf.fonttype'] = 42"
   ]
  },
  {
   "cell_type": "code",
   "execution_count": null,
   "metadata": {},
   "outputs": [],
   "source": [
    "sc.set_figure_params(scanpy=True, dpi=80, dpi_save=150, frameon=True, vector_friendly=True, \n",
    "                         fontsize=14, figsize=(7, 7), color_map=None, format='pdf', facecolor=None, transparent=False)"
   ]
  },
  {
   "cell_type": "code",
   "execution_count": null,
   "metadata": {},
   "outputs": [],
   "source": [
    "sc.pl.spatial(fallopian_HCA_F_RepTsp13902018, save = '_15pcw_FT')"
   ]
  },
  {
   "cell_type": "code",
   "execution_count": null,
   "metadata": {},
   "outputs": [],
   "source": [
    "def build_fallopian_axis(adata, sample, min_cells, start_feature, end_feature, start_weight = 1, end_weight = 1,\n",
    "                         excluded_regions = ['TransverseUterus', 'VaginalPlate', 'Unassigned', 'Uterus', 'Ovary', \n",
    "                                            'Epoophron', 'Background'], is_stitched = False, sample1 = None, sample2 = None):\n",
    "    \n",
    "    print('Is the sample stitched? {}'.format(is_stitched))\n",
    "    \n",
    "    if not is_stitched:\n",
    "        \n",
    "        print('Building uterovaginal axis for sample {} from {} (weight: {}) to {} (weight: {})'.format(sample, start_feature, \n",
    "                            start_weight, end_feature, end_weight))\n",
    "        \n",
    "        # Select slide from spatial anndata object\n",
    "        adata_sample = select_slide(adata, sample, batch_key = 'sample')\n",
    "        \n",
    "        # Remove excluded regions \n",
    "        adata_sample = adata_sample[[i not in excluded_regions for i in adata_sample.obs['broad_anatomy_annots']]]\n",
    "        adata_sample = adata_sample[[i > min_cells for i in adata_sample.obs['tot_cell_abundance']]]\n",
    "        adata_sample = adata_sample[[i != 'Background' for i in adata_sample.obs['longitudinal_anatomy']]]\n",
    "    \n",
    "        adata_sample = adata_sample[[notna_val for notna_val in adata_sample.obs['L2_dist_longitudinal_anatomy_FallopianFimbriae'].notna()]]\n",
    "        \n",
    "        # Build axis \n",
    "        df = adata_sample.obs[['L2_dist_longitudinal_anatomy_' + start_feature, 'L2_dist_longitudinal_anatomy_' + end_feature, \n",
    "               'broad_anatomy_annots', 'histology_annots']]\n",
    "        print(df.head())\n",
    "        print(df['L2_dist_longitudinal_anatomy_' + start_feature].isna().value_counts())\n",
    "        fallopian_axis = [( start_weight*int(s) - end_weight*int(e) ) / ( start_weight*int(s) + end_weight*int(e) ) for s,e in zip(df['L2_dist_longitudinal_anatomy_' + start_feature], df['L2_dist_longitudinal_anatomy_' + end_feature])]\n",
    "        df['Fallopian_Axis'] = fallopian_axis\n",
    "        df['Fallopian_Axis'] = transpose_axis(df['Fallopian_Axis'], -2, 0)\n",
    "        print(df['Fallopian_Axis'].hist(bins=20))\n",
    "        \n",
    "        # Add axis to slide \n",
    "        adata_sample.obs['Fallopian_Axis'] = adata_sample.obs_names.map(df['Fallopian_Axis'].to_dict())\n",
    "        sc.pl.spatial(adata_sample, color=\"Fallopian_Axis\", cmap = 'jet')\n",
    "        \n",
    "        return adata_sample \n",
    "    \n",
    "    else: \n",
    "        \n",
    "        print('Building uterovaginal axis for samples {} and {} from {} (weight: {}) to {} (weight: {})'.format(sample1, sample2, start_feature, \n",
    "                            start_weight, end_feature, end_weight))\n",
    "        \n",
    "        # Read stitched sample directly \n",
    "        adata_stitched = sc.read(path_to_reptract + sample1 + '_' + sample2 + '/' + sample1 + '_' + sample2 + '_annotated.h5ad')\n",
    "        \n",
    "        # Add a prefix to the distances computed on the joint object \n",
    "        for col in adata_stitched.obs.columns:\n",
    "            if col in [ 'L2_dist_longitudinal_anatomy_annots_' + start_feature, 'L2_dist_longitudinal_anatomy_annots_' + end_feature, 'broad_anatomy_annots']:\n",
    "                adata_stitched.obs.rename(columns={col : 'joint_' + col}, inplace = True)\n",
    "                \n",
    "        # Concatenate \n",
    "        adata_separate = select_slide(adata, sample1, batch_key = 'sample').concatenate(select_slide(adata, sample2, batch_key = 'sample'), index_unique = None)\n",
    "        adata_separate = adata_separate[[i > min_cells for i in adata_separate.obs['tot_cell_abundance']]]\n",
    "        \n",
    "        # Import distances \n",
    "        for col in adata_stitched.obs.columns:\n",
    "            if col.startswith('joint') or col == 'overlaps_with':\n",
    "                adata_separate.obs[col] = adata_separate.obs_names.map(adata_stitched.obs[col].to_dict())\n",
    "            \n",
    "        # Create a dictionary mapping the index of the missing value to the index of the replacement value\n",
    "        replacement_dict = adata_separate.obs['overlaps_with'].dropna().to_dict()\n",
    "        replacement_dict = {v:k for k,v in replacement_dict.items()}\n",
    "        \n",
    "        to_remove = []\n",
    "        for col in adata_separate.obs.columns:\n",
    "            if col.startswith('joint'):\n",
    "                for spot_id in adata_separate.obs_names:\n",
    "                    value = adata_separate.obs.at[spot_id, col]\n",
    "                    if isinstance(value, (float, np.float64)) and np.isnan(value):\n",
    "                        if spot_id in list(replacement_dict.keys()):\n",
    "                            overlapping_spot = replacement_dict[spot_id]\n",
    "                            if overlapping_spot in adata_separate.obs_names:\n",
    "                                adata_separate.obs.at[spot_id, col] = adata_separate.obs.at[overlapping_spot, col]\n",
    "                        elif spot_id not in list(replacement_dict.keys()):\n",
    "                            to_remove.append(spot_id)\n",
    "        remove = list(np.unique(to_remove))\n",
    "        \n",
    "        # create a boolean mask of the observations to keep\n",
    "        mask = ~adata_separate.obs_names.isin(remove)\n",
    "\n",
    "        # select only the rows that match the mask\n",
    "        adata_separate = adata_separate[mask]\n",
    "        \n",
    "        adata_separate = adata_separate[[i not in excluded_regions for i in adata_separate.obs['broad_anatomy_annots']]]\n",
    "        \n",
    "        df = adata_separate.obs[['joint_L2_dist_longitudinal_anatomy_' + start_feature, 'joint_L2_dist_longitudinal_anatomy_' + end_feature, \n",
    "               'joint_broad_anatomy_annots']]\n",
    "        fallopian_axis = [( start_weight*int(s) - end_weight*int(e) ) / ( start_weight*int(s) + end_weight*int(e) ) for s,e in zip(df['joint_L2_dist_longitudinal_anatomy_' + start_feature], df['joint_L2_dist_longitudinal_anatomy_' + end_feature])]\n",
    "        df['Fallopian_Axis'] = fallopian_axis\n",
    "        \n",
    "        print(df['Fallopian_Axis'].hist(bins=20))\n",
    "        \n",
    "        # Add axis to slide \n",
    "        adata_separate.obs['Fallopian_Axis'] = adata_separate.obs_names.map(df['Fallopian_Axis'].to_dict())\n",
    "        return adata_separate\n",
    "        \n"
   ]
  },
  {
   "cell_type": "code",
   "execution_count": null,
   "metadata": {},
   "outputs": [],
   "source": [
    "adata_cytassist.obs['longitudinal_anatomy'].value_counts()"
   ]
  },
  {
   "cell_type": "code",
   "execution_count": null,
   "metadata": {},
   "outputs": [],
   "source": [
    "HCA_F_RepTsp13902018_axis = build_fallopian_axis(adata_cytassist, 'HCA_F_RepTsp13902018', 10, 'FallopianFimbriae', 'FallopianUterineJunction', \n",
    "                                                                      start_weight = 0.5, end_weight = 0.5, is_stitched = False)"
   ]
  },
  {
   "cell_type": "code",
   "execution_count": null,
   "metadata": {},
   "outputs": [],
   "source": [
    "fallopian_HCA_F_RepTsp13902018.obs_names = ['HCA_F_RepTsp13902018_' + i for i in fallopian_HCA_F_RepTsp13902018.obs_names.to_list()]"
   ]
  },
  {
   "cell_type": "code",
   "execution_count": null,
   "metadata": {},
   "outputs": [],
   "source": [
    "fallopian_HCA_F_RepTsp13902018.obs['FallopianAxis'] = fallopian_HCA_F_RepTsp13902018.obs_names.map(HCA_F_RepTsp13902018_axis.obs['Fallopian_Axis'].to_dict())"
   ]
  },
  {
   "cell_type": "code",
   "execution_count": null,
   "metadata": {},
   "outputs": [],
   "source": [
    "from matplotlib.colors import LinearSegmentedColormap\n",
    "\n",
    "\n",
    "# Define the colors and their corresponding positions\n",
    "colors = [\"#5e3c99\", \"#b2abd2\", \"#f1a1c5\"]\n",
    "\n",
    "# Create the colormap\n",
    "cmap_fallopian = LinearSegmentedColormap.from_list('custom_cmap', colors, N=256)"
   ]
  },
  {
   "cell_type": "code",
   "execution_count": null,
   "metadata": {},
   "outputs": [],
   "source": [
    "sc.pl.spatial(fallopian_HCA_F_RepTsp13902018, color = 'FallopianAxis', cmap = cmap_fallopian, bw = True,\n",
    "              alpha_img = 0.7, spot_size = 50,\n",
    "             save = 'HCA_F_RepTsp13902018_fallopian_axis_newcmap')"
   ]
  },
  {
   "cell_type": "code",
   "execution_count": null,
   "metadata": {},
   "outputs": [],
   "source": [
    "adata_cytassist.obs['sample'].value_counts()"
   ]
  },
  {
   "cell_type": "code",
   "execution_count": null,
   "metadata": {},
   "outputs": [],
   "source": [
    "HCA_F_RepTsp14645816_axis = build_fallopian_axis(adata_cytassist, 'HCA_F_RepTsp14645816', 10, 'FallopianFimbriae', 'FallopianUterineJunction', \n",
    "                                                                      start_weight = 0.5, end_weight = 0.5, is_stitched = False)"
   ]
  },
  {
   "cell_type": "code",
   "execution_count": null,
   "metadata": {},
   "outputs": [],
   "source": [
    "for sample in [HCA_F_RepTsp13902018_axis, HCA_F_RepTsp14645816_axis]:\n",
    "    sample.obs['FemaleReproductiveAxis'] = sample.obs['Fallopian_Axis']"
   ]
  },
  {
   "cell_type": "code",
   "execution_count": null,
   "metadata": {},
   "outputs": [],
   "source": [
    "fallopian_axis = combine_axis(samples = [\n",
    "                                           HCA_F_RepTsp13902018_axis,HCA_F_RepTsp14645816_axis\n",
    "                                           ], \n",
    "                                axis_name = 'FemaleReproductiveAxis', return_adata = True)"
   ]
  },
  {
   "cell_type": "code",
   "execution_count": null,
   "metadata": {},
   "outputs": [],
   "source": [
    "fallopian_axis"
   ]
  },
  {
   "cell_type": "code",
   "execution_count": null,
   "metadata": {},
   "outputs": [],
   "source": [
    "fallopian_axis.obs.to_csv('/lustre/scratch126/cellgen/team292/vl6/VISIUM/FallopianAxis_spots_cytassist.csv')"
   ]
  },
  {
   "cell_type": "code",
   "execution_count": null,
   "metadata": {},
   "outputs": [],
   "source": [
    "fallopian_axis.var.head()"
   ]
  },
  {
   "cell_type": "code",
   "execution_count": null,
   "metadata": {},
   "outputs": [],
   "source": [
    "fallopian_axis"
   ]
  },
  {
   "cell_type": "code",
   "execution_count": null,
   "metadata": {},
   "outputs": [],
   "source": [
    "# Selecting relevant columns for computation\n",
    "relevant_columns = [ 'Coelomic_Epithelium', 'FallopianTube_Epithelium', 'Ciliated_Epithelium', 'FallopianTube_Mesenchyme', 'FallopianTube_Ligament', 'FallopianTube_SmoothMuscle', 'Uterus/Cervix_Epithelium', 'Uterus_Mesenchyme', 'Uterus_Ligament', 'Uterus_SmoothMuscle', 'Cervix_Mesenchyme', 'Cervix/MüllerianVagina_Ligament', 'Cervix/MüllerianVagina_SmoothMuscle', 'MüllerianVagina_Epithelium', 'MüllerianVagina_Mesenchyme', 'VaginalPlate_Epithelium', 'VaginalPlate_Mesenchyme', 'VaginalPlate_SmoothMuscle', 'VaginalPlate_Ligament', 'MesonephricTubules_Epithelium', 'Epoophron_Mesenchyme', 'Pre-Perivascular', 'Perivascular', 'SkeletalMuscle', 'Endothelial', 'Endothelial_Lymphatic', 'Immune', 'Erythroid', 'SchwannCell', 'Neural']\n",
    "\n",
    "# Calculating the percentage of cells that are of the most abundant cell type for each spot\n",
    "fallopian_axis.obs['Most_Abundant_Cell_Type'] = fallopian_axis.obs[relevant_columns].idxmax(axis=1)\n",
    "fallopian_axis.obs['Most_Abundant_Cell_Type'].value_counts()"
   ]
  },
  {
   "cell_type": "code",
   "execution_count": null,
   "metadata": {},
   "outputs": [],
   "source": [
    "for s in fallopian_axis.obs_names:\n",
    "    ct = fallopian_axis.obs.loc[s, 'Most_Abundant_Cell_Type']\n",
    "    n_ct = fallopian_axis.obs.loc[s, ct]\n",
    "    n_tot = fallopian_axis.obs.loc[s, relevant_columns].sum()\n",
    "    fallopian_axis.obs.loc[s, 'Percentage_Most_Abundant_Cell_Type'] = (n_ct / n_tot) "
   ]
  },
  {
   "cell_type": "markdown",
   "metadata": {},
   "source": [
    "## 10. Fallopian axis in epithelial spots -- prepare for TradeSeq"
   ]
  },
  {
   "cell_type": "code",
   "execution_count": null,
   "metadata": {},
   "outputs": [],
   "source": [
    "fallopian_epi = fallopian_axis[[i == 'Epithelium' for i in fallopian_axis.obs['histology_annots']]]"
   ]
  },
  {
   "cell_type": "code",
   "execution_count": null,
   "metadata": {},
   "outputs": [],
   "source": [
    "fallopian_epi = fallopian_epi[[i in ['FallopianTube_Epithelium', 'Uterus/Cervix_Epithelium', \n",
    "                                     ] for i in fallopian_epi.obs['Most_Abundant_Cell_Type']]]\n",
    "fallopian_epi"
   ]
  },
  {
   "cell_type": "code",
   "execution_count": null,
   "metadata": {},
   "outputs": [],
   "source": [
    "fallopian_epi.obs['Percentage_Most_Abundant_Cell_Type'].hist(bins = 20)"
   ]
  },
  {
   "cell_type": "code",
   "execution_count": null,
   "metadata": {},
   "outputs": [],
   "source": [
    "# fallopian_epi = fallopian_epi[[i > 0.4 for i in fallopian_epi.obs['Percentage_Most_Abundant_Cell_Type']]]"
   ]
  },
  {
   "cell_type": "code",
   "execution_count": null,
   "metadata": {},
   "outputs": [],
   "source": [
    "\n",
    "\n",
    "HCA_F_RepTsp14645816_axis.obs['Percentage_Most_Abundant_Cell_Type'] = HCA_F_RepTsp14645816_axis.obs_names.map(fallopian_epi.obs['Percentage_Most_Abundant_Cell_Type'].to_dict())\n",
    "sc.pl.spatial(HCA_F_RepTsp14645816_axis, color=\"Percentage_Most_Abundant_Cell_Type\")\n",
    "HCA_F_RepTsp14645816_axis.obs['Most_Abundant_Cell_Type'] = HCA_F_RepTsp14645816_axis.obs_names.map(fallopian_epi.obs['Most_Abundant_Cell_Type'].to_dict())\n",
    "sc.pl.spatial(HCA_F_RepTsp14645816_axis, color=\"Most_Abundant_Cell_Type\")\n",
    "\n",
    "HCA_F_RepTsp13902018_axis.obs['Percentage_Most_Abundant_Cell_Type'] = HCA_F_RepTsp13902018_axis.obs_names.map(fallopian_epi.obs['Percentage_Most_Abundant_Cell_Type'].to_dict())\n",
    "sc.pl.spatial(HCA_F_RepTsp13902018_axis, color=\"Percentage_Most_Abundant_Cell_Type\")\n",
    "HCA_F_RepTsp13902018_axis.obs['Most_Abundant_Cell_Type'] = HCA_F_RepTsp13902018_axis.obs_names.map(fallopian_epi.obs['Most_Abundant_Cell_Type'].to_dict())\n",
    "sc.pl.spatial(HCA_F_RepTsp13902018_axis, color=\"Most_Abundant_Cell_Type\")\n",
    "\n"
   ]
  },
  {
   "cell_type": "code",
   "execution_count": null,
   "metadata": {},
   "outputs": [],
   "source": [
    "fallopian_epi.X[20:30, 20:30].toarray()"
   ]
  },
  {
   "cell_type": "code",
   "execution_count": null,
   "metadata": {},
   "outputs": [],
   "source": [
    "fallopian_epi_forR = fallopian_epi.copy()"
   ]
  },
  {
   "cell_type": "code",
   "execution_count": null,
   "metadata": {},
   "outputs": [],
   "source": [
    "# remove mito genes\n",
    "non_mito_genes = [name for name in fallopian_epi_forR.var_names if not name.startswith('MT-')]\n",
    "fallopian_epi_forR = fallopian_epi_forR[:, non_mito_genes]\n",
    "\n",
    "# remove ribo genes\n",
    "non_ribo_genes = [name for name in fallopian_epi_forR.var_names if not name.startswith('RP')]\n",
    "fallopian_epi_forR = fallopian_epi_forR[:, non_ribo_genes]\n",
    "\n",
    "# remove haemoglobin genes \n",
    "non_haemo_genes = [name for name in fallopian_epi_forR.var_names if name not in ['HBA1', 'HBA2', 'HBB', 'HBG1', 'HBG2']]\n",
    "fallopian_epi_forR = fallopian_epi_forR[:, non_haemo_genes]\n",
    "\n",
    "sc.pp.filter_genes(fallopian_epi_forR, min_cells = 10)\n",
    "sc.pp.filter_genes(fallopian_epi_forR, min_counts = 1)"
   ]
  },
  {
   "cell_type": "code",
   "execution_count": null,
   "metadata": {},
   "outputs": [],
   "source": [
    "fallopian_epi_forR.shape"
   ]
  },
  {
   "cell_type": "code",
   "execution_count": null,
   "metadata": {},
   "outputs": [],
   "source": [
    "for col in fallopian_epi_forR.obs.columns:\n",
    "    if col not in [ 'FemaleReproductiveAxis', 'sample']:\n",
    "        del fallopian_epi_forR.obs[col]"
   ]
  },
  {
   "cell_type": "code",
   "execution_count": null,
   "metadata": {},
   "outputs": [],
   "source": [
    "fallopian_epi_forR.obs['FemaleReproductiveAxis'].hist(bins = 10)"
   ]
  },
  {
   "cell_type": "code",
   "execution_count": null,
   "metadata": {},
   "outputs": [],
   "source": [
    "del fallopian_epi_forR.obsm"
   ]
  },
  {
   "cell_type": "code",
   "execution_count": null,
   "metadata": {},
   "outputs": [],
   "source": [
    "%%R -i fallopian_epi_forR\n",
    "fallopian_epi_forR"
   ]
  },
  {
   "cell_type": "code",
   "execution_count": null,
   "metadata": {},
   "outputs": [],
   "source": [
    "%%R \n",
    "saveRDS(fallopian_epi_forR, '/lustre/scratch126/cellgen/team292/vl6/VISIUM/fallopianaxis_epi_cytassist.rds')"
   ]
  },
  {
   "cell_type": "markdown",
   "metadata": {},
   "source": [
    "## 11. Fallopian axis in mesenchymal spots -- prepare for TradeSeq"
   ]
  },
  {
   "cell_type": "code",
   "execution_count": null,
   "metadata": {},
   "outputs": [],
   "source": [
    "fallopian_axis.obs['Most_Abundant_Cell_Type'].value_counts()"
   ]
  },
  {
   "cell_type": "code",
   "execution_count": null,
   "metadata": {},
   "outputs": [],
   "source": [
    "fallopian_mese = fallopian_axis[[i in ['FallopianTube_Mesenchyme', \n",
    "                                     ] for i in fallopian_axis.obs['Most_Abundant_Cell_Type']]]\n",
    "fallopian_mese"
   ]
  },
  {
   "cell_type": "code",
   "execution_count": null,
   "metadata": {},
   "outputs": [],
   "source": [
    "fallopian_mese.obs['Percentage_Most_Abundant_Cell_Type'].hist(bins = 50)"
   ]
  },
  {
   "cell_type": "code",
   "execution_count": null,
   "metadata": {},
   "outputs": [],
   "source": [
    "fallopian_mese = fallopian_mese[[i > 0.5 for i in fallopian_mese.obs['Percentage_Most_Abundant_Cell_Type']]]"
   ]
  },
  {
   "cell_type": "code",
   "execution_count": null,
   "metadata": {},
   "outputs": [],
   "source": [
    "fallopian_mese.shape"
   ]
  },
  {
   "cell_type": "code",
   "execution_count": null,
   "metadata": {},
   "outputs": [],
   "source": [
    "fallopian_mese.obs['FemaleReproductiveAxis'].hist(bins = 10)"
   ]
  },
  {
   "cell_type": "code",
   "execution_count": null,
   "metadata": {},
   "outputs": [],
   "source": [
    "HCA_F_RepTsp14645816_axis.obs['Percentage_Most_Abundant_Cell_Type'] = HCA_F_RepTsp14645816_axis.obs_names.map(fallopian_mese.obs['Percentage_Most_Abundant_Cell_Type'].to_dict())\n",
    "sc.pl.spatial(HCA_F_RepTsp14645816_axis, color=\"Percentage_Most_Abundant_Cell_Type\")\n",
    "HCA_F_RepTsp14645816_axis.obs['Most_Abundant_Cell_Type'] = HCA_F_RepTsp14645816_axis.obs_names.map(fallopian_mese.obs['Most_Abundant_Cell_Type'].to_dict())\n",
    "sc.pl.spatial(HCA_F_RepTsp14645816_axis, color=\"Most_Abundant_Cell_Type\")\n",
    "\n",
    "HCA_F_RepTsp13902018_axis.obs['Percentage_Most_Abundant_Cell_Type'] = HCA_F_RepTsp13902018_axis.obs_names.map(fallopian_mese.obs['Percentage_Most_Abundant_Cell_Type'].to_dict())\n",
    "sc.pl.spatial(HCA_F_RepTsp13902018_axis, color=\"Percentage_Most_Abundant_Cell_Type\")\n",
    "HCA_F_RepTsp13902018_axis.obs['Most_Abundant_Cell_Type'] = HCA_F_RepTsp13902018_axis.obs_names.map(fallopian_mese.obs['Most_Abundant_Cell_Type'].to_dict())\n",
    "sc.pl.spatial(HCA_F_RepTsp13902018_axis, color=\"Most_Abundant_Cell_Type\")\n",
    "\n"
   ]
  },
  {
   "cell_type": "code",
   "execution_count": null,
   "metadata": {},
   "outputs": [],
   "source": [
    "fallopian_mese_forR = fallopian_mese.copy()"
   ]
  },
  {
   "cell_type": "code",
   "execution_count": null,
   "metadata": {},
   "outputs": [],
   "source": [
    "# remove mito genes\n",
    "non_mito_genes = [name for name in fallopian_mese_forR.var_names if not name.startswith('MT-')]\n",
    "fallopian_mese_forR = fallopian_mese_forR[:, non_mito_genes]\n",
    "\n",
    "# remove ribo genes\n",
    "non_ribo_genes = [name for name in fallopian_mese_forR.var_names if not name.startswith('RP')]\n",
    "fallopian_mese_forR = fallopian_mese_forR[:, non_ribo_genes]\n",
    "\n",
    "# remove haemoglobin genes \n",
    "non_haemo_genes = [name for name in fallopian_mese_forR.var_names if name not in ['HBA1', 'HBA2', 'HBB', 'HBG1', 'HBG2']]\n",
    "fallopian_mese_forR = fallopian_mese_forR[:, non_haemo_genes]\n",
    "\n",
    "sc.pp.filter_genes(fallopian_epi_forR, min_cells = 10)\n",
    "sc.pp.filter_genes(fallopian_epi_forR, min_counts = 1)"
   ]
  },
  {
   "cell_type": "code",
   "execution_count": null,
   "metadata": {},
   "outputs": [],
   "source": [
    "for col in fallopian_mese_forR.obs.columns:\n",
    "    if col not in [ 'FemaleReproductiveAxis', 'sample']:\n",
    "        del fallopian_mese_forR.obs[col]"
   ]
  },
  {
   "cell_type": "code",
   "execution_count": null,
   "metadata": {},
   "outputs": [],
   "source": [
    "del fallopian_mese_forR.obsm"
   ]
  },
  {
   "cell_type": "code",
   "execution_count": null,
   "metadata": {},
   "outputs": [],
   "source": [
    "%%R -i fallopian_mese_forR\n",
    "fallopian_mese_forR"
   ]
  },
  {
   "cell_type": "code",
   "execution_count": null,
   "metadata": {},
   "outputs": [],
   "source": [
    "%%R \n",
    "saveRDS(fallopian_mese_forR, '/lustre/scratch126/cellgen/team292/vl6/VISIUM/fallopianaxis_mese_cytassist.rds')"
   ]
  },
  {
   "cell_type": "markdown",
   "metadata": {},
   "source": [
    "## 12. Append the fallopian and uterovaginal axis to obtain the Müllerian longitudinal axis"
   ]
  },
  {
   "cell_type": "markdown",
   "metadata": {},
   "source": [
    "### Transpose the values of the fallopian axis to append them to the uterovaginal axis"
   ]
  },
  {
   "cell_type": "code",
   "execution_count": null,
   "metadata": {},
   "outputs": [],
   "source": [
    "fallopian_axis = fallopian_axis.obs.copy()"
   ]
  },
  {
   "cell_type": "code",
   "execution_count": null,
   "metadata": {},
   "outputs": [],
   "source": [
    "fallopian_axis['FemaleReproductiveAxis'].hist(bins = 10)"
   ]
  },
  {
   "cell_type": "code",
   "execution_count": null,
   "metadata": {},
   "outputs": [],
   "source": [
    "uterovaginal_axis['FemaleReproductiveAxis'] = uterovaginal_axis['UteroVaginal_Axis_forPlotting'].copy()"
   ]
  },
  {
   "cell_type": "code",
   "execution_count": null,
   "metadata": {},
   "outputs": [],
   "source": [
    "uterovaginal_axis['FemaleReproductiveAxis'].hist(bins = 10)"
   ]
  },
  {
   "cell_type": "code",
   "execution_count": null,
   "metadata": {},
   "outputs": [],
   "source": [
    "axis = fallopian_axis.append(uterovaginal_axis)"
   ]
  },
  {
   "cell_type": "code",
   "execution_count": null,
   "metadata": {},
   "outputs": [],
   "source": [
    "axis['FemaleReproductiveAxis'].hist(bins = 10)"
   ]
  },
  {
   "cell_type": "code",
   "execution_count": null,
   "metadata": {},
   "outputs": [],
   "source": [
    "axis.to_csv('/lustre/scratch126/cellgen/team292/vl6/VISIUM/FemaleReproductiveAxis_spots_cytassist.csv')"
   ]
  },
  {
   "cell_type": "code",
   "execution_count": null,
   "metadata": {},
   "outputs": [],
   "source": [
    "axis['sample'].value_counts()"
   ]
  },
  {
   "cell_type": "markdown",
   "metadata": {},
   "source": [
    "## Bin the axis and downsample spots to have approximately same number of spots per bin"
   ]
  },
  {
   "cell_type": "code",
   "execution_count": null,
   "metadata": {},
   "outputs": [],
   "source": [
    "def bin_axis(df, n_bins = 10, axis_name = 'FemaleReproductiveAxis'):\n",
    "    max_val = np.nanquantile(df[axis_name],0.9999)\n",
    "    min_val = np.nanquantile(df[axis_name],0.0001)\n",
    "\n",
    "    incr_uva = (max_val-min_val)/n_bins\n",
    "    uva_bins = []\n",
    "    for i in range(0,n_bins+1):\n",
    "        uva_bins.append(min_val+(i*incr_uva))\n",
    "\n",
    "    df['binned_' + axis_name + '_' + str(n_bins) + '_bins'] = pd.cut(df[axis_name], bins = uva_bins, labels=uva_bins[:-1])\n",
    "    return df\n"
   ]
  },
  {
   "cell_type": "code",
   "execution_count": null,
   "metadata": {},
   "outputs": [],
   "source": [
    "# Function to downsample spots\n",
    "def downsample_spots(group):\n",
    "    max_spots = 1000\n",
    "    if len(group) > max_spots:\n",
    "        return group.sample(max_spots)\n",
    "    else:\n",
    "        return group"
   ]
  },
  {
   "cell_type": "code",
   "execution_count": null,
   "metadata": {},
   "outputs": [],
   "source": [
    "for s in [HCA_F_RepTsp13902013, HCA_F_RepTsp13902014, HCA_F_RepTsp13902015, HCA_F_RepTsp13902016]:\n",
    "    s.obs['FemaleReproductiveAxis'] = s.obs_names.map(s.obs['UteroVaginal_Axis_forPlotting'])"
   ]
  },
  {
   "cell_type": "code",
   "execution_count": null,
   "metadata": {},
   "outputs": [],
   "source": [
    "axis_adata = combine_axis(samples = [\n",
    "                                            HCA_F_RepTsp13902018_axis, HCA_F_RepTsp14645816_axis, \n",
    "    HCA_F_RepTsp13902013, HCA_F_RepTsp13902014, HCA_F_RepTsp13902015, HCA_F_RepTsp13902016\n",
    "                                           ], \n",
    "                                axis_name = 'FemaleReproductiveAxis', return_adata = True)"
   ]
  },
  {
   "cell_type": "code",
   "execution_count": null,
   "metadata": {},
   "outputs": [],
   "source": [
    "axis_adata.obs['FemaleReproductiveAxis'].hist(bins = 10)"
   ]
  },
  {
   "cell_type": "code",
   "execution_count": null,
   "metadata": {},
   "outputs": [],
   "source": [
    "# axis_adata = axis_adata[[i for i in axis_adata.obs_names.to_list() if i in downsampled_axis_cleaned.index.to_list()], :]\n",
    "axis_adata.shape"
   ]
  },
  {
   "cell_type": "code",
   "execution_count": null,
   "metadata": {},
   "outputs": [],
   "source": [
    "axis['FemaleReproductiveAxis']"
   ]
  },
  {
   "cell_type": "code",
   "execution_count": null,
   "metadata": {},
   "outputs": [],
   "source": [
    "axis_adata.obs['FemaleReproductiveAxis'] = axis_adata.obs_names.map(axis['FemaleReproductiveAxis'].to_dict())"
   ]
  },
  {
   "cell_type": "code",
   "execution_count": null,
   "metadata": {},
   "outputs": [],
   "source": [
    "axis_adata.obs['FemaleReproductiveAxis'].hist(bins = 20)"
   ]
  },
  {
   "cell_type": "code",
   "execution_count": null,
   "metadata": {},
   "outputs": [],
   "source": [
    "fallopian_mese_spots = fallopian_mese.obs_names.to_list()\n",
    "fallopian_epi_spots = fallopian_epi.obs_names.to_list()"
   ]
  },
  {
   "cell_type": "code",
   "execution_count": null,
   "metadata": {},
   "outputs": [],
   "source": [
    "uterus_epi_spots = uterus_epi.obs_names.to_list()\n",
    "uterus_mese_spots = uterus_mese.obs_names.to_list()"
   ]
  },
  {
   "cell_type": "code",
   "execution_count": null,
   "metadata": {},
   "outputs": [],
   "source": [
    "len(fallopian_mese_spots)+ len(uterus_mese_spots)"
   ]
  },
  {
   "cell_type": "code",
   "execution_count": null,
   "metadata": {},
   "outputs": [],
   "source": [
    "fallopian_mese_spots.extend(uterus_mese_spots)"
   ]
  },
  {
   "cell_type": "code",
   "execution_count": null,
   "metadata": {},
   "outputs": [],
   "source": [
    "len(fallopian_mese_spots)"
   ]
  },
  {
   "cell_type": "code",
   "execution_count": null,
   "metadata": {},
   "outputs": [],
   "source": [
    "len(fallopian_epi_spots) + len(uterus_epi_spots)"
   ]
  },
  {
   "cell_type": "code",
   "execution_count": null,
   "metadata": {},
   "outputs": [],
   "source": [
    "fallopian_epi_spots.extend(uterus_epi_spots)"
   ]
  },
  {
   "cell_type": "code",
   "execution_count": null,
   "metadata": {},
   "outputs": [],
   "source": [
    "len(fallopian_epi_spots)"
   ]
  },
  {
   "cell_type": "code",
   "execution_count": null,
   "metadata": {},
   "outputs": [],
   "source": [
    "axis_adata_mese = axis_adata[[i for i in axis_adata.obs_names.to_list() if i in fallopian_mese_spots], :]"
   ]
  },
  {
   "cell_type": "code",
   "execution_count": null,
   "metadata": {},
   "outputs": [],
   "source": [
    "axis_adata_mese"
   ]
  },
  {
   "cell_type": "code",
   "execution_count": null,
   "metadata": {},
   "outputs": [],
   "source": [
    "axis_adata_mese.obs['FemaleReproductiveAxis'].hist(bins = 10)"
   ]
  },
  {
   "cell_type": "code",
   "execution_count": null,
   "metadata": {},
   "outputs": [],
   "source": [
    "def bin_axis(df, n_bins = 10, axis_name = 'FemaleReproductiveAxis'):\n",
    "    max_val = np.nanquantile(df[axis_name],0.9999)\n",
    "    min_val = np.nanquantile(df[axis_name],0.0001)\n",
    "\n",
    "    incr_uva = (max_val-min_val)/n_bins\n",
    "    uva_bins = []\n",
    "    for i in range(0,n_bins+1):\n",
    "        uva_bins.append(min_val+(i*incr_uva))\n",
    "\n",
    "    df['binned_' + axis_name + '_' + str(n_bins) + '_bins'] = pd.cut(df[axis_name], bins = uva_bins, labels=uva_bins[:-1])\n",
    "    return df"
   ]
  },
  {
   "cell_type": "code",
   "execution_count": null,
   "metadata": {},
   "outputs": [],
   "source": [
    "axis = bin_axis(axis_adata_mese.obs, n_bins = 10, axis_name = 'FemaleReproductiveAxis')"
   ]
  },
  {
   "cell_type": "code",
   "execution_count": null,
   "metadata": {},
   "outputs": [],
   "source": [
    "tfs_to_plot = ['PROX1', 'GATA6', 'NFATC2','LEF1',\n",
    "               'FOXL2',    'MEIS2','EMX2', 'FOXO1', 'ESR1', 'RORB','HMGA2','MSX1',  'AR',\n",
    "               'TWIST1',\n",
    "               'ESRRG', 'RUNX1','PRRX2','TWIST2',  'LBX2', 'PBX3',\n",
    "              'AHR',  'EVX1', 'EVX2', 'IRF6','NR0B1', 'ISL1', 'HMBOX1',   \n",
    " 'ASCL2', 'TBX18'\n",
    "              ]"
   ]
  },
  {
   "cell_type": "code",
   "execution_count": null,
   "metadata": {},
   "outputs": [],
   "source": [
    "axis_adata_mese"
   ]
  },
  {
   "cell_type": "code",
   "execution_count": null,
   "metadata": {},
   "outputs": [],
   "source": [
    "sc.set_figure_params(scanpy=True, dpi=80, dpi_save=150, frameon=True, vector_friendly=True, \n",
    "                         fontsize=14, figsize=(7, 7), color_map=None, format='pdf', facecolor=None, transparent=False)"
   ]
  },
  {
   "cell_type": "code",
   "execution_count": null,
   "metadata": {},
   "outputs": [],
   "source": [
    "import matplotlib as mpl\n",
    "mpl.rcParams['pdf.fonttype'] = 42"
   ]
  },
  {
   "cell_type": "code",
   "execution_count": null,
   "metadata": {},
   "outputs": [],
   "source": [
    "# Create matrix plot using scanpy\n",
    "sc.pl.matrixplot(axis_adata_mese,var_names=tfs_to_plot,groupby='binned_FemaleReproductiveAxis_10_bins',\n",
    "                 num_categories = 10,\n",
    "                 cmap='OrRd',\n",
    "                 standard_scale='var',dendrogram=False,\n",
    "                 save='visium_matrixplot_mese_tfs_spatiallyvariable.pdf'\n",
    "                )"
   ]
  },
  {
   "cell_type": "code",
   "execution_count": null,
   "metadata": {},
   "outputs": [],
   "source": [
    "ligands_to_plot = ['LGR5', 'CD36', 'NTRK2', 'CD55', 'ALDH1A2', 'SFRP4', 'DLK1','NRG1', 'FGF7',\n",
    "            'WNT4',  'NRXN3',  'FLRT2', 'WNT5A', 'GRIA4',  'TNFRSF21','TGM2', 'ALDH1A1', 'LRRTM1', 'IGFBP3', 'NRP2','RORB',\n",
    "            'COL26A1','ROBO2',  'GDF7','AR', 'NRXN1', 'WIF1', 'WNT11',  'SCARA5','SFRP5', 'EPHA5', \n",
    "           'IGF1', 'BMP4', 'BMP7', ]"
   ]
  },
  {
   "cell_type": "code",
   "execution_count": null,
   "metadata": {},
   "outputs": [],
   "source": [
    "# Create matrix plot using scanpy\n",
    "sc.pl.matrixplot(axis_adata_mese,var_names=ligands_to_plot,groupby='binned_FemaleReproductiveAxis_10_bins',\n",
    "                 num_categories = 10,\n",
    "                 cmap='OrRd',\n",
    "                 standard_scale='var',dendrogram=False,\n",
    "                 save='visium_matrixplot_mese_ligands_selected_spatiallyvariable.pdf'\n",
    "                )"
   ]
  },
  {
   "cell_type": "code",
   "execution_count": null,
   "metadata": {},
   "outputs": [],
   "source": [
    "# Random downsampling per cell type \n",
    "import random\n",
    "from itertools import chain\n",
    "def downsample(adata, labels, n): \n",
    "    \n",
    "    myindex = adata.obs[labels].value_counts().index \n",
    "    myvalues = adata.obs[labels].value_counts().values\n",
    "    clusters = pd.Series(myvalues, index = myindex)\n",
    "    \n",
    "    # Find clusters with > n cells \n",
    "    cl2downsample = clusters.index[ clusters.values > n ]\n",
    "\n",
    "    # save all barcode ids from small clusters\n",
    "    holder = []\n",
    "    holder.append( adata.obs_names[[ i not in cl2downsample for i in adata.obs[labels] ]] ) \n",
    "\n",
    "    # randomly sample n cells in the cl2downsample\n",
    "    for cl in cl2downsample:\n",
    "        print(cl)\n",
    "        cl_sample = adata[[ i == cl for i in adata.obs[labels]]].obs_names\n",
    "        \n",
    "        cl_downsample = random.sample(set(cl_sample), n )\n",
    "        holder.append(cl_downsample)\n",
    "    \n",
    "    # samples to include\n",
    "    samples = list(chain(*holder))\n",
    "\n",
    "    # Filter adata_count\n",
    "    adata = adata[[ i in samples for i in adata.obs_names ]]\n",
    "    return adata"
   ]
  },
  {
   "cell_type": "code",
   "execution_count": null,
   "metadata": {},
   "outputs": [],
   "source": [
    "axis_adata_mese = downsample(axis_adata_mese, 'binned_FemaleReproductiveAxis_10_bins', 50)"
   ]
  },
  {
   "cell_type": "code",
   "execution_count": null,
   "metadata": {},
   "outputs": [],
   "source": [
    "axis_adata_mese.obs['FemaleReproductiveAxis'].hist(bins = 10)"
   ]
  },
  {
   "cell_type": "code",
   "execution_count": null,
   "metadata": {},
   "outputs": [],
   "source": [
    "axis_adata_mese.X[20:30, 20:30].toarray()"
   ]
  },
  {
   "cell_type": "code",
   "execution_count": null,
   "metadata": {},
   "outputs": [],
   "source": [
    "axis_adata_mese.shape"
   ]
  },
  {
   "cell_type": "code",
   "execution_count": null,
   "metadata": {},
   "outputs": [],
   "source": [
    "axis_adata_mese_forR = axis_adata_mese.copy()"
   ]
  },
  {
   "cell_type": "code",
   "execution_count": null,
   "metadata": {},
   "outputs": [],
   "source": [
    "# Create matrix plot using scanpy\n",
    "sc.pl.matrixplot(axis_adata_mese,var_names=ligands_to_plot,groupby='binned_FemaleReproductiveAxis_10_bins',\n",
    "                 num_categories = 10,\n",
    "                 cmap='OrRd',\n",
    "                 standard_scale='var',dendrogram=False,\n",
    "                 save='visium_matrixplot_mese_ligands_selected_spatiallyvariable_downsampled.pdf'\n",
    "                )"
   ]
  },
  {
   "cell_type": "code",
   "execution_count": null,
   "metadata": {},
   "outputs": [],
   "source": [
    "mito_genes = [name for name in axis_adata_mese_forR.var_names if name.startswith('MT')]"
   ]
  },
  {
   "cell_type": "code",
   "execution_count": null,
   "metadata": {},
   "outputs": [],
   "source": [
    "# remove mito genes\n",
    "non_mito_genes = [name for name in axis_adata_mese_forR.var_names if not name.startswith('MT')]\n",
    "axis_adata_mese_forR = axis_adata_mese_forR[:, non_mito_genes]\n",
    "\n",
    "# remove ribo genes\n",
    "non_ribo_genes = [name for name in axis_adata_mese_forR.var_names if not name.startswith('RP')]\n",
    "axis_adata_mese_forR = axis_adata_mese_forR[:, non_ribo_genes]\n",
    "\n",
    "# remove haemoglobin genes \n",
    "non_haemo_genes = [name for name in axis_adata_mese_forR.var_names if name not in ['HBA1', 'HBA2', 'HBB', 'HBG1', 'HBG2']]\n",
    "axis_adata_mese_forR = axis_adata_mese_forR[:, non_haemo_genes]\n",
    "\n",
    "\n",
    "# remove heat shock protein genes\n",
    "non_hps_genes = [name for name in axis_adata_mese_forR.var_names if not name.startswith('HSP')]\n",
    "axis_adata_mese_forR = axis_adata_mese_forR[:, non_hps_genes]\n",
    "\n",
    "sc.pp.filter_genes(axis_adata_mese_forR, min_cells = 10)\n",
    "sc.pp.filter_genes(axis_adata_mese_forR, min_counts = 1)"
   ]
  },
  {
   "cell_type": "code",
   "execution_count": null,
   "metadata": {},
   "outputs": [],
   "source": [
    "axis_adata_mese_forR.shape"
   ]
  },
  {
   "cell_type": "code",
   "execution_count": null,
   "metadata": {},
   "outputs": [],
   "source": [
    "for col in axis_adata_mese_forR.obs.columns:\n",
    "    if col not in [ 'FemaleReproductiveAxis', 'sample']:\n",
    "        del axis_adata_mese_forR.obs[col]"
   ]
  },
  {
   "cell_type": "code",
   "execution_count": null,
   "metadata": {},
   "outputs": [],
   "source": [
    "del axis_adata_mese_forR.obsm"
   ]
  },
  {
   "cell_type": "code",
   "execution_count": null,
   "metadata": {},
   "outputs": [],
   "source": [
    "%%R -i axis_adata_mese_forR\n",
    "axis_adata_mese_forR"
   ]
  },
  {
   "cell_type": "code",
   "execution_count": null,
   "metadata": {},
   "outputs": [],
   "source": [
    "%%R \n",
    "saveRDS(axis_adata_mese_forR, '/lustre/scratch126/cellgen/team292/vl6/VISIUM/femalereproductiveaxis_mese_cytassist_downsampled.rds')"
   ]
  },
  {
   "cell_type": "code",
   "execution_count": null,
   "metadata": {},
   "outputs": [],
   "source": [
    "axis_adata_mese_forR"
   ]
  },
  {
   "cell_type": "code",
   "execution_count": null,
   "metadata": {},
   "outputs": [],
   "source": [
    "axis_adata_mese_forR.obs.to_csv('/lustre/scratch126/cellgen/team292/vl6/VISIUM/femalereproductiveaxis_mese_spots_cytassist.csv')"
   ]
  },
  {
   "cell_type": "code",
   "execution_count": null,
   "metadata": {},
   "outputs": [],
   "source": [
    "axis_adata.shape"
   ]
  },
  {
   "cell_type": "code",
   "execution_count": null,
   "metadata": {},
   "outputs": [],
   "source": [
    "len(fallopian_epi_spots)"
   ]
  },
  {
   "cell_type": "code",
   "execution_count": null,
   "metadata": {},
   "outputs": [],
   "source": [
    "axis_adata_epi = axis_adata[[i for i in axis_adata.obs_names.to_list() if i in fallopian_epi_spots], :]"
   ]
  },
  {
   "cell_type": "code",
   "execution_count": null,
   "metadata": {},
   "outputs": [],
   "source": [
    "axis_adata_epi.obs['FemaleReproductiveAxis'].hist(bins = 10)"
   ]
  },
  {
   "cell_type": "code",
   "execution_count": null,
   "metadata": {},
   "outputs": [],
   "source": [
    "axis = bin_axis(axis_adata_epi.obs, n_bins = 10, axis_name = 'FemaleReproductiveAxis')"
   ]
  },
  {
   "cell_type": "code",
   "execution_count": null,
   "metadata": {},
   "outputs": [],
   "source": [
    "axis"
   ]
  },
  {
   "cell_type": "code",
   "execution_count": null,
   "metadata": {},
   "outputs": [],
   "source": [
    "axis['binned_FemaleReproductiveAxis_10_bins'] = axis['binned_FemaleReproductiveAxis_10_bins'].astype(float)"
   ]
  },
  {
   "cell_type": "code",
   "execution_count": null,
   "metadata": {},
   "outputs": [],
   "source": [
    "axis['binned_FemaleReproductiveAxis_10_bins'] = np.round(axis['binned_FemaleReproductiveAxis_10_bins'], 2)"
   ]
  },
  {
   "cell_type": "code",
   "execution_count": null,
   "metadata": {},
   "outputs": [],
   "source": []
  },
  {
   "cell_type": "code",
   "execution_count": null,
   "metadata": {},
   "outputs": [],
   "source": [
    "axis_adata_epi.obs['binned_FemaleReproductiveAxis_10_bins'] = axis_adata_epi.obs_names.map(axis['binned_FemaleReproductiveAxis_10_bins'].to_dict())"
   ]
  },
  {
   "cell_type": "code",
   "execution_count": null,
   "metadata": {},
   "outputs": [],
   "source": [
    "axis_adata_epi.obs['binned_FemaleReproductiveAxis_10_bins'].value_counts()"
   ]
  },
  {
   "cell_type": "code",
   "execution_count": null,
   "metadata": {},
   "outputs": [],
   "source": [
    "axis_adata_epi = downsample(axis_adata_epi, 'binned_FemaleReproductiveAxis_10_bins', 50)"
   ]
  },
  {
   "cell_type": "code",
   "execution_count": null,
   "metadata": {},
   "outputs": [],
   "source": [
    "axis_adata_epi.obs['binned_FemaleReproductiveAxis_10_bins'].value_counts()"
   ]
  },
  {
   "cell_type": "code",
   "execution_count": null,
   "metadata": {},
   "outputs": [],
   "source": [
    "axis_adata_epi.X[20:30, 20:30].toarray()"
   ]
  },
  {
   "cell_type": "code",
   "execution_count": null,
   "metadata": {},
   "outputs": [],
   "source": [
    "axis_adata_epi_forR = axis_adata_epi.copy()"
   ]
  },
  {
   "cell_type": "code",
   "execution_count": null,
   "metadata": {},
   "outputs": [],
   "source": [
    "# remove mito genes\n",
    "non_mito_genes = [name for name in axis_adata_epi_forR.var_names if not name.startswith('MT')]\n",
    "axis_adata_epi_forR = axis_adata_epi_forR[:, non_mito_genes]\n",
    "\n",
    "# remove ribo genes\n",
    "non_ribo_genes = [name for name in axis_adata_epi_forR.var_names if not name.startswith('RP')]\n",
    "axis_adata_epi_forR = axis_adata_epi_forR[:, non_ribo_genes]\n",
    "\n",
    "# remove haemoglobin genes \n",
    "non_haemo_genes = [name for name in axis_adata_epi_forR.var_names if name not in ['HBA1', 'HBA2', 'HBB', 'HBG1', 'HBG2']]\n",
    "axis_adata_epi_forR = axis_adata_epi_forR[:, non_haemo_genes]\n",
    "\n",
    "\n",
    "# remove heat shock protein genes\n",
    "non_hps_genes = [name for name in axis_adata_epi_forR.var_names if not name.startswith('HSP')]\n",
    "axis_adata_epi_forR = axis_adata_epi_forR[:, non_hps_genes]\n",
    "\n",
    "sc.pp.filter_genes(axis_adata_epi_forR, min_cells = 10)\n",
    "sc.pp.filter_genes(axis_adata_epi_forR, min_counts = 1)"
   ]
  },
  {
   "cell_type": "code",
   "execution_count": null,
   "metadata": {},
   "outputs": [],
   "source": [
    "axis_adata_epi_forR.shape"
   ]
  },
  {
   "cell_type": "code",
   "execution_count": null,
   "metadata": {},
   "outputs": [],
   "source": [
    "for col in axis_adata_epi_forR.obs.columns:\n",
    "    if col not in [ 'FemaleReproductiveAxis', 'sample']:\n",
    "        del axis_adata_epi_forR.obs[col]"
   ]
  },
  {
   "cell_type": "code",
   "execution_count": null,
   "metadata": {},
   "outputs": [],
   "source": [
    "del axis_adata_epi_forR.obsm"
   ]
  },
  {
   "cell_type": "code",
   "execution_count": null,
   "metadata": {},
   "outputs": [],
   "source": [
    "%%R -i axis_adata_epi_forR\n",
    "axis_adata_epi_forR"
   ]
  },
  {
   "cell_type": "code",
   "execution_count": null,
   "metadata": {},
   "outputs": [],
   "source": [
    "%%R \n",
    "saveRDS(axis_adata_epi_forR, '/lustre/scratch126/cellgen/team292/vl6/VISIUM/femalereproductiveaxis_epi_cytassist_downsampled.rds')"
   ]
  },
  {
   "cell_type": "code",
   "execution_count": null,
   "metadata": {},
   "outputs": [],
   "source": [
    "axis_adata_epi"
   ]
  },
  {
   "cell_type": "markdown",
   "metadata": {},
   "source": [
    "## Epithelial spots of Fallopian axis only for intra-organ differences "
   ]
  },
  {
   "cell_type": "code",
   "execution_count": null,
   "metadata": {},
   "outputs": [],
   "source": [
    "axis_adata_epi_FT = axis_adata_epi[[i < 0 for i in axis_adata_epi.obs['FemaleReproductiveAxis']]]\n",
    "axis_adata_epi_FT.shape"
   ]
  },
  {
   "cell_type": "code",
   "execution_count": null,
   "metadata": {},
   "outputs": [],
   "source": [
    "axis = bin_axis(axis_adata_epi_FT.obs, n_bins = 3, axis_name = 'FemaleReproductiveAxis')\n",
    "axis['binned_FemaleReproductiveAxis_3_bins'] = axis['binned_FemaleReproductiveAxis_3_bins'].astype(float)\n",
    "axis['binned_FemaleReproductiveAxis_3_bins'] = np.round(axis['binned_FemaleReproductiveAxis_3_bins'], 2)\n",
    "axis_adata_epi_FT.obs['binned_FemaleReproductiveAxis_3_bins'] = axis_adata_epi_FT.obs_names.map(axis['binned_FemaleReproductiveAxis_3_bins'].to_dict())"
   ]
  },
  {
   "cell_type": "code",
   "execution_count": null,
   "metadata": {},
   "outputs": [],
   "source": [
    "axis_adata_epi_FT.obs['binned_FemaleReproductiveAxis_3_bins'].value_counts()"
   ]
  },
  {
   "cell_type": "code",
   "execution_count": null,
   "metadata": {},
   "outputs": [],
   "source": [
    "axis_adata_epi_FT = downsample(axis_adata_epi_FT, 'binned_FemaleReproductiveAxis_3_bins', 30)"
   ]
  },
  {
   "cell_type": "code",
   "execution_count": null,
   "metadata": {},
   "outputs": [],
   "source": [
    "axis_adata_epi_FT.X[20:30, 20:30].toarray()"
   ]
  },
  {
   "cell_type": "code",
   "execution_count": null,
   "metadata": {},
   "outputs": [],
   "source": [
    "axis_adata_epi_FT.obs['FemaleReproductiveAxis'].hist(bins = 3)"
   ]
  },
  {
   "cell_type": "code",
   "execution_count": null,
   "metadata": {},
   "outputs": [],
   "source": [
    "axis_adata_epi_FT_forR = axis_adata_epi_FT.copy()"
   ]
  },
  {
   "cell_type": "code",
   "execution_count": null,
   "metadata": {},
   "outputs": [],
   "source": [
    "# remove mito genes\n",
    "non_mito_genes = [name for name in axis_adata_epi_FT_forR.var_names if not name.startswith('MT')]\n",
    "axis_adata_epi_FT_forR = axis_adata_epi_FT_forR[:, non_mito_genes]\n",
    "\n",
    "# remove ribo genes\n",
    "non_ribo_genes = [name for name in axis_adata_epi_FT_forR.var_names if not name.startswith('RP')]\n",
    "axis_adata_epi_FT_forR = axis_adata_epi_FT_forR[:, non_ribo_genes]\n",
    "\n",
    "# remove haemoglobin genes \n",
    "non_haemo_genes = [name for name in axis_adata_epi_FT_forR.var_names if name not in ['HBA1', 'HBA2', 'HBB', 'HBG1', 'HBG2']]\n",
    "axis_adata_epi_FT_forR = axis_adata_epi_FT_forR[:, non_haemo_genes]\n",
    "\n",
    "\n",
    "# remove heat shock protein genes\n",
    "non_hps_genes = [name for name in axis_adata_epi_FT_forR.var_names if not name.startswith('HSP')]\n",
    "axis_adata_epi_FT_forR = axis_adata_epi_FT_forR[:, non_hps_genes]\n",
    "\n",
    "sc.pp.filter_genes(axis_adata_epi_FT_forR, min_cells = 10)\n",
    "sc.pp.filter_genes(axis_adata_epi_FT_forR, min_counts = 1)"
   ]
  },
  {
   "cell_type": "code",
   "execution_count": null,
   "metadata": {},
   "outputs": [],
   "source": [
    "axis_adata_epi_FT_forR.shape"
   ]
  },
  {
   "cell_type": "code",
   "execution_count": null,
   "metadata": {},
   "outputs": [],
   "source": [
    "for col in axis_adata_epi_FT_forR.obs.columns:\n",
    "    if col not in [ 'FemaleReproductiveAxis', 'sample']:\n",
    "        del axis_adata_epi_FT_forR.obs[col]"
   ]
  },
  {
   "cell_type": "code",
   "execution_count": null,
   "metadata": {},
   "outputs": [],
   "source": [
    "del axis_adata_epi_FT_forR.obsm"
   ]
  },
  {
   "cell_type": "code",
   "execution_count": null,
   "metadata": {},
   "outputs": [],
   "source": [
    "%%R -i axis_adata_epi_FT_forR\n",
    "axis_adata_epi_FT_forR"
   ]
  },
  {
   "cell_type": "code",
   "execution_count": null,
   "metadata": {},
   "outputs": [],
   "source": [
    "%%R \n",
    "saveRDS(axis_adata_epi_FT_forR, '/lustre/scratch126/cellgen/team292/vl6/VISIUM/femalereproductiveaxis_epi_cytassist_downsampled_fallopiantube.rds')"
   ]
  },
  {
   "cell_type": "code",
   "execution_count": null,
   "metadata": {},
   "outputs": [],
   "source": [
    "variable_signature = [ \n",
    "     'PPP2R2B','GATA6','APOA1','PNOC','MMP28', 'DLGAP1',  'RSPO1',  'ERP27',  'WT1',  'ALDH1A2', \n",
    "    'CD109', 'DOK5','LYPD1',  'TTYH1',  'CRTAC1',\n",
    "        \n",
    "       'EME2', 'ETV4', 'HAPLN3', 'SP5','MUC6', 'KCNN4',  'CHRNA4',  'SHANK1', 'FGF17', 'FGFR3', 'WDR72',\n",
    "        \n",
    "             ]"
   ]
  },
  {
   "cell_type": "code",
   "execution_count": null,
   "metadata": {},
   "outputs": [],
   "source": [
    "axis_adata_epi_FT.raw = axis_adata_epi_FT.copy()\n",
    "sc.pp.normalize_total(axis_adata_epi_FT, inplace=True)\n",
    "sc.pp.log1p(axis_adata_epi_FT)"
   ]
  },
  {
   "cell_type": "code",
   "execution_count": null,
   "metadata": {},
   "outputs": [],
   "source": [
    "# Create matrix plot using scanpy\n",
    "sc.pl.matrixplot(axis_adata_epi_FT,var_names=variable_signature,groupby='binned_FemaleReproductiveAxis_3_bins',\n",
    "                 num_categories = 3,\n",
    "                 cmap='OrRd',\n",
    "                 standard_scale='var',dendrogram=False,save='matrixplot_epi_fallopian_spatiallyvariable.pdf')"
   ]
  },
  {
   "cell_type": "code",
   "execution_count": null,
   "metadata": {},
   "outputs": [],
   "source": []
  }
 ],
 "metadata": {
  "kernelspec": {
   "display_name": "atac_env",
   "language": "python",
   "name": "atac_env"
  },
  "language_info": {
   "codemirror_mode": {
    "name": "ipython",
    "version": 3
   },
   "file_extension": ".py",
   "mimetype": "text/x-python",
   "name": "python",
   "nbconvert_exporter": "python",
   "pygments_lexer": "ipython3",
   "version": "3.8.6"
  }
 },
 "nbformat": 4,
 "nbformat_minor": 4
}
