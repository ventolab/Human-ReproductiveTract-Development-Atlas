{
 "cells": [
  {
   "cell_type": "markdown",
   "metadata": {},
   "source": [
    "## Wolffian duct differentiation - mesenchyme"
   ]
  },
  {
   "cell_type": "code",
   "execution_count": null,
   "metadata": {},
   "outputs": [],
   "source": [
    "import numpy as np\n",
    "import pandas as pd\n",
    "import scanpy as sc\n",
    "import scrublet as scr\n",
    "import seaborn as sns\n",
    "import scipy.stats\n",
    "import anndata\n",
    "import os\n",
    "\n",
    "import scipy as scipy\n",
    "import scipy as sp\n",
    "import pickle as pkl\n",
    "import matplotlib.pyplot as plt\n",
    "import re\n",
    "from collections import defaultdict\n",
    "from statsmodels.nonparametric.smoothers_lowess import lowess\n",
    "from numpy import asarray as ar\n",
    "from collections import Counter\n",
    "import networkx as nx\n",
    "import igraph\n",
    "import glob"
   ]
  },
  {
   "cell_type": "code",
   "execution_count": null,
   "metadata": {},
   "outputs": [],
   "source": [
    "print(anndata.__version__)"
   ]
  },
  {
   "cell_type": "code",
   "execution_count": null,
   "metadata": {},
   "outputs": [],
   "source": [
    "import matplotlib as mpl\n",
    "mpl.rcParams['pdf.fonttype'] = 42"
   ]
  },
  {
   "cell_type": "code",
   "execution_count": null,
   "metadata": {},
   "outputs": [],
   "source": [
    "males_post10pcw = sc.read('/nfs/team292/vl6/FetalReproductiveTract/males_post10pcw.20240326.h5ad')\n",
    "males_post10pcw.shape"
   ]
  },
  {
   "cell_type": "code",
   "execution_count": null,
   "metadata": {},
   "outputs": [],
   "source": [
    "sc.set_figure_params(scanpy=True, dpi=80, dpi_save=150, frameon=True, vector_friendly=True, \n",
    "                         fontsize=14, figsize=(7, 7), color_map=None, format='pdf', facecolor=None, transparent=False)"
   ]
  },
  {
   "cell_type": "code",
   "execution_count": null,
   "metadata": {},
   "outputs": [],
   "source": [
    "sc.pl.umap(males_post10pcw, color=\"celltype\")"
   ]
  },
  {
   "cell_type": "code",
   "execution_count": null,
   "metadata": {},
   "outputs": [],
   "source": [
    "sc.pl.umap(males_post10pcw, color=\"celltype\", groups = ['CaputEpididymis_Epithelium', 'Corpus/CaudaEpididymis_Epithelium',\n",
    "                                                        'Corpus/CaputEpididymis_Mesenchyme', 'CaudaEpididymis_Mesenchyme', \n",
    "                                                        'VasDeferens_Mesenchyme'\n",
    "                                                                         ])"
   ]
  },
  {
   "cell_type": "code",
   "execution_count": null,
   "metadata": {},
   "outputs": [],
   "source": [
    "males_post10pcw = males_post10pcw[[i in [\n",
    "                                                        'Corpus/CaputEpididymis_Mesenchyme',  \n",
    "                                                        'VasDeferens_Mesenchyme']\n",
    "                                    for i in males_post10pcw.obs['celltype']]]"
   ]
  },
  {
   "cell_type": "code",
   "execution_count": null,
   "metadata": {},
   "outputs": [],
   "source": [
    "sc.pl.umap(males_post10pcw, color=\"celltype\")"
   ]
  },
  {
   "cell_type": "code",
   "execution_count": null,
   "metadata": {},
   "outputs": [],
   "source": [
    "import anndata"
   ]
  },
  {
   "cell_type": "code",
   "execution_count": null,
   "metadata": {},
   "outputs": [],
   "source": [
    "adata = anndata.AnnData(X = males_post10pcw.raw.X, obs = males_post10pcw.obs, var = males_post10pcw.raw.var)\n",
    "adata"
   ]
  },
  {
   "cell_type": "code",
   "execution_count": null,
   "metadata": {},
   "outputs": [],
   "source": [
    "adata = adata[[i == 'G1' for i in adata.obs['phase']]]"
   ]
  },
  {
   "cell_type": "code",
   "execution_count": null,
   "metadata": {},
   "outputs": [],
   "source": [
    "adata.obs['stage_pcw'].value_counts(dropna = False)"
   ]
  },
  {
   "cell_type": "code",
   "execution_count": null,
   "metadata": {},
   "outputs": [],
   "source": [
    "# Random downsampling per cell type \n",
    "import random\n",
    "from itertools import chain\n",
    "def downsample(adata, labels, n): \n",
    "    \n",
    "    myindex = adata.obs[labels].value_counts().index \n",
    "    myvalues = adata.obs[labels].value_counts().values\n",
    "    clusters = pd.Series(myvalues, index = myindex)\n",
    "    \n",
    "    # Find clusters with > n cells \n",
    "    cl2downsample = clusters.index[ clusters.values > n ]\n",
    "\n",
    "    # save all barcode ids from small clusters\n",
    "    holder = []\n",
    "    holder.append( adata.obs_names[[ i not in cl2downsample for i in adata.obs[labels] ]] ) \n",
    "\n",
    "    # randomly sample n cells in the cl2downsample\n",
    "    for cl in cl2downsample:\n",
    "        print(cl)\n",
    "        cl_sample = adata[[ i == cl for i in adata.obs[labels]]].obs_names\n",
    "        # n = int(round(len(cl_sample)/2, 0))\n",
    "       \n",
    "        cl_downsample = random.sample(set(cl_sample), n )\n",
    "        holder.append(cl_downsample)\n",
    "    \n",
    "    # samples to include\n",
    "    samples = list(chain(*holder))\n",
    "\n",
    "    # Filter adata_count\n",
    "    adata = adata[[ i in samples for i in adata.obs_names ]]\n",
    "    return adata"
   ]
  },
  {
   "cell_type": "code",
   "execution_count": null,
   "metadata": {},
   "outputs": [],
   "source": [
    "## import reproductive tract utils functions\n",
    "import sys\n",
    "cwd = '/nfs/team292/vl6/Experiments/Utils/'\n",
    "sys.path.append(cwd)\n",
    "\n",
    "import reptract_utils\n",
    "import reptract_genes"
   ]
  },
  {
   "cell_type": "code",
   "execution_count": null,
   "metadata": {},
   "outputs": [],
   "source": [
    "adata.shape"
   ]
  },
  {
   "cell_type": "code",
   "execution_count": null,
   "metadata": {},
   "outputs": [],
   "source": [
    "adata.raw = adata.copy()"
   ]
  },
  {
   "cell_type": "code",
   "execution_count": null,
   "metadata": {},
   "outputs": [],
   "source": [
    "sc.pp.filter_genes(adata, min_counts=10)"
   ]
  },
  {
   "cell_type": "code",
   "execution_count": null,
   "metadata": {},
   "outputs": [],
   "source": [
    "adata = reptract_utils.normalize_log_transform(adata)"
   ]
  },
  {
   "cell_type": "code",
   "execution_count": null,
   "metadata": {},
   "outputs": [],
   "source": [
    "adata = reptract_utils.hvgs_pca_umap(adata)"
   ]
  },
  {
   "cell_type": "code",
   "execution_count": null,
   "metadata": {},
   "outputs": [],
   "source": [
    "sc.pl.umap(adata, color=['stage_pcw', 'sample', \n",
    "                         'n_genes', 'donor',  'doublet_scores',\n",
    "                        'celltype', 'phase'], ncols = 2, wspace = 0.3, \n",
    "          color_map = 'OrRd')"
   ]
  },
  {
   "cell_type": "code",
   "execution_count": null,
   "metadata": {},
   "outputs": [],
   "source": [
    "sc.pl.umap(adata, color = [ 'HOXA5', 'HOXA7', 'HOXA10', 'PTGER3', 'ACTA2', 'DES', 'MYH11',\n",
    "                          'HOXA13', 'ISL1', 'TMEM163',  'WNT4', 'RXFP2', 'GDF10', 'COMP', 'CALY', \n",
    "                          'WNT2', 'SFRP2', 'CDH7', 'RAI2',  'HMGA2', \n",
    "                          'KRT18', 'HOXA11', 'HOXC10', 'SRD5A2', 'EMX2', 'FOXF1', 'FOXF2', \n",
    "                          'DLK1'], wspace = 0.15, use_raw = False,\n",
    "           color_map = 'OrRd', ncols = 2)"
   ]
  },
  {
   "cell_type": "code",
   "execution_count": null,
   "metadata": {},
   "outputs": [],
   "source": [
    "sc.tl.leiden(adata, resolution = 5)\n",
    "sc.pl.umap(adata, color = 'leiden', legend_loc = 'on data')"
   ]
  },
  {
   "cell_type": "code",
   "execution_count": null,
   "metadata": {},
   "outputs": [],
   "source": [
    "sc.pl.umap(adata, color = 'leiden', groups = ['62', '30', '41', '66'])"
   ]
  },
  {
   "cell_type": "code",
   "execution_count": null,
   "metadata": {},
   "outputs": [],
   "source": [
    "adata = adata[[i not in ['62', '30', '41', '66'] for i in adata.obs['leiden']]]"
   ]
  },
  {
   "cell_type": "code",
   "execution_count": null,
   "metadata": {},
   "outputs": [],
   "source": [
    "sc.pl.umap(adata, color = [ 'HOXA5', 'HOXA7', 'HOXA10', 'PTGER3', 'ACTA2', 'DES', 'MYH11',\n",
    "                          'HOXA13', 'ISL1', 'TMEM163',  'WNT4', 'RXFP2', 'GDF10', 'COMP', 'CALY', \n",
    "                          'WNT2', 'SFRP2', 'CDH7', 'RAI2',  'HMGA2', \n",
    "                          'KRT18', 'HOXA11', 'HOXC10', 'SRD5A2', 'EMX2', 'FOXF1', 'FOXF2', \n",
    "                          'DLK1'], wspace = 0.15, use_raw = False,\n",
    "           color_map = 'OrRd', ncols = 2)"
   ]
  },
  {
   "cell_type": "code",
   "execution_count": null,
   "metadata": {},
   "outputs": [],
   "source": []
  },
  {
   "cell_type": "code",
   "execution_count": null,
   "metadata": {},
   "outputs": [],
   "source": [
    "adata.obs['stage_pcw'].value_counts()"
   ]
  },
  {
   "cell_type": "code",
   "execution_count": null,
   "metadata": {},
   "outputs": [],
   "source": [
    "# adata = downsample(adata, 'stage_pcw', 3000)"
   ]
  },
  {
   "cell_type": "code",
   "execution_count": null,
   "metadata": {},
   "outputs": [],
   "source": [
    "adata = anndata.AnnData(X = adata.raw.X, var = adata.raw.var, obs = adata.obs)\n"
   ]
  },
  {
   "cell_type": "code",
   "execution_count": null,
   "metadata": {},
   "outputs": [],
   "source": [
    "adata.raw = adata.copy()\n",
    "sc.pp.filter_genes(adata, min_counts=10)\n",
    "#adata = reptract_utils.per_gene_analysis(adata)\n",
    "adata = reptract_utils.normalize_log_transform(adata)\n",
    "adata = reptract_utils.hvgs_pca_umap(adata)"
   ]
  },
  {
   "cell_type": "code",
   "execution_count": null,
   "metadata": {},
   "outputs": [],
   "source": [
    "sc.pl.umap(adata, color=['stage_pcw', 'sample', \n",
    "                         'n_genes', 'donor',  'doublet_scores',\n",
    "                        'celltype'], ncols = 2, wspace = 0.3, \n",
    "          color_map = 'OrRd')"
   ]
  },
  {
   "cell_type": "code",
   "execution_count": null,
   "metadata": {},
   "outputs": [],
   "source": [
    "sc.pl.umap(adata, color = ['HOXA5', 'HOXA7', 'HOXA10', 'PTGER3', 'ACTA2', 'DES', 'MYH11',\n",
    "                          'HOXA13', 'ISL1', 'TMEM163',  'WNT4', 'RXFP2', 'GDF10', 'COMP', 'CALY', \n",
    "                          'WNT2', 'SFRP2', 'CDH7', 'RAI2',  'HMGA2', \n",
    "                          'KRT18', 'HOXA11', 'HOXC10', 'SRD5A2', 'EMX2', 'FOXF1', 'FOXF2', \n",
    "                          'DLK1'], wspace = 0.15, use_raw = False,\n",
    "           color_map = 'OrRd', ncols = 2)"
   ]
  },
  {
   "cell_type": "code",
   "execution_count": null,
   "metadata": {},
   "outputs": [],
   "source": [
    "import rpy2.rinterface_lib.callbacks\n",
    "import logging\n",
    "# Ignore R warning messages\n",
    "#Note: this can be commented out to get more verbose R output\n",
    "rpy2.rinterface_lib.callbacks.logger.setLevel(logging.ERROR)\n",
    "import anndata2ri\n",
    "anndata2ri.activate()\n",
    "%load_ext rpy2.ipython"
   ]
  },
  {
   "cell_type": "code",
   "execution_count": null,
   "metadata": {},
   "outputs": [],
   "source": [
    "# Extract PCA matrix and batch array\n",
    "n_pcs = 18 # Principal components used to perform dimensionality reduction \n",
    "pca = adata.obsm['X_pca'][:, 0:(n_pcs)]\n",
    "batch = adata.obs['donor'] # Batch ID, in this case stage"
   ]
  },
  {
   "cell_type": "code",
   "execution_count": null,
   "metadata": {},
   "outputs": [],
   "source": [
    "%%R -i pca -i batch -o hem\n",
    "\n",
    "library(harmony)\n",
    "library(magrittr)\n",
    "set.seed(1000)\n",
    "hem <- HarmonyMatrix(pca, batch, theta=0, lambda = 6, do_pca=FALSE, verbose = FALSE)  \n",
    "hem = data.frame(hem)"
   ]
  },
  {
   "cell_type": "code",
   "execution_count": null,
   "metadata": {},
   "outputs": [],
   "source": [
    "# Add harmony values to the anndata object --> overwriting PCA \n",
    "adata.obsm['X_pca'] = hem.values "
   ]
  },
  {
   "cell_type": "code",
   "execution_count": null,
   "metadata": {},
   "outputs": [],
   "source": [
    "sc.pp.neighbors(adata, n_pcs = n_pcs, random_state= 123)\n",
    "sc.tl.umap(adata, min_dist=0.4, spread = 1.2)"
   ]
  },
  {
   "cell_type": "code",
   "execution_count": null,
   "metadata": {},
   "outputs": [],
   "source": [
    "sc.pl.umap(adata, color = ['HOXA5', 'HOXA7', 'HOXA9', 'HOXA10', 'PTGER3', 'ACTA2', 'DES', 'MYH11',\n",
    "                          'HOXA13', 'ISL1', 'TMEM163',  'WNT4', 'RXFP2', 'GDF10', 'COMP', 'CALY', \n",
    "                          'WNT2', 'SFRP2', 'CDH7', 'RAI2',  'HMGA2', \n",
    "                          'KRT18', 'HOXA11', 'HOXC10', 'SRD5A2', 'EMX2', 'FOXF1', 'FOXF2', \n",
    "                          'DLK1'], wspace = 0.15, use_raw = False,\n",
    "           color_map = 'OrRd', ncols = 2)"
   ]
  },
  {
   "cell_type": "code",
   "execution_count": null,
   "metadata": {},
   "outputs": [],
   "source": [
    "sc.pl.umap(adata, color=['stage_pcw', \n",
    "                         'n_genes', 'donor',  'doublet_scores',\n",
    "                        'celltype', 'phase'], ncols = 2, wspace = 0.3, \n",
    "          color_map = 'OrRd')"
   ]
  },
  {
   "cell_type": "code",
   "execution_count": null,
   "metadata": {},
   "outputs": [],
   "source": [
    "sc.tl.leiden(adata, resolution = 0.5)\n",
    "sc.pl.umap(adata, color = 'leiden', legend_loc = 'on data')"
   ]
  },
  {
   "cell_type": "code",
   "execution_count": null,
   "metadata": {},
   "outputs": [],
   "source": [
    "sc.tl.draw_graph(adata)"
   ]
  },
  {
   "cell_type": "code",
   "execution_count": null,
   "metadata": {},
   "outputs": [],
   "source": [
    "sc.pl.draw_graph(adata, color='leiden', legend_loc='on data')\n"
   ]
  },
  {
   "cell_type": "code",
   "execution_count": null,
   "metadata": {},
   "outputs": [],
   "source": [
    "sc.pl.draw_graph(adata, color='n_genes', color_map='OrRd')\n"
   ]
  },
  {
   "cell_type": "code",
   "execution_count": null,
   "metadata": {},
   "outputs": [],
   "source": [
    "sc.tl.paga(adata, groups='leiden')\n"
   ]
  },
  {
   "cell_type": "code",
   "execution_count": null,
   "metadata": {},
   "outputs": [],
   "source": [
    "sc.pl.paga(adata, color=['leiden', 'HOXA9', 'HOXA7', 'HOXA10', 'HOXA11', 'RAI2'])\n"
   ]
  },
  {
   "cell_type": "code",
   "execution_count": null,
   "metadata": {},
   "outputs": [],
   "source": [
    "sc.tl.draw_graph(adata, init_pos='paga')\n"
   ]
  },
  {
   "cell_type": "code",
   "execution_count": null,
   "metadata": {},
   "outputs": [],
   "source": [
    "sc.pl.draw_graph(adata, color='leiden', legend_loc='on data')\n"
   ]
  },
  {
   "cell_type": "code",
   "execution_count": null,
   "metadata": {},
   "outputs": [],
   "source": [
    "adata"
   ]
  },
  {
   "cell_type": "code",
   "execution_count": null,
   "metadata": {},
   "outputs": [],
   "source": [
    "import anndata\n",
    "bdata = anndata.AnnData(X = adata.raw.X, var = adata.raw.var, obs = adata.obs)"
   ]
  },
  {
   "cell_type": "code",
   "execution_count": null,
   "metadata": {},
   "outputs": [],
   "source": [
    "import rpy2.rinterface_lib.callbacks\n",
    "import logging\n",
    "# Ignore R warning messages\n",
    "#Note: this can be commented out to get more verbose R output\n",
    "rpy2.rinterface_lib.callbacks.logger.setLevel(logging.ERROR)\n",
    "import anndata2ri\n",
    "anndata2ri.activate()\n",
    "%load_ext rpy2.ipython"
   ]
  },
  {
   "cell_type": "code",
   "execution_count": null,
   "metadata": {},
   "outputs": [],
   "source": [
    "for col in bdata.obs.columns: \n",
    "    if col != 'leiden':\n",
    "        del bdata.obs[col]"
   ]
  },
  {
   "cell_type": "code",
   "execution_count": null,
   "metadata": {},
   "outputs": [],
   "source": [
    "%%R -i bdata\n",
    "bdata"
   ]
  },
  {
   "cell_type": "code",
   "execution_count": null,
   "metadata": {},
   "outputs": [],
   "source": [
    "%%R -o mrks\n",
    "\n",
    "library(SoupX)\n",
    "counts <- assay(bdata, \"X\")\n",
    "colnames(counts) <- colnames(bdata)\n",
    "rownames(counts) <- rownames(bdata)\n",
    "mrks = quickMarkers(counts, colData(bdata)$leiden, N = 50) # where clusters is the cell type assignment and 100 means I want the top 100 genes per cluster that pass the hypergeometric test"
   ]
  },
  {
   "cell_type": "code",
   "execution_count": null,
   "metadata": {},
   "outputs": [],
   "source": [
    "sc.pl.umap(adata, color = ['leiden', 'stage_pcw'], legend_loc = 'on data')"
   ]
  },
  {
   "cell_type": "code",
   "execution_count": null,
   "metadata": {},
   "outputs": [],
   "source": [
    "cluster = mrks[mrks['cluster'] == '0']['gene'].to_list()[0:9]\n",
    "sc.pl.umap(adata, color = cluster, color_map = 'OrRd', ncols = 3, use_raw = False)"
   ]
  },
  {
   "cell_type": "code",
   "execution_count": null,
   "metadata": {},
   "outputs": [],
   "source": [
    "cluster = mrks[mrks['cluster'] == '1']['gene'].to_list()[0:9]\n",
    "sc.pl.umap(adata, color = cluster, color_map = 'OrRd', ncols = 3, use_raw = False)"
   ]
  },
  {
   "cell_type": "code",
   "execution_count": null,
   "metadata": {},
   "outputs": [],
   "source": [
    "cluster = mrks[mrks['cluster'] == '2']['gene'].to_list()[0:9]\n",
    "sc.pl.umap(adata, color = cluster, color_map = 'OrRd', ncols = 3, use_raw = False)"
   ]
  },
  {
   "cell_type": "code",
   "execution_count": null,
   "metadata": {},
   "outputs": [],
   "source": [
    "cluster = mrks[mrks['cluster'] == '3']['gene'].to_list()[0:9]\n",
    "sc.pl.umap(adata, color = cluster, color_map = 'OrRd', ncols = 3, use_raw = False)"
   ]
  },
  {
   "cell_type": "code",
   "execution_count": null,
   "metadata": {},
   "outputs": [],
   "source": [
    "cluster = mrks[mrks['cluster'] == '4']['gene'].to_list()[0:9]\n",
    "sc.pl.umap(adata, color = cluster, color_map = 'OrRd', ncols = 3, use_raw = False)"
   ]
  },
  {
   "cell_type": "code",
   "execution_count": null,
   "metadata": {},
   "outputs": [],
   "source": [
    "cluster = mrks[mrks['cluster'] == '5']['gene'].to_list()[0:9]\n",
    "sc.pl.umap(adata, color = cluster, color_map = 'OrRd', ncols = 3, use_raw = False)"
   ]
  },
  {
   "cell_type": "code",
   "execution_count": null,
   "metadata": {},
   "outputs": [],
   "source": [
    "cluster = mrks[mrks['cluster'] == '6']['gene'].to_list()[0:9]\n",
    "sc.pl.umap(adata, color = cluster, color_map = 'OrRd', ncols = 3, use_raw = False)"
   ]
  },
  {
   "cell_type": "code",
   "execution_count": null,
   "metadata": {},
   "outputs": [],
   "source": [
    "cluster = mrks[mrks['cluster'] == '7']['gene'].to_list()[0:9]\n",
    "sc.pl.umap(adata, color = cluster, color_map = 'OrRd', ncols = 3, use_raw = False)"
   ]
  },
  {
   "cell_type": "code",
   "execution_count": null,
   "metadata": {},
   "outputs": [],
   "source": [
    "cluster = mrks[mrks['cluster'] == '8']['gene'].to_list()[0:9]\n",
    "sc.pl.umap(adata, color = cluster, color_map = 'OrRd', ncols = 3, use_raw = False)"
   ]
  },
  {
   "cell_type": "code",
   "execution_count": null,
   "metadata": {},
   "outputs": [],
   "source": [
    "sc.pl.umap(adata, color = 'leiden', legend_loc = 'on data')"
   ]
  },
  {
   "cell_type": "code",
   "execution_count": null,
   "metadata": {},
   "outputs": [],
   "source": [
    "annots = {'0' : 'Epididymis_Mesenchyme', '1' : 'Epididymis_Mesenchyme', '2' : 'Epididymis_Mesenchyme',\n",
    "         '3' : 'Epididymis_Mesenchyme', '4' : 'Epididymis_Mesenchyme','5' : 'Epididymis_Mesenchyme',\n",
    "         '6' : 'Epididymis_Mesenchyme', '7' : 'VasDeferens_Mesenchyme', '8' : 'Epididymis_Mesenchyme'}"
   ]
  },
  {
   "cell_type": "code",
   "execution_count": null,
   "metadata": {},
   "outputs": [],
   "source": [
    "adata.obs['mese_wolffian_lowres'] = adata.obs.leiden.map(annots)"
   ]
  },
  {
   "cell_type": "code",
   "execution_count": null,
   "metadata": {},
   "outputs": [],
   "source": [
    "sc.pl.umap(adata, color = ['stage_pcw', 'donor', 'leiden', 'mese_wolffian_lowres'], \n",
    "          ncols = 2, save = '_mese_wolffian')"
   ]
  },
  {
   "cell_type": "code",
   "execution_count": null,
   "metadata": {},
   "outputs": [],
   "source": [
    "#del adata.obs['epi_mullerian_lowres']\n",
    "#del adata.obs['epi_mullerian_highres']"
   ]
  },
  {
   "cell_type": "code",
   "execution_count": null,
   "metadata": {},
   "outputs": [],
   "source": [
    "adata.write('/nfs/team292/vl6/FetalReproductiveTract/wolffian_mese_late_post10pcw.h5ad')"
   ]
  },
  {
   "cell_type": "code",
   "execution_count": null,
   "metadata": {},
   "outputs": [],
   "source": [
    "adata = sc.read('/nfs/team292/vl6/FetalReproductiveTract/mullerian_mese_late_post10pcw.h5ad')"
   ]
  },
  {
   "cell_type": "code",
   "execution_count": null,
   "metadata": {},
   "outputs": [],
   "source": [
    "adata.shape"
   ]
  },
  {
   "cell_type": "code",
   "execution_count": null,
   "metadata": {},
   "outputs": [],
   "source": []
  }
 ],
 "metadata": {
  "kernelspec": {
   "display_name": "atac_env",
   "language": "python",
   "name": "atac_env"
  },
  "language_info": {
   "codemirror_mode": {
    "name": "ipython",
    "version": 3
   },
   "file_extension": ".py",
   "mimetype": "text/x-python",
   "name": "python",
   "nbconvert_exporter": "python",
   "pygments_lexer": "ipython3",
   "version": "3.8.6"
  }
 },
 "nbformat": 4,
 "nbformat_minor": 4
}
