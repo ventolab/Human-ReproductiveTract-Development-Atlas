{
 "cells": [
  {
   "cell_type": "markdown",
   "id": "467fe2be",
   "metadata": {},
   "source": [
    "## SCENIC+ Mullerian duct mesenchymal cells\n",
    "\n",
    "### method benchmarking"
   ]
  },
  {
   "cell_type": "code",
   "execution_count": null,
   "id": "499e57d9",
   "metadata": {},
   "outputs": [],
   "source": [
    "#supress warnings\n",
    "import warnings\n",
    "warnings.simplefilter(action='ignore', category=FutureWarning)\n",
    "\n",
    "import sys\n",
    "import os"
   ]
  },
  {
   "cell_type": "code",
   "execution_count": null,
   "id": "8b1887d5",
   "metadata": {},
   "outputs": [],
   "source": [
    "# Get chromosome sizes (for hg38 here)\n",
    "import pyranges as pr\n",
    "import requests\n",
    "import pandas as pd\n",
    "target_url='http://hgdownload.cse.ucsc.edu/goldenPath/hg38/bigZips/hg38.chrom.sizes'\n",
    "chromsizes=pd.read_csv(target_url, sep='\\t', header=None)\n",
    "chromsizes.columns=['Chromosome', 'End']\n",
    "chromsizes['Start']=[0]*chromsizes.shape[0]\n",
    "chromsizes=chromsizes.loc[:,['Chromosome', 'Start', 'End']]\n",
    "# Exceptionally in this case, to agree with CellRangerARC annotations\n",
    "chromsizes['Chromosome'] = [chromsizes['Chromosome'][x].replace('v', '.') for x in range(len(chromsizes['Chromosome']))]\n",
    "chromsizes['Chromosome'] = [chromsizes['Chromosome'][x].split('_')[1] if len(chromsizes['Chromosome'][x].split('_')) > 1 else chromsizes['Chromosome'][x] for x in range(len(chromsizes['Chromosome']))]\n",
    "chromsizes=pr.PyRanges(chromsizes)"
   ]
  },
  {
   "cell_type": "code",
   "execution_count": null,
   "id": "f0ecdb33",
   "metadata": {},
   "outputs": [],
   "source": [
    "import matplotlib as mpl\n",
    "mpl.rcParams['pdf.fonttype'] = 42"
   ]
  },
  {
   "cell_type": "code",
   "execution_count": null,
   "id": "a2f5c6fa",
   "metadata": {},
   "outputs": [],
   "source": [
    "chromsizes"
   ]
  },
  {
   "cell_type": "markdown",
   "id": "28d2c16e",
   "metadata": {},
   "source": [
    "### Add cell type annotation information "
   ]
  },
  {
   "cell_type": "markdown",
   "id": "cce62618",
   "metadata": {},
   "source": [
    "The barcode metadata should be provided as a pd.DataFrame.\n",
    "\n",
    "* The index* of the pandas dataframe should correspond to BARCODE (e.g. ATGTCTGATAGA-1, additional tags are possible using ___; e.g. ATGTCTGATAGA-1___sample_1) and it must contain a ‘sample_id’ column indicating the sample label fo origin. It is also possible to use other separation pattern (e.g. -), but then it will have to be specified in the function.\n",
    "\n",
    "* Alternative: add a column named ‘barcode’ to the metadata with the corresponding cell barcodes (in this case the name of the cells will not be used to infer the barcode id). This is the option we use in this tutorial as well."
   ]
  },
  {
   "cell_type": "code",
   "execution_count": null,
   "id": "780aa78b",
   "metadata": {},
   "outputs": [],
   "source": [
    "females_late = pd.read_csv(\"/nfs/team292/vl6/FetalReproductiveTract/ATAC_QC/ArchR/females_late/umap_coords.csv\", index_col = 0)\n",
    "females_late.head()"
   ]
  },
  {
   "cell_type": "code",
   "execution_count": null,
   "id": "b41c19cc",
   "metadata": {},
   "outputs": [],
   "source": [
    "cell_data = females_late.copy()\n",
    "cell_data.shape"
   ]
  },
  {
   "cell_type": "code",
   "execution_count": null,
   "id": "0434cba4",
   "metadata": {},
   "outputs": [],
   "source": [
    "cell_data['predictedGroup_Un'].value_counts(dropna = False)"
   ]
  },
  {
   "cell_type": "code",
   "execution_count": null,
   "id": "7ab19c57",
   "metadata": {},
   "outputs": [],
   "source": [
    "cell_data = cell_data[cell_data['predictedGroup_Un'].isin(['Fallopian Mese', \n",
    "                        'Uterus Mese',  \n",
    "                         'Cervix Mese', 'Upper Vagina Mese'])]"
   ]
  },
  {
   "cell_type": "code",
   "execution_count": null,
   "id": "30a4b66e",
   "metadata": {},
   "outputs": [],
   "source": [
    "import numpy as np"
   ]
  },
  {
   "cell_type": "code",
   "execution_count": null,
   "id": "4da76529",
   "metadata": {},
   "outputs": [],
   "source": [
    "cell_data.shape"
   ]
  },
  {
   "cell_type": "code",
   "execution_count": null,
   "id": "fb9b78b4",
   "metadata": {},
   "outputs": [],
   "source": [
    "cell_data.tail()"
   ]
  },
  {
   "cell_type": "code",
   "execution_count": null,
   "id": "13d67666",
   "metadata": {},
   "outputs": [],
   "source": [
    "import seaborn as sns \n",
    "import matplotlib.pyplot as plt\n",
    "\n",
    "sns.set(rc={'figure.figsize':(7, 5)}, font_scale=1)\n",
    "sns.set_style(\"whitegrid\")\n",
    "ax = sns.boxplot(x = 'predictedGroup_Un', y = 'predictedScore_Un', hue = 'predictedGroup_Un', data = cell_data, width = 0.8, orient = 'v', dodge = True, fliersize = 2)\n",
    "ax.set_xticklabels(ax.get_xticklabels(),rotation = 90)\n",
    "ax.set_ylabel('predictedScore_Un')\n",
    "ax.set_xlabel('predictedGroup_Un')\n",
    "ax.grid(False)\n",
    "ax.axhline(y=0.5, color = 'gray', linestyle =  '--')\n",
    "plt.legend(bbox_to_anchor=(1.05, 1), loc=2, borderaxespad=0.1, title = 'predictedGroup')\n",
    "fig = plt.gcf()\n",
    "plt.show()\n",
    "plt.clf()\n",
    "plt.close()"
   ]
  },
  {
   "cell_type": "code",
   "execution_count": null,
   "id": "a025ae91",
   "metadata": {},
   "outputs": [],
   "source": [
    "mapping_dict = {'Fallopian Mese' : 'FallopianMese', \n",
    "                        'Uterus Mese' : 'UterusMese', 'Cervix Mese' : 'CervixMese', \n",
    "               'Upper Vagina Mese' : 'UpperVaginaMese'}\n",
    "cell_data['HarmonisedClusters'] = cell_data['predictedGroup_Un'].map(mapping_dict)"
   ]
  },
  {
   "cell_type": "code",
   "execution_count": null,
   "id": "a580d10f",
   "metadata": {},
   "outputs": [],
   "source": [
    "cell_data.shape"
   ]
  },
  {
   "cell_type": "code",
   "execution_count": null,
   "id": "860aa901",
   "metadata": {},
   "outputs": [],
   "source": [
    "cell_data[['Sample']].value_counts()"
   ]
  },
  {
   "cell_type": "code",
   "execution_count": null,
   "id": "ef9b8a8b",
   "metadata": {},
   "outputs": [],
   "source": [
    "color_palette = {\n",
    "                'FallopianMese' : 'orange', \n",
    "                'UterusMese' : 'orangered', \n",
    "                'CervixMese' : 'palevioletred', \n",
    "'UpperVaginaMese' : 'lightpink'}"
   ]
  },
  {
   "cell_type": "code",
   "execution_count": null,
   "id": "254f1c5e",
   "metadata": {},
   "outputs": [],
   "source": [
    "cell_data[['Sample', 'HarmonisedClusters']].value_counts()"
   ]
  },
  {
   "cell_type": "code",
   "execution_count": null,
   "id": "e8d1c30b",
   "metadata": {},
   "outputs": [],
   "source": [
    "import seaborn as sns \n",
    "import matplotlib.pyplot as plt\n",
    "\n",
    "sns.set(rc={'figure.figsize':(8, 5)}, font_scale=1)\n",
    "sns.set_style(\"whitegrid\")\n",
    "ax = sns.boxplot(x = 'Sample', y = 'predictedScore_Un', hue = 'HarmonisedClusters', data = cell_data, width = 0.8, palette = color_palette, orient = 'v', dodge = True, fliersize = 2)\n",
    "ax.set_xticklabels(ax.get_xticklabels(),rotation = 90)\n",
    "ax.set_ylabel('predictedScore')\n",
    "ax.set_xlabel('sample')\n",
    "ax.grid(False)\n",
    "ax.axhline(y=0.5, color = 'gray', linestyle =  '--')\n",
    "plt.legend(bbox_to_anchor=(1.05, 1), loc=2, borderaxespad=0.1, title = 'HarmonisedClusters')\n",
    "fig = plt.gcf()\n",
    "plt.show()\n",
    "plt.clf()\n",
    "plt.close()\n",
    "fig.savefig('./boxplot_differentiatingmullerianmesenchyme.pdf', bbox_inches = 'tight') "
   ]
  },
  {
   "cell_type": "code",
   "execution_count": null,
   "id": "d05b824f",
   "metadata": {},
   "outputs": [],
   "source": [
    "cell_data = cell_data[cell_data['predictedScore_Un'] >= 0.5]"
   ]
  },
  {
   "cell_type": "code",
   "execution_count": null,
   "id": "560dfc23",
   "metadata": {},
   "outputs": [],
   "source": [
    "cell_data[['HarmonisedClusters']].value_counts()"
   ]
  },
  {
   "cell_type": "code",
   "execution_count": null,
   "id": "5cbb1706",
   "metadata": {},
   "outputs": [],
   "source": [
    "cell_data[['donor']].value_counts()"
   ]
  },
  {
   "cell_type": "code",
   "execution_count": null,
   "id": "1ed3c3d1",
   "metadata": {},
   "outputs": [],
   "source": [
    "cell_data[['stage']].value_counts()"
   ]
  },
  {
   "cell_type": "code",
   "execution_count": null,
   "id": "3a12e1b5",
   "metadata": {},
   "outputs": [],
   "source": [
    "import random\n",
    "from itertools import chain\n",
    "def downsample(df, labels, n): \n",
    "    \n",
    "    myindex = df[labels].value_counts().index \n",
    "    myvalues = df[labels].value_counts().values\n",
    "    clusters = pd.Series(myvalues, index = myindex)\n",
    "    \n",
    "    # Find clusters with > n cells \n",
    "    cl2downsample = clusters.index[ clusters.values > n ]\n",
    "\n",
    "    # save all barcode ids from small clusters\n",
    "    holder = []\n",
    "    holder.append( df.index[[ i not in cl2downsample for i in df[labels] ]] ) \n",
    "\n",
    "    # randomly sample n cells in the cl2downsample\n",
    "    for cl in cl2downsample:\n",
    "        print(cl)\n",
    "        cl_sample = df[[ i == cl for i in df[labels]]].index\n",
    "        cl_downsample = random.sample(set(cl_sample), n )\n",
    "        holder.append(cl_downsample)\n",
    "    \n",
    "    # samples to include\n",
    "    samples = list(chain(*holder))\n",
    "\n",
    "    # Filter adata_count\n",
    "    df = df[[ i in samples for i in df.index ]]\n",
    "    return df"
   ]
  },
  {
   "cell_type": "code",
   "execution_count": null,
   "id": "450601ac",
   "metadata": {},
   "outputs": [],
   "source": [
    "cell_data_downsampled = downsample(cell_data, 'HarmonisedClusters', 1500)"
   ]
  },
  {
   "cell_type": "code",
   "execution_count": null,
   "id": "75cd3a40",
   "metadata": {},
   "outputs": [],
   "source": [
    "cell_data_downsampled['donor'].value_counts()"
   ]
  },
  {
   "cell_type": "code",
   "execution_count": null,
   "id": "6cebc2a9",
   "metadata": {},
   "outputs": [],
   "source": [
    "cell_data_downsampled['stage'].value_counts()"
   ]
  },
  {
   "cell_type": "code",
   "execution_count": null,
   "id": "b85d34d7",
   "metadata": {},
   "outputs": [],
   "source": [
    "cell_data_downsampled[['HarmonisedClusters']].value_counts()"
   ]
  },
  {
   "cell_type": "markdown",
   "id": "ca091287",
   "metadata": {},
   "source": [
    "### Try first without downsampling"
   ]
  },
  {
   "cell_type": "code",
   "execution_count": null,
   "id": "3e628f5a",
   "metadata": {},
   "outputs": [],
   "source": [
    "#cell_data_downsampled = cell_data.copy()"
   ]
  },
  {
   "cell_type": "code",
   "execution_count": null,
   "id": "bb70caa4",
   "metadata": {},
   "outputs": [],
   "source": [
    "cell_data_downsampled.head()"
   ]
  },
  {
   "cell_type": "code",
   "execution_count": null,
   "id": "fac40070",
   "metadata": {},
   "outputs": [],
   "source": [
    "import numpy as np"
   ]
  },
  {
   "cell_type": "code",
   "execution_count": null,
   "id": "8ecd09dc",
   "metadata": {},
   "outputs": [],
   "source": [
    "np.unique(cell_data_downsampled['Sample'])"
   ]
  },
  {
   "cell_type": "code",
   "execution_count": null,
   "id": "35aff84d",
   "metadata": {},
   "outputs": [],
   "source": [
    "cell_data_downsampled.shape"
   ]
  },
  {
   "cell_type": "code",
   "execution_count": null,
   "id": "53d6313b",
   "metadata": {},
   "outputs": [],
   "source": [
    "cell_data_downsampled['HarmonisedClusters'].value_counts()"
   ]
  },
  {
   "cell_type": "code",
   "execution_count": null,
   "id": "e002c6cd",
   "metadata": {},
   "outputs": [],
   "source": [
    "cell_data_downsampled['Sample'].value_counts()"
   ]
  },
  {
   "cell_type": "code",
   "execution_count": null,
   "id": "62c383f9",
   "metadata": {},
   "outputs": [],
   "source": [
    "cell_data_downsampled = cell_data_downsampled[cell_data_downsampled['Sample'] != 'HD_F_GON12449010']\n",
    "cell_data_downsampled = cell_data_downsampled[cell_data_downsampled['Sample'] != 'HD_F_GON12877982']"
   ]
  },
  {
   "cell_type": "code",
   "execution_count": null,
   "id": "6bf4b2f5",
   "metadata": {},
   "outputs": [],
   "source": [
    "cell_data_downsampled['Sample'].value_counts()"
   ]
  },
  {
   "cell_type": "code",
   "execution_count": null,
   "id": "3ff618a4",
   "metadata": {},
   "outputs": [],
   "source": [
    "cell_data_downsampled['HarmonisedClusters'].value_counts(dropna = False)"
   ]
  },
  {
   "cell_type": "code",
   "execution_count": null,
   "id": "63f3de55",
   "metadata": {},
   "outputs": [],
   "source": [
    "cell_data_downsampled['barcode'] = [x.split('#')[1] for x in cell_data_downsampled.index.tolist()]"
   ]
  },
  {
   "cell_type": "code",
   "execution_count": null,
   "id": "d1e26946",
   "metadata": {},
   "outputs": [],
   "source": [
    "cell_data_downsampled['index'] = cell_data_downsampled['barcode'] + '___' + cell_data_downsampled['Sample'].astype(str)"
   ]
  },
  {
   "cell_type": "code",
   "execution_count": null,
   "id": "37f65f7a",
   "metadata": {},
   "outputs": [],
   "source": [
    "cell_data_downsampled = cell_data_downsampled.set_index('index')"
   ]
  },
  {
   "cell_type": "code",
   "execution_count": null,
   "id": "a6625e01",
   "metadata": {},
   "outputs": [],
   "source": [
    "cell_data_downsampled.head()"
   ]
  },
  {
   "cell_type": "markdown",
   "id": "214fbf71",
   "metadata": {},
   "source": [
    "### Generate pseudobulk files per cell type"
   ]
  },
  {
   "cell_type": "markdown",
   "id": "3cdf77e0",
   "metadata": {},
   "source": [
    "Now we have all the ingredients we need to generate the pseudobulk files. With this function we will generate fragments files per group and the corresponding bigwigs. The mandatory input to this function are: \n",
    " * The annotation dataframe (input_data) \n",
    " * The variable used to group the cells (multiome_GermCells)\n",
    " * The chromosome sizes \n",
    " * The paths to where the bed and bigiwg files will be written\n",
    " * A dictionary indicating the fragments file corresponsing to each sample. The sample ids used as keys in this dictionary must match with the sample ids in the annotation data frame!\n",
    "\n",
    "The output will be two dictionaries containing the paths to the bed and bigwig files, respectively, to each group."
   ]
  },
  {
   "cell_type": "code",
   "execution_count": null,
   "id": "e54782ba",
   "metadata": {},
   "outputs": [],
   "source": [
    "np.unique(cell_data_downsampled['Sample'])"
   ]
  },
  {
   "cell_type": "code",
   "execution_count": null,
   "id": "ceaf7bdb",
   "metadata": {},
   "outputs": [],
   "source": [
    "## Path to fragments files of samples\n",
    "fragments_dict = {'HD_F_GON11282675' : '/nfs/team292/vl6/FetalReproductiveTract/ATAC_QC/data/HD_F_GON11282675/fragments.tsv.gz', \n",
    "                  'HD_F_GON11389960' : '/nfs/team292/vl6/FetalReproductiveTract/ATAC_QC/data/HD_F_GON11389960/fragments.tsv.gz', \n",
    "                  'HD_F_GON11389961' : '/nfs/team292/vl6/FetalReproductiveTract/ATAC_QC/data/HD_F_GON11389961/fragments.tsv.gz',\n",
    "                  'HD_F_GON12449011' : '/nfs/team292/vl6/FetalReproductiveTract/ATAC_QC/data/HD_F_GON12449011/fragments.tsv.gz',\n",
    "                  'HD_F_GON11282676' : '/nfs/team292/vl6/FetalReproductiveTract/ATAC_QC/data/HD_F_GON11282676/fragments.tsv.gz',\n",
    "                  'HD_F_GON12877983' : '/nfs/team292/vl6/FetalReproductiveTract/ATAC_QC/data/HD_F_GON12877983/fragments.tsv.gz',\n",
    "                  'HD_F_GON12877984' : '/nfs/team292/vl6/FetalReproductiveTract/ATAC_QC/data/HD_F_GON12877984/fragments.tsv.gz',\n",
    "                  'HD_F_GON14609874' : '/nfs/team292/vl6/FetalReproductiveTract/ATAC_QC/data/HD_F_GON14609874/fragments.tsv.gz',\n",
    "                  'HD_F_GON14666992' : '/nfs/team292/vl6/FetalReproductiveTract/ATAC_QC/data/HD_F_GON14666992/fragments.tsv.gz',\n",
    "                  'HD_F_GON13941947' : '/nfs/team292/vl6/FetalReproductiveTract/ATAC_QC/data/HD_F_GON13941947/fragments.tsv.gz',\n",
    "                  'HD_F_GON13941946' : '/nfs/team292/vl6/FetalReproductiveTract/ATAC_QC/data/HD_F_GON13941946/fragments.tsv.gz',\n",
    "              \n",
    "                'HCA_F_GON11173192_and_HCA_F_GON11212447' : '/nfs/team292/vl6/FetalReproductiveTract/MULTIOME_QC/data/HCA_F_GON11173192_and_HCA_F_GON11212447/fragments.tsv.gz', # 12 PCW (Hrv103)\n",
    "                  'HD_F_GON13077785_and_HD_F_GON13094224' : '/nfs/team292/vl6/FetalReproductiveTract/MULTIOME_QC/data/HD_F_GON13077785_and_HD_F_GON13094224/fragments.tsv.gz', \n",
    "                 \n",
    "                 }"
   ]
  },
  {
   "cell_type": "code",
   "execution_count": null,
   "id": "de6e6590",
   "metadata": {},
   "outputs": [],
   "source": [
    "outDir = '/lustre/scratch126/cellgen/team292/vl6/pycistopic/mullerian_mese_withvagina_post9pcw/'\n",
    "tmpDir = '/lustre/scratch126/cellgen/team292/vl6/pycistopic/temp/'"
   ]
  },
  {
   "cell_type": "code",
   "execution_count": null,
   "id": "a160d75e",
   "metadata": {},
   "outputs": [],
   "source": []
  },
  {
   "cell_type": "code",
   "execution_count": null,
   "id": "0f20d6c0",
   "metadata": {},
   "outputs": [],
   "source": [
    "from pycisTopic.pseudobulk_peak_calling import *\n",
    "bw_paths, bed_paths = export_pseudobulk(input_data = cell_data_downsampled,\n",
    "                 variable = 'HarmonisedClusters',\n",
    "                 sample_id_col = 'Sample',\n",
    "                 chromsizes = chromsizes,\n",
    "                 bed_path = outDir + 'consensus_peak_calling/pseudobulk_bed_files/',\n",
    "                 bigwig_path = outDir + 'consensus_peak_calling/pseudobulk_bw_files/',\n",
    "                 path_to_fragments = fragments_dict,\n",
    "                 n_cpu = 1,\n",
    "                 normalize_bigwig = True,\n",
    "                 remove_duplicates = True,\n",
    "                 #_temp_dir = tmpDir + 'ray_spill',\n",
    "                 split_pattern = '___')"
   ]
  },
  {
   "cell_type": "code",
   "execution_count": null,
   "id": "1bd028ca",
   "metadata": {},
   "outputs": [],
   "source": [
    "# Save\n",
    "import pickle\n",
    "with open(outDir + 'consensus_peak_calling/pseudobulk_bed_files/bed_paths.pkl', 'wb') as f:\n",
    "  pickle.dump(bed_paths, f)\n",
    "\n",
    "import pickle\n",
    "with open(outDir + 'consensus_peak_calling/pseudobulk_bed_files/bw_paths.pkl', 'wb') as f:\n",
    "  pickle.dump(bw_paths, f)"
   ]
  },
  {
   "cell_type": "markdown",
   "id": "3098b076",
   "metadata": {},
   "source": [
    "### Calling peaks with MACS2"
   ]
  },
  {
   "cell_type": "code",
   "execution_count": null,
   "id": "23c4b8d0",
   "metadata": {},
   "outputs": [],
   "source": [
    "from pycisTopic.pseudobulk_peak_calling import *\n",
    "macs_path='/opt/conda/envs/scenicplus/bin/macs2'\n",
    "macs_outdir = outDir + 'consensus_peak_calling/MACS/'\n",
    "# os.mkdir(macs_outdir)"
   ]
  },
  {
   "cell_type": "code",
   "execution_count": null,
   "id": "4a680ebc",
   "metadata": {},
   "outputs": [],
   "source": [
    "#sys.stderr = open(os.devnull, \"w\")  # silence stderr"
   ]
  },
  {
   "cell_type": "code",
   "execution_count": null,
   "id": "93aaf801",
   "metadata": {},
   "outputs": [],
   "source": [
    "#ray.shutdown()"
   ]
  },
  {
   "cell_type": "code",
   "execution_count": null,
   "id": "71f057f8",
   "metadata": {},
   "outputs": [],
   "source": [
    "# Run peak calling\n",
    "narrow_peaks_dict = peak_calling(macs_path,\n",
    "                                 bed_paths,\n",
    "                                 macs_outdir,\n",
    "                                 genome_size='hs',\n",
    "                                 n_cpu=1,\n",
    "                                 input_format='BEDPE',\n",
    "                                 shift=73,\n",
    "                                 ext_size=146,\n",
    "                                 keep_dup = 'all',\n",
    "                                 q_value = 0.05,\n",
    "                                 #_temp_dir = tmpDir + 'ray_spill'\n",
    "                                )\n",
    "sys.stderr = sys.__stderr__  # unsilence stderr"
   ]
  },
  {
   "cell_type": "code",
   "execution_count": null,
   "id": "68df66b2",
   "metadata": {},
   "outputs": [],
   "source": [
    "# Save\n",
    "import pickle\n",
    "with open(outDir + 'consensus_peak_calling/MACS/narrow_peaks_dict.pkl', 'wb') as f:\n",
    "  pickle.dump(narrow_peaks_dict, f)"
   ]
  },
  {
   "cell_type": "markdown",
   "id": "1600a4a7",
   "metadata": {},
   "source": [
    "### Deriving consensus peaks with iterative overlapping"
   ]
  },
  {
   "cell_type": "markdown",
   "id": "9f69e160",
   "metadata": {},
   "source": [
    "Finally, it is time to derive the consensus peaks. To do so, we use the TGCA iterative peak filtering approach. First, each summit is extended a peak_half_width in each direction and then we iteratively filter out less significant peaks that overlap with a more significant one. During this procedure peaks will be merged and depending on the number of peaks included into them, different processes will happen:\n",
    "\n",
    " * 1 peak: The original peak region will be kept\n",
    "\n",
    " * 2 peaks: The original peak region with the highest score will be kept\n",
    "\n",
    " * 3 or more peaks: The orignal peak region with the most significant score will be taken, and all the original peak regions in this merged peak region that overlap with the significant peak region will be removed. The process is repeated with the next most significant peak (if it was not removed already) until all peaks are processed.\n",
    "\n",
    "This process will happen twice, first in each pseudobulk peaks; and after peak score normalization, to process all peaks together."
   ]
  },
  {
   "cell_type": "code",
   "execution_count": null,
   "id": "80c9cf0b",
   "metadata": {},
   "outputs": [],
   "source": [
    "path_to_blacklist = '/nfs/team292/vl6/scenicplus/pycisTopic/blacklist/hg38-blacklist.v2.bed'"
   ]
  },
  {
   "cell_type": "code",
   "execution_count": null,
   "id": "4762771e",
   "metadata": {},
   "outputs": [],
   "source": [
    "from pycisTopic.iterative_peak_calling import *\n",
    "# Other param\n",
    "peak_half_width = 250\n",
    "# Get consensus peaks\n",
    "sys.stderr = open(os.devnull, \"w\")  # silence stderr\n",
    "consensus_peaks=get_consensus_peaks(narrow_peaks_dict, peak_half_width, chromsizes=chromsizes, path_to_blacklist=path_to_blacklist)\n",
    "sys.stderr = sys.__stderr__  # unsilence stderr"
   ]
  },
  {
   "cell_type": "code",
   "execution_count": null,
   "id": "afca406e",
   "metadata": {},
   "outputs": [],
   "source": [
    "# Write to bed\n",
    "consensus_peaks.to_bed(path= outDir + 'consensus_peak_calling/consensus_regions.bed', keep=True, compression='infer', chain=False)"
   ]
  },
  {
   "cell_type": "markdown",
   "id": "11cfebc1",
   "metadata": {},
   "source": [
    "### Quality control \n",
    "\n",
    "The next step is to perform QC in the scATAC-seq samples (in this case, only one run). There are several measurements and visualizations performed in this step:\n",
    "\n",
    " * Barcode rank plot\n",
    "\n",
    " * Duplication rate\n",
    "\n",
    " * Insertion size\n",
    "\n",
    " * TSS enrichment\n",
    "\n",
    " * Fraction of Reads In Peaks (FRIP)\n",
    "\n",
    "To calculate the TSS enrichment we need to provide TSS annotations. You can easily download them via pybiomart."
   ]
  },
  {
   "cell_type": "code",
   "execution_count": null,
   "id": "59a64d12",
   "metadata": {},
   "outputs": [],
   "source": [
    "# Get TSS annotations\n",
    "import pybiomart as pbm\n",
    "dataset = pbm.Dataset(name='hsapiens_gene_ensembl',  host='http://www.ensembl.org')\n",
    "annot = dataset.query(attributes=['chromosome_name', 'transcription_start_site', 'strand', 'external_gene_name', 'transcript_biotype'])\n",
    "annot['Chromosome/scaffold name'] = annot['Chromosome/scaffold name'].to_numpy(dtype = str)\n",
    "filter = annot['Chromosome/scaffold name'].str.contains('CHR|GL|JH|MT')\n",
    "annot = annot[~filter]\n",
    "annot['Chromosome/scaffold name'] = annot['Chromosome/scaffold name'].str.replace(r'(\\b\\S)', r'chr\\1')\n",
    "annot.columns=['Chromosome', 'Start', 'Strand', 'Gene', 'Transcript_type']\n",
    "annot = annot[annot.Transcript_type == 'protein_coding']"
   ]
  },
  {
   "cell_type": "code",
   "execution_count": null,
   "id": "3f26e785",
   "metadata": {},
   "outputs": [],
   "source": [
    "annot.tail()"
   ]
  },
  {
   "cell_type": "code",
   "execution_count": null,
   "id": "b9627ab7",
   "metadata": {},
   "outputs": [],
   "source": [
    "#ray.shutdown()"
   ]
  },
  {
   "cell_type": "code",
   "execution_count": null,
   "id": "1be0238e",
   "metadata": {},
   "outputs": [],
   "source": [
    "fragments_dict"
   ]
  },
  {
   "cell_type": "code",
   "execution_count": null,
   "id": "7812cbad",
   "metadata": {},
   "outputs": [],
   "source": [
    "from pycisTopic.qc import *\n",
    "## Set regions. We will use the consensus peaks we have just called, but we could also use the bulk peaks per sample instead for this step\n",
    "path_to_regions= {'HD_F_GON11282675' : outDir + 'consensus_peak_calling/consensus_regions.bed',\n",
    "                 'HD_F_GON11389960' : outDir + 'consensus_peak_calling/consensus_regions.bed', \n",
    "                 'HD_F_GON11389961' : outDir + 'consensus_peak_calling/consensus_regions.bed', \n",
    "                 'HD_F_GON12449011' : outDir + 'consensus_peak_calling/consensus_regions.bed', \n",
    "                 'HD_F_GON11282676' : outDir + 'consensus_peak_calling/consensus_regions.bed',\n",
    "                 'HD_F_GON12877983' : outDir + 'consensus_peak_calling/consensus_regions.bed',\n",
    "                 'HD_F_GON12877984' : outDir + 'consensus_peak_calling/consensus_regions.bed',\n",
    "                 'HD_F_GON14609874' : outDir + 'consensus_peak_calling/consensus_regions.bed', \n",
    "                  'HD_F_GON14666992' : outDir + 'consensus_peak_calling/consensus_regions.bed', \n",
    "                   'HD_F_GON13941947' : outDir + 'consensus_peak_calling/consensus_regions.bed', \n",
    "                  'HD_F_GON13941946': outDir + 'consensus_peak_calling/consensus_regions.bed', \n",
    "                  'HCA_F_GON11173192_and_HCA_F_GON11212447' : outDir + 'consensus_peak_calling/consensus_regions.bed', \n",
    "                  'HD_F_GON13077785_and_HD_F_GON13094224' :  outDir + 'consensus_peak_calling/consensus_regions.bed',\n",
    "                 }\n",
    "\n",
    "metadata_bc, profile_data_dict = compute_qc_stats(fragments_dict = fragments_dict,\n",
    "                tss_annotation = annot,\n",
    "                stats=['barcode_rank_plot', 'duplicate_rate', 'insert_size_distribution', 'profile_tss', 'frip'],\n",
    "                label_list = None,\n",
    "                path_to_regions = path_to_regions,\n",
    "                n_cpu = 1,\n",
    "                valid_bc = None,\n",
    "                n_frag = 100,\n",
    "                n_bc = None,\n",
    "                tss_flank_window = 1000,\n",
    "                tss_window = 50,\n",
    "                tss_minimum_signal_window = 100,\n",
    "                tss_rolling_window = 10,\n",
    "                remove_duplicates = True,\n",
    "                #_temp_dir = '/nfs/team292/vl6/symtopic/'\n",
    "                )"
   ]
  },
  {
   "cell_type": "code",
   "execution_count": null,
   "id": "9870c09e",
   "metadata": {},
   "outputs": [],
   "source": [
    "#os.makedirs(outDir+'quality_control')\n",
    "import pickle\n",
    "with open(outDir + 'quality_control/metadata_bc.pkl', 'wb') as f:\n",
    "  pickle.dump(metadata_bc, f)\n",
    "\n",
    "import pickle\n",
    "with open(outDir + 'quality_control/profile_data_dict.pkl', 'wb') as f:\n",
    "  pickle.dump(profile_data_dict, f)"
   ]
  },
  {
   "cell_type": "markdown",
   "id": "a3e8df7b",
   "metadata": {},
   "source": [
    "### Sample-level statistics"
   ]
  },
  {
   "cell_type": "markdown",
   "id": "30443b6d",
   "metadata": {},
   "source": [
    "Once the QC metrics have been computed you can visualize the results at the sample-level and the barcode-level. Sample-level statistics can be used to assess the overall quality of the sample, while barcode level statistics can be use to differentiate good quality cells versus the rest. The sample-level graphs include:\n",
    "\n",
    " * **Barcode rank plot**: The barcode rank plot shows the distribution of non-duplicate reads and which barcodes were inferred to be associated with cells. A steep drop-off (‘knee’) is indicative of good separation between the cell-associated barcodes and the barcodes associated with empty partitions.\n",
    "\n",
    " * **Insertion size**: ATAC-seq requires a proper pair of Tn5 transposase cutting events at the ends of DNA. In the nucleosome-free open chromatin regions, many molecules of Tn5 can kick in and chop the DNA into small pieces; around nucleosome-occupied regions, and Tn5 can only access the linker regions. Therefore, in a good ATAC-seq library, you should expect to see a sharp peak at the <100 bp region (open chromatin), and a peak at ~200bp region (mono-nucleosome), and other larger peaks (multi-nucleosomes). A clear nucleosome pattern indicates a good quality of the experiment.\n",
    "\n",
    " * **Sample TSS enrichment**: The TSS enrichment calculation is a signal to noise calculation. The reads around a reference set of TSSs are collected to form an aggregate distribution of reads centered on the TSSs and extending to 1000 bp in either direction (for a total of 2000bp). This distribution is then normalized by taking the average read depth in the 100 bps at each of the end flanks of the distribution (for a total of 200bp of averaged data) and calculating a fold change at each position over that average read depth. This means that the flanks should start at 1, and if there is high read signal at transcription start sites (highly open regions of the genome) there should be an increase in signal up to a peak in the middle.\n",
    "\n",
    " * **FRIP distribution**: Fraction of all mapped reads that fall into the called peak regions, i.e. usable reads in significantly enriched peaks divided by all usable reads. A low FRIP indicates that many reads form part of the background, and so that the data is noisy.\n",
    "\n",
    " * **Duplication rate**: A fragment is considered “usable” if it uniquely maps to the genome and remains after removing PCR duplicates (defined as two fragments that map to the same genomic position and have the same unique molecular identifier). The duplication rate serves to estimate the amount of usable reads per barcode. High duplication rates may indicate over-sequencing or lack of fragments after transposition and encapsulation. We recommend using duplicate_rate_as_hexbin = True when working with big fragments files."
   ]
  },
  {
   "cell_type": "code",
   "execution_count": null,
   "id": "c3839091",
   "metadata": {},
   "outputs": [],
   "source": [
    "# Load sample metrics\n",
    "import pickle\n",
    "infile = open(outDir + 'quality_control/profile_data_dict.pkl', 'rb')\n",
    "profile_data_dict = pickle.load(infile)\n",
    "infile.close()"
   ]
  },
  {
   "cell_type": "code",
   "execution_count": null,
   "id": "1e305ba5",
   "metadata": {},
   "outputs": [],
   "source": [
    "from pycisTopic.qc import *\n",
    "plot_sample_metrics(profile_data_dict,\n",
    "           insert_size_distribution_xlim=[0,600],\n",
    "           ncol=2,\n",
    "           plot=True,\n",
    "           save= outDir + 'quality_control/sample_metrics.pdf',\n",
    "           duplicate_rate_as_hexbin = True)"
   ]
  },
  {
   "cell_type": "markdown",
   "id": "49bbf2b3",
   "metadata": {},
   "source": [
    "### Barcode level statistics \n",
    "\n",
    "Barcode-level statistics can be used to select high quality cells. Typical measurements that can be used are:\n",
    "\n",
    " * **Total number of (unique) fragments**\n",
    "\n",
    " * **TSS enrichment**: The score at position in the TSS enrichmen score for for each barcode (at position 0, the TSS). Noisy cells will have a low TSS enrichment.\n",
    "\n",
    " * **FRIP**: The fraction of reads in peaks for each barcode. Noisy cells have low FRIP values. However, this filter should be used with nuance, as it depends on the quality of the original peaks. For example, if there is a rare population in the sample, its specific peaks may be missed by peak calling algorithms, causing a decrease in their FRIP values."
   ]
  },
  {
   "cell_type": "code",
   "execution_count": null,
   "id": "040d187e",
   "metadata": {},
   "outputs": [],
   "source": [
    "# Load barcode metrics\n",
    "import pickle\n",
    "infile = open(outDir + 'quality_control/metadata_bc.pkl', 'rb')\n",
    "metadata_bc = pickle.load(infile)\n",
    "infile.close()"
   ]
  },
  {
   "cell_type": "code",
   "execution_count": null,
   "id": "04354255",
   "metadata": {},
   "outputs": [],
   "source": [
    "# Return figure to plot together with other metrics, and cells passing filters. Figure will be saved as pdf.\n",
    "from pycisTopic.qc import *\n",
    "FRIP_NR_FRAG_fig = {}\n",
    "FRIP_NR_FRAG_filter = {}\n",
    "TSS_NR_FRAG_fig = {}\n",
    "TSS_NR_FRAG_filter = {}\n",
    "DR_NR_FRAG_fig = {}\n",
    "for sample in metadata_bc.keys():\n",
    "    FRIP_NR_FRAG_fig[sample], FRIP_NR_FRAG_filter[sample]=plot_barcode_metrics(metadata_bc[sample],\n",
    "                                           var_x='Log_unique_nr_frag',\n",
    "                                           var_y='FRIP',\n",
    "                                           min_x=3,\n",
    "                                           max_x=None,\n",
    "                                           min_y=0.4,\n",
    "                                           max_y=None,\n",
    "                                           return_cells=True,\n",
    "                                           return_fig=True,\n",
    "                                           plot=False,\n",
    "                                           save= outDir + 'quality_control/barcode_metrics_FRIP-VS-NRFRAG_'+sample+'.pdf')\n",
    "    # Return figure to plot together with other metrics, and cells passing filters\n",
    "    TSS_NR_FRAG_fig[sample], TSS_NR_FRAG_filter[sample]=plot_barcode_metrics(metadata_bc[sample],\n",
    "                                          var_x='Log_unique_nr_frag',\n",
    "                                          var_y='TSS_enrichment',\n",
    "                                          min_x=3,\n",
    "                                          max_x=None,\n",
    "                                          min_y=4,\n",
    "                                          max_y=None,\n",
    "                                          return_cells=True,\n",
    "                                          return_fig=True,\n",
    "                                          plot=False,\n",
    "                                          save= outDir + 'quality_control/barcode_metrics_TSS-VS-NRFRAG_'+sample+'.pdf')\n",
    "    # Return figure to plot together with other metrics, but not returning cells (no filter applied for the duplication rate  per barcode)\n",
    "    DR_NR_FRAG_fig[sample]=plot_barcode_metrics(metadata_bc[sample],\n",
    "                                          var_x='Log_unique_nr_frag',\n",
    "                                          var_y='Dupl_rate',\n",
    "                                          min_x=3,\n",
    "                                          max_x=None,\n",
    "                                          min_y=None,\n",
    "                                          max_y=None,\n",
    "                                          return_cells=False,\n",
    "                                          return_fig=True,\n",
    "                                          plot=False,\n",
    "                                          plot_as_hexbin = True)"
   ]
  },
  {
   "cell_type": "code",
   "execution_count": null,
   "id": "5683ed84",
   "metadata": {},
   "outputs": [],
   "source": [
    "# # Plot barcode stats in one figure\n",
    "# fig=plt.figure(figsize=(40, 100))\n",
    "# i=1\n",
    "# for sample in FRIP_NR_FRAG_fig.keys():\n",
    "#     plt.subplot(9, 3, i)\n",
    "#     plt.gca().set_title(sample, fontsize=30)\n",
    "#     i += 1\n",
    "#     img = fig2img(FRIP_NR_FRAG_fig[sample]) #To convert figures to png to plot together, see .utils.py. This converts the figure to png.\n",
    "#     plt.imshow(img)\n",
    "#     plt.axis('off')\n",
    "#     plt.subplot(10, 3, i)\n",
    "#     plt.gca().set_title(sample, fontsize=30)\n",
    "#     i += 1\n",
    "#     img = fig2img(TSS_NR_FRAG_fig[sample])\n",
    "#     plt.imshow(img)\n",
    "#     plt.axis('off')\n",
    "#     plt.subplot(10, 3, i)\n",
    "#     plt.gca().set_title(sample, fontsize=30)\n",
    "#     i += 1\n",
    "#     img = fig2img(DR_NR_FRAG_fig[sample])\n",
    "#     plt.imshow(img)\n",
    "#     plt.axis('off')\n",
    "# plt.savefig(outDir + 'quality_control/combined_qc.pdf')"
   ]
  },
  {
   "cell_type": "code",
   "execution_count": null,
   "id": "1a6b2d23",
   "metadata": {},
   "outputs": [],
   "source": [
    "cell_data_downsampled.head()"
   ]
  },
  {
   "cell_type": "code",
   "execution_count": null,
   "id": "22ab1d7e",
   "metadata": {},
   "outputs": [],
   "source": [
    "sel_cells_dict = {}\n",
    "for sample in np.unique(cell_data_downsampled['Sample']):\n",
    "    sel_cells_dict[sample] = list(set(cell_data_downsampled[cell_data_downsampled['Sample'] == sample]['barcode']))\n",
    "    print(f\"{len(sel_cells_dict[sample])} barcodes passed filters for sample {sample}\")"
   ]
  },
  {
   "cell_type": "code",
   "execution_count": null,
   "id": "3ce2ead1",
   "metadata": {},
   "outputs": [],
   "source": [
    "4+3"
   ]
  },
  {
   "cell_type": "code",
   "execution_count": null,
   "id": "6b227440",
   "metadata": {},
   "outputs": [],
   "source": [
    "import pickle\n",
    "with open(outDir +'/quality_control/bc_passing_filters.pkl', 'wb') as f:\n",
    "  pickle.dump(sel_cells_dict, f)"
   ]
  },
  {
   "cell_type": "markdown",
   "id": "ced072af",
   "metadata": {},
   "source": [
    "### Create cisTopic object\n",
    "\n",
    "In this step a fragments count matrix will be generated, in which the fragments in each region for each barcode is indicated. For multiple samples, you can add additional entries in fragment_dict, and a cisTopic object will be generated per sample. As regions, we will use the consensus peaks derived from the scRNA-seq annotations. This cisTopic object will contain:\n",
    "\n",
    " * **Path/s to fragment file/s (if generated from fragments files)**\n",
    "\n",
    " * **Fragment count matrix and binary accessibility matrix**\n",
    "\n",
    " * **Cell and region metadata**"
   ]
  },
  {
   "cell_type": "code",
   "execution_count": null,
   "id": "3b2a4d17",
   "metadata": {},
   "outputs": [],
   "source": [
    "# Metrics\n",
    "import pickle\n",
    "infile = open(outDir + 'quality_control/metadata_bc.pkl', 'rb')\n",
    "metadata_bc = pickle.load(infile)\n",
    "infile.close()\n",
    "# Valid barcodes\n",
    "import pickle\n",
    "infile = open(outDir +'/quality_control/bc_passing_filters.pkl', 'rb')\n",
    "bc_passing_filters = pickle.load(infile)\n",
    "infile.close()"
   ]
  },
  {
   "cell_type": "code",
   "execution_count": null,
   "id": "a18c2090",
   "metadata": {},
   "outputs": [],
   "source": [
    "# Path to regions\n",
    "path_to_regions = outDir + 'consensus_peak_calling/consensus_regions.bed'\n",
    "path_to_blacklist = '/nfs/team292/vl6/scenicplus/pycisTopic/blacklist/hg38-blacklist.v2.bed'"
   ]
  },
  {
   "cell_type": "code",
   "execution_count": null,
   "id": "ad16daa8",
   "metadata": {},
   "outputs": [],
   "source": [
    "#Create objects\n",
    "from pycisTopic.cistopic_class import *\n",
    "cistopic_obj_list=[create_cistopic_object_from_fragments(path_to_fragments=fragments_dict[key],\n",
    "                                               path_to_regions=path_to_regions,\n",
    "                                               path_to_blacklist=path_to_blacklist,\n",
    "                                               metrics=metadata_bc[key],\n",
    "                                               valid_bc=bc_passing_filters[key],\n",
    "                                               n_cpu=1,\n",
    "                                               project=key) for key in fragments_dict.keys()]"
   ]
  },
  {
   "cell_type": "code",
   "execution_count": null,
   "id": "cb283bf9",
   "metadata": {},
   "outputs": [],
   "source": [
    "cistopic_obj = merge(cistopic_obj_list)"
   ]
  },
  {
   "cell_type": "code",
   "execution_count": null,
   "id": "1fb0abbf",
   "metadata": {},
   "outputs": [],
   "source": [
    "print(cistopic_obj)"
   ]
  },
  {
   "cell_type": "code",
   "execution_count": null,
   "id": "e9afb4bf",
   "metadata": {},
   "outputs": [],
   "source": [
    "# Save\n",
    "with open(outDir + 'cisTopicObject.pkl', 'wb') as f:\n",
    "  pickle.dump(cistopic_obj, f)"
   ]
  },
  {
   "cell_type": "code",
   "execution_count": null,
   "id": "3df4b458",
   "metadata": {},
   "outputs": [],
   "source": [
    "# Load cisTopic object\n",
    "import pickle\n",
    "infile = open(outDir + 'cisTopicObject.pkl', 'rb')\n",
    "cistopic_obj = pickle.load(infile)\n",
    "infile.close()"
   ]
  },
  {
   "cell_type": "code",
   "execution_count": null,
   "id": "198f3bd6",
   "metadata": {},
   "outputs": [],
   "source": [
    "cistopic_obj.add_cell_data(cell_data_downsampled)"
   ]
  },
  {
   "cell_type": "code",
   "execution_count": null,
   "id": "362875a3",
   "metadata": {},
   "outputs": [],
   "source": [
    "print(cistopic_obj)"
   ]
  },
  {
   "cell_type": "code",
   "execution_count": null,
   "id": "0d4ad5ad",
   "metadata": {},
   "outputs": [],
   "source": [
    "cistopic_obj.cell_data['Sample'].value_counts(dropna = False)"
   ]
  },
  {
   "cell_type": "code",
   "execution_count": null,
   "id": "2f71fbb6",
   "metadata": {},
   "outputs": [],
   "source": [
    "cistopic_obj.cell_data.HarmonisedClusters = cistopic_obj.cell_data.HarmonisedClusters.astype(str)"
   ]
  },
  {
   "cell_type": "code",
   "execution_count": null,
   "id": "bcabba0f",
   "metadata": {},
   "outputs": [],
   "source": [
    "high_quality = cistopic_obj.cell_data[cistopic_obj.cell_data.HarmonisedClusters != 'nan'].index.tolist()\n",
    "cistopic_obj = cistopic_obj.subset(high_quality, copy=True)"
   ]
  },
  {
   "cell_type": "code",
   "execution_count": null,
   "id": "80c3fe41",
   "metadata": {},
   "outputs": [],
   "source": [
    "cistopic_obj.cell_data['HarmonisedClusters'].value_counts(dropna = False)"
   ]
  },
  {
   "cell_type": "code",
   "execution_count": null,
   "id": "365228b4",
   "metadata": {},
   "outputs": [],
   "source": [
    "# Save\n",
    "with open(outDir + 'cisTopicObject.pkl', 'wb') as f:\n",
    "  pickle.dump(cistopic_obj, f)"
   ]
  },
  {
   "cell_type": "markdown",
   "id": "4532b13a",
   "metadata": {},
   "source": [
    "#### Since the early sample is male and the older are only female, exclude Y chromosome regions"
   ]
  },
  {
   "cell_type": "code",
   "execution_count": null,
   "id": "9e15692d",
   "metadata": {},
   "outputs": [],
   "source": [
    "cistopic_obj.region_data"
   ]
  },
  {
   "cell_type": "code",
   "execution_count": null,
   "id": "474fa881",
   "metadata": {},
   "outputs": [],
   "source": [
    "ychrom = cistopic_obj.region_data[cistopic_obj.region_data['Chromosome'] == 'chrY'].index.to_list()"
   ]
  },
  {
   "cell_type": "code",
   "execution_count": null,
   "id": "fd1ad034",
   "metadata": {},
   "outputs": [],
   "source": [
    "len(ychrom)"
   ]
  },
  {
   "cell_type": "code",
   "execution_count": null,
   "id": "e4425381",
   "metadata": {},
   "outputs": [],
   "source": [
    "nonychrom = [i for i in cistopic_obj.region_data.index.to_list() if i not in ychrom]\n",
    "len(nonychrom)"
   ]
  },
  {
   "cell_type": "code",
   "execution_count": null,
   "id": "7f2a7569",
   "metadata": {},
   "outputs": [],
   "source": [
    "cistopic_obj = cistopic_obj.subset(regions = nonychrom, copy = True)"
   ]
  },
  {
   "cell_type": "code",
   "execution_count": null,
   "id": "e24d048d",
   "metadata": {},
   "outputs": [],
   "source": [
    "cistopic_obj.region_data"
   ]
  },
  {
   "cell_type": "code",
   "execution_count": null,
   "id": "a84f6741",
   "metadata": {},
   "outputs": [],
   "source": [
    "# Save\n",
    "with open(outDir + 'cisTopicObject.pkl', 'wb') as f:\n",
    "  pickle.dump(cistopic_obj, f)"
   ]
  },
  {
   "cell_type": "markdown",
   "id": "efba26cc",
   "metadata": {},
   "source": [
    "### Run LDA models \n",
    "\n",
    "The next step is to run the LDA models. There are two types of LDA models (with Collapsed Gibbs Sampling) you can run:\n",
    "\n",
    " * **Serial LDA**: The parallelization is done between models rather than within each model. Recommended for small-medium sized data sets in which several models with different number os topics are being tested. You can run these models with runCGSModels().\n",
    "\n",
    " * **Parallel LDA with MALLET**: The parallelization is done within each model. Recommended for large data sets where a few models with different number of topics are being tested. If working in a cluster, we recommed to submit a job per model so they can run simultaneously. You can run it with runCGSModelsMallet()."
   ]
  },
  {
   "cell_type": "code",
   "execution_count": null,
   "id": "fc87b232",
   "metadata": {},
   "outputs": [],
   "source": [
    "# Load cisTopic object\n",
    "import pickle\n",
    "infile = open(outDir + 'cisTopicObject.pkl', 'rb')\n",
    "cistopic_obj = pickle.load(infile)\n",
    "infile.close()"
   ]
  },
  {
   "cell_type": "code",
   "execution_count": null,
   "id": "9101cba0",
   "metadata": {},
   "outputs": [],
   "source": [
    "cistopic_obj.cell_data.head()"
   ]
  },
  {
   "cell_type": "code",
   "execution_count": null,
   "id": "aa4b7146",
   "metadata": {},
   "outputs": [],
   "source": [
    "outDir"
   ]
  },
  {
   "cell_type": "code",
   "execution_count": null,
   "id": "e014dd02",
   "metadata": {},
   "outputs": [],
   "source": [
    "from pycisTopic.cistopic_class import *\n",
    "# Configure path Mallet\n",
    "path_to_mallet_binary='/nfs/team292/vl6/scenicplus/Mallet/bin/mallet'\n",
    "import os\n",
    "os.environ['MALLET_MEMORY'] = '300G'\n",
    "# Run models\n",
    "models=run_cgs_models_mallet(path_to_mallet_binary,\n",
    "                    cistopic_obj,\n",
    "                    n_topics=[2, 4, 6, 8, 10, 12, 14, 16, 18, 20, 22, 24, 26, 28, 30, \n",
    "                             32, 34, 36, 38, 40, 42, 44, 46, 48, 50],\n",
    "                    n_cpu=24,\n",
    "                    n_iter=150,\n",
    "                    random_state=555,\n",
    "                    alpha=50,\n",
    "                    alpha_by_topic=True,\n",
    "                    eta=0.1,\n",
    "                    eta_by_topic=False,\n",
    "                    tmp_path='/lustre/scratch126/cellgen/team292/vl6/pycistopic/temp/', #Use SCRATCH if many models or big data set\n",
    "                    save_path='/lustre/scratch126/cellgen/team292/vl6/pycistopic/temp/')\n",
    "\n",
    "# Save\n",
    "with open(outDir + 'models/mallet.pkl', 'wb') as f:\n",
    "  pickle.dump(models, f)"
   ]
  },
  {
   "cell_type": "code",
   "execution_count": null,
   "id": "24c2fba6",
   "metadata": {},
   "outputs": [],
   "source": [
    "# Save\n",
    "#with open(outDir + 'models/mallet.pkl', 'wb') as f:\n",
    "#  pickle.dump(models, f)"
   ]
  },
  {
   "cell_type": "markdown",
   "id": "79ed795f",
   "metadata": {},
   "source": [
    "### Model selection \n",
    "\n",
    "There are several methods that can be used for model selection:\n",
    "\n",
    " * **Minmo_2011**: Uses the average model coherence as calculated by Mimno et al (2011). In order to reduce the impact of the number of topics, we calculate the average coherence based on the top selected average values. The better the model, the higher coherence.\n",
    "\n",
    " * **Log-likelihood**: Uses the log-likelihood in the last iteration as calculated by Griffiths and Steyvers (2004). The better the model, the higher the log-likelihood.\n",
    "\n",
    " * **Arun_2010**: Uses a density-based metric as in Arun et al (2010) using the topic-region distribution, the cell-topic distribution and the cell coverage. The better the model, the lower the metric.\n",
    "\n",
    " * **Cao_Juan_2009**: Uses a divergence-based metric as in Cao Juan et al (2009) using the topic-region distribution. The better the model, the lower the metric.\n",
    "\n",
    "For scATAC-seq data models, the most helpful methods are Minmo (topic coherence) and the log-likelihood in the last iteration."
   ]
  },
  {
   "cell_type": "code",
   "execution_count": null,
   "id": "c7a454a7",
   "metadata": {},
   "outputs": [],
   "source": [
    "outDir"
   ]
  },
  {
   "cell_type": "code",
   "execution_count": null,
   "id": "1646b8db",
   "metadata": {},
   "outputs": [],
   "source": [
    "# Load cisTopic object\n",
    "import pickle\n",
    "infile = open(outDir + 'cisTopicObject.pkl', 'rb')\n",
    "cistopic_obj = pickle.load(infile)\n",
    "infile.close()\n",
    "# Load models\n",
    "import pickle\n",
    "infile = open(outDir + 'models/mallet.pkl', 'rb')\n",
    "models = pickle.load(infile)\n",
    "infile.close()"
   ]
  },
  {
   "cell_type": "code",
   "execution_count": null,
   "id": "c564d2e3",
   "metadata": {},
   "outputs": [],
   "source": [
    "numTopics = 24\n",
    "from pycisTopic.lda_models import *\n",
    "model=evaluate_models(models,\n",
    "                     select_model=numTopics,\n",
    "                     return_model=True,\n",
    "                     metrics=['Arun_2010','Cao_Juan_2009', 'Minmo_2011', 'loglikelihood'],\n",
    "                     plot_metrics=False,\n",
    "                     save= outDir + 'models/model_selection.pdf')"
   ]
  },
  {
   "cell_type": "code",
   "execution_count": null,
   "id": "d4519035",
   "metadata": {},
   "outputs": [],
   "source": [
    "# Add model to cisTopicObject\n",
    "cistopic_obj.add_LDA_model(model)"
   ]
  },
  {
   "cell_type": "code",
   "execution_count": null,
   "id": "88e915f5",
   "metadata": {},
   "outputs": [],
   "source": [
    "# Save\n",
    "with open(outDir + 'cisTopicObject.pkl', 'wb') as f:\n",
    "  pickle.dump(cistopic_obj, f)"
   ]
  },
  {
   "cell_type": "code",
   "execution_count": null,
   "id": "29570ae0",
   "metadata": {},
   "outputs": [],
   "source": [
    "# Load cisTopic object\n",
    "import pickle\n",
    "infile = open(outDir + 'cisTopicObject.pkl', 'rb')\n",
    "cistopic_obj = pickle.load(infile)\n",
    "infile.close()"
   ]
  },
  {
   "cell_type": "code",
   "execution_count": null,
   "id": "348f6df7",
   "metadata": {},
   "outputs": [],
   "source": [
    "print(cistopic_obj)"
   ]
  },
  {
   "cell_type": "code",
   "execution_count": null,
   "id": "1d00de76",
   "metadata": {},
   "outputs": [],
   "source": [
    "cistopic_obj.fragment_matrix.shape"
   ]
  },
  {
   "cell_type": "code",
   "execution_count": null,
   "id": "4c185db7",
   "metadata": {},
   "outputs": [],
   "source": [
    "cistopic_obj.cell_data.shape"
   ]
  },
  {
   "cell_type": "code",
   "execution_count": null,
   "id": "b0124e74",
   "metadata": {},
   "outputs": [],
   "source": [
    "cistopic_obj.region_data.shape"
   ]
  },
  {
   "cell_type": "code",
   "execution_count": null,
   "id": "4b2abc02",
   "metadata": {},
   "outputs": [],
   "source": [
    "from pycisTopic.clust_vis import *\n",
    "run_umap(cistopic_obj,\n",
    "                 target  = 'cell', scale=False)\n",
    "run_tsne(cistopic_obj,\n",
    "                 target  = 'cell', scale=False)"
   ]
  },
  {
   "cell_type": "code",
   "execution_count": null,
   "id": "cffce8ad",
   "metadata": {},
   "outputs": [],
   "source": [
    "from pycisTopic.clust_vis import *\n",
    "plot_metadata(cistopic_obj,\n",
    "                 reduction_name='UMAP',\n",
    "                 variables=['HarmonisedClusters', 'Sample', 'stage', 'predictedScore'], # Labels from RNA and new clusters\n",
    "                 target='cell', num_columns=2,\n",
    "                 text_size=10,\n",
    "                 dot_size=5,\n",
    "                 figsize=(10,10),\n",
    "                 save= outDir + 'visualization/umap_dimensionality_reduction_label_uncorrected.pdf')\n"
   ]
  },
  {
   "cell_type": "code",
   "execution_count": null,
   "id": "7ab496a2",
   "metadata": {},
   "outputs": [],
   "source": [
    "from pycisTopic.clust_vis import *\n",
    "plot_metadata(cistopic_obj,\n",
    "                 reduction_name='tSNE',\n",
    "                 variables=['HarmonisedClusters', 'Sample', 'stage', 'predictedScore'], # Labels from RNA and new clusters\n",
    "                 target='cell', num_columns=2,\n",
    "                 text_size=10,\n",
    "                 dot_size=5,\n",
    "                 figsize=(10,10),\n",
    "                 save= outDir + 'visualization/tsne_dimensionality_reduction_label_uncorrected.pdf')"
   ]
  },
  {
   "cell_type": "code",
   "execution_count": null,
   "id": "60bd23ab",
   "metadata": {},
   "outputs": [],
   "source": [
    "cistopic_obj.cell_data.Sample.value_counts()"
   ]
  },
  {
   "cell_type": "code",
   "execution_count": null,
   "id": "7e5be62b",
   "metadata": {},
   "outputs": [],
   "source": [
    "cistopic_obj.cell_data.HarmonisedClusters.value_counts()"
   ]
  },
  {
   "cell_type": "code",
   "execution_count": null,
   "id": "095224c8",
   "metadata": {},
   "outputs": [],
   "source": [
    "color_palette"
   ]
  },
  {
   "cell_type": "code",
   "execution_count": null,
   "id": "339ac09a",
   "metadata": {},
   "outputs": [],
   "source": [
    "from pycisTopic.clust_vis import *\n",
    "\n",
    "plot_metadata(cistopic_obj,\n",
    "                 reduction_name='UMAP',\n",
    "                 variables=['Sample', 'HarmonisedClusters'], # Labels from RNA and new clusters\n",
    "                 target='cell', num_columns=2,\n",
    "                 text_size=10,\n",
    "                 dot_size=2,\n",
    "                 figsize=(10,5),\n",
    "               color_dictionary = {\n",
    "                                   'HarmonisedClusters' : {\n",
    "'FallopianMese': 'darkorange',\n",
    " 'UterusMese': 'orangered',\n",
    " 'CervixMese': 'palevioletred',\n",
    " 'UpperVaginaMese': 'lightpink'}},\n",
    "                 save= outDir + 'visualization/umap_dimensionality_reduction_label_uncorrected2.pdf')"
   ]
  },
  {
   "cell_type": "code",
   "execution_count": null,
   "id": "6180706e",
   "metadata": {},
   "outputs": [],
   "source": [
    "plot_topic(cistopic_obj,\n",
    "            reduction_name = 'UMAP',\n",
    "            target = 'cell',\n",
    "            num_columns=5,\n",
    "            save= outDir + 'visualization/umap_dimensionality_reduction_topic_uncorrected.pdf')"
   ]
  },
  {
   "cell_type": "code",
   "execution_count": null,
   "id": "dcc88ade",
   "metadata": {},
   "outputs": [],
   "source": [
    "from pycisTopic.clust_vis import *\n",
    "cell_topic_heatmap(cistopic_obj,\n",
    "                     variables = ['HarmonisedClusters'],\n",
    "                     scale = False,\n",
    "                     legend_loc_x = 1.05,\n",
    "                     legend_loc_y = -1.2,\n",
    "                     legend_dist_y = -1,\n",
    "                     figsize=(5,10),\n",
    "                   color_dict = {'HarmonisedClusters' : {\n",
    " 'FallopianMese': 'darkorange',\n",
    " 'UterusMese': 'orangered',\n",
    " 'CervixMese': 'palevioletred',\n",
    " 'UpperVaginaMese': 'lightpink'}},\n",
    "                     save = outDir + 'visualization/heatmap_topic_contr.pdf')"
   ]
  },
  {
   "cell_type": "markdown",
   "id": "59c1fd54",
   "metadata": {},
   "source": [
    "### Harmony "
   ]
  },
  {
   "cell_type": "code",
   "execution_count": null,
   "id": "03947342",
   "metadata": {},
   "outputs": [],
   "source": [
    "cistopic_obj.cell_data['donor'].value_counts(dropna = False)\n"
   ]
  },
  {
   "cell_type": "code",
   "execution_count": null,
   "id": "6143292e",
   "metadata": {},
   "outputs": [],
   "source": [
    "# Harmony\n",
    "harmony(cistopic_obj, 'donor', random_state=555, theta = 0)\n",
    "# UMAP\n",
    "run_umap(cistopic_obj, reduction_name='harmony_UMAP',\n",
    "                 target  = 'cell', harmony=True)\n",
    "run_tsne(cistopic_obj, reduction_name='harmony_tSNE',\n",
    "                 target  = 'cell', harmony=True)"
   ]
  },
  {
   "cell_type": "code",
   "execution_count": null,
   "id": "90b53619",
   "metadata": {},
   "outputs": [],
   "source": [
    "plot_metadata(cistopic_obj,\n",
    "                 reduction_name='harmony_UMAP',\n",
    "                 variables=[ 'HarmonisedClusters', 'donor', 'stage', 'predictedScore'], # Labels from RNA and new clusters\n",
    "                 target='cell', num_columns=2,\n",
    "                 text_size=10,\n",
    "                 dot_size=5,\n",
    "                 figsize=(10,10),\n",
    "              color_dictionary = {\n",
    "                                   'HarmonisedClusters' : {'FallopianMese': 'darkorange',\n",
    " 'UterusMese': 'orangered',\n",
    " 'CervixMese': 'palevioletred',\n",
    " 'UpperVaginaMese': 'lightpink'} \n",
    "                                },\n",
    "                 save= outDir + 'visualization/umap_dimensionality_reduction_label_corrected.pdf')"
   ]
  },
  {
   "cell_type": "code",
   "execution_count": null,
   "id": "d042b591",
   "metadata": {},
   "outputs": [],
   "source": [
    "plot_metadata(cistopic_obj,\n",
    "                 reduction_name='harmony_tSNE',\n",
    "                 variables=[ 'HarmonisedClusters', 'donor', 'stage', 'predictedScore'], # Labels from RNA and new clusters\n",
    "                 target='cell', num_columns=2,\n",
    "                 text_size=10,\n",
    "                 dot_size=5,\n",
    "                 figsize=(10,10),\n",
    "              color_dictionary = {\n",
    "                                   'HarmonisedClusters' : {'FallopianMese': 'darkorange',\n",
    " 'UterusMese': 'orangered',\n",
    " 'CervixMese': 'palevioletred',\n",
    " 'UpperVaginaMese': 'lightpink'}},\n",
    "                 save= outDir + 'visualization/tsne_dimensionality_reduction_label_corrected.pdf')"
   ]
  },
  {
   "cell_type": "code",
   "execution_count": null,
   "id": "90aa3451",
   "metadata": {},
   "outputs": [],
   "source": [
    "plot_topic(cistopic_obj,\n",
    "            reduction_name = 'harmony_tSNE',\n",
    "            target = 'cell',\n",
    "            num_columns=5,\n",
    "            save= outDir + 'visualization/tsne_dimensionality_reduction_topic_corrected.pdf')"
   ]
  },
  {
   "cell_type": "code",
   "execution_count": null,
   "id": "0ffe3233",
   "metadata": {},
   "outputs": [],
   "source": [
    "from pycisTopic.clust_vis import *\n",
    "find_clusters(cistopic_obj,\n",
    "                 target  = 'cell',\n",
    "                  harmony = True,\n",
    "                 k = 12,\n",
    "                 res = [0.1, 0.3, 0.7],\n",
    "                 prefix = 'pycisTopic_',\n",
    "                 scale = True,\n",
    "                 split_pattern = '-')"
   ]
  },
  {
   "cell_type": "code",
   "execution_count": null,
   "id": "e9697d53",
   "metadata": {},
   "outputs": [],
   "source": [
    "plot_metadata(cistopic_obj,\n",
    "                 reduction_name = 'harmony_tSNE',\n",
    "                 variables=['HarmonisedClusters', 'pycisTopic_leiden_12_0.1', 'pycisTopic_leiden_12_0.3', 'pycisTopic_leiden_12_0.7'], # Labels from RNA and new clusters\n",
    "                 target='cell', num_columns=2,\n",
    "                 text_size=10,\n",
    "                 dot_size=5,\n",
    "                 figsize=(10,10),\n",
    "                 save= outDir + 'visualization/tsne_dimensionality_reduction_clustering.pdf')"
   ]
  },
  {
   "cell_type": "code",
   "execution_count": null,
   "id": "139c52f8",
   "metadata": {},
   "outputs": [],
   "source": [
    "color_palette"
   ]
  },
  {
   "cell_type": "code",
   "execution_count": null,
   "id": "42f93bb8",
   "metadata": {},
   "outputs": [],
   "source": [
    "annot_dict_lowres={}\n",
    "\n",
    "annot_dict_lowres['pycisTopic_leiden_12_0.7'] = {'1':'UpperVaginaMese', '0':'FallopianMese', \n",
    "                                                 '2': 'CervixMese', '3': 'UterusMese',\n",
    "                                                 '4' : 'UterusMese',\n",
    "                                                 '5': 'UpperVaginaMese', \n",
    "                                                 '6' : 'FallopianMese', \n",
    "                                                 '7' : 'UpperVaginaMese',\n",
    "                                                 '8' : 'CervixMese', \n",
    "                                                }\n",
    "\n",
    "cistopic_obj.cell_data['mese_mullerian_lowres'] = [annot_dict_lowres['pycisTopic_leiden_12_0.7'][x] for x in cistopic_obj.cell_data['pycisTopic_leiden_12_0.7'].tolist()]\n",
    "\n"
   ]
  },
  {
   "cell_type": "code",
   "execution_count": null,
   "id": "f6dc9650",
   "metadata": {},
   "outputs": [],
   "source": [
    "plot_metadata(cistopic_obj,\n",
    "                 reduction_name = 'harmony_tSNE',\n",
    "                 variables=['mese_mullerian_lowres'], # Labels from RNA and new clusters\n",
    "                 target='cell', num_columns=2,\n",
    "                 text_size=10,\n",
    "                 dot_size=5,\n",
    "                 figsize=(10,5),\n",
    "              color_dictionary = {\n",
    "                                   'mese_mullerian_lowres' : {'FallopianMese': 'orange',\n",
    " 'UterusMese': 'orangered',\n",
    " 'CervixMese': 'palevioletred',\n",
    " 'UpperVaginaMese': 'lightpink'}},\n",
    "                 save= outDir + 'visualization/tsne_dimensionality_reduction_lowres.pdf')"
   ]
  },
  {
   "cell_type": "code",
   "execution_count": null,
   "id": "6ba9bedc",
   "metadata": {},
   "outputs": [],
   "source": [
    "# Save\n",
    "with open(outDir + 'cisTopicObject_clean.pkl', 'wb') as f:\n",
    "  pickle.dump(cistopic_obj, f)\n"
   ]
  },
  {
   "cell_type": "code",
   "execution_count": null,
   "id": "e87f5177",
   "metadata": {},
   "outputs": [],
   "source": [
    "# Load cisTopic object\n",
    "import pickle\n",
    "infile = open(outDir + 'cisTopicObject_clean.pkl', 'rb')\n",
    "cistopic_obj = pickle.load(infile)\n",
    "infile.close()"
   ]
  },
  {
   "cell_type": "code",
   "execution_count": null,
   "id": "e8cf73e3",
   "metadata": {},
   "outputs": [],
   "source": [
    "from pycisTopic.clust_vis import *"
   ]
  },
  {
   "cell_type": "code",
   "execution_count": null,
   "id": "b0267476",
   "metadata": {},
   "outputs": [],
   "source": [
    "outDir"
   ]
  },
  {
   "cell_type": "code",
   "execution_count": null,
   "id": "93d192cf",
   "metadata": {},
   "outputs": [],
   "source": [
    "plot_metadata(cistopic_obj,\n",
    "                 reduction_name = 'harmony_tSNE',\n",
    "                 variables=['mese_mullerian_lowres'], # Labels from RNA and new clusters\n",
    "                 target='cell', \n",
    "              num_columns=1,\n",
    "                 text_size=10,\n",
    "                 dot_size=2,\n",
    "                 figsize=(5,5),\n",
    "              show_label = False, \n",
    "              show_legend = False,\n",
    "              color_dictionary = {\n",
    "                                   'mese_mullerian_lowres' : {'FallopianMese': 'orange',\n",
    " 'UterusMese': 'orangered',\n",
    " 'CervixMese': 'palevioletred',\n",
    " 'UpperVaginaMese': 'lightpink'}},\n",
    "                 save= outDir + 'visualization/tsne_dimensionality_reduction_lowres.pdf')"
   ]
  },
  {
   "cell_type": "code",
   "execution_count": null,
   "id": "7a899141",
   "metadata": {},
   "outputs": [],
   "source": [
    "plot_metadata(cistopic_obj,\n",
    "                 reduction_name = 'harmony_tSNE',\n",
    "                 variables=['stage'], # Labels from RNA and new clusters\n",
    "                 target='cell', \n",
    "              num_columns=1,\n",
    "                 text_size=10,\n",
    "                 dot_size=2,\n",
    "                 figsize=(6,5),\n",
    "              show_label = False, \n",
    "              show_legend = False,\n",
    "                 save= outDir + 'visualization/tsne_dimensionality_reduction_lowres_stage.pdf')"
   ]
  },
  {
   "cell_type": "code",
   "execution_count": null,
   "id": "ec06cb3c",
   "metadata": {},
   "outputs": [],
   "source": [
    "plot_metadata(cistopic_obj,\n",
    "                 reduction_name = 'harmony_tSNE',\n",
    "                 variables=['donor'], # Labels from RNA and new clusters\n",
    "                 target='cell', \n",
    "              num_columns=1,\n",
    "                 text_size=10,\n",
    "                 dot_size=2,\n",
    "                 figsize=(6,5),\n",
    "              show_label = False, \n",
    "              show_legend = True,\n",
    "                 save= outDir + 'visualization/tsne_dimensionality_reduction_lowres_donor.pdf')"
   ]
  },
  {
   "cell_type": "code",
   "execution_count": null,
   "id": "fe7e5d12",
   "metadata": {},
   "outputs": [],
   "source": [
    "# os.mkdir(outDir+'topic_binarization')\n",
    "from pycisTopic.topic_binarization import *\n",
    "region_bin_topics = binarize_topics(cistopic_obj, method='otsu', ntop=3000, plot=True, num_columns=5, save= outDir + 'topic_binarization/otsu.pdf')\n"
   ]
  },
  {
   "cell_type": "code",
   "execution_count": null,
   "id": "60524ae1",
   "metadata": {},
   "outputs": [],
   "source": [
    "binarized_cell_topic = binarize_topics(cistopic_obj, target='cell', method='li', plot=True, num_columns=5, nbins=100)\n"
   ]
  },
  {
   "cell_type": "code",
   "execution_count": null,
   "id": "41cf5c6e",
   "metadata": {},
   "outputs": [],
   "source": [
    "from pycisTopic.topic_qc import *\n",
    "topic_qc_metrics = compute_topic_metrics(cistopic_obj)"
   ]
  },
  {
   "cell_type": "code",
   "execution_count": null,
   "id": "b599a42b",
   "metadata": {},
   "outputs": [],
   "source": [
    "fig_dict={}\n",
    "fig_dict['CoherenceVSAssignments']=plot_topic_qc(topic_qc_metrics, var_x='Coherence', var_y='Log10_Assignments', var_color='Gini_index', plot=False, return_fig=True)\n",
    "fig_dict['AssignmentsVSCells_in_bin']=plot_topic_qc(topic_qc_metrics, var_x='Log10_Assignments', var_y='Cells_in_binarized_topic', var_color='Gini_index', plot=False, return_fig=True)\n",
    "fig_dict['CoherenceVSCells_in_bin']=plot_topic_qc(topic_qc_metrics, var_x='Coherence', var_y='Cells_in_binarized_topic', var_color='Gini_index', plot=False, return_fig=True)\n",
    "fig_dict['CoherenceVSRegions_in_bin']=plot_topic_qc(topic_qc_metrics, var_x='Coherence', var_y='Regions_in_binarized_topic', var_color='Gini_index', plot=False, return_fig=True)\n",
    "fig_dict['CoherenceVSMarginal_dist']=plot_topic_qc(topic_qc_metrics, var_x='Coherence', var_y='Marginal_topic_dist', var_color='Gini_index', plot=False, return_fig=True)\n",
    "fig_dict['CoherenceVSGini_index']=plot_topic_qc(topic_qc_metrics, var_x='Coherence', var_y='Gini_index', var_color='Gini_index', plot=False, return_fig=True)\n"
   ]
  },
  {
   "cell_type": "code",
   "execution_count": null,
   "id": "af59d742",
   "metadata": {},
   "outputs": [],
   "source": [
    "# Plot topic stats in one figure\n",
    "fig=plt.figure(figsize=(40, 43))\n",
    "i = 1\n",
    "for fig_ in fig_dict.keys():\n",
    "    plt.subplot(2, 3, i)\n",
    "    img = fig2img(fig_dict[fig_]) #To convert figures to png to plot together, see .utils.py. This converts the figure to png.\n",
    "    plt.imshow(img)\n",
    "    plt.axis('off')\n",
    "    i += 1\n",
    "plt.subplots_adjust(wspace=0, hspace=-0.70)\n",
    "fig.savefig(outDir + 'topic_binarization/Topic_qc.pdf', bbox_inches='tight')\n",
    "plt.show()"
   ]
  },
  {
   "cell_type": "code",
   "execution_count": null,
   "id": "18fbb7fe",
   "metadata": {},
   "outputs": [],
   "source": [
    "topic_annot = topic_annotation(cistopic_obj, annot_var='mese_mullerian_lowres', binarized_cell_topic=binarized_cell_topic, general_topic_thr = 0.2)\n",
    "topic_qc_metrics = pd.concat([topic_annot[['mese_mullerian_lowres', 'Ratio_cells_in_topic', 'Ratio_group_in_population']], topic_qc_metrics], axis=1)\n",
    "topic_qc_metrics.head()\n"
   ]
  },
  {
   "cell_type": "code",
   "execution_count": null,
   "id": "0867eb1a",
   "metadata": {},
   "outputs": [],
   "source": [
    "# Save\n",
    "with open(outDir + 'topic_binarization/Topic_qc_metrics_annot.pkl', 'wb') as f:\n",
    "  pickle.dump(topic_qc_metrics, f)\n",
    "with open(outDir + 'topic_binarization/binarized_cell_topic.pkl', 'wb') as f:\n",
    "  pickle.dump(binarized_cell_topic, f)\n",
    "with open(outDir + 'topic_binarization/binarized_topic_region.pkl', 'wb') as f:\n",
    "  pickle.dump(region_bin_topics, f)"
   ]
  },
  {
   "cell_type": "markdown",
   "id": "4fa0c8cc",
   "metadata": {},
   "source": [
    "### Differentially Accessible Regions"
   ]
  },
  {
   "cell_type": "code",
   "execution_count": null,
   "id": "fa476d5a",
   "metadata": {},
   "outputs": [],
   "source": [
    "# Load cisTopic object\n",
    "import pickle\n",
    "infile = open(outDir + 'cisTopicObject_clean.pkl', 'rb')\n",
    "cistopic_obj = pickle.load(infile)\n",
    "infile.close()"
   ]
  },
  {
   "cell_type": "code",
   "execution_count": null,
   "id": "3694d75f",
   "metadata": {},
   "outputs": [],
   "source": [
    "from pycisTopic.diff_features import *\n",
    "imputed_acc_obj = impute_accessibility(cistopic_obj, selected_cells=None, selected_regions=None, scale_factor=10**6)"
   ]
  },
  {
   "cell_type": "code",
   "execution_count": null,
   "id": "751df7a3",
   "metadata": {},
   "outputs": [],
   "source": [
    "include = set(imputed_acc_obj.feature_names) & set(cistopic_obj.region_data.index.to_list())\n",
    "len(include)"
   ]
  },
  {
   "cell_type": "code",
   "execution_count": null,
   "id": "fe2588ea",
   "metadata": {},
   "outputs": [],
   "source": [
    "diff = set(imputed_acc_obj.feature_names) - set(cistopic_obj.region_data.index.to_list())"
   ]
  },
  {
   "cell_type": "code",
   "execution_count": null,
   "id": "c2b84390",
   "metadata": {},
   "outputs": [],
   "source": [
    "diff"
   ]
  },
  {
   "cell_type": "code",
   "execution_count": null,
   "id": "b3df5ca3",
   "metadata": {},
   "outputs": [],
   "source": [
    "imputed_acc_obj = imputed_acc_obj.subset(features = list(include), copy = True)"
   ]
  },
  {
   "cell_type": "code",
   "execution_count": null,
   "id": "721df310",
   "metadata": {},
   "outputs": [],
   "source": [
    "str(imputed_acc_obj)"
   ]
  },
  {
   "cell_type": "code",
   "execution_count": null,
   "id": "c6db657e",
   "metadata": {},
   "outputs": [],
   "source": [
    "normalized_imputed_acc_obj = normalize_scores(imputed_acc_obj, scale_factor=10**4)"
   ]
  },
  {
   "cell_type": "code",
   "execution_count": null,
   "id": "48e77b76",
   "metadata": {},
   "outputs": [],
   "source": [
    "# os.mkdir(outDir + 'DARs/')\n",
    "variable_regions = find_highly_variable_features(normalized_imputed_acc_obj,\n",
    "                                           min_disp = 0.05,\n",
    "                                           min_mean = 0.0125,\n",
    "                                           max_mean = 3,\n",
    "                                           max_disp = np.inf,\n",
    "                                           n_bins=20,\n",
    "                                           n_top_features=None,\n",
    "                                           plot=True,\n",
    "                                           save= outDir + 'DARs/HVR_plot.pdf')"
   ]
  },
  {
   "cell_type": "code",
   "execution_count": null,
   "id": "de27a474",
   "metadata": {},
   "outputs": [],
   "source": [
    "len(variable_regions)"
   ]
  },
  {
   "cell_type": "code",
   "execution_count": null,
   "id": "a1ad1516",
   "metadata": {},
   "outputs": [],
   "source": [
    "markers_dict= find_diff_features(cistopic_obj,\n",
    "                      imputed_acc_obj,\n",
    "                      variable='mese_mullerian_lowres',\n",
    "                      var_features=variable_regions,\n",
    "                      contrasts=None,\n",
    "                      adjpval_thr=0.05,\n",
    "                      log2fc_thr=np.log2(1.5),\n",
    "                      n_cpu=10)"
   ]
  },
  {
   "cell_type": "code",
   "execution_count": null,
   "id": "e16cd249",
   "metadata": {},
   "outputs": [],
   "source": [
    "x = [print(x + ': '+ str(len(markers_dict[x]))) for x in markers_dict.keys()]"
   ]
  },
  {
   "cell_type": "code",
   "execution_count": null,
   "id": "5464734b",
   "metadata": {},
   "outputs": [],
   "source": [
    "# Save\n",
    "with open(outDir + 'DARs/Imputed_accessibility.pkl', 'wb') as f:\n",
    "  pickle.dump(imputed_acc_obj, f)\n",
    "with open(outDir + 'DARs/DARs.pkl', 'wb') as f:\n",
    "  pickle.dump(markers_dict, f)\n",
    "with open(outDir + 'DARs/variable_regions.pkl', 'wb') as f:\n",
    "  pickle.dump(variable_regions, f)"
   ]
  },
  {
   "cell_type": "code",
   "execution_count": null,
   "id": "db98c209",
   "metadata": {},
   "outputs": [],
   "source": [
    "from pycisTopic.clust_vis import *\n",
    "plot_imputed_features(cistopic_obj,\n",
    "                    reduction_name='harmony_tSNE',\n",
    "                    imputed_data=imputed_acc_obj,\n",
    "                    features=[markers_dict[x].index.tolist()[0] for x in ['FallopianMese',\n",
    " 'UterusMese',\n",
    " 'CervixMese',\n",
    " 'UpperVaginaMese']],\n",
    "                    scale=False,\n",
    "                    num_columns=3,\n",
    "                    save= outDir + 'DARs/example_best_DARs.pdf')"
   ]
  },
  {
   "cell_type": "markdown",
   "id": "098ab376",
   "metadata": {},
   "source": [
    "### Gene activity scores"
   ]
  },
  {
   "cell_type": "code",
   "execution_count": null,
   "id": "04040d78",
   "metadata": {},
   "outputs": [],
   "source": [
    "# Load cisTopic object\n",
    "import pickle\n",
    "infile = open(outDir + 'cisTopicObject_clean.pkl', 'rb')\n",
    "cistopic_obj = pickle.load(infile)\n",
    "infile.close()\n",
    "# Load imputed accessibility\n",
    "import pickle\n",
    "infile = open(outDir + 'DARs/Imputed_accessibility.pkl', 'rb')\n",
    "imputed_acc_obj = pickle.load(infile)\n",
    "infile.close()\n",
    "# Load DARs\n",
    "import pickle\n",
    "infile = open(outDir + 'DARs/DARs.pkl', 'rb')\n",
    "DARs_dict = pickle.load(infile)\n",
    "infile.close()"
   ]
  },
  {
   "cell_type": "code",
   "execution_count": null,
   "id": "5542a839",
   "metadata": {},
   "outputs": [],
   "source": [
    "str(imputed_acc_obj)"
   ]
  },
  {
   "cell_type": "code",
   "execution_count": null,
   "id": "6ece45a8",
   "metadata": {},
   "outputs": [],
   "source": [
    "# Get TSS annotations\n",
    "import pybiomart as pbm\n",
    "import pyranges as pr\n",
    "# For mouse\n",
    "#dataset = pbm.Dataset(name='mmusculus_gene_ensembl',  host='http://www.ensembl.org')\n",
    "# For human (hg38)\n",
    "dataset = pbm.Dataset(name='hsapiens_gene_ensembl',  host='http://www.ensembl.org')\n",
    "# For human (hg19)\n",
    "#dataset = pbm.Dataset(name='hsapiens_gene_ensembl',  host='http://grch37.ensembl.org/')\n",
    "# For fly\n",
    "#dataset = pbm.Dataset(name='dmelanogaster_gene_ensembl',  host='http://www.ensembl.org')\n",
    "annot = dataset.query(attributes=['chromosome_name', 'start_position', 'end_position', 'strand', 'external_gene_name', 'transcription_start_site', 'transcript_biotype'])\n",
    "annot['Chromosome/scaffold name'] = 'chr' + annot['Chromosome/scaffold name'].astype(str)\n",
    "annot.columns=['Chromosome', 'Start', 'End', 'Strand', 'Gene','Transcription_Start_Site', 'Transcript_type']\n",
    "annot = annot[annot.Transcript_type == 'protein_coding']\n",
    "annot.Strand[annot.Strand == 1] = '+'\n",
    "annot.Strand[annot.Strand == -1] = '-'\n",
    "pr_annotation = pr.PyRanges(annot.dropna(axis = 0))"
   ]
  },
  {
   "cell_type": "code",
   "execution_count": null,
   "id": "4d013e22",
   "metadata": {},
   "outputs": [],
   "source": [
    "\n",
    "# Get chromosome sizes\n",
    "import pandas as pd\n",
    "import requests\n",
    "target_url='http://hgdownload.cse.ucsc.edu/goldenPath/hg38/bigZips/hg38.chrom.sizes'\n",
    "chromsizes=pd.read_csv(target_url, sep='\\t', header=None)\n",
    "chromsizes.columns=['Chromosome', 'End']\n",
    "chromsizes['Start']=[0]*chromsizes.shape[0]\n",
    "chromsizes=chromsizes.loc[:,['Chromosome', 'Start', 'End']]\n",
    "chromsizes=pr.PyRanges(chromsizes)"
   ]
  },
  {
   "cell_type": "code",
   "execution_count": null,
   "id": "da06e631",
   "metadata": {},
   "outputs": [],
   "source": [
    "from pycisTopic.gene_activity import *\n",
    "gene_act, weigths = get_gene_activity(imputed_acc_obj, # Region-cell probabilities\n",
    "                pr_annotation, # Gene annotation\n",
    "                chromsizes, # Chromosome size\n",
    "                use_gene_boundaries=True, # Whether to use the whole search space or stop when encountering another gene\n",
    "                upstream=[1000, 100000], # Search space upstream. The minimum means that even if there is a gene right next to it\n",
    "                                      #these bp will be taken (1kbp here)\n",
    "                downstream=[1000,100000], # Search space downstream\n",
    "                distance_weight=True, # Whether to add a distance weight (an exponential function, the weight will decrease with distance)\n",
    "                decay_rate=1, # Exponent for the distance exponential funciton (the higher the faster will be the decrease)\n",
    "                extend_gene_body_upstream=10000, # Number of bp upstream immune to the distance weight (their value will be maximum for\n",
    "                                      #this weight)\n",
    "                extend_gene_body_downstream=500, # Number of bp downstream immune to the distance weight\n",
    "                gene_size_weight=False, # Whether to add a weights based on the length of the gene\n",
    "                gene_size_scale_factor='median', # Dividend to calculate the gene size weigth. Default is the median value of all genes\n",
    "                                      #in the genome\n",
    "                remove_promoters=False, # Whether to remove promoters when computing gene activity scores\n",
    "                average_scores=True, # Whether to divide by the total number of region assigned to a gene when calculating the gene\n",
    "                                      #activity score\n",
    "                scale_factor=1, # Value to multiply for the final gene activity matrix\n",
    "                extend_tss=[10,10], # Space to consider a promoter\n",
    "                gini_weight = True, # Whether to add a gini index weigth. The more unique the region is, the higher this weight will be\n",
    "                return_weights= True, # Whether to return the final weights\n",
    "                project='Gene_activity') # Project name for the gene activity object"
   ]
  },
  {
   "cell_type": "code",
   "execution_count": null,
   "id": "551999f2",
   "metadata": {},
   "outputs": [],
   "source": [
    "markers_dict= find_diff_features(cistopic_obj,\n",
    "                      gene_act,\n",
    "                      variable='mese_mullerian_lowres',\n",
    "                      var_features=None,\n",
    "                      contrasts=None,\n",
    "                      adjpval_thr=0.05,\n",
    "                      log2fc_thr=np.log2(1.5),\n",
    "                      n_cpu=1,\n",
    "                      #_temp_dir=tmpDir + 'ray_spill'\n",
    "                                )"
   ]
  },
  {
   "cell_type": "code",
   "execution_count": null,
   "id": "76a8838f",
   "metadata": {},
   "outputs": [],
   "source": [
    "# os.mkdir(outDir+'DAGs')\n",
    "from pycisTopic.clust_vis import *\n",
    "plot_imputed_features(cistopic_obj,\n",
    "                    reduction_name='harmony_tSNE',\n",
    "                    imputed_data=gene_act,\n",
    "                    features=['LGR5', 'TSPAN8', 'CD36', 'ITGBL1', 'HMGA2', 'KRT8', 'KRT18', 'ATF3', 'KLF2', 'ITGA4', 'SEMA3A', 'NR4A1', 'MAFF', 'CSRNP1',\n",
    "                             'HOXA9', 'HOXD9', 'HOXA10', 'HOXD10', 'HOXA11', 'HOXD11', 'HOXA7', 'HOXC8', 'HOXC6', 'HOXC5', 'HOXC4',\n",
    "                              'ETV4', 'CRABP1', 'CNTN1', 'TMEM163', 'ZAP70', 'MMP28', 'HOXA13', 'SRD5A2', 'WIF1'],\n",
    "                    scale=True,\n",
    "                    num_columns=4, cmap = 'jet',\n",
    "                    save= outDir + 'DAGs/example_best_DAGs.pdf')"
   ]
  },
  {
   "cell_type": "code",
   "execution_count": null,
   "id": "a2bae3ab",
   "metadata": {},
   "outputs": [],
   "source": [
    "x = [print(x + ': '+ str(len(markers_dict[x]))) for x in markers_dict.keys()]\n"
   ]
  },
  {
   "cell_type": "code",
   "execution_count": null,
   "id": "5c0754c6",
   "metadata": {},
   "outputs": [],
   "source": [
    "# Save\n",
    "with open(outDir + 'DAGs/Gene_activity.pkl', 'wb') as f:\n",
    "  pickle.dump(gene_act, f)\n",
    "with open(outDir + 'DAGs/DAGs.pkl', 'wb') as f:\n",
    "  pickle.dump(markers_dict, f)"
   ]
  },
  {
   "cell_type": "markdown",
   "id": "87e17e53",
   "metadata": {},
   "source": [
    "### Label transfer"
   ]
  },
  {
   "cell_type": "code",
   "execution_count": null,
   "id": "25aff5cf",
   "metadata": {},
   "outputs": [],
   "source": [
    "# # Load cisTopic object\n",
    "# import pickle\n",
    "# infile = open(outDir + 'cisTopicObject_clean.pkl', 'rb')\n",
    "# cistopic_obj = pickle.load(infile)\n",
    "# infile.close()"
   ]
  },
  {
   "cell_type": "code",
   "execution_count": null,
   "id": "38c8e6e2",
   "metadata": {},
   "outputs": [],
   "source": [
    "# cistopic_obj.cell_data"
   ]
  },
  {
   "cell_type": "code",
   "execution_count": null,
   "id": "bbc01c23",
   "metadata": {},
   "outputs": [],
   "source": [
    "# # Prepare RNA\n",
    "# from loomxpy.loomxpy import SCopeLoom\n",
    "# from pycisTopic.loom import *\n",
    "# import itertools\n",
    "# import anndata\n",
    "# import scanpy as sc\n",
    "# rna_anndata = sc.read('/nfs/team292/vl6/FetalReproductiveTract/mullerian_mese_late_downsampled.h5ad')\n",
    "# rna_anndata"
   ]
  },
  {
   "cell_type": "code",
   "execution_count": null,
   "id": "5a713014",
   "metadata": {},
   "outputs": [],
   "source": [
    "# rna_anndata.obs['mese_mullerian_highres'].value_counts()"
   ]
  },
  {
   "cell_type": "code",
   "execution_count": null,
   "id": "5978fd66",
   "metadata": {},
   "outputs": [],
   "source": [
    "# # Recode RNA \n",
    "# recode = {'Mesenchymal_FallopianTube_late' : 'MesenchymalFallopianTubeLate', 'Mesenchymal_Uterus_late' : 'MesenchymalUterusLate', 'Mesenchymal_FallopianTube_early' : 'MesenchymalFallopianTubeEarly', 'Mesenchymal_Uterus_early' : 'MesenchymalUterusEarly', \n",
    "#          'Mesenchymal_MüllerianDuct' : 'MesenchymalMüllerianDuct'}"
   ]
  },
  {
   "cell_type": "code",
   "execution_count": null,
   "id": "6008683e",
   "metadata": {},
   "outputs": [],
   "source": [
    "# rna_anndata.obs['mese_mullerian_highres'] = rna_anndata.obs['mese_mullerian_highres'].map(recode)"
   ]
  },
  {
   "cell_type": "code",
   "execution_count": null,
   "id": "f7239d6e",
   "metadata": {},
   "outputs": [],
   "source": [
    "# rna_anndata = anndata.AnnData(X = rna_anndata.raw.X, var = rna_anndata.raw.var, obs = rna_anndata.obs)"
   ]
  },
  {
   "cell_type": "code",
   "execution_count": null,
   "id": "bc173a02",
   "metadata": {},
   "outputs": [],
   "source": [
    "# rna_anndata.obs['mese_mullerian_highres'].value_counts()"
   ]
  },
  {
   "cell_type": "code",
   "execution_count": null,
   "id": "08d09bb8",
   "metadata": {},
   "outputs": [],
   "source": [
    "# # Prepare ATAC\n",
    "# import pickle\n",
    "# infile = open(outDir + 'DAGs/Gene_activity.pkl', 'rb') #Here I am using pycisTopic gene activity matrix, but could be any :)\n",
    "# gene_act = pickle.load(infile)\n",
    "# infile.close()\n",
    "# atac_anndata = anndata.AnnData(X=gene_act.mtx.T, obs=pd.DataFrame(index=gene_act.cell_names), var=pd.DataFrame(index=gene_act.feature_names))\n",
    "# atac_anndata.obs = cistopic_obj.cell_data"
   ]
  },
  {
   "cell_type": "code",
   "execution_count": null,
   "id": "9c8ede87",
   "metadata": {},
   "outputs": [],
   "source": [
    "# atac_anndata"
   ]
  },
  {
   "cell_type": "code",
   "execution_count": null,
   "id": "2a828862",
   "metadata": {},
   "outputs": [],
   "source": [
    "# atac_anndata.obs['mese_mullerian_highres'].value_counts()"
   ]
  },
  {
   "cell_type": "code",
   "execution_count": null,
   "id": "30030988",
   "metadata": {},
   "outputs": [],
   "source": [
    "# from pycisTopic.label_transfer import *\n",
    "# label_dict = label_transfer(rna_anndata,\n",
    "#                   atac_anndata,\n",
    "#                   labels_to_transfer = ['mese_mullerian_highres'],\n",
    "#                   variable_genes = True,\n",
    "#                   methods = ['ingest', 'harmony', 'bbknn', 'scanorama', 'cca'],\n",
    "#                   return_label_weights = False,\n",
    "#                   #_temp_dir= ''\n",
    "#                            )"
   ]
  },
  {
   "cell_type": "code",
   "execution_count": null,
   "id": "9334117e",
   "metadata": {},
   "outputs": [],
   "source": [
    "# label_dict_x=[label_dict[key] for key in label_dict.keys()]\n",
    "# label_pd = pd.concat(label_dict_x, axis=1, sort=False)\n",
    "# label_pd.index = cistopic_obj.cell_names\n",
    "# label_pd.columns = ['pycisTopic_' + x for x in label_pd.columns]\n",
    "# cistopic_obj.add_cell_data(label_pd, split_pattern = '-')"
   ]
  },
  {
   "cell_type": "code",
   "execution_count": null,
   "id": "4edd402c",
   "metadata": {},
   "outputs": [],
   "source": [
    "# from pycisTopic.clust_vis import *\n",
    "# plot_metadata(cistopic_obj,\n",
    "#              reduction_name='harmony_tSNE',\n",
    "#              variables= label_pd.columns.to_list(),\n",
    "#              remove_nan=True,\n",
    "#              cmap=cm.viridis,\n",
    "#              seed=555,\n",
    "#              num_columns=3,\n",
    "#              color_dictionary={},\n",
    "#              save= outDir + 'DAGs/label_transfer.pdf')"
   ]
  },
  {
   "cell_type": "code",
   "execution_count": null,
   "id": "45e718d6",
   "metadata": {},
   "outputs": [],
   "source": []
  },
  {
   "cell_type": "code",
   "execution_count": null,
   "id": "b10f946d",
   "metadata": {},
   "outputs": [],
   "source": []
  },
  {
   "cell_type": "markdown",
   "id": "8063c3dd",
   "metadata": {},
   "source": [
    "### pycisTarget"
   ]
  },
  {
   "cell_type": "code",
   "execution_count": null,
   "id": "63d8fb5e",
   "metadata": {},
   "outputs": [],
   "source": [
    "outDir"
   ]
  },
  {
   "cell_type": "code",
   "execution_count": null,
   "id": "4756e3bc",
   "metadata": {},
   "outputs": [],
   "source": [
    "# Load region binarized topics\n",
    "import pickle\n",
    "infile = open(outDir+'topic_binarization/binarized_topic_region.pkl', 'rb')\n",
    "binarized_topic_region = pickle.load(infile)\n",
    "infile.close()\n",
    "# Load DARs\n",
    "import pickle\n",
    "infile = open(outDir+'DARs/DARs.pkl', 'rb')\n",
    "DARs_dict = pickle.load(infile)\n",
    "infile.close()\n",
    "# Format region sets\n",
    "import re\n",
    "import pyranges as pr\n",
    "from pycistarget.utils import *\n",
    "region_sets = {}\n",
    "region_sets['Topics'] = {key: pr.PyRanges(region_names_to_coordinates(binarized_topic_region[key].index.tolist())) for key in binarized_topic_region.keys()}\n",
    "region_sets['DARs'] = {re.sub('[^A-Za-z0-9]+', '_', key): pr.PyRanges(region_names_to_coordinates(DARs_dict[key].index.tolist())) for key in DARs_dict.keys()}"
   ]
  },
  {
   "cell_type": "code",
   "execution_count": null,
   "id": "4b378f47",
   "metadata": {},
   "outputs": [],
   "source": [
    "outDir"
   ]
  },
  {
   "cell_type": "code",
   "execution_count": null,
   "id": "e95a760f",
   "metadata": {},
   "outputs": [],
   "source": [
    "len('/lustre/scratch126/cellgen/team292/vl6/tmp/session_2023-01-23_22-04-33_639589_39002/sockets/plasma_store')"
   ]
  },
  {
   "cell_type": "code",
   "execution_count": null,
   "id": "1486ad73",
   "metadata": {},
   "outputs": [],
   "source": [
    "# Run pycistarget\n",
    "# run_without_promoters = True, will run the methods in all regions + the region sets without promoters\n",
    "import os\n",
    "os.chdir('/nfs/team292/vl6/scenicplus/src/')\n",
    "from scenicplus.wrappers.run_pycistarget import *\n",
    "run_pycistarget(region_sets,\n",
    "                 ctx_db_path = '/nfs/team292/vl6/scenicplus/hg38_screen_v10_clust.regions_vs_motifs.rankings.feather',\n",
    "                 species = 'homo_sapiens',\n",
    "                 save_path = '/lustre/scratch126/cellgen/team292/vl6/pycistarget/mullerian_mese_withvagina_post9pcw/',\n",
    "                 dem_db_path = '/nfs/team292/vl6/scenicplus/hg38_screen_v10_clust.regions_vs_motifs.scores.feather',\n",
    "                 run_without_promoters = True,\n",
    "                 biomart_host = 'http://www.ensembl.org',\n",
    "                 promoter_space = 500,\n",
    "                 ctx_auc_threshold = 0.005,\n",
    "                 ctx_nes_threshold = 3.0,\n",
    "                 ctx_rank_threshold = 0.05,\n",
    "                 dem_log2fc_thr = 0.5,\n",
    "                 dem_motif_hit_thr = 3.0,\n",
    "                 dem_max_bg_regions = 500,\n",
    "                 path_to_motif_annotations = '/nfs/team292/vl6/scenicplus/motifs-v10nr_clust-nr.hgnc-m0.001-o0.0.tbl',\n",
    "                 annotation_version = 'v10nr_clust',\n",
    "                 annotation = ['Direct_annot', 'Orthology_annot'],\n",
    "                 n_cpu = 1,\n",
    "                 #_temp_dir = '/lustre/scratch126/cellgen/team292/vl6/pycistarget/temp/'\n",
    "               )"
   ]
  },
  {
   "cell_type": "code",
   "execution_count": null,
   "id": "e334572f",
   "metadata": {},
   "outputs": [],
   "source": [
    "save_path = '/lustre/scratch126/cellgen/team292/vl6/pycistarget/mullerian_mese_withvagina_post9pcw/'"
   ]
  },
  {
   "cell_type": "code",
   "execution_count": null,
   "id": "ef6a738e",
   "metadata": {},
   "outputs": [],
   "source": [
    "import dill\n",
    "import os\n",
    "menr = dill.load(open(os.path.join(save_path, 'menr.pkl'), 'rb'))"
   ]
  },
  {
   "cell_type": "code",
   "execution_count": null,
   "id": "18fc24a6",
   "metadata": {},
   "outputs": [],
   "source": [
    "menr.keys()"
   ]
  },
  {
   "cell_type": "code",
   "execution_count": null,
   "id": "95e639d6",
   "metadata": {},
   "outputs": [],
   "source": [
    "outDir = '/lustre/scratch126/cellgen/team292/vl6/pycistopic/mullerian_mese_withvagina_post9pcw/'\n",
    "outDir"
   ]
  },
  {
   "cell_type": "markdown",
   "id": "89ab55fb",
   "metadata": {},
   "source": [
    "### Infer eGRNs"
   ]
  },
  {
   "cell_type": "code",
   "execution_count": null,
   "id": "8cead550",
   "metadata": {},
   "outputs": [],
   "source": [
    "import dill\n",
    "import scanpy as sc\n",
    "import os\n",
    "import warnings\n",
    "warnings.filterwarnings(\"ignore\")\n",
    "import pandas\n",
    "import pyranges\n",
    "# Set stderr to null to avoid strange messages from ray\n",
    "import sys\n",
    "\n",
    "adata = sc.read_h5ad('/nfs/team292/vl6/FetalReproductiveTract/mullerian_mese_late_post10pcw.h5ad')\n",
    "\n",
    "cistopic_obj = dill.load(open(os.path.join(outDir, 'cisTopicObject_clean.pkl'), 'rb'))\n"
   ]
  },
  {
   "cell_type": "code",
   "execution_count": null,
   "id": "663dc59c",
   "metadata": {},
   "outputs": [],
   "source": [
    "import dill\n",
    "import scanpy as sc\n",
    "import os\n",
    "import warnings\n",
    "warnings.filterwarnings(\"ignore\")\n",
    "import pandas\n",
    "import pyranges\n",
    "# Set stderr to null to avoid strange messages from ray\n",
    "import sys\n",
    "\n",
    "\n",
    "cistopic_obj = dill.load(open(os.path.join(outDir, 'cisTopicObject_clean.pkl'), 'rb'))\n",
    "cistopic_obj"
   ]
  },
  {
   "cell_type": "code",
   "execution_count": null,
   "id": "5d8f6f92",
   "metadata": {},
   "outputs": [],
   "source": [
    "cell_metadata = cistopic_obj.cell_data"
   ]
  },
  {
   "cell_type": "code",
   "execution_count": null,
   "id": "3cd31f8b",
   "metadata": {},
   "outputs": [],
   "source": [
    "cell_metadata.head()"
   ]
  },
  {
   "cell_type": "code",
   "execution_count": null,
   "id": "5d67b42b",
   "metadata": {},
   "outputs": [],
   "source": [
    "cell_metadata.to_csv(outDir + \"cell_metadata_for_cicero.csv\")"
   ]
  },
  {
   "cell_type": "code",
   "execution_count": null,
   "id": "a0e215ef",
   "metadata": {},
   "outputs": [],
   "source": [
    "peak_metadata = cistopic_obj.region_data\n",
    "peak_metadata.head()"
   ]
  },
  {
   "cell_type": "code",
   "execution_count": null,
   "id": "efe0d108",
   "metadata": {},
   "outputs": [],
   "source": [
    "peak_metadata.to_csv(outDir + \"region_metadata_for_cicero.csv\")"
   ]
  },
  {
   "cell_type": "code",
   "execution_count": null,
   "id": "47b88703",
   "metadata": {},
   "outputs": [],
   "source": [
    "cell_metadata.shape"
   ]
  },
  {
   "cell_type": "code",
   "execution_count": null,
   "id": "3c83b612",
   "metadata": {},
   "outputs": [],
   "source": [
    "lowdim = pd.DataFrame(index=cell_metadata.index, columns=['tsne1', 'tsne2'])"
   ]
  },
  {
   "cell_type": "code",
   "execution_count": null,
   "id": "618c4ed0",
   "metadata": {},
   "outputs": [],
   "source": [
    "lowdim['tsne1'] = lowdim.index.map(cistopic_obj.projections['cell']['harmony_tSNE']['tSNE_1'].to_dict())\n",
    "lowdim['tsne2'] = lowdim.index.map(cistopic_obj.projections['cell']['harmony_tSNE']['tSNE_2'].to_dict())"
   ]
  },
  {
   "cell_type": "code",
   "execution_count": null,
   "id": "664e7cc2",
   "metadata": {},
   "outputs": [],
   "source": [
    "lowdim.head()"
   ]
  },
  {
   "cell_type": "code",
   "execution_count": null,
   "id": "baa1968f",
   "metadata": {},
   "outputs": [],
   "source": [
    "lowdim.to_csv(outDir + \"tsne_harmony_for_cicero.csv\")"
   ]
  },
  {
   "cell_type": "code",
   "execution_count": null,
   "id": "ed671c5f",
   "metadata": {},
   "outputs": [],
   "source": [
    "from scipy.io import mmwrite"
   ]
  },
  {
   "cell_type": "code",
   "execution_count": null,
   "id": "fced7538",
   "metadata": {},
   "outputs": [],
   "source": [
    "count_matrix = cistopic_obj.binary_matrix\n",
    "count_matrix.shape"
   ]
  },
  {
   "cell_type": "code",
   "execution_count": null,
   "id": "71a6aa82",
   "metadata": {},
   "outputs": [],
   "source": [
    "mmwrite(outDir + 'fragment_matrix_for_cicero.mtx', count_matrix)"
   ]
  },
  {
   "cell_type": "code",
   "execution_count": null,
   "id": "90c9c99c",
   "metadata": {},
   "outputs": [],
   "source": [
    "outDir"
   ]
  },
  {
   "cell_type": "code",
   "execution_count": null,
   "id": "def724a9",
   "metadata": {},
   "outputs": [],
   "source": [
    "adata.X[20:30, 20:30].toarray()"
   ]
  },
  {
   "cell_type": "code",
   "execution_count": null,
   "id": "2a0c60f6",
   "metadata": {},
   "outputs": [],
   "source": [
    "adata.raw.X.shape"
   ]
  },
  {
   "cell_type": "code",
   "execution_count": null,
   "id": "d0ee0d7d",
   "metadata": {},
   "outputs": [],
   "source": [
    "# Find common genes between adata.raw and adata\n",
    "common_genes = adata.var_names.intersection(adata.raw.var_names)\n",
    "\n",
    "# Subset adata.raw to include only the common genes\n",
    "adata_raw_common = adata.raw[:, common_genes]\n"
   ]
  },
  {
   "cell_type": "code",
   "execution_count": null,
   "id": "db549f1c",
   "metadata": {},
   "outputs": [],
   "source": [
    "adata_raw_common.shape"
   ]
  },
  {
   "cell_type": "code",
   "execution_count": null,
   "id": "8b061a1b",
   "metadata": {},
   "outputs": [],
   "source": [
    "adata.layers[\"raw_count\"] = adata_raw_common.X.copy()"
   ]
  },
  {
   "cell_type": "code",
   "execution_count": null,
   "id": "172b9a1f",
   "metadata": {},
   "outputs": [],
   "source": [
    "adata.layers[\"raw_count\"][20:25, 20:25].toarray()"
   ]
  },
  {
   "cell_type": "code",
   "execution_count": null,
   "id": "fb418f5d",
   "metadata": {},
   "outputs": [],
   "source": [
    "adata.obs.head()"
   ]
  },
  {
   "cell_type": "code",
   "execution_count": null,
   "id": "037e7456",
   "metadata": {},
   "outputs": [],
   "source": [
    "adata.var['highly_variable'].value_counts()"
   ]
  },
  {
   "cell_type": "code",
   "execution_count": null,
   "id": "24b12e49",
   "metadata": {},
   "outputs": [],
   "source": [
    "import pickle\n",
    "\n",
    "# Load the list from the file\n",
    "with open('/lustre/scratch126/cellgen/team292/vl6/VISIUM/tot_spatially_variable_genes_mullerian_mese.pkl', 'rb') as f:\n",
    "    spatially_variable_genes = pickle.load(f)\n",
    "\n",
    "print(len(spatially_variable_genes))\n"
   ]
  },
  {
   "cell_type": "markdown",
   "id": "6e7a2805",
   "metadata": {},
   "source": [
    "## Take intersection of HVGs and spatially variable genes for CellOracle modelling"
   ]
  },
  {
   "cell_type": "code",
   "execution_count": null,
   "id": "dea8ff3f",
   "metadata": {},
   "outputs": [],
   "source": [
    "# Step 1: Extract the genes that are highly variable\n",
    "highly_variable_genes = adata.var_names[adata.var['highly_variable'] == True]\n",
    "\n",
    "# Step 2: Take the union with loaded_list\n",
    "# Convert the loaded_list to a set for the union operation\n",
    "genes_union = set(highly_variable_genes).union(set(spatially_variable_genes))\n",
    "\n",
    "# Step 3: Convert back to list (optional) and print the result\n",
    "genes_union_list = list(genes_union)\n",
    "print(len(genes_union_list))"
   ]
  },
  {
   "cell_type": "code",
   "execution_count": null,
   "id": "64bb286a",
   "metadata": {},
   "outputs": [],
   "source": [
    "adata.obs['mese_mullerian_lowres'].value_counts()"
   ]
  },
  {
   "cell_type": "code",
   "execution_count": null,
   "id": "f48a0cf0",
   "metadata": {},
   "outputs": [],
   "source": [
    "# Recode RNA \n",
    "recode = {'Fallopian Mese' : 'FallopianMese',\n",
    "          'Uterus Mese' : 'UterusMese',  \n",
    "         'Cervix Mese' : 'CervixMese', \n",
    "         'Upper Vagina Mese' : 'UpperVaginaMese'}\n",
    "adata.obs['mese_mullerian_lowres'] = adata.obs['mese_mullerian_lowres'].map(recode)"
   ]
  },
  {
   "cell_type": "code",
   "execution_count": null,
   "id": "dff8578a",
   "metadata": {},
   "outputs": [],
   "source": [
    "adata.obs['mese_mullerian_lowres'].value_counts(dropna = False)"
   ]
  },
  {
   "cell_type": "code",
   "execution_count": null,
   "id": "d404a57c",
   "metadata": {},
   "outputs": [],
   "source": [
    "sc.pl.umap(adata, color = 'mese_mullerian_lowres')"
   ]
  },
  {
   "cell_type": "code",
   "execution_count": null,
   "id": "17e251de",
   "metadata": {},
   "outputs": [],
   "source": [
    "adata.obs['mese_mullerian_lowres'].value_counts()"
   ]
  },
  {
   "cell_type": "code",
   "execution_count": null,
   "id": "5e828087",
   "metadata": {},
   "outputs": [],
   "source": [
    "# Random downsampling per cell type \n",
    "import random\n",
    "import pandas as pd\n",
    "from itertools import chain\n",
    "def downsample(adata, labels, n): \n",
    "    \n",
    "    myindex = adata.obs[labels].value_counts().index \n",
    "    myvalues = adata.obs[labels].value_counts().values\n",
    "    clusters = pd.Series(myvalues, index = myindex)\n",
    "    \n",
    "    # Find clusters with > n cells \n",
    "    cl2downsample = clusters.index[ clusters.values > n ]\n",
    "\n",
    "    # save all barcode ids from small clusters\n",
    "    holder = []\n",
    "    holder.append( adata.obs_names[[ i not in cl2downsample for i in adata.obs[labels] ]] ) \n",
    "\n",
    "    # randomly sample n cells in the cl2downsample\n",
    "    for cl in cl2downsample:\n",
    "        print(cl)\n",
    "        cl_sample = adata[[ i == cl for i in adata.obs[labels]]].obs_names\n",
    "        # n = int(round(len(cl_sample)/2, 0))\n",
    "        if cl == 'Mese_ExtraGonad':\n",
    "            cl_downsample = random.sample(set(cl_sample), 9000 )\n",
    "        else: \n",
    "            cl_downsample = random.sample(set(cl_sample), n )\n",
    "        holder.append(cl_downsample)\n",
    "    \n",
    "    # samples to include\n",
    "    samples = list(chain(*holder))\n",
    "\n",
    "    # Filter adata_count\n",
    "    adata = adata[[ i in samples for i in adata.obs_names ]]\n",
    "    return adata"
   ]
  },
  {
   "cell_type": "code",
   "execution_count": null,
   "id": "ed9fa085",
   "metadata": {},
   "outputs": [],
   "source": [
    "adata = downsample(adata, 'mese_mullerian_lowres', 2000)"
   ]
  },
  {
   "cell_type": "code",
   "execution_count": null,
   "id": "394ca2df",
   "metadata": {},
   "outputs": [],
   "source": [
    "sc.pl.umap(adata, color = 'mese_mullerian_lowres')"
   ]
  },
  {
   "cell_type": "code",
   "execution_count": null,
   "id": "f12b3c5f",
   "metadata": {},
   "outputs": [],
   "source": [
    "adata.shape"
   ]
  },
  {
   "cell_type": "code",
   "execution_count": null,
   "id": "58f1267a",
   "metadata": {},
   "outputs": [],
   "source": [
    "adata = adata[:, genes_union_list]\n",
    "adata.shape"
   ]
  },
  {
   "cell_type": "code",
   "execution_count": null,
   "id": "5590a229",
   "metadata": {},
   "outputs": [],
   "source": [
    "adata.write(outDir + 'scrnaseq_for_celloracle.h5ad')"
   ]
  },
  {
   "cell_type": "code",
   "execution_count": null,
   "id": "3cb64b8b",
   "metadata": {},
   "outputs": [],
   "source": [
    "to_del = ['GeneID-0', 'GeneName-0', 'n_cells-0', 'GeneID-1', 'GeneName-1', 'n_cells-1', 'GeneID-10', 'GeneName-10', 'n_cells-10', 'GeneID-11', 'GeneName-11', 'n_cells-11', 'GeneID-12', 'GeneName-12', 'n_cells-12', 'GeneID-13', 'GeneName-13', 'n_cells-13', 'GeneID-14', 'GeneName-14', 'n_cells-14', 'GeneID-15', 'GeneName-15', 'n_cells-15', 'GeneID-16', 'GeneName-16', 'n_cells-16', 'GeneID-17', 'GeneName-17', 'n_cells-17', 'GeneID-18', 'GeneName-18', 'n_cells-18', 'GeneID-19', 'GeneName-19', 'n_cells-19', 'GeneID-2', 'GeneName-2', 'n_cells-2', 'GeneID-20', 'GeneName-20', 'n_cells-20', 'GeneID-21', 'GeneName-21', 'n_cells-21', 'GeneID-22', 'GeneName-22', 'n_cells-22', 'GeneID-23', 'GeneName-23', 'n_cells-23', 'GeneID-24', 'GeneName-24', 'n_cells-24', 'GeneID-25', 'GeneName-25', 'n_cells-25', 'GeneID-26', 'GeneName-26', 'n_cells-26', 'GeneID-27', 'GeneName-27', 'n_cells-27', 'GeneID-28', 'GeneName-28', 'n_cells-28', 'GeneID-29', 'GeneName-29', 'n_cells-29', 'GeneID-3', 'GeneName-3', 'n_cells-3', 'GeneID-30', 'GeneName-30', 'n_cells-30', 'GeneID-31', 'GeneName-31', 'n_cells-31', 'GeneID-32', 'GeneName-32', 'n_cells-32', 'GeneID-33', 'GeneName-33', 'n_cells-33', 'GeneID-34', 'GeneName-34', 'n_cells-34', 'GeneID-35', 'GeneName-35', 'n_cells-35', 'GeneID-36', 'GeneName-36', 'n_cells-36', 'GeneID-37', 'GeneName-37', 'n_cells-37', 'GeneID-38', 'GeneName-38', 'n_cells-38', 'GeneID-39', 'GeneName-39', 'n_cells-39', 'GeneID-4', 'GeneName-4', 'n_cells-4', 'GeneID-40', 'GeneName-40', 'n_cells-40', 'GeneID-41', 'GeneName-41', 'n_cells-41', 'GeneID-42', 'GeneName-42', 'n_cells-42', 'GeneID-43', 'GeneName-43', 'n_cells-43', 'GeneID-44', 'GeneName-44', 'n_cells-44', 'GeneID-45', 'GeneName-45', 'n_cells-45', 'GeneID-46', 'GeneName-46', 'n_cells-46', 'GeneID-47', 'GeneName-47', 'n_cells-47', 'GeneID-48', 'GeneName-48', 'n_cells-48', 'GeneID-49', 'GeneName-49', 'n_cells-49', 'GeneID-5', 'GeneName-5', 'n_cells-5', 'GeneID-50', 'GeneName-50', 'n_cells-50', 'GeneID-51', 'GeneName-51', 'n_cells-51', 'GeneID-52', 'GeneName-52', 'n_cells-52', 'GeneID-53', 'GeneName-53', 'n_cells-53', 'GeneID-54', 'GeneName-54', 'n_cells-54', 'GeneID-55', 'GeneName-55', 'n_cells-55', 'GeneID-56', 'GeneName-56', 'n_cells-56', 'GeneID-57', 'GeneName-57', 'n_cells-57', 'GeneID-58', 'GeneName-58', 'n_cells-58', 'GeneID-59', 'GeneName-59', 'n_cells-59', 'GeneID-6', 'GeneName-6', 'n_cells-6', 'GeneID-60', 'GeneName-60', 'n_cells-60', 'GeneID-61', 'GeneName-61', 'n_cells-61', 'GeneID-62', 'GeneName-62', 'n_cells-62', 'GeneID-63', 'GeneName-63', 'n_cells-63', 'GeneID-64', 'GeneName-64', 'n_cells-64', 'GeneID-65', 'GeneName-65', 'n_cells-65', 'GeneID-66', 'GeneName-66', 'n_cells-66', 'GeneID-67', 'GeneName-67', 'n_cells-67', 'GeneID-68', 'GeneName-68', 'n_cells-68', 'GeneID-69', 'GeneName-69', 'n_cells-69', 'GeneID-7', 'GeneName-7', 'n_cells-7', 'GeneID-70', 'GeneName-70', 'n_cells-70', 'GeneID-71', 'GeneName-71', 'n_cells-71', 'GeneID-72', 'GeneName-72', 'n_cells-72', 'GeneID-73', 'GeneName-73', 'n_cells-73', 'GeneID-74', 'GeneName-74', 'n_cells-74', 'GeneID-75', 'GeneName-75', 'n_cells-75', 'GeneID-76', 'GeneName-76', 'n_cells-76', 'GeneID-77', 'GeneName-77', 'n_cells-77', 'GeneID-78', 'GeneName-78', 'n_cells-78', 'GeneID-79', 'GeneName-79', 'n_cells-79', 'GeneID-8', 'GeneName-8', 'n_cells-8', 'gene_ids-80', 'feature_types-80', 'gene_ids-81', 'feature_types-81', 'gene_ids-82', 'feature_types-82', 'gene_ids-83', 'feature_types-83', 'gene_ids-84', 'feature_types-84', 'gene_ids-85', 'feature_types-85', 'gene_ids-86', 'feature_types-86', 'gene_ids-87', 'feature_types-87', 'gene_ids-88', 'feature_types-88', 'gene_ids-89', 'feature_types-89', 'GeneID-9', 'GeneName-9', 'n_cells-9']\n",
    "for d in to_del:\n",
    "    del adata.var[d]"
   ]
  },
  {
   "cell_type": "code",
   "execution_count": null,
   "id": "eb32dae1",
   "metadata": {},
   "outputs": [],
   "source": [
    "adata"
   ]
  },
  {
   "cell_type": "code",
   "execution_count": null,
   "id": "82027dd5",
   "metadata": {},
   "outputs": [],
   "source": [
    "import anndata \n",
    "adata = anndata.AnnData(X = adata.raw.X, var = adata.raw.var, obs = adata.obs)"
   ]
  },
  {
   "cell_type": "code",
   "execution_count": null,
   "id": "51b4ab74",
   "metadata": {},
   "outputs": [],
   "source": [
    "str(cistopic_obj)"
   ]
  },
  {
   "cell_type": "code",
   "execution_count": null,
   "id": "42995eab",
   "metadata": {},
   "outputs": [],
   "source": [
    "cistopic_obj.cell_data.head()"
   ]
  },
  {
   "cell_type": "code",
   "execution_count": null,
   "id": "ae01f862",
   "metadata": {},
   "outputs": [],
   "source": [
    "cistopic_obj.cell_data.columns"
   ]
  },
  {
   "cell_type": "code",
   "execution_count": null,
   "id": "2ef4a34d",
   "metadata": {},
   "outputs": [],
   "source": [
    "cistopic_obj.region_data.head()"
   ]
  },
  {
   "cell_type": "code",
   "execution_count": null,
   "id": "d3807438",
   "metadata": {},
   "outputs": [],
   "source": [
    "import pickle\n",
    "infile = open(outDir + 'DARs/Imputed_accessibility.pkl', 'rb')\n",
    "imputed_acc_obj = pickle.load(infile)\n",
    "infile.close()"
   ]
  },
  {
   "cell_type": "code",
   "execution_count": null,
   "id": "8e7821a1",
   "metadata": {},
   "outputs": [],
   "source": [
    "imputed_acc_obj"
   ]
  },
  {
   "cell_type": "code",
   "execution_count": null,
   "id": "738fcc62",
   "metadata": {},
   "outputs": [],
   "source": [
    "from scenicplus.scenicplus_class import create_SCENICPLUS_object\n",
    "import numpy as np\n",
    "scplus_obj = create_SCENICPLUS_object(\n",
    "        GEX_anndata = adata,\n",
    "        cisTopic_obj = cistopic_obj,\n",
    "        imputed_acc_obj = imputed_acc_obj,\n",
    "        menr = menr,\n",
    "        multi_ome_mode = False,\n",
    "        nr_cells_per_metacells = 20,\n",
    "        key_to_group_by = 'mese_mullerian_lowres')"
   ]
  },
  {
   "cell_type": "code",
   "execution_count": null,
   "id": "93066531",
   "metadata": {},
   "outputs": [],
   "source": [
    "print(scplus_obj)"
   ]
  },
  {
   "cell_type": "code",
   "execution_count": null,
   "id": "009a3384",
   "metadata": {},
   "outputs": [],
   "source": [
    "from scenicplus.preprocessing.filtering import *"
   ]
  },
  {
   "cell_type": "code",
   "execution_count": null,
   "id": "d33e5778",
   "metadata": {},
   "outputs": [],
   "source": [
    "filter_genes(scplus_obj, min_pct = 10)\n",
    "filter_regions(scplus_obj, min_pct = 10)"
   ]
  },
  {
   "cell_type": "code",
   "execution_count": null,
   "id": "6510e1af",
   "metadata": {},
   "outputs": [],
   "source": [
    "# Merge cistromes (all)\n",
    "from scenicplus.cistromes import *\n",
    "import time\n",
    "start_time = time.time()\n",
    "merge_cistromes(scplus_obj)\n",
    "time = time.time()-start_time\n",
    "print(time/60)"
   ]
  },
  {
   "cell_type": "code",
   "execution_count": null,
   "id": "118e1204",
   "metadata": {},
   "outputs": [],
   "source": [
    "ensembl_version_dict = {'105': 'http://www.ensembl.org',\n",
    "                        '104': 'http://may2021.archive.ensembl.org/',\n",
    "                        '103': 'http://feb2021.archive.ensembl.org/',\n",
    "                        '102': 'http://nov2020.archive.ensembl.org/',\n",
    "                        '101': 'http://aug2020.archive.ensembl.org/',\n",
    "                        '100': 'http://apr2020.archive.ensembl.org/',\n",
    "                        '99': 'http://jan2020.archive.ensembl.org/',\n",
    "                        '98': 'http://sep2019.archive.ensembl.org/',\n",
    "                        '97': 'http://jul2019.archive.ensembl.org/',\n",
    "                        '96': 'http://apr2019.archive.ensembl.org/',\n",
    "                        '95': 'http://jan2019.archive.ensembl.org/',\n",
    "                        '94': 'http://oct2018.archive.ensembl.org/',\n",
    "                        '93': 'http://jul2018.archive.ensembl.org/',\n",
    "                        '92': 'http://apr2018.archive.ensembl.org/',\n",
    "                        '91': 'http://dec2017.archive.ensembl.org/',\n",
    "                        '90': 'http://aug2017.archive.ensembl.org/',\n",
    "                        '89': 'http://may2017.archive.ensembl.org/',\n",
    "                        '88': 'http://mar2017.archive.ensembl.org/',\n",
    "                        '87': 'http://dec2016.archive.ensembl.org/',\n",
    "                        '86': 'http://oct2016.archive.ensembl.org/',\n",
    "                        '80': 'http://may2015.archive.ensembl.org/',\n",
    "                        '77': 'http://oct2014.archive.ensembl.org/',\n",
    "                        '75': 'http://feb2014.archive.ensembl.org/',\n",
    "                        '54': 'http://may2009.archive.ensembl.org/'}\n",
    "\n",
    "import pybiomart as pbm\n",
    "def test_ensembl_host(scplus_obj, host, species):\n",
    "    dataset = pbm.Dataset(name=species+'_gene_ensembl',  host=host)\n",
    "    annot = dataset.query(attributes=['chromosome_name', 'transcription_start_site', 'strand', 'external_gene_name', 'transcript_biotype'])\n",
    "    annot.columns = ['Chromosome', 'Start', 'Strand', 'Gene', 'Transcript_type']\n",
    "    annot['Chromosome'] = annot['Chromosome'].astype('str')\n",
    "    filter = annot['Chromosome'].str.contains('CHR|GL|JH|MT')\n",
    "    annot = annot[~filter]\n",
    "    annot.columns=['Chromosome', 'Start', 'Strand', 'Gene', 'Transcript_type']\n",
    "    gene_names_release = set(annot['Gene'].tolist())\n",
    "    ov=len([x for x in scplus_obj.gene_names if x in gene_names_release])\n",
    "    print('Genes recovered: ' + str(ov) + ' out of ' + str(len(scplus_obj.gene_names)))\n",
    "    return ov\n",
    "\n",
    "n_overlap = {}\n",
    "for version in ensembl_version_dict.keys():\n",
    "    print(f'host: {version}')\n",
    "    try:\n",
    "        n_overlap[version] =  test_ensembl_host(scplus_obj, ensembl_version_dict[version], 'hsapiens')\n",
    "    except:\n",
    "        print('Host not reachable')\n",
    "v = sorted(n_overlap.items(), key=lambda item: item[1], reverse=True)[0][0]\n",
    "print(f\"version: {v} has the largest overlap, use {ensembl_version_dict[v]} as biomart host\")"
   ]
  },
  {
   "cell_type": "code",
   "execution_count": null,
   "id": "7ab837ff",
   "metadata": {},
   "outputs": [],
   "source": [
    "tf_file = '/nfs/team292/vl6/scenicplus/allTFs_hg38.txt'\n",
    "\n",
    "# Open the file in read mode\n",
    "with open(tf_file, 'r') as file:\n",
    "    # Read lines from the file and remove newline characters\n",
    "    tfs = [line.strip() for line in file.readlines()]"
   ]
  },
  {
   "cell_type": "code",
   "execution_count": null,
   "id": "2dc5a6fe",
   "metadata": {},
   "outputs": [],
   "source": [
    "len(tfs)"
   ]
  },
  {
   "cell_type": "code",
   "execution_count": null,
   "id": "479e5199",
   "metadata": {},
   "outputs": [],
   "source": [
    "\"ESRRG\" in tfs"
   ]
  },
  {
   "cell_type": "code",
   "execution_count": null,
   "id": "e1d5f352",
   "metadata": {},
   "outputs": [],
   "source": [
    "# tfs = [t for t in tfs if not t.startswith(\"ZNF\")]"
   ]
  },
  {
   "cell_type": "code",
   "execution_count": null,
   "id": "754ca7cc",
   "metadata": {},
   "outputs": [],
   "source": [
    "# len(tfs)"
   ]
  },
  {
   "cell_type": "code",
   "execution_count": null,
   "id": "cfbed67f",
   "metadata": {},
   "outputs": [],
   "source": [
    "# # Specify the file path\n",
    "# file_path = '/nfs/team292/vl6/scenicplus/nonZNF_TFs_hg38.txt'\n",
    "\n",
    "# # Open the file in write mode\n",
    "# with open(file_path, 'w') as file:\n",
    "#     # Write each element of the list followed by a newline character\n",
    "#     for element in tfs:\n",
    "#         file.write(element + '\\n')"
   ]
  },
  {
   "cell_type": "code",
   "execution_count": null,
   "id": "7e64cbd6",
   "metadata": {},
   "outputs": [],
   "source": [
    "biomart_host = \"http://sep2019.archive.ensembl.org/\""
   ]
  },
  {
   "cell_type": "code",
   "execution_count": null,
   "id": "d2710e9f",
   "metadata": {},
   "outputs": [],
   "source": [
    "from scenicplus.enhancer_to_gene import get_search_space, calculate_regions_to_genes_relationships, GBM_KWARGS\n",
    "get_search_space(scplus_obj,\n",
    "                 biomart_host = biomart_host,\n",
    "                 species = 'hsapiens',\n",
    "                 assembly = 'hg38',\n",
    "                 upstream = [1000, 150000],\n",
    "                 downstream = [1000, 150000])"
   ]
  },
  {
   "cell_type": "code",
   "execution_count": null,
   "id": "7d710d58",
   "metadata": {},
   "outputs": [],
   "source": [
    "calculate_regions_to_genes_relationships(scplus_obj,\n",
    "                    ray_n_cpu = 20,\n",
    "                    #_temp_dir = tmpDir,\n",
    "                    importance_scoring_method = 'GBM',\n",
    "                    importance_scoring_kwargs = GBM_KWARGS)"
   ]
  },
  {
   "cell_type": "code",
   "execution_count": null,
   "id": "bb105de8",
   "metadata": {},
   "outputs": [],
   "source": [
    "# Save\n",
    "import pickle\n",
    "with open(outDir + 'scplus_obj.pkl', 'wb') as f:\n",
    "  pickle.dump(scplus_obj, f)"
   ]
  },
  {
   "cell_type": "code",
   "execution_count": null,
   "id": "22b9a5bd",
   "metadata": {},
   "outputs": [],
   "source": [
    "import pickle\n",
    "infile = open(outDir + 'scplus_obj.pkl', 'rb')\n",
    "scplus_obj = pickle.load(infile)\n",
    "infile.close()"
   ]
  },
  {
   "cell_type": "code",
   "execution_count": null,
   "id": "37b20fb6",
   "metadata": {},
   "outputs": [],
   "source": [
    "print(scplus_obj)"
   ]
  },
  {
   "cell_type": "code",
   "execution_count": null,
   "id": "c87de5b3",
   "metadata": {},
   "outputs": [],
   "source": [
    "scplus_obj.uns.keys()"
   ]
  },
  {
   "cell_type": "code",
   "execution_count": null,
   "id": "2cdd2d69",
   "metadata": {},
   "outputs": [],
   "source": [
    "def timestamp(dt):\n",
    "    return f\"{dt.year}{dt.month}{dt.day}_{dt.hour}{dt.minute}{dt.second}\""
   ]
  },
  {
   "cell_type": "code",
   "execution_count": null,
   "id": "7bfe0652",
   "metadata": {},
   "outputs": [],
   "source": [
    "\"\"\"Link transcription factors (TFs) to genes based on co-expression of TF and target genes.\n",
    "\n",
    "Both linear methods (spearman or pearson correlation) and non-linear methods (random forrest or gradient boosting) are used to link TF to genes.\n",
    "\n",
    "The correlation methods are used to seperate TFs which are infered to have a positive influence on gene expression (i.e. positive correlation) \n",
    "and TFs which are infered to have a negative influence on gene expression (i.e. negative correlation).\n",
    "\n",
    "\"\"\"\n",
    "\n",
    "\n",
    "import logging\n",
    "import os\n",
    "import shutil\n",
    "import sys\n",
    "import tempfile\n",
    "import time\n",
    "from datetime import datetime\n",
    "\n",
    "import joblib\n",
    "import numpy as np\n",
    "import pandas as pd\n",
    "import scipy.sparse\n",
    "from arboreto.algo import _prepare_input\n",
    "from arboreto.core import (EARLY_STOP_WINDOW_LENGTH, RF_KWARGS, SGBM_KWARGS,\n",
    "                           infer_partial_network, to_tf_matrix)\n",
    "from arboreto.utils import load_tf_names\n",
    "from tqdm import tqdm\n",
    "\n",
    "from scenicplus.scenicplus_class import SCENICPLUS\n",
    "from scenicplus.utils import _create_idx_pairs, masked_rho4pairs\n",
    "\n",
    "COLUMN_NAME_TARGET = \"target\"\n",
    "COLUMN_NAME_WEIGHT = \"importance\"\n",
    "COLUMN_NAME_REGULATION = \"regulation\"\n",
    "COLUMN_NAME_CORRELATION = \"rho\"\n",
    "COLUMN_NAME_TF = \"TF\"\n",
    "COLUMN_NAME_SCORE_1 = \"importance_x_rho\"\n",
    "COLUMN_NAME_SCORE_2 = \"importance_x_abs_rho\"\n",
    "RHO_THRESHOLD = 0.03\n",
    "\n",
    "# Create logger\n",
    "level = logging.INFO\n",
    "format = '%(asctime)s %(name)-12s %(levelname)-8s %(message)s'\n",
    "handlers = [logging.StreamHandler(stream=sys.stdout)]\n",
    "logging.basicConfig(level=level, format=format, handlers=handlers)\n",
    "log = logging.getLogger('TF2G')\n",
    "\n",
    "def _inject_TF_as_its_own_target(\n",
    "    scplus_obj: SCENICPLUS = None,\n",
    "    TF2G_adj: pd.DataFrame = None, \n",
    "    ex_mtx: pd.DataFrame = None,\n",
    "    rho_threshold = RHO_THRESHOLD, \n",
    "    TF2G_key = 'TF2G_adj', \n",
    "    out_key = 'TF2G_adj',\n",
    "    inplace = True,\n",
    "    increase_importance_by = 0.00001) -> pd.DataFrame:\n",
    "    if scplus_obj is None and TF2G_adj is None:\n",
    "        raise ValueError('Either provide a SCENIC+ object of a pd.DataFrame with TF to gene adjecencies!')\n",
    "    if scplus_obj is not None and TF2G_adj is not None:\n",
    "        raise ValueError('Either provide a SCENIC+ object of a pd.DataFrame with TF to gene adjecencies! Not both!')\n",
    "\n",
    "    log.info(f\"Warning: adding TFs as their own target to adjecencies matrix. Importance values will be max + {increase_importance_by}\")\n",
    "    \n",
    "    origin_TF2G_adj = scplus_obj.uns[TF2G_key] if scplus_obj is not None else TF2G_adj\n",
    "    ex_mtx = scplus_obj.to_df(layer='EXP') if scplus_obj is not None else ex_mtx\n",
    "\n",
    "    origin_TF2G_adj = origin_TF2G_adj.sort_values('TF')\n",
    "    max_importances = origin_TF2G_adj.groupby('TF').max()['importance']\n",
    "\n",
    "    TFs_in_adj = list(set(origin_TF2G_adj['TF'].to_list()))\n",
    "    TF_to_TF_adj = pd.DataFrame(\n",
    "                    data = {\"TF\": TFs_in_adj,\n",
    "                            \"target\": TFs_in_adj,\n",
    "                            \"importance\": max_importances.loc[TFs_in_adj] + increase_importance_by})\n",
    "    TF_to_TF_adj = _add_correlation(\n",
    "            adjacencies=TF_to_TF_adj,\n",
    "            ex_mtx = ex_mtx,\n",
    "            rho_threshold=rho_threshold)\n",
    "\n",
    "    new_TF2G_adj = pd.concat([origin_TF2G_adj, TF_to_TF_adj]).reset_index(drop = True)\n",
    "    if inplace:\n",
    "        scplus_obj.uns[out_key] = new_TF2G_adj\n",
    "        return None\n",
    "    else:\n",
    "        return new_TF2G_adj\n",
    "\n",
    "\n",
    "def load_TF2G_adj_from_file(SCENICPLUS_obj: SCENICPLUS,\n",
    "                            f_adj: str,\n",
    "                            inplace=True,\n",
    "                            key='TF2G_adj',\n",
    "                            rho_threshold=RHO_THRESHOLD):\n",
    "    \"\"\"\n",
    "    Function to load TF2G adjacencies from file\n",
    "\n",
    "    Parameters\n",
    "    ----------\n",
    "    SCENICPLUS_obj\n",
    "        An instance of :class:`~scenicplus.scenicplus_class.SCENICPLUS`\n",
    "    f_adj\n",
    "        File path to TF2G adjacencies matrix\n",
    "    inplace\n",
    "        Boolean specifying wether or not to store adjacencies matrix in `SCENICPLUS_obj` under slot .uns[key].\n",
    "        Default: True\n",
    "    key_added\n",
    "        String specifying where in the .uns slot to store the adjacencies matrix in `SCENICPLUS_obj`\n",
    "        Default: \"TF2G_adj\"\n",
    "    rho_threshold\n",
    "        A floating point number specifying from which absolute value to consider a correlation coefficient positive or negative.\n",
    "        Default: 0.03\n",
    "    \"\"\"\n",
    "    log.info(f'Reading file: {f_adj}')\n",
    "    df_TF_gene_adj = pd.read_csv(f_adj, sep='\\t')\n",
    "    # only keep relevant entries\n",
    "    idx_to_keep = np.logical_and(np.array([tf in SCENICPLUS_obj.gene_names for tf in df_TF_gene_adj['TF']]),\n",
    "                                 np.array([gene in SCENICPLUS_obj.gene_names for gene in df_TF_gene_adj['target']]))\n",
    "    df_TF_gene_adj_subset = df_TF_gene_adj.loc[idx_to_keep]\n",
    "    if COLUMN_NAME_CORRELATION not in df_TF_gene_adj_subset.columns:\n",
    "        log.info('Adding correlation coefficients to adjacencies.')\n",
    "        df_TF_gene_adj_subset = _add_correlation(\n",
    "            adjacencies=df_TF_gene_adj_subset,\n",
    "            ex_mtx=SCENICPLUS_obj.to_df(layer='EXP'),\n",
    "            rho_threshold=rho_threshold)\n",
    "    df_TF_gene_adj_subset = _inject_TF_as_its_own_target(\n",
    "        TF2G_adj=df_TF_gene_adj_subset, \n",
    "        inplace = False, \n",
    "        ex_mtx = SCENICPLUS_obj.to_df(layer='EXP'))\n",
    "    if COLUMN_NAME_SCORE_1 not in df_TF_gene_adj_subset.columns:\n",
    "        log.info('Adding importance x rho scores to adjacencies.')\n",
    "        df_TF_gene_adj_subset[COLUMN_NAME_SCORE_1] = df_TF_gene_adj_subset[COLUMN_NAME_CORRELATION] * \\\n",
    "            df_TF_gene_adj_subset[COLUMN_NAME_WEIGHT]\n",
    "    if COLUMN_NAME_SCORE_2 not in df_TF_gene_adj_subset.columns:\n",
    "        log.info('Adding importance x |rho| scores to adjacencies.')\n",
    "        df_TF_gene_adj_subset[COLUMN_NAME_SCORE_2] = abs(\n",
    "            df_TF_gene_adj_subset[COLUMN_NAME_CORRELATION]) * abs(df_TF_gene_adj_subset[COLUMN_NAME_WEIGHT])\n",
    "\n",
    "    if inplace:\n",
    "        log.info(f'Storing adjacencies in .uns[\"{key}\"].')\n",
    "        SCENICPLUS_obj.uns[key] = df_TF_gene_adj_subset\n",
    "    else:\n",
    "        return df_TF_gene_adj_subset\n",
    "\n",
    "\n",
    "def _add_correlation(\n",
    "        adjacencies: pd.DataFrame,\n",
    "        ex_mtx: pd.DataFrame,\n",
    "        rho_threshold=RHO_THRESHOLD,\n",
    "        mask_dropouts=False):\n",
    "    \"\"\"\n",
    "    Add correlation in expression levels between target and factor.\n",
    "\n",
    "    Parameters\n",
    "    ----------\n",
    "    adjacencies: pd.DataFrame\n",
    "        The dataframe with the TF-target links.\n",
    "    ex_mtx: pd.DataFrame\n",
    "        The expression matrix (n_cells x n_genes).\n",
    "    rho_threshold: float\n",
    "        The threshold on the correlation to decide if a target gene is activated\n",
    "        (rho > `rho_threshold`) or repressed (rho < -`rho_threshold`).\n",
    "    mask_dropouts: boolean\n",
    "        Do not use cells in which either the expression of the TF or the target gene is 0 when\n",
    "        calculating the correlation between a TF-target pair.\n",
    "\n",
    "    Returns\n",
    "    -------\n",
    "        The adjacencies dataframe with an extra column.\n",
    "    \"\"\"\n",
    "    assert rho_threshold > 0, \"rho_threshold should be greater than 0.\"\n",
    "\n",
    "    # Calculate Pearson correlation to infer repression or activation.\n",
    "    if mask_dropouts:\n",
    "        ex_mtx = ex_mtx.sort_index(axis=1)\n",
    "        col_idx_pairs = _create_idx_pairs(adjacencies, ex_mtx)\n",
    "        rhos = masked_rho4pairs(ex_mtx.values, col_idx_pairs, 0.0)\n",
    "    else:\n",
    "        genes = list(set(adjacencies[COLUMN_NAME_TF]).union(\n",
    "            set(adjacencies[COLUMN_NAME_TARGET])))\n",
    "        ex_mtx = ex_mtx[ex_mtx.columns[ex_mtx.columns.isin(genes)]]\n",
    "        corr_mtx = pd.DataFrame(\n",
    "            index=ex_mtx.columns, columns=ex_mtx.columns, data=np.corrcoef(ex_mtx.values.T))\n",
    "        rhos = np.array([corr_mtx[s2][s1]\n",
    "                        for s1, s2 in zip(adjacencies.TF, adjacencies.target)])\n",
    "\n",
    "    regulations = (rhos > rho_threshold).astype(\n",
    "        int) - (rhos < -rho_threshold).astype(int)\n",
    "    return pd.DataFrame(\n",
    "        data={\n",
    "            COLUMN_NAME_TF: adjacencies[COLUMN_NAME_TF].values,\n",
    "            COLUMN_NAME_TARGET: adjacencies[COLUMN_NAME_TARGET].values,\n",
    "            COLUMN_NAME_WEIGHT: adjacencies[COLUMN_NAME_WEIGHT].values,\n",
    "            COLUMN_NAME_REGULATION: regulations,\n",
    "            COLUMN_NAME_CORRELATION: rhos,\n",
    "        }\n",
    "    )\n",
    "\n",
    "def calculate_TFs_to_genes_relationships(scplus_obj: SCENICPLUS,\n",
    "                                         tf_file: str,\n",
    "                                         method: str = 'GBM',\n",
    "                                         n_cpu: int = 1,\n",
    "                                         key: str = 'TF2G_adj',\n",
    "                                         temp_dir = None):\n",
    "    \"\"\"\n",
    "    A function to calculate TF to gene relationships using arboreto and correlation\n",
    "\n",
    "    Parameters\n",
    "    ----------\n",
    "    scplus_obj\n",
    "        An instance of :class:`~scenicplus.scenicplus_class.SCENICPLUS`\n",
    "    tf_file\n",
    "        Path to a file specifying with genes are TFs\n",
    "    method\n",
    "        Whether to use Gradient Boosting Machines (GBM) or random forest (RF)\n",
    "    n_cpu\n",
    "        Number of cpus to use\n",
    "    key\n",
    "        String specifying where in the .uns slot to store the adjacencies matrix in :param:`SCENICPLUS_obj`\n",
    "        default: \"TF2G_adj\"\n",
    "    **kwargs\n",
    "        Parameters to pass to ray.init\n",
    "    \"\"\"\n",
    "\n",
    "    if(method == 'GBM'):\n",
    "        method_params = [\n",
    "            'GBM',      # regressor_type\n",
    "            SGBM_KWARGS  # regressor_kwargs\n",
    "        ]\n",
    "    elif(method == 'RF'):\n",
    "        method_params = [\n",
    "            'RF',       # regressor_type\n",
    "            RF_KWARGS   # regressor_kwargs\n",
    "        ]\n",
    "\n",
    "    gene_names = list(scplus_obj.gene_names)\n",
    "    if len(set(gene_names)) != len(gene_names):\n",
    "        raise ValueError(\"scplus_obj contains duplicate gene names!\")\n",
    "    ex_matrix = scplus_obj.X_EXP\n",
    "\n",
    "    tf_names = load_tf_names(tf_file)\n",
    "    ex_matrix, gene_names, tf_names = _prepare_input(\n",
    "        ex_matrix, gene_names, tf_names)\n",
    "    tf_matrix, tf_matrix_gene_names = to_tf_matrix(\n",
    "        ex_matrix, gene_names, tf_names)\n",
    "    \n",
    "    #convert ex_matrix, tf_matrix to np.array if necessary\n",
    "    if isinstance(ex_matrix, np.matrix):\n",
    "        ex_matrix = np.array(ex_matrix)\n",
    "    elif scipy.sparse.issparse(ex_matrix):\n",
    "        ex_matrix = ex_matrix.toarray()\n",
    "        \n",
    "    if isinstance(tf_matrix, np.matrix):\n",
    "        tf_matrix = np.array(tf_matrix)\n",
    "    elif scipy.sparse.issparse(tf_matrix):\n",
    "        tf_matrix = tf_matrix.toarray()\n",
    "\n",
    "    log.info('Calculating TF-to-gene importance')\n",
    "    start_time = time.time()\n",
    "\n",
    "    if temp_dir is None:\n",
    "        if os.access('/dev/shm', os.W_OK):\n",
    "            temp_dir = '/dev/shm'\n",
    "        else:\n",
    "            temp_dir = tempfile.gettempdir()\n",
    "\n",
    "    dt = datetime.now()\n",
    "    joblib.dump(\n",
    "        ex_matrix, \n",
    "        os.path.join(temp_dir, f'scenicplus_ex_matrix_{timestamp(dt)}'))\n",
    "    joblib.dump(\n",
    "        tf_matrix,\n",
    "        os.path.join(temp_dir, f'scenicplus_tf_matrix_{timestamp(dt)}'))\n",
    "    ex_matrix_memmap = joblib.load(\n",
    "        os.path.join(temp_dir, f'scenicplus_ex_matrix_{timestamp(dt)}'),\n",
    "        mmap_mode = 'r')\n",
    "    tf_matrix_memmap = joblib.load(\n",
    "        os.path.join(temp_dir, f'scenicplus_tf_matrix_{timestamp(dt)}'),\n",
    "        mmap_mode = 'r')\n",
    "        \n",
    "    def pf_inter_partial_network(target_gene_name):\n",
    "        return infer_partial_network(\n",
    "            target_gene_name = target_gene_name,\n",
    "            target_gene_expression = ex_matrix_memmap[\n",
    "                :, gene_names.index(target_gene_name)],\n",
    "            regressor_type = method_params[0],\n",
    "            regressor_kwargs = method_params[1],\n",
    "            tf_matrix = tf_matrix_memmap,\n",
    "            tf_matrix_gene_names = tf_matrix_gene_names,\n",
    "            include_meta = False,\n",
    "            early_stop_window_length = EARLY_STOP_WINDOW_LENGTH,\n",
    "            seed = 666)\n",
    "    def clean_shared_memory():\n",
    "        os.remove(os.path.join(temp_dir, f'scenicplus_ex_matrix_{timestamp(dt)}'))\n",
    "        os.remove(os.path.join(temp_dir, f'scenicplus_tf_matrix_{timestamp(dt)}'))\n",
    "        \n",
    "    try:\n",
    "        TF_to_genes = joblib.Parallel(\n",
    "            n_jobs = n_cpu)(\n",
    "                joblib.delayed(pf_inter_partial_network)(gene)\n",
    "                for gene in tqdm(\n",
    "                    gene_names, \n",
    "                    total=len(gene_names), \n",
    "                    desc=f'Running using {n_cpu} cores'))\n",
    "    except Exception as e:\n",
    "        clean_shared_memory()\n",
    "        raise Exception(e)\n",
    "    finally:\n",
    "        clean_shared_memory()\n",
    "    adj = pd.concat(TF_to_genes).sort_values(by='importance', ascending=False)\n",
    "    log.info('Took {} seconds'.format(time.time() - start_time))\n",
    "    start_time = time.time()\n",
    "    log.info('Adding correlation coefficients to adjacencies.')\n",
    "    ex_matrix = scplus_obj.to_df(layer = 'EXP') \n",
    "    adj = _add_correlation(adj, ex_matrix)\n",
    "    adj = _inject_TF_as_its_own_target(\n",
    "        TF2G_adj=adj, \n",
    "        inplace = False, \n",
    "        ex_mtx = scplus_obj.to_df(layer='EXP'))\n",
    "    log.info('Adding importance x rho scores to adjacencies.')\n",
    "    adj[COLUMN_NAME_SCORE_1] = adj[COLUMN_NAME_CORRELATION] * \\\n",
    "        adj[COLUMN_NAME_WEIGHT]\n",
    "    adj[COLUMN_NAME_SCORE_2] = abs(\n",
    "        adj[COLUMN_NAME_CORRELATION]) * abs(adj[COLUMN_NAME_WEIGHT])\n",
    "    log.info('Took {} seconds'.format(time.time() - start_time))\n",
    "    scplus_obj.uns[key] = adj"
   ]
  },
  {
   "cell_type": "code",
   "execution_count": null,
   "id": "2211c75f",
   "metadata": {},
   "outputs": [],
   "source": [
    "#from scenicplus.TF_to_gene import *\n",
    "tf_file = '/nfs/team292/vl6/scenicplus/allTFs_hg38.txt'\n",
    "calculate_TFs_to_genes_relationships(scplus_obj,\n",
    "                    tf_file = tf_file,\n",
    "                    n_cpu = 20,\n",
    "                    method = 'GBM',\n",
    "                    key= 'TF2G_adj')"
   ]
  },
  {
   "cell_type": "code",
   "execution_count": null,
   "id": "fa84d14d",
   "metadata": {},
   "outputs": [],
   "source": [
    "# Save\n",
    "import pickle\n",
    "with open(outDir + 'scplus_obj.pkl', 'wb') as f:\n",
    "  pickle.dump(scplus_obj, f)"
   ]
  },
  {
   "cell_type": "code",
   "execution_count": null,
   "id": "f2f242cb",
   "metadata": {},
   "outputs": [],
   "source": [
    "import pickle\n",
    "infile = open(outDir + 'scplus_obj.pkl', 'rb')\n",
    "scplus_obj = pickle.load(infile)\n",
    "infile.close()"
   ]
  },
  {
   "cell_type": "code",
   "execution_count": null,
   "id": "78bdb8da",
   "metadata": {},
   "outputs": [],
   "source": [
    "outDir"
   ]
  },
  {
   "cell_type": "code",
   "execution_count": null,
   "id": "5c8d5a27",
   "metadata": {},
   "outputs": [],
   "source": [
    "scplus_obj.uns"
   ]
  },
  {
   "cell_type": "code",
   "execution_count": null,
   "id": "c7e29a7c",
   "metadata": {},
   "outputs": [],
   "source": [
    "from scenicplus.plotting import coverageplot"
   ]
  },
  {
   "cell_type": "code",
   "execution_count": null,
   "id": "84aefade",
   "metadata": {},
   "outputs": [],
   "source": [
    "outDir"
   ]
  },
  {
   "cell_type": "markdown",
   "id": "d5e1ed55",
   "metadata": {},
   "source": [
    "### Integrated multiome plot - haven't yet implemented this\n",
    "\n",
    "Generate plots showing the chromatin profiles per group, region-to-gene relationships and TF and gene expression to test hypothesis: \n",
    "\n",
    " * As the Mullerian epithelium can change identity based on the surrounding mesenchyme, we can see if the genes associated with Fallopian Tube identity are accessible despite not being expressed in the Uterus (and viceversa)\n",
    " \n",
    " * As the Wolffian epithelium can change identity based on the surrounding mesenchyme, we can see if the genes associated with Epididymis identity are accessible despite not being expressed in the Uterus (and viceversa)"
   ]
  },
  {
   "cell_type": "markdown",
   "id": "40fc2ecf",
   "metadata": {},
   "source": [
    "**Genes of interest** \n",
    "\n",
    "* **DLX5** (uterus) = chr7:97,020,396-97,024,831\n",
    "* **ERP27** (fallopian tube) = chr12:14,914,039-14,938,537\n",
    "* **MSX1** (uterus) = chr4:4,859,665-4,863,936\n",
    "* **WNT11** (uterus) = chr11:76,186,325-76,206,502\n",
    "* **EMX1** (wolffian) = chr2:72,917,519-72,934,891\n",
    "* **MARCH11** (wolffian) = \n",
    "* **CALB1** (wolffian) = chr8:90,063,299-90,095,475\n",
    "* **AVPR1A** (wolffian) = chr12:63,142,759-63,151,201\n",
    "* **LEFTY1** (vas deferens) = chr1:225,886,282-225,889,146\n",
    "* **CLDN2** (epididymis) = chrX:106,900,164-106,929,580\n",
    "* **GLYAT** (epididymis) = chr11:58,708,757-58,731,943\n",
    "* **SPAG11B** (epididymis) = chr8:7,450,603-7,463,542\n",
    "* **SPINK2** (epididymis) = chr4:56,809,861-56,821,742\n",
    "* **MGAM** (epididymis) = chr7:141,995,879-142,106,747\n"
   ]
  },
  {
   "cell_type": "code",
   "execution_count": null,
   "id": "7f7a13bc",
   "metadata": {},
   "outputs": [],
   "source": [
    "scplus_obj.uns.keys()"
   ]
  },
  {
   "cell_type": "code",
   "execution_count": null,
   "id": "a9bbe5a9",
   "metadata": {},
   "outputs": [],
   "source": [
    "# Load functions\n",
    "from scenicplus.grn_builder.gsea_approach3 import build_grn"
   ]
  },
  {
   "cell_type": "code",
   "execution_count": null,
   "id": "d6640bd3",
   "metadata": {},
   "outputs": [],
   "source": [
    "build_grn"
   ]
  },
  {
   "cell_type": "code",
   "execution_count": null,
   "id": "e3c16301",
   "metadata": {},
   "outputs": [],
   "source": [
    "build_grn(scplus_obj,\n",
    "         min_target_genes = 10,\n",
    "         adj_pval_thr = 1,\n",
    "         min_regions_per_gene = 0,\n",
    "         quantiles = (0.85, 0.90, 0.95),\n",
    "         top_n_regionTogenes_per_gene = (5, 10, 15),\n",
    "         top_n_regionTogenes_per_region = (),\n",
    "         binarize_using_basc = True,\n",
    "         rho_dichotomize_tf2g = True,\n",
    "         rho_dichotomize_r2g = True,\n",
    "         rho_dichotomize_eregulon = True,\n",
    "         rho_threshold = 0.05,\n",
    "         keep_extended_motif_annot = True,\n",
    "         merge_eRegulons = True,\n",
    "         order_regions_to_genes_by = 'importance',\n",
    "         order_TFs_to_genes_by = 'importance',\n",
    "         key_added = 'eRegulons_importance',\n",
    "         cistromes_key = 'Unfiltered',\n",
    "         disable_tqdm = False, #If running in notebook, set to True\n",
    "         ray_n_cpu = 20,\n",
    "         #_temp_dir = '/lustre/scratch117/cellgen/team292/vl6/'\n",
    "         )"
   ]
  },
  {
   "cell_type": "code",
   "execution_count": null,
   "id": "c032df5f",
   "metadata": {},
   "outputs": [],
   "source": [
    "import dill\n",
    "with open(outDir + 'scplus_obj2.pkl', 'wb') as f:\n",
    "  dill.dump(scplus_obj, f)"
   ]
  },
  {
   "cell_type": "code",
   "execution_count": null,
   "id": "1c6d8fec",
   "metadata": {},
   "outputs": [],
   "source": [
    "3+4"
   ]
  },
  {
   "cell_type": "code",
   "execution_count": null,
   "id": "67c95278",
   "metadata": {},
   "outputs": [],
   "source": [
    "import dill\n",
    "infile = open(outDir + 'scplus_obj2.pkl', 'rb')\n",
    "scplus_obj = dill.load(infile)\n",
    "infile.close()"
   ]
  },
  {
   "cell_type": "code",
   "execution_count": null,
   "id": "ccbf081d",
   "metadata": {},
   "outputs": [],
   "source": [
    "print(scplus_obj)"
   ]
  },
  {
   "cell_type": "code",
   "execution_count": null,
   "id": "7e026530",
   "metadata": {},
   "outputs": [],
   "source": [
    "scplus_obj.uns.keys()"
   ]
  },
  {
   "cell_type": "code",
   "execution_count": null,
   "id": "cc349fd3",
   "metadata": {},
   "outputs": [],
   "source": [
    "from scenicplus.utils import format_egrns\n",
    "format_egrns(scplus_obj, eregulons_key = 'eRegulons_importance', TF2G_key = 'TF2G_adj', key_added = 'eRegulon_metadata')\n"
   ]
  },
  {
   "cell_type": "code",
   "execution_count": null,
   "id": "abf17f44",
   "metadata": {},
   "outputs": [],
   "source": [
    "scplus_obj.uns['eRegulon_metadata'][40:50]\n"
   ]
  },
  {
   "cell_type": "code",
   "execution_count": null,
   "id": "898e5f0f",
   "metadata": {},
   "outputs": [],
   "source": [
    "len(scplus_obj.uns['eRegulons_importance'])"
   ]
  },
  {
   "cell_type": "code",
   "execution_count": null,
   "id": "037cc887",
   "metadata": {},
   "outputs": [],
   "source": [
    "# Format eRegulons\n",
    "from scenicplus.eregulon_enrichment import *\n",
    "get_eRegulons_as_signatures(scplus_obj, eRegulon_metadata_key='eRegulon_metadata', key_added='eRegulon_signatures')"
   ]
  },
  {
   "cell_type": "code",
   "execution_count": null,
   "id": "e3fee5d3",
   "metadata": {},
   "outputs": [],
   "source": [
    "## Score chromatin layer\n",
    "# Region based raking\n",
    "from scenicplus.cistromes import *\n",
    "import time\n",
    "start_time = time.time()\n",
    "region_ranking = make_rankings(scplus_obj, target='region')\n",
    "# Score region regulons\n",
    "score_eRegulons(scplus_obj,\n",
    "                ranking = region_ranking,\n",
    "                eRegulon_signatures_key = 'eRegulon_signatures',\n",
    "                key_added = 'eRegulon_AUC',\n",
    "                enrichment_type= 'region',\n",
    "                auc_threshold = 0.05,\n",
    "                normalize = False,\n",
    "                n_cpu = 10)\n",
    "time = time.time()-start_time\n",
    "print(time/60)"
   ]
  },
  {
   "cell_type": "code",
   "execution_count": null,
   "id": "2ab5a64c",
   "metadata": {},
   "outputs": [],
   "source": [
    "## Score transcriptome layer\n",
    "# Gene based raking\n",
    "from scenicplus.cistromes import *\n",
    "import time\n",
    "start_time = time.time()\n",
    "gene_ranking = make_rankings(scplus_obj, target='gene')\n",
    "# Score gene regulons\n",
    "score_eRegulons(scplus_obj,\n",
    "                gene_ranking,\n",
    "                eRegulon_signatures_key = 'eRegulon_signatures',\n",
    "                key_added = 'eRegulon_AUC',\n",
    "                enrichment_type = 'gene',\n",
    "                auc_threshold = 0.05,\n",
    "                normalize= False,\n",
    "                n_cpu = 10)\n",
    "time = time.time()-start_time\n",
    "print(time/60)"
   ]
  },
  {
   "cell_type": "code",
   "execution_count": null,
   "id": "b0fee59c",
   "metadata": {},
   "outputs": [],
   "source": [
    "# Generate pseudobulks\n",
    "import time\n",
    "start_time = time.time()\n",
    "generate_pseudobulks(scplus_obj,\n",
    "                         variable = 'mese_mullerian_lowres',\n",
    "                         auc_key = 'eRegulon_AUC',\n",
    "                         signature_key = 'Gene_based',\n",
    "                         nr_cells = 5,\n",
    "                         nr_pseudobulks = 100,\n",
    "                         seed=555)\n",
    "generate_pseudobulks(scplus_obj,\n",
    "                         variable = 'mese_mullerian_lowres',\n",
    "                         auc_key = 'eRegulon_AUC',\n",
    "                         signature_key = 'Region_based',\n",
    "                         nr_cells = 5,\n",
    "                         nr_pseudobulks = 100,\n",
    "                         seed=555)\n",
    "time = time.time()-start_time\n",
    "print(time/60)"
   ]
  },
  {
   "cell_type": "code",
   "execution_count": null,
   "id": "44c54426",
   "metadata": {},
   "outputs": [],
   "source": [
    "# Correlation between TF and eRegulons\n",
    "import time\n",
    "start_time = time.time()\n",
    "TF_cistrome_correlation(scplus_obj,\n",
    "                        variable = 'mese_mullerian_lowres',\n",
    "                        auc_key = 'eRegulon_AUC',\n",
    "                        signature_key = 'Gene_based',\n",
    "                        out_key = 'mese_mullerian_lowres_eGRN_gene_based')\n",
    "TF_cistrome_correlation(scplus_obj,\n",
    "                        variable = 'mese_mullerian_lowres',\n",
    "                        auc_key = 'eRegulon_AUC',\n",
    "                        signature_key = 'Region_based',\n",
    "                        out_key = 'mese_mullerian_lowres_eGRN_region_based')\n",
    "time = time.time()-start_time\n",
    "print(time/60)"
   ]
  },
  {
   "cell_type": "code",
   "execution_count": null,
   "id": "f7a82908",
   "metadata": {},
   "outputs": [],
   "source": [
    "scplus_obj"
   ]
  },
  {
   "cell_type": "code",
   "execution_count": null,
   "id": "07681602",
   "metadata": {},
   "outputs": [],
   "source": [
    "color_dict = {'FallopianMese': 'orange',\n",
    " 'UterusMese': 'orangered',\n",
    " 'CervixMese': 'palevioletred',\n",
    " 'UpperVaginaMese': 'lightpink'}"
   ]
  },
  {
   "cell_type": "code",
   "execution_count": null,
   "id": "1acb825a",
   "metadata": {},
   "outputs": [],
   "source": [
    "# Region based\n",
    "%matplotlib inline\n",
    "import seaborn as sns\n",
    "sns.set_style(\"white\")\n",
    "categories = sorted(set(scplus_obj.metadata_cell['mese_mullerian_lowres']))\n",
    "print(categories)\n",
    "print(color_dict)\n",
    "prune_plot(scplus_obj,\n",
    "           'HOXA10_+_+',\n",
    "           pseudobulk_variable = 'mese_mullerian_lowres',\n",
    "           show_dot_plot = True,\n",
    "           show_line_plot = False,\n",
    "           color_dict = color_dict,\n",
    "           use_pseudobulk = True,\n",
    "           auc_key = 'eRegulon_AUC',\n",
    "           signature_key = 'Region_based',\n",
    "           seed=555)"
   ]
  },
  {
   "cell_type": "code",
   "execution_count": null,
   "id": "acf2dae8",
   "metadata": {},
   "outputs": [],
   "source": [
    "# Gene based\n",
    "%matplotlib inline\n",
    "sns.set_style(\"white\")\n",
    "\n",
    "prune_plot(scplus_obj,\n",
    "           'HOXA10_+_+',\n",
    "           pseudobulk_variable = 'mese_mullerian_lowres',\n",
    "           show_dot_plot = True,\n",
    "           show_line_plot = False,\n",
    "           color_dict = color_dict,\n",
    "           use_pseudobulk = True,\n",
    "           auc_key = 'eRegulon_AUC',\n",
    "           signature_key = 'Gene_based',\n",
    "           seed=555)"
   ]
  },
  {
   "cell_type": "code",
   "execution_count": null,
   "id": "c2b55991",
   "metadata": {},
   "outputs": [],
   "source": [
    "# Region based\n",
    "%matplotlib inline\n",
    "import seaborn as sns\n",
    "sns.set_style(\"white\")\n",
    "categories = sorted(set(scplus_obj.metadata_cell['mese_mullerian_lowres']))\n",
    "print(categories)\n",
    "print(color_dict)\n",
    "prune_plot(scplus_obj,\n",
    "           'HOXC8_+_+',\n",
    "           pseudobulk_variable = 'mese_mullerian_lowres',\n",
    "           show_dot_plot = True,\n",
    "           show_line_plot = False,\n",
    "           color_dict = color_dict,\n",
    "           use_pseudobulk = True,\n",
    "           auc_key = 'eRegulon_AUC',\n",
    "           signature_key = 'Region_based',\n",
    "           seed=555)"
   ]
  },
  {
   "cell_type": "code",
   "execution_count": null,
   "id": "4218b5eb",
   "metadata": {},
   "outputs": [],
   "source": [
    "# Region based\n",
    "%matplotlib inline\n",
    "import seaborn as sns\n",
    "sns.set_style(\"white\")\n",
    "categories = sorted(set(scplus_obj.metadata_cell['mese_mullerian_lowres']))\n",
    "print(categories)\n",
    "print(color_dict)\n",
    "prune_plot(scplus_obj,\n",
    "           'HOXC8_+_+',\n",
    "           pseudobulk_variable = 'mese_mullerian_lowres',\n",
    "           show_dot_plot = True,\n",
    "           show_line_plot = False,\n",
    "           color_dict = color_dict,\n",
    "           use_pseudobulk = True,\n",
    "           auc_key = 'eRegulon_AUC',\n",
    "           signature_key = 'Gene_based',\n",
    "           seed=555)"
   ]
  },
  {
   "cell_type": "code",
   "execution_count": null,
   "id": "1ba23533",
   "metadata": {},
   "outputs": [],
   "source": [
    "# Region based\n",
    "%matplotlib inline\n",
    "import seaborn as sns\n",
    "sns.set_style(\"white\")\n",
    "categories = sorted(set(scplus_obj.metadata_cell['mese_mullerian_lowres']))\n",
    "print(categories)\n",
    "print(color_dict)\n",
    "prune_plot(scplus_obj,\n",
    "           'HOXC6_+_+',\n",
    "           pseudobulk_variable = 'mese_mullerian_lowres',\n",
    "           show_dot_plot = True,\n",
    "           show_line_plot = False,\n",
    "           color_dict = color_dict,\n",
    "           use_pseudobulk = True,\n",
    "           auc_key = 'eRegulon_AUC',\n",
    "           signature_key = 'Region_based',\n",
    "           seed=555)"
   ]
  },
  {
   "cell_type": "code",
   "execution_count": null,
   "id": "300742bc",
   "metadata": {},
   "outputs": [],
   "source": [
    "# Region based\n",
    "%matplotlib inline\n",
    "import seaborn as sns\n",
    "sns.set_style(\"white\")\n",
    "categories = sorted(set(scplus_obj.metadata_cell['mese_mullerian_lowres']))\n",
    "print(categories)\n",
    "print(color_dict)\n",
    "prune_plot(scplus_obj,\n",
    "           'HOXC6_+_+',\n",
    "           pseudobulk_variable = 'mese_mullerian_lowres',\n",
    "           show_dot_plot = True,\n",
    "           show_line_plot = False,\n",
    "           color_dict = color_dict,\n",
    "           use_pseudobulk = True,\n",
    "           auc_key = 'eRegulon_AUC',\n",
    "           signature_key = 'Gene_based',\n",
    "           seed=555)"
   ]
  },
  {
   "cell_type": "code",
   "execution_count": null,
   "id": "ec2d8d26",
   "metadata": {},
   "outputs": [],
   "source": [
    "# Region based\n",
    "%matplotlib inline\n",
    "import seaborn as sns\n",
    "sns.set_style(\"white\")\n",
    "categories = sorted(set(scplus_obj.metadata_cell['mese_mullerian_lowres']))\n",
    "print(categories)\n",
    "print(color_dict)\n",
    "prune_plot(scplus_obj,\n",
    "           'HOXA13_+_+',\n",
    "           pseudobulk_variable = 'mese_mullerian_lowres',\n",
    "           show_dot_plot = True,\n",
    "           show_line_plot = False,\n",
    "           color_dict = color_dict,\n",
    "           use_pseudobulk = True,\n",
    "           auc_key = 'eRegulon_AUC',\n",
    "           signature_key = 'Region_based',\n",
    "           seed=555)"
   ]
  },
  {
   "cell_type": "code",
   "execution_count": null,
   "id": "9096ec0f",
   "metadata": {},
   "outputs": [],
   "source": [
    "# Region based\n",
    "%matplotlib inline\n",
    "import seaborn as sns\n",
    "sns.set_style(\"white\")\n",
    "categories = sorted(set(scplus_obj.metadata_cell['mese_mullerian_lowres']))\n",
    "print(categories)\n",
    "print(color_dict)\n",
    "prune_plot(scplus_obj,\n",
    "           'HOXA13_+_+',\n",
    "           pseudobulk_variable = 'mese_mullerian_lowres',\n",
    "           show_dot_plot = True,\n",
    "           show_line_plot = False,\n",
    "           color_dict = color_dict,\n",
    "           use_pseudobulk = True,\n",
    "           auc_key = 'eRegulon_AUC',\n",
    "           signature_key = 'Gene_based',\n",
    "           seed=555)"
   ]
  },
  {
   "cell_type": "markdown",
   "id": "a0d404dd",
   "metadata": {},
   "source": [
    "### Identification of high quality regions"
   ]
  },
  {
   "cell_type": "code",
   "execution_count": null,
   "id": "9afcdacb",
   "metadata": {},
   "outputs": [],
   "source": [
    "# Correlation between region based regulons and gene based regulons\n",
    "import pandas\n",
    "df1 = scplus_obj.uns['eRegulon_AUC']['Gene_based'].copy()\n",
    "df2 = scplus_obj.uns['eRegulon_AUC']['Region_based'].copy()\n",
    "df1.columns = [x.split('_(')[0] for x in df1.columns]\n",
    "df2.columns = [x.split('_(')[0] for x in df2.columns]\n",
    "correlations = df1.corrwith(df2, axis = 0)\n",
    "correlations = correlations[abs(correlations) > 0.6]\n",
    "# Kepp only R2G +\n",
    "keep = [x for x in correlations.index if '+_+' in x] + [x for x in correlations.index if '-_+' in x]\n",
    "# Keep extended if not direct\n",
    "extended = [x for x in keep if 'extended' in x]\n",
    "direct = [x for x in keep if not 'extended' in x]\n",
    "keep_extended = [x for x in extended if not x.replace('extended_', '') in direct]\n",
    "keep = direct + keep_extended\n",
    "# Keep regulons with more than 10 genes\n",
    "keep_gene = [x for x in scplus_obj.uns['eRegulon_AUC']['Gene_based'].columns if x.split('_(')[0] in keep]\n",
    "keep_gene = [x for x in keep_gene if (int(x.split('_(')[1].replace('g)', '')) > 10)]\n",
    "keep_all = [x.split('_(')[0] for x in keep_gene]\n",
    "keep_region = [x for x in scplus_obj.uns['eRegulon_AUC']['Region_based'].columns if x.split('_(')[0] in keep]\n",
    "scplus_obj.uns['selected_eRegulons'] = {}\n",
    "scplus_obj.uns['selected_eRegulons']['Gene_based'] = keep_gene\n",
    "scplus_obj.uns['selected_eRegulons']['Region_based'] = keep_region"
   ]
  },
  {
   "cell_type": "code",
   "execution_count": null,
   "id": "1a56b72f",
   "metadata": {},
   "outputs": [],
   "source": [
    "print(len(keep_gene))\n",
    "print(len(keep_region))"
   ]
  },
  {
   "cell_type": "code",
   "execution_count": null,
   "id": "529fc633",
   "metadata": {},
   "outputs": [],
   "source": [
    "%matplotlib inline\n"
   ]
  },
  {
   "cell_type": "code",
   "execution_count": null,
   "id": "13403fd5",
   "metadata": {},
   "outputs": [],
   "source": [
    "from scenicplus.plotting.correlation_plot import *\n",
    "correlation_heatmap(scplus_obj,\n",
    "                    auc_key = 'eRegulon_AUC',\n",
    "                    signature_keys = ['Gene_based'],\n",
    "                    selected_regulons = scplus_obj.uns['selected_eRegulons']['Gene_based'],\n",
    "                    fcluster_threshold = 0.1,\n",
    "                    fontsize = 8, \n",
    "                   save = outDir + 'correlation_heatmap.pdf')"
   ]
  },
  {
   "cell_type": "code",
   "execution_count": null,
   "id": "fbde40da",
   "metadata": {},
   "outputs": [],
   "source": [
    "#from scenicplus.plotting.correlation_plot import *\n",
    "jaccard_heatmap(scplus_obj,\n",
    "                    gene_or_region_based = 'Gene_based',\n",
    "                    signature_key = 'eRegulon_signatures',\n",
    "                    selected_regulons = scplus_obj.uns['selected_eRegulons']['Gene_based'],\n",
    "                    fcluster_threshold = 0.1,\n",
    "                    fontsize = 8,\n",
    "                    method='intersect', \n",
    "               save = outDir + 'jaccard_heatmap.pdf')"
   ]
  },
  {
   "cell_type": "code",
   "execution_count": null,
   "id": "a91f1340",
   "metadata": {},
   "outputs": [],
   "source": [
    "binarize_AUC(scplus_obj,\n",
    "             auc_key='eRegulon_AUC',\n",
    "             out_key='eRegulon_AUC_thresholds',\n",
    "             signature_keys=['Gene_based', 'Region_based'],\n",
    "             n_cpu=20)"
   ]
  },
  {
   "cell_type": "code",
   "execution_count": null,
   "id": "a4c82869",
   "metadata": {},
   "outputs": [],
   "source": [
    "import dill\n",
    "with open(outDir + 'scplus_obj2.pkl', 'wb') as f:\n",
    "  dill.dump(scplus_obj, f)"
   ]
  },
  {
   "cell_type": "code",
   "execution_count": null,
   "id": "27a8fa8c",
   "metadata": {},
   "outputs": [],
   "source": [
    "import dill\n",
    "infile = open(outDir + 'scplus_obj2.pkl', 'rb')\n",
    "scplus_obj = dill.load(infile)\n",
    "infile.close()"
   ]
  },
  {
   "cell_type": "code",
   "execution_count": null,
   "id": "99317cb8",
   "metadata": {},
   "outputs": [],
   "source": [
    "from scenicplus.dimensionality_reduction import *\n",
    "run_eRegulons_umap(scplus_obj,\n",
    "                   scale=True, signature_keys=['Gene_based', 'Region_based'], selected_regulons=scplus_obj.uns['selected_eRegulons']['Gene_based'])\n",
    "run_eRegulons_tsne(scplus_obj,\n",
    "                   scale=True, signature_keys=['Gene_based', 'Region_based'], selected_regulons=scplus_obj.uns['selected_eRegulons']['Gene_based'])"
   ]
  },
  {
   "cell_type": "code",
   "execution_count": null,
   "id": "d986e943",
   "metadata": {},
   "outputs": [],
   "source": [
    "run_eRegulons_umap(scplus_obj,\n",
    "                   scale=True, signature_keys=['Gene_based'],\n",
    "                   reduction_name='eRegulons_UMAP_gb', selected_regulons=scplus_obj.uns['selected_eRegulons']['Gene_based'])\n",
    "run_eRegulons_tsne(scplus_obj,\n",
    "                   scale=True, signature_keys=['Gene_based'],\n",
    "                   reduction_name='eRegulons_tSNE_gb', selected_regulons=scplus_obj.uns['selected_eRegulons']['Gene_based'])\n",
    "run_eRegulons_umap(scplus_obj,\n",
    "                   scale=True, signature_keys=['Region_based'],\n",
    "                   reduction_name='eRegulons_UMAP_rb', selected_regulons=scplus_obj.uns['selected_eRegulons']['Region_based'])\n",
    "run_eRegulons_tsne(scplus_obj,\n",
    "                   scale=True, signature_keys=['Region_based'],\n",
    "                   reduction_name='eRegulons_tSNE_rb', selected_regulons=scplus_obj.uns['selected_eRegulons']['Region_based'])"
   ]
  },
  {
   "cell_type": "code",
   "execution_count": null,
   "id": "e11e2980",
   "metadata": {},
   "outputs": [],
   "source": [
    "from scenicplus.dimensionality_reduction import *"
   ]
  },
  {
   "cell_type": "code",
   "execution_count": null,
   "id": "448ba4fc",
   "metadata": {},
   "outputs": [],
   "source": []
  },
  {
   "cell_type": "code",
   "execution_count": null,
   "id": "2bbe6cd7",
   "metadata": {},
   "outputs": [],
   "source": [
    "from scenicplus.dimensionality_reduction import *\n",
    "plot_metadata(scplus_obj,\n",
    "                 reduction_name='eRegulons_UMAP_rb',\n",
    "                 variables=['mese_mullerian_lowres'],\n",
    "                 num_columns=1,\n",
    "                 text_size=10,\n",
    "                 dot_size=5, \n",
    "              figsize = (5,5),\n",
    "#               color_dictionary = {'mese_mullerian_lowres' : color_dict}, \n",
    "              save = outDir + 'umap_regulons.pdf')\n"
   ]
  },
  {
   "cell_type": "code",
   "execution_count": null,
   "id": "2bcc76e5",
   "metadata": {},
   "outputs": [],
   "source": [
    "from scenicplus.dimensionality_reduction import *\n",
    "plot_metadata(scplus_obj,\n",
    "                 reduction_name='eRegulons_tSNE_rb',\n",
    "                 variables=['mese_mullerian_lowres'],\n",
    "                 num_columns=1,\n",
    "                 text_size=10,\n",
    "                 dot_size=5, \n",
    "              figsize = (5,5),\n",
    "#               color_dictionary = {'mese_mullerian_lowres' : color_dict}, \n",
    "              save = outDir + 'tsne_regulons.pdf')\n"
   ]
  },
  {
   "cell_type": "code",
   "execution_count": null,
   "id": "8fa2a128",
   "metadata": {},
   "outputs": [],
   "source": [
    "find_clusters(scplus_obj,\n",
    "              signature_keys=['Gene_based', 'Region_based'],\n",
    "              k = 10,\n",
    "              res = [0.6, 1.2, 1.5],\n",
    "              prefix = 'SCENIC+_',\n",
    "              scale = True)"
   ]
  },
  {
   "cell_type": "code",
   "execution_count": null,
   "id": "52bb7834",
   "metadata": {},
   "outputs": [],
   "source": [
    "plot_metadata(scplus_obj,\n",
    "                 reduction_name='eRegulons_tSNE_rb',\n",
    "                 variables=['mese_mullerian_lowres', 'SCENIC+_leiden_10_0.6'],\n",
    "                 num_columns=2,\n",
    "                 text_size=10,\n",
    "                 dot_size=5)"
   ]
  },
  {
   "cell_type": "code",
   "execution_count": null,
   "id": "569e69a8",
   "metadata": {},
   "outputs": [],
   "source": [
    "from scenicplus.RSS import *\n",
    "regulon_specificity_scores(scplus_obj,\n",
    "                         'mese_mullerian_lowres',\n",
    "                         signature_keys=['Gene_based'],\n",
    "                         selected_regulons=scplus_obj.uns['selected_eRegulons']['Gene_based'],\n",
    "                         out_key_suffix='_gene_based',\n",
    "                         scale=False)"
   ]
  },
  {
   "cell_type": "code",
   "execution_count": null,
   "id": "053e4b33",
   "metadata": {},
   "outputs": [],
   "source": [
    "scplus_obj.uns['RSS']"
   ]
  },
  {
   "cell_type": "code",
   "execution_count": null,
   "id": "0efc8715",
   "metadata": {},
   "outputs": [],
   "source": [
    "plot_rss(scplus_obj, 'mese_mullerian_lowres_gene_based', num_columns=2, top_n=10, figsize = (12, 12), fontsize = 12, \n",
    "         #selected_groups = ['MeseMullerianFallopianTube', 'MeseMullerianUterus'],\n",
    "         save = outDir + 'rss_importances.pdf')"
   ]
  },
  {
   "cell_type": "code",
   "execution_count": null,
   "id": "0e1f2210",
   "metadata": {},
   "outputs": [],
   "source": [
    "mat = scplus_obj.uns['RSS']['mese_mullerian_lowres_gene_based']\n",
    "# Reorder the indices\n",
    "new_indices = ['FallopianMese', \n",
    "               'UterusMese',\n",
    "               'CervixMese', 'UpperVaginaMese']  # Specify the desired order of indices\n",
    "mat_reordered = mat.reindex(new_indices)"
   ]
  },
  {
   "cell_type": "code",
   "execution_count": null,
   "id": "ec58f032",
   "metadata": {},
   "outputs": [],
   "source": [
    "mat_reordered"
   ]
  },
  {
   "cell_type": "code",
   "execution_count": null,
   "id": "c6ddacf7",
   "metadata": {},
   "outputs": [],
   "source": [
    "scplus_obj.uns['selected_eRegulons']"
   ]
  },
  {
   "cell_type": "code",
   "execution_count": null,
   "id": "e27c24a3",
   "metadata": {},
   "outputs": [],
   "source": [
    "# Select only activators \n",
    "regs = scplus_obj.uns['selected_eRegulons']['Gene_based']\n",
    "repressors = [r for r in regs if '-' in r]\n",
    "activators = [r for r in regs if r not in repressors]"
   ]
  },
  {
   "cell_type": "code",
   "execution_count": null,
   "id": "115fcbf3",
   "metadata": {},
   "outputs": [],
   "source": [
    "activators"
   ]
  },
  {
   "cell_type": "code",
   "execution_count": null,
   "id": "181a4404",
   "metadata": {},
   "outputs": [],
   "source": [
    "len(activators)"
   ]
  },
  {
   "cell_type": "code",
   "execution_count": null,
   "id": "e0060dec",
   "metadata": {},
   "outputs": [],
   "source": [
    "# Order activators per cell type by RSS (top 10 per cell type)\n",
    "mat_reordered_activators = mat_reordered[activators]\n",
    "print(mat_reordered_activators.shape)\n",
    "activators_per_celltype = {'FallopianMese' : [], \n",
    "                           'UterusMese' : [],\n",
    "                          'CervixMese' : [], 'UpperVaginaMese' : []}\n",
    "\n",
    "# Iterate through each row in the DataFrame\n",
    "for index, row in mat_reordered_activators.iterrows():\n",
    "    print(index)\n",
    "    # Sort the row values and get the top 3 columns\n",
    "    top_columns = list(row.nlargest(20).index)\n",
    "    print(top_columns)\n",
    "    activators_per_celltype[index].extend(top_columns)\n",
    "\n",
    "    "
   ]
  },
  {
   "cell_type": "code",
   "execution_count": null,
   "id": "b99101d4",
   "metadata": {},
   "outputs": [],
   "source": [
    "top_activators = list(np.unique(list(activators_per_celltype.values())))"
   ]
  },
  {
   "cell_type": "code",
   "execution_count": null,
   "id": "5ed8eb32",
   "metadata": {},
   "outputs": [],
   "source": [
    "len(top_activators)"
   ]
  },
  {
   "cell_type": "code",
   "execution_count": null,
   "id": "afdc5882",
   "metadata": {},
   "outputs": [],
   "source": [
    "mat_reordered_top_activators = mat_reordered_activators[top_activators]\n",
    "mat_reordered_top_activators"
   ]
  },
  {
   "cell_type": "code",
   "execution_count": null,
   "id": "7494f40b",
   "metadata": {},
   "outputs": [],
   "source": [
    "import matplotlib as mpl\n",
    "mpl.rcParams['pdf.fonttype'] = 42"
   ]
  },
  {
   "cell_type": "code",
   "execution_count": null,
   "id": "1c757a7f",
   "metadata": {},
   "outputs": [],
   "source": [
    "hox_tfs = [i for i in activators if i.startswith('HOX')]"
   ]
  },
  {
   "cell_type": "code",
   "execution_count": null,
   "id": "bc85abb8",
   "metadata": {},
   "outputs": [],
   "source": [
    "hox_tfs"
   ]
  },
  {
   "cell_type": "code",
   "execution_count": null,
   "id": "dad38288",
   "metadata": {},
   "outputs": [],
   "source": [
    "hox_tfs = [ 'HOXC4_+_+_(33g)','HOXA5_+_+_(67g)', \n",
    "            'HOXC6_+_+_(61g)', 'HOXA7_+_+_(58g)', 'HOXC8_+_+_(90g)',\n",
    "          'HOXA9_+_+_(570g)', 'HOXD9_+_+_(186g)', 'HOXA10_+_+_(399g)',  'HOXD10_+_+_(259g)','HOXA11_+_+_(274g)',\n",
    "           'HOXA13_+_+_(443g)','HOXD13_+_+_(321g)',]"
   ]
  },
  {
   "cell_type": "code",
   "execution_count": null,
   "id": "90518370",
   "metadata": {},
   "outputs": [],
   "source": [
    "from scenicplus.plotting.dotplot import *\n",
    "heatmap_dotplot(\n",
    "        scplus_obj = scplus_obj,\n",
    "        size_matrix = mat_reordered,\n",
    "        color_matrix = scplus_obj.to_df('EXP'),\n",
    "        scale_size_matrix = True,\n",
    "        scale_color_matrix = True,\n",
    "        group_variable = 'mese_mullerian_lowres',\n",
    "        subset_eRegulons = hox_tfs,\n",
    "        figsize = (10, 1.8),\n",
    "        orientation = 'horizontal',\n",
    "        split_repressor_activator=True,\n",
    "    index_order = ['FallopianMese',\n",
    "               'UterusMese',\n",
    "               'CervixMese', 'UpperVaginaMese'],\n",
    " save = outDir + 'mese_importances_heatmap_hox.pdf')"
   ]
  },
  {
   "cell_type": "code",
   "execution_count": null,
   "id": "d98b147f",
   "metadata": {},
   "outputs": [],
   "source": [
    "from scenicplus.plotting.dotplot import *\n",
    "heatmap_dotplot(\n",
    "        scplus_obj = scplus_obj,\n",
    "        size_matrix = mat_reordered,\n",
    "        color_matrix = scplus_obj.to_df('EXP'),\n",
    "        scale_size_matrix = True,\n",
    "        scale_color_matrix = True,\n",
    "        group_variable = 'mese_mullerian_lowres',\n",
    "        subset_eRegulons = top_activators,\n",
    "        figsize = (5.5, 24),\n",
    "        orientation = 'vertical',\n",
    "        split_repressor_activator=True,\n",
    "    index_order = ['FallopianMese',\n",
    "               'UterusMese',\n",
    "               'CervixMese', 'UpperVaginaMese'],\n",
    " save = outDir + 'mese_importances_heatmap.pdf')"
   ]
  },
  {
   "cell_type": "code",
   "execution_count": null,
   "id": "65669cae",
   "metadata": {},
   "outputs": [],
   "source": [
    "outDir"
   ]
  },
  {
   "cell_type": "code",
   "execution_count": null,
   "id": "649e4c68",
   "metadata": {},
   "outputs": [],
   "source": [
    "# Order activators per cell type by RSS (top 10 per cell type)\n",
    "mat_reordered_activators = mat_reordered[activators]\n",
    "print(mat_reordered_activators.shape)\n",
    "activators_per_celltype = {'FallopianMese' : [], \n",
    "                           'UterusMese' : [],\n",
    "                          'CervixMese' : [], 'UpperVaginaMese' : []}\n",
    "\n",
    "# Iterate through each row in the DataFrame\n",
    "for index, row in mat_reordered_activators.iterrows():\n",
    "    print(index)\n",
    "    # Sort the row values and get the top 3 columns\n",
    "    top_columns = list(row.nlargest(20).index)\n",
    "    hox = [i for i in top_columns if i.startswith('HOX')]\n",
    "    top_columns = [i for i in top_columns if i not in hox]\n",
    "    print(top_columns)\n",
    "    activators_per_celltype[index].extend(top_columns)"
   ]
  },
  {
   "cell_type": "code",
   "execution_count": null,
   "id": "b8840fc5",
   "metadata": {},
   "outputs": [],
   "source": [
    "top_activators = list(np.unique(list(activators_per_celltype.values())))"
   ]
  },
  {
   "cell_type": "code",
   "execution_count": null,
   "id": "7467a138",
   "metadata": {},
   "outputs": [],
   "source": [
    "top_activators = [item for sublist in top_activators for item in sublist]"
   ]
  },
  {
   "cell_type": "code",
   "execution_count": null,
   "id": "ecfbcd79",
   "metadata": {},
   "outputs": [],
   "source": [
    "top_activators = [i for i in top_activators if i not in hox_tfs]"
   ]
  },
  {
   "cell_type": "code",
   "execution_count": null,
   "id": "680192c2",
   "metadata": {},
   "outputs": [],
   "source": [
    "top_activators = [i for i in top_activators if not i.startswith('ZNF')]"
   ]
  },
  {
   "cell_type": "code",
   "execution_count": null,
   "id": "523c0c5c",
   "metadata": {},
   "outputs": [],
   "source": [
    "len(top_activators)"
   ]
  },
  {
   "cell_type": "code",
   "execution_count": null,
   "id": "1bd4514a",
   "metadata": {},
   "outputs": [],
   "source": [
    "spatially_variable_tfs = ['PROX1', 'GATA6', 'NFATC2', 'LEF1', 'FOXL2', 'MEIS2',\n",
    "                          'EMX2', 'FOXO1', 'ESR1', 'RORB', 'HMGA2', 'MSX1', \n",
    "                          'AR', 'TWIST1', 'ESRRG', 'RUNX1', 'PRRX2', 'TWIST2', 'LBX2', \n",
    "                          'PBX3', 'AHR', 'EVX1', 'EVX2', 'IRF6', 'NR0B1', 'ISL1', 'HMBOX1', 'ASCL2', \n",
    "                          'TBX18']"
   ]
  },
  {
   "cell_type": "code",
   "execution_count": null,
   "id": "fd41f1de",
   "metadata": {},
   "outputs": [],
   "source": [
    "top_activators_tfs = [i.split('_')[0] for i in top_activators]"
   ]
  },
  {
   "cell_type": "code",
   "execution_count": null,
   "id": "29939717",
   "metadata": {},
   "outputs": [],
   "source": [
    "len(top_activators_tfs)"
   ]
  },
  {
   "cell_type": "code",
   "execution_count": null,
   "id": "4737fc94",
   "metadata": {},
   "outputs": [],
   "source": [
    "top_activators_tfs_variable = [i for i in top_activators_tfs if i in spatially_variable_tfs]"
   ]
  },
  {
   "cell_type": "code",
   "execution_count": null,
   "id": "7c0bc8b0",
   "metadata": {},
   "outputs": [],
   "source": [
    "top_activators_tfs_variable"
   ]
  },
  {
   "cell_type": "code",
   "execution_count": null,
   "id": "282d749d",
   "metadata": {},
   "outputs": [],
   "source": [
    "top_activators = [i for i in top_activators if not i.startswith('ZNF')]"
   ]
  },
  {
   "cell_type": "code",
   "execution_count": null,
   "id": "2a1dd3c0",
   "metadata": {},
   "outputs": [],
   "source": []
  },
  {
   "cell_type": "code",
   "execution_count": null,
   "id": "9059a6b3",
   "metadata": {},
   "outputs": [],
   "source": [
    "len(top_activators)"
   ]
  },
  {
   "cell_type": "code",
   "execution_count": null,
   "id": "d0ce01f3",
   "metadata": {},
   "outputs": [],
   "source": [
    "# spatially_variable = ['GATA6_+_+_(150g)', 'PROX1_+_+_(49g)','NFATC2_+_+_(308g)',\n",
    "#                       'FOXL2_+_+_(193g)', 'EMX2_+_+_(268g)', 'FOXO1_+_+_(299g)', \n",
    "#                     'HMGA2_+_+_(281g)', \n",
    "#                       'PBX3_+_+_(86g)', 'PRRX2_+_+_(126g)', 'EVX1_+_+_(116g)', 'EVX2_+_+_(74g)',  'LBX2_+_+_(39g)', \n",
    "#                        'AR_+_+_(68g)', 'AHR_+_+_(141g)', 'ISL1_+_+_(55g)', 'TCF21_+_+_(144g)',\n",
    "#                     'ASCL2_+_+_(68g)', 'TWIST2_extended_+_+_(149g)', 'IRF6_extended_+_+_(55g)'\n",
    "#                      ]"
   ]
  },
  {
   "cell_type": "code",
   "execution_count": null,
   "id": "0dcb4ea7",
   "metadata": {},
   "outputs": [],
   "source": [
    "# mat_reordered_spatially_variable = mat_reordered[spatially_variable]\n",
    "# mat_reordered_spatially_variable.shape"
   ]
  },
  {
   "cell_type": "code",
   "execution_count": null,
   "id": "1d05c6b3",
   "metadata": {},
   "outputs": [],
   "source": [
    "mat_reordered_top_activators = mat_reordered_activators[top_activators]\n",
    "mat_reordered_top_activators"
   ]
  },
  {
   "cell_type": "code",
   "execution_count": null,
   "id": "a10c68ec",
   "metadata": {},
   "outputs": [],
   "source": [
    "from scenicplus.plotting.dotplot import *\n",
    "heatmap_dotplot(\n",
    "        scplus_obj = scplus_obj,\n",
    "        size_matrix = mat_reordered,\n",
    "        color_matrix = scplus_obj.to_df('EXP'),\n",
    "        scale_size_matrix = True,\n",
    "        scale_color_matrix = True,\n",
    "        group_variable = 'mese_mullerian_lowres',\n",
    "        subset_eRegulons = top_activators,\n",
    "        figsize = (25, 4),\n",
    "        orientation = 'horizontal',\n",
    "        split_repressor_activator=True,\n",
    "    sort_by = 'color_val',\n",
    "    index_order = ['FallopianMese',\n",
    "                   'UterusMese',  'CervixMese', 'UpperVaginaMese'],\n",
    " save = outDir + 'mese_importances_heatmap_top25.pdf')"
   ]
  },
  {
   "cell_type": "code",
   "execution_count": null,
   "id": "5e9270f1",
   "metadata": {},
   "outputs": [],
   "source": [
    "outDir "
   ]
  },
  {
   "cell_type": "code",
   "execution_count": null,
   "id": "08a3f7fe",
   "metadata": {},
   "outputs": [],
   "source": [
    "import dill\n",
    "with open(outDir + 'scplus_obj2.pkl', 'wb') as f:\n",
    "  dill.dump(scplus_obj, f)"
   ]
  },
  {
   "cell_type": "code",
   "execution_count": null,
   "id": "80eb7599",
   "metadata": {},
   "outputs": [],
   "source": [
    "import dill\n",
    "infile = open(outDir + 'scplus_obj2.pkl', 'rb')\n",
    "scplus_obj = dill.load(infile)\n",
    "infile.close()"
   ]
  },
  {
   "cell_type": "markdown",
   "id": "235de5c5",
   "metadata": {},
   "source": [
    "## Visualisations in scanpy-compatible format for figures"
   ]
  },
  {
   "cell_type": "code",
   "execution_count": null,
   "id": "bbce7330",
   "metadata": {},
   "outputs": [],
   "source": [
    "cistopic_obj = dill.load(open(os.path.join(outDir, 'cisTopicObject_clean.pkl'), 'rb'))"
   ]
  },
  {
   "cell_type": "code",
   "execution_count": null,
   "id": "a2dd1b28",
   "metadata": {},
   "outputs": [],
   "source": [
    "import scanpy"
   ]
  },
  {
   "cell_type": "code",
   "execution_count": null,
   "id": "98abea4a",
   "metadata": {},
   "outputs": [],
   "source": [
    "annots = cistopic_obj.cell_data.copy()"
   ]
  },
  {
   "cell_type": "code",
   "execution_count": null,
   "id": "c377f547",
   "metadata": {},
   "outputs": [],
   "source": [
    "annots['tsne1'] = annots.index.map(cistopic_obj.projections['cell']['harmony_tSNE']['tSNE_1'].to_dict())\n",
    "annots['tsne2'] = annots.index.map(cistopic_obj.projections['cell']['harmony_tSNE']['tSNE_2'].to_dict())"
   ]
  },
  {
   "cell_type": "code",
   "execution_count": null,
   "id": "54b3465c",
   "metadata": {},
   "outputs": [],
   "source": [
    "annots.shape"
   ]
  },
  {
   "cell_type": "code",
   "execution_count": null,
   "id": "1d3c661b",
   "metadata": {},
   "outputs": [],
   "source": [
    "annots.to_csv(outDir + 'mull_mese_embedding.csv')"
   ]
  },
  {
   "cell_type": "markdown",
   "id": "75b4aa4f",
   "metadata": {},
   "source": [
    "### Network analysis"
   ]
  },
  {
   "cell_type": "code",
   "execution_count": null,
   "id": "973de0b5",
   "metadata": {},
   "outputs": [],
   "source": [
    "df = scplus_obj.uns['eRegulon_metadata']"
   ]
  },
  {
   "cell_type": "markdown",
   "id": "83d376b0",
   "metadata": {},
   "source": [
    "## Fallopian tube mesenchyme"
   ]
  },
  {
   "cell_type": "code",
   "execution_count": null,
   "id": "a4c1d430",
   "metadata": {},
   "outputs": [],
   "source": [
    "spatially_variable_interactors = ['LGR5', 'NTRK2', 'CD36', 'CD55', 'ALDH1A2', 'DLK1', 'NRG1', 'WNT4', \n",
    "                                 'BMP4', 'BMP7']"
   ]
  },
  {
   "cell_type": "code",
   "execution_count": null,
   "id": "f10cc738",
   "metadata": {},
   "outputs": [],
   "source": [
    "tfs = ['HOXA5', 'HOXC5', 'HOXA7', 'HOXC6']"
   ]
  },
  {
   "cell_type": "code",
   "execution_count": null,
   "id": "b4d93c02",
   "metadata": {},
   "outputs": [],
   "source": [
    "import numpy as np"
   ]
  },
  {
   "cell_type": "code",
   "execution_count": null,
   "id": "7e2ea7bf",
   "metadata": {},
   "outputs": [],
   "source": [
    "targets = np.unique(df[df['TF'].isin(tfs)]['Gene'].tolist())"
   ]
  },
  {
   "cell_type": "code",
   "execution_count": null,
   "id": "0aaff410",
   "metadata": {},
   "outputs": [],
   "source": [
    "len(targets)"
   ]
  },
  {
   "cell_type": "code",
   "execution_count": null,
   "id": "f0e2346e",
   "metadata": {},
   "outputs": [],
   "source": [
    "final = [i for i in spatially_variable_interactors if i in targets]\n",
    "print(final)"
   ]
  },
  {
   "cell_type": "code",
   "execution_count": null,
   "id": "dcf3aa13",
   "metadata": {},
   "outputs": [],
   "source": [
    "len(final)"
   ]
  },
  {
   "cell_type": "code",
   "execution_count": null,
   "id": "6efdd129",
   "metadata": {},
   "outputs": [],
   "source": [
    "from scenicplus.networks import *\n",
    "import networkx as nx\n",
    "subset_genes = final\n",
    "nx_tables = create_nx_tables(scplus_obj,\n",
    "                     eRegulon_metadata_key = 'eRegulon_metadata',\n",
    "                     subset_eRegulons = tfs,\n",
    "                     subset_regions = None,\n",
    "                     subset_genes = subset_genes,\n",
    "                     add_differential_gene_expression = True,\n",
    "                     add_differential_region_accessibility = True,\n",
    "                     differential_variable = ['mese_mullerian_lowres'])\n"
   ]
  },
  {
   "cell_type": "code",
   "execution_count": null,
   "id": "1d1122f1",
   "metadata": {},
   "outputs": [],
   "source": [
    "tfs"
   ]
  },
  {
   "cell_type": "code",
   "execution_count": null,
   "id": "7a04f477",
   "metadata": {},
   "outputs": [],
   "source": [
    "from scenicplus.networks import *\n",
    "G_kk, pos_kk, edge_tables_kk, node_tables_kk = create_nx_graph(nx_tables,\n",
    "                   use_edge_tables = ['TF2R','R2G'],\n",
    "                   color_edge_by = {'TF2R': {'variable' : 'TF', 'category_color' : {\n",
    "                                                                                     'HOXA7' : 'orchid', \n",
    "                                                                                     \n",
    "                        'HOXA5' : 'orchid',  'HOXC6' : 'orchid', \n",
    "                      'HOXC5' : 'orchid',\n",
    "                      \n",
    "                                                                                    \n",
    "                   }},\n",
    "                                    'R2G': {'variable' : 'R2G_rho', 'continuous_color' : 'viridis', 'v_min': -1, 'v_max': 1}},\n",
    "                   transparency_edge_by =  {'R2G': {'variable' : 'R2G_importance', 'min_alpha': 0.6, 'v_min': 0}},\n",
    "                   width_edge_by = {'R2G': {'variable' : 'R2G_importance', 'max_size' :  1.5, 'min_size' : 1}},\n",
    "                   color_node_by = {'TF': {'variable': 'TF', 'category_color' : {\n",
    "                      'HOXA7' : 'orchid', \n",
    "                                                                                     \n",
    "                        'HOXA5' : 'orchid',  'HOXC6' : 'orchid', \n",
    "                      'HOXC5' : 'orchid',\n",
    "                       \n",
    "                       }},\n",
    "                                    'Gene': {'variable': 'mese_mullerian_lowres_Log2FC_FallopianMese', 'continuous_color' : 'Blues'},\n",
    "                                    'Region': {'variable': 'mese_mullerian_lowres_Log2FC_FallopianMese', 'continuous_color' : 'Blues'}},\n",
    "                   transparency_node_by =  {'Region': {'variable' : 'mese_mullerian_lowres_Log2FC_FallopianMese', 'min_alpha': 0.2},\n",
    "                                    'Gene': {'variable' : 'mese_mullerian_lowres_Log2FC_FallopianMese', 'min_alpha': 0.2}},\n",
    "                   size_node_by = {'TF': {'variable': 'fixed_size', 'fixed_size': 60},\n",
    "                                    'Gene': {'variable': 'fixed_size', 'fixed_size': 50},\n",
    "                                    'Region': {'variable': 'fixed_size', 'fixed_size': 30}},\n",
    "                   shape_node_by = {'TF': {'variable': 'fixed_shape', 'fixed_shape': 'ellipse'},\n",
    "                                    'Gene': {'variable': 'fixed_shape', 'fixed_shape': 'ellipse'},\n",
    "                                    'Region': {'variable': 'fixed_shape', 'fixed_shape': 'diamond'}},\n",
    "                   label_size_by = {'TF': {'variable': 'fixed_label_size', 'fixed_label_size': 15.0},\n",
    "                                    'Gene': {'variable': 'fixed_label_size', 'fixed_label_size': 10.0},\n",
    "                                    'Region': {'variable': 'fixed_label_size', 'fixed_label_size': 0.0}}, \n",
    "                    label_color_by = {'TF': {'variable': 'fixed_label_color', 'fixed_label_color': 'black'},\n",
    "                                    'Gene': {'variable': 'fixed_label_color', 'fixed_label_color': 'black'},\n",
    "                                    'Region': {'variable': 'fixed_label_color', 'fixed_label_color': 'darkgray'}},\n",
    "                                                               \n",
    "                    layout = 'kamada_kawai_layout',\n",
    "                   \n",
    "                   scale_position_by = 500)"
   ]
  },
  {
   "cell_type": "code",
   "execution_count": null,
   "id": "9c4dc995",
   "metadata": {},
   "outputs": [],
   "source": [
    "edge_tables_kk"
   ]
  },
  {
   "cell_type": "code",
   "execution_count": null,
   "id": "c383e42b",
   "metadata": {},
   "outputs": [],
   "source": [
    "import matplotlib as mpl\n",
    "mpl.rcParams['pdf.fonttype'] = 42"
   ]
  },
  {
   "cell_type": "code",
   "execution_count": null,
   "id": "1a95dcf9",
   "metadata": {},
   "outputs": [],
   "source": [
    "nx.draw_networkx_nodes(G_kk, pos_kk, node_color=nx.get_node_attributes(G_kk,'color').values(),\n",
    "                           node_size=list(nx.get_node_attributes(G_kk,'size').values()),\n",
    "                           node_shape = 'D')\n",
    "nx.draw_networkx_edges(G_kk, pos_kk, edge_color = nx.get_edge_attributes(G_kk,'color').values(),\n",
    "                          width = list(nx.get_edge_attributes(G_kk,'width').values()))\n",
    "fontsize_d = {y:x['size'] for x,y in zip(list(nx.get_node_attributes(G_kk,'font').values()),list(nx.get_node_attributes(G_kk,'label').values())) if x['size'] != 0.0}\n",
    "fontcolor_d = {y:x['color'] for x,y in zip(list(nx.get_node_attributes(G_kk,'font').values()),list(nx.get_node_attributes(G_kk,'label').values())) if x['size'] != 0.0}\n",
    "for node, (x, y) in pos_kk.items():\n",
    "    if node in fontsize_d.keys():\n",
    "        plt.text(x, y, node, fontsize=fontsize_d[node], color=fontcolor_d[node],  ha='center', va='center')\n",
    "ax = plt.gca()\n",
    "ax.margins(0.11)\n",
    "plt.tight_layout()\n",
    "plt.axis(\"off\")\n",
    "plt.savefig('/home/jovyan/network_scenicplus_mull_mese_fallopiantube.pdf', bbox_inches='tight', dpi=1000)\n",
    "plt.show()"
   ]
  },
  {
   "cell_type": "markdown",
   "id": "f657d7ed",
   "metadata": {},
   "source": [
    "### Uterus mesenchyme"
   ]
  },
  {
   "cell_type": "code",
   "execution_count": null,
   "id": "4e45b234",
   "metadata": {},
   "outputs": [],
   "source": [
    "spatially_variable_interactors = ['WNT4', 'WNT5A', 'CDH3', 'FLTR2', 'GRIA4', \n",
    "                                  'TGM2', 'ALDH1A1', 'LRRTM1', 'NRP1', 'RORB']"
   ]
  },
  {
   "cell_type": "code",
   "execution_count": null,
   "id": "9e1bb85f",
   "metadata": {},
   "outputs": [],
   "source": [
    "tfs = ['HOXA10', 'HOXA9', 'HOXA11']"
   ]
  },
  {
   "cell_type": "code",
   "execution_count": null,
   "id": "54b9a741",
   "metadata": {},
   "outputs": [],
   "source": [
    "targets = np.unique(df[df['TF'].isin(tfs)]['Gene'].tolist())"
   ]
  },
  {
   "cell_type": "code",
   "execution_count": null,
   "id": "5b21c25c",
   "metadata": {},
   "outputs": [],
   "source": [
    "final = [i for i in spatially_variable_interactors if i in targets]\n",
    "print(final)"
   ]
  },
  {
   "cell_type": "code",
   "execution_count": null,
   "id": "314dd12c",
   "metadata": {},
   "outputs": [],
   "source": [
    "from scenicplus.networks import *\n",
    "import networkx as nx\n",
    "subset_genes = final\n",
    "nx_tables = create_nx_tables(scplus_obj,\n",
    "                     eRegulon_metadata_key = 'eRegulon_metadata',\n",
    "                     subset_eRegulons = tfs,\n",
    "                     subset_regions = None,\n",
    "                     subset_genes = subset_genes,\n",
    "                     add_differential_gene_expression = True,\n",
    "                     add_differential_region_accessibility = True,\n",
    "                     differential_variable = ['mese_mullerian_lowres'])\n"
   ]
  },
  {
   "cell_type": "code",
   "execution_count": null,
   "id": "ed36b6ed",
   "metadata": {},
   "outputs": [],
   "source": [
    "from scenicplus.networks import *\n",
    "G_kk, pos_kk, edge_tables_kk, node_tables_kk = create_nx_graph(nx_tables,\n",
    "                   use_edge_tables = ['TF2R','R2G'],\n",
    "                   color_edge_by = {'TF2R': {'variable' : 'TF', 'category_color' : {\n",
    "                                                                                     'HOXA10' : 'orange', \n",
    "                                                                                     \n",
    "                         'HOXA11' : 'orange', 'HOXA9': 'orange',  \n",
    "                      \n",
    "                      \n",
    "                                                                                    \n",
    "                   }},\n",
    "                                    'R2G': {'variable' : 'R2G_rho', 'continuous_color' : 'viridis', 'v_min': -1, 'v_max': 1}},\n",
    "                   transparency_edge_by =  {'R2G': {'variable' : 'R2G_importance', 'min_alpha': 0.4, 'v_min': 0}},\n",
    "                   width_edge_by = {'R2G': {'variable' : 'R2G_importance', 'max_size' :  1.5, 'min_size' : 1}},\n",
    "                   color_node_by = {'TF': {'variable': 'TF', 'category_color' : {\n",
    "                      'HOXA10' : 'orange', \n",
    "                                                                                     \n",
    "                        'HOXA11' : 'orange', 'HOXA9': 'orange',\n",
    "                       \n",
    "                       }},\n",
    "                                    'Gene': {'variable': 'mese_mullerian_lowres_Log2FC_UterusMese', 'continuous_color' : 'Blues'},\n",
    "                                    'Region': {'variable': 'mese_mullerian_lowres_Log2FC_UterusMese', 'continuous_color' : 'Blues'}},\n",
    "                   transparency_node_by =  {'Region': {'variable' : 'mese_mullerian_lowres_Log2FC_UterusMese', 'min_alpha': 0.2},\n",
    "                                    'Gene': {'variable' : 'mese_mullerian_lowres_Log2FC_UterusMese', 'min_alpha': 0.2}},\n",
    "                   size_node_by = {'TF': {'variable': 'fixed_size', 'fixed_size': 60},\n",
    "                                    'Gene': {'variable': 'fixed_size', 'fixed_size': 50},\n",
    "                                    'Region': {'variable': 'fixed_size', 'fixed_size': 30}},\n",
    "                   shape_node_by = {'TF': {'variable': 'fixed_shape', 'fixed_shape': 'ellipse'},\n",
    "                                    'Gene': {'variable': 'fixed_shape', 'fixed_shape': 'ellipse'},\n",
    "                                    'Region': {'variable': 'fixed_shape', 'fixed_shape': 'diamond'}},\n",
    "                   label_size_by = {'TF': {'variable': 'fixed_label_size', 'fixed_label_size': 20.0},\n",
    "                                    'Gene': {'variable': 'fixed_label_size', 'fixed_label_size': 15.0},\n",
    "                                    'Region': {'variable': 'fixed_label_size', 'fixed_label_size': 0.0}}, \n",
    "                    label_color_by = {'TF': {'variable': 'fixed_label_color', 'fixed_label_color': 'black'},\n",
    "                                    'Gene': {'variable': 'fixed_label_color', 'fixed_label_color': 'black'},\n",
    "                                    'Region': {'variable': 'fixed_label_color', 'fixed_label_color': 'darkgray'}},\n",
    "                                                               \n",
    "                    layout = 'kamada_kawai_layout',\n",
    "                   \n",
    "                   scale_position_by = 500)"
   ]
  },
  {
   "cell_type": "code",
   "execution_count": null,
   "id": "3405e87b",
   "metadata": {},
   "outputs": [],
   "source": [
    "edge_tables_kk"
   ]
  },
  {
   "cell_type": "code",
   "execution_count": null,
   "id": "1302c8c6",
   "metadata": {},
   "outputs": [],
   "source": [
    "nx.draw_networkx_nodes(G_kk, pos_kk, node_color=nx.get_node_attributes(G_kk,'color').values(),\n",
    "                           node_size=list(nx.get_node_attributes(G_kk,'size').values()),\n",
    "                           node_shape = 'D')\n",
    "nx.draw_networkx_edges(G_kk, pos_kk, edge_color = nx.get_edge_attributes(G_kk,'color').values(),\n",
    "                          width = list(nx.get_edge_attributes(G_kk,'width').values()))\n",
    "fontsize_d = {y:x['size'] for x,y in zip(list(nx.get_node_attributes(G_kk,'font').values()),list(nx.get_node_attributes(G_kk,'label').values())) if x['size'] != 0.0}\n",
    "fontcolor_d = {y:x['color'] for x,y in zip(list(nx.get_node_attributes(G_kk,'font').values()),list(nx.get_node_attributes(G_kk,'label').values())) if x['size'] != 0.0}\n",
    "for node, (x, y) in pos_kk.items():\n",
    "    if node in fontsize_d.keys():\n",
    "        plt.text(x, y, node, fontsize=fontsize_d[node], color=fontcolor_d[node],  ha='center', va='center')\n",
    "ax = plt.gca()\n",
    "ax.margins(0.11)\n",
    "plt.tight_layout()\n",
    "plt.axis(\"off\")\n",
    "plt.savefig('/home/jovyan/network_scenicplus_mull_mese_uterus.pdf', bbox_inches='tight', dpi=1000)\n",
    "plt.show()"
   ]
  },
  {
   "cell_type": "markdown",
   "id": "804f1f61",
   "metadata": {},
   "source": [
    "## Upper vagina mesenchyme"
   ]
  },
  {
   "cell_type": "code",
   "execution_count": null,
   "id": "db4cadae",
   "metadata": {},
   "outputs": [],
   "source": [
    "spatially_variable_interactors = ['GDF7', 'GDF10', 'COL26A1', 'TNC', 'WIF1', 'SFRP5', 'IGF1', 'BMP4', 'BMP7']"
   ]
  },
  {
   "cell_type": "code",
   "execution_count": null,
   "id": "55ba22d9",
   "metadata": {},
   "outputs": [],
   "source": [
    "tfs = ['HOXA13', 'HOXD13']"
   ]
  },
  {
   "cell_type": "code",
   "execution_count": null,
   "id": "be1304fd",
   "metadata": {},
   "outputs": [],
   "source": [
    "targets = np.unique(df[df['TF'].isin(tfs)]['Gene'].tolist())"
   ]
  },
  {
   "cell_type": "code",
   "execution_count": null,
   "id": "2c926c17",
   "metadata": {},
   "outputs": [],
   "source": [
    "final = [i for i in spatially_variable_interactors if i in targets]\n",
    "print(final)"
   ]
  },
  {
   "cell_type": "code",
   "execution_count": null,
   "id": "45ffc5db",
   "metadata": {},
   "outputs": [],
   "source": [
    "from scenicplus.networks import *\n",
    "import networkx as nx\n",
    "subset_genes = final\n",
    "nx_tables = create_nx_tables(scplus_obj,\n",
    "                     eRegulon_metadata_key = 'eRegulon_metadata',\n",
    "                     subset_eRegulons = tfs,\n",
    "                     subset_regions = None,\n",
    "                     subset_genes = subset_genes,\n",
    "                     add_differential_gene_expression = True,\n",
    "                     add_differential_region_accessibility = True,\n",
    "                     differential_variable = ['mese_mullerian_lowres'])\n"
   ]
  },
  {
   "cell_type": "code",
   "execution_count": null,
   "id": "2ed8c953",
   "metadata": {},
   "outputs": [],
   "source": [
    "from scenicplus.networks import *\n",
    "G_kk, pos_kk, edge_tables_kk, node_tables_kk = create_nx_graph(nx_tables,\n",
    "                   use_edge_tables = ['TF2R','R2G'],\n",
    "                   color_edge_by = {'TF2R': {'variable' : 'TF', 'category_color' : {\n",
    "                                                                                     \n",
    "                        'HOXA13' : 'yellowgreen',  'HOXD13' : 'yellowgreen', \n",
    "                      \n",
    "                                                                                    \n",
    "                   }},\n",
    "                                    'R2G': {'variable' : 'R2G_rho', 'continuous_color' : 'viridis', 'v_min': -1, 'v_max': 1}},\n",
    "                   transparency_edge_by =  {'R2G': {'variable' : 'R2G_importance', 'min_alpha': 0.4, 'v_min': 0}},\n",
    "                   width_edge_by = {'R2G': {'variable' : 'R2G_importance', 'max_size' :  1.5, 'min_size' : 1}},\n",
    "                   color_node_by = {'TF': {'variable': 'TF', 'category_color' : {\n",
    "                      'HOXA13' : 'yellowgreen',  'HOXD13' : 'yellowgreen', \n",
    "                   \n",
    "                       }},\n",
    "                                    'Gene': {'variable': 'mese_mullerian_lowres_Log2FC_UpperVaginaMese', 'continuous_color' : 'Blues'},\n",
    "                                    'Region': {'variable': 'mese_mullerian_lowres_Log2FC_UpperVaginaMese', 'continuous_color' : 'Blues'}},\n",
    "                   transparency_node_by =  {'Region': {'variable' : 'mese_mullerian_lowres_Log2FC_UpperVaginaMese', 'min_alpha': 0.2},\n",
    "                                    'Gene': {'variable' : 'mese_mullerian_lowres_Log2FC_UpperVaginaMese', 'min_alpha': 0.2}},\n",
    "                   size_node_by = {'TF': {'variable': 'fixed_size', 'fixed_size': 60},\n",
    "                                    'Gene': {'variable': 'fixed_size', 'fixed_size': 50},\n",
    "                                    'Region': {'variable': 'fixed_size', 'fixed_size': 30}},\n",
    "                   shape_node_by = {'TF': {'variable': 'fixed_shape', 'fixed_shape': 'ellipse'},\n",
    "                                    'Gene': {'variable': 'fixed_shape', 'fixed_shape': 'ellipse'},\n",
    "                                    'Region': {'variable': 'fixed_shape', 'fixed_shape': 'diamond'}},\n",
    "                   label_size_by = {'TF': {'variable': 'fixed_label_size', 'fixed_label_size': 20.0},\n",
    "                                    'Gene': {'variable': 'fixed_label_size', 'fixed_label_size': 15.0},\n",
    "                                    'Region': {'variable': 'fixed_label_size', 'fixed_label_size': 0.0}}, \n",
    "                    label_color_by = {'TF': {'variable': 'fixed_label_color', 'fixed_label_color': 'black'},\n",
    "                                    'Gene': {'variable': 'fixed_label_color', 'fixed_label_color': 'black'},\n",
    "                                    'Region': {'variable': 'fixed_label_color', 'fixed_label_color': 'darkgray'}},\n",
    "                                                               \n",
    "                    layout = 'kamada_kawai_layout',\n",
    "                   \n",
    "                   scale_position_by = 500)"
   ]
  },
  {
   "cell_type": "code",
   "execution_count": null,
   "id": "4dcd049c",
   "metadata": {},
   "outputs": [],
   "source": [
    "edge_tables_kk"
   ]
  },
  {
   "cell_type": "code",
   "execution_count": null,
   "id": "33664410",
   "metadata": {},
   "outputs": [],
   "source": [
    "nx.draw_networkx_nodes(G_kk, pos_kk, node_color=nx.get_node_attributes(G_kk,'color').values(),\n",
    "                           node_size=list(nx.get_node_attributes(G_kk,'size').values()),\n",
    "                           node_shape = 'D')\n",
    "nx.draw_networkx_edges(G_kk, pos_kk, edge_color = nx.get_edge_attributes(G_kk,'color').values(),\n",
    "                          width = list(nx.get_edge_attributes(G_kk,'width').values()))\n",
    "fontsize_d = {y:x['size'] for x,y in zip(list(nx.get_node_attributes(G_kk,'font').values()),list(nx.get_node_attributes(G_kk,'label').values())) if x['size'] != 0.0}\n",
    "fontcolor_d = {y:x['color'] for x,y in zip(list(nx.get_node_attributes(G_kk,'font').values()),list(nx.get_node_attributes(G_kk,'label').values())) if x['size'] != 0.0}\n",
    "for node, (x, y) in pos_kk.items():\n",
    "    if node in fontsize_d.keys():\n",
    "        plt.text(x, y, node, fontsize=fontsize_d[node], color=fontcolor_d[node],  ha='center', va='center')\n",
    "ax = plt.gca()\n",
    "ax.margins(0.11)\n",
    "plt.tight_layout()\n",
    "plt.axis(\"off\")\n",
    "plt.savefig('/home/jovyan/network_scenicplus_mull_mese_uppervagina.pdf', bbox_inches='tight', dpi=1000)\n",
    "plt.show()"
   ]
  },
  {
   "cell_type": "code",
   "execution_count": null,
   "id": "fa527ef1",
   "metadata": {},
   "outputs": [],
   "source": []
  },
  {
   "cell_type": "code",
   "execution_count": null,
   "id": "8aff7774",
   "metadata": {},
   "outputs": [],
   "source": []
  }
 ],
 "metadata": {
  "kernelspec": {
   "display_name": "scenicplus",
   "language": "python",
   "name": "scenicplus"
  },
  "language_info": {
   "codemirror_mode": {
    "name": "ipython",
    "version": 3
   },
   "file_extension": ".py",
   "mimetype": "text/x-python",
   "name": "python",
   "nbconvert_exporter": "python",
   "pygments_lexer": "ipython3",
   "version": "3.8.13"
  }
 },
 "nbformat": 4,
 "nbformat_minor": 5
}
