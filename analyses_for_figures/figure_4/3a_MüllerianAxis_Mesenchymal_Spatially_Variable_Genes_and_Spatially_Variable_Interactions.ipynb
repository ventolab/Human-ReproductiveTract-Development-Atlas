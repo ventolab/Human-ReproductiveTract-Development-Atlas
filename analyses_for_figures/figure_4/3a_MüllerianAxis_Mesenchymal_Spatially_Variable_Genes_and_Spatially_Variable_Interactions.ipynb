{
 "cells": [
  {
   "cell_type": "code",
   "execution_count": null,
   "id": "c47b9397",
   "metadata": {},
   "outputs": [],
   "source": [
    "import numpy as np\n",
    "import pandas as pd\n",
    "from scipy.cluster.hierarchy import dendrogram, linkage\n",
    "import matplotlib.pyplot as plt"
   ]
  },
  {
   "cell_type": "markdown",
   "id": "ec859119",
   "metadata": {},
   "source": [
    "## VISIUM"
   ]
  },
  {
   "cell_type": "code",
   "execution_count": null,
   "id": "bd3cde25",
   "metadata": {},
   "outputs": [],
   "source": [
    "visium_smoothers_df = pd.read_csv('/lustre/scratch126/cellgen/team292/vl6/VISIUM/femalereproductiveaxis_mese_cytassist_downsampled_fitted_values_tradeseq.csv', \n",
    "                              index_col = 0)\n",
    "print(visium_smoothers_df.shape)\n",
    "visium_smoothers_df.head()"
   ]
  },
  {
   "cell_type": "markdown",
   "id": "932562bb",
   "metadata": {},
   "source": [
    "## scRNA-seq"
   ]
  },
  {
   "cell_type": "code",
   "execution_count": null,
   "id": "e6ae9a32",
   "metadata": {},
   "outputs": [],
   "source": [
    "scrnaseq_smoothers_df = pd.read_csv('/lustre/scratch126/cellgen/team292/vl6/VISIUM/mese_femalereproductiveaxis_scrnaseq_downsampled_fitted_values_tradeseq.csv', \n",
    "                               index_col = 0)\n",
    "print(scrnaseq_smoothers_df.shape)\n",
    "scrnaseq_smoothers_df.head()"
   ]
  },
  {
   "cell_type": "markdown",
   "id": "30336a94",
   "metadata": {},
   "source": [
    "## Comparison of smoothers"
   ]
  },
  {
   "cell_type": "code",
   "execution_count": null,
   "id": "7ccdd594",
   "metadata": {},
   "outputs": [],
   "source": [
    "import scipy.stats"
   ]
  },
  {
   "cell_type": "markdown",
   "id": "ca605711",
   "metadata": {},
   "source": [
    "### How many genes are in common between the two? "
   ]
  },
  {
   "cell_type": "code",
   "execution_count": null,
   "id": "c08484f1",
   "metadata": {},
   "outputs": [],
   "source": [
    "scrnaseq_genes = scrnaseq_smoothers_df.index.tolist()\n",
    "visium_genes = visium_smoothers_df.index.tolist()\n",
    "common_genes = list(set(scrnaseq_genes) & set(visium_genes))\n",
    "scrnaseq_unique = [i for i in scrnaseq_genes if i not in visium_genes]\n",
    "visium_unique = [i for i in visium_genes if i not in scrnaseq_genes]"
   ]
  },
  {
   "cell_type": "code",
   "execution_count": null,
   "id": "d5710841",
   "metadata": {},
   "outputs": [],
   "source": [
    "len(common_genes), len(scrnaseq_unique), len(visium_unique)"
   ]
  },
  {
   "cell_type": "code",
   "execution_count": null,
   "id": "7ca54991",
   "metadata": {},
   "outputs": [],
   "source": [
    "'PNOC' in visium_unique"
   ]
  },
  {
   "cell_type": "code",
   "execution_count": null,
   "id": "d65789b5",
   "metadata": {},
   "outputs": [],
   "source": [
    "'HOXA13' in common_genes"
   ]
  },
  {
   "cell_type": "code",
   "execution_count": null,
   "id": "96f7ed21",
   "metadata": {},
   "outputs": [],
   "source": [
    "import matplotlib_venn"
   ]
  },
  {
   "cell_type": "code",
   "execution_count": null,
   "id": "80b1c4dc",
   "metadata": {},
   "outputs": [],
   "source": [
    "import matplotlib as mpl\n",
    "mpl.rcParams['pdf.fonttype'] = 42"
   ]
  },
  {
   "cell_type": "code",
   "execution_count": null,
   "id": "767ecb40",
   "metadata": {},
   "outputs": [],
   "source": [
    "import matplotlib.pyplot as plt\n",
    "from matplotlib_venn import venn2\n",
    "\n",
    "# Define the sets\n",
    "set_visium = 74  # Unique elements in visium\n",
    "set_scrnaseq = 449  # Unique elements in scrnaseq\n",
    "intersection = 157\n",
    "\n",
    "# Create the Venn diagram\n",
    "venn = venn2(subsets=(set_visium, set_scrnaseq, intersection), set_labels=('Visium', 'scRNA-seq'))\n",
    "\n",
    "# Customize the colors\n",
    "venn.get_patch_by_id('10').set_color('blue') # Set A color\n",
    "venn.get_patch_by_id('01').set_color('orange') # Set B color\n",
    "venn.get_patch_by_id('11').set_color('yellowgreen') # Intersection color\n",
    "\n",
    "# Adjust the transparency (alpha)\n",
    "venn.get_patch_by_id('10').set_alpha(0.5)\n",
    "venn.get_patch_by_id('01').set_alpha(0.5)\n",
    "venn.get_patch_by_id('11').set_alpha(0.7)\n",
    "\n",
    "# Save the plot as a PDF\n",
    "pdf_filename = 'venn_diagram.pdf'\n",
    "plt.savefig(pdf_filename, format='pdf')\n",
    "\n",
    "\n",
    "# Display the plot\n",
    "plt.show()"
   ]
  },
  {
   "cell_type": "code",
   "execution_count": null,
   "id": "7d5e5553",
   "metadata": {},
   "outputs": [],
   "source": [
    "scrnaseq_smoothers_df_common = scrnaseq_smoothers_df.loc[common_genes]"
   ]
  },
  {
   "cell_type": "code",
   "execution_count": null,
   "id": "a1d2be7c",
   "metadata": {},
   "outputs": [],
   "source": [
    "visium_smoothers_df_common = visium_smoothers_df.loc[common_genes]"
   ]
  },
  {
   "cell_type": "code",
   "execution_count": null,
   "id": "83b1d4c2",
   "metadata": {},
   "outputs": [],
   "source": [
    "scrnaseq_smoothers_mtx_common = scrnaseq_smoothers_df_common.to_numpy()\n",
    "visium_smoothers_mtx_common = visium_smoothers_df_common.to_numpy()"
   ]
  },
  {
   "cell_type": "markdown",
   "id": "2ec44c7c",
   "metadata": {},
   "source": [
    "### 1. Non-parametric correlation between common genes (Spearman's rank correlation test)"
   ]
  },
  {
   "cell_type": "code",
   "execution_count": null,
   "id": "ad927487",
   "metadata": {},
   "outputs": [],
   "source": [
    "spearman_correlations = []\n",
    "for i in range(scrnaseq_smoothers_mtx_common.shape[0]):\n",
    "    corr, _ = scipy.stats.spearmanr(scrnaseq_smoothers_mtx_common[i, :], visium_smoothers_mtx_common[i, :])\n",
    "    spearman_correlations.append(corr)\n"
   ]
  },
  {
   "cell_type": "code",
   "execution_count": null,
   "id": "3f3f3495",
   "metadata": {},
   "outputs": [],
   "source": [
    "len(spearman_correlations)"
   ]
  },
  {
   "cell_type": "code",
   "execution_count": null,
   "id": "129db51e",
   "metadata": {},
   "outputs": [],
   "source": [
    "import matplotlib.pyplot as plt\n",
    "\n",
    "plt.hist(spearman_correlations, bins=30, color='skyblue', edgecolor='black')\n",
    "plt.title('Distribution of Spearman Correlation Coefficients')\n",
    "plt.xlabel('Correlation Coefficient')\n",
    "plt.ylabel('Frequency')\n",
    "plt.show()\n"
   ]
  },
  {
   "cell_type": "code",
   "execution_count": null,
   "id": "c2b660f7",
   "metadata": {},
   "outputs": [],
   "source": [
    "len(np.asarray(np.array(spearman_correlations) > 0.7).nonzero()[0].tolist())"
   ]
  },
  {
   "cell_type": "markdown",
   "id": "ab8b3dac",
   "metadata": {},
   "source": [
    "### 2. Cosine similarity "
   ]
  },
  {
   "cell_type": "code",
   "execution_count": null,
   "id": "4773618e",
   "metadata": {},
   "outputs": [],
   "source": [
    "from sklearn.metrics.pairwise import cosine_similarity"
   ]
  },
  {
   "cell_type": "code",
   "execution_count": null,
   "id": "f880e8ac",
   "metadata": {},
   "outputs": [],
   "source": [
    "# Assuming matrix1 and matrix2 are your two matrices\n",
    "# They should have the same shape: (number_of_genes, number_of_pseudotime_points)\n",
    "\n",
    "num_genes = scrnaseq_smoothers_mtx_common.shape[0]\n",
    "gene_cosine_similarities = np.zeros(num_genes)\n",
    "\n",
    "for i in range(num_genes):\n",
    "    # Reshape the rows to be 2D arrays as required by cosine_similarity\n",
    "    gene1 = scrnaseq_smoothers_mtx_common[i, :].reshape(1, -1)\n",
    "    gene2 = visium_smoothers_mtx_common[i, :].reshape(1, -1)\n",
    "\n",
    "    # Compute cosine similarity and store it\n",
    "    gene_cosine_similarities[i] = cosine_similarity(gene1, gene2)[0, 0]\n",
    "\n",
    "# 'gene_cosine_similarities' now contains the cosine similarity for each gene pair\n",
    "\n"
   ]
  },
  {
   "cell_type": "code",
   "execution_count": null,
   "id": "ca0482ba",
   "metadata": {},
   "outputs": [],
   "source": [
    "len(gene_cosine_similarities)"
   ]
  },
  {
   "cell_type": "code",
   "execution_count": null,
   "id": "37580877",
   "metadata": {},
   "outputs": [],
   "source": [
    "import matplotlib.pyplot as plt\n",
    "\n",
    "fig = plt.figure(figsize=(5, 4))\n",
    "plt.hist(gene_cosine_similarities, bins=20, color='gainsboro', edgecolor='black')\n",
    "plt.title('Distribution of Cosine Similarities')\n",
    "plt.xlabel('Cosine similarity')\n",
    "plt.ylabel('Frequency')\n",
    "\n",
    "# Save the plot as a PDF\n",
    "histogram_pdf = 'cosine_similarities_histogram.pdf'\n",
    "plt.savefig(histogram_pdf, format='pdf')\n",
    "\n",
    "plt.show()\n"
   ]
  },
  {
   "cell_type": "code",
   "execution_count": null,
   "id": "61b5bf13",
   "metadata": {},
   "outputs": [],
   "source": [
    "len(np.asarray(np.array(gene_cosine_similarities) > 0.9).nonzero()[0].tolist())"
   ]
  },
  {
   "cell_type": "code",
   "execution_count": null,
   "id": "e66c1257",
   "metadata": {},
   "outputs": [],
   "source": [
    "common_pattern_genes = scrnaseq_smoothers_df.iloc[np.asarray(np.array(gene_cosine_similarities) > 0.9).nonzero()[0].tolist()].index.tolist()"
   ]
  },
  {
   "cell_type": "code",
   "execution_count": null,
   "id": "8211466f",
   "metadata": {},
   "outputs": [],
   "source": [
    "104/111"
   ]
  },
  {
   "cell_type": "markdown",
   "id": "14bcd67e",
   "metadata": {},
   "source": [
    "## Select common genes + scRNA-seq specific genes "
   ]
  },
  {
   "cell_type": "code",
   "execution_count": null,
   "id": "fcd7bae7",
   "metadata": {},
   "outputs": [],
   "source": [
    "tot_genes = common_genes.copy()\n",
    "tot_genes.extend(scrnaseq_unique)"
   ]
  },
  {
   "cell_type": "code",
   "execution_count": null,
   "id": "89770ac9",
   "metadata": {},
   "outputs": [],
   "source": [
    "len(tot_genes)"
   ]
  },
  {
   "cell_type": "markdown",
   "id": "4103492b",
   "metadata": {},
   "source": [
    "## Intersect prioritised genes with human TFs"
   ]
  },
  {
   "cell_type": "code",
   "execution_count": null,
   "id": "0852fef7",
   "metadata": {},
   "outputs": [],
   "source": [
    "tfs = pd.read_csv('/nfs/team292/vl6/FetalReproductiveTract/humanTFs/DatabaseExtract_v_1.01.csv')"
   ]
  },
  {
   "cell_type": "code",
   "execution_count": null,
   "id": "faa7bbda",
   "metadata": {},
   "outputs": [],
   "source": [
    "tfs['Is TF?'].value_counts()"
   ]
  },
  {
   "cell_type": "code",
   "execution_count": null,
   "id": "73c57695",
   "metadata": {},
   "outputs": [],
   "source": [
    "tfs['TF assessment'].value_counts()"
   ]
  },
  {
   "cell_type": "code",
   "execution_count": null,
   "id": "f318c250",
   "metadata": {},
   "outputs": [],
   "source": [
    "tfs = tfs[tfs['Is TF?'] == 'Yes']\n",
    "tfs = tfs[tfs['TF assessment'] == 'Known motif']"
   ]
  },
  {
   "cell_type": "code",
   "execution_count": null,
   "id": "5f153cd3",
   "metadata": {},
   "outputs": [],
   "source": [
    "tfs = tfs['HGNC symbol'].tolist()"
   ]
  },
  {
   "cell_type": "code",
   "execution_count": null,
   "id": "df1018b8",
   "metadata": {},
   "outputs": [],
   "source": [
    "len(tfs)"
   ]
  },
  {
   "cell_type": "code",
   "execution_count": null,
   "id": "83f50cd4",
   "metadata": {},
   "outputs": [],
   "source": [
    "'CD36' in tfs"
   ]
  },
  {
   "cell_type": "code",
   "execution_count": null,
   "id": "f24b1c17",
   "metadata": {},
   "outputs": [],
   "source": [
    "tfs_prioritised = [i for i in tot_genes if i in tfs]"
   ]
  },
  {
   "cell_type": "code",
   "execution_count": null,
   "id": "a14e9950",
   "metadata": {},
   "outputs": [],
   "source": [
    "len(tfs_prioritised)"
   ]
  },
  {
   "cell_type": "code",
   "execution_count": null,
   "id": "807ea246",
   "metadata": {},
   "outputs": [],
   "source": [
    "tfs_prioritised = [i for i in tfs_prioritised if not i.startswith(\"HOX\")]"
   ]
  },
  {
   "cell_type": "code",
   "execution_count": null,
   "id": "410a6b2f",
   "metadata": {},
   "outputs": [],
   "source": [
    "len(tfs_prioritised)"
   ]
  },
  {
   "cell_type": "code",
   "execution_count": null,
   "id": "03a8ed83",
   "metadata": {},
   "outputs": [],
   "source": [
    "print(tfs_prioritised)"
   ]
  },
  {
   "cell_type": "markdown",
   "id": "588c0094",
   "metadata": {},
   "source": [
    "## Remove ubiquitously expressed TFs"
   ]
  },
  {
   "cell_type": "code",
   "execution_count": null,
   "id": "5582d28a",
   "metadata": {},
   "outputs": [],
   "source": [
    "tfs_prioritised = [i for i in tfs_prioritised if i not in ['ZBTB20', 'NR2F2' , 'JUN', 'NR4A1',\n",
    "               'NR2F1', 'ATF3', 'SMAD5', 'OSR2', 'RARG', 'TBX3','EGR1', 'KLF2',\n",
    "               'KLF4', 'SOX4','PBX1', 'MEIS1', 'TBX2', \n",
    "                ]]"
   ]
  },
  {
   "cell_type": "code",
   "execution_count": null,
   "id": "d61d2e4f",
   "metadata": {},
   "outputs": [],
   "source": [
    "len(tfs_prioritised)"
   ]
  },
  {
   "cell_type": "code",
   "execution_count": null,
   "id": "c3a7b88d",
   "metadata": {},
   "outputs": [],
   "source": [
    "scrnaseq_smoothers_df_tfs = scrnaseq_smoothers_df.loc[tfs_prioritised]"
   ]
  },
  {
   "cell_type": "code",
   "execution_count": null,
   "id": "d9a5bf0a",
   "metadata": {},
   "outputs": [],
   "source": [
    "scrnaseq_smoothers_mtx_tfs = scrnaseq_smoothers_df_tfs.to_numpy()"
   ]
  },
  {
   "cell_type": "markdown",
   "id": "71f4811c",
   "metadata": {},
   "source": [
    "## Cluster TFs by spatial expression pattern"
   ]
  },
  {
   "cell_type": "code",
   "execution_count": null,
   "id": "66dfb1d4",
   "metadata": {},
   "outputs": [],
   "source": [
    "from sklearn.preprocessing import StandardScaler"
   ]
  },
  {
   "cell_type": "code",
   "execution_count": null,
   "id": "2863ce38",
   "metadata": {},
   "outputs": [],
   "source": [
    "scaler = StandardScaler()\n",
    "scrnaseq_smoothers_mtx_tfs_scaled = scaler.fit_transform(scrnaseq_smoothers_mtx_tfs)"
   ]
  },
  {
   "cell_type": "code",
   "execution_count": null,
   "id": "4cd037e5",
   "metadata": {},
   "outputs": [],
   "source": [
    "scrnaseq_smoothers_mtx_tfs_scaled.shape"
   ]
  },
  {
   "cell_type": "code",
   "execution_count": null,
   "id": "c834b63c",
   "metadata": {},
   "outputs": [],
   "source": [
    "# Perform hierarchical clustering\n",
    "scrnaseq_smoothers_mtx_tfs_scaled_Z = linkage(scrnaseq_smoothers_mtx_tfs_scaled, method='ward', \n",
    "                                             optimal_ordering = True)"
   ]
  },
  {
   "cell_type": "code",
   "execution_count": null,
   "id": "4b5967e8",
   "metadata": {},
   "outputs": [],
   "source": [
    "common_tfs = [i for i in common_genes if i in tfs_prioritised]"
   ]
  },
  {
   "cell_type": "code",
   "execution_count": null,
   "id": "83fac072",
   "metadata": {},
   "outputs": [],
   "source": [
    "print(tfs_prioritised)"
   ]
  },
  {
   "cell_type": "code",
   "execution_count": null,
   "id": "cb96f5c5",
   "metadata": {},
   "outputs": [],
   "source": [
    "import matplotlib as mpl\n",
    "mpl.rcParams['pdf.fonttype'] = 42"
   ]
  },
  {
   "cell_type": "code",
   "execution_count": null,
   "id": "c4cb6465",
   "metadata": {},
   "outputs": [],
   "source": [
    "plt.figure(figsize=(9, 3))\n",
    "plt.title(\"Hierarchical clustering dendrogram of spatially-variable TFs\")\n",
    "\n",
    "# Create the dendrogram\n",
    "dendro = dendrogram(scrnaseq_smoothers_mtx_tfs_scaled_Z, labels=scrnaseq_smoothers_df_tfs.index.to_list(),\n",
    "           leaf_rotation=45, leaf_font_size=10)\n",
    "\n",
    "# Highlight the common TFs\n",
    "ax = plt.gca()\n",
    "x_labels = ax.get_xmajorticklabels()\n",
    "for label in x_labels:\n",
    "    if label.get_text() in common_tfs:\n",
    "        label.set_fontweight('bold')\n",
    "\n",
    "plt.xlabel(\"TFs\")\n",
    "plt.ylabel(\"Distance\")\n",
    "\n",
    "# Save the plot as a PDF\n",
    "dendrogram_pdf_path = 'hierarchical_clustering_dendrogram.pdf'\n",
    "plt.savefig(dendrogram_pdf_path, format='pdf', bbox_inches='tight')  # bbox_inches='tight' ensures that labels are not cut off\n",
    "\n",
    "\n",
    "plt.show()"
   ]
  },
  {
   "cell_type": "code",
   "execution_count": null,
   "id": "c70ff854",
   "metadata": {},
   "outputs": [],
   "source": [
    "from scipy.cluster.hierarchy import fcluster"
   ]
  },
  {
   "cell_type": "code",
   "execution_count": null,
   "id": "643dcdee",
   "metadata": {},
   "outputs": [],
   "source": [
    "# Choosing a distance cutoff (or setting a specific number of clusters)\n",
    "distance_cutoff = 10  # example value, adjust based on your dendrogram\n",
    "clusters = fcluster(scrnaseq_smoothers_mtx_tfs_scaled_Z, distance_cutoff, criterion='distance')\n",
    "\n",
    "# clusters now contains the cluster ID for each gene"
   ]
  },
  {
   "cell_type": "code",
   "execution_count": null,
   "id": "951287f5",
   "metadata": {},
   "outputs": [],
   "source": [
    "len(np.unique(clusters))"
   ]
  },
  {
   "cell_type": "code",
   "execution_count": null,
   "id": "ead71306",
   "metadata": {},
   "outputs": [],
   "source": [
    "cluster_number = 6"
   ]
  },
  {
   "cell_type": "code",
   "execution_count": null,
   "id": "0e9ae51d",
   "metadata": {},
   "outputs": [],
   "source": [
    "gene_indices_in_cluster = np.asarray(clusters == cluster_number).nonzero()[0].tolist()"
   ]
  },
  {
   "cell_type": "code",
   "execution_count": null,
   "id": "c8c360db",
   "metadata": {},
   "outputs": [],
   "source": [
    "scrnaseq_smoothers_df_tfs.iloc[gene_indices_in_cluster]"
   ]
  },
  {
   "cell_type": "code",
   "execution_count": null,
   "id": "3f6fc428",
   "metadata": {},
   "outputs": [],
   "source": [
    "cluster_genes = scrnaseq_smoothers_df_tfs.iloc[gene_indices_in_cluster].index.to_list()"
   ]
  },
  {
   "cell_type": "code",
   "execution_count": null,
   "id": "cf148499",
   "metadata": {},
   "outputs": [],
   "source": [
    "fitted_values_cluster = scrnaseq_smoothers_mtx_tfs[gene_indices_in_cluster, :]"
   ]
  },
  {
   "cell_type": "code",
   "execution_count": null,
   "id": "35b701d4",
   "metadata": {},
   "outputs": [],
   "source": [
    "fitted_values_cluster.shape"
   ]
  },
  {
   "cell_type": "code",
   "execution_count": null,
   "id": "9e98af3a",
   "metadata": {},
   "outputs": [],
   "source": [
    "cluster_genes[0]"
   ]
  },
  {
   "cell_type": "code",
   "execution_count": null,
   "id": "afb9650f",
   "metadata": {},
   "outputs": [],
   "source": [
    "plt.figure(figsize=(8\n",
    "            , 7))\n",
    "pseudospace = np.linspace(-2, 4, 100)\n",
    "i = 0\n",
    "for gene_fitted_values in fitted_values_cluster:\n",
    "    plt.plot(pseudospace, gene_fitted_values, \n",
    "             alpha = 0.5, label=cluster_genes[i])  # Plot each gene's spline\n",
    "    i = i+1\n",
    "\n",
    "plt.title(f\"Splines for Genes in Cluster {cluster_number}\")\n",
    "plt.xlabel(\"Müllerian longitudinal axis\")\n",
    "plt.ylabel(\"Fitted Values\")\n",
    "# Display the legend\n",
    "plt.legend(loc='upper left', bbox_to_anchor=(1, 1))\n",
    "# Save the plot as a PDF\n",
    "cluster3_tfs = 'cluster11_tfs.pdf'\n",
    "plt.savefig(cluster3_tfs, format='pdf', bbox_inches='tight')  # bbox_inches='tight' ensures that labels are not cut off\n",
    "\n",
    "plt.show()\n"
   ]
  },
  {
   "cell_type": "markdown",
   "id": "1dab7cf0",
   "metadata": {},
   "source": [
    "## Intersect prioritised genes with ligands and receptors from CellPhoneDB v5"
   ]
  },
  {
   "cell_type": "code",
   "execution_count": null,
   "id": "9d1e20e9",
   "metadata": {},
   "outputs": [],
   "source": [
    "df_cellphone = pd.read_csv('./COMMOT_database/minimal_cellphonedb_commot.csv', index_col = 0)\n",
    "print(df_cellphone.shape)\n",
    "df_cellphone.head()"
   ]
  },
  {
   "cell_type": "code",
   "execution_count": null,
   "id": "36fa1caf",
   "metadata": {},
   "outputs": [],
   "source": [
    "df_cellphone['directionality'].value_counts(dropna = False)"
   ]
  },
  {
   "cell_type": "code",
   "execution_count": null,
   "id": "5e6a5e43",
   "metadata": {},
   "outputs": [],
   "source": [
    "df_cellphone = df_cellphone.rename({'gene_name_a' : 'ligand', 'gene_name_b' : 'receptor', \n",
    "                                   'classification' : 'classification', 'directionality' : 'directionality'}, axis = 1)"
   ]
  },
  {
   "cell_type": "code",
   "execution_count": null,
   "id": "ce367491",
   "metadata": {},
   "outputs": [],
   "source": [
    "df_cellphone.head()"
   ]
  },
  {
   "cell_type": "code",
   "execution_count": null,
   "id": "a3f24aea",
   "metadata": {},
   "outputs": [],
   "source": [
    "df_cellphone['ligand_spatially_variable'] = 0"
   ]
  },
  {
   "cell_type": "code",
   "execution_count": null,
   "id": "7f9fc464",
   "metadata": {},
   "outputs": [],
   "source": [
    "df_cellphone['receptor_spatially_variable'] = 0"
   ]
  },
  {
   "cell_type": "code",
   "execution_count": null,
   "id": "72b9198a",
   "metadata": {},
   "outputs": [],
   "source": [
    "df_cellphone.head()"
   ]
  },
  {
   "cell_type": "code",
   "execution_count": null,
   "id": "7d13f8c6",
   "metadata": {},
   "outputs": [],
   "source": [
    "def is_partner_variable(partner, spatially_variable_genes):\n",
    "    print(partner)\n",
    "    res = 0\n",
    "    if '_' in partner:\n",
    "        print('partner is heteromeric')\n",
    "        partners = partner.split('_')\n",
    "        partners_variable = []\n",
    "        for p in partner: \n",
    "            if p in spatially_variable_genes:\n",
    "                partners_variable.append(p)\n",
    "        print(partners_variable)\n",
    "        if len(partners_variable) > 0:\n",
    "            print('at least one subunit of heteromeric partner are spatially variable')\n",
    "            res = 1\n",
    "        else:\n",
    "            res = 0\n",
    "    else: \n",
    "        print('partner is monomeric')\n",
    "        if partner in spatially_variable_genes:\n",
    "            print('partner is spatially variable')\n",
    "            res = 1\n",
    "        else:\n",
    "            res = 0\n",
    "    return res"
   ]
  },
  {
   "cell_type": "code",
   "execution_count": null,
   "id": "1629b092",
   "metadata": {},
   "outputs": [],
   "source": [
    "len(tot_genes)"
   ]
  },
  {
   "cell_type": "code",
   "execution_count": null,
   "id": "82d29760",
   "metadata": {},
   "outputs": [],
   "source": [
    "spatially_variable_ligands_indices = []\n",
    "spatially_variable_receptors_indices = []\n",
    "for index, row in df_cellphone.iterrows():\n",
    "    ligand = row['ligand']\n",
    "    receptor = row['receptor']\n",
    "    ligand_spatially_variable = is_partner_variable(ligand, tot_genes)\n",
    "    receptor_spatially_variable = is_partner_variable(receptor, tot_genes)\n",
    "    if ligand_spatially_variable == 1:\n",
    "        spatially_variable_ligands_indices.append(index)\n",
    "    if receptor_spatially_variable == 1:\n",
    "        spatially_variable_receptors_indices.append(index)\n",
    "    "
   ]
  },
  {
   "cell_type": "code",
   "execution_count": null,
   "id": "3fdc5942",
   "metadata": {},
   "outputs": [],
   "source": [
    "print(len(spatially_variable_ligands_indices), len(spatially_variable_receptors_indices))"
   ]
  },
  {
   "cell_type": "code",
   "execution_count": null,
   "id": "ed1f3fe6",
   "metadata": {},
   "outputs": [],
   "source": [
    "# Convert lists to sets and use the union() method\n",
    "union_set = set(spatially_variable_ligands_indices).union(set(spatially_variable_receptors_indices))\n",
    "\n",
    "# If you need the result as a list\n",
    "union_list = list(union_set)\n"
   ]
  },
  {
   "cell_type": "code",
   "execution_count": null,
   "id": "2f128244",
   "metadata": {},
   "outputs": [],
   "source": [
    "len(union_list)"
   ]
  },
  {
   "cell_type": "code",
   "execution_count": null,
   "id": "5bf3002e",
   "metadata": {},
   "outputs": [],
   "source": [
    "df_cellphone = df_cellphone.iloc[union_list, :]"
   ]
  },
  {
   "cell_type": "code",
   "execution_count": null,
   "id": "ffb20cb3",
   "metadata": {},
   "outputs": [],
   "source": [
    "df_cellphone.loc[spatially_variable_ligands_indices, 'ligand_spatially_variable'] = 1\n",
    "df_cellphone.loc[spatially_variable_receptors_indices, 'receptor_spatially_variable'] = 1"
   ]
  },
  {
   "cell_type": "code",
   "execution_count": null,
   "id": "6c71451e",
   "metadata": {},
   "outputs": [],
   "source": [
    "df_cellphone.head()"
   ]
  },
  {
   "cell_type": "code",
   "execution_count": null,
   "id": "afbe5f90",
   "metadata": {},
   "outputs": [],
   "source": [
    "def bin_axis(adata, n_bins = 10, axis_name = 'FemaleReproductiveAxis'):\n",
    "    max_val = np.nanquantile(adata.obs[axis_name],0.9999)\n",
    "    min_val = np.nanquantile(adata.obs[axis_name],0.0001)\n",
    "\n",
    "    incr_uva = (max_val-min_val)/n_bins\n",
    "    uva_bins = []\n",
    "    for i in range(0,n_bins+1):\n",
    "        uva_bins.append(min_val+(i*incr_uva))\n",
    "\n",
    "    adata.obs['binned_' + axis_name + '_' + str(n_bins) + '_bins'] = pd.cut(adata.obs[axis_name], bins = uva_bins, labels=uva_bins[:-1])\n",
    "    return adata"
   ]
  },
  {
   "cell_type": "code",
   "execution_count": null,
   "id": "a31611f2",
   "metadata": {},
   "outputs": [],
   "source": [
    "len(tot_genes)"
   ]
  },
  {
   "cell_type": "code",
   "execution_count": null,
   "id": "025d8a29",
   "metadata": {},
   "outputs": [],
   "source": [
    "'LGR5' in df_cellphone['receptor'].values"
   ]
  },
  {
   "cell_type": "code",
   "execution_count": null,
   "id": "cc34f815",
   "metadata": {},
   "outputs": [],
   "source": [
    "def grouped_obs_percent(adata, group_key, gene):\n",
    "    getX = lambda x: x.X\n",
    "    adata = adata[:, gene]\n",
    "    grouped = adata.obs.groupby(group_key)\n",
    "    out = pd.DataFrame(\n",
    "        np.zeros((adata.shape[1], len(grouped)), dtype=np.float64),\n",
    "        columns=list(grouped.groups.keys()),\n",
    "        index=adata.var_names\n",
    "    )\n",
    "\n",
    "    for group, idx in grouped.indices.items():\n",
    "        X = getX(adata[idx])\n",
    "        X.data = X.data > 0\n",
    "        perc = np.asarray(np.sum(X,axis=0)/X.shape[0]).reshape(-1)\n",
    "        out[group] = [round(i, 2) for i in perc ]\n",
    "    return out\n",
    "\n",
    "\n",
    "def grouped_obs_mean(adata, group_key, gene):\n",
    "    getX = lambda x: x.X\n",
    "    adata = adata[:, gene]\n",
    "    grouped = adata.obs.groupby(group_key)\n",
    "    out = pd.DataFrame(\n",
    "        np.zeros((adata.shape[1], len(grouped)), dtype=np.float64),\n",
    "        columns=list(grouped.groups.keys()),\n",
    "        index=adata.var_names\n",
    "    )\n",
    "\n",
    "    for group, idx in grouped.indices.items():\n",
    "        X = getX(adata[idx])\n",
    "        out[group] = np.ravel(X.mean(axis=0, dtype=np.float64))\n",
    "    out_min_max = (out - out.loc[gene].min()) / (out.loc[gene].max() - out.loc[gene].min())\n",
    "    return out_min_max"
   ]
  },
  {
   "cell_type": "code",
   "execution_count": null,
   "id": "3ae62c46",
   "metadata": {},
   "outputs": [],
   "source": [
    "def have_common_elements(list1, list2, n_elements):\n",
    "    # Convert the lists to sets to find the common elements\n",
    "    set1 = set(list1)\n",
    "    set2 = set(list2)\n",
    "    \n",
    "    # Find the common elements\n",
    "    common_elements = set1.intersection(set2)\n",
    "    \n",
    "    # Check if there are at least n common elements\n",
    "    return len(common_elements) >= n_elements"
   ]
  },
  {
   "cell_type": "code",
   "execution_count": null,
   "id": "4f2b7eed",
   "metadata": {},
   "outputs": [],
   "source": [
    "def has_consecutive_numbers(ordered_list):\n",
    "    \n",
    "    # Iterate through the sorted list\n",
    "    for i in range(len(ordered_list) - 1):\n",
    "        # Check if the current and next elements are consecutive\n",
    "        if ordered_list[i] + 1 == ordered_list[i + 1]:\n",
    "            return True  # Found consecutive numbers\n",
    "    \n",
    "    return False  # No consecutive numbers found"
   ]
  },
  {
   "cell_type": "code",
   "execution_count": null,
   "id": "8816cd3d",
   "metadata": {},
   "outputs": [],
   "source": [
    "import scanpy as sc\n",
    "import anndata as ad"
   ]
  },
  {
   "cell_type": "code",
   "execution_count": null,
   "id": "3add91e2",
   "metadata": {},
   "outputs": [],
   "source": [
    "scRNAseq_mullerian_mese_epi = sc.read('/nfs/team292/vl6/FetalReproductiveTract/mese_epi_mullerian_withpseudospace.h5ad')\n",
    "scRNAseq_mullerian_mese_epi"
   ]
  },
  {
   "cell_type": "code",
   "execution_count": null,
   "id": "79b0b069",
   "metadata": {},
   "outputs": [],
   "source": [
    "mese = sc.read('/nfs/team292/vl6/FetalReproductiveTract/mese_mullerian_withpseudospace.h5ad')"
   ]
  },
  {
   "cell_type": "code",
   "execution_count": null,
   "id": "4cf848dc",
   "metadata": {},
   "outputs": [],
   "source": [
    "epi = sc.read('/nfs/team292/vl6/FetalReproductiveTract/epi_mullerian_withpseudospace.h5ad')"
   ]
  },
  {
   "cell_type": "code",
   "execution_count": null,
   "id": "dc567f06",
   "metadata": {},
   "outputs": [],
   "source": [
    "epi = bin_axis(epi, n_bins = 10, axis_name = 'FemaleReproductiveAxis')\n",
    "epi.obs['binned_FemaleReproductiveAxis_10_bins'].hist()"
   ]
  },
  {
   "cell_type": "code",
   "execution_count": null,
   "id": "b0f943a7",
   "metadata": {},
   "outputs": [],
   "source": [
    "mese.X[20:30, 20:30].toarray()"
   ]
  },
  {
   "cell_type": "code",
   "execution_count": null,
   "id": "da9912f5",
   "metadata": {},
   "outputs": [],
   "source": [
    "mese = bin_axis(mese, n_bins = 10, axis_name = 'FemaleReproductiveAxis')\n",
    "mese.obs['binned_FemaleReproductiveAxis_10_bins'].hist()"
   ]
  },
  {
   "cell_type": "code",
   "execution_count": null,
   "id": "80a867ef",
   "metadata": {},
   "outputs": [],
   "source": [
    "sc.set_figure_params(scanpy=True, dpi=80, dpi_save=150, \n",
    "                         frameon=True, vector_friendly=True, fontsize=14, figsize=[7,7], color_map=None, \n",
    "                         format='pdf', facecolor=None, transparent=False)\n"
   ]
  },
  {
   "cell_type": "code",
   "execution_count": null,
   "id": "06870a37",
   "metadata": {},
   "outputs": [],
   "source": [
    "len(tfs_prioritised)"
   ]
  },
  {
   "cell_type": "code",
   "execution_count": null,
   "id": "45efb162",
   "metadata": {},
   "outputs": [],
   "source": [
    "tfs_to_plot = ['PROX1', 'GATA6', 'NFATC2','LEF1',\n",
    "               'FOXL2',    'MEIS2','EMX2', 'FOXO1', 'ESR1', 'RORB','HMGA2','MSX1',  'AR',\n",
    "               'TWIST1',\n",
    "               'ESRRG', 'RUNX1','PRRX2','TWIST2',  'LBX2', 'PBX3',\n",
    "              'AHR',  'EVX1', 'EVX2', 'IRF6','NR0B1', 'ISL1', 'HMBOX1',   \n",
    " 'ASCL2', 'TBX18',\n",
    " \n",
    "  ]"
   ]
  },
  {
   "cell_type": "code",
   "execution_count": null,
   "id": "4fdc030c",
   "metadata": {},
   "outputs": [],
   "source": [
    "len(tfs_to_plot)"
   ]
  },
  {
   "cell_type": "code",
   "execution_count": null,
   "id": "7c96bd4e",
   "metadata": {},
   "outputs": [],
   "source": [
    "# Create matrix plot using scanpy\n",
    "sc.pl.matrixplot(mese,var_names=tfs_to_plot,groupby='binned_FemaleReproductiveAxis_10_bins',\n",
    "                 num_categories = 10,\n",
    "                 cmap='OrRd',\n",
    "                 standard_scale='var',dendrogram=False,\n",
    "                 save='scrnaseq_matrixplot_mese_tfs_spatiallyvariable.pdf'\n",
    "                )"
   ]
  },
  {
   "cell_type": "code",
   "execution_count": null,
   "id": "4b9d323b",
   "metadata": {},
   "outputs": [],
   "source": [
    "def correlate_with_axis_and_order(adata, genes, axis_name, n_bins):\n",
    "    df_list = []\n",
    "    gene_list = []\n",
    "    for gene in genes:\n",
    "        out = grouped_obs_mean(adata, 'binned_' + axis_name + '_' + str(n_bins) + '_bins', gene)\n",
    "        df_list.append(out)\n",
    "        gene_list.append(gene)\n",
    "    df = pd.concat(df_list)\n",
    "    df_new_index = pd.DataFrame(df, index=gene_list)\n",
    "    \n",
    "    # Calculate correlation between smoothed scores and spatial axis values\n",
    "    df_new_index = df_new_index.T\n",
    "    correlations = np.corrcoef(df_new_index.T, df_new_index.index.to_list())\n",
    "    interaction_correlations = correlations[:-1, -1]  # Exclude correlation with itself\n",
    "    \n",
    "    # Order interactions based on enrichment measure\n",
    "    ordered_indices = np.argsort(interaction_correlations)[::-1]\n",
    "    df_new_index = df_new_index.iloc[:, ordered_indices[::-1]]\n",
    "    return df_new_index"
   ]
  },
  {
   "cell_type": "code",
   "execution_count": null,
   "id": "79afefda",
   "metadata": {},
   "outputs": [],
   "source": [
    "mese_downsampled = sc.read('/nfs/team292/vl6/FetalReproductiveTract/mese_mullerian_withpseudospace_downsampled.h5ad')\n",
    "mese_downsampled"
   ]
  },
  {
   "cell_type": "code",
   "execution_count": null,
   "id": "26f966a4",
   "metadata": {},
   "outputs": [],
   "source": [
    "epi_downsampled = sc.read('/nfs/team292/vl6/FetalReproductiveTract/epi_mullerian_withpseudospace_downsampled.h5ad')\n",
    "epi_downsampled "
   ]
  },
  {
   "cell_type": "code",
   "execution_count": null,
   "id": "0911b5a1",
   "metadata": {},
   "outputs": [],
   "source": [
    "import seaborn as sns"
   ]
  },
  {
   "cell_type": "code",
   "execution_count": null,
   "id": "63e27871",
   "metadata": {},
   "outputs": [],
   "source": [
    "def evaluate_spatially_variable_ligand_interaction(adata_mese, adata_epi, axis_name, n_bins, cellphone_filtered, min_prop, \n",
    "                                                  spatially_variable_genes):\n",
    "\n",
    "    \n",
    "    # iterate over interactions and keep those that satisfy requirements \n",
    "    passed = []\n",
    "    cellphone_filtered['starred_bins'] = 'none'\n",
    "    for index, row in cellphone_filtered.iterrows():\n",
    "        \n",
    "        if row['ligand_spatially_variable'] == 1:\n",
    "            print('Looking at interaction between {} and {}'.format(row['ligand'], row['receptor']))\n",
    "            # mesenchymal ligand is spatially variable, so plot the ligand expression in the binned axis \n",
    "            lig = row['ligand']\n",
    "            if lig in adata_mese.var_names.to_list():\n",
    "                # Compute fraction of spots expressing the ligand \n",
    "                lig_frac = grouped_obs_percent(adata_mese, 'binned_' + axis_name + '_' + str(n_bins) + '_bins', lig)\n",
    "                print(lig_frac)\n",
    "                lig_frac = np.where((lig_frac > min_prop).all(axis=0))[0]\n",
    "                \n",
    "                if len(lig_frac) >= 2:\n",
    "                    print('There are {} bins that express {} in more than 0.3 of cells'.format(len(lig_frac), \n",
    "                                                                                         lig))\n",
    "                    # Compute averaged, 0-1 normalised expression of ligand in each bin \n",
    "                    out_lig = grouped_obs_mean(adata_mese, 'binned_' + axis_name + '_' + str(n_bins) + '_bins', lig)\n",
    "\n",
    "                    # Get the bin values where 0-1 normalised expression is > 0.4 \n",
    "                    lig_high_expr_bins = np.where((out_lig > 0.4).all(axis=0))[0]\n",
    "                    lig_high_expr_bins = [i for i in lig_high_expr_bins if i in lig_frac]\n",
    "                    print(lig_high_expr_bins)\n",
    "\n",
    "                    rec = row['receptor']\n",
    "                    if '_' in rec:\n",
    "                        recs = rec.split('_')\n",
    "                        if all(element in adata_epi.var_names.to_list() for element in recs):\n",
    "                            print('All receptors for {} in var_names'.format(lig))\n",
    "                            recs_list = [] \n",
    "                            for r in recs:\n",
    "                                # Compute fraction of spots in bin that express each of the receptor subunits \n",
    "                                out_rec = grouped_obs_percent(adata_epi, 'binned_' + axis_name + '_' + str(n_bins) + '_bins', r)\n",
    "                                recs_list.append(out_rec)\n",
    "                            out_recs = pd.concat(recs_list, ignore_index=False)\n",
    "                            print(out_recs)\n",
    "                            rec_min_percent = np.where((out_recs > min_prop).all(axis=0))[0]\n",
    "                            print(rec_min_percent)\n",
    "                            consec = has_consecutive_numbers(rec_min_percent)\n",
    "                            if consec and have_common_elements(lig_high_expr_bins, rec_min_percent, 2):\n",
    "                                print('There is an interaction')\n",
    "                                plt.figure(figsize=(3, 5))\n",
    "                                sns.heatmap(out_lig.T, cmap='OrRd', annot=True, fmt=\".2f\", linewidths=.5, \n",
    "                                                  cbar = True)\n",
    "                                plt.figure(figsize=(3, 5))\n",
    "                                sns.heatmap(out_recs.T, cmap='OrRd', annot=True, fmt=\".2f\", linewidths=.5, \n",
    "                                                  cbar = True)\n",
    "                                passed.append(index)\n",
    "                                starred_bins = [str(i) for i in lig_high_expr_bins if i in rec_min_percent]\n",
    "                                cellphone_filtered.loc[index, 'starred_bins'] = ','.join(starred_bins)\n",
    "                            else:\n",
    "                                print('There is NO interaction')\n",
    "                        else:\n",
    "                            print('At least one receptor for {} not in var_names'.format(lig))\n",
    "                    else:\n",
    "                        if rec in adata_epi.var_names.to_list():\n",
    "                            print('Receptor for {} in var_names'.format(lig))\n",
    "\n",
    "                            out_rec = grouped_obs_percent(adata_epi, 'binned_' + axis_name + '_' + str(n_bins) + '_bins', rec)\n",
    "                            print(out_rec)\n",
    "                            rec_min_percent = np.where((out_rec > min_prop).all(axis=0))[0]\n",
    "                            print(rec_min_percent)\n",
    "                            consec = has_consecutive_numbers(rec_min_percent)\n",
    "\n",
    "                            if consec and have_common_elements(lig_high_expr_bins, rec_min_percent, 2):\n",
    "                                print('There is an interaction')\n",
    "                                plt.figure(figsize=(3, 5))\n",
    "                                sns.heatmap(out_lig.T, cmap='OrRd', annot=True, fmt=\".2f\", linewidths=.5, \n",
    "                                                  cbar = True)\n",
    "                                plt.figure(figsize=(3, 5))\n",
    "                                sns.heatmap(out_rec.T, cmap='OrRd', annot=True, fmt=\".2f\", linewidths=.5, \n",
    "                                                  cbar = True)\n",
    "                                passed.append(index)\n",
    "                                starred_bins = [str(i) for i in lig_high_expr_bins if i in rec_min_percent]\n",
    "                                cellphone_filtered.loc[index, 'starred_bins'] = ','.join(starred_bins)\n",
    "                            else:\n",
    "                                print('There is NO interaction')\n",
    "                        else:\n",
    "                            print('Receptor for {} not in var_names'.format(lig))\n",
    "            \n",
    "    print(passed)        \n",
    "    return cellphone_filtered.loc[passed, :]\n",
    "\n",
    "            \n",
    "            \n",
    "        "
   ]
  },
  {
   "cell_type": "code",
   "execution_count": null,
   "id": "d63fbdba",
   "metadata": {},
   "outputs": [],
   "source": [
    "filter_1 = evaluate_spatially_variable_ligand_interaction(mese_downsampled, epi_downsampled, 'FemaleReproductiveAxis',\n",
    "                                                         10, df_cellphone, 0.2, tot_genes)\n"
   ]
  },
  {
   "cell_type": "code",
   "execution_count": null,
   "id": "39670fe9",
   "metadata": {},
   "outputs": [],
   "source": [
    "filter_1_partners = np.unique(filter_1['ligand'].to_list())"
   ]
  },
  {
   "cell_type": "code",
   "execution_count": null,
   "id": "c253bdef",
   "metadata": {},
   "outputs": [],
   "source": [
    "len(np.unique(filter_1['ligand'].to_list()))"
   ]
  },
  {
   "cell_type": "code",
   "execution_count": null,
   "id": "2f2d2d63",
   "metadata": {},
   "outputs": [],
   "source": [
    "filter_1_partners"
   ]
  },
  {
   "cell_type": "code",
   "execution_count": null,
   "id": "cc61e2ba",
   "metadata": {},
   "outputs": [],
   "source": [
    "def evaluate_spatially_variable_receptor_interaction(adata_mese, adata_epi, axis_name, n_bins, cellphone_filtered, min_prop, \n",
    "                                                  spatially_variable_genes):\n",
    "    \n",
    "    \n",
    "    # iterate over interactions and keep those that satisfy requirements \n",
    "    passed = []\n",
    "    cellphone_filtered['starred_bins'] = 'none'\n",
    "    for index, row in cellphone_filtered.iterrows():\n",
    "        \n",
    "        \n",
    "        if row['receptor_spatially_variable'] == 1:\n",
    "            print('Looking at interaction between {} and {}'.format(row['ligand'], row['receptor']))\n",
    "            print('Assuming this is not a heteromeric interaction!')\n",
    "            # mesenchymal ligand is spatially variable, so plot the ligand expression in the binned axis \n",
    "            rec = row['receptor']\n",
    "            if rec in adata_mese.var_names.to_list():\n",
    "                # Compute fraction of spots expressing the ligand \n",
    "                rec_frac = grouped_obs_percent(adata_mese, 'binned_' + axis_name + '_' + str(n_bins) + '_bins', rec)\n",
    "                rec_frac = np.where((rec_frac > min_prop).all(axis=0))[0]\n",
    "                print('There are {} bins that express {} in more than 20% of cells'.format(len(rec_frac), \n",
    "                                                                                         rec))\n",
    "                if len(rec_frac) >= 2:\n",
    "\n",
    "                    # Compute averaged, 0-1 normalised expression of ligand in each bin \n",
    "                    out_rec = grouped_obs_mean(mese, 'binned_' + axis_name + '_' + str(n_bins) + '_bins', rec)\n",
    "\n",
    "                    # Get the bin values where 0-1 normalised expression is > 0.4 \n",
    "                    rec_high_expr_bins = np.where((out_rec > 0.4).all(axis=0))[0]\n",
    "                    rec_high_expr_bins = [i for i in rec_high_expr_bins if i in rec_frac]\n",
    "                    print(rec_high_expr_bins)\n",
    "\n",
    "                    lig = row['ligand']\n",
    "                    \n",
    "                    if '_' in lig:\n",
    "                        ligs = lig.split('_')\n",
    "                        if all(element in adata_epi.var_names.to_list() for element in ligs):\n",
    "                            print('All ligands for {} in var_names'.format(rec))\n",
    "                            ligs_list = [] \n",
    "                            for l in ligs:\n",
    "                                # Compute fraction of spots in bin that express each of the receptor subunits \n",
    "                                out_lig = grouped_obs_percent(adata_epi, 'binned_' + axis_name + '_' + str(n_bins) + '_bins', l)\n",
    "                                ligs_list.append(out_lig)\n",
    "                            out_ligs = pd.concat(ligs_list, ignore_index=False)\n",
    "                            print(out_ligs)\n",
    "                            lig_min_percent = np.where((out_ligs > min_prop).all(axis=0))[0]\n",
    "                            print(lig_min_percent)\n",
    "                            consec = has_consecutive_numbers(lig_min_percent)\n",
    "                            if consec and have_common_elements(rec_high_expr_bins, lig_min_percent, 2):\n",
    "                                print('There is an interaction')\n",
    "                                plt.figure(figsize=(3, 5))\n",
    "                                sns.heatmap(out_rec.T, cmap='OrRd', annot=True, fmt=\".2f\", linewidths=.5, \n",
    "                                                  cbar = True)\n",
    "                                plt.figure(figsize=(3, 5))\n",
    "                                sns.heatmap(out_ligs.T, cmap='OrRd', annot=True, fmt=\".2f\", linewidths=.5, \n",
    "                                                  cbar = True)\n",
    "                                passed.append(index)\n",
    "                                starred_bins = [str(i) for i in rec_high_expr_bins if i in lig_min_percent]\n",
    "                                cellphone_filtered.loc[index, 'starred_bins'] = ','.join(starred_bins)\n",
    "                            else:\n",
    "                                print('There is NO interaction')\n",
    "                        else:\n",
    "                            print('At least one ligand for {} not in var_names'.format(rec))\n",
    "                    else:\n",
    "                        if lig in adata_epi.var_names.to_list():\n",
    "                            print('Ligand for {} in var_names'.format(rec))\n",
    "\n",
    "                            out_lig = grouped_obs_percent(adata_epi, 'binned_' + axis_name + '_' + str(n_bins) + '_bins', lig)\n",
    "                            print(out_lig)\n",
    "                            lig_min_percent = np.where((out_lig > min_prop).all(axis=0))[0]\n",
    "                            print(lig_min_percent)\n",
    "                            consec = has_consecutive_numbers(lig_min_percent)\n",
    "\n",
    "                            if consec and have_common_elements(rec_high_expr_bins, lig_min_percent, 2):\n",
    "                                print('There is an interaction')\n",
    "                                plt.figure(figsize=(3, 5))\n",
    "                                sns.heatmap(out_rec.T, cmap='OrRd', annot=True, fmt=\".2f\", linewidths=.5, \n",
    "                                                  cbar = True)\n",
    "                                plt.figure(figsize=(3, 5))\n",
    "                                sns.heatmap(out_lig.T, cmap='OrRd', annot=True, fmt=\".2f\", linewidths=.5, \n",
    "                                                  cbar = True)\n",
    "                                passed.append(index)\n",
    "                                starred_bins = [str(i) for i in rec_high_expr_bins if i in lig_min_percent]\n",
    "                                cellphone_filtered.loc[index, 'starred_bins'] = ','.join(starred_bins)\n",
    "                            else:\n",
    "                                print('There is NO interaction')\n",
    "                        else:\n",
    "                            print('Ligand for {} not in var_names'.format(rec))\n",
    "            \n",
    "    print(passed)        \n",
    "    return cellphone_filtered.loc[passed, :]\n"
   ]
  },
  {
   "cell_type": "code",
   "execution_count": null,
   "id": "0d24f326",
   "metadata": {},
   "outputs": [],
   "source": [
    "filter_2 = evaluate_spatially_variable_receptor_interaction(mese_downsampled, epi_downsampled, 'FemaleReproductiveAxis',\n",
    "                                                         10, df_cellphone, 0.2, tot_genes)\n"
   ]
  },
  {
   "cell_type": "code",
   "execution_count": null,
   "id": "e1b90dab",
   "metadata": {},
   "outputs": [],
   "source": [
    "len(np.unique(filter_2['receptor']))"
   ]
  },
  {
   "cell_type": "code",
   "execution_count": null,
   "id": "0d0fbdb8",
   "metadata": {},
   "outputs": [],
   "source": [
    "filter_2_partners = np.unique(filter_2['receptor'].to_list())"
   ]
  },
  {
   "cell_type": "code",
   "execution_count": null,
   "id": "67534c09",
   "metadata": {},
   "outputs": [],
   "source": [
    "print(filter_2_partners)"
   ]
  },
  {
   "cell_type": "code",
   "execution_count": null,
   "id": "7b82a09d",
   "metadata": {},
   "outputs": [],
   "source": [
    "filter_2_selected = filter_2[filter_2['receptor'].isin(filter_2_partners)]"
   ]
  },
  {
   "cell_type": "code",
   "execution_count": null,
   "id": "c5e25089",
   "metadata": {},
   "outputs": [],
   "source": [
    "filter_2_selected"
   ]
  },
  {
   "cell_type": "markdown",
   "id": "7dabc6ec",
   "metadata": {},
   "source": [
    "## Hierarchical clustering of spatially variable interacting partners "
   ]
  },
  {
   "cell_type": "code",
   "execution_count": null,
   "id": "f739b9c1",
   "metadata": {},
   "outputs": [],
   "source": [
    "spatially_variable_partners = list(filter_1_partners)"
   ]
  },
  {
   "cell_type": "code",
   "execution_count": null,
   "id": "eac6a401",
   "metadata": {},
   "outputs": [],
   "source": [
    "spatially_variable_partners.extend(list(filter_2_partners))"
   ]
  },
  {
   "cell_type": "code",
   "execution_count": null,
   "id": "c6269127",
   "metadata": {},
   "outputs": [],
   "source": [
    "spatially_variable_partners = list(np.unique(spatially_variable_partners))"
   ]
  },
  {
   "cell_type": "code",
   "execution_count": null,
   "id": "911e9c78",
   "metadata": {},
   "outputs": [],
   "source": [
    "len(spatially_variable_partners)"
   ]
  },
  {
   "cell_type": "code",
   "execution_count": null,
   "id": "4a2be913",
   "metadata": {},
   "outputs": [],
   "source": [
    "print(spatially_variable_partners)"
   ]
  },
  {
   "cell_type": "markdown",
   "id": "0be3c744",
   "metadata": {},
   "source": [
    "### Filter out genes that are expressed everywhere in the manifold "
   ]
  },
  {
   "cell_type": "code",
   "execution_count": null,
   "id": "d9ea65f7",
   "metadata": {},
   "outputs": [],
   "source": [
    "spatially_variable_partners = [i for i in spatially_variable_partners if i not in ['APP', 'AR', 'COL1A2', 'COL21A1', \n",
    "                                                                                  'COL5A2', 'EDNRA', 'EFNB2', 'FN1', \n",
    "                                                                                  'IGFBP3', 'LRPAP1', \n",
    "                                                                                  'NRXN1', 'NRXN3', \n",
    "                                                                                  'PDGFRA', 'ROBO2', 'SFRP1',\n",
    "                                                                                  'SFRP4', 'TGFBR3', 'WNT11', \n",
    "                                                                                  'SCARA5', 'TNFRSF21', 'IGF2']]"
   ]
  },
  {
   "cell_type": "code",
   "execution_count": null,
   "id": "ceeeca34",
   "metadata": {},
   "outputs": [],
   "source": [
    "scrnaseq_smoothers_df.shape"
   ]
  },
  {
   "cell_type": "code",
   "execution_count": null,
   "id": "7b454e3d",
   "metadata": {},
   "outputs": [],
   "source": [
    "scrnaseq_smoothers_df_ligands = scrnaseq_smoothers_df.loc[spatially_variable_partners]"
   ]
  },
  {
   "cell_type": "code",
   "execution_count": null,
   "id": "46c2543f",
   "metadata": {},
   "outputs": [],
   "source": [
    "scrnaseq_smoothers_df_ligands.shape"
   ]
  },
  {
   "cell_type": "code",
   "execution_count": null,
   "id": "31725d69",
   "metadata": {},
   "outputs": [],
   "source": [
    "scrnaseq_smoothers_mtx_ligands = scrnaseq_smoothers_df_ligands.to_numpy()"
   ]
  },
  {
   "cell_type": "code",
   "execution_count": null,
   "id": "48f48539",
   "metadata": {},
   "outputs": [],
   "source": [
    "scaler = StandardScaler()\n",
    "scrnaseq_smoothers_mtx_ligands_scaled = scaler.fit_transform(scrnaseq_smoothers_mtx_ligands)"
   ]
  },
  {
   "cell_type": "code",
   "execution_count": null,
   "id": "bbaa5a92",
   "metadata": {},
   "outputs": [],
   "source": [
    "# Perform hierarchical clustering\n",
    "scrnaseq_smoothers_mtx_ligands_scaled_Z = linkage(scrnaseq_smoothers_mtx_ligands_scaled, method='ward', \n",
    "                                             optimal_ordering = True)"
   ]
  },
  {
   "cell_type": "code",
   "execution_count": null,
   "id": "965a8581",
   "metadata": {},
   "outputs": [],
   "source": [
    "common_ligands = [i for i in common_genes if i in spatially_variable_partners]"
   ]
  },
  {
   "cell_type": "code",
   "execution_count": null,
   "id": "2005494a",
   "metadata": {},
   "outputs": [],
   "source": [
    "common_ligands"
   ]
  },
  {
   "cell_type": "code",
   "execution_count": null,
   "id": "962fcdba",
   "metadata": {},
   "outputs": [],
   "source": [
    "print(spatially_variable_partners)"
   ]
  },
  {
   "cell_type": "code",
   "execution_count": null,
   "id": "ea079c7b",
   "metadata": {},
   "outputs": [],
   "source": [
    "plt.figure(figsize=(7, 2.5))\n",
    "plt.title(\"Hierarchical clustering dendrogram of spatially-variable interacting partners\")\n",
    "\n",
    "# Create the dendrogram\n",
    "dendro = dendrogram(scrnaseq_smoothers_mtx_ligands_scaled_Z, labels=scrnaseq_smoothers_df_ligands.index.to_list(),\n",
    "           leaf_rotation=45, leaf_font_size=10)\n",
    "\n",
    "# Highlight the common TFs\n",
    "ax = plt.gca()\n",
    "x_labels = ax.get_xmajorticklabels()\n",
    "for label in x_labels:\n",
    "    if label.get_text() in common_ligands:\n",
    "        label.set_fontweight('bold')\n",
    "\n",
    "plt.xlabel(\"Interacting partners\")\n",
    "plt.ylabel(\"Distance\")\n",
    "\n",
    "# Save the plot as a PDF\n",
    "dendrogram_pdf_path = 'hierarchical_clustering_dendrogram_ligands.pdf'\n",
    "plt.savefig(dendrogram_pdf_path, format='pdf', bbox_inches='tight')  # bbox_inches='tight' ensures that labels are not cut off\n",
    "\n",
    "\n",
    "plt.show()"
   ]
  },
  {
   "cell_type": "markdown",
   "id": "bdbeb02d",
   "metadata": {},
   "source": [
    "## Epithelial partners"
   ]
  },
  {
   "cell_type": "code",
   "execution_count": null,
   "id": "6b8fac28",
   "metadata": {},
   "outputs": [],
   "source": [
    "filter_2_epi = filter_2[filter_2['receptor'].isin(spatially_variable_partners)]"
   ]
  },
  {
   "cell_type": "code",
   "execution_count": null,
   "id": "31e6f23c",
   "metadata": {},
   "outputs": [],
   "source": [
    "filter_2_epi"
   ]
  },
  {
   "cell_type": "code",
   "execution_count": null,
   "id": "e1ce3012",
   "metadata": {},
   "outputs": [],
   "source": [
    "print(filter_2_epi['ligand'].to_list())"
   ]
  },
  {
   "cell_type": "code",
   "execution_count": null,
   "id": "9be0617b",
   "metadata": {},
   "outputs": [],
   "source": [
    "filter_1_epi = filter_1[filter_1['ligand'].isin(spatially_variable_partners)]"
   ]
  },
  {
   "cell_type": "code",
   "execution_count": null,
   "id": "83ea5784",
   "metadata": {},
   "outputs": [],
   "source": [
    "pd.set_option('display.max_rows', 100)"
   ]
  },
  {
   "cell_type": "code",
   "execution_count": null,
   "id": "4449f272",
   "metadata": {},
   "outputs": [],
   "source": [
    "filter_1_epi"
   ]
  },
  {
   "cell_type": "code",
   "execution_count": null,
   "id": "932fd1ed",
   "metadata": {},
   "outputs": [],
   "source": [
    "print(np.unique(filter_1_epi['receptor'].to_list()))"
   ]
  },
  {
   "cell_type": "markdown",
   "id": "a6a3625b",
   "metadata": {},
   "source": [
    "## Plot heatmap of mesenchymal and epithelial partners along the axis"
   ]
  },
  {
   "cell_type": "code",
   "execution_count": null,
   "id": "5fb6a17b",
   "metadata": {},
   "outputs": [],
   "source": [
    "mese_partners_reordered = correlate_with_axis_and_order(mese, spatially_variable_partners, 'FemaleReproductiveAxis',\n",
    "                                                         10)"
   ]
  },
  {
   "cell_type": "code",
   "execution_count": null,
   "id": "e0ef7da0",
   "metadata": {},
   "outputs": [],
   "source": [
    "\n",
    "# Create matrix plot using scanpy\n",
    "sc.pl.matrixplot(mese,var_names=mese_partners_reordered.columns.to_list(),groupby='binned_FemaleReproductiveAxis_10_bins',\n",
    "                 num_categories = 10,\n",
    "                 cmap='OrRd',\n",
    "                 standard_scale='var',dendrogram=False,\n",
    "                 save='scrnaseq_matrixplot_mese_partners_spatiallyvariable.pdf'\n",
    "                )"
   ]
  },
  {
   "cell_type": "code",
   "execution_count": null,
   "id": "23e821b4",
   "metadata": {},
   "outputs": [],
   "source": [
    "mese_partners_reordered.columns"
   ]
  },
  {
   "cell_type": "code",
   "execution_count": null,
   "id": "b90ec2c3",
   "metadata": {},
   "outputs": [],
   "source": [
    "mese_partners_reordered_manual = ['LGR5',  'NTRK2','CD36', 'CD55', 'ALDH1A2', 'DLK1','NRG1', \n",
    "            'WNT4', 'WNT5A', 'FLRT2',  'GRIA4', 'FGF7','TGM2', 'ALDH1A1', 'LRRTM1', 'NRP1',\n",
    "                                  'NRP2','RORB',\n",
    "              'GDF7', 'TNC', 'WIF1', 'SFRP5', \n",
    "           'IGF1', 'BMP4', 'BMP7',   \n",
    "              ]"
   ]
  },
  {
   "cell_type": "code",
   "execution_count": null,
   "id": "88792d41",
   "metadata": {},
   "outputs": [],
   "source": [
    "overlap = [i for i in mese_partners_reordered_manual if i not in mese_partners_reordered.columns.to_list() ]"
   ]
  },
  {
   "cell_type": "code",
   "execution_count": null,
   "id": "612d5ecb",
   "metadata": {},
   "outputs": [],
   "source": [
    "overlap"
   ]
  },
  {
   "cell_type": "code",
   "execution_count": null,
   "id": "1f98ebee",
   "metadata": {},
   "outputs": [],
   "source": [
    "\n",
    "# Create matrix plot using scanpy\n",
    "sc.pl.matrixplot(mese,var_names=mese_partners_reordered_manual,groupby='binned_FemaleReproductiveAxis_10_bins',\n",
    "                 num_categories = 10,\n",
    "                 cmap='OrRd',\n",
    "                 standard_scale='var',dendrogram=False,\n",
    "                 save='scrnaseq_matrixplot_mese_partners_spatiallyvariable.pdf'\n",
    "                )"
   ]
  },
  {
   "cell_type": "code",
   "execution_count": null,
   "id": "f2ffe79a",
   "metadata": {},
   "outputs": [],
   "source": [
    "epi_partners = ['RSPO1', 'THBS1', 'NTF3', 'ADGRE5', 'RXRA', 'RARA', 'RXRB', 'RARB', 'CRABP2', \n",
    "                'NOTCH2', 'ERBB4', 'LRP5', 'LRP6',   'FZD2', 'FZD10', \n",
    "                'FZD3', 'ADGRL1', 'ADGRL3', 'SLC1A3', 'GLS', 'FGFR2', 'ADGRG1', 'NRXN3', \n",
    "                'SEMA3C', 'SEMA3F', 'ALDH1A1', 'ALDH1A3', 'BMPR1A', 'BMPR2', \n",
    "                'ITGAV', 'ITGB6',\n",
    "                 'WNT7A', 'WNT11', 'IGF1R'\n",
    "               ]"
   ]
  },
  {
   "cell_type": "code",
   "execution_count": null,
   "id": "2c8d37bb",
   "metadata": {},
   "outputs": [],
   "source": [
    "# Create matrix plot using scanpy\n",
    "sc.pl.matrixplot(epi,var_names=epi_partners,groupby='binned_FemaleReproductiveAxis_10_bins',\n",
    "                 num_categories = 10,\n",
    "                 cmap='OrRd',\n",
    "                 standard_scale='var',dendrogram=False,\n",
    "                 save='scrnaseq_matrixplot_epi_partners_spatiallyvariable.pdf'\n",
    "                )"
   ]
  },
  {
   "cell_type": "code",
   "execution_count": null,
   "id": "0eefe53a",
   "metadata": {},
   "outputs": [],
   "source": []
  }
 ],
 "metadata": {
  "kernelspec": {
   "display_name": "atac_env",
   "language": "python",
   "name": "atac_env"
  },
  "language_info": {
   "codemirror_mode": {
    "name": "ipython",
    "version": 3
   },
   "file_extension": ".py",
   "mimetype": "text/x-python",
   "name": "python",
   "nbconvert_exporter": "python",
   "pygments_lexer": "ipython3",
   "version": "3.8.6"
  }
 },
 "nbformat": 4,
 "nbformat_minor": 5
}
