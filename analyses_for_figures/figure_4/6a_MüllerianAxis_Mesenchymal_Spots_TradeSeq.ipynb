{
 "cells": [
  {
   "cell_type": "markdown",
   "metadata": {},
   "source": [
    "## tradeSeq for DE along Mullerian rostro-caudal axis in female reproductive tract"
   ]
  },
  {
   "cell_type": "code",
   "execution_count": null,
   "metadata": {},
   "outputs": [],
   "source": [
    "#if (!require(\"BiocManager\", quietly = TRUE))\n",
    "#    install.packages(\"BiocManager\")\n",
    "\n",
    "#BiocManager::install(\"tradeSeq\")"
   ]
  },
  {
   "cell_type": "code",
   "execution_count": null,
   "metadata": {},
   "outputs": [],
   "source": [
    "#install.packages('igraph')"
   ]
  },
  {
   "cell_type": "code",
   "execution_count": null,
   "metadata": {},
   "outputs": [],
   "source": [
    "ip = as.data.frame(installed.packages()[,c(1,3:4)])\n",
    "ip = ip[is.na(ip$Priority),1:2,drop=FALSE]\n",
    "head(ip)"
   ]
  },
  {
   "cell_type": "code",
   "execution_count": null,
   "metadata": {},
   "outputs": [],
   "source": [
    "library(tradeSeq)\n",
    "library(SingleCellExperiment)\n",
    "library(slingshot)"
   ]
  },
  {
   "cell_type": "code",
   "execution_count": null,
   "metadata": {},
   "outputs": [],
   "source": [
    "library(SoupX)"
   ]
  },
  {
   "cell_type": "code",
   "execution_count": null,
   "metadata": {},
   "outputs": [],
   "source": [
    "sessionInfo()"
   ]
  },
  {
   "cell_type": "code",
   "execution_count": null,
   "metadata": {},
   "outputs": [],
   "source": [
    "adata <- readRDS(\"/lustre/scratch126/cellgen/team292/vl6/VISIUM/femalereproductiveaxis_mese_cytassist_downsampled.rds\")\n",
    "adata\n"
   ]
  },
  {
   "cell_type": "code",
   "execution_count": null,
   "metadata": {},
   "outputs": [],
   "source": [
    "counts <- assay(adata, \"X\")"
   ]
  },
  {
   "cell_type": "code",
   "execution_count": null,
   "metadata": {},
   "outputs": [],
   "source": [
    "set.seed(7)\n",
    "pseudotime <- colData(adata)$FemaleReproductiveAxis\n",
    "cellWeights <- rep(1, 501)"
   ]
  },
  {
   "cell_type": "code",
   "execution_count": null,
   "metadata": {},
   "outputs": [],
   "source": [
    "#icMat <- evaluateK(counts = counts, sds = SlingshotDataSet(adata), k = 3:10, \n",
    "#                   nGenes = 200, verbose = T)"
   ]
  },
  {
   "cell_type": "code",
   "execution_count": null,
   "metadata": {},
   "outputs": [],
   "source": [
    "#BiocManager::install(\"scran\")"
   ]
  },
  {
   "cell_type": "code",
   "execution_count": null,
   "metadata": {},
   "outputs": [],
   "source": [
    "library(scran)"
   ]
  },
  {
   "cell_type": "code",
   "execution_count": null,
   "metadata": {},
   "outputs": [],
   "source": [
    "libsizes <- colSums(counts)\n",
    "size.factors <- libsizes/mean(libsizes)\n",
    "logcounts(adata) <- log2(t(t(counts)/size.factors) + 1)\n",
    "assayNames(adata)"
   ]
  },
  {
   "cell_type": "code",
   "execution_count": null,
   "metadata": {},
   "outputs": [],
   "source": [
    "# Filter genes with non-zero biological components\n",
    "getVariableGenes <- function(adata,fdr_thresh=NULL,var_thresh=0) {\n",
    "  gene_var <- modelGeneVar(adata)\n",
    "  genes <- getTopHVGs(gene_var, var.threshold =var_thresh ,fdr.threshold = fdr_thresh)\n",
    "  return(genes)\n",
    "}"
   ]
  },
  {
   "cell_type": "code",
   "execution_count": null,
   "metadata": {},
   "outputs": [],
   "source": [
    "genes <- getVariableGenes(adata)"
   ]
  },
  {
   "cell_type": "code",
   "execution_count": null,
   "metadata": {},
   "outputs": [],
   "source": [
    "length(genes)"
   ]
  },
  {
   "cell_type": "code",
   "execution_count": null,
   "metadata": {},
   "outputs": [],
   "source": [
    "dim(counts[genes,])"
   ]
  },
  {
   "cell_type": "code",
   "execution_count": null,
   "metadata": {},
   "outputs": [],
   "source": [
    "sce <- fitGAM(counts = counts[genes,], pseudotime = pseudotime, cellWeights = cellWeights, nknots = 10,\n",
    "                verbose = TRUE, parallel = TRUE)"
   ]
  },
  {
   "cell_type": "code",
   "execution_count": null,
   "metadata": {},
   "outputs": [],
   "source": [
    "table(rowData(sce)$tradeSeq$converged)"
   ]
  },
  {
   "cell_type": "code",
   "execution_count": null,
   "metadata": {},
   "outputs": [],
   "source": [
    "adata <- adata[genes, ]"
   ]
  },
  {
   "cell_type": "code",
   "execution_count": null,
   "metadata": {},
   "outputs": [],
   "source": [
    "adata"
   ]
  },
  {
   "cell_type": "code",
   "execution_count": null,
   "metadata": {},
   "outputs": [],
   "source": [
    "gamList <- fitGAM(counts = counts[genes,], pseudotime = pseudotime, cellWeights = cellWeights, nknots = 10,\n",
    "                verbose = TRUE, \n",
    "                  parallel = TRUE, sce = FALSE)"
   ]
  },
  {
   "cell_type": "code",
   "execution_count": null,
   "metadata": {},
   "outputs": [],
   "source": [
    "summary(gamList[[\"SRD5A2\"]])\n"
   ]
  },
  {
   "cell_type": "code",
   "execution_count": null,
   "metadata": {},
   "outputs": [],
   "source": [
    "pvalLineage <- getSmootherPvalues(gamList)\n",
    "statLineage <- getSmootherTestStats(gamList)"
   ]
  },
  {
   "cell_type": "markdown",
   "metadata": {},
   "source": [
    "### ASSOCIATION TEST"
   ]
  },
  {
   "cell_type": "markdown",
   "metadata": {},
   "source": [
    "A first exploration of the data analysis may consist of checking whether gene expression is associated with a particular lineage. The statistical test performed here, implemented in the associationTest function, is testing the null hypothesis that all smoother coefficients are equal to each other. This can be interpreted as testing whether the average gene expression is significantly changing along pseudotime.\n",
    "\n"
   ]
  },
  {
   "cell_type": "code",
   "execution_count": null,
   "metadata": {},
   "outputs": [],
   "source": [
    "assoRes <- associationTest(sce)\n",
    "head(assoRes)"
   ]
  },
  {
   "cell_type": "code",
   "execution_count": null,
   "metadata": {},
   "outputs": [],
   "source": [
    "write.csv(assoRes, file = '/nfs/team292/vl6/FetalReproductiveTract/manuscript_v1/supp_tables/SupplementaryTable8_müllerian_mese_cytassist.csv')\n"
   ]
  },
  {
   "cell_type": "markdown",
   "metadata": {},
   "source": [
    "### FILTER GENES AND CLUSTER THEM BY PATTERN"
   ]
  },
  {
   "cell_type": "code",
   "execution_count": null,
   "metadata": {},
   "outputs": [],
   "source": [
    "dim(assoRes)"
   ]
  },
  {
   "cell_type": "code",
   "execution_count": null,
   "metadata": {},
   "outputs": [],
   "source": [
    "assoRes = assoRes[assoRes$pvalue < 0.001,]\n",
    "dim(assoRes)"
   ]
  },
  {
   "cell_type": "code",
   "execution_count": null,
   "metadata": {},
   "outputs": [],
   "source": [
    "assoRes = assoRes[assoRes$waldStat > 500,]\n",
    "dim(assoRes)"
   ]
  },
  {
   "cell_type": "code",
   "execution_count": null,
   "metadata": {},
   "outputs": [],
   "source": [
    "assoRes['HOXA13',]"
   ]
  },
  {
   "cell_type": "code",
   "execution_count": null,
   "metadata": {},
   "outputs": [],
   "source": [
    "assoRes = assoRes[order(assoRes$waldStat, decreasing = TRUE),]"
   ]
  },
  {
   "cell_type": "code",
   "execution_count": null,
   "metadata": {},
   "outputs": [],
   "source": [
    "tail(assoRes)"
   ]
  },
  {
   "cell_type": "code",
   "execution_count": null,
   "metadata": {},
   "outputs": [],
   "source": [
    "# Get the index of the DataFrame\n",
    "tops <- row.names(assoRes)[1:50]"
   ]
  },
  {
   "cell_type": "code",
   "execution_count": null,
   "metadata": {},
   "outputs": [],
   "source": [
    "tops"
   ]
  },
  {
   "cell_type": "code",
   "execution_count": null,
   "metadata": {},
   "outputs": [],
   "source": [
    "library(ggplot2)"
   ]
  },
  {
   "cell_type": "code",
   "execution_count": null,
   "metadata": {},
   "outputs": [],
   "source": [
    "for (gene in tops) {\n",
    "    print(gene)\n",
    "    print(plotSmoothers(sce, counts, gene = gene, alpha = 0) + ggtitle(gene) +\n",
    "                          theme(title = element_text(size = 20, face = 'bold'),\n",
    "                                axis.title = element_text(size = 20),\n",
    "                                axis.text = element_text(size = 20),\n",
    "                                legend.text = element_text(size = 20),\n",
    "                                legend.title = element_text(size = 20, face = \"bold\")))\n",
    "}"
   ]
  },
  {
   "cell_type": "code",
   "execution_count": null,
   "metadata": {},
   "outputs": [],
   "source": [
    "sce"
   ]
  },
  {
   "cell_type": "code",
   "execution_count": null,
   "metadata": {},
   "outputs": [],
   "source": [
    "model_vals_df <- predictSmooth(models = sce, gene=row.names(assoRes), nPoints=100) # output is 715 genes x 100 pseudospace values "
   ]
  },
  {
   "cell_type": "code",
   "execution_count": null,
   "metadata": {},
   "outputs": [],
   "source": [
    "model_vals_mtx <- predictSmooth(models = sce, gene=row.names(assoRes), nPoints=100, tidy=FALSE)"
   ]
  },
  {
   "cell_type": "code",
   "execution_count": null,
   "metadata": {},
   "outputs": [],
   "source": [
    "dim(model_vals_mtx) # 715 genes x 100 pseudospace values "
   ]
  },
  {
   "cell_type": "code",
   "execution_count": null,
   "metadata": {},
   "outputs": [],
   "source": [
    "model_vals_mtx[1:10, 1:20]"
   ]
  },
  {
   "cell_type": "code",
   "execution_count": null,
   "metadata": {},
   "outputs": [],
   "source": [
    "write.csv(model_vals_mtx, file = '/lustre/scratch126/cellgen/team292/vl6/VISIUM/femalereproductiveaxis_mese_cytassist_downsampled_fitted_values_tradeseq.csv')\n"
   ]
  },
  {
   "cell_type": "code",
   "execution_count": null,
   "metadata": {},
   "outputs": [],
   "source": [
    "hoxa5 <- plotSmoothers(sce, counts, gene = 'HOXA5', alpha = 0, \n",
    "                       xlab = \"Female Reproductive Axis\",\n",
    "  ylab = \"Log(expression + 1)\", border = FALSE) + ggtitle(\"HOXA5\") + theme(title = element_text(size = 20, face = 'bold'), axis.title=element_text(size=20), axis.text=element_text(size=20), legend.text = element_text(size=20),\n",
    "     legend.title = element_text(size=20, face = \"bold\"))+ theme_light()\n",
    "hoxa5"
   ]
  },
  {
   "cell_type": "code",
   "execution_count": null,
   "metadata": {},
   "outputs": [],
   "source": [
    "hoxa9 <- plotSmoothers(sce, counts, gene = 'HOXA9', alpha = 0, \n",
    "                       xlab = \"Female Reproductive Axis\",\n",
    "  ylab = \"Log(expression + 1)\", border = FALSE) + ggtitle(\"HOXA9\") + theme(title = element_text(size = 20, face = 'bold'), axis.title=element_text(size=20), axis.text=element_text(size=20), legend.text = element_text(size=20),\n",
    "     legend.title = element_text(size=20, face = \"bold\"))+ theme_light()\n",
    "hoxa9"
   ]
  },
  {
   "cell_type": "code",
   "execution_count": null,
   "metadata": {},
   "outputs": [],
   "source": [
    "hoxa10 <- plotSmoothers(sce, counts, gene = 'HOXA10', alpha = 0, \n",
    "                       xlab = \"Female Reproductive Axis\",\n",
    "  ylab = \"Log(expression + 1)\", border = FALSE) + ggtitle(\"HOXA5\") + theme(title = element_text(size = 20, face = 'bold'), axis.title=element_text(size=20), axis.text=element_text(size=20), legend.text = element_text(size=20),\n",
    "     legend.title = element_text(size=20, face = \"bold\"))+ theme_light()\n",
    "hoxa10"
   ]
  },
  {
   "cell_type": "code",
   "execution_count": null,
   "metadata": {},
   "outputs": [],
   "source": [
    "hoxc6 <- plotSmoothers(sce, counts, gene = 'HOXC6', alpha = 0, \n",
    "                       xlab = \"Female Reproductive Axis\",\n",
    "  ylab = \"Log(expression + 1)\", border = FALSE) + ggtitle(\"HOXA5\") + theme(title = element_text(size = 20, face = 'bold'), axis.title=element_text(size=20), axis.text=element_text(size=20), legend.text = element_text(size=20),\n",
    "     legend.title = element_text(size=20, face = \"bold\"))+ theme_light()\n",
    "hoxc6"
   ]
  },
  {
   "cell_type": "code",
   "execution_count": null,
   "metadata": {},
   "outputs": [],
   "source": [
    "hoxa11 <- plotSmoothers(sce, counts, gene = 'HOXA11', alpha = 0, \n",
    "                       xlab = \"Female Reproductive Axis\",\n",
    "  ylab = \"Log(expression + 1)\", border = FALSE) + ggtitle(\"HOXA5\") + theme(title = element_text(size = 20, face = 'bold'), axis.title=element_text(size=20), axis.text=element_text(size=20), legend.text = element_text(size=20),\n",
    "     legend.title = element_text(size=20, face = \"bold\"))+ theme_light()\n",
    "hoxa11"
   ]
  },
  {
   "cell_type": "code",
   "execution_count": null,
   "metadata": {},
   "outputs": [],
   "source": [
    "hoxa7 <- plotSmoothers(sce, counts, gene = 'HOXA7', alpha = 0, \n",
    "                       xlab = \"Female Reproductive Axis\",\n",
    "  ylab = \"Log(expression + 1)\", border = FALSE) + ggtitle(\"HOXA7\") + theme(title = element_text(size = 20, face = 'bold'), axis.title=element_text(size=20), axis.text=element_text(size=20), legend.text = element_text(size=20),\n",
    "     legend.title = element_text(size=20, face = \"bold\"))+ theme_light()\n",
    "hoxa7"
   ]
  },
  {
   "cell_type": "code",
   "execution_count": null,
   "metadata": {},
   "outputs": [],
   "source": [
    "hoxa13 <- plotSmoothers(sce, counts, gene = 'HOXA13', alpha = 0, \n",
    "                       xlab = \"Female Reproductive Axis\",\n",
    "  ylab = \"Log(expression + 1)\", border = FALSE) + ggtitle(\"HOXA13\") + theme(title = element_text(size = 20, face = 'bold'), axis.title=element_text(size=20), axis.text=element_text(size=20), legend.text = element_text(size=20),\n",
    "     legend.title = element_text(size=20, face = \"bold\"))+ theme_light()\n",
    "hoxa13"
   ]
  },
  {
   "cell_type": "code",
   "execution_count": null,
   "metadata": {},
   "outputs": [],
   "source": [
    "p <- grid.arrange(hoxa5, hoxa9, hoxc5, hoxa10, HOXC6,  hoxa11, hoxa7,     hoxa13, \n",
    "                  nrow = 4, ncol = 2)"
   ]
  },
  {
   "cell_type": "code",
   "execution_count": null,
   "metadata": {},
   "outputs": [],
   "source": [
    "ggsave('/home/jovyan/RepTract/visium_femalereproductiveaxis_hox_mese_tradeseq.pdf',\n",
    "       plot = p,\n",
    "       width = 8, height = 13, dpi = 300)"
   ]
  },
  {
   "cell_type": "code",
   "execution_count": null,
   "metadata": {},
   "outputs": [],
   "source": [
    "BMP4 <- plotSmoothers(sce, counts, gene = 'BMP4', alpha = 0, \n",
    "                       xlab = \"Female Reproductive Axis\",\n",
    "  ylab = \"Log(expression + 1)\", border = FALSE) + ggtitle(\"BMP4\") + theme(title = element_text(size = 20, face = 'bold'), axis.title=element_text(size=20), axis.text=element_text(size=20), legend.text = element_text(size=20),\n",
    "     legend.title = element_text(size=20, face = \"bold\"))+ theme_light()\n",
    "BMP4"
   ]
  },
  {
   "cell_type": "code",
   "execution_count": null,
   "metadata": {},
   "outputs": [],
   "source": [
    "IGF1 <- plotSmoothers(sce, counts, gene = 'IGF1', alpha = 0, \n",
    "                       xlab = \"Female Reproductive Axis\",\n",
    "  ylab = \"Log(expression + 1)\", border = FALSE) + ggtitle(\"IGF1\") + theme(title = element_text(size = 20, face = 'bold'), axis.title=element_text(size=20), axis.text=element_text(size=20), legend.text = element_text(size=20),\n",
    "     legend.title = element_text(size=20, face = \"bold\"))+ theme_light()\n",
    "IGF1"
   ]
  },
  {
   "cell_type": "code",
   "execution_count": null,
   "metadata": {},
   "outputs": [],
   "source": [
    "SOX17 <- plotSmoothers(sce, counts, gene = 'SOX17', alpha = 0, \n",
    "                       xlab = \"Female Reproductive Axis\",\n",
    "  ylab = \"Log(expression + 1)\", border = FALSE) + ggtitle(\"SOX17\") + theme(title = element_text(size = 20, face = 'bold'), axis.title=element_text(size=20), axis.text=element_text(size=20), legend.text = element_text(size=20),\n",
    "     legend.title = element_text(size=20, face = \"bold\"))+ theme_light() + ylim(0, 3.5)\n",
    "SOX17"
   ]
  },
  {
   "cell_type": "code",
   "execution_count": null,
   "metadata": {},
   "outputs": [],
   "source": [
    "CSF1R <- plotSmoothers(sce, counts, gene = 'CSF1R', alpha = 0, \n",
    "                       xlab = \"Female Reproductive Axis\",\n",
    "  ylab = \"Log(expression + 1)\", border = FALSE) + ggtitle(\"CSF1R\") + theme(title = element_text(size = 20, face = 'bold'), axis.title=element_text(size=20), axis.text=element_text(size=20), legend.text = element_text(size=20),\n",
    "     legend.title = element_text(size=20, face = \"bold\"))+ theme_light() + ylim(0, 3.2)\n",
    "CSF1R"
   ]
  },
  {
   "cell_type": "code",
   "execution_count": null,
   "metadata": {},
   "outputs": [],
   "source": [
    "PNOC <- plotSmoothers(sce, counts, gene = 'PNOC', alpha = 0, \n",
    "                       xlab = \"Female Reproductive Axis\",\n",
    "  ylab = \"Log(expression + 1)\", border = FALSE) + ggtitle(\"PNOC\") + theme(title = element_text(size = 20, face = 'bold'), axis.title=element_text(size=20), axis.text=element_text(size=20), legend.text = element_text(size=20),\n",
    "     legend.title = element_text(size=20, face = \"bold\"))+ theme_light() + ylim(0, 3.7)\n",
    "PNOC"
   ]
  },
  {
   "cell_type": "code",
   "execution_count": null,
   "metadata": {},
   "outputs": [],
   "source": [
    "p2 <- grid.arrange(PNOC, SOX17, CSF1R,\n",
    "                  nrow = 3, ncol = 1)"
   ]
  },
  {
   "cell_type": "code",
   "execution_count": null,
   "metadata": {},
   "outputs": [],
   "source": [
    "ggsave('/home/jovyan/RepTract/visium_femalereproductiveaxis_spurious_mese_tradeseq.pdf',\n",
    "       plot = p2,\n",
    "       width = 4, height = 9, dpi = 300)"
   ]
  },
  {
   "cell_type": "code",
   "execution_count": null,
   "metadata": {},
   "outputs": [],
   "source": [
    "TNC <- plotSmoothers(sce, counts, gene = 'TNC', alpha = 0, \n",
    "                       xlab = \"Female Reproductive Axis\",\n",
    "  ylab = \"Log(expression + 1)\", border = FALSE) + ggtitle(\"TNC\") + theme(title = element_text(size = 20, face = 'bold'), axis.title=element_text(size=20), axis.text=element_text(size=20), legend.text = element_text(size=20),\n",
    "     legend.title = element_text(size=20, face = \"bold\"))+ theme_light()\n",
    "TNC"
   ]
  },
  {
   "cell_type": "code",
   "execution_count": null,
   "metadata": {},
   "outputs": [],
   "source": [
    "SRD5A2 <- plotSmoothers(sce, counts, gene = 'SRD5A2', alpha = 0, \n",
    "                       xlab = \"Female Reproductive Axis\",\n",
    "  ylab = \"Log(expression + 1)\", border = FALSE) + ggtitle(\"SRD5A2\") + theme(title = element_text(size = 20, face = 'bold'), axis.title=element_text(size=20), axis.text=element_text(size=20), legend.text = element_text(size=20),\n",
    "     legend.title = element_text(size=20, face = \"bold\"))+ theme_light()\n",
    "SRD5A2\n"
   ]
  },
  {
   "cell_type": "code",
   "execution_count": null,
   "metadata": {},
   "outputs": [],
   "source": [
    "GDF10 <- plotSmoothers(sce, counts, gene = 'GDF10', alpha = 0, \n",
    "                       xlab = \"Female Reproductive Axis\",\n",
    "  ylab = \"Log(expression + 1)\", border = FALSE) + ggtitle(\"GDF10\") + theme(title = element_text(size = 20, face = 'bold'), axis.title=element_text(size=20), axis.text=element_text(size=20), legend.text = element_text(size=20),\n",
    "     legend.title = element_text(size=20, face = \"bold\"))+ theme_light()\n",
    "GDF10"
   ]
  },
  {
   "cell_type": "code",
   "execution_count": null,
   "metadata": {},
   "outputs": [],
   "source": [
    "PTGES <- plotSmoothers(sce, counts, gene = 'PTGES', alpha = 0, \n",
    "                       xlab = \"Female Reproductive Axis\",\n",
    "  ylab = \"Log(expression + 1)\", border = FALSE) + ggtitle(\"PTGES\") + theme(title = element_text(size = 20, face = 'bold'), axis.title=element_text(size=20), axis.text=element_text(size=20), legend.text = element_text(size=20),\n",
    "     legend.title = element_text(size=20, face = \"bold\"))+ theme_light()\n",
    "PTGES"
   ]
  },
  {
   "cell_type": "code",
   "execution_count": null,
   "metadata": {},
   "outputs": [],
   "source": []
  }
 ],
 "metadata": {
  "kernelspec": {
   "display_name": "R",
   "language": "R",
   "name": "ir"
  },
  "language_info": {
   "codemirror_mode": "r",
   "file_extension": ".r",
   "mimetype": "text/x-r-source",
   "name": "R",
   "pygments_lexer": "r",
   "version": "4.0.3"
  }
 },
 "nbformat": 4,
 "nbformat_minor": 4
}
