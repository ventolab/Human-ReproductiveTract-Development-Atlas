{
 "cells": [
  {
   "cell_type": "code",
   "execution_count": null,
   "id": "a705377b",
   "metadata": {},
   "outputs": [],
   "source": [
    "import scanpy as sc\n",
    "import anndata as ad\n",
    "import numpy as np\n",
    "import pandas as pd\n",
    "import matplotlib.pyplot as plt2\n",
    "import seaborn as sns\n",
    "import matplotlib as mpl\n",
    "# import warnings\n",
    "# warnings.filterwarnings(\"ignore\")\n",
    "import os\n",
    "import skimage\n",
    "from skimage import data, segmentation, feature, future\n",
    "from sklearn.ensemble import RandomForestClassifier\n",
    "from functools import partial\n",
    "import squidpy as sq\n",
    "from PIL import Image\n",
    "from PIL.TiffTags import TAGS\n",
    "from skimage import io\n",
    "import tifffile as tf\n",
    "import scipy\n",
    "print(skimage.__version__) # make sure version is 0.19.2\n",
    "# from cellpose import plot\n",
    "# from cellpose import models # my modfied code \n",
    "# from cellpose import io\n",
    "#import cv2\n",
    "import matplotlib.pyplot as plt"
   ]
  },
  {
   "cell_type": "code",
   "execution_count": null,
   "id": "f5a2e406",
   "metadata": {},
   "outputs": [],
   "source": [
    "path_to_reptract = '/lustre/scratch126/cellgen/team292/vl6/VISIUM/'"
   ]
  },
  {
   "cell_type": "markdown",
   "id": "084681d3",
   "metadata": {},
   "source": [
    "## Read in cell2location deconvoluted object"
   ]
  },
  {
   "cell_type": "code",
   "execution_count": null,
   "id": "38844c53",
   "metadata": {},
   "outputs": [],
   "source": [
    "cell2loc_metadata = sc.read('/lustre/scratch126/cellgen/team292/vl6/VISIUM/cell2location_males/male/predmodel/sp.h5ad')\n",
    "cell2loc_metadata"
   ]
  },
  {
   "cell_type": "code",
   "execution_count": null,
   "id": "9c6c4766",
   "metadata": {},
   "outputs": [],
   "source": [
    "cell2loc_metadata.obs[cell2loc_metadata.uns['mod']['factor_names']] = cell2loc_metadata.obsm['q05_cell_abundance_w_sf']"
   ]
  },
  {
   "cell_type": "code",
   "execution_count": null,
   "id": "a38efe78",
   "metadata": {},
   "outputs": [],
   "source": [
    "cell2loc_metadata.obs['tot_cell_abundance'] = cell2loc_metadata.uns[\"mod\"][\"post_sample_means\"][\"w_sf\"].sum(1).flatten()\n",
    "cell2loc_metadata.obs['detection_sensit']  = cell2loc_metadata.uns[\"mod\"][\"post_sample_q05\"][\"detection_y_s\"]"
   ]
  },
  {
   "cell_type": "code",
   "execution_count": null,
   "id": "d9069306",
   "metadata": {},
   "outputs": [],
   "source": [
    "cell2loc_metadata = cell2loc_metadata[[i >= 5 for i in cell2loc_metadata.obs['tot_cell_abundance']]]"
   ]
  },
  {
   "cell_type": "code",
   "execution_count": null,
   "id": "73dfc9d2",
   "metadata": {},
   "outputs": [],
   "source": [
    "sc.set_figure_params(scanpy=True, dpi=80, dpi_save=150, frameon=True, vector_friendly=True, fontsize=14, \n",
    "                     figsize=[6,6], color_map=None, format='pdf', facecolor=None, transparent=False)"
   ]
  },
  {
   "cell_type": "code",
   "execution_count": null,
   "id": "5206da84",
   "metadata": {},
   "outputs": [],
   "source": [
    "cell2loc_metadata.obs['broad_anatomy_annots'].value_counts()"
   ]
  },
  {
   "cell_type": "code",
   "execution_count": null,
   "id": "9a99acc3",
   "metadata": {},
   "outputs": [],
   "source": [
    "cell2loc_metadata.var.head()"
   ]
  },
  {
   "cell_type": "code",
   "execution_count": null,
   "id": "c7e0965f",
   "metadata": {},
   "outputs": [],
   "source": [
    "path = '/lustre/scratch126/cellgen/team292/vl6/VISIUM/'"
   ]
  },
  {
   "cell_type": "code",
   "execution_count": null,
   "id": "9e65e51b",
   "metadata": {},
   "outputs": [],
   "source": [
    "sample_IDs = ['HCA_F_RepTsp14733322', 'HCA_F_RepTsp14707486']"
   ]
  },
  {
   "cell_type": "code",
   "execution_count": null,
   "id": "c2d88d53",
   "metadata": {},
   "outputs": [],
   "source": [
    "adatas = []\n",
    "for sample in sample_IDs:\n",
    "    print(sample)\n",
    "    adata = sc.read(path+sample+'/'+sample+'_annotated.h5ad')\n",
    "    adata.var_names_make_unique()\n",
    "    adata.obs['sample'] = sample\n",
    "    adata.var['SYMBOL'] = adata.var_names\n",
    "    #adata.var.rename(columns={'gene_ids': 'ENSEMBL'}, inplace=True)\n",
    "    #adata.var_names = adata.var['ENSEMBL']\n",
    "    #adata.var.drop(columns='ENSEMBL', inplace=True)\n",
    "\n",
    "    # Calculate QC metrics\n",
    "    sc.pp.calculate_qc_metrics(adata, inplace=True)\n",
    "    adata.var['mt'] = [gene.startswith('MT-') for gene in adata.var['SYMBOL']]\n",
    "    adata.obs['mt_frac'] = adata[:, adata.var['mt'].tolist()].X.sum(1).A.squeeze()/adata.obs['total_counts']\n",
    "\n",
    "    # mitochondria-encoded (MT) genes should be removed for spatial mapping\n",
    "    adata.obsm['mt'] = adata[:, adata.var['mt'].values].X.toarray()\n",
    "    adata = adata[:, ~adata.var['mt'].values]\n",
    "\n",
    "    # add sample name to obs names\n",
    "    adata.obs[\"sample\"] = [str(i) for i in adata.obs['sample']]\n",
    "    adata.obs_names = adata.obs[\"sample\"] \\\n",
    "                          + '_' + adata.obs_names\n",
    "    adata.obs.index.name = 'spot_id'\n",
    "    adata = adata[[i == 1.0 for i in adata.obs['in_tissue']]]\n",
    "    print(adata.shape)\n",
    "    adatas.append(adata)"
   ]
  },
  {
   "cell_type": "code",
   "execution_count": null,
   "id": "3fb999df",
   "metadata": {},
   "outputs": [],
   "source": [
    "for adata in adatas:\n",
    "    if 'x' in adata.obs.columns.to_list():\n",
    "        del adata.obs['x']"
   ]
  },
  {
   "cell_type": "code",
   "execution_count": null,
   "id": "6010f7aa",
   "metadata": {},
   "outputs": [],
   "source": [
    "for adata in adatas:\n",
    "    if 'y' in adata.obs.columns.to_list():\n",
    "        del adata.obs['y']"
   ]
  },
  {
   "cell_type": "code",
   "execution_count": null,
   "id": "ac52dfb1",
   "metadata": {},
   "outputs": [],
   "source": [
    "adata_cytassist = sc.concat(\n",
    "    adatas,\n",
    "    join = \"outer\",\n",
    "    uns_merge=\"unique\",\n",
    "    keys=[\n",
    "        k\n",
    "        for d in [\n",
    "            adatas[0].uns[\"spatial\"],\n",
    "            adatas[1].uns[\"spatial\"],\n",
    "        ]\n",
    "        for k, v in d.items()\n",
    "    ],\n",
    "    index_unique=None,\n",
    ")\n",
    "adata_cytassist.var_names_make_unique()"
   ]
  },
  {
   "cell_type": "code",
   "execution_count": null,
   "id": "55cffc94",
   "metadata": {},
   "outputs": [],
   "source": [
    "adata_cytassist.obs['sample'].value_counts()"
   ]
  },
  {
   "cell_type": "code",
   "execution_count": null,
   "id": "8243500d",
   "metadata": {},
   "outputs": [],
   "source": [
    "for c in cell2loc_metadata.obs.columns.to_list():\n",
    "    if c not in adata_cytassist.obs.columns.to_list():\n",
    "        print(c)\n",
    "        adata_cytassist.obs[c] = adata_cytassist.obs_names.map(cell2loc_metadata.obs[c].to_dict())"
   ]
  },
  {
   "cell_type": "code",
   "execution_count": null,
   "id": "dad590a6",
   "metadata": {},
   "outputs": [],
   "source": [
    "adata_cytassist.obs['longitudinal_anatomy'].value_counts(0)"
   ]
  },
  {
   "cell_type": "code",
   "execution_count": null,
   "id": "cf0dbc94",
   "metadata": {},
   "outputs": [],
   "source": [
    "adata_cytassist.obs['tot_cell_abundance']"
   ]
  },
  {
   "cell_type": "code",
   "execution_count": null,
   "id": "57c62693",
   "metadata": {},
   "outputs": [],
   "source": [
    "def select_slide(adata, s, batch_key=\"sample\"):\n",
    "    r\"\"\"This function selects the data for one slide from the spatial anndata object.\n",
    "\n",
    "    :param adata: Anndata object with multiple spatial experiments\n",
    "    :param s: name of selected experiment\n",
    "    :param batch_key: column in adata.obs listing experiment name for each location\n",
    "    \"\"\"\n",
    "\n",
    "    slide = adata[adata.obs[batch_key].isin([s]), :].copy()\n",
    "    s_keys = list(slide.uns[\"spatial\"].keys())\n",
    "    s_spatial = np.array(s_keys)[[s in k for k in s_keys]][0]\n",
    "\n",
    "    slide.uns[\"spatial\"] = {s_spatial: slide.uns[\"spatial\"][s_spatial]}\n",
    "\n",
    "    return slide"
   ]
  },
  {
   "cell_type": "markdown",
   "id": "52788e73",
   "metadata": {},
   "source": [
    "## 1. Build epididymal axis"
   ]
  },
  {
   "cell_type": "code",
   "execution_count": null,
   "id": "056baed8",
   "metadata": {},
   "outputs": [],
   "source": [
    "def transpose_axis(orig_axis, new_min, new_max):\n",
    "    min_val = min(orig_axis)\n",
    "    max_val = max(orig_axis)\n",
    "    # Apply linear transformation\n",
    "    dest_axis = [(x - min_val) / (max_val - min_val) * (new_max - new_min) + new_min for x in orig_axis]\n",
    "    \n",
    "    return dest_axis"
   ]
  },
  {
   "cell_type": "code",
   "execution_count": null,
   "id": "d0ec2449",
   "metadata": {},
   "outputs": [],
   "source": [
    "def build_epididymal_axis(adata, sample, min_cells, start_feature, end_feature, start_weight = 1, end_weight = 1,\n",
    "                         excluded_regions = ['ToExclude', 'Background'], is_stitched = False, sample1 = None, sample2 = None):\n",
    "    \n",
    "    print('Is the sample stitched? {}'.format(is_stitched))\n",
    "    \n",
    "    if not is_stitched:\n",
    "        \n",
    "        print('Building uterovaginal axis for sample {} from {} (weight: {}) to {} (weight: {})'.format(sample, start_feature, \n",
    "                            start_weight, end_feature, end_weight))\n",
    "        \n",
    "        # Select slide from spatial anndata object\n",
    "        adata_sample = select_slide(adata, sample, batch_key = 'sample')\n",
    "        adata_sample = adata_sample[[i == 'Epididymis' for i in adata_sample.obs['broad_anatomy_annots']]]\n",
    "        \n",
    "        # Remove excluded regions \n",
    "        adata_sample = adata_sample[[i not in excluded_regions for i in adata_sample.obs['longitudinal_anatomy']]]\n",
    "        adata_sample = adata_sample[[i > min_cells for i in adata_sample.obs['tot_cell_abundance']]]\n",
    "    \n",
    "        adata_sample = adata_sample[[notna_val for notna_val in adata_sample.obs['L2_dist_longitudinal_anatomy_EfferentDuctules'].notna()]]\n",
    "        \n",
    "        # Build axis \n",
    "        df = adata_sample.obs[['L2_dist_longitudinal_anatomy_' + start_feature, 'L2_dist_longitudinal_anatomy_' + end_feature, \n",
    "               'broad_anatomy_annots']]\n",
    "        print(df.head())\n",
    "        print(df['L2_dist_longitudinal_anatomy_' + start_feature].isna().value_counts())\n",
    "        epididymal_axis = [( start_weight*int(s) - end_weight*int(e) ) / ( start_weight*int(s) + end_weight*int(e) ) for s,e in zip(df['L2_dist_longitudinal_anatomy_' + start_feature], df['L2_dist_longitudinal_anatomy_' + end_feature])]\n",
    "        df['Epididymal_Axis'] = epididymal_axis\n",
    "        \n",
    "        df['Epididymal_Axis'] = transpose_axis(df['Epididymal_Axis'], -2, 0)\n",
    "        print(df['Epididymal_Axis'].hist(bins=20))\n",
    "        \n",
    "        # Add axis to slide \n",
    "        adata_sample.obs['Epididymal_Axis'] = adata_sample.obs_names.map(df['Epididymal_Axis'].to_dict())\n",
    "        sc.pl.spatial(adata_sample, color=\"Epididymal_Axis\", cmap = 'jet')\n",
    "        print(df['Epididymal_Axis'].hist(bins=20))\n",
    "    \n",
    "        \n",
    "        return adata_sample "
   ]
  },
  {
   "cell_type": "code",
   "execution_count": null,
   "id": "b3b1ef65",
   "metadata": {},
   "outputs": [],
   "source": [
    "HCA_F_RepTsp14733322_axis = build_epididymal_axis(adata_cytassist, 'HCA_F_RepTsp14733322', 10, 'EfferentDuctules', 'EpididymisEnd', \n",
    "                                                                      start_weight = 0.5, end_weight = 0.5, is_stitched = False)"
   ]
  },
  {
   "cell_type": "code",
   "execution_count": null,
   "id": "d3f33204",
   "metadata": {},
   "outputs": [],
   "source": [
    "HCA_F_RepTsp14733322 = select_slide(adata_cytassist, 'HCA_F_RepTsp14733322', batch_key = 'sample')"
   ]
  },
  {
   "cell_type": "code",
   "execution_count": null,
   "id": "bd0c9de6",
   "metadata": {},
   "outputs": [],
   "source": [
    "HCA_F_RepTsp14733322.obs['Epididymal_Axis'] = HCA_F_RepTsp14733322.obs_names.map(HCA_F_RepTsp14733322_axis.obs['Epididymal_Axis'].to_dict())"
   ]
  },
  {
   "cell_type": "code",
   "execution_count": null,
   "id": "00ea552f",
   "metadata": {},
   "outputs": [],
   "source": [
    "sc.set_figure_params(scanpy=True, dpi=80, dpi_save=150, frameon=True, vector_friendly=True, fontsize=14, \n",
    "                     figsize=[6,6], color_map=None, format='pdf', facecolor=None, transparent=False)"
   ]
  },
  {
   "cell_type": "code",
   "execution_count": null,
   "id": "df896122",
   "metadata": {},
   "outputs": [],
   "source": [
    "import matplotlib as mpl\n",
    "mpl.rcParams['pdf.fonttype'] = 42"
   ]
  },
  {
   "cell_type": "code",
   "execution_count": null,
   "id": "b8dc6f1c",
   "metadata": {},
   "outputs": [],
   "source": [
    "from matplotlib.colors import LinearSegmentedColormap\n",
    "\n",
    "\n",
    "# Define the colors and their corresponding positions\n",
    "colors = [\"#34d5e4\", \"#55b0ff\", \"#11006e\"]\n",
    "\n",
    "# Create the colormap\n",
    "cmap_epididymis = LinearSegmentedColormap.from_list('custom_cmap', colors, N=256)"
   ]
  },
  {
   "cell_type": "code",
   "execution_count": null,
   "id": "4b79a003",
   "metadata": {},
   "outputs": [],
   "source": [
    "sc.pl.spatial(HCA_F_RepTsp14733322, color = 'Epididymal_Axis', cmap = cmap_epididymis, \n",
    "             save = 'HCA_F_RepTsp14733322_epididymal_axis')"
   ]
  },
  {
   "cell_type": "code",
   "execution_count": null,
   "id": "2fa63f73",
   "metadata": {},
   "outputs": [],
   "source": [
    "sc.pl.spatial(HCA_F_RepTsp14733322, \n",
    "             save = 'HCA_F_RepTsp14733322_h&e')"
   ]
  },
  {
   "cell_type": "code",
   "execution_count": null,
   "id": "6bc02cea",
   "metadata": {},
   "outputs": [],
   "source": [
    "HCA_F_RepTsp14707486_axis = build_epididymal_axis(adata_cytassist, 'HCA_F_RepTsp14707486', 10, 'EfferentDuctules', 'EpididymisEnd', \n",
    "                                                                      start_weight = 0.5, end_weight = 0.5, is_stitched = False)"
   ]
  },
  {
   "cell_type": "markdown",
   "id": "7f9f1963",
   "metadata": {},
   "source": [
    "## 2. Build vas deferens axis"
   ]
  },
  {
   "cell_type": "code",
   "execution_count": null,
   "id": "fbf4eaf5",
   "metadata": {},
   "outputs": [],
   "source": [
    "adata_cytassist.obs['longitudinal_anatomy'].value_counts()"
   ]
  },
  {
   "cell_type": "code",
   "execution_count": null,
   "id": "675e4df8",
   "metadata": {},
   "outputs": [],
   "source": [
    "def build_vasdeferens_axis(adata, sample, min_cells, start_feature, end_feature, start_weight = 1, end_weight = 1,\n",
    "                         excluded_regions = ['ToExclude', 'Background'], is_stitched = False, sample1 = None, sample2 = None):\n",
    "    \n",
    "    print('Is the sample stitched? {}'.format(is_stitched))\n",
    "    \n",
    "    if not is_stitched:\n",
    "        \n",
    "        print('Building uterovaginal axis for sample {} from {} (weight: {}) to {} (weight: {})'.format(sample, start_feature, \n",
    "                            start_weight, end_feature, end_weight))\n",
    "        \n",
    "        # Select slide from spatial anndata object\n",
    "        adata_sample = select_slide(adata, sample, batch_key = 'sample')\n",
    "        adata_sample = adata_sample[[i == 'VasDeferens' for i in adata_sample.obs['broad_anatomy_annots']]]\n",
    "        \n",
    "        # Remove excluded regions \n",
    "        adata_sample = adata_sample[[i not in excluded_regions for i in adata_sample.obs['longitudinal_anatomy']]]\n",
    "        adata_sample = adata_sample[[i > min_cells for i in adata_sample.obs['tot_cell_abundance']]]\n",
    "    \n",
    "        adata_sample = adata_sample[[notna_val for notna_val in adata_sample.obs['L2_dist_longitudinal_anatomy_VasDeferensStart'].notna()]]\n",
    "        adata_sample = adata_sample[[notna_val for notna_val in adata_sample.obs['L2_dist_longitudinal_anatomy_VasDeferensEnd'].notna()]]\n",
    "        \n",
    "        # Build axis \n",
    "        df = adata_sample.obs[['L2_dist_longitudinal_anatomy_' + start_feature, 'L2_dist_longitudinal_anatomy_' + end_feature, \n",
    "               'broad_anatomy_annots']]\n",
    "        print(df.head())\n",
    "        print(df['L2_dist_longitudinal_anatomy_' + start_feature].isna().value_counts())\n",
    "        epididymal_axis = [( start_weight*int(s) - end_weight*int(e) ) / ( start_weight*int(s) + end_weight*int(e) ) for s,e in zip(df['L2_dist_longitudinal_anatomy_' + start_feature], df['L2_dist_longitudinal_anatomy_' + end_feature])]\n",
    "        df['VasDeferens_Axis'] = epididymal_axis\n",
    "        \n",
    "        df['VasDeferens_Axis'] = transpose_axis(df['VasDeferens_Axis'], 0, 2)\n",
    "        print(df['VasDeferens_Axis'].hist(bins=20))\n",
    "        \n",
    "        # Add axis to slide \n",
    "        adata_sample.obs['VasDeferens_Axis'] = adata_sample.obs_names.map(df['VasDeferens_Axis'].to_dict())\n",
    "        sc.pl.spatial(adata_sample, color=\"VasDeferens_Axis\", cmap = 'jet')\n",
    "        print(df['VasDeferens_Axis'].hist(bins=20))\n",
    "    \n",
    "        \n",
    "        return adata_sample "
   ]
  },
  {
   "cell_type": "code",
   "execution_count": null,
   "id": "6164d203",
   "metadata": {},
   "outputs": [],
   "source": [
    "HCA_F_RepTsp14733322_vd_axis = build_vasdeferens_axis(adata_cytassist, 'HCA_F_RepTsp14733322', 10, 'VasDeferensStart', 'VasDeferensEnd', \n",
    "                                                                      start_weight = 0.5, end_weight = 0.5, is_stitched = False)"
   ]
  },
  {
   "cell_type": "code",
   "execution_count": null,
   "id": "de56529a",
   "metadata": {},
   "outputs": [],
   "source": [
    "HCA_F_RepTsp14707486_vd_axis = build_vasdeferens_axis(adata_cytassist, 'HCA_F_RepTsp14707486', 10, 'VasDeferensStart', 'VasDeferensEnd', \n",
    "                                                                      start_weight = 0.5, end_weight = 0.5, is_stitched = False)"
   ]
  },
  {
   "cell_type": "markdown",
   "id": "be868772",
   "metadata": {},
   "source": [
    "## 3. Combine samples - epididymis"
   ]
  },
  {
   "cell_type": "code",
   "execution_count": null,
   "id": "8867ab02",
   "metadata": {},
   "outputs": [],
   "source": [
    "def combine_axis(samples, axis_name, return_adata = False):\n",
    "    \n",
    "    # Merge anndata objects\n",
    "    adata_all = samples[0].concatenate(samples[1:], index_unique = None)\n",
    "    \n",
    "    # Remove spots that don't have a value for the axis \n",
    "    adata_all_obs = adata_all.obs\n",
    "    adata_all_obs = adata_all_obs[adata_all_obs[axis_name].notna()]\n",
    "    adata_all = adata_all[adata_all_obs.index.to_list(), :]\n",
    "    \n",
    "    if return_adata:\n",
    "        return adata_all\n",
    "    else:\n",
    "        return adata_all_obs"
   ]
  },
  {
   "cell_type": "code",
   "execution_count": null,
   "id": "f0e7aeb2",
   "metadata": {},
   "outputs": [],
   "source": [
    "epididymal_axis = combine_axis(samples = [\n",
    "                                           HCA_F_RepTsp14733322_axis,HCA_F_RepTsp14707486_axis\n",
    "                                           ], \n",
    "                                axis_name = 'Epididymal_Axis', return_adata = True)"
   ]
  },
  {
   "cell_type": "code",
   "execution_count": null,
   "id": "621fc7e2",
   "metadata": {},
   "outputs": [],
   "source": [
    "epididymal_axis"
   ]
  },
  {
   "cell_type": "code",
   "execution_count": null,
   "id": "c8f2e1b6",
   "metadata": {},
   "outputs": [],
   "source": [
    "# Selecting relevant columns for computation\n",
    "relevant_columns = ['Coelomic_Epithelium', 'CaputEpididymis_Epithelium', 'Corpus/CaudaEpididymis_Epithelium', 'CaputEpididymis_Ciliated_Epithelium', 'Corpus/CaputEpididymis_Mesenchyme', 'Corpus/CaputEpididymis_Ligament', 'CaudaEpididymis_Mesenchyme', 'CaudaEpididymis_Ligament', 'VasDeferens_Mesenchyme', 'VasDeferens_Ligament', 'Urethral_Plate', 'Genital_Epidermis', 'Preputial_Lamina', 'ExternalGenitalia_CorpusSpongiosum', 'ExternalGenitalia_CorpusCavernosum', 'ExternalGenitalia_Glans', 'ExternalGenitalia_Prepuce', 'ExternalGenitalia_SubdermalPrepuce', 'Pre-Perivascular', 'Perivascular', 'SkeletalMuscle', 'Endothelial', 'Endothelial_Lymphatic', 'Immune', 'Erythroid', 'SchwannCell', 'Neural']\n",
    "\n",
    "# Calculating the percentage of cells that are of the most abundant cell type for each spot\n",
    "epididymal_axis.obs['Most_Abundant_Cell_Type'] = epididymal_axis.obs[relevant_columns].idxmax(axis=1)\n",
    "epididymal_axis.obs['Most_Abundant_Cell_Type'].value_counts()"
   ]
  },
  {
   "cell_type": "code",
   "execution_count": null,
   "id": "cb0ed067",
   "metadata": {},
   "outputs": [],
   "source": [
    "for s in epididymal_axis.obs_names:\n",
    "    ct = epididymal_axis.obs.loc[s, 'Most_Abundant_Cell_Type']\n",
    "    n_ct = epididymal_axis.obs.loc[s, ct]\n",
    "    n_tot = epididymal_axis.obs.loc[s, relevant_columns].sum()\n",
    "    epididymal_axis.obs.loc[s, 'Percentage_Most_Abundant_Cell_Type'] = (n_ct / n_tot) "
   ]
  },
  {
   "cell_type": "code",
   "execution_count": null,
   "id": "844ac1c5",
   "metadata": {},
   "outputs": [],
   "source": [
    "epididymal_mese = epididymal_axis[[i in ['Corpus/CaputEpididymis_Mesenchyme', \n",
    "                                     ] for i in epididymal_axis.obs['Most_Abundant_Cell_Type']]]\n",
    "epididymal_mese"
   ]
  },
  {
   "cell_type": "code",
   "execution_count": null,
   "id": "1b55dfb2",
   "metadata": {},
   "outputs": [],
   "source": [
    "epididymal_mese.obs['Percentage_Most_Abundant_Cell_Type'].hist(bins = 20)"
   ]
  },
  {
   "cell_type": "code",
   "execution_count": null,
   "id": "8f1465a4",
   "metadata": {},
   "outputs": [],
   "source": [
    "epididymal_mese.var.head()"
   ]
  },
  {
   "cell_type": "code",
   "execution_count": null,
   "id": "bd6eb73e",
   "metadata": {},
   "outputs": [],
   "source": [
    "epididymal_mese = epididymal_mese[[i > 0.7 for i in epididymal_mese.obs['Percentage_Most_Abundant_Cell_Type']]]"
   ]
  },
  {
   "cell_type": "code",
   "execution_count": null,
   "id": "23bf2fbf",
   "metadata": {},
   "outputs": [],
   "source": [
    "\n",
    "\n",
    "HCA_F_RepTsp14707486_axis.obs['Percentage_Most_Abundant_Cell_Type'] = HCA_F_RepTsp14707486_axis.obs_names.map(epididymal_mese.obs['Percentage_Most_Abundant_Cell_Type'].to_dict())\n",
    "sc.pl.spatial(HCA_F_RepTsp14707486_axis, color=\"Percentage_Most_Abundant_Cell_Type\")\n",
    "HCA_F_RepTsp14707486_axis.obs['Most_Abundant_Cell_Type'] = HCA_F_RepTsp14707486_axis.obs_names.map(epididymal_mese.obs['Most_Abundant_Cell_Type'].to_dict())\n",
    "sc.pl.spatial(HCA_F_RepTsp14707486_axis, color=\"Most_Abundant_Cell_Type\")\n",
    "\n",
    "HCA_F_RepTsp14733322_axis.obs['Percentage_Most_Abundant_Cell_Type'] = HCA_F_RepTsp14733322_axis.obs_names.map(epididymal_mese.obs['Percentage_Most_Abundant_Cell_Type'].to_dict())\n",
    "sc.pl.spatial(HCA_F_RepTsp14733322_axis, color=\"Percentage_Most_Abundant_Cell_Type\")\n",
    "HCA_F_RepTsp14733322_axis.obs['Most_Abundant_Cell_Type'] = HCA_F_RepTsp14733322_axis.obs_names.map(epididymal_mese.obs['Most_Abundant_Cell_Type'].to_dict())\n",
    "sc.pl.spatial(HCA_F_RepTsp14733322_axis, color=\"Most_Abundant_Cell_Type\")"
   ]
  },
  {
   "cell_type": "code",
   "execution_count": null,
   "id": "1b0c1b67",
   "metadata": {},
   "outputs": [],
   "source": [
    "epididymal_mese.X[20:30, 20:30].toarray()"
   ]
  },
  {
   "cell_type": "code",
   "execution_count": null,
   "id": "a698265f",
   "metadata": {},
   "outputs": [],
   "source": [
    "epididymal_mese_forR = epididymal_mese.copy()"
   ]
  },
  {
   "cell_type": "code",
   "execution_count": null,
   "id": "d1f797be",
   "metadata": {},
   "outputs": [],
   "source": [
    "# remove mito genes\n",
    "non_mito_genes = [name for name in epididymal_mese_forR.var_names if not name.startswith('MT-')]\n",
    "epididymal_mese_forR = epididymal_mese_forR[:, non_mito_genes]\n",
    "\n",
    "# remove ribo genes\n",
    "non_ribo_genes = [name for name in epididymal_mese_forR.var_names if not name.startswith('RP')]\n",
    "epididymal_mese_forR = epididymal_mese_forR[:, non_ribo_genes]\n",
    "\n",
    "# remove haemoglobin genes \n",
    "non_haemo_genes = [name for name in epididymal_mese_forR.var_names if name not in ['HBA1', 'HBA2', 'HBB', 'HBG1', 'HBG2']]\n",
    "epididymal_mese_forR = epididymal_mese_forR[:, non_haemo_genes]\n",
    "\n",
    "sc.pp.filter_genes(epididymal_mese_forR, min_cells = 10)\n",
    "sc.pp.filter_genes(epididymal_mese_forR, min_counts = 1)"
   ]
  },
  {
   "cell_type": "code",
   "execution_count": null,
   "id": "d6b0adc6",
   "metadata": {},
   "outputs": [],
   "source": [
    "epididymal_mese_forR.shape"
   ]
  },
  {
   "cell_type": "code",
   "execution_count": null,
   "id": "c638f348",
   "metadata": {},
   "outputs": [],
   "source": [
    "for col in epididymal_mese_forR.obs.columns:\n",
    "    if col not in [ 'Epididymal_Axis', 'sample']:\n",
    "        del epididymal_mese_forR.obs[col]"
   ]
  },
  {
   "cell_type": "code",
   "execution_count": null,
   "id": "9247e737",
   "metadata": {},
   "outputs": [],
   "source": [
    "epididymal_mese_forR.obs['Epididymal_Axis'].hist(bins = 10)"
   ]
  },
  {
   "cell_type": "code",
   "execution_count": null,
   "id": "bbf5e5c0",
   "metadata": {},
   "outputs": [],
   "source": [
    "del epididymal_mese_forR.obsm"
   ]
  },
  {
   "cell_type": "code",
   "execution_count": null,
   "id": "dfbb713e",
   "metadata": {},
   "outputs": [],
   "source": [
    "import rpy2.rinterface_lib.callbacks\n",
    "import logging\n",
    "# Ignore R warning messages\n",
    "#Note: this can be commented out to get more verbose R output\n",
    "rpy2.rinterface_lib.callbacks.logger.setLevel(logging.ERROR)\n",
    "import anndata2ri\n",
    "anndata2ri.activate()\n",
    "%load_ext rpy2.ipython"
   ]
  },
  {
   "cell_type": "code",
   "execution_count": null,
   "id": "6b96227a",
   "metadata": {},
   "outputs": [],
   "source": [
    "%%R -i epididymal_mese_forR\n",
    "epididymal_mese_forR"
   ]
  },
  {
   "cell_type": "code",
   "execution_count": null,
   "id": "3934140a",
   "metadata": {},
   "outputs": [],
   "source": [
    "%%R \n",
    "saveRDS(epididymal_mese_forR, '/lustre/scratch126/cellgen/team292/vl6/VISIUM/epididymalaxis_mese_cytassist.rds')"
   ]
  },
  {
   "cell_type": "code",
   "execution_count": null,
   "id": "3623538d",
   "metadata": {},
   "outputs": [],
   "source": [
    "epididymal_epi = epididymal_axis[[i in ['Corpus/CaputEpididymis_Mesenchyme', 'CaputEpididymis_Epithelium', \n",
    "                                         'Corpus/CaudaEpididymis_Epithelium'\n",
    "                                     ] for i in epididymal_axis.obs['Most_Abundant_Cell_Type']]]\n",
    "epididymal_epi"
   ]
  },
  {
   "cell_type": "code",
   "execution_count": null,
   "id": "ff919c22",
   "metadata": {},
   "outputs": [],
   "source": [
    "epididymal_epi.obs['Most_Abundant_Cell_Type'].value_counts()"
   ]
  },
  {
   "cell_type": "code",
   "execution_count": null,
   "id": "64e0519d",
   "metadata": {},
   "outputs": [],
   "source": [
    "epididymal_epi.obs['Corpus/CaudaEpididymis_Epithelium'].hist()"
   ]
  },
  {
   "cell_type": "code",
   "execution_count": null,
   "id": "fde303eb",
   "metadata": {},
   "outputs": [],
   "source": [
    "epididymal_epi.obs['Epididymis_Epi_combined'] = epididymal_epi.obs['Corpus/CaudaEpididymis_Epithelium'] + epididymal_epi.obs['CaputEpididymis_Epithelium']\n"
   ]
  },
  {
   "cell_type": "code",
   "execution_count": null,
   "id": "9af21a3e",
   "metadata": {},
   "outputs": [],
   "source": [
    "epididymal_epi.obs['Epididymis_Epi_combined'].hist()"
   ]
  },
  {
   "cell_type": "code",
   "execution_count": null,
   "id": "50c2d0e1",
   "metadata": {},
   "outputs": [],
   "source": [
    "epididymal_epi = epididymal_epi[[i >= 3 for i in epididymal_epi.obs['Epididymis_Epi_combined']]]\n"
   ]
  },
  {
   "cell_type": "code",
   "execution_count": null,
   "id": "74052bad",
   "metadata": {},
   "outputs": [],
   "source": [
    "epididymal_epi.shape"
   ]
  },
  {
   "cell_type": "code",
   "execution_count": null,
   "id": "2bc7b177",
   "metadata": {},
   "outputs": [],
   "source": [
    "\n",
    "\n",
    "HCA_F_RepTsp14707486_axis.obs['Percentage_Most_Abundant_Cell_Type'] = HCA_F_RepTsp14707486_axis.obs_names.map(epididymal_epi.obs['Percentage_Most_Abundant_Cell_Type'].to_dict())\n",
    "sc.pl.spatial(HCA_F_RepTsp14707486_axis, color=\"Percentage_Most_Abundant_Cell_Type\")\n",
    "HCA_F_RepTsp14707486_axis.obs['Most_Abundant_Cell_Type'] = HCA_F_RepTsp14707486_axis.obs_names.map(epididymal_epi.obs['Most_Abundant_Cell_Type'].to_dict())\n",
    "sc.pl.spatial(HCA_F_RepTsp14707486_axis, color=\"Most_Abundant_Cell_Type\")\n",
    "\n",
    "HCA_F_RepTsp14733322_axis.obs['Percentage_Most_Abundant_Cell_Type'] = HCA_F_RepTsp14733322_axis.obs_names.map(epididymal_epi.obs['Percentage_Most_Abundant_Cell_Type'].to_dict())\n",
    "sc.pl.spatial(HCA_F_RepTsp14733322_axis, color=\"Percentage_Most_Abundant_Cell_Type\")\n",
    "HCA_F_RepTsp14733322_axis.obs['Most_Abundant_Cell_Type'] = HCA_F_RepTsp14733322_axis.obs_names.map(epididymal_epi.obs['Most_Abundant_Cell_Type'].to_dict())\n",
    "sc.pl.spatial(HCA_F_RepTsp14733322_axis, color=\"Most_Abundant_Cell_Type\")"
   ]
  },
  {
   "cell_type": "code",
   "execution_count": null,
   "id": "5541429c",
   "metadata": {},
   "outputs": [],
   "source": [
    "epididymal_epi.obs['Epididymal_Axis'].hist(bins = 3)"
   ]
  },
  {
   "cell_type": "code",
   "execution_count": null,
   "id": "16322b35",
   "metadata": {},
   "outputs": [],
   "source": [
    "## Downsample per bin\n",
    "def bin_axis(df, n_bins = 10, axis_name = 'Epididymal_Axis'):\n",
    "    max_val = np.nanquantile(df[axis_name],0.9999)\n",
    "    min_val = np.nanquantile(df[axis_name],0.0001)\n",
    "\n",
    "    incr_uva = (max_val-min_val)/n_bins\n",
    "    uva_bins = []\n",
    "    for i in range(0,n_bins+1):\n",
    "        uva_bins.append(min_val+(i*incr_uva))\n",
    "\n",
    "    df['binned_' + axis_name + '_' + str(n_bins) + '_bins'] = pd.cut(df[axis_name], bins = uva_bins, labels=uva_bins[:-1])\n",
    "    return df"
   ]
  },
  {
   "cell_type": "code",
   "execution_count": null,
   "id": "c9aaab03",
   "metadata": {},
   "outputs": [],
   "source": [
    "# Random downsampling per cell type \n",
    "import random\n",
    "from itertools import chain\n",
    "def downsample(adata, labels, n): \n",
    "    \n",
    "    myindex = adata.obs[labels].value_counts().index \n",
    "    myvalues = adata.obs[labels].value_counts().values\n",
    "    clusters = pd.Series(myvalues, index = myindex)\n",
    "    \n",
    "    # Find clusters with > n cells \n",
    "    cl2downsample = clusters.index[ clusters.values > n ]\n",
    "\n",
    "    # save all barcode ids from small clusters\n",
    "    holder = []\n",
    "    holder.append( adata.obs_names[[ i not in cl2downsample for i in adata.obs[labels] ]] ) \n",
    "\n",
    "    # randomly sample n cells in the cl2downsample\n",
    "    for cl in cl2downsample:\n",
    "        print(cl)\n",
    "        cl_sample = adata[[ i == cl for i in adata.obs[labels]]].obs_names\n",
    "        \n",
    "        cl_downsample = random.sample(set(cl_sample), n )\n",
    "        holder.append(cl_downsample)\n",
    "    \n",
    "    # samples to include\n",
    "    samples = list(chain(*holder))\n",
    "\n",
    "    # Filter adata_count\n",
    "    adata = adata[[ i in samples for i in adata.obs_names ]]\n",
    "    return adata"
   ]
  },
  {
   "cell_type": "code",
   "execution_count": null,
   "id": "6ba02cb6",
   "metadata": {},
   "outputs": [],
   "source": [
    "axis = bin_axis(epididymal_epi.obs, n_bins = 3, axis_name = 'Epididymal_Axis')\n",
    "axis['binned_Epididymal_Axis_3_bins'] = axis['binned_Epididymal_Axis_3_bins'].astype(float)\n",
    "axis['binned_Epididymal_Axis_3_bins'] = np.round(axis['binned_Epididymal_Axis_3_bins'], 2)\n",
    "epididymal_epi.obs['binned_Epididymal_Axis_3_bins'] = epididymal_epi.obs_names.map(axis['binned_Epididymal_Axis_3_bins'].to_dict())"
   ]
  },
  {
   "cell_type": "code",
   "execution_count": null,
   "id": "e898268e",
   "metadata": {},
   "outputs": [],
   "source": [
    "epididymal_epi.obs['binned_Epididymal_Axis_3_bins'].value_counts()"
   ]
  },
  {
   "cell_type": "code",
   "execution_count": null,
   "id": "e86462b3",
   "metadata": {},
   "outputs": [],
   "source": [
    "epididymal_epi_downsampled = downsample(epididymal_epi, 'binned_Epididymal_Axis_3_bins', 52)"
   ]
  },
  {
   "cell_type": "code",
   "execution_count": null,
   "id": "47597700",
   "metadata": {},
   "outputs": [],
   "source": [
    "epididymal_epi_downsampled.shape"
   ]
  },
  {
   "cell_type": "code",
   "execution_count": null,
   "id": "5bc84f91",
   "metadata": {},
   "outputs": [],
   "source": [
    "epididymal_epi_forR = epididymal_epi_downsampled.copy()"
   ]
  },
  {
   "cell_type": "code",
   "execution_count": null,
   "id": "26f29d6f",
   "metadata": {},
   "outputs": [],
   "source": [
    "epididymal_epi_forR.shape"
   ]
  },
  {
   "cell_type": "code",
   "execution_count": null,
   "id": "c82f820e",
   "metadata": {},
   "outputs": [],
   "source": [
    "# remove mito genes\n",
    "non_mito_genes = [name for name in epididymal_epi_forR.var_names if not name.startswith('MT-')]\n",
    "epididymal_epi_forR = epididymal_epi_forR[:, non_mito_genes]\n",
    "\n",
    "# remove ribo genes\n",
    "non_ribo_genes = [name for name in epididymal_epi_forR.var_names if not name.startswith('RP')]\n",
    "epididymal_epi_forR = epididymal_epi_forR[:, non_ribo_genes]\n",
    "\n",
    "# remove haemoglobin genes \n",
    "non_haemo_genes = [name for name in epididymal_epi_forR.var_names if name not in ['HBA1', 'HBA2', 'HBB', 'HBG1', 'HBG2']]\n",
    "epididymal_epi_forR = epididymal_epi_forR[:, non_haemo_genes]\n",
    "\n",
    "# remove heat shock protein genes\n",
    "non_hps_genes = [name for name in epididymal_epi_forR.var_names if not name.startswith('HSP')]\n",
    "epididymal_epi_forR = epididymal_epi_forR[:, non_hps_genes]\n",
    "\n",
    "\n",
    "sc.pp.filter_genes(epididymal_epi_forR, min_cells = 10)\n",
    "sc.pp.filter_genes(epididymal_epi_forR, min_counts = 1)"
   ]
  },
  {
   "cell_type": "code",
   "execution_count": null,
   "id": "0aee99e3",
   "metadata": {},
   "outputs": [],
   "source": [
    "del epididymal_epi_forR.obsm"
   ]
  },
  {
   "cell_type": "code",
   "execution_count": null,
   "id": "1a6e55e6",
   "metadata": {},
   "outputs": [],
   "source": [
    "%%R -i epididymal_epi_forR\n",
    "epididymal_epi_forR"
   ]
  },
  {
   "cell_type": "code",
   "execution_count": null,
   "id": "75e735b8",
   "metadata": {},
   "outputs": [],
   "source": [
    "%%R \n",
    "saveRDS(epididymal_epi_forR, '/lustre/scratch126/cellgen/team292/vl6/VISIUM/epididymalaxis_epi_downsampled_cytassist.rds')"
   ]
  },
  {
   "cell_type": "markdown",
   "id": "598612a7",
   "metadata": {},
   "source": [
    "## Plot selected genes from TradeSeq and prioritisation with scRNA-seq "
   ]
  },
  {
   "cell_type": "code",
   "execution_count": null,
   "id": "77b63189",
   "metadata": {},
   "outputs": [],
   "source": [
    "sc.set_figure_params(scanpy=True, dpi=80, dpi_save=150, frameon=True, vector_friendly=True, \n",
    "                         fontsize=14, figsize=(7, 7), color_map=None, format='pdf', facecolor=None, transparent=False)"
   ]
  },
  {
   "cell_type": "code",
   "execution_count": null,
   "id": "9d66eb83",
   "metadata": {},
   "outputs": [],
   "source": [
    "import matplotlib as mpl\n",
    "mpl.rcParams['pdf.fonttype'] = 42"
   ]
  },
  {
   "cell_type": "code",
   "execution_count": null,
   "id": "17edea36",
   "metadata": {},
   "outputs": [],
   "source": [
    "spatially_variable_secretory_epi = ['CLDN2', 'CLDN10', 'CDH6', 'CDH2', 'AMN', 'FMO1', 'PDK4', 'SALL1',\n",
    "                                   'SPAG11A', 'GLYAT', 'GLYATL1', 'SPINK2', 'PDZK1', 'PDZK1IP1',\n",
    "                                    'ESR1', 'CFTR', 'VIL1', 'ACSL5', 'POMC', 'CPM', 'PCP4',\n",
    "                                   'KRT17', 'WNT9B', 'PIK3C2G',  'BLNK', 'TFAP2A', 'GATA3', 'MARCH11', 'CPXM2', 'CXCL14', 'WNT6','MUC6',  \n",
    "                                  ]"
   ]
  },
  {
   "cell_type": "code",
   "execution_count": null,
   "id": "20e9eaba",
   "metadata": {},
   "outputs": [],
   "source": [
    "# Create matrix plot using scanpy\n",
    "sc.pl.matrixplot(epididymal_epi_downsampled,var_names=spatially_variable_secretory_epi,groupby='binned_Epididymal_Axis_3_bins',\n",
    "                 num_categories = 3,\n",
    "                 cmap='OrRd',\n",
    "                 standard_scale='var',dendrogram=False,\n",
    "                 save='visium_matrixplot_epididymis_epi_genes_spatiallyvariable.pdf'\n",
    "                )"
   ]
  },
  {
   "cell_type": "markdown",
   "id": "326b908c",
   "metadata": {},
   "source": [
    "## 4. Combine samples - vas deferens "
   ]
  },
  {
   "cell_type": "code",
   "execution_count": null,
   "id": "ccafa798",
   "metadata": {},
   "outputs": [],
   "source": [
    "vasdeferens_axis = combine_axis(samples = [\n",
    "                                           HCA_F_RepTsp14733322_vd_axis,HCA_F_RepTsp14707486_vd_axis\n",
    "                                           ], \n",
    "                                axis_name = 'VasDeferens_Axis', return_adata = True)"
   ]
  },
  {
   "cell_type": "code",
   "execution_count": null,
   "id": "d72587ee",
   "metadata": {},
   "outputs": [],
   "source": [
    "vasdeferens_axis"
   ]
  },
  {
   "cell_type": "code",
   "execution_count": null,
   "id": "74d551c3",
   "metadata": {},
   "outputs": [],
   "source": [
    "# Selecting relevant columns for computation\n",
    "relevant_columns = ['Coelomic_Epithelium', 'CaputEpididymis_Epithelium', 'Corpus/CaudaEpididymis_Epithelium', 'CaputEpididymis_Ciliated_Epithelium', 'Corpus/CaputEpididymis_Mesenchyme', 'Corpus/CaputEpididymis_Ligament', 'CaudaEpididymis_Mesenchyme', 'CaudaEpididymis_Ligament', 'VasDeferens_Mesenchyme', 'VasDeferens_Ligament', 'Urethral_Plate', 'Genital_Epidermis', 'Preputial_Lamina', 'ExternalGenitalia_CorpusSpongiosum', 'ExternalGenitalia_CorpusCavernosum', 'ExternalGenitalia_Glans', 'ExternalGenitalia_Prepuce', 'ExternalGenitalia_SubdermalPrepuce', 'Pre-Perivascular', 'Perivascular', 'SkeletalMuscle', 'Endothelial', 'Endothelial_Lymphatic', 'Immune', 'Erythroid', 'SchwannCell', 'Neural']\n",
    "\n",
    "# Calculating the percentage of cells that are of the most abundant cell type for each spot\n",
    "vasdeferens_axis.obs['Most_Abundant_Cell_Type'] = vasdeferens_axis.obs[relevant_columns].idxmax(axis=1)\n",
    "vasdeferens_axis.obs['Most_Abundant_Cell_Type'].value_counts()"
   ]
  },
  {
   "cell_type": "code",
   "execution_count": null,
   "id": "e33d61dd",
   "metadata": {},
   "outputs": [],
   "source": [
    "for s in vasdeferens_axis.obs_names:\n",
    "    ct = vasdeferens_axis.obs.loc[s, 'Most_Abundant_Cell_Type']\n",
    "    n_ct = vasdeferens_axis.obs.loc[s, ct]\n",
    "    n_tot = vasdeferens_axis.obs.loc[s, relevant_columns].sum()\n",
    "    vasdeferens_axis.obs.loc[s, 'Percentage_Most_Abundant_Cell_Type'] = (n_ct / n_tot) "
   ]
  },
  {
   "cell_type": "code",
   "execution_count": null,
   "id": "23be79d1",
   "metadata": {},
   "outputs": [],
   "source": [
    "vasdeferens_mese = vasdeferens_axis[[i in ['VasDeferens_Mesenchyme', \n",
    "                                     ] for i in vasdeferens_axis.obs['Most_Abundant_Cell_Type']]]\n",
    "vasdeferens_mese"
   ]
  },
  {
   "cell_type": "code",
   "execution_count": null,
   "id": "962e2293",
   "metadata": {},
   "outputs": [],
   "source": [
    "vasdeferens_mese.obs['Percentage_Most_Abundant_Cell_Type'].hist(bins = 20)"
   ]
  },
  {
   "cell_type": "code",
   "execution_count": null,
   "id": "9c81ef9f",
   "metadata": {},
   "outputs": [],
   "source": [
    "vasdeferens_mese = vasdeferens_mese[[i > 0.7 for i in vasdeferens_mese.obs['Percentage_Most_Abundant_Cell_Type']]]"
   ]
  },
  {
   "cell_type": "code",
   "execution_count": null,
   "id": "5e701303",
   "metadata": {},
   "outputs": [],
   "source": [
    "\n",
    "\n",
    "HCA_F_RepTsp14707486_vd_axis.obs['Percentage_Most_Abundant_Cell_Type'] = HCA_F_RepTsp14707486_vd_axis.obs_names.map(vasdeferens_mese.obs['Percentage_Most_Abundant_Cell_Type'].to_dict())\n",
    "sc.pl.spatial(HCA_F_RepTsp14707486_vd_axis, color=\"Percentage_Most_Abundant_Cell_Type\")\n",
    "HCA_F_RepTsp14707486_vd_axis.obs['Most_Abundant_Cell_Type'] = HCA_F_RepTsp14707486_vd_axis.obs_names.map(vasdeferens_mese.obs['Most_Abundant_Cell_Type'].to_dict())\n",
    "sc.pl.spatial(HCA_F_RepTsp14707486_vd_axis, color=\"Most_Abundant_Cell_Type\")\n",
    "\n",
    "HCA_F_RepTsp14733322_vd_axis.obs['Percentage_Most_Abundant_Cell_Type'] = HCA_F_RepTsp14733322_vd_axis.obs_names.map(vasdeferens_mese.obs['Percentage_Most_Abundant_Cell_Type'].to_dict())\n",
    "sc.pl.spatial(HCA_F_RepTsp14733322_vd_axis, color=\"Percentage_Most_Abundant_Cell_Type\")\n",
    "HCA_F_RepTsp14733322_vd_axis.obs['Most_Abundant_Cell_Type'] = HCA_F_RepTsp14733322_vd_axis.obs_names.map(vasdeferens_mese.obs['Most_Abundant_Cell_Type'].to_dict())\n",
    "sc.pl.spatial(HCA_F_RepTsp14733322_vd_axis, color=\"Most_Abundant_Cell_Type\")"
   ]
  },
  {
   "cell_type": "code",
   "execution_count": null,
   "id": "fd7fdeb2",
   "metadata": {},
   "outputs": [],
   "source": [
    "vasdeferens_mese.X[20:30, 20:30].toarray()"
   ]
  },
  {
   "cell_type": "code",
   "execution_count": null,
   "id": "eb052eb6",
   "metadata": {},
   "outputs": [],
   "source": [
    "vasdeferens_mese_forR = vasdeferens_mese.copy()"
   ]
  },
  {
   "cell_type": "code",
   "execution_count": null,
   "id": "c4456cc0",
   "metadata": {},
   "outputs": [],
   "source": [
    "# remove mito genes\n",
    "non_mito_genes = [name for name in vasdeferens_mese_forR.var_names if not name.startswith('MT-')]\n",
    "vasdeferens_mese_forR = vasdeferens_mese_forR[:, non_mito_genes]\n",
    "\n",
    "# remove ribo genes\n",
    "non_ribo_genes = [name for name in vasdeferens_mese_forR.var_names if not name.startswith('RP')]\n",
    "vasdeferens_mese_forR = vasdeferens_mese_forR[:, non_ribo_genes]\n",
    "\n",
    "# remove haemoglobin genes \n",
    "non_haemo_genes = [name for name in vasdeferens_mese_forR.var_names if name not in ['HBA1', 'HBA2', 'HBB', 'HBG1', 'HBG2']]\n",
    "vasdeferens_mese_forR = vasdeferens_mese_forR[:, non_haemo_genes]\n",
    "\n",
    "sc.pp.filter_genes(vasdeferens_mese_forR, min_cells = 10)\n",
    "sc.pp.filter_genes(vasdeferens_mese_forR, min_counts = 1)"
   ]
  },
  {
   "cell_type": "code",
   "execution_count": null,
   "id": "631239e6",
   "metadata": {},
   "outputs": [],
   "source": [
    "vasdeferens_mese_forR.shape"
   ]
  },
  {
   "cell_type": "code",
   "execution_count": null,
   "id": "d03a4f8a",
   "metadata": {},
   "outputs": [],
   "source": [
    "for col in vasdeferens_mese_forR.obs.columns:\n",
    "    if col not in [ 'VasDeferens_Axis', 'sample']:\n",
    "        del vasdeferens_mese_forR.obs[col]"
   ]
  },
  {
   "cell_type": "code",
   "execution_count": null,
   "id": "751dcd7e",
   "metadata": {},
   "outputs": [],
   "source": [
    "vasdeferens_mese_forR.obs['VasDeferens_Axis'].hist(bins = 10)"
   ]
  },
  {
   "cell_type": "code",
   "execution_count": null,
   "id": "f799134f",
   "metadata": {},
   "outputs": [],
   "source": [
    "del vasdeferens_mese_forR.obsm"
   ]
  },
  {
   "cell_type": "code",
   "execution_count": null,
   "id": "1daa3997",
   "metadata": {},
   "outputs": [],
   "source": [
    "%%R -i vasdeferens_mese_forR\n",
    "vasdeferens_mese_forR"
   ]
  },
  {
   "cell_type": "code",
   "execution_count": null,
   "id": "5a684c45",
   "metadata": {},
   "outputs": [],
   "source": [
    "%%R \n",
    "saveRDS(vasdeferens_mese_forR, '/lustre/scratch126/cellgen/team292/vl6/VISIUM/vasdeferensaxis_mese_cytassist.rds')"
   ]
  },
  {
   "cell_type": "code",
   "execution_count": null,
   "id": "bff9f0bd",
   "metadata": {},
   "outputs": [],
   "source": [
    "vasdeferens_epi = vasdeferens_axis[[i in ['Corpus/CaudaEpididymis_Epithelium', 'CaputEpididymis_Epithelium', \n",
    "                                         'VasDeferens_Mesenchyme'\n",
    "                                     ] for i in vasdeferens_axis.obs['Most_Abundant_Cell_Type']]]\n",
    "vasdeferens_epi"
   ]
  },
  {
   "cell_type": "code",
   "execution_count": null,
   "id": "29732377",
   "metadata": {},
   "outputs": [],
   "source": [
    "vasdeferens_epi.obs['Most_Abundant_Cell_Type'].value_counts()"
   ]
  },
  {
   "cell_type": "code",
   "execution_count": null,
   "id": "6d69045f",
   "metadata": {},
   "outputs": [],
   "source": [
    "epididymal_epi.obs['Corpus/CaudaEpididymis_Epithelium'].hist()\n"
   ]
  },
  {
   "cell_type": "code",
   "execution_count": null,
   "id": "64c7146e",
   "metadata": {},
   "outputs": [],
   "source": [
    "vasdeferens_epi = vasdeferens_epi[[i >= 3 for i in vasdeferens_epi.obs['Corpus/CaudaEpididymis_Epithelium']]]\n"
   ]
  },
  {
   "cell_type": "code",
   "execution_count": null,
   "id": "aac9390e",
   "metadata": {},
   "outputs": [],
   "source": [
    "vasdeferens_epi.shape"
   ]
  },
  {
   "cell_type": "code",
   "execution_count": null,
   "id": "f383bf37",
   "metadata": {},
   "outputs": [],
   "source": [
    "HCA_F_RepTsp14707486_vd_axis.obs['Percentage_Most_Abundant_Cell_Type'] = HCA_F_RepTsp14707486_vd_axis.obs_names.map(vasdeferens_epi.obs['Percentage_Most_Abundant_Cell_Type'].to_dict())\n",
    "sc.pl.spatial(HCA_F_RepTsp14707486_vd_axis, color=\"Percentage_Most_Abundant_Cell_Type\")\n",
    "HCA_F_RepTsp14707486_vd_axis.obs['Most_Abundant_Cell_Type'] = HCA_F_RepTsp14707486_vd_axis.obs_names.map(vasdeferens_epi.obs['Most_Abundant_Cell_Type'].to_dict())\n",
    "sc.pl.spatial(HCA_F_RepTsp14707486_vd_axis, color=\"Most_Abundant_Cell_Type\")\n",
    "\n",
    "HCA_F_RepTsp14733322_vd_axis.obs['Percentage_Most_Abundant_Cell_Type'] = HCA_F_RepTsp14733322_vd_axis.obs_names.map(vasdeferens_epi.obs['Percentage_Most_Abundant_Cell_Type'].to_dict())\n",
    "sc.pl.spatial(HCA_F_RepTsp14733322_vd_axis, color=\"Percentage_Most_Abundant_Cell_Type\")\n",
    "HCA_F_RepTsp14733322_vd_axis.obs['Most_Abundant_Cell_Type'] = HCA_F_RepTsp14733322_vd_axis.obs_names.map(vasdeferens_epi.obs['Most_Abundant_Cell_Type'].to_dict())\n",
    "sc.pl.spatial(HCA_F_RepTsp14733322_vd_axis, color=\"Most_Abundant_Cell_Type\")"
   ]
  },
  {
   "cell_type": "code",
   "execution_count": null,
   "id": "89fa5a16",
   "metadata": {},
   "outputs": [],
   "source": [
    "vasdeferens_epi_forR = vasdeferens_epi.copy()"
   ]
  },
  {
   "cell_type": "code",
   "execution_count": null,
   "id": "f4bac747",
   "metadata": {},
   "outputs": [],
   "source": [
    "# remove mito genes\n",
    "non_mito_genes = [name for name in vasdeferens_epi_forR.var_names if not name.startswith('MT-')]\n",
    "vasdeferens_epi_forR = vasdeferens_epi_forR[:, non_mito_genes]\n",
    "\n",
    "# remove ribo genes\n",
    "non_ribo_genes = [name for name in vasdeferens_epi_forR.var_names if not name.startswith('RP')]\n",
    "vasdeferens_epi_forR = vasdeferens_epi_forR[:, non_ribo_genes]\n",
    "\n",
    "# remove haemoglobin genes \n",
    "non_haemo_genes = [name for name in vasdeferens_epi_forR.var_names if name not in ['HBA1', 'HBA2', 'HBB', 'HBG1', 'HBG2']]\n",
    "vasdeferens_epi_forR = vasdeferens_epi_forR[:, non_haemo_genes]\n",
    "\n",
    "# remove heat shock protein genes\n",
    "non_hps_genes = [name for name in vasdeferens_epi_forR.var_names if not name.startswith('HSP')]\n",
    "vasdeferens_epi_forR = vasdeferens_epi_forR[:, non_hps_genes]\n",
    "\n",
    "\n",
    "sc.pp.filter_genes(vasdeferens_epi_forR, min_cells = 10)\n",
    "sc.pp.filter_genes(vasdeferens_epi_forR, min_counts = 1)"
   ]
  },
  {
   "cell_type": "code",
   "execution_count": null,
   "id": "520e717e",
   "metadata": {},
   "outputs": [],
   "source": [
    "del vasdeferens_epi_forR.obsm"
   ]
  },
  {
   "cell_type": "code",
   "execution_count": null,
   "id": "e29ab8fa",
   "metadata": {},
   "outputs": [],
   "source": [
    "%%R -i vasdeferens_epi_forR\n",
    "vasdeferens_epi_forR"
   ]
  },
  {
   "cell_type": "code",
   "execution_count": null,
   "id": "d8c2736b",
   "metadata": {},
   "outputs": [],
   "source": [
    "%%R \n",
    "saveRDS(vasdeferens_epi_forR, '/lustre/scratch126/cellgen/team292/vl6/VISIUM/vasdeferensaxis_epi_cytassist.rds')"
   ]
  },
  {
   "cell_type": "code",
   "execution_count": null,
   "id": "f563b098",
   "metadata": {},
   "outputs": [],
   "source": []
  },
  {
   "cell_type": "markdown",
   "id": "a0aa8453",
   "metadata": {},
   "source": [
    "## 5. Concatenate epididymis and vas deferens axes "
   ]
  },
  {
   "cell_type": "code",
   "execution_count": null,
   "id": "27a1ca85",
   "metadata": {},
   "outputs": [],
   "source": [
    "vasdeferens_axis.obs['MaleReproductiveAxis'] = vasdeferens_axis.obs['VasDeferens_Axis'].copy()"
   ]
  },
  {
   "cell_type": "code",
   "execution_count": null,
   "id": "6a6ad235",
   "metadata": {},
   "outputs": [],
   "source": [
    "epididymal_axis.obs['MaleReproductiveAxis'] = epididymal_axis.obs['Epididymal_Axis'].copy()"
   ]
  },
  {
   "cell_type": "code",
   "execution_count": null,
   "id": "5eabd3c7",
   "metadata": {},
   "outputs": [],
   "source": [
    "epididymal_axis = epididymal_axis.obs.copy()\n",
    "vasdeferens_axis = vasdeferens_axis.obs.copy()"
   ]
  },
  {
   "cell_type": "code",
   "execution_count": null,
   "id": "05923f63",
   "metadata": {},
   "outputs": [],
   "source": [
    "axis = epididymal_axis.append(vasdeferens_axis)"
   ]
  },
  {
   "cell_type": "code",
   "execution_count": null,
   "id": "3885d179",
   "metadata": {},
   "outputs": [],
   "source": [
    "axis['MaleReproductiveAxis'].hist(bins = 6)"
   ]
  },
  {
   "cell_type": "code",
   "execution_count": null,
   "id": "99a8d1e0",
   "metadata": {},
   "outputs": [],
   "source": [
    "axis.to_csv('/lustre/scratch126/cellgen/team292/vl6/VISIUM/MaleReproductiveAxis_spots_cytassist.csv')"
   ]
  },
  {
   "cell_type": "code",
   "execution_count": null,
   "id": "73b93e6e",
   "metadata": {},
   "outputs": [],
   "source": [
    "for s in [HCA_F_RepTsp14707486_axis, HCA_F_RepTsp14733322_axis]:\n",
    "    s.obs['MaleReproductiveAxis'] = s.obs_names.map(s.obs['Epididymal_Axis'])\n",
    "    \n",
    "for s in [HCA_F_RepTsp14707486_vd_axis, HCA_F_RepTsp14733322_vd_axis]:\n",
    "    s.obs['MaleReproductiveAxis'] = s.obs_names.map(s.obs['VasDeferens_Axis'])"
   ]
  },
  {
   "cell_type": "code",
   "execution_count": null,
   "id": "61106d41",
   "metadata": {},
   "outputs": [],
   "source": [
    "axis_adata = combine_axis(samples = [\n",
    "            HCA_F_RepTsp14707486_axis, HCA_F_RepTsp14733322_axis, \n",
    "   HCA_F_RepTsp14707486_vd_axis, HCA_F_RepTsp14733322_vd_axis\n",
    "                                           ], \n",
    "                                axis_name = 'MaleReproductiveAxis', return_adata = True)"
   ]
  },
  {
   "cell_type": "code",
   "execution_count": null,
   "id": "a83d74ef",
   "metadata": {},
   "outputs": [],
   "source": [
    "axis_adata.obs['MaleReproductiveAxis'].hist(bins = 6)"
   ]
  },
  {
   "cell_type": "code",
   "execution_count": null,
   "id": "9ebaacbf",
   "metadata": {},
   "outputs": [],
   "source": [
    "axis_adata.obs['MaleReproductiveAxis'] = axis_adata.obs_names.map(axis['MaleReproductiveAxis'].to_dict())"
   ]
  },
  {
   "cell_type": "code",
   "execution_count": null,
   "id": "88697dd8",
   "metadata": {},
   "outputs": [],
   "source": [
    "epididymal_mese_spots = epididymal_mese.obs_names.to_list()\n",
    "epididymal_epi_spots = epididymal_epi.obs_names.to_list()"
   ]
  },
  {
   "cell_type": "code",
   "execution_count": null,
   "id": "ee266385",
   "metadata": {},
   "outputs": [],
   "source": [
    "vasdeferens_epi_spots = vasdeferens_epi.obs_names.to_list()\n",
    "vasdeferens_mese_spots = vasdeferens_mese.obs_names.to_list()"
   ]
  },
  {
   "cell_type": "code",
   "execution_count": null,
   "id": "75895258",
   "metadata": {},
   "outputs": [],
   "source": [
    "len(epididymal_mese_spots)+ len(vasdeferens_mese_spots)"
   ]
  },
  {
   "cell_type": "code",
   "execution_count": null,
   "id": "7ed84149",
   "metadata": {},
   "outputs": [],
   "source": [
    "epididymal_mese_spots.extend(vasdeferens_mese_spots)"
   ]
  },
  {
   "cell_type": "code",
   "execution_count": null,
   "id": "1cf5f2f8",
   "metadata": {},
   "outputs": [],
   "source": [
    "len(epididymal_mese_spots)"
   ]
  },
  {
   "cell_type": "code",
   "execution_count": null,
   "id": "94e03236",
   "metadata": {},
   "outputs": [],
   "source": [
    "len(epididymal_epi_spots) + len(vasdeferens_epi_spots)"
   ]
  },
  {
   "cell_type": "code",
   "execution_count": null,
   "id": "0386aeca",
   "metadata": {},
   "outputs": [],
   "source": [
    "epididymal_epi_spots.extend(vasdeferens_epi_spots)"
   ]
  },
  {
   "cell_type": "code",
   "execution_count": null,
   "id": "1823cd9f",
   "metadata": {},
   "outputs": [],
   "source": [
    "axis_adata_mese = axis_adata[[i for i in axis_adata.obs_names.to_list() if i in epididymal_mese_spots], :]"
   ]
  },
  {
   "cell_type": "code",
   "execution_count": null,
   "id": "1ce2be89",
   "metadata": {},
   "outputs": [],
   "source": [
    "axis_adata_mese"
   ]
  },
  {
   "cell_type": "code",
   "execution_count": null,
   "id": "0b2df973",
   "metadata": {},
   "outputs": [],
   "source": [
    "axis = bin_axis(axis_adata_mese.obs, n_bins = 6, axis_name = 'MaleReproductiveAxis')"
   ]
  },
  {
   "cell_type": "code",
   "execution_count": null,
   "id": "83c50f87",
   "metadata": {},
   "outputs": [],
   "source": [
    "axis['binned_MaleReproductiveAxis_6_bins'] = axis['binned_MaleReproductiveAxis_6_bins'].astype(float)\n",
    "axis['binned_MaleReproductiveAxis_6_bins'] = np.round(axis['binned_MaleReproductiveAxis_6_bins'], 2)\n",
    "axis_adata_mese.obs['binned_MaleReproductiveAxis_6_bins'] = axis_adata_mese.obs_names.map(axis['binned_MaleReproductiveAxis_6_bins'].to_dict())"
   ]
  },
  {
   "cell_type": "code",
   "execution_count": null,
   "id": "efa078f7",
   "metadata": {},
   "outputs": [],
   "source": [
    "axis_adata_mese.obs['binned_MaleReproductiveAxis_6_bins'].value_counts()"
   ]
  },
  {
   "cell_type": "code",
   "execution_count": null,
   "id": "e1799615",
   "metadata": {},
   "outputs": [],
   "source": [
    "axis_adata_mese.write('/lustre/scratch126/cellgen/team292/vl6/VISIUM/malereproductiveaxis_mese_cytassist.h5ad')"
   ]
  },
  {
   "cell_type": "code",
   "execution_count": null,
   "id": "cab4226d",
   "metadata": {},
   "outputs": [],
   "source": [
    "axis_adata_mese = downsample(axis_adata_mese, 'binned_MaleReproductiveAxis_6_bins', 47)"
   ]
  },
  {
   "cell_type": "code",
   "execution_count": null,
   "id": "b5381e89",
   "metadata": {},
   "outputs": [],
   "source": [
    "axis_adata_mese.write('/lustre/scratch126/cellgen/team292/vl6/VISIUM/malereproductiveaxis_mese_downsampled_cytassist.h5ad')"
   ]
  },
  {
   "cell_type": "code",
   "execution_count": null,
   "id": "13d7b07e",
   "metadata": {},
   "outputs": [],
   "source": [
    "axis_adata_mese.obs['MaleReproductiveAxis'].hist(bins = 6)"
   ]
  },
  {
   "cell_type": "code",
   "execution_count": null,
   "id": "feb91a96",
   "metadata": {},
   "outputs": [],
   "source": [
    "axis_adata_mese.X[20:30, 20:30].toarray()"
   ]
  },
  {
   "cell_type": "code",
   "execution_count": null,
   "id": "3b10f20e",
   "metadata": {},
   "outputs": [],
   "source": [
    "axis_adata_mese_forR = axis_adata_mese.copy()"
   ]
  },
  {
   "cell_type": "code",
   "execution_count": null,
   "id": "f103cf97",
   "metadata": {},
   "outputs": [],
   "source": [
    "# remove mito genes\n",
    "non_mito_genes = [name for name in axis_adata_mese_forR.var_names if not name.startswith('MT')]\n",
    "axis_adata_mese_forR = axis_adata_mese_forR[:, non_mito_genes]\n",
    "\n",
    "# remove ribo genes\n",
    "non_ribo_genes = [name for name in axis_adata_mese_forR.var_names if not name.startswith('RP')]\n",
    "axis_adata_mese_forR = axis_adata_mese_forR[:, non_ribo_genes]\n",
    "\n",
    "# remove haemoglobin genes \n",
    "non_haemo_genes = [name for name in axis_adata_mese_forR.var_names if name not in ['HBA1', 'HBA2', 'HBB', 'HBG1', 'HBG2']]\n",
    "axis_adata_mese_forR = axis_adata_mese_forR[:, non_haemo_genes]\n",
    "\n",
    "\n",
    "# remove heat shock protein genes\n",
    "non_hps_genes = [name for name in axis_adata_mese_forR.var_names if not name.startswith('HSP')]\n",
    "axis_adata_mese_forR = axis_adata_mese_forR[:, non_hps_genes]\n",
    "\n",
    "sc.pp.filter_genes(axis_adata_mese_forR, min_cells = 10)\n",
    "sc.pp.filter_genes(axis_adata_mese_forR, min_counts = 1)"
   ]
  },
  {
   "cell_type": "code",
   "execution_count": null,
   "id": "60a4fbbd",
   "metadata": {},
   "outputs": [],
   "source": [
    "axis_adata_mese_forR.shape"
   ]
  },
  {
   "cell_type": "code",
   "execution_count": null,
   "id": "4fff1727",
   "metadata": {},
   "outputs": [],
   "source": [
    "for col in axis_adata_mese_forR.obs.columns:\n",
    "    if col not in [ 'MaleReproductiveAxis', 'sample']:\n",
    "        del axis_adata_mese_forR.obs[col]"
   ]
  },
  {
   "cell_type": "code",
   "execution_count": null,
   "id": "3b353834",
   "metadata": {},
   "outputs": [],
   "source": [
    "del axis_adata_mese_forR.obsm"
   ]
  },
  {
   "cell_type": "code",
   "execution_count": null,
   "id": "4de5c834",
   "metadata": {},
   "outputs": [],
   "source": [
    "%%R -i axis_adata_mese_forR\n",
    "axis_adata_mese_forR"
   ]
  },
  {
   "cell_type": "code",
   "execution_count": null,
   "id": "16d4f0b2",
   "metadata": {},
   "outputs": [],
   "source": [
    "%%R \n",
    "saveRDS(axis_adata_mese_forR, '/lustre/scratch126/cellgen/team292/vl6/VISIUM/malereproductiveaxis_mese_cytassist_downsampled.rds')"
   ]
  },
  {
   "cell_type": "code",
   "execution_count": null,
   "id": "30da3d72",
   "metadata": {},
   "outputs": [],
   "source": [
    "wolffian_TFs_mese = ['HOXC4', 'HOXC5', 'HOXC6', 'HOXA7', 'HOXA9', 'HOXA10', 'HOXA11', \n",
    "                     'ARX', 'ALX1',  'ZBTB7C', 'FOXC1', 'RORB','MEIS2',\n",
    "                     ]"
   ]
  },
  {
   "cell_type": "code",
   "execution_count": null,
   "id": "0af9098b",
   "metadata": {},
   "outputs": [],
   "source": [
    "# Create matrix plot using scanpy\n",
    "sc.pl.matrixplot(axis_adata_mese,var_names=wolffian_TFs_mese,groupby='binned_MaleReproductiveAxis_6_bins',\n",
    "                 num_categories = 6,\n",
    "                 cmap='OrRd',\n",
    "                 standard_scale='var',dendrogram=False,\n",
    "                 save='visium_matrixplot_wolffian_mese_TFs_spatiallyvariable.pdf'\n",
    "                )"
   ]
  },
  {
   "cell_type": "code",
   "execution_count": null,
   "id": "12793113",
   "metadata": {},
   "outputs": [],
   "source": [
    "wolffian_lig_rec_mese = [ 'GRM7',  'RSPO2', 'WNT4', 'WNT5A', 'SULT1E1', 'ADRA2A', 'DKK2', 'GDF7', 'WIF1','CDH7', \n",
    "                          'TNC','RORB', \n",
    "                     ]"
   ]
  },
  {
   "cell_type": "code",
   "execution_count": null,
   "id": "f7479dc4",
   "metadata": {},
   "outputs": [],
   "source": [
    "# Create matrix plot using scanpy\n",
    "sc.pl.matrixplot(axis_adata_mese,var_names=wolffian_lig_rec_mese,groupby='binned_MaleReproductiveAxis_6_bins',\n",
    "                 num_categories = 6,\n",
    "                 cmap='OrRd',\n",
    "                 standard_scale='var',dendrogram=False,\n",
    "                 save='visium_matrixplot_wolffian_lig_rec_mese_spatiallyvariable.pdf'\n",
    "                )"
   ]
  },
  {
   "cell_type": "code",
   "execution_count": null,
   "id": "d7bbc5e3",
   "metadata": {},
   "outputs": [],
   "source": [
    "axis_adata_epi = axis_adata[[i for i in axis_adata.obs_names.to_list() if i in epididymal_epi_spots], :]"
   ]
  },
  {
   "cell_type": "code",
   "execution_count": null,
   "id": "c7e702cc",
   "metadata": {},
   "outputs": [],
   "source": [
    "axis_adata_epi"
   ]
  },
  {
   "cell_type": "code",
   "execution_count": null,
   "id": "a72b4e02",
   "metadata": {},
   "outputs": [],
   "source": [
    "axis_adata_epi.obs['MaleReproductiveAxis'].hist(bins = 10)"
   ]
  },
  {
   "cell_type": "code",
   "execution_count": null,
   "id": "3287de0c",
   "metadata": {},
   "outputs": [],
   "source": [
    "axis = bin_axis(axis_adata_epi.obs, n_bins = 6, axis_name = 'MaleReproductiveAxis')\n",
    "axis['binned_MaleReproductiveAxis_6_bins'] = axis['binned_MaleReproductiveAxis_6_bins'].astype(float)\n",
    "axis['binned_MaleReproductiveAxis_6_bins'] = np.round(axis['binned_MaleReproductiveAxis_6_bins'], 2)\n",
    "axis_adata_epi.obs['binned_MaleReproductiveAxis_6_bins'] = axis_adata_epi.obs_names.map(axis['binned_MaleReproductiveAxis_6_bins'].to_dict())"
   ]
  },
  {
   "cell_type": "code",
   "execution_count": null,
   "id": "cea5aff5",
   "metadata": {},
   "outputs": [],
   "source": [
    "axis_adata_epi.obs['binned_MaleReproductiveAxis_6_bins'].value_counts()"
   ]
  },
  {
   "cell_type": "code",
   "execution_count": null,
   "id": "e9636489",
   "metadata": {},
   "outputs": [],
   "source": [
    "axis_adata_epi.write('/lustre/scratch126/cellgen/team292/vl6/VISIUM/malereproductiveaxis_epi_cytassist.h5ad')"
   ]
  },
  {
   "cell_type": "code",
   "execution_count": null,
   "id": "6bd2ddd1",
   "metadata": {},
   "outputs": [],
   "source": [
    "axis_adata_epi = downsample(axis_adata_mese, 'binned_MaleReproductiveAxis_6_bins', 20)"
   ]
  },
  {
   "cell_type": "code",
   "execution_count": null,
   "id": "4c196284",
   "metadata": {},
   "outputs": [],
   "source": [
    "axis_adata_epi.write('/lustre/scratch126/cellgen/team292/vl6/VISIUM/malereproductiveaxis_epi_downsampled_cytassist.h5ad')"
   ]
  },
  {
   "cell_type": "code",
   "execution_count": null,
   "id": "35447166",
   "metadata": {},
   "outputs": [],
   "source": [
    "axis_adata_epi.obs['MaleReproductiveAxis'].hist(bins = 6)"
   ]
  },
  {
   "cell_type": "code",
   "execution_count": null,
   "id": "4767d9e3",
   "metadata": {},
   "outputs": [],
   "source": [
    "axis_adata_epi.X[20:30, 20:30].toarray()"
   ]
  },
  {
   "cell_type": "code",
   "execution_count": null,
   "id": "98b8edb9",
   "metadata": {},
   "outputs": [],
   "source": [
    "axis_adata_epi_forR = axis_adata_epi.copy()"
   ]
  },
  {
   "cell_type": "code",
   "execution_count": null,
   "id": "d1da022a",
   "metadata": {},
   "outputs": [],
   "source": [
    "# remove mito genes\n",
    "non_mito_genes = [name for name in axis_adata_epi_forR.var_names if not name.startswith('MT')]\n",
    "axis_adata_epi_forR = axis_adata_epi_forR[:, non_mito_genes]\n",
    "\n",
    "# remove ribo genes\n",
    "non_ribo_genes = [name for name in axis_adata_epi_forR.var_names if not name.startswith('RP')]\n",
    "axis_adata_epi_forR = axis_adata_epi_forR[:, non_ribo_genes]\n",
    "\n",
    "# remove haemoglobin genes \n",
    "non_haemo_genes = [name for name in axis_adata_epi_forR.var_names if name not in ['HBA1', 'HBA2', 'HBB', 'HBG1', 'HBG2']]\n",
    "axis_adata_epi_forR = axis_adata_epi_forR[:, non_haemo_genes]\n",
    "\n",
    "\n",
    "# remove heat shock protein genes\n",
    "non_hps_genes = [name for name in axis_adata_epi_forR.var_names if not name.startswith('HSP')]\n",
    "axis_adata_epi_forR = axis_adata_epi_forR[:, non_hps_genes]\n",
    "\n",
    "sc.pp.filter_genes(axis_adata_epi_forR, min_cells = 10)\n",
    "sc.pp.filter_genes(axis_adata_epi_forR, min_counts = 1)"
   ]
  },
  {
   "cell_type": "code",
   "execution_count": null,
   "id": "688f8dda",
   "metadata": {},
   "outputs": [],
   "source": [
    "axis_adata_epi_forR.shape"
   ]
  },
  {
   "cell_type": "code",
   "execution_count": null,
   "id": "16a64ee8",
   "metadata": {},
   "outputs": [],
   "source": [
    "for col in axis_adata_epi_forR.obs.columns:\n",
    "    if col not in [ 'MaleReproductiveAxis', 'sample']:\n",
    "        del axis_adata_epi_forR.obs[col]"
   ]
  },
  {
   "cell_type": "code",
   "execution_count": null,
   "id": "b5d50849",
   "metadata": {},
   "outputs": [],
   "source": [
    "del axis_adata_epi_forR.obsm"
   ]
  },
  {
   "cell_type": "code",
   "execution_count": null,
   "id": "9b96a8ab",
   "metadata": {},
   "outputs": [],
   "source": [
    "%%R -i axis_adata_epi_forR\n",
    "axis_adata_epi_forR"
   ]
  },
  {
   "cell_type": "code",
   "execution_count": null,
   "id": "4bee55c3",
   "metadata": {},
   "outputs": [],
   "source": [
    "%%R \n",
    "saveRDS(axis_adata_epi_forR, '/lustre/scratch126/cellgen/team292/vl6/VISIUM/malereproductiveaxis_epi_cytassist_downsampled.rds')"
   ]
  },
  {
   "cell_type": "code",
   "execution_count": null,
   "id": "69edc749",
   "metadata": {},
   "outputs": [],
   "source": [
    "wolffian_epi_TFs = ['AR', 'ESR1', 'HNF1A', 'PITX2', 'MLXIPL']\n",
    "# Create matrix plot using scanpy\n",
    "sc.pl.matrixplot(axis_adata_epi,var_names=wolffian_epi_TFs,groupby='binned_MaleReproductiveAxis_6_bins',\n",
    "                 num_categories = 6,\n",
    "                 cmap='OrRd',\n",
    "                 standard_scale='var',dendrogram=False,\n",
    "                 save='visium_matrixplot_wolffian_epi_TFs_spatiallyvariable.pdf'\n",
    "                )"
   ]
  },
  {
   "cell_type": "code",
   "execution_count": null,
   "id": "fd6dc3b5",
   "metadata": {},
   "outputs": [],
   "source": [
    "wolffian_epi_partners = ['SLC1A1', 'GLS', 'LGR4', 'LGR5', 'LRP5', 'LRP6', 'FZD3', \n",
    "                        'FZD2', 'PPARA', 'PPARG', 'PPARD', 'PNMT', 'KREMEN2', 'BMPR1B', 'BMPR2', \n",
    "                        'WNT6', 'WNT9B', 'CDH7', 'ITGA1', 'ITGB6', 'ALDH1A1']\n",
    "# Create matrix plot using scanpy\n",
    "sc.pl.matrixplot(axis_adata_epi,var_names=wolffian_epi_partners,groupby='binned_MaleReproductiveAxis_6_bins',\n",
    "                 num_categories = 6,\n",
    "                 cmap='OrRd',\n",
    "                 standard_scale='var',dendrogram=False,\n",
    "                 save='visium_matrixplot_wolffian_epi_partners_spatiallyvariable.pdf'\n",
    "                )"
   ]
  },
  {
   "cell_type": "markdown",
   "id": "2d453fef",
   "metadata": {},
   "source": [
    "## Plot Wolffian longitudinal axis in 10x Visium samples"
   ]
  },
  {
   "cell_type": "code",
   "execution_count": null,
   "id": "b6bb38d8",
   "metadata": {},
   "outputs": [],
   "source": [
    "HCA_F_RepTsp14707486_to_plot = select_slide(adata_cytassist, 'HCA_F_RepTsp14707486', batch_key = 'sample')\n",
    "HCA_F_RepTsp14707486_to_plot.obs['MaleReproductiveAxis'] = HCA_F_RepTsp14707486_to_plot.obs_names.map(axis_adata.obs['MaleReproductiveAxis'])\n",
    "HCA_F_RepTsp14707486_to_plot.obs['MaleReproductiveAxis'].head()"
   ]
  },
  {
   "cell_type": "code",
   "execution_count": null,
   "id": "80d2345a",
   "metadata": {},
   "outputs": [],
   "source": [
    "from matplotlib.colors import LinearSegmentedColormap\n",
    "\n",
    "\n",
    "# Define the colors and their corresponding positions\n",
    "colors = [\"#aa92c4\", \"#e9b8d1\", \"#ef8466\", \"#f19c6f\"]\n",
    "\n",
    "# Create the colormap\n",
    "cmap_wolffian = LinearSegmentedColormap.from_list('custom_cmap', colors, N=256)"
   ]
  },
  {
   "cell_type": "code",
   "execution_count": null,
   "id": "3e04c3a5",
   "metadata": {},
   "outputs": [],
   "source": [
    "sc.pl.spatial(HCA_F_RepTsp14707486_to_plot, color = 'MaleReproductiveAxis', cmap = cmap_wolffian, \n",
    "             save = 'HCA_F_RepTsp14707486_wolffian_axis')"
   ]
  },
  {
   "cell_type": "code",
   "execution_count": null,
   "id": "9702da78",
   "metadata": {},
   "outputs": [],
   "source": [
    "HCA_F_RepTsp14733322_to_plot = select_slide(adata_cytassist, 'HCA_F_RepTsp14733322', batch_key = 'sample')\n",
    "HCA_F_RepTsp14733322_to_plot.obs['MaleReproductiveAxis'] = HCA_F_RepTsp14733322_to_plot.obs_names.map(axis_adata.obs['MaleReproductiveAxis'])\n",
    "HCA_F_RepTsp14733322_to_plot.obs['MaleReproductiveAxis'].head()"
   ]
  },
  {
   "cell_type": "code",
   "execution_count": null,
   "id": "8de42016",
   "metadata": {},
   "outputs": [],
   "source": [
    "sc.pl.spatial(HCA_F_RepTsp14733322_to_plot, color = 'MaleReproductiveAxis', cmap = cmap_wolffian, \n",
    "              bw = True,\n",
    "              alpha_img = 0.7, spot_size = 350,\n",
    "             save = 'HCA_F_RepTsp14733322_wolffian_axis')"
   ]
  },
  {
   "cell_type": "code",
   "execution_count": null,
   "id": "7175b126",
   "metadata": {},
   "outputs": [],
   "source": []
  }
 ],
 "metadata": {
  "kernelspec": {
   "display_name": "atac_env",
   "language": "python",
   "name": "atac_env"
  },
  "language_info": {
   "codemirror_mode": {
    "name": "ipython",
    "version": 3
   },
   "file_extension": ".py",
   "mimetype": "text/x-python",
   "name": "python",
   "nbconvert_exporter": "python",
   "pygments_lexer": "ipython3",
   "version": "3.8.6"
  }
 },
 "nbformat": 4,
 "nbformat_minor": 5
}
