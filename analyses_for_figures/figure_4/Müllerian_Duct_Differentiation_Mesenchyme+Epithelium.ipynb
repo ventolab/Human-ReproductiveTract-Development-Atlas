{
 "cells": [
  {
   "cell_type": "markdown",
   "id": "74b5d143",
   "metadata": {},
   "source": [
    "## Müllerian duct differentiation - epithelium + mesenchyme"
   ]
  },
  {
   "cell_type": "code",
   "execution_count": null,
   "id": "afeb6902",
   "metadata": {},
   "outputs": [],
   "source": [
    "import numpy as np\n",
    "import pandas as pd\n",
    "import scanpy as sc\n",
    "import scrublet as scr\n",
    "import seaborn as sns\n",
    "import scipy.stats\n",
    "import anndata\n",
    "import os\n",
    "\n",
    "import scipy as scipy\n",
    "import scipy as sp\n",
    "import pickle as pkl\n",
    "import matplotlib.pyplot as plt\n",
    "import re\n",
    "from collections import defaultdict\n",
    "from statsmodels.nonparametric.smoothers_lowess import lowess\n",
    "from numpy import asarray as ar\n",
    "from collections import Counter\n",
    "import networkx as nx\n",
    "import igraph\n",
    "import glob"
   ]
  },
  {
   "cell_type": "code",
   "execution_count": null,
   "id": "e2020fa0",
   "metadata": {},
   "outputs": [],
   "source": [
    "mese = sc.read('/nfs/team292/vl6/FetalReproductiveTract/mullerian_mese_late_post10pcw.h5ad')\n",
    "print(mese.shape)\n",
    "epi = sc.read('/nfs/team292/vl6/FetalReproductiveTract/mullerian_epi_late_post10pcw.h5ad')\n",
    "print(epi.shape)"
   ]
  },
  {
   "cell_type": "code",
   "execution_count": null,
   "id": "2649095b",
   "metadata": {},
   "outputs": [],
   "source": [
    "# Reset to raw \n",
    "import anndata \n",
    "mese_raw = anndata.AnnData(X = mese.raw.X, var = mese.raw.var, obs = mese.obs)\n",
    "epi_raw = anndata.AnnData(X = epi.raw.X, var = epi.raw.var, obs = epi.obs)\n",
    "print(mese_raw.shape, epi_raw.shape)"
   ]
  },
  {
   "cell_type": "code",
   "execution_count": null,
   "id": "e73ab9de",
   "metadata": {},
   "outputs": [],
   "source": [
    "adata = mese_raw.concatenate(epi_raw, join='outer',index_unique=None)\n",
    "adata.shape"
   ]
  },
  {
   "cell_type": "code",
   "execution_count": null,
   "id": "a9c2bb1e",
   "metadata": {},
   "outputs": [],
   "source": [
    "## import reproductive tract utils functions\n",
    "import sys\n",
    "cwd = '/nfs/team292/vl6/Experiments/Utils/'\n",
    "sys.path.append(cwd)\n",
    "\n",
    "import reptract_utils\n",
    "import reptract_genes"
   ]
  },
  {
   "cell_type": "code",
   "execution_count": null,
   "id": "ebaa612f",
   "metadata": {},
   "outputs": [],
   "source": [
    "adata.raw = adata.copy()\n",
    "sc.pp.filter_genes(adata, min_counts=10)\n",
    "# adata = reptract_utils.per_gene_analysis(adata)\n",
    "adata = reptract_utils.normalize_log_transform(adata)\n",
    "adata = reptract_utils.hvgs_pca_umap(adata)"
   ]
  },
  {
   "cell_type": "code",
   "execution_count": null,
   "id": "5917e706",
   "metadata": {},
   "outputs": [],
   "source": [
    "sc.pl.umap(adata, color=['stage_pcw', 'sex', \n",
    "                         'n_genes', 'donor',  'doublet_scores',\n",
    "                        'celltype'], ncols = 2, wspace = 0.3, \n",
    "          color_map = 'OrRd')"
   ]
  },
  {
   "cell_type": "code",
   "execution_count": null,
   "id": "bdb73a56",
   "metadata": {},
   "outputs": [],
   "source": [
    "sc.pl.umap(adata, color = [ 'FOXL2','ITGA4', 'LGR5', 'TMEM176B', 'HOXA10', 'PTGER3', 'ACTA2', 'DES', 'MYH11',\n",
    "                          'HOXA13', 'ISL1', 'TMEM163', 'MMP28', 'CTNNB1',  'WNT4', 'CDH7', 'ATF3', 'HMGA2', \n",
    "                          'KRT18', 'HOXA11', 'HOXC10', 'RXFP2', 'PAX8', 'PAX2', 'WT1', 'PNOC', 'LYPD1', 'COMP', \n",
    "                          'CALY', 'GDF10', 'SFRP2', 'ASPN', 'PTGFR', 'MOXD1', 'PRELP', \n",
    "                          'PCSK2', 'AR', 'BRINP1', 'CNTN1', 'LUZP2', 'GRIA4'], wspace = 0.15, use_raw = False,\n",
    "           color_map = 'OrRd', ncols = 2)"
   ]
  },
  {
   "cell_type": "markdown",
   "id": "f4176bcc",
   "metadata": {},
   "source": [
    "### Harmony integration"
   ]
  },
  {
   "cell_type": "code",
   "execution_count": null,
   "id": "850e1aaf",
   "metadata": {},
   "outputs": [],
   "source": [
    "sc.set_figure_params(scanpy=True, dpi=80, dpi_save=150, frameon=True, vector_friendly=True, \n",
    "                         fontsize=14, figsize=(6,6), color_map=None, format='pdf', facecolor=None, transparent=False)"
   ]
  },
  {
   "cell_type": "code",
   "execution_count": null,
   "id": "000b7e79",
   "metadata": {},
   "outputs": [],
   "source": [
    "import matplotlib as mpl\n",
    "mpl.rcParams['pdf.fonttype'] = 42"
   ]
  },
  {
   "cell_type": "code",
   "execution_count": null,
   "id": "cdfc1eda",
   "metadata": {},
   "outputs": [],
   "source": [
    "import rpy2.rinterface_lib.callbacks\n",
    "import logging\n",
    "# Ignore R warning messages\n",
    "#Note: this can be commented out to get more verbose R output\n",
    "rpy2.rinterface_lib.callbacks.logger.setLevel(logging.ERROR)\n",
    "import anndata2ri\n",
    "anndata2ri.activate()\n",
    "%load_ext rpy2.ipython"
   ]
  },
  {
   "cell_type": "code",
   "execution_count": null,
   "id": "b71619b0",
   "metadata": {},
   "outputs": [],
   "source": [
    "# Extract PCA matrix and batch array\n",
    "n_pcs = 25 # Principal components used to perform dimensionality reduction \n",
    "pca = adata.obsm['X_pca'][:, 0:(n_pcs)]\n",
    "batch = adata.obs['donor'] # Batch ID, in this case stage"
   ]
  },
  {
   "cell_type": "code",
   "execution_count": null,
   "id": "65fcea0d",
   "metadata": {},
   "outputs": [],
   "source": [
    "%%R -i pca -i batch -o hem\n",
    "\n",
    "library(harmony)\n",
    "library(magrittr)\n",
    "set.seed(1000)\n",
    "hem <- HarmonyMatrix(pca, batch, theta=0, lambda = 6, do_pca=FALSE, verbose = FALSE)  \n",
    "hem = data.frame(hem)"
   ]
  },
  {
   "cell_type": "code",
   "execution_count": null,
   "id": "a8ece386",
   "metadata": {},
   "outputs": [],
   "source": [
    "# Add harmony values to the anndata object --> overwriting PCA \n",
    "adata.obsm['X_pca_harmony'] = hem.values "
   ]
  },
  {
   "cell_type": "code",
   "execution_count": null,
   "id": "99e94fcf",
   "metadata": {},
   "outputs": [],
   "source": [
    "sc.pp.neighbors(adata, n_pcs = n_pcs, use_rep = 'X_pca_harmony', random_state= 123, key_added = 'harmony')\n"
   ]
  },
  {
   "cell_type": "code",
   "execution_count": null,
   "id": "82bca668",
   "metadata": {},
   "outputs": [],
   "source": [
    "sc.tl.umap(adata, min_dist=0.6, spread = 0.8, neighbors_key = 'harmony')\n"
   ]
  },
  {
   "cell_type": "code",
   "execution_count": null,
   "id": "c37c542b",
   "metadata": {},
   "outputs": [],
   "source": [
    "sc.pl.umap(adata, color = [ 'FOXL2','ITGA4', 'LGR5', 'TMEM176B','HOXA10', 'ESR1', 'PGR', \n",
    "                          'HOXA13', 'MYH11', 'PTGER3', 'CDH7', 'HOXC10', 'UPK3B', 'SP7'], wspace = 0.15, use_raw = False,\n",
    "           color_map = 'OrRd', ncols = 2)"
   ]
  },
  {
   "cell_type": "code",
   "execution_count": null,
   "id": "c53a1591",
   "metadata": {},
   "outputs": [],
   "source": [
    "sc.pl.umap(adata, color=['stage_pcw', 'sex', \n",
    "                         'n_genes', 'donor',  'doublet_scores', 'celltype'], ncols = 2, wspace = 0.3, \n",
    "          color_map = 'OrRd')"
   ]
  },
  {
   "cell_type": "code",
   "execution_count": null,
   "id": "6b98b776",
   "metadata": {},
   "outputs": [],
   "source": [
    "sc.pl.umap(adata, color = [ 'mese_mullerian_lowres', 'epi_mullerian_lowres'], wspace = 0.15, use_raw = False,\n",
    "           color_map = 'OrRd', ncols = 2)"
   ]
  },
  {
   "cell_type": "code",
   "execution_count": null,
   "id": "c09543a4",
   "metadata": {},
   "outputs": [],
   "source": [
    "adata.obs['mese_mullerian_lowres'] = adata.obs['mese_mullerian_lowres'].astype(str)"
   ]
  },
  {
   "cell_type": "code",
   "execution_count": null,
   "id": "f1489c59",
   "metadata": {},
   "outputs": [],
   "source": [
    "adata.obs['mullerian_lowres'] = np.where(adata.obs['mese_mullerian_lowres'] == 'nan',\n",
    "                                         adata.obs['epi_mullerian_lowres'], adata.obs['mese_mullerian_lowres'])"
   ]
  },
  {
   "cell_type": "code",
   "execution_count": null,
   "id": "f3c9a4dd",
   "metadata": {},
   "outputs": [],
   "source": [
    "sc.pl.umap(adata, color = [ 'mullerian_lowres'], wspace = 0.15, use_raw = False,\n",
    "           color_map = 'OrRd', ncols = 2)"
   ]
  },
  {
   "cell_type": "code",
   "execution_count": null,
   "id": "e132f419",
   "metadata": {},
   "outputs": [],
   "source": [
    "adata.obs['mullerian_lowres'] = adata.obs['mullerian_lowres'].astype('category')\n",
    "adata.obs['mullerian_lowres'] = adata.obs['mullerian_lowres'].cat.reorder_categories([\n",
    "    'FallopianTube_Epithelium', 'Uterus/Cervix_Epithelium', 'MüllerianVagina_Epithelium', \n",
    "    'FallopianTube_Mesenchyme', 'Uterus_Mesenchyme', 'Cervix_Mesenchyme', 'MüllerianVagina_Mesenchyme'\n",
    "])"
   ]
  },
  {
   "cell_type": "code",
   "execution_count": null,
   "id": "6f70f81e",
   "metadata": {},
   "outputs": [],
   "source": [
    "sc.pl.umap(adata, color = 'mullerian_lowres', \n",
    "          palette = ['plum', 'peachpuff', 'lightgreen', 'mediumorchid', 'gold', 'darkorange', 'forestgreen'], \n",
    "          save = '_mullerian_lowres')"
   ]
  },
  {
   "cell_type": "code",
   "execution_count": null,
   "id": "1872554b",
   "metadata": {},
   "outputs": [],
   "source": [
    "adata.write('/nfs/team292/vl6/FetalReproductiveTract/mullerian_mese_epi_late_post10pcw.h5ad')"
   ]
  },
  {
   "cell_type": "code",
   "execution_count": null,
   "id": "bed19905",
   "metadata": {},
   "outputs": [],
   "source": [
    "adata = sc.read('/nfs/team292/vl6/FetalReproductiveTract/mullerian_mese_epi_late_post10pcw.h5ad')"
   ]
  },
  {
   "cell_type": "code",
   "execution_count": null,
   "id": "1f614ebb",
   "metadata": {},
   "outputs": [],
   "source": [
    "sc.pl.umap(adata, color = 'mullerian_lowres', \n",
    "          palette = ['plum', 'peachpuff', 'lightgreen', 'mediumorchid', 'gold', 'darkorange', 'forestgreen'])"
   ]
  },
  {
   "cell_type": "code",
   "execution_count": null,
   "id": "a64e0cfa",
   "metadata": {},
   "outputs": [],
   "source": [
    "# Make dotplot for supplementary note \n",
    "markers = {\n",
    "    'Epithelium' : ['EMX2', 'WNT7A', 'SOX17', 'ERP27', 'DAPL1', 'PART1', 'LYPD1', 'PNOC', \n",
    "                  'LGR5', 'DLX5', 'UCA1', 'MSX1', 'MSX2', 'CDH2', 'ALDH1A1', 'AXIN2', \n",
    "                   'TP63', 'KRT5'], \n",
    "    'Mesenchyme' : ['EMX2', 'LEPR', 'FOXL2', 'ITGBL1', 'CD36',  'TSPAN8','HOXA5', 'HOXC5', 'HOXC6', 'HOXA7',\n",
    "                   'HOXA10', 'HOXA11', 'ITGA4', 'RORB', 'HOXA13', 'SRD5A2', 'AR']\n",
    "}\n",
    "sc.pl.dotplot(adata[[i in ['FallopianTube_Epithelium', 'Uterus/Cervix_Epithelium', \n",
    "                           'MüllerianVagina_Epithelium'] for i in adata.obs['mullerian_lowres']]], var_names = ['EMX2', 'WNT7A', 'SOX17', 'ERP27', 'DAPL1', 'PART1', 'LYPD1', 'PNOC', \n",
    "                    'LGR5', 'DLX5', 'UCA1', 'MSX1', 'MSX2', 'CDH2', 'ALDH1A1', 'AXIN2', \n",
    "                   'TP63', 'KRT5'], groupby = 'mullerian_lowres',\n",
    "             standard_scale = 'var', color_map = 'OrRd', save = '_mull_epi_post10pcw_suppnote')\n",
    "\n",
    "sc.pl.dotplot(adata[[i in ['FallopianTube_Mesenchyme', 'Uterus_Mesenchyme', \n",
    "                           'Cervix_Mesenchyme', 'MüllerianVagina_Mesenchyme'] for i in adata.obs['mullerian_lowres']]], var_names = [\n",
    "    'EMX2', 'LEPR', 'FOXL2', 'ITGBL1', 'CD36',  'TSPAN8','HOXA5', 'HOXC5', 'HOXC6', 'HOXA7',\n",
    "                   'HOXA10', 'HOXA11', 'ITGA4', 'RORB', 'HOXA13', 'SRD5A2', 'AR'\n",
    "], groupby = 'mullerian_lowres',\n",
    "             standard_scale = 'var', color_map = 'OrRd', save = '_mull_mese_post10pcw_suppnote')"
   ]
  },
  {
   "cell_type": "code",
   "execution_count": null,
   "id": "e25e0081",
   "metadata": {},
   "outputs": [],
   "source": [
    "adata"
   ]
  },
  {
   "cell_type": "markdown",
   "id": "a30bb298",
   "metadata": {},
   "source": [
    "## ATAC visualisations - MESENCHYME"
   ]
  },
  {
   "cell_type": "code",
   "execution_count": null,
   "id": "b30a0a66",
   "metadata": {},
   "outputs": [],
   "source": [
    "outDir = '/lustre/scratch126/cellgen/team292/vl6/pycistopic/mullerian_mese_withvagina_post9pcw/'"
   ]
  },
  {
   "cell_type": "code",
   "execution_count": null,
   "id": "8e5507a2",
   "metadata": {},
   "outputs": [],
   "source": [
    "atac_annots = pd.read_csv(outDir + 'mull_mese_embedding.csv', index_col = 0)\n",
    "atac_annots.head()"
   ]
  },
  {
   "cell_type": "code",
   "execution_count": null,
   "id": "f5e57c09",
   "metadata": {},
   "outputs": [],
   "source": [
    "# Create fake matrix \n",
    "fake_matrix = np.zeros([6513, 20000])\n",
    "fake_matrix.shape"
   ]
  },
  {
   "cell_type": "code",
   "execution_count": null,
   "id": "9f7e1f7a",
   "metadata": {},
   "outputs": [],
   "source": [
    "fake_vars = pd.DataFrame({'n_genes' : [5] * 20000})"
   ]
  },
  {
   "cell_type": "code",
   "execution_count": null,
   "id": "e556e82b",
   "metadata": {},
   "outputs": [],
   "source": [
    "import anndata \n",
    "adata = anndata.AnnData(X = fake_matrix, var = fake_vars, obs = atac_annots)"
   ]
  },
  {
   "cell_type": "code",
   "execution_count": null,
   "id": "9e2eb265",
   "metadata": {},
   "outputs": [],
   "source": [
    "adata.obsm['X_umap'] = atac_annots[['tsne1', 'tsne2']].to_numpy()"
   ]
  },
  {
   "cell_type": "code",
   "execution_count": null,
   "id": "8409f024",
   "metadata": {},
   "outputs": [],
   "source": [
    "sc.set_figure_params(scanpy=True, dpi=80, dpi_save=150, \n",
    "                         frameon=True, vector_friendly=True, fontsize=14, figsize=[7,7], color_map=None, \n",
    "                         format='pdf', facecolor=None, transparent=False)"
   ]
  },
  {
   "cell_type": "code",
   "execution_count": null,
   "id": "360def79",
   "metadata": {},
   "outputs": [],
   "source": [
    "import matplotlib as mpl\n",
    "mpl.rcParams['pdf.fonttype'] = 42"
   ]
  },
  {
   "cell_type": "code",
   "execution_count": null,
   "id": "c7d7b427",
   "metadata": {},
   "outputs": [],
   "source": [
    "sc.pl.umap(adata, color = 'stage', cmap = 'viridis', save = '_atac_mull_mese_stage')"
   ]
  },
  {
   "cell_type": "code",
   "execution_count": null,
   "id": "7f2f82cd",
   "metadata": {},
   "outputs": [],
   "source": [
    "color_dict = {'FallopianTubeMese': 'orange', 'UterusMese': 'orangered', 'CervixMese': 'palevioletred', 'UpperVaginaMese': 'lightpink'}"
   ]
  },
  {
   "cell_type": "code",
   "execution_count": null,
   "id": "342df083",
   "metadata": {},
   "outputs": [],
   "source": [
    "sc.pl.umap(adata, color = 'mese_mullerian_lowres', \n",
    "           palette = color_dict, save = '_atac_mull_mese_celltype')"
   ]
  },
  {
   "cell_type": "markdown",
   "id": "a4475658",
   "metadata": {},
   "source": [
    "## ATAC visualisations - MESENCHYME"
   ]
  },
  {
   "cell_type": "code",
   "execution_count": null,
   "id": "068af5f5",
   "metadata": {},
   "outputs": [],
   "source": [
    "outDir2 = '/lustre/scratch126/cellgen/team292/vl6/pycistopic/mullerian_epi/'"
   ]
  },
  {
   "cell_type": "code",
   "execution_count": null,
   "id": "a7fb0380",
   "metadata": {},
   "outputs": [],
   "source": [
    "atac_annots = pd.read_csv(outDir2 + 'mull_epi_embedding.csv', index_col = 0)\n",
    "atac_annots.head()"
   ]
  },
  {
   "cell_type": "code",
   "execution_count": null,
   "id": "3b44f1c9",
   "metadata": {},
   "outputs": [],
   "source": [
    "atac_annots.shape"
   ]
  },
  {
   "cell_type": "code",
   "execution_count": null,
   "id": "be8784c7",
   "metadata": {},
   "outputs": [],
   "source": [
    "# Create fake matrix \n",
    "fake_matrix = np.zeros([2345, 20000])\n",
    "fake_matrix.shape"
   ]
  },
  {
   "cell_type": "code",
   "execution_count": null,
   "id": "a5c71817",
   "metadata": {},
   "outputs": [],
   "source": [
    "fake_vars = pd.DataFrame({'n_genes' : [5] * 20000})"
   ]
  },
  {
   "cell_type": "code",
   "execution_count": null,
   "id": "e3d5d8a8",
   "metadata": {},
   "outputs": [],
   "source": [
    "import anndata \n",
    "adata = anndata.AnnData(X = fake_matrix, var = fake_vars, obs = atac_annots)"
   ]
  },
  {
   "cell_type": "code",
   "execution_count": null,
   "id": "5aeb35be",
   "metadata": {},
   "outputs": [],
   "source": [
    "adata.obsm['X_umap'] = atac_annots[['tsne1', 'tsne2']].to_numpy()"
   ]
  },
  {
   "cell_type": "code",
   "execution_count": null,
   "id": "23ef475c",
   "metadata": {},
   "outputs": [],
   "source": [
    "sc.pl.umap(adata, color = 'stage', cmap = 'viridis', save = '_atac_mull_epi_stage')"
   ]
  },
  {
   "cell_type": "code",
   "execution_count": null,
   "id": "f8f0fe22",
   "metadata": {},
   "outputs": [],
   "source": [
    "color_dict = {'FallopianTubeEpi': 'goldenrod',\n",
    " 'UterusCervixEpi': 'indianred',\n",
    " 'UpperVaginaEpi': 'mediumorchid'}"
   ]
  },
  {
   "cell_type": "code",
   "execution_count": null,
   "id": "6751141c",
   "metadata": {},
   "outputs": [],
   "source": [
    "sc.pl.umap(adata, color = 'epi_mullerian_lowres', \n",
    "           palette = color_dict, save = '_atac_mull_epi_celltype')"
   ]
  },
  {
   "cell_type": "code",
   "execution_count": null,
   "id": "18fe86d5",
   "metadata": {},
   "outputs": [],
   "source": []
  }
 ],
 "metadata": {
  "kernelspec": {
   "display_name": "atac_env",
   "language": "python",
   "name": "atac_env"
  },
  "language_info": {
   "codemirror_mode": {
    "name": "ipython",
    "version": 3
   },
   "file_extension": ".py",
   "mimetype": "text/x-python",
   "name": "python",
   "nbconvert_exporter": "python",
   "pygments_lexer": "ipython3",
   "version": "3.8.6"
  }
 },
 "nbformat": 4,
 "nbformat_minor": 5
}
