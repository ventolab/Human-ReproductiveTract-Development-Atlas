{
 "cells": [
  {
   "cell_type": "code",
   "execution_count": null,
   "id": "c47b9397",
   "metadata": {},
   "outputs": [],
   "source": [
    "import numpy as np\n",
    "import pandas as pd\n",
    "from scipy.cluster.hierarchy import dendrogram, linkage\n",
    "import matplotlib.pyplot as plt"
   ]
  },
  {
   "cell_type": "markdown",
   "id": "ec859119",
   "metadata": {},
   "source": [
    "## VISIUM smoothers"
   ]
  },
  {
   "cell_type": "code",
   "execution_count": null,
   "id": "bd3cde25",
   "metadata": {},
   "outputs": [],
   "source": [
    "visium_smoothers_df = pd.read_csv('/lustre/scratch126/cellgen/team292/vl6/VISIUM/malereproductiveaxis_mese_cytassist_downsampled_fitted_values_tradeseq.csv', \n",
    "                              index_col = 0)\n",
    "print(visium_smoothers_df.shape)\n",
    "visium_smoothers_df.head()"
   ]
  },
  {
   "cell_type": "markdown",
   "id": "932562bb",
   "metadata": {},
   "source": [
    "## scRNA-seq anndata object for bona fide secretory mesenchymal genes"
   ]
  },
  {
   "cell_type": "code",
   "execution_count": null,
   "id": "34e4a54e",
   "metadata": {},
   "outputs": [],
   "source": [
    "import scanpy as sc\n",
    "import anndata"
   ]
  },
  {
   "cell_type": "code",
   "execution_count": null,
   "id": "e6ae9a32",
   "metadata": {},
   "outputs": [],
   "source": [
    "scrnaseq = sc.read('/nfs/team292/vl6/FetalReproductiveTract/males_post10pcw.20240326.h5ad')\n",
    "scrnaseq.obs['celltype'].value_counts()"
   ]
  },
  {
   "cell_type": "code",
   "execution_count": null,
   "id": "3181b615",
   "metadata": {},
   "outputs": [],
   "source": [
    "# Select cell types that might be contaminating the Visium signal \n",
    "scrnaseq = scrnaseq[[i in ['Corpus/CaputEpididymis_Mesenchyme', 'CaudaEpididymis_Mesenchyme', 'CaputEpididymis_Epithelium', \n",
    "                          'Endothelial_Lymphatic', 'Erythroid', 'Neural', 'Immune', 'Coelomic_Epithelium', \n",
    "                          'Epididymis_Ligament', 'Pre-Perivascular', 'SchwannCell', \n",
    "                          'Corpus/CaudaEpididymis_Epithelium', 'Endothelial', 'Perivascular', \n",
    "                          'CaputEpididymis_Ciliated_Epithelium', 'SkeletalMuscle', \n",
    "                          'VasDeferens_Ligament', 'VasDeferens_Mesenchyme', ] for i in scrnaseq.obs['celltype']]]\n",
    "scrnaseq.shape"
   ]
  },
  {
   "cell_type": "markdown",
   "id": "30336a94",
   "metadata": {},
   "source": [
    "## Compare expression of genes across cell types"
   ]
  },
  {
   "cell_type": "code",
   "execution_count": null,
   "id": "7ccdd594",
   "metadata": {},
   "outputs": [],
   "source": [
    "genes = visium_smoothers_df.index.to_list()\n",
    "len(genes)"
   ]
  },
  {
   "cell_type": "code",
   "execution_count": null,
   "id": "abb0cc5d",
   "metadata": {},
   "outputs": [],
   "source": [
    "genes = [i for i in genes if i in scrnaseq.var_names.to_list()]"
   ]
  },
  {
   "cell_type": "code",
   "execution_count": null,
   "id": "7b798f29",
   "metadata": {},
   "outputs": [],
   "source": [
    "len(genes)"
   ]
  },
  {
   "cell_type": "code",
   "execution_count": null,
   "id": "87bfb9e1",
   "metadata": {},
   "outputs": [],
   "source": [
    "cell_types_of_interest = ['VasDeferens_Mesenchyme', 'Corpus/CaputEpididymis_Mesenchyme']"
   ]
  },
  {
   "cell_type": "code",
   "execution_count": null,
   "id": "f685e683",
   "metadata": {},
   "outputs": [],
   "source": [
    "# Calculate average expression per cell type\n",
    "average_expression = scrnaseq.to_df().groupby(scrnaseq.obs['celltype']).mean()\n",
    "\n",
    "# Filter the average expression table to include only the genes of interest\n",
    "average_expression = average_expression.loc[:, genes]\n",
    "\n",
    "# Create a table to summarize the results\n",
    "summary_table = average_expression.reset_index()"
   ]
  },
  {
   "cell_type": "code",
   "execution_count": null,
   "id": "3dc274e6",
   "metadata": {},
   "outputs": [],
   "source": [
    "summary_table"
   ]
  },
  {
   "cell_type": "code",
   "execution_count": null,
   "id": "c97db82c",
   "metadata": {},
   "outputs": [],
   "source": [
    "# Filtering step 1\n",
    "filtered_genes = []\n",
    "for gene in genes:\n",
    "    # Sort the average expression of the gene across all cell types in descending order\n",
    "    sorted_expression = average_expression[gene].sort_values(ascending=False)\n",
    "    \n",
    "    # Check if either cell type of interest is within the top 3 cell types\n",
    "    if any(cell_type in sorted_expression.index[:3] for cell_type in cell_types_of_interest):\n",
    "        filtered_genes.append(gene)\n",
    "\n",
    "# Filter the summary table to retain only the filtered genes\n",
    "filtered_summary_table = summary_table[['celltype'] + filtered_genes]"
   ]
  },
  {
   "cell_type": "code",
   "execution_count": null,
   "id": "38d96248",
   "metadata": {},
   "outputs": [],
   "source": [
    "filtered_summary_table"
   ]
  },
  {
   "cell_type": "markdown",
   "id": "ca605711",
   "metadata": {},
   "source": [
    "### Save remaining genes and plot their trends in TradeSeq "
   ]
  },
  {
   "cell_type": "code",
   "execution_count": null,
   "id": "c08484f1",
   "metadata": {},
   "outputs": [],
   "source": [
    "print(filtered_summary_table.columns.to_list())"
   ]
  },
  {
   "cell_type": "markdown",
   "id": "e7105ef1",
   "metadata": {},
   "source": [
    "## Intersect prioritised genes with human TFs"
   ]
  },
  {
   "cell_type": "code",
   "execution_count": null,
   "id": "ad244fc2",
   "metadata": {},
   "outputs": [],
   "source": [
    "tfs = pd.read_csv('/nfs/team292/vl6/FetalReproductiveTract/humanTFs/DatabaseExtract_v_1.01.csv')"
   ]
  },
  {
   "cell_type": "code",
   "execution_count": null,
   "id": "04d4f9bb",
   "metadata": {},
   "outputs": [],
   "source": [
    "tfs = tfs[tfs['Is TF?'] == 'Yes']\n",
    "tfs = tfs[tfs['TF assessment'] == 'Known motif']\n",
    "tfs = tfs['HGNC symbol'].tolist()\n",
    "len(tfs)"
   ]
  },
  {
   "cell_type": "code",
   "execution_count": null,
   "id": "3df63eea",
   "metadata": {},
   "outputs": [],
   "source": [
    "tfs_prioritised = [i for i in filtered_summary_table.columns.to_list() if i in tfs]"
   ]
  },
  {
   "cell_type": "code",
   "execution_count": null,
   "id": "c217a1e5",
   "metadata": {},
   "outputs": [],
   "source": [
    "print(len(tfs_prioritised))\n",
    "print(tfs_prioritised)"
   ]
  },
  {
   "cell_type": "code",
   "execution_count": null,
   "id": "cc37dbe6",
   "metadata": {},
   "outputs": [],
   "source": [
    "tfs_prioritised = [i for i in tfs_prioritised if not i.startswith(\"HOX\")]"
   ]
  },
  {
   "cell_type": "code",
   "execution_count": null,
   "id": "30e01f77",
   "metadata": {},
   "outputs": [],
   "source": [
    "len(tfs_prioritised)"
   ]
  },
  {
   "cell_type": "code",
   "execution_count": null,
   "id": "965b85a4",
   "metadata": {},
   "outputs": [],
   "source": [
    "print(tfs_prioritised)"
   ]
  },
  {
   "cell_type": "markdown",
   "id": "eda520f5",
   "metadata": {},
   "source": [
    "## Intersect prioritised genes with ligands and receptors from CellPhoneDB v5"
   ]
  },
  {
   "cell_type": "code",
   "execution_count": null,
   "id": "f425cb4a",
   "metadata": {},
   "outputs": [],
   "source": [
    "df_cellphone = pd.read_csv('./COMMOT_database/minimal_cellphonedb_commot.csv', index_col = 0)\n",
    "print(df_cellphone.shape)\n",
    "df_cellphone.head()"
   ]
  },
  {
   "cell_type": "code",
   "execution_count": null,
   "id": "6e517194",
   "metadata": {},
   "outputs": [],
   "source": [
    "df_cellphone['directionality'].value_counts(dropna = False)"
   ]
  },
  {
   "cell_type": "code",
   "execution_count": null,
   "id": "581b7c13",
   "metadata": {},
   "outputs": [],
   "source": [
    "df_cellphone = df_cellphone.rename({'gene_name_a' : 'ligand', 'gene_name_b' : 'receptor', \n",
    "                                   'classification' : 'classification', 'directionality' : 'directionality'}, axis = 1)"
   ]
  },
  {
   "cell_type": "code",
   "execution_count": null,
   "id": "604c3fe4",
   "metadata": {},
   "outputs": [],
   "source": [
    "df_cellphone.head()"
   ]
  },
  {
   "cell_type": "code",
   "execution_count": null,
   "id": "f1ff3a8d",
   "metadata": {},
   "outputs": [],
   "source": [
    "df_cellphone['ligand_spatially_variable'] = 0\n",
    "df_cellphone['receptor_spatially_variable'] = 0\n",
    "df_cellphone.head()"
   ]
  },
  {
   "cell_type": "code",
   "execution_count": null,
   "id": "ebfa75bc",
   "metadata": {},
   "outputs": [],
   "source": [
    "def is_partner_variable(partner, spatially_variable_genes):\n",
    "    print(partner)\n",
    "    res = 0\n",
    "    if '_' in partner:\n",
    "        print('partner is heteromeric')\n",
    "        partners = partner.split('_')\n",
    "        partners_variable = []\n",
    "        for p in partner: \n",
    "            if p in spatially_variable_genes:\n",
    "                partners_variable.append(p)\n",
    "        print(partners_variable)\n",
    "        if len(partners_variable) > 0:\n",
    "            print('at least one subunit of heteromeric partner are spatially variable')\n",
    "            res = 1\n",
    "        else:\n",
    "            res = 0\n",
    "    else: \n",
    "        print('partner is monomeric')\n",
    "        if partner in spatially_variable_genes:\n",
    "            print('partner is spatially variable')\n",
    "            res = 1\n",
    "        else:\n",
    "            res = 0\n",
    "    return res"
   ]
  },
  {
   "cell_type": "code",
   "execution_count": null,
   "id": "11e4e3bd",
   "metadata": {},
   "outputs": [],
   "source": [
    "tot_genes = filtered_summary_table.columns.to_list()[1:]"
   ]
  },
  {
   "cell_type": "code",
   "execution_count": null,
   "id": "e56b0f3d",
   "metadata": {},
   "outputs": [],
   "source": [
    "len(tot_genes)"
   ]
  },
  {
   "cell_type": "code",
   "execution_count": null,
   "id": "da3af53b",
   "metadata": {},
   "outputs": [],
   "source": [
    "spatially_variable_ligands_indices = []\n",
    "spatially_variable_receptors_indices = []\n",
    "for index, row in df_cellphone.iterrows():\n",
    "    ligand = row['ligand']\n",
    "    receptor = row['receptor']\n",
    "    ligand_spatially_variable = is_partner_variable(ligand, tot_genes)\n",
    "    receptor_spatially_variable = is_partner_variable(receptor, tot_genes)\n",
    "    if ligand_spatially_variable == 1:\n",
    "        spatially_variable_ligands_indices.append(index)\n",
    "    if receptor_spatially_variable == 1:\n",
    "        spatially_variable_receptors_indices.append(index)"
   ]
  },
  {
   "cell_type": "code",
   "execution_count": null,
   "id": "5a678a6a",
   "metadata": {},
   "outputs": [],
   "source": [
    "print(len(spatially_variable_ligands_indices), len(spatially_variable_receptors_indices))"
   ]
  },
  {
   "cell_type": "code",
   "execution_count": null,
   "id": "7d2607c5",
   "metadata": {},
   "outputs": [],
   "source": [
    "# Convert lists to sets and use the union() method\n",
    "union_set = set(spatially_variable_ligands_indices).union(set(spatially_variable_receptors_indices))\n",
    "\n",
    "# If you need the result as a list\n",
    "union_list = list(union_set)\n"
   ]
  },
  {
   "cell_type": "code",
   "execution_count": null,
   "id": "d7c53c63",
   "metadata": {},
   "outputs": [],
   "source": [
    "len(union_list)"
   ]
  },
  {
   "cell_type": "code",
   "execution_count": null,
   "id": "06268298",
   "metadata": {},
   "outputs": [],
   "source": [
    "df_cellphone = df_cellphone.iloc[union_list, :]"
   ]
  },
  {
   "cell_type": "code",
   "execution_count": null,
   "id": "57bdb7f2",
   "metadata": {},
   "outputs": [],
   "source": [
    "df_cellphone.loc[spatially_variable_ligands_indices, 'ligand_spatially_variable'] = 1\n",
    "df_cellphone.loc[spatially_variable_receptors_indices, 'receptor_spatially_variable'] = 1"
   ]
  },
  {
   "cell_type": "code",
   "execution_count": null,
   "id": "33aca5e9",
   "metadata": {},
   "outputs": [],
   "source": [
    "df_cellphone.head()"
   ]
  },
  {
   "cell_type": "code",
   "execution_count": null,
   "id": "3b64b756",
   "metadata": {},
   "outputs": [],
   "source": [
    "def bin_axis(adata, n_bins = 10, axis_name = 'FemaleReproductiveAxis'):\n",
    "    max_val = np.nanquantile(adata.obs[axis_name],0.9999)\n",
    "    min_val = np.nanquantile(adata.obs[axis_name],0.0001)\n",
    "\n",
    "    incr_uva = (max_val-min_val)/n_bins\n",
    "    uva_bins = []\n",
    "    for i in range(0,n_bins+1):\n",
    "        uva_bins.append(min_val+(i*incr_uva))\n",
    "\n",
    "    adata.obs['binned_' + axis_name + '_' + str(n_bins) + '_bins'] = pd.cut(adata.obs[axis_name], bins = uva_bins, labels=uva_bins[:-1])\n",
    "    return adata"
   ]
  },
  {
   "cell_type": "code",
   "execution_count": null,
   "id": "3d95d1fa",
   "metadata": {},
   "outputs": [],
   "source": [
    "def grouped_obs_percent(adata, group_key, gene):\n",
    "    getX = lambda x: x.X\n",
    "    adata = adata[:, gene]\n",
    "    grouped = adata.obs.groupby(group_key)\n",
    "    out = pd.DataFrame(\n",
    "        np.zeros((adata.shape[1], len(grouped)), dtype=np.float64),\n",
    "        columns=list(grouped.groups.keys()),\n",
    "        index=adata.var_names\n",
    "    )\n",
    "\n",
    "    for group, idx in grouped.indices.items():\n",
    "        X = getX(adata[idx])\n",
    "        X.data = X.data > 0\n",
    "        perc = np.asarray(np.sum(X,axis=0)/X.shape[0]).reshape(-1)\n",
    "        out[group] = [round(i, 2) for i in perc ]\n",
    "    return out\n",
    "\n",
    "\n",
    "def grouped_obs_mean(adata, group_key, gene):\n",
    "    getX = lambda x: x.X\n",
    "    adata = adata[:, gene]\n",
    "    grouped = adata.obs.groupby(group_key)\n",
    "    out = pd.DataFrame(\n",
    "        np.zeros((adata.shape[1], len(grouped)), dtype=np.float64),\n",
    "        columns=list(grouped.groups.keys()),\n",
    "        index=adata.var_names\n",
    "    )\n",
    "\n",
    "    for group, idx in grouped.indices.items():\n",
    "        X = getX(adata[idx])\n",
    "        out[group] = np.ravel(X.mean(axis=0, dtype=np.float64))\n",
    "    out_min_max = (out - out.loc[gene].min()) / (out.loc[gene].max() - out.loc[gene].min())\n",
    "    return out_min_max"
   ]
  },
  {
   "cell_type": "code",
   "execution_count": null,
   "id": "02ccda21",
   "metadata": {},
   "outputs": [],
   "source": [
    "def have_common_elements(list1, list2, n_elements):\n",
    "    # Convert the lists to sets to find the common elements\n",
    "    set1 = set(list1)\n",
    "    set2 = set(list2)\n",
    "    \n",
    "    # Find the common elements\n",
    "    common_elements = set1.intersection(set2)\n",
    "    \n",
    "    # Check if there are at least n common elements\n",
    "    return len(common_elements) >= n_elements"
   ]
  },
  {
   "cell_type": "code",
   "execution_count": null,
   "id": "b418549a",
   "metadata": {},
   "outputs": [],
   "source": [
    "def has_consecutive_numbers(ordered_list):\n",
    "    \n",
    "    # Iterate through the sorted list\n",
    "    for i in range(len(ordered_list) - 1):\n",
    "        # Check if the current and next elements are consecutive\n",
    "        if ordered_list[i] + 1 == ordered_list[i + 1]:\n",
    "            return True  # Found consecutive numbers\n",
    "    \n",
    "    return False  # No consecutive numbers found\n"
   ]
  },
  {
   "cell_type": "code",
   "execution_count": null,
   "id": "19b50f15",
   "metadata": {},
   "outputs": [],
   "source": [
    "import scanpy as sc\n",
    "import anndata as ad"
   ]
  },
  {
   "cell_type": "code",
   "execution_count": null,
   "id": "e9af1310",
   "metadata": {},
   "outputs": [],
   "source": [
    "wolffian_mese = sc.read('/lustre/scratch126/cellgen/team292/vl6/VISIUM/malereproductiveaxis_mese_downsampled_cytassist.h5ad')\n",
    "wolffian_mese"
   ]
  },
  {
   "cell_type": "code",
   "execution_count": null,
   "id": "b344d89a",
   "metadata": {},
   "outputs": [],
   "source": [
    "wolffian_mese.X[20:30, 20:30].toarray()"
   ]
  },
  {
   "cell_type": "code",
   "execution_count": null,
   "id": "ffb0f70f",
   "metadata": {},
   "outputs": [],
   "source": [
    "wolffian_epi = sc.read('/lustre/scratch126/cellgen/team292/vl6/VISIUM/malereproductiveaxis_epi_downsampled_cytassist.h5ad')\n",
    "wolffian_epi"
   ]
  },
  {
   "cell_type": "code",
   "execution_count": null,
   "id": "526b48db",
   "metadata": {},
   "outputs": [],
   "source": [
    "import seaborn as sns"
   ]
  },
  {
   "cell_type": "code",
   "execution_count": null,
   "id": "afac74a5",
   "metadata": {},
   "outputs": [],
   "source": [
    "def evaluate_spatially_variable_ligand_interaction(adata_mese, adata_epi, axis_name, n_bins, cellphone_filtered, min_prop, \n",
    "                                                  spatially_variable_genes):\n",
    "\n",
    "    \n",
    "    # iterate over interactions and keep those that satisfy requirements \n",
    "    passed = []\n",
    "    cellphone_filtered['starred_bins'] = 'none'\n",
    "    for index, row in cellphone_filtered.iterrows():\n",
    "        \n",
    "        if row['ligand_spatially_variable'] == 1:\n",
    "            print('Looking at interaction between {} and {}'.format(row['ligand'], row['receptor']))\n",
    "            # mesenchymal ligand is spatially variable, so plot the ligand expression in the binned axis \n",
    "            lig = row['ligand']\n",
    "            if lig in adata_mese.var_names.to_list():\n",
    "                # Compute fraction of spots expressing the ligand \n",
    "                lig_frac = grouped_obs_percent(adata_mese, 'binned_' + axis_name + '_' + str(n_bins) + '_bins', lig)\n",
    "                print(lig_frac)\n",
    "                lig_frac = np.where((lig_frac > min_prop).all(axis=0))[0]\n",
    "                \n",
    "                if len(lig_frac) >= 2:\n",
    "                    print('There are {} bins that express {} in more than 0.3 of cells'.format(len(lig_frac), \n",
    "                                                                                         lig))\n",
    "                    # Compute averaged, 0-1 normalised expression of ligand in each bin \n",
    "                    out_lig = grouped_obs_mean(adata_mese, 'binned_' + axis_name + '_' + str(n_bins) + '_bins', lig)\n",
    "\n",
    "                    # Get the bin values where 0-1 normalised expression is > 0.4 \n",
    "                    lig_high_expr_bins = np.where((out_lig > 0.4).all(axis=0))[0]\n",
    "                    lig_high_expr_bins = [i for i in lig_high_expr_bins if i in lig_frac]\n",
    "                    print(lig_high_expr_bins)\n",
    "\n",
    "                    rec = row['receptor']\n",
    "                    if '_' in rec:\n",
    "                        recs = rec.split('_')\n",
    "                        if all(element in adata_epi.var_names.to_list() for element in recs):\n",
    "                            print('All receptors for {} in var_names'.format(lig))\n",
    "                            recs_list = [] \n",
    "                            for r in recs:\n",
    "                                # Compute fraction of spots in bin that express each of the receptor subunits \n",
    "                                out_rec = grouped_obs_percent(adata_epi, 'binned_' + axis_name + '_' + str(n_bins) + '_bins', r)\n",
    "                                recs_list.append(out_rec)\n",
    "                            out_recs = pd.concat(recs_list, ignore_index=False)\n",
    "                            print(out_recs)\n",
    "                            rec_min_percent = np.where((out_recs > min_prop).all(axis=0))[0]\n",
    "                            print(rec_min_percent)\n",
    "                            consec = has_consecutive_numbers(rec_min_percent)\n",
    "                            if consec and have_common_elements(lig_high_expr_bins, rec_min_percent, 2):\n",
    "                                print('There is an interaction')\n",
    "                                plt.figure(figsize=(3, 5))\n",
    "                                sns.heatmap(out_lig.T, cmap='OrRd', annot=True, fmt=\".2f\", linewidths=.5, \n",
    "                                                  cbar = True)\n",
    "                                plt.figure(figsize=(3, 5))\n",
    "                                sns.heatmap(out_recs.T, cmap='OrRd', annot=True, fmt=\".2f\", linewidths=.5, \n",
    "                                                  cbar = True)\n",
    "                                passed.append(index)\n",
    "                                starred_bins = [str(i) for i in lig_high_expr_bins if i in rec_min_percent]\n",
    "                                cellphone_filtered.loc[index, 'starred_bins'] = ','.join(starred_bins)\n",
    "                            else:\n",
    "                                print('There is NO interaction')\n",
    "                        else:\n",
    "                            print('At least one receptor for {} not in var_names'.format(lig))\n",
    "                    else:\n",
    "                        if rec in adata_epi.var_names.to_list():\n",
    "                            print('Receptor for {} in var_names'.format(lig))\n",
    "\n",
    "                            out_rec = grouped_obs_percent(adata_epi, 'binned_' + axis_name + '_' + str(n_bins) + '_bins', rec)\n",
    "                            print(out_rec)\n",
    "                            rec_min_percent = np.where((out_rec > min_prop).all(axis=0))[0]\n",
    "                            print(rec_min_percent)\n",
    "                            consec = has_consecutive_numbers(rec_min_percent)\n",
    "\n",
    "                            if consec and have_common_elements(lig_high_expr_bins, rec_min_percent, 2):\n",
    "                                print('There is an interaction')\n",
    "                                plt.figure(figsize=(3, 5))\n",
    "                                sns.heatmap(out_lig.T, cmap='OrRd', annot=True, fmt=\".2f\", linewidths=.5, \n",
    "                                                  cbar = True)\n",
    "                                plt.figure(figsize=(3, 5))\n",
    "                                sns.heatmap(out_rec.T, cmap='OrRd', annot=True, fmt=\".2f\", linewidths=.5, \n",
    "                                                  cbar = True)\n",
    "                                passed.append(index)\n",
    "                                starred_bins = [str(i) for i in lig_high_expr_bins if i in rec_min_percent]\n",
    "                                cellphone_filtered.loc[index, 'starred_bins'] = ','.join(starred_bins)\n",
    "                            else:\n",
    "                                print('There is NO interaction')\n",
    "                        else:\n",
    "                            print('Receptor for {} not in var_names'.format(lig))\n",
    "            \n",
    "    print(passed)        \n",
    "    return cellphone_filtered.loc[passed, :]\n",
    "\n",
    "            \n",
    "            \n",
    "        "
   ]
  },
  {
   "cell_type": "code",
   "execution_count": null,
   "id": "1f0191c9",
   "metadata": {},
   "outputs": [],
   "source": [
    "filter_1 = evaluate_spatially_variable_ligand_interaction(wolffian_mese, wolffian_epi, 'MaleReproductiveAxis',\n",
    "                                                         6, df_cellphone, 0.2, tot_genes)"
   ]
  },
  {
   "cell_type": "code",
   "execution_count": null,
   "id": "68e14527",
   "metadata": {},
   "outputs": [],
   "source": [
    "filter_1"
   ]
  },
  {
   "cell_type": "code",
   "execution_count": null,
   "id": "689beb27",
   "metadata": {},
   "outputs": [],
   "source": [
    "filter_1_partners = np.unique(filter_1['ligand'].to_list())"
   ]
  },
  {
   "cell_type": "code",
   "execution_count": null,
   "id": "75b33da1",
   "metadata": {},
   "outputs": [],
   "source": [
    "len(np.unique(filter_1['ligand'].to_list()))"
   ]
  },
  {
   "cell_type": "code",
   "execution_count": null,
   "id": "7621b847",
   "metadata": {},
   "outputs": [],
   "source": [
    "filter_1_partners"
   ]
  },
  {
   "cell_type": "code",
   "execution_count": null,
   "id": "4d564f82",
   "metadata": {},
   "outputs": [],
   "source": [
    "def evaluate_spatially_variable_receptor_interaction(adata_mese, adata_epi, axis_name, n_bins, cellphone_filtered, min_prop, \n",
    "                                                  spatially_variable_genes):\n",
    "    \n",
    "    \n",
    "    # iterate over interactions and keep those that satisfy requirements \n",
    "    passed = []\n",
    "    cellphone_filtered['starred_bins'] = 'none'\n",
    "    for index, row in cellphone_filtered.iterrows():\n",
    "        \n",
    "        \n",
    "        if row['receptor_spatially_variable'] == 1:\n",
    "            print('Looking at interaction between {} and {}'.format(row['ligand'], row['receptor']))\n",
    "            print('Assuming this is not a heteromeric interaction!')\n",
    "            # mesenchymal ligand is spatially variable, so plot the ligand expression in the binned axis \n",
    "            rec = row['receptor']\n",
    "            if rec in adata_mese.var_names.to_list():\n",
    "                # Compute fraction of spots expressing the ligand \n",
    "                rec_frac = grouped_obs_percent(adata_mese, 'binned_' + axis_name + '_' + str(n_bins) + '_bins', rec)\n",
    "                rec_frac = np.where((rec_frac > min_prop).all(axis=0))[0]\n",
    "                print('There are {} bins that express {} in more than 20% of cells'.format(len(rec_frac), \n",
    "                                                                                         rec))\n",
    "                if len(rec_frac) >= 2:\n",
    "\n",
    "                    # Compute averaged, 0-1 normalised expression of ligand in each bin \n",
    "                    out_rec = grouped_obs_mean(adata_mese, 'binned_' + axis_name + '_' + str(n_bins) + '_bins', rec)\n",
    "\n",
    "                    # Get the bin values where 0-1 normalised expression is > 0.4 \n",
    "                    rec_high_expr_bins = np.where((out_rec > 0.4).all(axis=0))[0]\n",
    "                    rec_high_expr_bins = [i for i in rec_high_expr_bins if i in rec_frac]\n",
    "                    print(rec_high_expr_bins)\n",
    "\n",
    "                    lig = row['ligand']\n",
    "                    \n",
    "                    if '_' in lig:\n",
    "                        ligs = lig.split('_')\n",
    "                        if all(element in adata_epi.var_names.to_list() for element in ligs):\n",
    "                            print('All ligands for {} in var_names'.format(rec))\n",
    "                            ligs_list = [] \n",
    "                            for l in ligs:\n",
    "                                # Compute fraction of spots in bin that express each of the receptor subunits \n",
    "                                out_lig = grouped_obs_percent(adata_epi, 'binned_' + axis_name + '_' + str(n_bins) + '_bins', l)\n",
    "                                ligs_list.append(out_lig)\n",
    "                            out_ligs = pd.concat(ligs_list, ignore_index=False)\n",
    "                            print(out_ligs)\n",
    "                            lig_min_percent = np.where((out_ligs > min_prop).all(axis=0))[0]\n",
    "                            print(lig_min_percent)\n",
    "                            consec = has_consecutive_numbers(lig_min_percent)\n",
    "                            if consec and have_common_elements(rec_high_expr_bins, lig_min_percent, 2):\n",
    "                                print('There is an interaction')\n",
    "                                plt.figure(figsize=(3, 5))\n",
    "                                sns.heatmap(out_rec.T, cmap='OrRd', annot=True, fmt=\".2f\", linewidths=.5, \n",
    "                                                  cbar = True)\n",
    "                                plt.figure(figsize=(3, 5))\n",
    "                                sns.heatmap(out_ligs.T, cmap='OrRd', annot=True, fmt=\".2f\", linewidths=.5, \n",
    "                                                  cbar = True)\n",
    "                                passed.append(index)\n",
    "                                starred_bins = [str(i) for i in rec_high_expr_bins if i in lig_min_percent]\n",
    "                                cellphone_filtered.loc[index, 'starred_bins'] = ','.join(starred_bins)\n",
    "                            else:\n",
    "                                print('There is NO interaction')\n",
    "                        else:\n",
    "                            print('At least one ligand for {} not in var_names'.format(rec))\n",
    "                    else:\n",
    "                        if lig in adata_epi.var_names.to_list():\n",
    "                            print('Ligand for {} in var_names'.format(rec))\n",
    "\n",
    "                            out_lig = grouped_obs_percent(adata_epi, 'binned_' + axis_name + '_' + str(n_bins) + '_bins', lig)\n",
    "                            print(out_lig)\n",
    "                            lig_min_percent = np.where((out_lig > min_prop).all(axis=0))[0]\n",
    "                            print(lig_min_percent)\n",
    "                            consec = has_consecutive_numbers(lig_min_percent)\n",
    "\n",
    "                            if consec and have_common_elements(rec_high_expr_bins, lig_min_percent, 2):\n",
    "                                print('There is an interaction')\n",
    "                                plt.figure(figsize=(3, 5))\n",
    "                                sns.heatmap(out_rec.T, cmap='OrRd', annot=True, fmt=\".2f\", linewidths=.5, \n",
    "                                                  cbar = True)\n",
    "                                plt.figure(figsize=(3, 5))\n",
    "                                sns.heatmap(out_lig.T, cmap='OrRd', annot=True, fmt=\".2f\", linewidths=.5, \n",
    "                                                  cbar = True)\n",
    "                                passed.append(index)\n",
    "                                starred_bins = [str(i) for i in rec_high_expr_bins if i in lig_min_percent]\n",
    "                                cellphone_filtered.loc[index, 'starred_bins'] = ','.join(starred_bins)\n",
    "                            else:\n",
    "                                print('There is NO interaction')\n",
    "                        else:\n",
    "                            print('Ligand for {} not in var_names'.format(rec))\n",
    "            \n",
    "    print(passed)        \n",
    "    return cellphone_filtered.loc[passed, :]\n"
   ]
  },
  {
   "cell_type": "code",
   "execution_count": null,
   "id": "1c49f98a",
   "metadata": {},
   "outputs": [],
   "source": [
    "filter_2 = evaluate_spatially_variable_receptor_interaction(wolffian_mese, wolffian_epi, 'MaleReproductiveAxis',\n",
    "                                                         6, df_cellphone, 0.2, tot_genes)"
   ]
  },
  {
   "cell_type": "code",
   "execution_count": null,
   "id": "fadad9f2",
   "metadata": {},
   "outputs": [],
   "source": [
    "len(np.unique(filter_2['receptor']))"
   ]
  },
  {
   "cell_type": "code",
   "execution_count": null,
   "id": "60dae69c",
   "metadata": {},
   "outputs": [],
   "source": [
    "filter_2_partners = np.unique(filter_2['receptor'].to_list())"
   ]
  },
  {
   "cell_type": "code",
   "execution_count": null,
   "id": "765eb37b",
   "metadata": {},
   "outputs": [],
   "source": [
    "print(filter_2_partners)"
   ]
  },
  {
   "cell_type": "code",
   "execution_count": null,
   "id": "ba388c84",
   "metadata": {},
   "outputs": [],
   "source": [
    "filter_2_selected = filter_2[filter_2['receptor'].isin(filter_2_partners)]"
   ]
  },
  {
   "cell_type": "code",
   "execution_count": null,
   "id": "ba8afd51",
   "metadata": {},
   "outputs": [],
   "source": [
    "filter_2_selected"
   ]
  },
  {
   "cell_type": "code",
   "execution_count": null,
   "id": "a7e5056c",
   "metadata": {},
   "outputs": [],
   "source": [
    "spatially_variable_partners = list(filter_1_partners)"
   ]
  },
  {
   "cell_type": "code",
   "execution_count": null,
   "id": "a910d952",
   "metadata": {},
   "outputs": [],
   "source": [
    "spatially_variable_partners.extend(list(filter_2_partners))"
   ]
  },
  {
   "cell_type": "code",
   "execution_count": null,
   "id": "705a9b6d",
   "metadata": {},
   "outputs": [],
   "source": [
    "spatially_variable_partners = list(np.unique(spatially_variable_partners))"
   ]
  },
  {
   "cell_type": "code",
   "execution_count": null,
   "id": "61a3eaf7",
   "metadata": {},
   "outputs": [],
   "source": [
    "len(spatially_variable_partners)"
   ]
  },
  {
   "cell_type": "code",
   "execution_count": null,
   "id": "229d4739",
   "metadata": {},
   "outputs": [],
   "source": [
    "print(spatially_variable_partners)"
   ]
  },
  {
   "cell_type": "code",
   "execution_count": null,
   "id": "e764d449",
   "metadata": {},
   "outputs": [],
   "source": []
  }
 ],
 "metadata": {
  "kernelspec": {
   "display_name": "atac_env",
   "language": "python",
   "name": "atac_env"
  },
  "language_info": {
   "codemirror_mode": {
    "name": "ipython",
    "version": 3
   },
   "file_extension": ".py",
   "mimetype": "text/x-python",
   "name": "python",
   "nbconvert_exporter": "python",
   "pygments_lexer": "ipython3",
   "version": "3.8.6"
  }
 },
 "nbformat": 4,
 "nbformat_minor": 5
}
