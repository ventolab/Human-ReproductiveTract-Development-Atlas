{
 "cells": [
  {
   "cell_type": "markdown",
   "id": "a80189c5",
   "metadata": {},
   "source": [
    "## Stitch HCA_F_RepTsp13902013 & HCA_F_RepTsp13902014 (Uterovaginal canal)"
   ]
  },
  {
   "cell_type": "code",
   "execution_count": null,
   "id": "36b80e28",
   "metadata": {},
   "outputs": [],
   "source": [
    "# init \n",
    "import glob\n",
    "import numpy as np\n",
    "import os, sys, re\n",
    "from urllib.parse import urlparse\n",
    "import matplotlib.pyplot as plt\n",
    "import matplotlib as mpl\n",
    "from os import listdir\n",
    "from os.path import isfile, join\n",
    "from skimage.transform import rescale, resize, downscale_local_mean,  warp, AffineTransform\n",
    "from PIL import Image, ImageDraw, ImageFilter\n",
    "from skimage import measure, img_as_ubyte, color \n",
    "from skimage.measure import ransac\n",
    "import pandas as pd\n",
    "import math \n",
    "from sklearn.metrics.pairwise import euclidean_distances\n",
    "import cv2\n",
    "# from cellpose import utils, io, models, plot\n",
    "from numpy import genfromtxt\n",
    "import json"
   ]
  },
  {
   "cell_type": "markdown",
   "id": "4cd2e13c",
   "metadata": {},
   "source": [
    "### 1. Input images \n",
    "\n",
    "**tissue_hires_image.png** : this is a downsampled version of the original, full-resolution image provided by the user to spaceranger. Downsampling is obtained by box filtering, which averages RGB values in patches of pixels in the full resolution images to obtain an RGB value of one pixel in the downsampled image. Downsampled images maintain the aspect ratio of the original image. \n",
    "\n",
    " - For Visium slides of 6.5mm capture are, the **tissue_hires_image.png** has 2000 pixels in its largest dimension "
   ]
  },
  {
   "cell_type": "code",
   "execution_count": null,
   "id": "90d6509e",
   "metadata": {},
   "outputs": [],
   "source": [
    "Image.MAX_IMAGE_PIXELS = 20000000000\n",
    "os.chdir('/home/jovyan/RepTract/SPATIAL_ANALYSIS/ImageStitching/')\n",
    "imgP1 = Image.open('OriginalImages/HCA_F_RepTsp13902013_tissue_hires_image.png')\n",
    "img1 = np.array(imgP1)\n",
    "print(\"Shape of image 1 is: {}\".format(img1.shape))\n",
    "imgP2 = Image.open('OriginalImages/HCA_F_RepTsp13902014_tissue_hires_image.png')\n",
    "img2 = np.array(imgP2)\n",
    "print(\"Shape of image 2 is: {}\".format(img2.shape))\n"
   ]
  },
  {
   "cell_type": "code",
   "execution_count": null,
   "id": "526565a2",
   "metadata": {},
   "outputs": [],
   "source": [
    "# these are a result from the TrakEM plugin in Fiji and can be found in the project .xml file that is generated \n",
    "\n",
    "matrix1 = [[0.5995397990218161,-0.02349530567752387],[0.02349530567752387,0.5995397990218161],[1.7799452364742372,511.3238727808189]]\n",
    "matrix2 = [[0.6,0.0],[0.0,0.6],[678.2000000000002,406.4000000000001]]\n",
    "\n",
    "M1 = np.asmatrix(np.array(matrix1)).T\n",
    "M2 = np.asmatrix(np.array(matrix2)).T"
   ]
  },
  {
   "cell_type": "markdown",
   "id": "ee9e2efb",
   "metadata": {},
   "source": [
    "### 2. Affine transformation\n",
    "\n",
    "An affine transformation is any transformation that preserves collinearity, parallelism as well as the ratio of distances between the points (e.g. midpoint of a line remains the midpoint after transformation). It doesn’t necessarily preserve distances and angles.\n",
    "\n",
    "Translation, rotation, scaling, etc are all affine transformations as all the above properties are preserved in these transformations. To understand in simple terms, one can think of the affine transformation as a composition of rotation, translation, scaling, and shear."
   ]
  },
  {
   "cell_type": "markdown",
   "id": "3fd741c2",
   "metadata": {},
   "source": [
    "#### Usage of cv2.warpAffine() \n",
    "\n",
    "= function that applies an affine transformation to an image\n",
    "\n",
    "dst = cv2.warpAffine(*src*, *M*, *dsize*)\n",
    " \n",
    " - *src*: input image\n",
    " - *M*: Transformation matrix\n",
    " - *dsize*: size of the output image"
   ]
  },
  {
   "cell_type": "code",
   "execution_count": null,
   "id": "5b3c0790",
   "metadata": {},
   "outputs": [],
   "source": [
    "dst1 = cv2.warpAffine(img1,M1,(2100,2100))\n",
    "dst2 = cv2.warpAffine(img2,M2,(2100,2100))"
   ]
  },
  {
   "cell_type": "code",
   "execution_count": null,
   "id": "28ea6b6d",
   "metadata": {},
   "outputs": [],
   "source": [
    "plt.figure(dpi=200)\n",
    "plt.imshow(dst1)"
   ]
  },
  {
   "cell_type": "code",
   "execution_count": null,
   "id": "2cf320d7",
   "metadata": {},
   "outputs": [],
   "source": [
    "plt.figure(dpi=200)\n",
    "plt.imshow(dst2)"
   ]
  },
  {
   "cell_type": "markdown",
   "id": "4087fcdc",
   "metadata": {},
   "source": [
    "### 3. Create masks around the images"
   ]
  },
  {
   "cell_type": "code",
   "execution_count": null,
   "id": "3be973f4",
   "metadata": {},
   "outputs": [],
   "source": [
    "lowbound = np.array([1, 1, 0])\n",
    "upbound = np.array([255, 255, 255])"
   ]
  },
  {
   "cell_type": "code",
   "execution_count": null,
   "id": "3212b7ac",
   "metadata": {},
   "outputs": [],
   "source": [
    "mask1 = cv2.inRange(dst1, lowbound, upbound)"
   ]
  },
  {
   "cell_type": "code",
   "execution_count": null,
   "id": "928966c7",
   "metadata": {},
   "outputs": [],
   "source": [
    "plt.figure(dpi=200)\n",
    "plt.imshow(mask1)"
   ]
  },
  {
   "cell_type": "code",
   "execution_count": null,
   "id": "a0eb6540",
   "metadata": {},
   "outputs": [],
   "source": [
    "mask2 = cv2.inRange(dst2, lowbound, upbound)"
   ]
  },
  {
   "cell_type": "code",
   "execution_count": null,
   "id": "c5468b09",
   "metadata": {},
   "outputs": [],
   "source": [
    "plt.figure(dpi=200)\n",
    "plt.imshow(mask2)"
   ]
  },
  {
   "cell_type": "markdown",
   "id": "86b5f9e8",
   "metadata": {},
   "source": [
    "### 4. Get the overlap between the two masks \n",
    "\n",
    "The reason we do the operation on masks is that the **bitwise_and** operation calculates the per-element bit-wise logical conjunction of two arrays and applying directly to the image gives funky results. The formula is:\n",
    "\n",
    "dst(I) = src1(I) ∧ src2(I) if mask(I) != 0"
   ]
  },
  {
   "cell_type": "code",
   "execution_count": null,
   "id": "85a92044",
   "metadata": {},
   "outputs": [],
   "source": [
    "overlap = cv2.bitwise_and(mask1, mask2)"
   ]
  },
  {
   "cell_type": "code",
   "execution_count": null,
   "id": "51414055",
   "metadata": {},
   "outputs": [],
   "source": [
    "no_overlap = cv2.bitwise_xor(mask1, mask2)"
   ]
  },
  {
   "cell_type": "code",
   "execution_count": null,
   "id": "de7319de",
   "metadata": {},
   "outputs": [],
   "source": [
    "plt.figure(dpi=200)\n",
    "plt.imshow(overlap)"
   ]
  },
  {
   "cell_type": "markdown",
   "id": "792d36cb",
   "metadata": {},
   "source": [
    "### 5. Blend the images so that we get the same level of transparency for the whole image \n",
    "\n",
    "Haven't figured out how to do this elegantly, but because I haven't found a function in openCV that simply scales an image I am using **.addWeighted** of an image with itself to set the transparency of each image at half of its original value. "
   ]
  },
  {
   "cell_type": "code",
   "execution_count": null,
   "id": "a82dd38c",
   "metadata": {},
   "outputs": [],
   "source": [
    "partial1 = cv2.addWeighted(dst1, 0.5, dst1, 0, 0)\n",
    "partial2 = cv2.addWeighted(dst2, 0.5, dst2, 0, 0)"
   ]
  },
  {
   "cell_type": "markdown",
   "id": "796249b2",
   "metadata": {},
   "source": [
    "Now that both input images are set to half their original level of transparency, add them in the overlapping region so that it gets the original transparency"
   ]
  },
  {
   "cell_type": "code",
   "execution_count": null,
   "id": "3e010b7f",
   "metadata": {},
   "outputs": [],
   "source": [
    "partial_res_overlap = cv2.add(partial1, partial2, mask = overlap)"
   ]
  },
  {
   "cell_type": "code",
   "execution_count": null,
   "id": "41a7df1d",
   "metadata": {},
   "outputs": [],
   "source": [
    "plt.figure(dpi=200)\n",
    "plt.imshow(partial_res_overlap)"
   ]
  },
  {
   "cell_type": "markdown",
   "id": "72950d7b",
   "metadata": {},
   "source": [
    "Add the original images in their non-overlapping regions"
   ]
  },
  {
   "cell_type": "code",
   "execution_count": null,
   "id": "9c70d026",
   "metadata": {},
   "outputs": [],
   "source": [
    "partial_res_no_overlap = cv2.add(dst1, dst2, mask = ~overlap)"
   ]
  },
  {
   "cell_type": "code",
   "execution_count": null,
   "id": "d523e2e7",
   "metadata": {},
   "outputs": [],
   "source": [
    "plt.figure(dpi=200)\n",
    "plt.imshow(partial_res_no_overlap)"
   ]
  },
  {
   "cell_type": "markdown",
   "id": "6ce4a30e",
   "metadata": {},
   "source": [
    "Add the two partial results"
   ]
  },
  {
   "cell_type": "code",
   "execution_count": null,
   "id": "b18581b3",
   "metadata": {},
   "outputs": [],
   "source": [
    "result = cv2.add(partial_res_overlap, partial_res_no_overlap)"
   ]
  },
  {
   "cell_type": "code",
   "execution_count": null,
   "id": "e0061158",
   "metadata": {},
   "outputs": [],
   "source": [
    "plt.figure(dpi=200)\n",
    "plt.imshow(result)"
   ]
  },
  {
   "cell_type": "code",
   "execution_count": null,
   "id": "366ad5f1",
   "metadata": {},
   "outputs": [],
   "source": [
    "plt.figure(dpi=200)\n",
    "plt.imshow(result)\n",
    "res1 = Image.fromarray(dst1)\n",
    "res1.save('HCA_F_RepTsp13902013_tissue_hires_image.png')\n",
    "res2 = Image.fromarray(dst2)\n",
    "res2.save('HCA_F_RepTsp13902014_tissue_hires_image.png')\n",
    "res = Image.fromarray(result)\n",
    "res.save('HCA_F_RepTsp13902013_14_tissue_hires_image.png')"
   ]
  },
  {
   "cell_type": "markdown",
   "id": "461ff5ba",
   "metadata": {},
   "source": [
    "### 6. From pixels to spots \n",
    "\n",
    " - **scalefactors_json.json** file contains the following fields: \n",
    "     - *tissue_hires_scalef* = a scaling factor that converts pixel positions in the original, full-resolution image to pixel positions in the **tissue_hires_image.png**\n",
    "     - *fiducial_diameter_fullres* = the number of pixels that span the diameter of a fiducial spot in the original, full resolution image \n",
    "     - *spot_diameter_fullres* = the number of pixels that span the diameter of a theoretical 65um spot in the original, full-resolution image \n",
    "     \n",
    " - **tissue_positions.csv** file contains a table with rows that correspond to spots (! this file used to be called tissue_positions_list.csv and has changed names in spaceranger v2.0. I am using spaceranger v2.0 but have renamed the file otherwise scanpy is unable to read the object). Excluding the header, the file has 4992 rows for Visium slides with 6.5 mm capture area and it is the number of spots in the spatial array. The columns correspond to the following fields: \n",
    "     - *barcode* = sequence barcode associated to the spot \n",
    "     - *in_tissue* = binary, indicating if spot falls inside (1) or outside (0) the tissue \n",
    "     - *array_row* = for Visium slide 6.5 mm capture are, the row coordinate of the spot in the array from 0 to 77 \n",
    "     - *array_col* = the column coordinate of the spot in the array. In order to express the \"orange crate\" arrangement of the spots, for Visium slide 6.5 mm catpure area this column index uses even numbers from 0 to 126 on even row and odd numbers from 1 to 127 for odd rows with each row resulting in 64 spots. \n",
    "     - *pxl_row_in_fullres* = the row pixel coordinates of the center of the spot in the full resolution image \n",
    "     - *pxl_col_in_fullres* = the column pixel coordinates of the center of the spot in the full resolution image"
   ]
  },
  {
   "cell_type": "code",
   "execution_count": null,
   "id": "1afc56c7",
   "metadata": {},
   "outputs": [],
   "source": [
    "import json\n",
    "spots1 = pd.read_csv('/nfs/team292/vl6/FetalReproductiveTract/VISIUM/data/HCA_F_RepTsp13902013/spatial/tissue_positions_list.csv',header=None)\n",
    "f1 = open('/nfs/team292/vl6/FetalReproductiveTract/VISIUM/data/HCA_F_RepTsp13902013/spatial/scalefactors_json.json'); data1 = json.load(f1); scale1 = data1['tissue_hires_scalef'] \n",
    "spots2 = pd.read_csv('/nfs/team292/vl6/FetalReproductiveTract/VISIUM/data/HCA_F_RepTsp13902014/spatial/tissue_positions_list.csv',header=None)\n",
    "f2 = open('/nfs/team292/vl6/FetalReproductiveTract/VISIUM/data/HCA_F_RepTsp13902014/spatial/scalefactors_json.json'); data2 = json.load(f2); scale2 = data2['tissue_hires_scalef'] "
   ]
  },
  {
   "cell_type": "code",
   "execution_count": null,
   "id": "12ebd367",
   "metadata": {},
   "outputs": [],
   "source": [
    "spots1.head()"
   ]
  },
  {
   "cell_type": "markdown",
   "id": "98aa49aa",
   "metadata": {},
   "source": [
    "Both images have the same scale factors"
   ]
  },
  {
   "cell_type": "code",
   "execution_count": null,
   "id": "d558704a",
   "metadata": {},
   "outputs": [],
   "source": [
    "print(data1['tissue_hires_scalef'])\n",
    "print(data2['tissue_hires_scalef'])"
   ]
  },
  {
   "cell_type": "code",
   "execution_count": null,
   "id": "dcd34754",
   "metadata": {},
   "outputs": [],
   "source": [
    "scale2"
   ]
  },
  {
   "cell_type": "code",
   "execution_count": null,
   "id": "775c0e2d",
   "metadata": {},
   "outputs": [],
   "source": [
    "# Create the Visium spot matrix by taking column and row pixel coordinates scaled by their scalefactors \n",
    "sp1 = np.asmatrix(np.vstack((np.array(spots1.iloc[:,5].values*scale1),np.array(spots1.iloc[:,4].values*scale1),np.ones(spots1.iloc[:,4].values.shape[0]))))\n",
    "# Correct shape of transformation matrix \n",
    "M11 = np.append(M1, [[0,0,1]], axis = 0)\n",
    "# Apply transformation matrix \n",
    "sp1TTarget = np.matmul(M11,sp1)\n",
    "\n",
    "\n",
    "# Create the Visium spot matrix by taking column and row pixel coordinates scaled by their scalefactors \n",
    "sp2 = np.asmatrix(np.vstack((np.array(spots2.iloc[:,5].values*scale2),np.array(spots2.iloc[:,4].values*scale2),np.ones(spots2.iloc[:,4].values.shape[0]))))\n",
    "# Correct shape of transformation matrix \n",
    "M22 = np.append(M2, [[0,0,1]], axis = 0)\n",
    "# Apply transformation matrix \n",
    "sp2TTarget = np.matmul(M22,sp2)\n"
   ]
  },
  {
   "cell_type": "code",
   "execution_count": null,
   "id": "d3ed8ccc",
   "metadata": {},
   "outputs": [],
   "source": [
    "sp1TTarget.shape"
   ]
  },
  {
   "cell_type": "code",
   "execution_count": null,
   "id": "70a67763",
   "metadata": {},
   "outputs": [],
   "source": [
    "sp2TTarget.shape"
   ]
  },
  {
   "cell_type": "code",
   "execution_count": null,
   "id": "f3b41d26",
   "metadata": {},
   "outputs": [],
   "source": [
    "# Correct overlap and record the corresponding spots in both images\n",
    "corresponding_spots = {}\n",
    "for p in range(sp1TTarget[0].size):\n",
    "    sum_array = np.sum(np.abs(sp1TTarget[:-1,:]-sp2TTarget[:-1,p]),axis=0) # Remove the last dimension of all 1s and compute distance\n",
    "    min_dist = np.min(sum_array) \n",
    "    min_dist_indices = np.where(sum_array == min_dist)\n",
    "    assert len(min_dist_indices) == 2 # Make sure there is only one spot in image 1 that has minimal distance to the spot we are iterating in image 2\n",
    "    if min_dist<10:\n",
    "        # spots2.iloc[p,1] = 0 # Set the \"in_tissue\" value to 0 for the overlapping spots in image 2\n",
    "        corresponding_spots[min_dist_indices[1][0]] = p # Record correspondence of overlapping spots \n",
    "        \n",
    "        \n",
    "color = [(spots1.iloc[:,1].values).tolist(),(spots2.iloc[:,1].values*2).tolist()]\n",
    "plt.figure(dpi=600)\n",
    "plt.scatter([sp1TTarget[0,:].tolist(),sp2TTarget[0,:].tolist()],[sp1TTarget[1,:].tolist(),sp2TTarget[1,:].tolist()],s=0.1,c=color,alpha=0.7,facecolor=None)\n",
    "plt.axis('equal')\n",
    "plt.gca().invert_yaxis()"
   ]
  },
  {
   "cell_type": "code",
   "execution_count": null,
   "id": "a97636e7",
   "metadata": {},
   "outputs": [],
   "source": [
    "spots11 = spots1.copy()\n",
    "spots22 = spots2.copy()"
   ]
  },
  {
   "cell_type": "code",
   "execution_count": null,
   "id": "0752ccc0",
   "metadata": {},
   "outputs": [],
   "source": [
    "spots22.head()"
   ]
  },
  {
   "cell_type": "code",
   "execution_count": null,
   "id": "e4379943",
   "metadata": {},
   "outputs": [],
   "source": [
    "# correct coordinates\n",
    "spots11.iloc[:,-2:] =  (sp1TTarget[:-1,:].T*(1/scale1)).tolist()\n",
    "spots22.iloc[:,-2:] =  (sp2TTarget[:-1,:].T*(1/scale2)).tolist()"
   ]
  },
  {
   "cell_type": "code",
   "execution_count": null,
   "id": "b536af6f",
   "metadata": {},
   "outputs": [],
   "source": [
    "spots22.head()"
   ]
  },
  {
   "cell_type": "code",
   "execution_count": null,
   "id": "8eaf8e1c",
   "metadata": {},
   "outputs": [],
   "source": [
    "#make sure everything is ok \n",
    "color = [(spots11.iloc[:,1].values).tolist(),(spots22.iloc[:,1].values*2).tolist()]\n",
    "plt.figure(dpi=400)\n",
    "plt.scatter([spots11.iloc[:,4].values.tolist(),spots22.iloc[:,4].values.tolist()],[spots11.iloc[:,5].values.tolist(),spots22.iloc[:,5].values.tolist()],s=0.1,c=color,alpha=0.7,facecolor=None)\n",
    "plt.axis('equal')\n",
    "plt.gca().invert_yaxis()"
   ]
  },
  {
   "cell_type": "code",
   "execution_count": null,
   "id": "c19ab346",
   "metadata": {},
   "outputs": [],
   "source": [
    "spots11[0] = [\"HCA_F_RepTsp13902013_\"+i for i in spots11[0]]"
   ]
  },
  {
   "cell_type": "code",
   "execution_count": null,
   "id": "d90634df",
   "metadata": {},
   "outputs": [],
   "source": [
    "spots22[0] = [\"HCA_F_RepTsp13902014_\"+i for i in spots22[0]]"
   ]
  },
  {
   "cell_type": "markdown",
   "id": "203bf9a1",
   "metadata": {},
   "source": [
    "### Save the overlapping barcodes as .json file"
   ]
  },
  {
   "cell_type": "code",
   "execution_count": null,
   "id": "bf90429c",
   "metadata": {},
   "outputs": [],
   "source": [
    "overlapping_barcodes = {}\n",
    "for k, v in corresponding_spots.items():\n",
    "    overlapping_barcodes[spots11.iloc[k,0]] = spots22.iloc[v,0]"
   ]
  },
  {
   "cell_type": "code",
   "execution_count": null,
   "id": "a80c2fa5",
   "metadata": {},
   "outputs": [],
   "source": [
    "len(list(overlapping_barcodes.keys()))"
   ]
  },
  {
   "cell_type": "code",
   "execution_count": null,
   "id": "0a9c5a00",
   "metadata": {},
   "outputs": [],
   "source": [
    "len(np.unique(list(overlapping_barcodes.keys())))"
   ]
  },
  {
   "cell_type": "code",
   "execution_count": null,
   "id": "01b999dc",
   "metadata": {},
   "outputs": [],
   "source": [
    "import json\n",
    "with open(\"HCA_F_RepTsp13902013_14_overlapping_barcodes.json\", \"w\") as f:\n",
    "    json.dump(overlapping_barcodes, f)"
   ]
  },
  {
   "cell_type": "code",
   "execution_count": null,
   "id": "59024938",
   "metadata": {},
   "outputs": [],
   "source": [
    "spots11.to_csv('HCA_F_RepTsp13902013_tissue_positions_list.csv',header=False,index=False)\n",
    "spots22.to_csv('HCA_F_RepTsp13902014_tissue_positions_list.csv',header=False,index=False)"
   ]
  },
  {
   "cell_type": "code",
   "execution_count": null,
   "id": "67d17788",
   "metadata": {},
   "outputs": [],
   "source": []
  }
 ],
 "metadata": {
  "kernelspec": {
   "display_name": "imagespot",
   "language": "python",
   "name": "imagespot"
  },
  "language_info": {
   "codemirror_mode": {
    "name": "ipython",
    "version": 3
   },
   "file_extension": ".py",
   "mimetype": "text/x-python",
   "name": "python",
   "nbconvert_exporter": "python",
   "pygments_lexer": "ipython3",
   "version": "3.9.13"
  }
 },
 "nbformat": 4,
 "nbformat_minor": 5
}
